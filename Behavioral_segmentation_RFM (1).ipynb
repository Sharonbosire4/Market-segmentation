{
  "nbformat": 4,
  "nbformat_minor": 0,
  "metadata": {
    "colab": {
      "name": "Behavioral_segmentation_RFM.ipynb",
      "provenance": [],
      "collapsed_sections": []
    },
    "kernelspec": {
      "display_name": "Python 3",
      "name": "python3"
    },
    "language_info": {
      "name": "python"
    }
  },
  "cells": [
    {
      "cell_type": "markdown",
      "metadata": {
        "id": "NlrTvC7HjUyQ"
      },
      "source": [
        "#BEHAVIORAL SEGMENTATION\n",
        "\n",
        "Behavioral segmentation divides consumers according to behavior patterns as they interact with a company. As the name suggests, this category of segmentation studies the behavioral traits of consumers — their knowledge of, attitude towards, use of, likes/dislikes of, or response to a product, service, promotion, or brand.\n",
        "\n",
        "\n",
        "#IMPORTANCE\n",
        "*   Identifies the most engaged users\n",
        "*   Allows marketers to optimize their positioning and marketing messages toward the customer data at hand\n",
        "*   Provides refined personalized experiences\n",
        "\n",
        "# segments for grouping customers by:\n",
        "*   Purchase behavior & tendencies.\n",
        "*   Occasion and timing\n",
        "*   Benefits sought\n",
        "*   Customer loyalty\n",
        "\n"
      ]
    },
    {
      "cell_type": "code",
      "metadata": {
        "id": "fqRc_yPmKyai"
      },
      "source": [
        "import pandas as pd\n",
        "import numpy as np\n",
        "import matplotlib as pyplot\n",
        "import seaborn as sns\n",
        "from pymongo import MongoClient\n",
        "%matplotlib inline\n",
        "import matplotlib.pyplot as plt\n",
        "import seaborn as sns\n",
        "import datetime\n",
        "import plotly.express as px\n",
        "import datetime as dt\n",
        "from operator import attrgetter\n",
        "from sklearn.cluster import KMeans\n",
        "import warnings\n",
        "import os\n",
        "# importing DateTime module to convert extracted dates\n",
        "import datetime as dt"
      ],
      "execution_count": null,
      "outputs": []
    },
    {
      "cell_type": "code",
      "metadata": {
        "id": "TvLBnTxiLDVa"
      },
      "source": [
        "db_name = \"Processed_Thrifty_Database\"\n",
        "host = \"capstone-cosmos-db.mongo.cosmos.azure.com\"\n",
        "port = 10255\n",
        "username = \"capstone-cosmos-db\"\n",
        "password = \"BuYmUjcc9LwFDN2PdVNuUudZTG5ABlxPoZgdIoRlrugcfiF5Rm15REQOJL1dspgH28NeeJI5dOeMCwzqRRrCvg==\"\n",
        "args = \"ssl=true&retrywrites=false&ssl_cert_reqs=CERT_NONE\""
      ],
      "execution_count": null,
      "outputs": []
    },
    {
      "cell_type": "code",
      "metadata": {
        "id": "I2n4wgTILFwJ"
      },
      "source": [
        "connection_uri = f\"mongodb://{username}:{password}@{host}:{port}/{db_name}?{args}\"\n",
        "client = MongoClient(connection_uri)\n",
        " \n",
        "db = client[db_name]\n",
        "collection = db['Customer_Segmentation']"
      ],
      "execution_count": null,
      "outputs": []
    },
    {
      "cell_type": "code",
      "metadata": {
        "id": "6eErKzRELKYV",
        "colab": {
          "base_uri": "https://localhost:8080/",
          "height": 233
        },
        "outputId": "1a377368-6dbb-45ab-8ee8-75099d94bca7"
      },
      "source": [
        "data= pd.DataFrame(list(collection.find()))\n",
        "data.head(2)"
      ],
      "execution_count": null,
      "outputs": [
        {
          "output_type": "execute_result",
          "data": {
            "text/html": [
              "<div>\n",
              "<style scoped>\n",
              "    .dataframe tbody tr th:only-of-type {\n",
              "        vertical-align: middle;\n",
              "    }\n",
              "\n",
              "    .dataframe tbody tr th {\n",
              "        vertical-align: top;\n",
              "    }\n",
              "\n",
              "    .dataframe thead th {\n",
              "        text-align: right;\n",
              "    }\n",
              "</style>\n",
              "<table border=\"1\" class=\"dataframe\">\n",
              "  <thead>\n",
              "    <tr style=\"text-align: right;\">\n",
              "      <th></th>\n",
              "      <th>_id</th>\n",
              "      <th>Customer_Id</th>\n",
              "      <th>Transaction_Date</th>\n",
              "      <th>Item_Id</th>\n",
              "      <th>Quantity_Purchased</th>\n",
              "      <th>Sales_Person_Id</th>\n",
              "      <th>User_Product_Review</th>\n",
              "      <th>Purchased_From</th>\n",
              "      <th>Product_Discovery_Info</th>\n",
              "      <th>Showroom_Id</th>\n",
              "      <th>Customer_Ratings</th>\n",
              "      <th>Transaction_Year</th>\n",
              "      <th>Transaction_Month</th>\n",
              "      <th>Transaction_Time</th>\n",
              "      <th>Transaction_Hour</th>\n",
              "      <th>Transaction_Quarter</th>\n",
              "      <th>Transaction_Day</th>\n",
              "      <th>Transaction_Day_Type</th>\n",
              "      <th>Holiday</th>\n",
              "      <th>Holiday_Name</th>\n",
              "      <th>Item_Name</th>\n",
              "      <th>Item_Price</th>\n",
              "      <th>Amount_Spent</th>\n",
              "      <th>Name</th>\n",
              "      <th>Gender</th>\n",
              "      <th>Birthdate</th>\n",
              "      <th>Address</th>\n",
              "      <th>Dt_Customer</th>\n",
              "      <th>Recency</th>\n",
              "      <th>AcceptedCmp3</th>\n",
              "      <th>AcceptedCmp4</th>\n",
              "      <th>AcceptedCmp5</th>\n",
              "      <th>Current_Age</th>\n",
              "      <th>Town</th>\n",
              "      <th>Latitude</th>\n",
              "      <th>Longitude</th>\n",
              "      <th>State</th>\n",
              "      <th>Transaction_Age</th>\n",
              "    </tr>\n",
              "  </thead>\n",
              "  <tbody>\n",
              "    <tr>\n",
              "      <th>0</th>\n",
              "      <td>6094edbae1a88135b12d145c</td>\n",
              "      <td>1680</td>\n",
              "      <td>2020-09-28 03:03:24</td>\n",
              "      <td>3001</td>\n",
              "      <td>7</td>\n",
              "      <td>81</td>\n",
              "      <td>good</td>\n",
              "      <td>online</td>\n",
              "      <td>customer</td>\n",
              "      <td>-1</td>\n",
              "      <td>4</td>\n",
              "      <td>2020</td>\n",
              "      <td>September</td>\n",
              "      <td>05:03:24</td>\n",
              "      <td>5</td>\n",
              "      <td>3</td>\n",
              "      <td>Monday</td>\n",
              "      <td>Weekday</td>\n",
              "      <td>No</td>\n",
              "      <td>None</td>\n",
              "      <td>dresses</td>\n",
              "      <td>100</td>\n",
              "      <td>700</td>\n",
              "      <td>Herr Jan Geisel B.A.</td>\n",
              "      <td>F</td>\n",
              "      <td>1917-04-25</td>\n",
              "      <td>Lindaugasse 17\\n49311 Schwerin</td>\n",
              "      <td>2013-04-28</td>\n",
              "      <td>74</td>\n",
              "      <td>0</td>\n",
              "      <td>0</td>\n",
              "      <td>0</td>\n",
              "      <td>50.0</td>\n",
              "      <td>Schwerin</td>\n",
              "      <td>53.62883</td>\n",
              "      <td>11.414804</td>\n",
              "      <td>Mecklenburg-Vorpommern</td>\n",
              "      <td>50.0</td>\n",
              "    </tr>\n",
              "    <tr>\n",
              "      <th>1</th>\n",
              "      <td>6094edbbe1a88135b12dcdaf</td>\n",
              "      <td>1680</td>\n",
              "      <td>2020-06-12 13:51:47</td>\n",
              "      <td>3001</td>\n",
              "      <td>5</td>\n",
              "      <td>78</td>\n",
              "      <td>not that good</td>\n",
              "      <td>online</td>\n",
              "      <td>twitter</td>\n",
              "      <td>-1</td>\n",
              "      <td>2</td>\n",
              "      <td>2020</td>\n",
              "      <td>June</td>\n",
              "      <td>15:51:47</td>\n",
              "      <td>15</td>\n",
              "      <td>2</td>\n",
              "      <td>Friday</td>\n",
              "      <td>Weekday</td>\n",
              "      <td>No</td>\n",
              "      <td>None</td>\n",
              "      <td>dresses</td>\n",
              "      <td>100</td>\n",
              "      <td>500</td>\n",
              "      <td>Herr Jan Geisel B.A.</td>\n",
              "      <td>F</td>\n",
              "      <td>1917-04-25</td>\n",
              "      <td>Lindaugasse 17\\n49311 Schwerin</td>\n",
              "      <td>2013-04-28</td>\n",
              "      <td>74</td>\n",
              "      <td>0</td>\n",
              "      <td>0</td>\n",
              "      <td>0</td>\n",
              "      <td>50.0</td>\n",
              "      <td>Schwerin</td>\n",
              "      <td>53.62883</td>\n",
              "      <td>11.414804</td>\n",
              "      <td>Mecklenburg-Vorpommern</td>\n",
              "      <td>50.0</td>\n",
              "    </tr>\n",
              "  </tbody>\n",
              "</table>\n",
              "</div>"
            ],
            "text/plain": [
              "                        _id  ...  Transaction_Age\n",
              "0  6094edbae1a88135b12d145c  ...             50.0\n",
              "1  6094edbbe1a88135b12dcdaf  ...             50.0\n",
              "\n",
              "[2 rows x 38 columns]"
            ]
          },
          "metadata": {
            "tags": []
          },
          "execution_count": 36
        }
      ]
    },
    {
      "cell_type": "code",
      "metadata": {
        "id": "sXb6PU6ULOlE",
        "colab": {
          "base_uri": "https://localhost:8080/",
          "height": 233
        },
        "outputId": "93d98767-24d3-41de-a0f7-71c4c6655afa"
      },
      "source": [
        "df=data.drop(['AcceptedCmp3', 'AcceptedCmp4','AcceptedCmp5','Latitude','Longitude','_id','Birthdate','Dt_Customer'], axis=1)\n",
        "df.head(2)"
      ],
      "execution_count": null,
      "outputs": [
        {
          "output_type": "execute_result",
          "data": {
            "text/html": [
              "<div>\n",
              "<style scoped>\n",
              "    .dataframe tbody tr th:only-of-type {\n",
              "        vertical-align: middle;\n",
              "    }\n",
              "\n",
              "    .dataframe tbody tr th {\n",
              "        vertical-align: top;\n",
              "    }\n",
              "\n",
              "    .dataframe thead th {\n",
              "        text-align: right;\n",
              "    }\n",
              "</style>\n",
              "<table border=\"1\" class=\"dataframe\">\n",
              "  <thead>\n",
              "    <tr style=\"text-align: right;\">\n",
              "      <th></th>\n",
              "      <th>Customer_Id</th>\n",
              "      <th>Transaction_Date</th>\n",
              "      <th>Item_Id</th>\n",
              "      <th>Quantity_Purchased</th>\n",
              "      <th>Sales_Person_Id</th>\n",
              "      <th>User_Product_Review</th>\n",
              "      <th>Purchased_From</th>\n",
              "      <th>Product_Discovery_Info</th>\n",
              "      <th>Showroom_Id</th>\n",
              "      <th>Customer_Ratings</th>\n",
              "      <th>Transaction_Year</th>\n",
              "      <th>Transaction_Month</th>\n",
              "      <th>Transaction_Time</th>\n",
              "      <th>Transaction_Hour</th>\n",
              "      <th>Transaction_Quarter</th>\n",
              "      <th>Transaction_Day</th>\n",
              "      <th>Transaction_Day_Type</th>\n",
              "      <th>Holiday</th>\n",
              "      <th>Holiday_Name</th>\n",
              "      <th>Item_Name</th>\n",
              "      <th>Item_Price</th>\n",
              "      <th>Amount_Spent</th>\n",
              "      <th>Name</th>\n",
              "      <th>Gender</th>\n",
              "      <th>Address</th>\n",
              "      <th>Recency</th>\n",
              "      <th>Current_Age</th>\n",
              "      <th>Town</th>\n",
              "      <th>State</th>\n",
              "      <th>Transaction_Age</th>\n",
              "    </tr>\n",
              "  </thead>\n",
              "  <tbody>\n",
              "    <tr>\n",
              "      <th>0</th>\n",
              "      <td>1680</td>\n",
              "      <td>2020-09-28 03:03:24</td>\n",
              "      <td>3001</td>\n",
              "      <td>7</td>\n",
              "      <td>81</td>\n",
              "      <td>good</td>\n",
              "      <td>online</td>\n",
              "      <td>customer</td>\n",
              "      <td>-1</td>\n",
              "      <td>4</td>\n",
              "      <td>2020</td>\n",
              "      <td>September</td>\n",
              "      <td>05:03:24</td>\n",
              "      <td>5</td>\n",
              "      <td>3</td>\n",
              "      <td>Monday</td>\n",
              "      <td>Weekday</td>\n",
              "      <td>No</td>\n",
              "      <td>None</td>\n",
              "      <td>dresses</td>\n",
              "      <td>100</td>\n",
              "      <td>700</td>\n",
              "      <td>Herr Jan Geisel B.A.</td>\n",
              "      <td>F</td>\n",
              "      <td>Lindaugasse 17\\n49311 Schwerin</td>\n",
              "      <td>74</td>\n",
              "      <td>50.0</td>\n",
              "      <td>Schwerin</td>\n",
              "      <td>Mecklenburg-Vorpommern</td>\n",
              "      <td>50.0</td>\n",
              "    </tr>\n",
              "    <tr>\n",
              "      <th>1</th>\n",
              "      <td>1680</td>\n",
              "      <td>2020-06-12 13:51:47</td>\n",
              "      <td>3001</td>\n",
              "      <td>5</td>\n",
              "      <td>78</td>\n",
              "      <td>not that good</td>\n",
              "      <td>online</td>\n",
              "      <td>twitter</td>\n",
              "      <td>-1</td>\n",
              "      <td>2</td>\n",
              "      <td>2020</td>\n",
              "      <td>June</td>\n",
              "      <td>15:51:47</td>\n",
              "      <td>15</td>\n",
              "      <td>2</td>\n",
              "      <td>Friday</td>\n",
              "      <td>Weekday</td>\n",
              "      <td>No</td>\n",
              "      <td>None</td>\n",
              "      <td>dresses</td>\n",
              "      <td>100</td>\n",
              "      <td>500</td>\n",
              "      <td>Herr Jan Geisel B.A.</td>\n",
              "      <td>F</td>\n",
              "      <td>Lindaugasse 17\\n49311 Schwerin</td>\n",
              "      <td>74</td>\n",
              "      <td>50.0</td>\n",
              "      <td>Schwerin</td>\n",
              "      <td>Mecklenburg-Vorpommern</td>\n",
              "      <td>50.0</td>\n",
              "    </tr>\n",
              "  </tbody>\n",
              "</table>\n",
              "</div>"
            ],
            "text/plain": [
              "   Customer_Id    Transaction_Date  ...                   State  Transaction_Age\n",
              "0         1680 2020-09-28 03:03:24  ...  Mecklenburg-Vorpommern             50.0\n",
              "1         1680 2020-06-12 13:51:47  ...  Mecklenburg-Vorpommern             50.0\n",
              "\n",
              "[2 rows x 30 columns]"
            ]
          },
          "metadata": {
            "tags": []
          },
          "execution_count": 37
        }
      ]
    },
    {
      "cell_type": "code",
      "metadata": {
        "id": "GITmceRTcCzt",
        "colab": {
          "base_uri": "https://localhost:8080/",
          "height": 523
        },
        "outputId": "dddf8d76-b6e3-4027-9fb7-c07a9e820922"
      },
      "source": [
        "import warnings\n",
        "warnings.filterwarnings('ignore')\n",
        "\n",
        "plt.rcParams['figure.figsize'] = (18, 8)\n",
        "\n",
        "plt.subplot(1, 2, 1)\n",
        "sns.set(style = 'whitegrid')\n",
        "sns.distplot(df['Amount_Spent'])\n",
        "plt.title('Distribution of amount spent', fontsize = 20)\n",
        "plt.xlabel('Range of amount spent')\n",
        "plt.ylabel('Count')\n",
        "\n",
        "\n",
        "plt.subplot(1, 2, 2)\n",
        "sns.set(style = 'whitegrid')\n",
        "sns.distplot(df['Transaction_Age'], color = 'red')\n",
        "plt.title('Distribution of Age', fontsize = 20)\n",
        "plt.xlabel('Range of Age')\n",
        "plt.ylabel('Count')\n",
        "plt.show()"
      ],
      "execution_count": null,
      "outputs": [
        {
          "output_type": "display_data",
          "data": {
            "image/png": "[encoded data removed]",
            "text/plain": [
              "<Figure size 1296x576 with 2 Axes>"
            ]
          },
          "metadata": {
            "tags": [],
            "needs_background": "light"
          }
        }
      ]
    },
    {
      "cell_type": "code",
      "metadata": {
        "id": "5klAcP_vcCwe",
        "colab": {
          "base_uri": "https://localhost:8080/",
          "height": 541
        },
        "outputId": "46bf158e-0a36-46d4-8bae-02534f12291b"
      },
      "source": [
        "labels = ['Female', 'Male']\n",
        "size = df['Gender'].value_counts()\n",
        "colors = ['lightgreen', 'orange']\n",
        "explode = [0, 0.1]\n",
        "\n",
        "plt.rcParams['figure.figsize'] = (9, 9)\n",
        "plt.pie(size, colors = colors, explode = explode, labels = labels, shadow = True, autopct = '%.2f%%')\n",
        "plt.title('Gender', fontsize = 20)\n",
        "plt.axis('off')\n",
        "plt.legend()\n",
        "plt.show()"
      ],
      "execution_count": null,
      "outputs": [
        {
          "output_type": "display_data",
          "data": {
            "image/png": "[encoded data removed]",
            "text/plain": [
              "<Figure size 648x648 with 1 Axes>"
            ]
          },
          "metadata": {
            "tags": []
          }
        }
      ]
    },
    {
      "cell_type": "code",
      "metadata": {
        "id": "INgdYoifcCsc",
        "colab": {
          "base_uri": "https://localhost:8080/",
          "height": 410
        },
        "outputId": "e4e95e67-8dd0-4a91-89fe-4cbc160ff300"
      },
      "source": [
        "# check the distribution of number of customers in each age group\n",
        "\n",
        "age18_25 = df.Transaction_Age[(data.Transaction_Age <= 25) & (df.Transaction_Age >= 18)]\n",
        "age26_35 = df.Transaction_Age[(data.Transaction_Age <= 35) & (df.Transaction_Age >= 26)]\n",
        "age36_45 = df.Transaction_Age[(data.Transaction_Age <= 45) & (df.Transaction_Age >= 36)]\n",
        "age46_55 = df.Transaction_Age[(data.Transaction_Age <= 55) & (df.Transaction_Age>= 46)]\n",
        "age56_65 = df.Transaction_Age[(data.Transaction_Age <= 65) & (df.Transaction_Age>= 56)]\n",
        "age65above = df.Transaction_Age[data.Transaction_Age >= 66]\n",
        "\n",
        "x = [\"18-25\",\"26-35\",\"36-45\",\"46-55\",\"56-65\",\"65+\"]\n",
        "y = [len(age18_25.values),len(age26_35.values),len(age36_45.values),len(age46_55.values),len(age56_65.values),len(age65above.values)]\n",
        "\n",
        "plt.figure(figsize=(15,6))\n",
        "sns.barplot(x=x, y=y, palette=\"rocket\")\n",
        "plt.title(\"NO. OF CUSTOMERS PER AGE BRACKET\")\n",
        "plt.xlabel(\"Age\")\n",
        "plt.ylabel(\"Number of Customer\")\n",
        "plt.show()"
      ],
      "execution_count": null,
      "outputs": [
        {
          "output_type": "display_data",
          "data": {
            "image/png": "[encoded data removed]",
            "text/plain": [
              "<Figure size 1080x432 with 1 Axes>"
            ]
          },
          "metadata": {
            "tags": []
          }
        }
      ]
    },
    {
      "cell_type": "markdown",
      "metadata": {
        "id": "8IRr3GkVZs8c"
      },
      "source": [
        "#Modelling - RFM Modelling\n",
        "\n",
        "In order to do Customer Segmentation, the RFM modelling technique will be used.\n",
        "RFM is the way to understand your customer 's behaviour\n",
        "\n",
        "RFM stands for Recency - Frequency - Monetary Value with the following definitions:\n",
        "\n",
        "\n",
        "*   RECENCY (R): Time since last purchase\n",
        "*   FREQUENCY (F): Total number of purchases\n",
        "*   MONETARY VALUE (M): Total monetary value\n",
        "\n",
        "#Benefits of RFM Analysis\n",
        "\n",
        "*   Increased customer retention\n",
        "*   Increased response rate\n",
        "*   Increased conversion rate\n",
        "*   Increased revenue\n",
        "\n",
        "#RFM Analysis answers the following questions:\n",
        "*   Who are our best customers?\n",
        "*   Who has the potential to be converted into more profitable customers?\n",
        "*   Which customers do we need to retain?\n",
        "*   Which group of customers is most likely to respond to our marketing campaign?\n",
        "\n",
        "\n",
        "\n",
        "\n",
        "#Based on the values above, one could construct various segments that classify the customers to:\n",
        "\n",
        "#Low value Segment\n",
        "R- Less active\n",
        "F - Not very frequent\n",
        "M - Low spend\n",
        "\n",
        "#Mid value Segment\n",
        "R - Medium or inconsistent activity\n",
        "F - infrequent or frequent at specific times\n",
        "M - varied spending but overall in the mid of the scale\n",
        "\n",
        "#High value Segment\n",
        "R - Very active\n",
        "F - Very frequent\n",
        "M - Great spending profile\n",
        "\n",
        "\n",
        "\n",
        "\n",
        "\n",
        "\n"
      ]
    },
    {
      "cell_type": "markdown",
      "metadata": {
        "id": "rTV_iR-2aJoz"
      },
      "source": [
        "#Recency Score"
      ]
    },
    {
      "cell_type": "code",
      "metadata": {
        "id": "oEq5y4CkaK80"
      },
      "source": [
        "# Generate new dataframe based on unique Customerid to keep track of RFM scores\n",
        "customer = pd.DataFrame(df['Customer_Id'].unique())\n",
        "customer.columns = ['Customer_Id']"
      ],
      "execution_count": null,
      "outputs": []
    },
    {
      "cell_type": "code",
      "metadata": {
        "id": "PR_6LiYGaO__"
      },
      "source": [
        "# Generate new data frame based on latest transaction date per Customer (groupby = Customerid)\n",
        "recency = df.groupby('Customer_Id').  Transaction_Date.max().reset_index()\n",
        "recency.columns = ['Customer_Id','LastPurchaseDate']\n",
        "# Set observation point as the last transaction date in the dataset\n",
        "LasttransactionDate = recency['LastPurchaseDate'].max()\n",
        "# Generate Recency in days by subtracting the Last Purchase date for each customer from the Last transaction Date\n",
        "recency['Recency'] = (LasttransactionDate - recency['LastPurchaseDate']).dt.days"
      ],
      "execution_count": null,
      "outputs": []
    },
    {
      "cell_type": "code",
      "metadata": {
        "id": "JcC658jxaQDR",
        "colab": {
          "base_uri": "https://localhost:8080/",
          "height": 419
        },
        "outputId": "0908c350-11bf-41a4-dd82-f33abecaaffb"
      },
      "source": [
        "# Consolidate to customer DataFrame\n",
        "customer = pd.merge(customer, recency[['Customer_Id','Recency']], on='Customer_Id')\n",
        "customer"
      ],
      "execution_count": null,
      "outputs": [
        {
          "output_type": "execute_result",
          "data": {
            "text/html": [
              "<div>\n",
              "<style scoped>\n",
              "    .dataframe tbody tr th:only-of-type {\n",
              "        vertical-align: middle;\n",
              "    }\n",
              "\n",
              "    .dataframe tbody tr th {\n",
              "        vertical-align: top;\n",
              "    }\n",
              "\n",
              "    .dataframe thead th {\n",
              "        text-align: right;\n",
              "    }\n",
              "</style>\n",
              "<table border=\"1\" class=\"dataframe\">\n",
              "  <thead>\n",
              "    <tr style=\"text-align: right;\">\n",
              "      <th></th>\n",
              "      <th>Customer_Id</th>\n",
              "      <th>Recency</th>\n",
              "    </tr>\n",
              "  </thead>\n",
              "  <tbody>\n",
              "    <tr>\n",
              "      <th>0</th>\n",
              "      <td>1680</td>\n",
              "      <td>8</td>\n",
              "    </tr>\n",
              "    <tr>\n",
              "      <th>1</th>\n",
              "      <td>1400</td>\n",
              "      <td>2</td>\n",
              "    </tr>\n",
              "    <tr>\n",
              "      <th>2</th>\n",
              "      <td>1681</td>\n",
              "      <td>3</td>\n",
              "    </tr>\n",
              "    <tr>\n",
              "      <th>3</th>\n",
              "      <td>1401</td>\n",
              "      <td>0</td>\n",
              "    </tr>\n",
              "    <tr>\n",
              "      <th>4</th>\n",
              "      <td>1402</td>\n",
              "      <td>1</td>\n",
              "    </tr>\n",
              "    <tr>\n",
              "      <th>...</th>\n",
              "      <td>...</td>\n",
              "      <td>...</td>\n",
              "    </tr>\n",
              "    <tr>\n",
              "      <th>2235</th>\n",
              "      <td>485</td>\n",
              "      <td>0</td>\n",
              "    </tr>\n",
              "    <tr>\n",
              "      <th>2236</th>\n",
              "      <td>486</td>\n",
              "      <td>0</td>\n",
              "    </tr>\n",
              "    <tr>\n",
              "      <th>2237</th>\n",
              "      <td>487</td>\n",
              "      <td>0</td>\n",
              "    </tr>\n",
              "    <tr>\n",
              "      <th>2238</th>\n",
              "      <td>488</td>\n",
              "      <td>2</td>\n",
              "    </tr>\n",
              "    <tr>\n",
              "      <th>2239</th>\n",
              "      <td>489</td>\n",
              "      <td>3</td>\n",
              "    </tr>\n",
              "  </tbody>\n",
              "</table>\n",
              "<p>2240 rows × 2 columns</p>\n",
              "</div>"
            ],
            "text/plain": [
              "      Customer_Id  Recency\n",
              "0            1680        8\n",
              "1            1400        2\n",
              "2            1681        3\n",
              "3            1401        0\n",
              "4            1402        1\n",
              "...           ...      ...\n",
              "2235          485        0\n",
              "2236          486        0\n",
              "2237          487        0\n",
              "2238          488        2\n",
              "2239          489        3\n",
              "\n",
              "[2240 rows x 2 columns]"
            ]
          },
          "metadata": {
            "tags": []
          },
          "execution_count": 43
        }
      ]
    },
    {
      "cell_type": "code",
      "metadata": {
        "id": "Psl6YaNNaP-w"
      },
      "source": [
        "#code testing my recency and frequency\n",
        "#(Timestamp('2018-01-01 00:02:24'), Timestamp('2020-12-30 23:55:48'))\n",
        "#trend=df[df.Customer_Id == 1402]\n",
        "#trend\n",
        "#df['Transaction_Date'].min(),df['Transaction_Date'].max()"
      ],
      "execution_count": null,
      "outputs": []
    },
    {
      "cell_type": "code",
      "metadata": {
        "id": "uHeWGRwIaP7r",
        "colab": {
          "base_uri": "https://localhost:8080/",
          "height": 573
        },
        "outputId": "94f8b3c1-4bd1-4d87-c621-a41a8ac32fbc"
      },
      "source": [
        "# Plot Recency\n",
        "customer.Recency.plot.hist();\n",
        "plt.xlabel(\"Recency in days\")\n",
        "plt.ylabel(\"Number of Customers\")\n",
        "plt.title(\"Recency Histogram\");"
      ],
      "execution_count": null,
      "outputs": [
        {
          "output_type": "display_data",
          "data": {
            "image/png": "[encoded data removed]",
            "text/plain": [
              "<Figure size 648x648 with 1 Axes>"
            ]
          },
          "metadata": {
            "tags": []
          }
        }
      ]
    },
    {
      "cell_type": "markdown",
      "metadata": {
        "id": "U3k0aHeWaxoj"
      },
      "source": [
        "# Frequency Score"
      ]
    },
    {
      "cell_type": "code",
      "metadata": {
        "id": "pmQSqaUGaPzZ",
        "colab": {
          "base_uri": "https://localhost:8080/",
          "height": 204
        },
        "outputId": "8bcfdedb-e344-4b32-ae06-bd3e0808df43"
      },
      "source": [
        "# Count number of transaction per Customerid \n",
        "frequency = df.groupby('Customer_Id').Transaction_Date.count().reset_index()\n",
        "frequency.columns = ['Customer_Id','Frequency']\n",
        "\n",
        "# Consolidate Frequency to existing Customer DataFrame\n",
        "customer = pd.merge(customer, frequency, on='Customer_Id')\n",
        "customer.head()"
      ],
      "execution_count": null,
      "outputs": [
        {
          "output_type": "execute_result",
          "data": {
            "text/html": [
              "<div>\n",
              "<style scoped>\n",
              "    .dataframe tbody tr th:only-of-type {\n",
              "        vertical-align: middle;\n",
              "    }\n",
              "\n",
              "    .dataframe tbody tr th {\n",
              "        vertical-align: top;\n",
              "    }\n",
              "\n",
              "    .dataframe thead th {\n",
              "        text-align: right;\n",
              "    }\n",
              "</style>\n",
              "<table border=\"1\" class=\"dataframe\">\n",
              "  <thead>\n",
              "    <tr style=\"text-align: right;\">\n",
              "      <th></th>\n",
              "      <th>Customer_Id</th>\n",
              "      <th>Recency</th>\n",
              "      <th>Frequency</th>\n",
              "    </tr>\n",
              "  </thead>\n",
              "  <tbody>\n",
              "    <tr>\n",
              "      <th>0</th>\n",
              "      <td>1680</td>\n",
              "      <td>8</td>\n",
              "      <td>446</td>\n",
              "    </tr>\n",
              "    <tr>\n",
              "      <th>1</th>\n",
              "      <td>1400</td>\n",
              "      <td>2</td>\n",
              "      <td>438</td>\n",
              "    </tr>\n",
              "    <tr>\n",
              "      <th>2</th>\n",
              "      <td>1681</td>\n",
              "      <td>3</td>\n",
              "      <td>469</td>\n",
              "    </tr>\n",
              "    <tr>\n",
              "      <th>3</th>\n",
              "      <td>1401</td>\n",
              "      <td>0</td>\n",
              "      <td>413</td>\n",
              "    </tr>\n",
              "    <tr>\n",
              "      <th>4</th>\n",
              "      <td>1402</td>\n",
              "      <td>1</td>\n",
              "      <td>410</td>\n",
              "    </tr>\n",
              "  </tbody>\n",
              "</table>\n",
              "</div>"
            ],
            "text/plain": [
              "   Customer_Id  Recency  Frequency\n",
              "0         1680        8        446\n",
              "1         1400        2        438\n",
              "2         1681        3        469\n",
              "3         1401        0        413\n",
              "4         1402        1        410"
            ]
          },
          "metadata": {
            "tags": []
          },
          "execution_count": 46
        }
      ]
    },
    {
      "cell_type": "code",
      "metadata": {
        "id": "FTWRJqkYa1Kq",
        "colab": {
          "base_uri": "https://localhost:8080/",
          "height": 297
        },
        "outputId": "1b9ac6b6-883d-4e15-c6c7-b8da9b1aad16"
      },
      "source": [
        "#Review statistics \n",
        "customer.describe()"
      ],
      "execution_count": null,
      "outputs": [
        {
          "output_type": "execute_result",
          "data": {
            "text/html": [
              "<div>\n",
              "<style scoped>\n",
              "    .dataframe tbody tr th:only-of-type {\n",
              "        vertical-align: middle;\n",
              "    }\n",
              "\n",
              "    .dataframe tbody tr th {\n",
              "        vertical-align: top;\n",
              "    }\n",
              "\n",
              "    .dataframe thead th {\n",
              "        text-align: right;\n",
              "    }\n",
              "</style>\n",
              "<table border=\"1\" class=\"dataframe\">\n",
              "  <thead>\n",
              "    <tr style=\"text-align: right;\">\n",
              "      <th></th>\n",
              "      <th>Customer_Id</th>\n",
              "      <th>Recency</th>\n",
              "      <th>Frequency</th>\n",
              "    </tr>\n",
              "  </thead>\n",
              "  <tbody>\n",
              "    <tr>\n",
              "      <th>count</th>\n",
              "      <td>2240.000000</td>\n",
              "      <td>2240.000000</td>\n",
              "      <td>2240.000000</td>\n",
              "    </tr>\n",
              "    <tr>\n",
              "      <th>mean</th>\n",
              "      <td>1119.500000</td>\n",
              "      <td>2.083929</td>\n",
              "      <td>425.898214</td>\n",
              "    </tr>\n",
              "    <tr>\n",
              "      <th>std</th>\n",
              "      <td>646.776623</td>\n",
              "      <td>2.517489</td>\n",
              "      <td>19.922660</td>\n",
              "    </tr>\n",
              "    <tr>\n",
              "      <th>min</th>\n",
              "      <td>0.000000</td>\n",
              "      <td>0.000000</td>\n",
              "      <td>366.000000</td>\n",
              "    </tr>\n",
              "    <tr>\n",
              "      <th>25%</th>\n",
              "      <td>559.750000</td>\n",
              "      <td>0.000000</td>\n",
              "      <td>412.750000</td>\n",
              "    </tr>\n",
              "    <tr>\n",
              "      <th>50%</th>\n",
              "      <td>1119.500000</td>\n",
              "      <td>1.000000</td>\n",
              "      <td>426.000000</td>\n",
              "    </tr>\n",
              "    <tr>\n",
              "      <th>75%</th>\n",
              "      <td>1679.250000</td>\n",
              "      <td>3.000000</td>\n",
              "      <td>439.000000</td>\n",
              "    </tr>\n",
              "    <tr>\n",
              "      <th>max</th>\n",
              "      <td>2239.000000</td>\n",
              "      <td>19.000000</td>\n",
              "      <td>491.000000</td>\n",
              "    </tr>\n",
              "  </tbody>\n",
              "</table>\n",
              "</div>"
            ],
            "text/plain": [
              "       Customer_Id      Recency    Frequency\n",
              "count  2240.000000  2240.000000  2240.000000\n",
              "mean   1119.500000     2.083929   425.898214\n",
              "std     646.776623     2.517489    19.922660\n",
              "min       0.000000     0.000000   366.000000\n",
              "25%     559.750000     0.000000   412.750000\n",
              "50%    1119.500000     1.000000   426.000000\n",
              "75%    1679.250000     3.000000   439.000000\n",
              "max    2239.000000    19.000000   491.000000"
            ]
          },
          "metadata": {
            "tags": []
          },
          "execution_count": 47
        }
      ]
    },
    {
      "cell_type": "code",
      "metadata": {
        "id": "c3hW5Pkua7vY",
        "colab": {
          "base_uri": "https://localhost:8080/",
          "height": 573
        },
        "outputId": "1c018578-28db-478c-a4f6-8151c9865a41"
      },
      "source": [
        "# Plot Frequency\n",
        "# In order to plot effectively and not have a skewed diagram, we've sorted the frequencies\n",
        "customer.Frequency.sort_values().head(2240).plot.hist();\n",
        "plt.xlabel(\"Frequency in days\")\n",
        "plt.ylabel(\"Number of Customers\")\n",
        "plt.title(\"Frequency\");"
      ],
      "execution_count": null,
      "outputs": [
        {
          "output_type": "display_data",
          "data": {
            "image/png": "[encoded data removed]",
            "text/plain": [
              "<Figure size 648x648 with 1 Axes>"
            ]
          },
          "metadata": {
            "tags": []
          }
        }
      ]
    },
    {
      "cell_type": "markdown",
      "metadata": {
        "id": "LVoids4FbLQz"
      },
      "source": [
        "#Monetary Value Score (Revenue)"
      ]
    },
    {
      "cell_type": "code",
      "metadata": {
        "id": "GK8v0VWTbM74",
        "colab": {
          "base_uri": "https://localhost:8080/",
          "height": 204
        },
        "outputId": "c6a05d5c-90f5-413b-8700-0ad3f6fb3c14"
      },
      "source": [
        "# Grouping revenue per Customer ID\n",
        "revenue = df.groupby('Customer_Id').Amount_Spent.sum().reset_index().rename(columns = {'Amount_Spent': 'Monetary'}, inplace = False)\n",
        "\n",
        "# Consolidate Revenue to existing Customer DataFrame\n",
        "customer = pd.merge(customer, revenue, on='Customer_Id')\n",
        "customer.head()"
      ],
      "execution_count": null,
      "outputs": [
        {
          "output_type": "execute_result",
          "data": {
            "text/html": [
              "<div>\n",
              "<style scoped>\n",
              "    .dataframe tbody tr th:only-of-type {\n",
              "        vertical-align: middle;\n",
              "    }\n",
              "\n",
              "    .dataframe tbody tr th {\n",
              "        vertical-align: top;\n",
              "    }\n",
              "\n",
              "    .dataframe thead th {\n",
              "        text-align: right;\n",
              "    }\n",
              "</style>\n",
              "<table border=\"1\" class=\"dataframe\">\n",
              "  <thead>\n",
              "    <tr style=\"text-align: right;\">\n",
              "      <th></th>\n",
              "      <th>Customer_Id</th>\n",
              "      <th>Recency</th>\n",
              "      <th>Frequency</th>\n",
              "      <th>Monetary</th>\n",
              "    </tr>\n",
              "  </thead>\n",
              "  <tbody>\n",
              "    <tr>\n",
              "      <th>0</th>\n",
              "      <td>1680</td>\n",
              "      <td>8</td>\n",
              "      <td>446</td>\n",
              "      <td>286070</td>\n",
              "    </tr>\n",
              "    <tr>\n",
              "      <th>1</th>\n",
              "      <td>1400</td>\n",
              "      <td>2</td>\n",
              "      <td>438</td>\n",
              "      <td>292155</td>\n",
              "    </tr>\n",
              "    <tr>\n",
              "      <th>2</th>\n",
              "      <td>1681</td>\n",
              "      <td>3</td>\n",
              "      <td>469</td>\n",
              "      <td>332985</td>\n",
              "    </tr>\n",
              "    <tr>\n",
              "      <th>3</th>\n",
              "      <td>1401</td>\n",
              "      <td>0</td>\n",
              "      <td>413</td>\n",
              "      <td>297260</td>\n",
              "    </tr>\n",
              "    <tr>\n",
              "      <th>4</th>\n",
              "      <td>1402</td>\n",
              "      <td>1</td>\n",
              "      <td>410</td>\n",
              "      <td>278135</td>\n",
              "    </tr>\n",
              "  </tbody>\n",
              "</table>\n",
              "</div>"
            ],
            "text/plain": [
              "   Customer_Id  Recency  Frequency  Monetary\n",
              "0         1680        8        446    286070\n",
              "1         1400        2        438    292155\n",
              "2         1681        3        469    332985\n",
              "3         1401        0        413    297260\n",
              "4         1402        1        410    278135"
            ]
          },
          "metadata": {
            "tags": []
          },
          "execution_count": 49
        }
      ]
    },
    {
      "cell_type": "code",
      "metadata": {
        "id": "i2a3X_1dbSA2",
        "colab": {
          "base_uri": "https://localhost:8080/",
          "height": 297
        },
        "outputId": "3e954aa3-7607-40ef-95bb-2a699b1464f8"
      },
      "source": [
        "customer.describe()"
      ],
      "execution_count": null,
      "outputs": [
        {
          "output_type": "execute_result",
          "data": {
            "text/html": [
              "<div>\n",
              "<style scoped>\n",
              "    .dataframe tbody tr th:only-of-type {\n",
              "        vertical-align: middle;\n",
              "    }\n",
              "\n",
              "    .dataframe tbody tr th {\n",
              "        vertical-align: top;\n",
              "    }\n",
              "\n",
              "    .dataframe thead th {\n",
              "        text-align: right;\n",
              "    }\n",
              "</style>\n",
              "<table border=\"1\" class=\"dataframe\">\n",
              "  <thead>\n",
              "    <tr style=\"text-align: right;\">\n",
              "      <th></th>\n",
              "      <th>Customer_Id</th>\n",
              "      <th>Recency</th>\n",
              "      <th>Frequency</th>\n",
              "      <th>Monetary</th>\n",
              "    </tr>\n",
              "  </thead>\n",
              "  <tbody>\n",
              "    <tr>\n",
              "      <th>count</th>\n",
              "      <td>2240.000000</td>\n",
              "      <td>2240.000000</td>\n",
              "      <td>2240.000000</td>\n",
              "      <td>2240.000000</td>\n",
              "    </tr>\n",
              "    <tr>\n",
              "      <th>mean</th>\n",
              "      <td>1119.500000</td>\n",
              "      <td>2.083929</td>\n",
              "      <td>425.898214</td>\n",
              "      <td>282197.656250</td>\n",
              "    </tr>\n",
              "    <tr>\n",
              "      <th>std</th>\n",
              "      <td>646.776623</td>\n",
              "      <td>2.517489</td>\n",
              "      <td>19.922660</td>\n",
              "      <td>18313.471125</td>\n",
              "    </tr>\n",
              "    <tr>\n",
              "      <th>min</th>\n",
              "      <td>0.000000</td>\n",
              "      <td>0.000000</td>\n",
              "      <td>366.000000</td>\n",
              "      <td>226805.000000</td>\n",
              "    </tr>\n",
              "    <tr>\n",
              "      <th>25%</th>\n",
              "      <td>559.750000</td>\n",
              "      <td>0.000000</td>\n",
              "      <td>412.750000</td>\n",
              "      <td>269646.250000</td>\n",
              "    </tr>\n",
              "    <tr>\n",
              "      <th>50%</th>\n",
              "      <td>1119.500000</td>\n",
              "      <td>1.000000</td>\n",
              "      <td>426.000000</td>\n",
              "      <td>281530.000000</td>\n",
              "    </tr>\n",
              "    <tr>\n",
              "      <th>75%</th>\n",
              "      <td>1679.250000</td>\n",
              "      <td>3.000000</td>\n",
              "      <td>439.000000</td>\n",
              "      <td>294323.750000</td>\n",
              "    </tr>\n",
              "    <tr>\n",
              "      <th>max</th>\n",
              "      <td>2239.000000</td>\n",
              "      <td>19.000000</td>\n",
              "      <td>491.000000</td>\n",
              "      <td>349085.000000</td>\n",
              "    </tr>\n",
              "  </tbody>\n",
              "</table>\n",
              "</div>"
            ],
            "text/plain": [
              "       Customer_Id      Recency    Frequency       Monetary\n",
              "count  2240.000000  2240.000000  2240.000000    2240.000000\n",
              "mean   1119.500000     2.083929   425.898214  282197.656250\n",
              "std     646.776623     2.517489    19.922660   18313.471125\n",
              "min       0.000000     0.000000   366.000000  226805.000000\n",
              "25%     559.750000     0.000000   412.750000  269646.250000\n",
              "50%    1119.500000     1.000000   426.000000  281530.000000\n",
              "75%    1679.250000     3.000000   439.000000  294323.750000\n",
              "max    2239.000000    19.000000   491.000000  349085.000000"
            ]
          },
          "metadata": {
            "tags": []
          },
          "execution_count": 50
        }
      ]
    },
    {
      "cell_type": "code",
      "metadata": {
        "id": "0JeseOFQbT5s",
        "colab": {
          "base_uri": "https://localhost:8080/",
          "height": 573
        },
        "outputId": "2b779232-9ff4-4356-e2a0-a157c3c20c5c"
      },
      "source": [
        "# Plot Revenue\n",
        "customer.Monetary.sort_values().head(2240).plot.hist();\n",
        "plt.xlabel(\"Revenue bracket\")\n",
        "plt.ylabel(\"Number of Customers\")\n",
        "plt.title(\"Revenue Generated\");"
      ],
      "execution_count": null,
      "outputs": [
        {
          "output_type": "display_data",
          "data": {
            "image/png": "[encoded data removed]",
            "text/plain": [
              "<Figure size 648x648 with 1 Axes>"
            ]
          },
          "metadata": {
            "tags": []
          }
        }
      ]
    },
    {
      "cell_type": "code",
      "metadata": {
        "id": "bX8hVe5wbiIJ",
        "colab": {
          "base_uri": "https://localhost:8080/",
          "height": 877
        },
        "outputId": "d2ff2386-4687-4901-b9c5-cef1ee4f6361"
      },
      "source": [
        "# scatter plots between the different scores\n",
        "fig, (xa1, xb2, xc3) = plt.subplots(3)\n",
        "fig.suptitle('Scatter plots between RFM scores')\n",
        "customer.plot.scatter(x = 'Recency', y = 'Frequency', ax = xa1, figsize = (15,12));\n",
        "customer.plot.scatter(x = 'Recency', y = 'Monetary', ax = xb2);\n",
        "customer.plot.scatter(x = 'Frequency', y = 'Monetary', ax = xc3);"
      ],
      "execution_count": null,
      "outputs": [
        {
          "output_type": "stream",
          "text": [
            "*c* argument looks like a single numeric RGB or RGBA sequence, which should be avoided as value-mapping will have precedence in case its length matches with *x* & *y*.  Please use the *color* keyword-argument or provide a 2-D array with a single row if you intend to specify the same RGB or RGBA value for all points.\n",
            "*c* argument looks like a single numeric RGB or RGBA sequence, which should be avoided as value-mapping will have precedence in case its length matches with *x* & *y*.  Please use the *color* keyword-argument or provide a 2-D array with a single row if you intend to specify the same RGB or RGBA value for all points.\n",
            "*c* argument looks like a single numeric RGB or RGBA sequence, which should be avoided as value-mapping will have precedence in case its length matches with *x* & *y*.  Please use the *color* keyword-argument or provide a 2-D array with a single row if you intend to specify the same RGB or RGBA value for all points.\n"
          ],
          "name": "stderr"
        },
        {
          "output_type": "display_data",
          "data": {
            "image/png": "[encoded data removed]",
            "text/plain": [
              "<Figure size 1080x864 with 3 Axes>"
            ]
          },
          "metadata": {
            "tags": []
          }
        }
      ]
    },
    {
      "cell_type": "markdown",
      "metadata": {
        "id": "_z1UhnqjS4AC"
      },
      "source": [
        ". Creating the RFM Segmentation Table"
      ]
    },
    {
      "cell_type": "code",
      "metadata": {
        "id": "R1G3_4VYS0jo"
      },
      "source": [
        "def recency_quarter(x):\n",
        "\n",
        "    recency_quantile = customer[\"Recency\"].quantile([0.25, 0.50, 0.75]).values \n",
        "    if x <= recency_quantile[0]:\n",
        "        return 4\n",
        "    elif x <= recency_quantile[1]:\n",
        "        return 3\n",
        "    elif x <= recency_quantile[2]:\n",
        "        return 2\n",
        "    else:\n",
        "        return 1"
      ],
      "execution_count": null,
      "outputs": []
    },
    {
      "cell_type": "code",
      "metadata": {
        "id": "Y8oJbxJwS0fQ"
      },
      "source": [
        "def frequency_quarter(x):\n",
        "    \n",
        "    frequency_quantile = customer[\"Frequency\"].quantile([0.25, 0.50, 0.75]).values \n",
        "    if x <= frequency_quantile[0]:\n",
        "        return 1\n",
        "    elif x <= frequency_quantile[1]:\n",
        "        return 2\n",
        "    elif x <= frequency_quantile[2]:\n",
        "        return 3\n",
        "    else:\n",
        "        return 4\n"
      ],
      "execution_count": null,
      "outputs": []
    },
    {
      "cell_type": "code",
      "metadata": {
        "id": "zobyyfejg0HL"
      },
      "source": [
        "def monetary_quarter(x):\n",
        "    \n",
        "    monetary_quantile = customer[\"Monetary\"].quantile([0.25, 0.50, 0.75]).values \n",
        "    if x <= monetary_quantile[0]:\n",
        "        return 1\n",
        "    elif x <= monetary_quantile[1]:\n",
        "        return 2\n",
        "    elif x <= monetary_quantile[2]:\n",
        "        return 3\n",
        "    else:\n",
        "        return 4"
      ],
      "execution_count": null,
      "outputs": []
    },
    {
      "cell_type": "code",
      "metadata": {
        "id": "UnzLJMJGgz98",
        "colab": {
          "base_uri": "https://localhost:8080/",
          "height": 204
        },
        "outputId": "b4e330a6-93f9-4cc1-e268-af0358b63809"
      },
      "source": [
        "#Scoring customers from 1 - 4 with functions\n",
        "customer[\"RecencyScore\"] = customer[\"Recency\"].apply(recency_quarter)\n",
        "customer[\"FrequencyScore\"] = customer[\"Frequency\"].apply(frequency_quarter)\n",
        "customer[\"MonetaryScore\"] = customer[\"Monetary\"].apply(monetary_quarter)\n",
        "\n",
        "customer.head()"
      ],
      "execution_count": null,
      "outputs": [
        {
          "output_type": "execute_result",
          "data": {
            "text/html": [
              "<div>\n",
              "<style scoped>\n",
              "    .dataframe tbody tr th:only-of-type {\n",
              "        vertical-align: middle;\n",
              "    }\n",
              "\n",
              "    .dataframe tbody tr th {\n",
              "        vertical-align: top;\n",
              "    }\n",
              "\n",
              "    .dataframe thead th {\n",
              "        text-align: right;\n",
              "    }\n",
              "</style>\n",
              "<table border=\"1\" class=\"dataframe\">\n",
              "  <thead>\n",
              "    <tr style=\"text-align: right;\">\n",
              "      <th></th>\n",
              "      <th>Customer_Id</th>\n",
              "      <th>Recency</th>\n",
              "      <th>Frequency</th>\n",
              "      <th>Monetary</th>\n",
              "      <th>RecencyScore</th>\n",
              "      <th>FrequencyScore</th>\n",
              "      <th>MonetaryScore</th>\n",
              "    </tr>\n",
              "  </thead>\n",
              "  <tbody>\n",
              "    <tr>\n",
              "      <th>0</th>\n",
              "      <td>1680</td>\n",
              "      <td>8</td>\n",
              "      <td>446</td>\n",
              "      <td>286070</td>\n",
              "      <td>1</td>\n",
              "      <td>4</td>\n",
              "      <td>3</td>\n",
              "    </tr>\n",
              "    <tr>\n",
              "      <th>1</th>\n",
              "      <td>1400</td>\n",
              "      <td>2</td>\n",
              "      <td>438</td>\n",
              "      <td>292155</td>\n",
              "      <td>2</td>\n",
              "      <td>3</td>\n",
              "      <td>3</td>\n",
              "    </tr>\n",
              "    <tr>\n",
              "      <th>2</th>\n",
              "      <td>1681</td>\n",
              "      <td>3</td>\n",
              "      <td>469</td>\n",
              "      <td>332985</td>\n",
              "      <td>2</td>\n",
              "      <td>4</td>\n",
              "      <td>4</td>\n",
              "    </tr>\n",
              "    <tr>\n",
              "      <th>3</th>\n",
              "      <td>1401</td>\n",
              "      <td>0</td>\n",
              "      <td>413</td>\n",
              "      <td>297260</td>\n",
              "      <td>4</td>\n",
              "      <td>2</td>\n",
              "      <td>4</td>\n",
              "    </tr>\n",
              "    <tr>\n",
              "      <th>4</th>\n",
              "      <td>1402</td>\n",
              "      <td>1</td>\n",
              "      <td>410</td>\n",
              "      <td>278135</td>\n",
              "      <td>3</td>\n",
              "      <td>1</td>\n",
              "      <td>2</td>\n",
              "    </tr>\n",
              "  </tbody>\n",
              "</table>\n",
              "</div>"
            ],
            "text/plain": [
              "   Customer_Id  Recency  Frequency  ...  RecencyScore  FrequencyScore  MonetaryScore\n",
              "0         1680        8        446  ...             1               4              3\n",
              "1         1400        2        438  ...             2               3              3\n",
              "2         1681        3        469  ...             2               4              4\n",
              "3         1401        0        413  ...             4               2              4\n",
              "4         1402        1        410  ...             3               1              2\n",
              "\n",
              "[5 rows x 7 columns]"
            ]
          },
          "metadata": {
            "tags": []
          },
          "execution_count": 56
        }
      ]
    },
    {
      "cell_type": "code",
      "metadata": {
        "id": "ob26O9zagz3U",
        "colab": {
          "base_uri": "https://localhost:8080/"
        },
        "outputId": "4e2369d5-c1f3-4bb5-cf88-ce0611d8e727"
      },
      "source": [
        "customer[\"CombinedScore\"] = customer[\"RecencyScore\"].astype(\"str\") + customer[\"FrequencyScore\"].astype(\"str\") + customer[\"MonetaryScore\"].astype(\"str\")\n",
        "customer[\"CombinedScore\"] = customer[\"CombinedScore\"].astype(\"int\")\n",
        "print(\"Combined Score unique values:\", customer[\"CombinedScore\"].nunique())\n",
        "customer[\"CombinedScore\"].head()"
      ],
      "execution_count": null,
      "outputs": [
        {
          "output_type": "stream",
          "text": [
            "Combined Score unique values: 63\n"
          ],
          "name": "stdout"
        },
        {
          "output_type": "execute_result",
          "data": {
            "text/plain": [
              "0    143\n",
              "1    233\n",
              "2    244\n",
              "3    424\n",
              "4    312\n",
              "Name: CombinedScore, dtype: int64"
            ]
          },
          "metadata": {
            "tags": []
          },
          "execution_count": 57
        }
      ]
    },
    {
      "cell_type": "code",
      "metadata": {
        "id": "kYadnTv8zTom",
        "colab": {
          "base_uri": "https://localhost:8080/"
        },
        "outputId": "263c301a-f786-44fd-f0e5-9527668f8536"
      },
      "source": [
        "customer[\"CombinedScoreTotal\"] = customer[\"RecencyScore\"] + customer[\"FrequencyScore\"] + customer[\"MonetaryScore\"]\n",
        "customer[\"CombinedScoreTotal\"] = customer[\"CombinedScoreTotal\"].astype(\"int\")\n",
        "print(\"Combined Score Total unique values:\", customer[\"CombinedScoreTotal\"].nunique())\n",
        "customer[\"CombinedScoreTotal\"].head()"
      ],
      "execution_count": null,
      "outputs": [
        {
          "output_type": "stream",
          "text": [
            "Combined Score Total unique values: 10\n"
          ],
          "name": "stdout"
        },
        {
          "output_type": "execute_result",
          "data": {
            "text/plain": [
              "0     8\n",
              "1     8\n",
              "2    10\n",
              "3    10\n",
              "4     6\n",
              "Name: CombinedScoreTotal, dtype: int64"
            ]
          },
          "metadata": {
            "tags": []
          },
          "execution_count": 58
        }
      ]
    },
    {
      "cell_type": "code",
      "metadata": {
        "id": "fbuv2rexzTiM",
        "colab": {
          "base_uri": "https://localhost:8080/"
        },
        "outputId": "ed7be3f6-e525-4a0b-b212-4f6d4a9c0024"
      },
      "source": [
        "customer[\"CombinedScoreTotal\"].value_counts()"
      ],
      "execution_count": null,
      "outputs": [
        {
          "output_type": "execute_result",
          "data": {
            "text/plain": [
              "7     342\n",
              "8     303\n",
              "6     295\n",
              "9     270\n",
              "10    267\n",
              "5     213\n",
              "11    174\n",
              "4     166\n",
              "12    130\n",
              "3      80\n",
              "Name: CombinedScoreTotal, dtype: int64"
            ]
          },
          "metadata": {
            "tags": []
          },
          "execution_count": 59
        }
      ]
    },
    {
      "cell_type": "code",
      "metadata": {
        "id": "TIcihHOizTds",
        "colab": {
          "base_uri": "https://localhost:8080/",
          "height": 204
        },
        "outputId": "c95f06f2-d9f1-4f0a-ead5-b7732052b34c"
      },
      "source": [
        "customer.head()"
      ],
      "execution_count": null,
      "outputs": [
        {
          "output_type": "execute_result",
          "data": {
            "text/html": [
              "<div>\n",
              "<style scoped>\n",
              "    .dataframe tbody tr th:only-of-type {\n",
              "        vertical-align: middle;\n",
              "    }\n",
              "\n",
              "    .dataframe tbody tr th {\n",
              "        vertical-align: top;\n",
              "    }\n",
              "\n",
              "    .dataframe thead th {\n",
              "        text-align: right;\n",
              "    }\n",
              "</style>\n",
              "<table border=\"1\" class=\"dataframe\">\n",
              "  <thead>\n",
              "    <tr style=\"text-align: right;\">\n",
              "      <th></th>\n",
              "      <th>Customer_Id</th>\n",
              "      <th>Recency</th>\n",
              "      <th>Frequency</th>\n",
              "      <th>Monetary</th>\n",
              "      <th>RecencyScore</th>\n",
              "      <th>FrequencyScore</th>\n",
              "      <th>MonetaryScore</th>\n",
              "      <th>CombinedScore</th>\n",
              "      <th>CombinedScoreTotal</th>\n",
              "    </tr>\n",
              "  </thead>\n",
              "  <tbody>\n",
              "    <tr>\n",
              "      <th>0</th>\n",
              "      <td>1680</td>\n",
              "      <td>8</td>\n",
              "      <td>446</td>\n",
              "      <td>286070</td>\n",
              "      <td>1</td>\n",
              "      <td>4</td>\n",
              "      <td>3</td>\n",
              "      <td>143</td>\n",
              "      <td>8</td>\n",
              "    </tr>\n",
              "    <tr>\n",
              "      <th>1</th>\n",
              "      <td>1400</td>\n",
              "      <td>2</td>\n",
              "      <td>438</td>\n",
              "      <td>292155</td>\n",
              "      <td>2</td>\n",
              "      <td>3</td>\n",
              "      <td>3</td>\n",
              "      <td>233</td>\n",
              "      <td>8</td>\n",
              "    </tr>\n",
              "    <tr>\n",
              "      <th>2</th>\n",
              "      <td>1681</td>\n",
              "      <td>3</td>\n",
              "      <td>469</td>\n",
              "      <td>332985</td>\n",
              "      <td>2</td>\n",
              "      <td>4</td>\n",
              "      <td>4</td>\n",
              "      <td>244</td>\n",
              "      <td>10</td>\n",
              "    </tr>\n",
              "    <tr>\n",
              "      <th>3</th>\n",
              "      <td>1401</td>\n",
              "      <td>0</td>\n",
              "      <td>413</td>\n",
              "      <td>297260</td>\n",
              "      <td>4</td>\n",
              "      <td>2</td>\n",
              "      <td>4</td>\n",
              "      <td>424</td>\n",
              "      <td>10</td>\n",
              "    </tr>\n",
              "    <tr>\n",
              "      <th>4</th>\n",
              "      <td>1402</td>\n",
              "      <td>1</td>\n",
              "      <td>410</td>\n",
              "      <td>278135</td>\n",
              "      <td>3</td>\n",
              "      <td>1</td>\n",
              "      <td>2</td>\n",
              "      <td>312</td>\n",
              "      <td>6</td>\n",
              "    </tr>\n",
              "  </tbody>\n",
              "</table>\n",
              "</div>"
            ],
            "text/plain": [
              "   Customer_Id  Recency  ...  CombinedScore  CombinedScoreTotal\n",
              "0         1680        8  ...            143                   8\n",
              "1         1400        2  ...            233                   8\n",
              "2         1681        3  ...            244                  10\n",
              "3         1401        0  ...            424                  10\n",
              "4         1402        1  ...            312                   6\n",
              "\n",
              "[5 rows x 9 columns]"
            ]
          },
          "metadata": {
            "tags": []
          },
          "execution_count": 60
        }
      ]
    },
    {
      "cell_type": "code",
      "metadata": {
        "colab": {
          "base_uri": "https://localhost:8080/"
        },
        "id": "bErOt5UL10A5",
        "outputId": "d2397ad0-d7fd-4ae0-bc6d-bcec6f011d28"
      },
      "source": [
        "# Count num of unique segments\n",
        "rfm_count_unique = customer.groupby('CombinedScore')['CombinedScore'].nunique()\n",
        "print(rfm_count_unique.sum())"
      ],
      "execution_count": null,
      "outputs": [
        {
          "output_type": "stream",
          "text": [
            "63\n"
          ],
          "name": "stdout"
        }
      ]
    },
    {
      "cell_type": "code",
      "metadata": {
        "id": "6bAA8i7yHCFf"
      },
      "source": [
        "def rfm_labels(x):\n",
        "    if x <= 4:\n",
        "        return \"Risk of churn\"\n",
        "    elif x <= 6:\n",
        "        return \"Low Spenders\"\n",
        "    elif x <= 8:\n",
        "        return \"Mid Spenders\"\n",
        "    else:\n",
        "        return \"High spenders\"\n"
      ],
      "execution_count": null,
      "outputs": []
    },
    {
      "cell_type": "code",
      "metadata": {
        "id": "-NLsQZLgzTZo"
      },
      "source": [
        "def rfm_labels(x):\n",
        "    if x <= 4:\n",
        "        return \"Risk of churn\"\n",
        "    elif x <= 6:\n",
        "        return \"Low Spenders\"\n",
        "    elif x <= 8:\n",
        "        return \"Mid Spenders\"\n",
        "    else:\n",
        "        return \"High spenders\"\n"
      ],
      "execution_count": null,
      "outputs": []
    },
    {
      "cell_type": "code",
      "metadata": {
        "id": "ye-6jFQL0fLa",
        "colab": {
          "base_uri": "https://localhost:8080/",
          "height": 204
        },
        "outputId": "89f5e3c3-98f0-41c9-fd18-aeb45b32105c"
      },
      "source": [
        "customer[\"levels\"] = customer[\"CombinedScoreTotal\"].apply(rfm_labels)\n",
        "customer.head()"
      ],
      "execution_count": null,
      "outputs": [
        {
          "output_type": "execute_result",
          "data": {
            "text/html": [
              "<div>\n",
              "<style scoped>\n",
              "    .dataframe tbody tr th:only-of-type {\n",
              "        vertical-align: middle;\n",
              "    }\n",
              "\n",
              "    .dataframe tbody tr th {\n",
              "        vertical-align: top;\n",
              "    }\n",
              "\n",
              "    .dataframe thead th {\n",
              "        text-align: right;\n",
              "    }\n",
              "</style>\n",
              "<table border=\"1\" class=\"dataframe\">\n",
              "  <thead>\n",
              "    <tr style=\"text-align: right;\">\n",
              "      <th></th>\n",
              "      <th>Customer_Id</th>\n",
              "      <th>Recency</th>\n",
              "      <th>Frequency</th>\n",
              "      <th>Monetary</th>\n",
              "      <th>RecencyScore</th>\n",
              "      <th>FrequencyScore</th>\n",
              "      <th>MonetaryScore</th>\n",
              "      <th>CombinedScore</th>\n",
              "      <th>CombinedScoreTotal</th>\n",
              "      <th>levels</th>\n",
              "    </tr>\n",
              "  </thead>\n",
              "  <tbody>\n",
              "    <tr>\n",
              "      <th>0</th>\n",
              "      <td>1680</td>\n",
              "      <td>8</td>\n",
              "      <td>446</td>\n",
              "      <td>286070</td>\n",
              "      <td>1</td>\n",
              "      <td>4</td>\n",
              "      <td>3</td>\n",
              "      <td>143</td>\n",
              "      <td>8</td>\n",
              "      <td>Mid Spenders</td>\n",
              "    </tr>\n",
              "    <tr>\n",
              "      <th>1</th>\n",
              "      <td>1400</td>\n",
              "      <td>2</td>\n",
              "      <td>438</td>\n",
              "      <td>292155</td>\n",
              "      <td>2</td>\n",
              "      <td>3</td>\n",
              "      <td>3</td>\n",
              "      <td>233</td>\n",
              "      <td>8</td>\n",
              "      <td>Mid Spenders</td>\n",
              "    </tr>\n",
              "    <tr>\n",
              "      <th>2</th>\n",
              "      <td>1681</td>\n",
              "      <td>3</td>\n",
              "      <td>469</td>\n",
              "      <td>332985</td>\n",
              "      <td>2</td>\n",
              "      <td>4</td>\n",
              "      <td>4</td>\n",
              "      <td>244</td>\n",
              "      <td>10</td>\n",
              "      <td>High spenders</td>\n",
              "    </tr>\n",
              "    <tr>\n",
              "      <th>3</th>\n",
              "      <td>1401</td>\n",
              "      <td>0</td>\n",
              "      <td>413</td>\n",
              "      <td>297260</td>\n",
              "      <td>4</td>\n",
              "      <td>2</td>\n",
              "      <td>4</td>\n",
              "      <td>424</td>\n",
              "      <td>10</td>\n",
              "      <td>High spenders</td>\n",
              "    </tr>\n",
              "    <tr>\n",
              "      <th>4</th>\n",
              "      <td>1402</td>\n",
              "      <td>1</td>\n",
              "      <td>410</td>\n",
              "      <td>278135</td>\n",
              "      <td>3</td>\n",
              "      <td>1</td>\n",
              "      <td>2</td>\n",
              "      <td>312</td>\n",
              "      <td>6</td>\n",
              "      <td>Low Spenders</td>\n",
              "    </tr>\n",
              "  </tbody>\n",
              "</table>\n",
              "</div>"
            ],
            "text/plain": [
              "   Customer_Id  Recency  ...  CombinedScoreTotal         levels\n",
              "0         1680        8  ...                   8   Mid Spenders\n",
              "1         1400        2  ...                   8   Mid Spenders\n",
              "2         1681        3  ...                  10  High spenders\n",
              "3         1401        0  ...                  10  High spenders\n",
              "4         1402        1  ...                   6   Low Spenders\n",
              "\n",
              "[5 rows x 10 columns]"
            ]
          },
          "metadata": {
            "tags": []
          },
          "execution_count": 64
        }
      ]
    },
    {
      "cell_type": "code",
      "metadata": {
        "colab": {
          "base_uri": "https://localhost:8080/"
        },
        "id": "FRG8y5zhS4h7",
        "outputId": "779d9ef9-ecf2-488b-9753-52249333da3e"
      },
      "source": [
        "customer.groupby(\"levels\")[\"CombinedScoreTotal\"].mean() # Average Combined Score of each segment"
      ],
      "execution_count": null,
      "outputs": [
        {
          "output_type": "execute_result",
          "data": {
            "text/plain": [
              "levels\n",
              "High spenders    10.195006\n",
              "Low Spenders      5.580709\n",
              "Mid Spenders      7.469767\n",
              "Risk of churn     3.674797\n",
              "Name: CombinedScoreTotal, dtype: float64"
            ]
          },
          "metadata": {
            "tags": []
          },
          "execution_count": 65
        }
      ]
    },
    {
      "cell_type": "code",
      "metadata": {
        "colab": {
          "base_uri": "https://localhost:8080/"
        },
        "id": "u_AjNxQPSMrh",
        "outputId": "0762f038-e8f8-4c77-958f-9611e9cca3b7"
      },
      "source": [
        "# Calculate average values for each RFM_Level, and return a size of each segment \n",
        "rfm_level_agg = customer.groupby('levels').agg({\n",
        "    'Recency': 'mean',\n",
        "    'Frequency': 'mean',\n",
        "    'Monetary': ['mean', 'count']\n",
        "}).round(1)\n",
        "# Print the aggregated dataset\n",
        "print(rfm_level_agg)\n"
      ],
      "execution_count": null,
      "outputs": [
        {
          "output_type": "stream",
          "text": [
            "              Recency Frequency  Monetary      \n",
            "                 mean      mean      mean count\n",
            "levels                                         \n",
            "High spenders     1.1     443.3  298070.2   841\n",
            "Low Spenders      2.4     410.8  267865.5   508\n",
            "Mid Spenders      2.0     424.1  280852.8   645\n",
            "Risk of churn     4.7     402.3  261056.9   246\n"
          ],
          "name": "stdout"
        }
      ]
    },
    {
      "cell_type": "code",
      "metadata": {
        "id": "Di8C1ukk4tUe",
        "colab": {
          "base_uri": "https://localhost:8080/",
          "height": 410
        },
        "outputId": "6f3f1b5d-3ec8-4e63-df89-c210f63700ca"
      },
      "source": [
        "plt.figure(figsize=(10,6))\n",
        "plt.title(\"Spending habits classification\", c=\"green\", size=13)\n",
        "sns.countplot(customer[\"levels\"], palette=\"magma\");"
      ],
      "execution_count": null,
      "outputs": [
        {
          "output_type": "display_data",
          "data": {
            "image/png": "[encoded data removed]",
            "text/plain": [
              "<Figure size 720x432 with 1 Axes>"
            ]
          },
          "metadata": {
            "tags": []
          }
        }
      ]
    },
    {
      "cell_type": "code",
      "metadata": {
        "id": "1V1p6uqEQ4AY"
      },
      "source": [
        ""
      ],
      "execution_count": null,
      "outputs": []
    },
    {
      "cell_type": "code",
      "metadata": {
        "id": "ktfHue-vQ4oH"
      },
      "source": [
        ""
      ],
      "execution_count": null,
      "outputs": []
    },
    {
      "cell_type": "code",
      "metadata": {
        "id": "armutJ-xQ4kb"
      },
      "source": [
        ""
      ],
      "execution_count": null,
      "outputs": []
    },
    {
      "cell_type": "code",
      "metadata": {
        "id": "-f7wFeNPQ4ay"
      },
      "source": [
        ""
      ],
      "execution_count": null,
      "outputs": []
    }
  ]
}