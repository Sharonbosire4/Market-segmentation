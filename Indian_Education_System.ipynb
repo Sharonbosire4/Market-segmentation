{
  "nbformat": 4,
  "nbformat_minor": 0,
  "metadata": {
    "colab": {
      "name": "Indian_Education_System.ipynb",
      "provenance": [],
      "collapsed_sections": []
    },
    "kernelspec": {
      "name": "python3",
      "display_name": "Python 3"
    }
  },
  "cells": [
    {
      "cell_type": "markdown",
      "metadata": {
        "id": "zhswSp5nJ3jv"
      },
      "source": [
        "# Improving Indian Education System"
      ]
    },
    {
      "cell_type": "markdown",
      "metadata": {
        "id": "4eBvKV_cHL2B"
      },
      "source": [
        "In the project we made an attempt to evaluate the education system of India and categorize states based on parameters of evaluation.  \n",
        "\n",
        "India is a huge country with numerous states so diffent states will have different issues. So a common solution cannot solve all the problems here so categorizing states and looking at the problems of each category separately can bring huge improvement in the education system.\n",
        "\n",
        "We will use clustering approach to categorize/cluster states based on 7 parameters :\n",
        "\n",
        "1. **Percentage of Schools with Drinking Water Facility**\n",
        "\n",
        "2. **Gross Enrolment Ratio**\n",
        "\n",
        "3. **Drop-out rate**\n",
        "\n",
        "4. **Percentage of Schools with Computers**\n",
        "\n",
        "5. **Percentage of Schools with Electricity**\n",
        "\n",
        "6. **Schools with Boys Toilet**\n",
        "\n",
        "7. **Schools with Girls Toilet**\n",
        "\n",
        "The dataset is collected from https://www.kaggle.com/vidyapb/indian-school-education-statistics.\n",
        "\n",
        "The dataset for each of the above parameters contained data for every state of India for 3 years 2013-14 to 2015-16. We took the latest data (2015-16) for our analysis. If there is missing values for some state then we take the values from previous year for that state 2014-15 or 2013-14 if even that is not available. If all the values are missing for that particular state then we impute it with mean value of all states for that particular parameter/column. So in this way after selecting recent data and imputing missing values we come up with a new csv file d_c__.csv which we will use for clustering."
      ]
    },
    {
      "cell_type": "code",
      "metadata": {
        "id": "sQ_4lXlOm1U1",
        "colab": {
          "base_uri": "https://localhost:8080/",
          "height": 204
        },
        "outputId": "fffb742b-e644-4399-c317-6606c4e44815"
      },
      "source": [
        "# Load and view the data\n",
        "import pandas as pd\n",
        "df=pd.read_csv('d_c__.csv')\n",
        "df.head()"
      ],
      "execution_count": null,
      "outputs": [
        {
          "output_type": "execute_result",
          "data": {
            "text/html": [
              "<div>\n",
              "<style scoped>\n",
              "    .dataframe tbody tr th:only-of-type {\n",
              "        vertical-align: middle;\n",
              "    }\n",
              "\n",
              "    .dataframe tbody tr th {\n",
              "        vertical-align: top;\n",
              "    }\n",
              "\n",
              "    .dataframe thead th {\n",
              "        text-align: right;\n",
              "    }\n",
              "</style>\n",
              "<table border=\"1\" class=\"dataframe\">\n",
              "  <thead>\n",
              "    <tr style=\"text-align: right;\">\n",
              "      <th></th>\n",
              "      <th>State_UT</th>\n",
              "      <th>mean_dropout</th>\n",
              "      <th>enrollment_ratio</th>\n",
              "      <th>comp</th>\n",
              "      <th>electricity</th>\n",
              "      <th>water</th>\n",
              "      <th>boys_toilet</th>\n",
              "      <th>female_toilet</th>\n",
              "    </tr>\n",
              "  </thead>\n",
              "  <tbody>\n",
              "    <tr>\n",
              "      <th>0</th>\n",
              "      <td>A &amp; N Islands</td>\n",
              "      <td>7.191667</td>\n",
              "      <td>83.746667</td>\n",
              "      <td>50.113636</td>\n",
              "      <td>60.893636</td>\n",
              "      <td>63.636364</td>\n",
              "      <td>63.636364</td>\n",
              "      <td>63.636364</td>\n",
              "    </tr>\n",
              "    <tr>\n",
              "      <th>1</th>\n",
              "      <td>Andhra Pradesh</td>\n",
              "      <td>9.850000</td>\n",
              "      <td>75.552500</td>\n",
              "      <td>58.854545</td>\n",
              "      <td>95.706364</td>\n",
              "      <td>97.686364</td>\n",
              "      <td>99.777273</td>\n",
              "      <td>99.913636</td>\n",
              "    </tr>\n",
              "    <tr>\n",
              "      <th>2</th>\n",
              "      <td>Arunachal Pradesh</td>\n",
              "      <td>13.250000</td>\n",
              "      <td>102.067500</td>\n",
              "      <td>50.401818</td>\n",
              "      <td>69.061818</td>\n",
              "      <td>84.240000</td>\n",
              "      <td>88.652727</td>\n",
              "      <td>89.777273</td>\n",
              "    </tr>\n",
              "    <tr>\n",
              "      <th>3</th>\n",
              "      <td>Assam</td>\n",
              "      <td>15.022500</td>\n",
              "      <td>79.004167</td>\n",
              "      <td>40.657273</td>\n",
              "      <td>63.560000</td>\n",
              "      <td>92.052727</td>\n",
              "      <td>82.017273</td>\n",
              "      <td>85.845455</td>\n",
              "    </tr>\n",
              "    <tr>\n",
              "      <th>4</th>\n",
              "      <td>Bihar</td>\n",
              "      <td>9.891869</td>\n",
              "      <td>82.744167</td>\n",
              "      <td>26.106364</td>\n",
              "      <td>52.833636</td>\n",
              "      <td>97.268182</td>\n",
              "      <td>92.170000</td>\n",
              "      <td>93.288182</td>\n",
              "    </tr>\n",
              "  </tbody>\n",
              "</table>\n",
              "</div>"
            ],
            "text/plain": [
              "            State_UT  mean_dropout  ...  boys_toilet  female_toilet\n",
              "0      A & N Islands      7.191667  ...    63.636364      63.636364\n",
              "1     Andhra Pradesh      9.850000  ...    99.777273      99.913636\n",
              "2  Arunachal Pradesh     13.250000  ...    88.652727      89.777273\n",
              "3              Assam     15.022500  ...    82.017273      85.845455\n",
              "4              Bihar      9.891869  ...    92.170000      93.288182\n",
              "\n",
              "[5 rows x 8 columns]"
            ]
          },
          "metadata": {
            "tags": []
          },
          "execution_count": 92
        }
      ]
    },
    {
      "cell_type": "code",
      "metadata": {
        "id": "eKILGqg39Y80"
      },
      "source": [
        "dfc=df.copy()"
      ],
      "execution_count": null,
      "outputs": []
    },
    {
      "cell_type": "code",
      "metadata": {
        "id": "8fL6tYIPLMpN",
        "colab": {
          "base_uri": "https://localhost:8080/",
          "height": 297
        },
        "outputId": "1a875006-2718-40c1-c971-af8c917c5cf1"
      },
      "source": [
        "# See summary statistic of all features\n",
        "df.describe()"
      ],
      "execution_count": null,
      "outputs": [
        {
          "output_type": "execute_result",
          "data": {
            "text/html": [
              "<div>\n",
              "<style scoped>\n",
              "    .dataframe tbody tr th:only-of-type {\n",
              "        vertical-align: middle;\n",
              "    }\n",
              "\n",
              "    .dataframe tbody tr th {\n",
              "        vertical-align: top;\n",
              "    }\n",
              "\n",
              "    .dataframe thead th {\n",
              "        text-align: right;\n",
              "    }\n",
              "</style>\n",
              "<table border=\"1\" class=\"dataframe\">\n",
              "  <thead>\n",
              "    <tr style=\"text-align: right;\">\n",
              "      <th></th>\n",
              "      <th>mean_dropout</th>\n",
              "      <th>enrollment_ratio</th>\n",
              "      <th>comp</th>\n",
              "      <th>electricity</th>\n",
              "      <th>water</th>\n",
              "      <th>boys_toilet</th>\n",
              "      <th>female_toilet</th>\n",
              "    </tr>\n",
              "  </thead>\n",
              "  <tbody>\n",
              "    <tr>\n",
              "      <th>count</th>\n",
              "      <td>36.000000</td>\n",
              "      <td>36.000000</td>\n",
              "      <td>36.000000</td>\n",
              "      <td>36.000000</td>\n",
              "      <td>36.000000</td>\n",
              "      <td>36.000000</td>\n",
              "      <td>36.000000</td>\n",
              "    </tr>\n",
              "    <tr>\n",
              "      <th>mean</th>\n",
              "      <td>8.461537</td>\n",
              "      <td>87.501481</td>\n",
              "      <td>56.649040</td>\n",
              "      <td>77.322273</td>\n",
              "      <td>88.613005</td>\n",
              "      <td>88.845126</td>\n",
              "      <td>89.198207</td>\n",
              "    </tr>\n",
              "    <tr>\n",
              "      <th>std</th>\n",
              "      <td>3.269587</td>\n",
              "      <td>11.140282</td>\n",
              "      <td>18.652291</td>\n",
              "      <td>17.031949</td>\n",
              "      <td>13.028974</td>\n",
              "      <td>12.647153</td>\n",
              "      <td>12.505814</td>\n",
              "    </tr>\n",
              "    <tr>\n",
              "      <th>min</th>\n",
              "      <td>3.617500</td>\n",
              "      <td>65.176667</td>\n",
              "      <td>20.286364</td>\n",
              "      <td>44.529091</td>\n",
              "      <td>51.056364</td>\n",
              "      <td>53.592727</td>\n",
              "      <td>54.163636</td>\n",
              "    </tr>\n",
              "    <tr>\n",
              "      <th>25%</th>\n",
              "      <td>6.208958</td>\n",
              "      <td>78.875625</td>\n",
              "      <td>45.362273</td>\n",
              "      <td>65.954545</td>\n",
              "      <td>85.073182</td>\n",
              "      <td>84.114545</td>\n",
              "      <td>86.952727</td>\n",
              "    </tr>\n",
              "    <tr>\n",
              "      <th>50%</th>\n",
              "      <td>8.132467</td>\n",
              "      <td>85.703750</td>\n",
              "      <td>55.176818</td>\n",
              "      <td>77.490000</td>\n",
              "      <td>90.909091</td>\n",
              "      <td>90.909091</td>\n",
              "      <td>90.909091</td>\n",
              "    </tr>\n",
              "    <tr>\n",
              "      <th>75%</th>\n",
              "      <td>10.215833</td>\n",
              "      <td>94.624792</td>\n",
              "      <td>71.116818</td>\n",
              "      <td>90.909091</td>\n",
              "      <td>98.686818</td>\n",
              "      <td>99.052955</td>\n",
              "      <td>99.140909</td>\n",
              "    </tr>\n",
              "    <tr>\n",
              "      <th>max</th>\n",
              "      <td>19.156667</td>\n",
              "      <td>111.035000</td>\n",
              "      <td>97.350000</td>\n",
              "      <td>99.960909</td>\n",
              "      <td>99.986364</td>\n",
              "      <td>99.927273</td>\n",
              "      <td>99.974545</td>\n",
              "    </tr>\n",
              "  </tbody>\n",
              "</table>\n",
              "</div>"
            ],
            "text/plain": [
              "       mean_dropout  enrollment_ratio  ...  boys_toilet  female_toilet\n",
              "count     36.000000         36.000000  ...    36.000000      36.000000\n",
              "mean       8.461537         87.501481  ...    88.845126      89.198207\n",
              "std        3.269587         11.140282  ...    12.647153      12.505814\n",
              "min        3.617500         65.176667  ...    53.592727      54.163636\n",
              "25%        6.208958         78.875625  ...    84.114545      86.952727\n",
              "50%        8.132467         85.703750  ...    90.909091      90.909091\n",
              "75%       10.215833         94.624792  ...    99.052955      99.140909\n",
              "max       19.156667        111.035000  ...    99.927273      99.974545\n",
              "\n",
              "[8 rows x 7 columns]"
            ]
          },
          "metadata": {
            "tags": []
          },
          "execution_count": 94
        }
      ]
    },
    {
      "cell_type": "markdown",
      "metadata": {
        "id": "n1sIpHHKLlGA"
      },
      "source": [
        "We can see that we have data for 36 States and Union Territories of India. The range of mean_dropout feature is from 3.7-19.5 whereas others are above 40-100( enrollment_ratio even crosses 100). Also the mean values of some of them significantly differs from others. This different range of data among features may bias the result in case of clustering algorithms where we will use Euclidean Distance to calculate distance between points. So we will first normalize them all between 0 and 1 using MinMaxScaling()."
      ]
    },
    {
      "cell_type": "markdown",
      "metadata": {
        "id": "bNmpn1mV0NgG"
      },
      "source": [
        "We can see that we have data for 36 States and Union Territories of India. The range of mean_dropout feature is from 3.7-19.5 whereas others are above 40-100( enrollment_ratio even crosses 100). Also the mean values of some of them significantly differs from others. This different range of data among features may bias the result in case of clustering algorithms where we will use Euclidean Distance to calculate distance between points. So we will first normalize them all between 0 and 1 using MinMaxScaling()."
      ]
    },
    {
      "cell_type": "code",
      "metadata": {
        "id": "_INsM_oa9B38"
      },
      "source": [
        "# Normalization of features\n",
        "from sklearn.preprocessing import MinMaxScaler\n",
        "mx=MinMaxScaler()\n",
        "model=mx.fit(df.drop('State_UT',axis=1))\n",
        "df[['mean_dropout','enrollment_ratio','comp','electricity','water','boys_toilet','female_toilet']]=model.transform(df.drop('State_UT',axis=1))"
      ],
      "execution_count": null,
      "outputs": []
    },
    {
      "cell_type": "markdown",
      "metadata": {
        "id": "hYc3Ey5TM-Fr"
      },
      "source": [
        "We don't know the number of clusters beforehand. We will determine it in case of KMeans Clustering algorithm using Elbow Method. This is called Elbow Method because we will choose the cluster at that point of the graph from where it stops falling sleeply(just like an elbow of hand). It is the point where the WCSS(Within Cluster Sum of Squares) decreases very slowly. \n",
        "\n",
        "WCSS is the distance between points in a cluster."
      ]
    },
    {
      "cell_type": "code",
      "metadata": {
        "id": "AH17UoNn-Lnl",
        "colab": {
          "base_uri": "https://localhost:8080/",
          "height": 296
        },
        "outputId": "db4f429f-987a-4c6d-e648-58a1cd4829de"
      },
      "source": [
        "from sklearn.cluster import KMeans\n",
        "import matplotlib.pyplot as plt\n",
        "wcss=[]\n",
        "for i in range(1,10):\n",
        "  kmeans=KMeans(i,random_state=3)\n",
        "  kmeans.fit(df.drop('State_UT',axis=1))\n",
        "  wcss.append(kmeans.inertia_)\n",
        "plt.plot(range(1,10),wcss,'-o')\n",
        "plt.xlabel('No. of clusters')\n",
        "plt.ylabel('WCSS')\n",
        "print(wcss)"
      ],
      "execution_count": null,
      "outputs": [
        {
          "output_type": "stream",
          "text": [
            "[16.6672178030323, 9.626212362618736, 6.484020728239903, 5.632412625841087, 4.537588419108999, 4.0515863676978565, 3.4815726314543944, 3.2029808337005674, 2.765789281387371]\n"
          ],
          "name": "stdout"
        },
        {
          "output_type": "display_data",
          "data": {
            "image/png": "[encoded data removed]",
            "text/plain": [
              "<Figure size 432x288 with 1 Axes>"
            ]
          },
          "metadata": {
            "tags": [],
            "needs_background": "light"
          }
        }
      ]
    },
    {
      "cell_type": "markdown",
      "metadata": {
        "id": "_zqZxwkGyY5B"
      },
      "source": [
        "From WCSS values and the Scree Plot we can see that 2 or 3 can be the ideal number of clusters.\n",
        "\n",
        "We will use some metric to choose the ideal number of clusters between 2 and 3"
      ]
    },
    {
      "cell_type": "markdown",
      "metadata": {
        "id": "fueUGlmdymbz"
      },
      "source": [
        "We can use suitable metrics to decide exact number of cluster between 2 and 3. The metrics we will use are:\n",
        "\n",
        "1. Silhoutte Score- It ranges from -1 to 1. Higher the value better our clusters are. Closer to 1 means perfect clusters. 0 mean the point lies at the border of it's cluster. Negative value means that the point is classified into wrong cluster.\n",
        "\n",
        "2. Calinski-Harabasz Index denotes how the data points are spread within a cluster. Higher the score, denser is the cluster thus the cluster is better. It starts from 0 and have no upper limit.\n",
        "\n",
        "3. Davies Boulden Index measures the average similarity between cluster using the ratio of the distance between a cluster and it's closest point & the average distance between each data point of a cluster and it's cluster center.Closer the score is to 0, better our clusters are as it indicates clusters are well separated."
      ]
    },
    {
      "cell_type": "code",
      "metadata": {
        "id": "NL8eQS7wDepo"
      },
      "source": [
        "from sklearn.metrics import silhouette_score,calinski_harabasz_score,davies_bouldin_score"
      ],
      "execution_count": null,
      "outputs": []
    },
    {
      "cell_type": "code",
      "metadata": {
        "id": "ZAHPItDc-e8u",
        "colab": {
          "base_uri": "https://localhost:8080/",
          "height": 85
        },
        "outputId": "266514c8-7e56-48e3-95ee-d44181e8381d"
      },
      "source": [
        "# Though we saw that the ideal number of cluster would be either 2 or 3 we try here with 2,3,4,5 just for the sake of demonstration.\n",
        "l1=[]\n",
        "l2=[]\n",
        "l3=[]\n",
        "l4=[]\n",
        "for i in (2,3,4,5):\n",
        "  kmean=KMeans(i,random_state=42)\n",
        "  mod_k=kmean.fit(df.drop('State_UT',axis=1))\n",
        "  pred_k1=mod_k.predict(df.drop('State_UT',axis=1))\n",
        "  kmean_sil=silhouette_score(df.drop('State_UT',axis=1),pred_k1,metric='euclidean')\n",
        "  kmean_cal=calinski_harabasz_score(df.drop('State_UT',axis=1),pred_k1)\n",
        "  kmean_dav=davies_bouldin_score(df.drop('State_UT',axis=1),pred_k1)\n",
        "  print(i,'\\t','Silhouette Score:' ,kmean_sil,',Calinski Harbasz Score: ',kmean_cal,',Davies Bouldin Score: ',kmean_dav)\n",
        "  l1.append(kmean_sil)\n",
        "  l2.append(kmean_cal)\n",
        "  l3.append(kmean_dav)\n",
        "  l4.append(i)"
      ],
      "execution_count": null,
      "outputs": [
        {
          "output_type": "stream",
          "text": [
            "2 \t Silhouette Score: 0.44848847962652155 ,Calinski Harbasz Score:  24.86899062228208 ,Davies Bouldin Score:  0.8196597416722676\n",
            "3 \t Silhouette Score: 0.3224217125003294 ,Calinski Harbasz Score:  25.913358204159323 ,Davies Bouldin Score:  1.0800582378680623\n",
            "4 \t Silhouette Score: 0.2547587301889692 ,Calinski Harbasz Score:  21.015950228379214 ,Davies Bouldin Score:  1.2405419803124333\n",
            "5 \t Silhouette Score: 0.27697099863547936 ,Calinski Harbasz Score:  20.716869632672488 ,Davies Bouldin Score:  1.0964139165980906\n"
          ],
          "name": "stdout"
        }
      ]
    },
    {
      "cell_type": "code",
      "metadata": {
        "id": "hpdUmjC0HfHe",
        "colab": {
          "base_uri": "https://localhost:8080/",
          "height": 173
        },
        "outputId": "57bfe98d-1d06-498b-b948-d450a2ae044d"
      },
      "source": [
        "pd.DataFrame({'Cluster':l4,'Silhoutte Score':l1,'Calinski Harabasz Index':l2,'Davies Bouldin Score':l3})"
      ],
      "execution_count": null,
      "outputs": [
        {
          "output_type": "execute_result",
          "data": {
            "text/html": [
              "<div>\n",
              "<style scoped>\n",
              "    .dataframe tbody tr th:only-of-type {\n",
              "        vertical-align: middle;\n",
              "    }\n",
              "\n",
              "    .dataframe tbody tr th {\n",
              "        vertical-align: top;\n",
              "    }\n",
              "\n",
              "    .dataframe thead th {\n",
              "        text-align: right;\n",
              "    }\n",
              "</style>\n",
              "<table border=\"1\" class=\"dataframe\">\n",
              "  <thead>\n",
              "    <tr style=\"text-align: right;\">\n",
              "      <th></th>\n",
              "      <th>Cluster</th>\n",
              "      <th>Silhoutte Score</th>\n",
              "      <th>Calinski Harabasz Index</th>\n",
              "      <th>Davies Bouldin Score</th>\n",
              "    </tr>\n",
              "  </thead>\n",
              "  <tbody>\n",
              "    <tr>\n",
              "      <th>0</th>\n",
              "      <td>2</td>\n",
              "      <td>0.448488</td>\n",
              "      <td>24.868991</td>\n",
              "      <td>0.819660</td>\n",
              "    </tr>\n",
              "    <tr>\n",
              "      <th>1</th>\n",
              "      <td>3</td>\n",
              "      <td>0.322422</td>\n",
              "      <td>25.913358</td>\n",
              "      <td>1.080058</td>\n",
              "    </tr>\n",
              "    <tr>\n",
              "      <th>2</th>\n",
              "      <td>4</td>\n",
              "      <td>0.254759</td>\n",
              "      <td>21.015950</td>\n",
              "      <td>1.240542</td>\n",
              "    </tr>\n",
              "    <tr>\n",
              "      <th>3</th>\n",
              "      <td>5</td>\n",
              "      <td>0.276971</td>\n",
              "      <td>20.716870</td>\n",
              "      <td>1.096414</td>\n",
              "    </tr>\n",
              "  </tbody>\n",
              "</table>\n",
              "</div>"
            ],
            "text/plain": [
              "   Cluster  Silhoutte Score  Calinski Harabasz Index  Davies Bouldin Score\n",
              "0        2         0.448488                24.868991              0.819660\n",
              "1        3         0.322422                25.913358              1.080058\n",
              "2        4         0.254759                21.015950              1.240542\n",
              "3        5         0.276971                20.716870              1.096414"
            ]
          },
          "metadata": {
            "tags": []
          },
          "execution_count": 99
        }
      ]
    },
    {
      "cell_type": "markdown",
      "metadata": {
        "id": "6fExURZs4kH8"
      },
      "source": [
        "As expected from screeplot, 2 has best SilHouette Score and Davies Bouldin Score and second best Calinski Harabasz Score. So 2 number of cluster can be an ideal choice."
      ]
    },
    {
      "cell_type": "code",
      "metadata": {
        "id": "bnPUVe4vEFJ1",
        "colab": {
          "base_uri": "https://localhost:8080/",
          "height": 85
        },
        "outputId": "001fed81-8131-4875-8214-e21dfc5bb3ab"
      },
      "source": [
        "# Let's try performing KMeans Clustering on unnormalized data and check what's happening\n",
        "l1=[]\n",
        "l2=[]\n",
        "l3=[]\n",
        "l4=[]\n",
        "for i in (2,3,4,5):\n",
        "  kmean=KMeans(i,random_state=42)\n",
        "  mod_k=kmean.fit(dfc.drop('State_UT',axis=1))\n",
        "  pred_k2=mod_k.predict(dfc.drop('State_UT',axis=1))\n",
        "  kmean_sil=silhouette_score(dfc.drop('State_UT',axis=1),pred_k2,metric='euclidean')\n",
        "  kmean_cal=calinski_harabasz_score(dfc.drop('State_UT',axis=1),pred_k2)\n",
        "  kmean_dav=davies_bouldin_score(dfc.drop('State_UT',axis=1),pred_k2)\n",
        "  print(i,'\\t','Silhouette Score:' ,kmean_sil,',Calinski Harbasz Score: ',kmean_cal,',Davies Bouldin Score: ',kmean_dav)\n",
        "  l1.append(kmean_sil)\n",
        "  l2.append(kmean_cal)\n",
        "  l3.append(kmean_dav)\n",
        "  l4.append(i)"
      ],
      "execution_count": null,
      "outputs": [
        {
          "output_type": "stream",
          "text": [
            "2 \t Silhouette Score: 0.36326732292471725 ,Calinski Harbasz Score:  26.836000086986264 ,Davies Bouldin Score:  1.0167048362013165\n",
            "3 \t Silhouette Score: 0.39380375500268033 ,Calinski Harbasz Score:  32.31219189338498 ,Davies Bouldin Score:  0.9027660815316301\n",
            "4 \t Silhouette Score: 0.3558583485503037 ,Calinski Harbasz Score:  27.182132128555768 ,Davies Bouldin Score:  1.0287532374508164\n",
            "5 \t Silhouette Score: 0.2590288251132861 ,Calinski Harbasz Score:  23.22877522676214 ,Davies Bouldin Score:  1.205087856596584\n"
          ],
          "name": "stdout"
        }
      ]
    },
    {
      "cell_type": "code",
      "metadata": {
        "id": "1A2TZ6LfIA1Z",
        "colab": {
          "base_uri": "https://localhost:8080/",
          "height": 173
        },
        "outputId": "c71c33aa-26a1-4db1-9deb-ce2ead879fe1"
      },
      "source": [
        "pd.DataFrame({'Cluster':l4,'Silhoutte Score':l1,'Calinski Harabasz Index':l2,'Davies Bouldin Score':l3})"
      ],
      "execution_count": null,
      "outputs": [
        {
          "output_type": "execute_result",
          "data": {
            "text/html": [
              "<div>\n",
              "<style scoped>\n",
              "    .dataframe tbody tr th:only-of-type {\n",
              "        vertical-align: middle;\n",
              "    }\n",
              "\n",
              "    .dataframe tbody tr th {\n",
              "        vertical-align: top;\n",
              "    }\n",
              "\n",
              "    .dataframe thead th {\n",
              "        text-align: right;\n",
              "    }\n",
              "</style>\n",
              "<table border=\"1\" class=\"dataframe\">\n",
              "  <thead>\n",
              "    <tr style=\"text-align: right;\">\n",
              "      <th></th>\n",
              "      <th>Cluster</th>\n",
              "      <th>Silhoutte Score</th>\n",
              "      <th>Calinski Harabasz Index</th>\n",
              "      <th>Davies Bouldin Score</th>\n",
              "    </tr>\n",
              "  </thead>\n",
              "  <tbody>\n",
              "    <tr>\n",
              "      <th>0</th>\n",
              "      <td>2</td>\n",
              "      <td>0.363267</td>\n",
              "      <td>26.836000</td>\n",
              "      <td>1.016705</td>\n",
              "    </tr>\n",
              "    <tr>\n",
              "      <th>1</th>\n",
              "      <td>3</td>\n",
              "      <td>0.393804</td>\n",
              "      <td>32.312192</td>\n",
              "      <td>0.902766</td>\n",
              "    </tr>\n",
              "    <tr>\n",
              "      <th>2</th>\n",
              "      <td>4</td>\n",
              "      <td>0.355858</td>\n",
              "      <td>27.182132</td>\n",
              "      <td>1.028753</td>\n",
              "    </tr>\n",
              "    <tr>\n",
              "      <th>3</th>\n",
              "      <td>5</td>\n",
              "      <td>0.259029</td>\n",
              "      <td>23.228775</td>\n",
              "      <td>1.205088</td>\n",
              "    </tr>\n",
              "  </tbody>\n",
              "</table>\n",
              "</div>"
            ],
            "text/plain": [
              "   Cluster  Silhoutte Score  Calinski Harabasz Index  Davies Bouldin Score\n",
              "0        2         0.363267                26.836000              1.016705\n",
              "1        3         0.393804                32.312192              0.902766\n",
              "2        4         0.355858                27.182132              1.028753\n",
              "3        5         0.259029                23.228775              1.205088"
            ]
          },
          "metadata": {
            "tags": []
          },
          "execution_count": 101
        }
      ]
    },
    {
      "cell_type": "markdown",
      "metadata": {
        "id": "SJXp6DzK5mWE"
      },
      "source": [
        "We can see that best cluster no. in this case is 3. But both the Silhoutte Score and Davies Bouldin Score detoriated though Calinski Harabarz score improved a bit. Overall, the model performance detoriated a bit. So as mentioned before, normalizing data points before clustering do give good results."
      ]
    },
    {
      "cell_type": "markdown",
      "metadata": {
        "id": "ktJPHus-6LWe"
      },
      "source": [
        "Next we will use a Hierarchical Clustering technique called Agglomerative Clustering. It is a bottom-up clustering approach where each data point is first considered as individual cluster and then merge closest points according to a distance metric until a single cluster is obtained.\n",
        "\n",
        "The Heirarchical Clustering can be visualized using a dendrogram as shown below. The suitable number of clusters for this data is shown as 2 in the dendrogram. "
      ]
    },
    {
      "cell_type": "code",
      "metadata": {
        "id": "JY6YfTkqBzzl",
        "colab": {
          "base_uri": "https://localhost:8080/",
          "height": 269
        },
        "outputId": "c2903089-e0bc-447f-bbb2-727a0dfd1483"
      },
      "source": [
        "from scipy.cluster.hierarchy import dendrogram\n",
        "import scipy.cluster.hierarchy as sch\n",
        "dendrogram=sch.dendrogram(sch.linkage(df.drop('State_UT',axis=1),method='ward'))"
      ],
      "execution_count": null,
      "outputs": [
        {
          "output_type": "display_data",
          "data": {
            "image/png": "[encoded data removed]",
            "text/plain": [
              "<Figure size 432x288 with 1 Axes>"
            ]
          },
          "metadata": {
            "tags": [],
            "needs_background": "light"
          }
        }
      ]
    },
    {
      "cell_type": "markdown",
      "metadata": {
        "id": "3k8SjvmX80vz"
      },
      "source": [
        "From the dendrogram we saw that the ideal number of clusters for the dataset is 2, the kmeans algorithm also found the same. We will again use Silhoutte Score, Calinski Harabarz Index and Davis Bouldin Score to validate this."
      ]
    },
    {
      "cell_type": "code",
      "metadata": {
        "id": "WZ5uJiFiCag9"
      },
      "source": [
        "list1=['single','complete','average','ward']"
      ],
      "execution_count": null,
      "outputs": []
    },
    {
      "cell_type": "code",
      "metadata": {
        "id": "vL5_ihwtCp8a",
        "colab": {
          "base_uri": "https://localhost:8080/",
          "height": 1000
        },
        "outputId": "984ad818-5034-4f87-a578-e77cd34f7cfb"
      },
      "source": [
        "from sklearn.cluster import AgglomerativeClustering\n",
        "l1=[]\n",
        "l2=[]\n",
        "l3=[]\n",
        "l4=[]\n",
        "l5=[]\n",
        "for j in list1:\n",
        "  for i in (2,3,4,5):\n",
        "    agg_m=AgglomerativeClustering(n_clusters=i,affinity='euclidean',linkage=j)\n",
        "    mod_k=agg_m.fit(df.drop('State_UT',axis=1))\n",
        "    #pred_k=mod_k.predict(df.drop('State_UT',axis=1))\n",
        "    kmean_sil=silhouette_score(df.drop('State_UT',axis=1),agg_m.labels_,metric='euclidean')\n",
        "    kmean_cal=calinski_harabasz_score(df.drop('State_UT',axis=1),agg_m.labels_)\n",
        "    kmean_dav=davies_bouldin_score(df.drop('State_UT',axis=1),agg_m.labels_)\n",
        "    print(i,j)\n",
        "    print(i,'\\t','Silhouette Score:' ,kmean_sil,',Calinski Harbasz Score: ',kmean_cal,',Davies Bouldin Score: ',kmean_dav)\n",
        "    print('---------')\n",
        "    print('\\n')\n",
        "    l1.append(i)\n",
        "    l2.append(j)\n",
        "    l3.append(kmean_sil)\n",
        "    l4.append(kmean_cal)\n",
        "    l5.append(kmean_dav)"
      ],
      "execution_count": null,
      "outputs": [
        {
          "output_type": "stream",
          "text": [
            "2 single\n",
            "2 \t Silhouette Score: 0.20935040549281558 ,Calinski Harbasz Score:  1.9053676350081443 ,Davies Bouldin Score:  0.6419306752788748\n",
            "---------\n",
            "\n",
            "\n",
            "3 single\n",
            "3 \t Silhouette Score: 0.16274986189551388 ,Calinski Harbasz Score:  4.293015682478415 ,Davies Bouldin Score:  0.52859158574078\n",
            "---------\n",
            "\n",
            "\n",
            "4 single\n",
            "4 \t Silhouette Score: 0.22139668147448793 ,Calinski Harbasz Score:  6.8057027193728326 ,Davies Bouldin Score:  0.5045172230371229\n",
            "---------\n",
            "\n",
            "\n",
            "5 single\n",
            "5 \t Silhouette Score: 0.2307965947728134 ,Calinski Harbasz Score:  7.7963361401466695 ,Davies Bouldin Score:  0.6021675969107608\n",
            "---------\n",
            "\n",
            "\n",
            "2 complete\n",
            "2 \t Silhouette Score: 0.38403267978142674 ,Calinski Harbasz Score:  22.374719523276134 ,Davies Bouldin Score:  1.0044235618268589\n",
            "---------\n",
            "\n",
            "\n",
            "3 complete\n",
            "3 \t Silhouette Score: 0.27208705516733694 ,Calinski Harbasz Score:  14.887961782428992 ,Davies Bouldin Score:  1.0807058066188384\n",
            "---------\n",
            "\n",
            "\n",
            "4 complete\n",
            "4 \t Silhouette Score: 0.26380572856155265 ,Calinski Harbasz Score:  19.320093129453365 ,Davies Bouldin Score:  1.1252132933165975\n",
            "---------\n",
            "\n",
            "\n",
            "5 complete\n",
            "5 \t Silhouette Score: 0.2705760781344154 ,Calinski Harbasz Score:  17.49391418734937 ,Davies Bouldin Score:  0.9422053651050298\n",
            "---------\n",
            "\n",
            "\n",
            "2 average\n",
            "2 \t Silhouette Score: 0.44848847962652155 ,Calinski Harbasz Score:  24.86899062228208 ,Davies Bouldin Score:  0.8196597416722676\n",
            "---------\n",
            "\n",
            "\n",
            "3 average\n",
            "3 \t Silhouette Score: 0.3194745305795007 ,Calinski Harbasz Score:  14.668642495892517 ,Davies Bouldin Score:  0.7182227801479989\n",
            "---------\n",
            "\n",
            "\n",
            "4 average\n",
            "4 \t Silhouette Score: 0.2629098713415472 ,Calinski Harbasz Score:  10.742637447198925 ,Davies Bouldin Score:  0.6883806801949403\n",
            "---------\n",
            "\n",
            "\n",
            "5 average\n",
            "5 \t Silhouette Score: 0.2593551047621969 ,Calinski Harbasz Score:  16.58471843768464 ,Davies Bouldin Score:  0.8265235151649215\n",
            "---------\n",
            "\n",
            "\n",
            "2 ward\n",
            "2 \t Silhouette Score: 0.44848847962652155 ,Calinski Harbasz Score:  24.86899062228208 ,Davies Bouldin Score:  0.8196597416722676\n",
            "---------\n",
            "\n",
            "\n",
            "3 ward\n",
            "3 \t Silhouette Score: 0.2763278462075044 ,Calinski Harbasz Score:  22.436096560069096 ,Davies Bouldin Score:  1.1620226575744592\n",
            "---------\n",
            "\n",
            "\n",
            "4 ward\n",
            "4 \t Silhouette Score: 0.243780510086188 ,Calinski Harbasz Score:  20.10777280487642 ,Davies Bouldin Score:  1.265391713944124\n",
            "---------\n",
            "\n",
            "\n",
            "5 ward\n",
            "5 \t Silhouette Score: 0.26809747681969304 ,Calinski Harbasz Score:  19.166690452065968 ,Davies Bouldin Score:  1.11863949784258\n",
            "---------\n",
            "\n",
            "\n"
          ],
          "name": "stdout"
        }
      ]
    },
    {
      "cell_type": "code",
      "metadata": {
        "id": "05U6NSesJPag",
        "colab": {
          "base_uri": "https://localhost:8080/",
          "height": 545
        },
        "outputId": "f025e37a-3dba-47a8-b36b-61ba521d95a8"
      },
      "source": [
        "pd.DataFrame({'Cluster':l1,'Linkage':l2,'Silhoutte Score':l3,'Calinski Harabasz Index':l4,'Davies Bouldin Score':l5})"
      ],
      "execution_count": null,
      "outputs": [
        {
          "output_type": "execute_result",
          "data": {
            "text/html": [
              "<div>\n",
              "<style scoped>\n",
              "    .dataframe tbody tr th:only-of-type {\n",
              "        vertical-align: middle;\n",
              "    }\n",
              "\n",
              "    .dataframe tbody tr th {\n",
              "        vertical-align: top;\n",
              "    }\n",
              "\n",
              "    .dataframe thead th {\n",
              "        text-align: right;\n",
              "    }\n",
              "</style>\n",
              "<table border=\"1\" class=\"dataframe\">\n",
              "  <thead>\n",
              "    <tr style=\"text-align: right;\">\n",
              "      <th></th>\n",
              "      <th>Cluster</th>\n",
              "      <th>Linkage</th>\n",
              "      <th>Silhoutte Score</th>\n",
              "      <th>Calinski Harabasz Index</th>\n",
              "      <th>Davies Bouldin Score</th>\n",
              "    </tr>\n",
              "  </thead>\n",
              "  <tbody>\n",
              "    <tr>\n",
              "      <th>0</th>\n",
              "      <td>2</td>\n",
              "      <td>single</td>\n",
              "      <td>0.209350</td>\n",
              "      <td>1.905368</td>\n",
              "      <td>0.641931</td>\n",
              "    </tr>\n",
              "    <tr>\n",
              "      <th>1</th>\n",
              "      <td>3</td>\n",
              "      <td>single</td>\n",
              "      <td>0.162750</td>\n",
              "      <td>4.293016</td>\n",
              "      <td>0.528592</td>\n",
              "    </tr>\n",
              "    <tr>\n",
              "      <th>2</th>\n",
              "      <td>4</td>\n",
              "      <td>single</td>\n",
              "      <td>0.221397</td>\n",
              "      <td>6.805703</td>\n",
              "      <td>0.504517</td>\n",
              "    </tr>\n",
              "    <tr>\n",
              "      <th>3</th>\n",
              "      <td>5</td>\n",
              "      <td>single</td>\n",
              "      <td>0.230797</td>\n",
              "      <td>7.796336</td>\n",
              "      <td>0.602168</td>\n",
              "    </tr>\n",
              "    <tr>\n",
              "      <th>4</th>\n",
              "      <td>2</td>\n",
              "      <td>complete</td>\n",
              "      <td>0.384033</td>\n",
              "      <td>22.374720</td>\n",
              "      <td>1.004424</td>\n",
              "    </tr>\n",
              "    <tr>\n",
              "      <th>5</th>\n",
              "      <td>3</td>\n",
              "      <td>complete</td>\n",
              "      <td>0.272087</td>\n",
              "      <td>14.887962</td>\n",
              "      <td>1.080706</td>\n",
              "    </tr>\n",
              "    <tr>\n",
              "      <th>6</th>\n",
              "      <td>4</td>\n",
              "      <td>complete</td>\n",
              "      <td>0.263806</td>\n",
              "      <td>19.320093</td>\n",
              "      <td>1.125213</td>\n",
              "    </tr>\n",
              "    <tr>\n",
              "      <th>7</th>\n",
              "      <td>5</td>\n",
              "      <td>complete</td>\n",
              "      <td>0.270576</td>\n",
              "      <td>17.493914</td>\n",
              "      <td>0.942205</td>\n",
              "    </tr>\n",
              "    <tr>\n",
              "      <th>8</th>\n",
              "      <td>2</td>\n",
              "      <td>average</td>\n",
              "      <td>0.448488</td>\n",
              "      <td>24.868991</td>\n",
              "      <td>0.819660</td>\n",
              "    </tr>\n",
              "    <tr>\n",
              "      <th>9</th>\n",
              "      <td>3</td>\n",
              "      <td>average</td>\n",
              "      <td>0.319475</td>\n",
              "      <td>14.668642</td>\n",
              "      <td>0.718223</td>\n",
              "    </tr>\n",
              "    <tr>\n",
              "      <th>10</th>\n",
              "      <td>4</td>\n",
              "      <td>average</td>\n",
              "      <td>0.262910</td>\n",
              "      <td>10.742637</td>\n",
              "      <td>0.688381</td>\n",
              "    </tr>\n",
              "    <tr>\n",
              "      <th>11</th>\n",
              "      <td>5</td>\n",
              "      <td>average</td>\n",
              "      <td>0.259355</td>\n",
              "      <td>16.584718</td>\n",
              "      <td>0.826524</td>\n",
              "    </tr>\n",
              "    <tr>\n",
              "      <th>12</th>\n",
              "      <td>2</td>\n",
              "      <td>ward</td>\n",
              "      <td>0.448488</td>\n",
              "      <td>24.868991</td>\n",
              "      <td>0.819660</td>\n",
              "    </tr>\n",
              "    <tr>\n",
              "      <th>13</th>\n",
              "      <td>3</td>\n",
              "      <td>ward</td>\n",
              "      <td>0.276328</td>\n",
              "      <td>22.436097</td>\n",
              "      <td>1.162023</td>\n",
              "    </tr>\n",
              "    <tr>\n",
              "      <th>14</th>\n",
              "      <td>4</td>\n",
              "      <td>ward</td>\n",
              "      <td>0.243781</td>\n",
              "      <td>20.107773</td>\n",
              "      <td>1.265392</td>\n",
              "    </tr>\n",
              "    <tr>\n",
              "      <th>15</th>\n",
              "      <td>5</td>\n",
              "      <td>ward</td>\n",
              "      <td>0.268097</td>\n",
              "      <td>19.166690</td>\n",
              "      <td>1.118639</td>\n",
              "    </tr>\n",
              "  </tbody>\n",
              "</table>\n",
              "</div>"
            ],
            "text/plain": [
              "    Cluster   Linkage  ...  Calinski Harabasz Index  Davies Bouldin Score\n",
              "0         2    single  ...                 1.905368              0.641931\n",
              "1         3    single  ...                 4.293016              0.528592\n",
              "2         4    single  ...                 6.805703              0.504517\n",
              "3         5    single  ...                 7.796336              0.602168\n",
              "4         2  complete  ...                22.374720              1.004424\n",
              "5         3  complete  ...                14.887962              1.080706\n",
              "6         4  complete  ...                19.320093              1.125213\n",
              "7         5  complete  ...                17.493914              0.942205\n",
              "8         2   average  ...                24.868991              0.819660\n",
              "9         3   average  ...                14.668642              0.718223\n",
              "10        4   average  ...                10.742637              0.688381\n",
              "11        5   average  ...                16.584718              0.826524\n",
              "12        2      ward  ...                24.868991              0.819660\n",
              "13        3      ward  ...                22.436097              1.162023\n",
              "14        4      ward  ...                20.107773              1.265392\n",
              "15        5      ward  ...                19.166690              1.118639\n",
              "\n",
              "[16 rows x 5 columns]"
            ]
          },
          "metadata": {
            "tags": []
          },
          "execution_count": 105
        }
      ]
    },
    {
      "cell_type": "markdown",
      "metadata": {
        "id": "cz-XgecM9fjB"
      },
      "source": [
        "As observed from the output, ideal number of clusters is indeed 2 with linkage methods '**average**' or '**ward**'."
      ]
    },
    {
      "cell_type": "code",
      "metadata": {
        "id": "bVKAHSsbDXEN",
        "colab": {
          "base_uri": "https://localhost:8080/",
          "height": 1000
        },
        "outputId": "e5c4c983-112d-43db-c302-84a1d41dc218"
      },
      "source": [
        "l1=[]\n",
        "l2=[]\n",
        "l3=[]\n",
        "l4=[]\n",
        "l5=[]\n",
        "for j in list1:\n",
        " for i in (2,3,4,5):\n",
        "  agm=AgglomerativeClustering(n_clusters=i,affinity='euclidean',linkage=j)\n",
        "  mod_k=agm.fit(dfc.drop('State_UT',axis=1))\n",
        "  #pred_k=mod_k.predict(df.drop('State_UT',axis=1))\n",
        "  kmean_sil=silhouette_score(dfc.drop('State_UT',axis=1),agm.labels_,metric='euclidean')\n",
        "  kmean_cal=calinski_harabasz_score(dfc.drop('State_UT',axis=1),agm.labels_)\n",
        "  kmean_dav=davies_bouldin_score(dfc.drop('State_UT',axis=1),agm.labels_)\n",
        "  print(i,j)\n",
        "  print(i,'\\t','Silhouette Score:' ,kmean_sil,',Calinski Harbasz Score: ',kmean_cal,',Davies Bouldin Score: ',kmean_dav)\n",
        "  print('---------')\n",
        "  print('\\n')\n",
        "  l1.append(i)\n",
        "  l2.append(j)\n",
        "  l3.append(kmean_sil)\n",
        "  l4.append(kmean_cal)\n",
        "  l5.append(kmean_dav)"
      ],
      "execution_count": null,
      "outputs": [
        {
          "output_type": "stream",
          "text": [
            "2 single\n",
            "2 \t Silhouette Score: 0.43893203183343654 ,Calinski Harbasz Score:  6.213533741431188 ,Davies Bouldin Score:  0.3630591468457711\n",
            "---------\n",
            "\n",
            "\n",
            "3 single\n",
            "3 \t Silhouette Score: 0.3587674461439186 ,Calinski Harbasz Score:  7.606582209338366 ,Davies Bouldin Score:  0.5131789098253615\n",
            "---------\n",
            "\n",
            "\n",
            "4 single\n",
            "4 \t Silhouette Score: 0.15500255278655695 ,Calinski Harbasz Score:  5.688970567149966 ,Davies Bouldin Score:  0.5953105971535857\n",
            "---------\n",
            "\n",
            "\n",
            "5 single\n",
            "5 \t Silhouette Score: 0.14354054564261026 ,Calinski Harbasz Score:  5.548882884058058 ,Davies Bouldin Score:  0.5467555030448845\n",
            "---------\n",
            "\n",
            "\n",
            "2 complete\n",
            "2 \t Silhouette Score: 0.43125840551810285 ,Calinski Harbasz Score:  20.671098960048344 ,Davies Bouldin Score:  0.7866202263770135\n",
            "---------\n",
            "\n",
            "\n",
            "3 complete\n",
            "3 \t Silhouette Score: 0.3347410840627271 ,Calinski Harbasz Score:  24.384749042622854 ,Davies Bouldin Score:  0.8524536367527181\n",
            "---------\n",
            "\n",
            "\n",
            "4 complete\n",
            "4 \t Silhouette Score: 0.3025548575379217 ,Calinski Harbasz Score:  26.38570861665957 ,Davies Bouldin Score:  1.0105579556198638\n",
            "---------\n",
            "\n",
            "\n",
            "5 complete\n",
            "5 \t Silhouette Score: 0.24822523059427257 ,Calinski Harbasz Score:  23.080326530476935 ,Davies Bouldin Score:  1.1489643670330167\n",
            "---------\n",
            "\n",
            "\n",
            "2 average\n",
            "2 \t Silhouette Score: 0.4140166527826558 ,Calinski Harbasz Score:  20.959451844316927 ,Davies Bouldin Score:  0.8771993403591534\n",
            "---------\n",
            "\n",
            "\n",
            "3 average\n",
            "3 \t Silhouette Score: 0.3310672628356255 ,Calinski Harbasz Score:  11.844868480830304 ,Davies Bouldin Score:  0.7718037449531386\n",
            "---------\n",
            "\n",
            "\n",
            "4 average\n",
            "4 \t Silhouette Score: 0.36166662239524316 ,Calinski Harbasz Score:  24.711015931920663 ,Davies Bouldin Score:  0.8003103033057722\n",
            "---------\n",
            "\n",
            "\n",
            "5 average\n",
            "5 \t Silhouette Score: 0.3245494400677834 ,Calinski Harbasz Score:  19.918712469389543 ,Davies Bouldin Score:  0.7311113739698568\n",
            "---------\n",
            "\n",
            "\n",
            "2 ward\n",
            "2 \t Silhouette Score: 0.3586538390390102 ,Calinski Harbasz Score:  26.08655113783615 ,Davies Bouldin Score:  1.0057881668659698\n",
            "---------\n",
            "\n",
            "\n",
            "3 ward\n",
            "3 \t Silhouette Score: 0.39380375500268033 ,Calinski Harbasz Score:  32.31219189338498 ,Davies Bouldin Score:  0.9027660815316301\n",
            "---------\n",
            "\n",
            "\n",
            "4 ward\n",
            "4 \t Silhouette Score: 0.2914121762644925 ,Calinski Harbasz Score:  26.08654568454677 ,Davies Bouldin Score:  1.0647839357618225\n",
            "---------\n",
            "\n",
            "\n",
            "5 ward\n",
            "5 \t Silhouette Score: 0.25115904864671196 ,Calinski Harbasz Score:  23.12786637060995 ,Davies Bouldin Score:  1.2123163528896668\n",
            "---------\n",
            "\n",
            "\n"
          ],
          "name": "stdout"
        }
      ]
    },
    {
      "cell_type": "code",
      "metadata": {
        "id": "iYDBRv-vJy03",
        "colab": {
          "base_uri": "https://localhost:8080/",
          "height": 545
        },
        "outputId": "a1d44d4a-7f87-4921-fa5c-5504bd296862"
      },
      "source": [
        "pd.DataFrame({'Cluster':l1,'Linkage':l2,'Silhoutte Score':l3,'Calinski Harabasz Index':l4,'Davies Bouldin Score':l5})"
      ],
      "execution_count": null,
      "outputs": [
        {
          "output_type": "execute_result",
          "data": {
            "text/html": [
              "<div>\n",
              "<style scoped>\n",
              "    .dataframe tbody tr th:only-of-type {\n",
              "        vertical-align: middle;\n",
              "    }\n",
              "\n",
              "    .dataframe tbody tr th {\n",
              "        vertical-align: top;\n",
              "    }\n",
              "\n",
              "    .dataframe thead th {\n",
              "        text-align: right;\n",
              "    }\n",
              "</style>\n",
              "<table border=\"1\" class=\"dataframe\">\n",
              "  <thead>\n",
              "    <tr style=\"text-align: right;\">\n",
              "      <th></th>\n",
              "      <th>Cluster</th>\n",
              "      <th>Linkage</th>\n",
              "      <th>Silhoutte Score</th>\n",
              "      <th>Calinski Harabasz Index</th>\n",
              "      <th>Davies Bouldin Score</th>\n",
              "    </tr>\n",
              "  </thead>\n",
              "  <tbody>\n",
              "    <tr>\n",
              "      <th>0</th>\n",
              "      <td>2</td>\n",
              "      <td>single</td>\n",
              "      <td>0.438932</td>\n",
              "      <td>6.213534</td>\n",
              "      <td>0.363059</td>\n",
              "    </tr>\n",
              "    <tr>\n",
              "      <th>1</th>\n",
              "      <td>3</td>\n",
              "      <td>single</td>\n",
              "      <td>0.358767</td>\n",
              "      <td>7.606582</td>\n",
              "      <td>0.513179</td>\n",
              "    </tr>\n",
              "    <tr>\n",
              "      <th>2</th>\n",
              "      <td>4</td>\n",
              "      <td>single</td>\n",
              "      <td>0.155003</td>\n",
              "      <td>5.688971</td>\n",
              "      <td>0.595311</td>\n",
              "    </tr>\n",
              "    <tr>\n",
              "      <th>3</th>\n",
              "      <td>5</td>\n",
              "      <td>single</td>\n",
              "      <td>0.143541</td>\n",
              "      <td>5.548883</td>\n",
              "      <td>0.546756</td>\n",
              "    </tr>\n",
              "    <tr>\n",
              "      <th>4</th>\n",
              "      <td>2</td>\n",
              "      <td>complete</td>\n",
              "      <td>0.431258</td>\n",
              "      <td>20.671099</td>\n",
              "      <td>0.786620</td>\n",
              "    </tr>\n",
              "    <tr>\n",
              "      <th>5</th>\n",
              "      <td>3</td>\n",
              "      <td>complete</td>\n",
              "      <td>0.334741</td>\n",
              "      <td>24.384749</td>\n",
              "      <td>0.852454</td>\n",
              "    </tr>\n",
              "    <tr>\n",
              "      <th>6</th>\n",
              "      <td>4</td>\n",
              "      <td>complete</td>\n",
              "      <td>0.302555</td>\n",
              "      <td>26.385709</td>\n",
              "      <td>1.010558</td>\n",
              "    </tr>\n",
              "    <tr>\n",
              "      <th>7</th>\n",
              "      <td>5</td>\n",
              "      <td>complete</td>\n",
              "      <td>0.248225</td>\n",
              "      <td>23.080327</td>\n",
              "      <td>1.148964</td>\n",
              "    </tr>\n",
              "    <tr>\n",
              "      <th>8</th>\n",
              "      <td>2</td>\n",
              "      <td>average</td>\n",
              "      <td>0.414017</td>\n",
              "      <td>20.959452</td>\n",
              "      <td>0.877199</td>\n",
              "    </tr>\n",
              "    <tr>\n",
              "      <th>9</th>\n",
              "      <td>3</td>\n",
              "      <td>average</td>\n",
              "      <td>0.331067</td>\n",
              "      <td>11.844868</td>\n",
              "      <td>0.771804</td>\n",
              "    </tr>\n",
              "    <tr>\n",
              "      <th>10</th>\n",
              "      <td>4</td>\n",
              "      <td>average</td>\n",
              "      <td>0.361667</td>\n",
              "      <td>24.711016</td>\n",
              "      <td>0.800310</td>\n",
              "    </tr>\n",
              "    <tr>\n",
              "      <th>11</th>\n",
              "      <td>5</td>\n",
              "      <td>average</td>\n",
              "      <td>0.324549</td>\n",
              "      <td>19.918712</td>\n",
              "      <td>0.731111</td>\n",
              "    </tr>\n",
              "    <tr>\n",
              "      <th>12</th>\n",
              "      <td>2</td>\n",
              "      <td>ward</td>\n",
              "      <td>0.358654</td>\n",
              "      <td>26.086551</td>\n",
              "      <td>1.005788</td>\n",
              "    </tr>\n",
              "    <tr>\n",
              "      <th>13</th>\n",
              "      <td>3</td>\n",
              "      <td>ward</td>\n",
              "      <td>0.393804</td>\n",
              "      <td>32.312192</td>\n",
              "      <td>0.902766</td>\n",
              "    </tr>\n",
              "    <tr>\n",
              "      <th>14</th>\n",
              "      <td>4</td>\n",
              "      <td>ward</td>\n",
              "      <td>0.291412</td>\n",
              "      <td>26.086546</td>\n",
              "      <td>1.064784</td>\n",
              "    </tr>\n",
              "    <tr>\n",
              "      <th>15</th>\n",
              "      <td>5</td>\n",
              "      <td>ward</td>\n",
              "      <td>0.251159</td>\n",
              "      <td>23.127866</td>\n",
              "      <td>1.212316</td>\n",
              "    </tr>\n",
              "  </tbody>\n",
              "</table>\n",
              "</div>"
            ],
            "text/plain": [
              "    Cluster   Linkage  ...  Calinski Harabasz Index  Davies Bouldin Score\n",
              "0         2    single  ...                 6.213534              0.363059\n",
              "1         3    single  ...                 7.606582              0.513179\n",
              "2         4    single  ...                 5.688971              0.595311\n",
              "3         5    single  ...                 5.548883              0.546756\n",
              "4         2  complete  ...                20.671099              0.786620\n",
              "5         3  complete  ...                24.384749              0.852454\n",
              "6         4  complete  ...                26.385709              1.010558\n",
              "7         5  complete  ...                23.080327              1.148964\n",
              "8         2   average  ...                20.959452              0.877199\n",
              "9         3   average  ...                11.844868              0.771804\n",
              "10        4   average  ...                24.711016              0.800310\n",
              "11        5   average  ...                19.918712              0.731111\n",
              "12        2      ward  ...                26.086551              1.005788\n",
              "13        3      ward  ...                32.312192              0.902766\n",
              "14        4      ward  ...                26.086546              1.064784\n",
              "15        5      ward  ...                23.127866              1.212316\n",
              "\n",
              "[16 rows x 5 columns]"
            ]
          },
          "metadata": {
            "tags": []
          },
          "execution_count": 107
        }
      ]
    },
    {
      "cell_type": "markdown",
      "metadata": {
        "id": "QmBqgzQu-MxU"
      },
      "source": [
        "In case of unnormalized dataset, 2 clusters with complete linkage is the best. But in case of normalized dataset, the performance is better. There the Silhoutte Score and Calinski Harabarz Score performance is better though the Davies Bouldin score pervermance is a bit lower."
      ]
    },
    {
      "cell_type": "markdown",
      "metadata": {
        "id": "vP3ZzRGqASQr"
      },
      "source": [
        "Cluster 2 for both algorithms KMeans and Agglomerative have same performance. Let's see the how the values for each feature vary across the two clusters."
      ]
    },
    {
      "cell_type": "code",
      "metadata": {
        "id": "24aW5iv3cOVH"
      },
      "source": [
        "kmeansf=KMeans(n_clusters=2,random_state=31)\n",
        "kmeansf.fit(df.drop(['State_UT'],axis=1))\n",
        "pred_kk=kmeansf.predict(df.drop(['State_UT'],axis=1))\n",
        "df['pred_k2']=pred_kk"
      ],
      "execution_count": null,
      "outputs": []
    },
    {
      "cell_type": "code",
      "metadata": {
        "id": "V7K1TI2bCzO4",
        "colab": {
          "base_uri": "https://localhost:8080/",
          "height": 204
        },
        "outputId": "92b85fd4-dd70-4d75-a13c-18c904ca5c71"
      },
      "source": [
        "df.head()"
      ],
      "execution_count": null,
      "outputs": [
        {
          "output_type": "execute_result",
          "data": {
            "text/html": [
              "<div>\n",
              "<style scoped>\n",
              "    .dataframe tbody tr th:only-of-type {\n",
              "        vertical-align: middle;\n",
              "    }\n",
              "\n",
              "    .dataframe tbody tr th {\n",
              "        vertical-align: top;\n",
              "    }\n",
              "\n",
              "    .dataframe thead th {\n",
              "        text-align: right;\n",
              "    }\n",
              "</style>\n",
              "<table border=\"1\" class=\"dataframe\">\n",
              "  <thead>\n",
              "    <tr style=\"text-align: right;\">\n",
              "      <th></th>\n",
              "      <th>State_UT</th>\n",
              "      <th>mean_dropout</th>\n",
              "      <th>enrollment_ratio</th>\n",
              "      <th>comp</th>\n",
              "      <th>electricity</th>\n",
              "      <th>water</th>\n",
              "      <th>boys_toilet</th>\n",
              "      <th>female_toilet</th>\n",
              "      <th>pred_k2</th>\n",
              "    </tr>\n",
              "  </thead>\n",
              "  <tbody>\n",
              "    <tr>\n",
              "      <th>0</th>\n",
              "      <td>A &amp; N Islands</td>\n",
              "      <td>0.230010</td>\n",
              "      <td>0.404943</td>\n",
              "      <td>0.387047</td>\n",
              "      <td>0.295219</td>\n",
              "      <td>0.257102</td>\n",
              "      <td>0.216763</td>\n",
              "      <td>0.206779</td>\n",
              "      <td>1</td>\n",
              "    </tr>\n",
              "    <tr>\n",
              "      <th>1</th>\n",
              "      <td>Andhra Pradesh</td>\n",
              "      <td>0.401083</td>\n",
              "      <td>0.226258</td>\n",
              "      <td>0.500472</td>\n",
              "      <td>0.923247</td>\n",
              "      <td>0.952994</td>\n",
              "      <td>0.996763</td>\n",
              "      <td>0.998670</td>\n",
              "      <td>0</td>\n",
              "    </tr>\n",
              "    <tr>\n",
              "      <th>2</th>\n",
              "      <td>Arunachal Pradesh</td>\n",
              "      <td>0.619885</td>\n",
              "      <td>0.804452</td>\n",
              "      <td>0.390787</td>\n",
              "      <td>0.442575</td>\n",
              "      <td>0.678186</td>\n",
              "      <td>0.756671</td>\n",
              "      <td>0.777405</td>\n",
              "      <td>0</td>\n",
              "    </tr>\n",
              "    <tr>\n",
              "      <th>3</th>\n",
              "      <td>Assam</td>\n",
              "      <td>0.733952</td>\n",
              "      <td>0.301526</td>\n",
              "      <td>0.264339</td>\n",
              "      <td>0.343321</td>\n",
              "      <td>0.837857</td>\n",
              "      <td>0.613463</td>\n",
              "      <td>0.691578</td>\n",
              "      <td>0</td>\n",
              "    </tr>\n",
              "    <tr>\n",
              "      <th>4</th>\n",
              "      <td>Bihar</td>\n",
              "      <td>0.403778</td>\n",
              "      <td>0.383082</td>\n",
              "      <td>0.075522</td>\n",
              "      <td>0.149815</td>\n",
              "      <td>0.944448</td>\n",
              "      <td>0.832581</td>\n",
              "      <td>0.854044</td>\n",
              "      <td>0</td>\n",
              "    </tr>\n",
              "  </tbody>\n",
              "</table>\n",
              "</div>"
            ],
            "text/plain": [
              "            State_UT  mean_dropout  ...  female_toilet  pred_k2\n",
              "0      A & N Islands      0.230010  ...       0.206779        1\n",
              "1     Andhra Pradesh      0.401083  ...       0.998670        0\n",
              "2  Arunachal Pradesh      0.619885  ...       0.777405        0\n",
              "3              Assam      0.733952  ...       0.691578        0\n",
              "4              Bihar      0.403778  ...       0.854044        0\n",
              "\n",
              "[5 rows x 9 columns]"
            ]
          },
          "metadata": {
            "tags": []
          },
          "execution_count": 109
        }
      ]
    },
    {
      "cell_type": "code",
      "metadata": {
        "id": "ns2v97TzDWr2",
        "colab": {
          "base_uri": "https://localhost:8080/",
          "height": 204
        },
        "outputId": "290079aa-849c-400c-f015-03de2e4b2239"
      },
      "source": [
        "df1=pd.melt(frame=df.drop('State_UT',axis=1),id_vars='pred_k2',var_name='parameters',value_name='values')\n",
        "df1.head()"
      ],
      "execution_count": null,
      "outputs": [
        {
          "output_type": "execute_result",
          "data": {
            "text/html": [
              "<div>\n",
              "<style scoped>\n",
              "    .dataframe tbody tr th:only-of-type {\n",
              "        vertical-align: middle;\n",
              "    }\n",
              "\n",
              "    .dataframe tbody tr th {\n",
              "        vertical-align: top;\n",
              "    }\n",
              "\n",
              "    .dataframe thead th {\n",
              "        text-align: right;\n",
              "    }\n",
              "</style>\n",
              "<table border=\"1\" class=\"dataframe\">\n",
              "  <thead>\n",
              "    <tr style=\"text-align: right;\">\n",
              "      <th></th>\n",
              "      <th>pred_k2</th>\n",
              "      <th>parameters</th>\n",
              "      <th>values</th>\n",
              "    </tr>\n",
              "  </thead>\n",
              "  <tbody>\n",
              "    <tr>\n",
              "      <th>0</th>\n",
              "      <td>1</td>\n",
              "      <td>mean_dropout</td>\n",
              "      <td>0.230010</td>\n",
              "    </tr>\n",
              "    <tr>\n",
              "      <th>1</th>\n",
              "      <td>0</td>\n",
              "      <td>mean_dropout</td>\n",
              "      <td>0.401083</td>\n",
              "    </tr>\n",
              "    <tr>\n",
              "      <th>2</th>\n",
              "      <td>0</td>\n",
              "      <td>mean_dropout</td>\n",
              "      <td>0.619885</td>\n",
              "    </tr>\n",
              "    <tr>\n",
              "      <th>3</th>\n",
              "      <td>0</td>\n",
              "      <td>mean_dropout</td>\n",
              "      <td>0.733952</td>\n",
              "    </tr>\n",
              "    <tr>\n",
              "      <th>4</th>\n",
              "      <td>0</td>\n",
              "      <td>mean_dropout</td>\n",
              "      <td>0.403778</td>\n",
              "    </tr>\n",
              "  </tbody>\n",
              "</table>\n",
              "</div>"
            ],
            "text/plain": [
              "   pred_k2    parameters    values\n",
              "0        1  mean_dropout  0.230010\n",
              "1        0  mean_dropout  0.401083\n",
              "2        0  mean_dropout  0.619885\n",
              "3        0  mean_dropout  0.733952\n",
              "4        0  mean_dropout  0.403778"
            ]
          },
          "metadata": {
            "tags": []
          },
          "execution_count": 110
        }
      ]
    },
    {
      "cell_type": "code",
      "metadata": {
        "id": "O2IlTbyHc1oM",
        "colab": {
          "base_uri": "https://localhost:8080/",
          "height": 303
        },
        "outputId": "ef6d9e44-9007-4ae3-ab6b-807af849ee03"
      },
      "source": [
        "import seaborn as sns \n",
        "sns.factorplot(data=df1,y='values',x='pred_k2',col='parameters',kind='box',sharey=False)"
      ],
      "execution_count": null,
      "outputs": [
        {
          "output_type": "stream",
          "text": [
            "/usr/local/lib/python3.6/dist-packages/seaborn/categorical.py:3704: UserWarning: The `factorplot` function has been renamed to `catplot`. The original name will be removed in a future release. Please update your code. Note that the default `kind` in `factorplot` (`'point'`) has changed `'strip'` in `catplot`.\n",
            "  warnings.warn(msg)\n"
          ],
          "name": "stderr"
        },
        {
          "output_type": "execute_result",
          "data": {
            "text/plain": [
              "<seaborn.axisgrid.FacetGrid at 0x7f33ecd95ba8>"
            ]
          },
          "metadata": {
            "tags": []
          },
          "execution_count": 111
        },
        {
          "output_type": "display_data",
          "data": {
            "image/png": "[encoded data removed]",
            "text/plain": [
              "<Figure size 2520x360 with 7 Axes>"
            ]
          },
          "metadata": {
            "tags": [],
            "needs_background": "light"
          }
        }
      ]
    },
    {
      "cell_type": "code",
      "metadata": {
        "id": "zuw6EKnVCRFk"
      },
      "source": [
        "agg_mod_=AgglomerativeClustering(n_clusters=2,affinity='euclidean',linkage='ward')\n",
        "agg_mod_.fit(df.drop('State_UT',axis=1))\n",
        "df['agg_clust2']=agg_mod_.labels_"
      ],
      "execution_count": null,
      "outputs": []
    },
    {
      "cell_type": "code",
      "metadata": {
        "id": "JXMe6MWGEFo6",
        "colab": {
          "base_uri": "https://localhost:8080/",
          "height": 204
        },
        "outputId": "fe9801c3-5b2d-4083-ded1-214cf008bbe3"
      },
      "source": [
        "df2=pd.melt(frame=df.drop(['State_UT','pred_k2'],axis=1),id_vars='agg_clust2',var_name='parameters',value_name='values')\n",
        "df2.head()"
      ],
      "execution_count": null,
      "outputs": [
        {
          "output_type": "execute_result",
          "data": {
            "text/html": [
              "<div>\n",
              "<style scoped>\n",
              "    .dataframe tbody tr th:only-of-type {\n",
              "        vertical-align: middle;\n",
              "    }\n",
              "\n",
              "    .dataframe tbody tr th {\n",
              "        vertical-align: top;\n",
              "    }\n",
              "\n",
              "    .dataframe thead th {\n",
              "        text-align: right;\n",
              "    }\n",
              "</style>\n",
              "<table border=\"1\" class=\"dataframe\">\n",
              "  <thead>\n",
              "    <tr style=\"text-align: right;\">\n",
              "      <th></th>\n",
              "      <th>agg_clust2</th>\n",
              "      <th>parameters</th>\n",
              "      <th>values</th>\n",
              "    </tr>\n",
              "  </thead>\n",
              "  <tbody>\n",
              "    <tr>\n",
              "      <th>0</th>\n",
              "      <td>1</td>\n",
              "      <td>mean_dropout</td>\n",
              "      <td>0.230010</td>\n",
              "    </tr>\n",
              "    <tr>\n",
              "      <th>1</th>\n",
              "      <td>0</td>\n",
              "      <td>mean_dropout</td>\n",
              "      <td>0.401083</td>\n",
              "    </tr>\n",
              "    <tr>\n",
              "      <th>2</th>\n",
              "      <td>0</td>\n",
              "      <td>mean_dropout</td>\n",
              "      <td>0.619885</td>\n",
              "    </tr>\n",
              "    <tr>\n",
              "      <th>3</th>\n",
              "      <td>0</td>\n",
              "      <td>mean_dropout</td>\n",
              "      <td>0.733952</td>\n",
              "    </tr>\n",
              "    <tr>\n",
              "      <th>4</th>\n",
              "      <td>0</td>\n",
              "      <td>mean_dropout</td>\n",
              "      <td>0.403778</td>\n",
              "    </tr>\n",
              "  </tbody>\n",
              "</table>\n",
              "</div>"
            ],
            "text/plain": [
              "   agg_clust2    parameters    values\n",
              "0           1  mean_dropout  0.230010\n",
              "1           0  mean_dropout  0.401083\n",
              "2           0  mean_dropout  0.619885\n",
              "3           0  mean_dropout  0.733952\n",
              "4           0  mean_dropout  0.403778"
            ]
          },
          "metadata": {
            "tags": []
          },
          "execution_count": 113
        }
      ]
    },
    {
      "cell_type": "code",
      "metadata": {
        "id": "pon-1LEBCQ9Y",
        "colab": {
          "base_uri": "https://localhost:8080/",
          "height": 303
        },
        "outputId": "7b88472a-fef3-4496-89ac-868279db78fd"
      },
      "source": [
        "sns.factorplot(data=df2,y='values',x='agg_clust2',col='parameters',kind='box',sharey=False)"
      ],
      "execution_count": null,
      "outputs": [
        {
          "output_type": "stream",
          "text": [
            "/usr/local/lib/python3.6/dist-packages/seaborn/categorical.py:3704: UserWarning: The `factorplot` function has been renamed to `catplot`. The original name will be removed in a future release. Please update your code. Note that the default `kind` in `factorplot` (`'point'`) has changed `'strip'` in `catplot`.\n",
            "  warnings.warn(msg)\n"
          ],
          "name": "stderr"
        },
        {
          "output_type": "execute_result",
          "data": {
            "text/plain": [
              "<seaborn.axisgrid.FacetGrid at 0x7f33ecb3ff28>"
            ]
          },
          "metadata": {
            "tags": []
          },
          "execution_count": 114
        },
        {
          "output_type": "display_data",
          "data": {
            "image/png": "[encoded data removed]",
            "text/plain": [
              "<Figure size 2520x360 with 7 Axes>"
            ]
          },
          "metadata": {
            "tags": [],
            "needs_background": "light"
          }
        }
      ]
    },
    {
      "cell_type": "markdown",
      "metadata": {
        "id": "m6xs59QfF7-m"
      },
      "source": [
        "We see that both the KMeans and Agglomerative Clustering have the value range of each of the feature/category exactly the same.\n",
        "\n",
        "Based on careful observations of the boxplots we can conclude that category has higher values of for comp, electricity, water and the toilets features. So we can says the states falling in category 0 has much better infrastructure than schools of category 1. On the otherhand, the dropout rate is almost same for both groups with 0 has higher variablity. While the enrollment ratio is good for group 1. \n",
        "\n",
        "So we can call group 0 as Higher Infrastructure, Lesser Enrollment-Ratio and and group 1 as Less-Infrastructure, Better Enrollment-Ratio."
      ]
    },
    {
      "cell_type": "code",
      "metadata": {
        "id": "kHuhSylC6Y9D",
        "colab": {
          "base_uri": "https://localhost:8080/",
          "height": 235
        },
        "outputId": "05267fcd-ab1f-4715-b29e-a5df35be4edc"
      },
      "source": [
        "# Checking which states fall in cluster 1 i.e, Less-Infrastructure, Better Enrollment-Ratio cluster\n",
        "df[df['pred_k2']==1]"
      ],
      "execution_count": null,
      "outputs": [
        {
          "output_type": "execute_result",
          "data": {
            "text/html": [
              "<div>\n",
              "<style scoped>\n",
              "    .dataframe tbody tr th:only-of-type {\n",
              "        vertical-align: middle;\n",
              "    }\n",
              "\n",
              "    .dataframe tbody tr th {\n",
              "        vertical-align: top;\n",
              "    }\n",
              "\n",
              "    .dataframe thead th {\n",
              "        text-align: right;\n",
              "    }\n",
              "</style>\n",
              "<table border=\"1\" class=\"dataframe\">\n",
              "  <thead>\n",
              "    <tr style=\"text-align: right;\">\n",
              "      <th></th>\n",
              "      <th>State_UT</th>\n",
              "      <th>mean_dropout</th>\n",
              "      <th>enrollment_ratio</th>\n",
              "      <th>comp</th>\n",
              "      <th>electricity</th>\n",
              "      <th>water</th>\n",
              "      <th>boys_toilet</th>\n",
              "      <th>female_toilet</th>\n",
              "      <th>pred_k2</th>\n",
              "      <th>agg_clust2</th>\n",
              "    </tr>\n",
              "  </thead>\n",
              "  <tbody>\n",
              "    <tr>\n",
              "      <th>0</th>\n",
              "      <td>A &amp; N Islands</td>\n",
              "      <td>0.230010</td>\n",
              "      <td>0.404943</td>\n",
              "      <td>0.387047</td>\n",
              "      <td>0.295219</td>\n",
              "      <td>0.257102</td>\n",
              "      <td>0.216763</td>\n",
              "      <td>0.206779</td>\n",
              "      <td>1</td>\n",
              "      <td>1</td>\n",
              "    </tr>\n",
              "    <tr>\n",
              "      <th>5</th>\n",
              "      <td>Chandigarh</td>\n",
              "      <td>0.286530</td>\n",
              "      <td>0.485608</td>\n",
              "      <td>0.365920</td>\n",
              "      <td>0.180697</td>\n",
              "      <td>0.071308</td>\n",
              "      <td>0.020562</td>\n",
              "      <td>0.008335</td>\n",
              "      <td>1</td>\n",
              "      <td>1</td>\n",
              "    </tr>\n",
              "    <tr>\n",
              "      <th>18</th>\n",
              "      <td>Lakshadweep</td>\n",
              "      <td>0.000000</td>\n",
              "      <td>0.546466</td>\n",
              "      <td>0.680488</td>\n",
              "      <td>0.508700</td>\n",
              "      <td>0.442896</td>\n",
              "      <td>0.412965</td>\n",
              "      <td>0.405223</td>\n",
              "      <td>1</td>\n",
              "      <td>1</td>\n",
              "    </tr>\n",
              "    <tr>\n",
              "      <th>23</th>\n",
              "      <td>Mizoram</td>\n",
              "      <td>0.469673</td>\n",
              "      <td>0.885717</td>\n",
              "      <td>0.000000</td>\n",
              "      <td>0.000000</td>\n",
              "      <td>0.000000</td>\n",
              "      <td>0.000000</td>\n",
              "      <td>0.000000</td>\n",
              "      <td>1</td>\n",
              "      <td>1</td>\n",
              "    </tr>\n",
              "    <tr>\n",
              "      <th>29</th>\n",
              "      <td>Sikkim</td>\n",
              "      <td>0.274682</td>\n",
              "      <td>1.000000</td>\n",
              "      <td>0.329338</td>\n",
              "      <td>0.429930</td>\n",
              "      <td>0.434573</td>\n",
              "      <td>0.411807</td>\n",
              "      <td>0.403993</td>\n",
              "      <td>1</td>\n",
              "      <td>1</td>\n",
              "    </tr>\n",
              "    <tr>\n",
              "      <th>32</th>\n",
              "      <td>Tripura</td>\n",
              "      <td>0.420818</td>\n",
              "      <td>0.744776</td>\n",
              "      <td>0.216598</td>\n",
              "      <td>0.055367</td>\n",
              "      <td>0.357821</td>\n",
              "      <td>0.409610</td>\n",
              "      <td>0.404409</td>\n",
              "      <td>1</td>\n",
              "      <td>1</td>\n",
              "    </tr>\n",
              "  </tbody>\n",
              "</table>\n",
              "</div>"
            ],
            "text/plain": [
              "         State_UT  mean_dropout  ...  pred_k2  agg_clust2\n",
              "0   A & N Islands      0.230010  ...        1           1\n",
              "5      Chandigarh      0.286530  ...        1           1\n",
              "18    Lakshadweep      0.000000  ...        1           1\n",
              "23        Mizoram      0.469673  ...        1           1\n",
              "29         Sikkim      0.274682  ...        1           1\n",
              "32        Tripura      0.420818  ...        1           1\n",
              "\n",
              "[6 rows x 10 columns]"
            ]
          },
          "metadata": {
            "tags": []
          },
          "execution_count": 115
        }
      ]
    },
    {
      "cell_type": "code",
      "metadata": {
        "id": "gCXIBBd1-TGs"
      },
      "source": [
        "# Renaming the clusters as discussed before\n",
        "df['pred_k2_label']=df.pred_k2.map({0:'Higher Infrastructure, Lesser Enrollment-Ratio',1:'Less-Infrastructure, Better Enrollment-Ratio'})"
      ],
      "execution_count": null,
      "outputs": []
    },
    {
      "cell_type": "code",
      "metadata": {
        "id": "KZGDaxEPesZ2",
        "colab": {
          "base_uri": "https://localhost:8080/",
          "height": 255
        },
        "outputId": "89a3b168-fc24-4e1a-f086-2b48ecfca608"
      },
      "source": [
        "!pip install geopandas"
      ],
      "execution_count": null,
      "outputs": [
        {
          "output_type": "stream",
          "text": [
            "Requirement already satisfied: geopandas in /usr/local/lib/python3.6/dist-packages (0.8.1)\n",
            "Requirement already satisfied: pandas>=0.23.0 in /usr/local/lib/python3.6/dist-packages (from geopandas) (1.1.2)\n",
            "Requirement already satisfied: pyproj>=2.2.0 in /usr/local/lib/python3.6/dist-packages (from geopandas) (2.6.1.post1)\n",
            "Requirement already satisfied: fiona in /usr/local/lib/python3.6/dist-packages (from geopandas) (1.8.17)\n",
            "Requirement already satisfied: shapely in /usr/local/lib/python3.6/dist-packages (from geopandas) (1.7.1)\n",
            "Requirement already satisfied: python-dateutil>=2.7.3 in /usr/local/lib/python3.6/dist-packages (from pandas>=0.23.0->geopandas) (2.8.1)\n",
            "Requirement already satisfied: pytz>=2017.2 in /usr/local/lib/python3.6/dist-packages (from pandas>=0.23.0->geopandas) (2018.9)\n",
            "Requirement already satisfied: numpy>=1.15.4 in /usr/local/lib/python3.6/dist-packages (from pandas>=0.23.0->geopandas) (1.18.5)\n",
            "Requirement already satisfied: six>=1.7 in /usr/local/lib/python3.6/dist-packages (from fiona->geopandas) (1.15.0)\n",
            "Requirement already satisfied: munch in /usr/local/lib/python3.6/dist-packages (from fiona->geopandas) (2.5.0)\n",
            "Requirement already satisfied: click<8,>=4.0 in /usr/local/lib/python3.6/dist-packages (from fiona->geopandas) (7.1.2)\n",
            "Requirement already satisfied: click-plugins>=1.0 in /usr/local/lib/python3.6/dist-packages (from fiona->geopandas) (1.1.1)\n",
            "Requirement already satisfied: attrs>=17 in /usr/local/lib/python3.6/dist-packages (from fiona->geopandas) (20.2.0)\n",
            "Requirement already satisfied: cligj>=0.5 in /usr/local/lib/python3.6/dist-packages (from fiona->geopandas) (0.7.0)\n"
          ],
          "name": "stdout"
        }
      ]
    },
    {
      "cell_type": "code",
      "metadata": {
        "id": "QB78QHXedVUw",
        "colab": {
          "base_uri": "https://localhost:8080/",
          "height": 204
        },
        "outputId": "0ff8953e-9eca-4113-ea37-fa6e3a8c95d8"
      },
      "source": [
        "# Importing the shape file for Indian states. It is a vector map representation where places are represented as collection of discrete objects using points, lines & polygons.\n",
        "# Geopandas is similar to Pandas but contains geographical locations\n",
        "import geopandas\n",
        "map=geopandas.read_file('Indian_States.shp')\n",
        "map.head()"
      ],
      "execution_count": null,
      "outputs": [
        {
          "output_type": "execute_result",
          "data": {
            "text/html": [
              "<div>\n",
              "<style scoped>\n",
              "    .dataframe tbody tr th:only-of-type {\n",
              "        vertical-align: middle;\n",
              "    }\n",
              "\n",
              "    .dataframe tbody tr th {\n",
              "        vertical-align: top;\n",
              "    }\n",
              "\n",
              "    .dataframe thead th {\n",
              "        text-align: right;\n",
              "    }\n",
              "</style>\n",
              "<table border=\"1\" class=\"dataframe\">\n",
              "  <thead>\n",
              "    <tr style=\"text-align: right;\">\n",
              "      <th></th>\n",
              "      <th>st_nm</th>\n",
              "      <th>geometry</th>\n",
              "    </tr>\n",
              "  </thead>\n",
              "  <tbody>\n",
              "    <tr>\n",
              "      <th>0</th>\n",
              "      <td>Andaman &amp; Nicobar Island</td>\n",
              "      <td>MULTIPOLYGON (((93.71976 7.20707, 93.71909 7.2...</td>\n",
              "    </tr>\n",
              "    <tr>\n",
              "      <th>1</th>\n",
              "      <td>Arunanchal Pradesh</td>\n",
              "      <td>POLYGON ((96.16261 29.38078, 96.16860 29.37432...</td>\n",
              "    </tr>\n",
              "    <tr>\n",
              "      <th>2</th>\n",
              "      <td>Assam</td>\n",
              "      <td>MULTIPOLYGON (((89.74323 26.30362, 89.74290 26...</td>\n",
              "    </tr>\n",
              "    <tr>\n",
              "      <th>3</th>\n",
              "      <td>Bihar</td>\n",
              "      <td>MULTIPOLYGON (((84.50720 24.26323, 84.50355 24...</td>\n",
              "    </tr>\n",
              "    <tr>\n",
              "      <th>4</th>\n",
              "      <td>Chandigarh</td>\n",
              "      <td>POLYGON ((76.84147 30.75996, 76.83599 30.73623...</td>\n",
              "    </tr>\n",
              "  </tbody>\n",
              "</table>\n",
              "</div>"
            ],
            "text/plain": [
              "                      st_nm                                           geometry\n",
              "0  Andaman & Nicobar Island  MULTIPOLYGON (((93.71976 7.20707, 93.71909 7.2...\n",
              "1        Arunanchal Pradesh  POLYGON ((96.16261 29.38078, 96.16860 29.37432...\n",
              "2                     Assam  MULTIPOLYGON (((89.74323 26.30362, 89.74290 26...\n",
              "3                     Bihar  MULTIPOLYGON (((84.50720 24.26323, 84.50355 24...\n",
              "4                Chandigarh  POLYGON ((76.84147 30.75996, 76.83599 30.73623..."
            ]
          },
          "metadata": {
            "tags": []
          },
          "execution_count": 118
        }
      ]
    },
    {
      "cell_type": "code",
      "metadata": {
        "id": "TUypDpZzex1K"
      },
      "source": [
        "# Replacing name of our original states with name as given in geopandas table to merge both of them\n",
        "replace={'A & N Islands':'Andaman & Nicobar Island','Arunachal Pradesh':'Arunanchal Pradesh','Dadra & Nagar Haveli':'Dadara & Nagar Havelli', 'Delhi':'NCT of Delhi'}\n",
        "df = df.replace({\"State_UT\": replace})  "
      ],
      "execution_count": null,
      "outputs": []
    },
    {
      "cell_type": "code",
      "metadata": {
        "id": "Sp1x-cNUe3sE",
        "colab": {
          "base_uri": "https://localhost:8080/",
          "height": 374
        },
        "outputId": "b9600b59-3d52-4dee-be98-651603152650"
      },
      "source": [
        "# Merging original table with geopandas table\n",
        "mer_g=pd.merge(df,map,left_on='State_UT',right_on='st_nm',how='inner')\n",
        "mer_g.head()"
      ],
      "execution_count": null,
      "outputs": [
        {
          "output_type": "execute_result",
          "data": {
            "text/html": [
              "<div>\n",
              "<style scoped>\n",
              "    .dataframe tbody tr th:only-of-type {\n",
              "        vertical-align: middle;\n",
              "    }\n",
              "\n",
              "    .dataframe tbody tr th {\n",
              "        vertical-align: top;\n",
              "    }\n",
              "\n",
              "    .dataframe thead th {\n",
              "        text-align: right;\n",
              "    }\n",
              "</style>\n",
              "<table border=\"1\" class=\"dataframe\">\n",
              "  <thead>\n",
              "    <tr style=\"text-align: right;\">\n",
              "      <th></th>\n",
              "      <th>State_UT</th>\n",
              "      <th>mean_dropout</th>\n",
              "      <th>enrollment_ratio</th>\n",
              "      <th>comp</th>\n",
              "      <th>electricity</th>\n",
              "      <th>water</th>\n",
              "      <th>boys_toilet</th>\n",
              "      <th>female_toilet</th>\n",
              "      <th>pred_k2</th>\n",
              "      <th>agg_clust2</th>\n",
              "      <th>pred_k2_label</th>\n",
              "      <th>st_nm</th>\n",
              "      <th>geometry</th>\n",
              "    </tr>\n",
              "  </thead>\n",
              "  <tbody>\n",
              "    <tr>\n",
              "      <th>0</th>\n",
              "      <td>Andaman &amp; Nicobar Island</td>\n",
              "      <td>0.230010</td>\n",
              "      <td>0.404943</td>\n",
              "      <td>0.387047</td>\n",
              "      <td>0.295219</td>\n",
              "      <td>0.257102</td>\n",
              "      <td>0.216763</td>\n",
              "      <td>0.206779</td>\n",
              "      <td>1</td>\n",
              "      <td>1</td>\n",
              "      <td>Less-Infrastructure, Better Enrollment-Ratio</td>\n",
              "      <td>Andaman &amp; Nicobar Island</td>\n",
              "      <td>MULTIPOLYGON (((93.71976 7.20707, 93.71909 7.2...</td>\n",
              "    </tr>\n",
              "    <tr>\n",
              "      <th>1</th>\n",
              "      <td>Andhra Pradesh</td>\n",
              "      <td>0.401083</td>\n",
              "      <td>0.226258</td>\n",
              "      <td>0.500472</td>\n",
              "      <td>0.923247</td>\n",
              "      <td>0.952994</td>\n",
              "      <td>0.996763</td>\n",
              "      <td>0.998670</td>\n",
              "      <td>0</td>\n",
              "      <td>0</td>\n",
              "      <td>Higher Infrastructure, Lesser Enrollment-Ratio</td>\n",
              "      <td>Andhra Pradesh</td>\n",
              "      <td>MULTIPOLYGON (((81.10380 17.82269, 81.10610 17...</td>\n",
              "    </tr>\n",
              "    <tr>\n",
              "      <th>2</th>\n",
              "      <td>Arunanchal Pradesh</td>\n",
              "      <td>0.619885</td>\n",
              "      <td>0.804452</td>\n",
              "      <td>0.390787</td>\n",
              "      <td>0.442575</td>\n",
              "      <td>0.678186</td>\n",
              "      <td>0.756671</td>\n",
              "      <td>0.777405</td>\n",
              "      <td>0</td>\n",
              "      <td>0</td>\n",
              "      <td>Higher Infrastructure, Lesser Enrollment-Ratio</td>\n",
              "      <td>Arunanchal Pradesh</td>\n",
              "      <td>POLYGON ((96.16261 29.38078, 96.16860 29.37432...</td>\n",
              "    </tr>\n",
              "    <tr>\n",
              "      <th>3</th>\n",
              "      <td>Assam</td>\n",
              "      <td>0.733952</td>\n",
              "      <td>0.301526</td>\n",
              "      <td>0.264339</td>\n",
              "      <td>0.343321</td>\n",
              "      <td>0.837857</td>\n",
              "      <td>0.613463</td>\n",
              "      <td>0.691578</td>\n",
              "      <td>0</td>\n",
              "      <td>0</td>\n",
              "      <td>Higher Infrastructure, Lesser Enrollment-Ratio</td>\n",
              "      <td>Assam</td>\n",
              "      <td>MULTIPOLYGON (((89.74323 26.30362, 89.74290 26...</td>\n",
              "    </tr>\n",
              "    <tr>\n",
              "      <th>4</th>\n",
              "      <td>Bihar</td>\n",
              "      <td>0.403778</td>\n",
              "      <td>0.383082</td>\n",
              "      <td>0.075522</td>\n",
              "      <td>0.149815</td>\n",
              "      <td>0.944448</td>\n",
              "      <td>0.832581</td>\n",
              "      <td>0.854044</td>\n",
              "      <td>0</td>\n",
              "      <td>0</td>\n",
              "      <td>Higher Infrastructure, Lesser Enrollment-Ratio</td>\n",
              "      <td>Bihar</td>\n",
              "      <td>MULTIPOLYGON (((84.50720 24.26323, 84.50355 24...</td>\n",
              "    </tr>\n",
              "  </tbody>\n",
              "</table>\n",
              "</div>"
            ],
            "text/plain": [
              "                   State_UT  ...                                           geometry\n",
              "0  Andaman & Nicobar Island  ...  MULTIPOLYGON (((93.71976 7.20707, 93.71909 7.2...\n",
              "1            Andhra Pradesh  ...  MULTIPOLYGON (((81.10380 17.82269, 81.10610 17...\n",
              "2        Arunanchal Pradesh  ...  POLYGON ((96.16261 29.38078, 96.16860 29.37432...\n",
              "3                     Assam  ...  MULTIPOLYGON (((89.74323 26.30362, 89.74290 26...\n",
              "4                     Bihar  ...  MULTIPOLYGON (((84.50720 24.26323, 84.50355 24...\n",
              "\n",
              "[5 rows x 13 columns]"
            ]
          },
          "metadata": {
            "tags": []
          },
          "execution_count": 120
        }
      ]
    },
    {
      "cell_type": "code",
      "metadata": {
        "id": "KzB703a1fZVN",
        "colab": {
          "base_uri": "https://localhost:8080/",
          "height": 71
        },
        "outputId": "8bb1ff39-0cb0-4d79-c01e-44512df3dd8a"
      },
      "source": [
        "# converting the coordinate reference system to epsg 4326. It containes the geometry of states in terms of their latitude\n",
        "# and longitude\n",
        "from geopandas import GeoDataFrame\n",
        "merg= GeoDataFrame(mer_g,crs={'init': 'epsg:4326'})"
      ],
      "execution_count": null,
      "outputs": [
        {
          "output_type": "stream",
          "text": [
            "/usr/local/lib/python3.6/dist-packages/pyproj/crs/crs.py:53: FutureWarning: '+init=<authority>:<code>' syntax is deprecated. '<authority>:<code>' is the preferred initialization method. When making the change, be mindful of axis order changes: https://pyproj4.github.io/pyproj/stable/gotchas.html#axis-order-changes-in-proj-6\n",
            "  return _prepare_from_string(\" \".join(pjargs))\n"
          ],
          "name": "stderr"
        }
      ]
    },
    {
      "cell_type": "code",
      "metadata": {
        "id": "Kz6PHKESf1_A",
        "colab": {
          "base_uri": "https://localhost:8080/",
          "height": 272
        },
        "outputId": "79f3bc79-35f7-4b46-c5b3-5c6151f789a3"
      },
      "source": [
        "!pip install pandas_bokeh"
      ],
      "execution_count": null,
      "outputs": [
        {
          "output_type": "stream",
          "text": [
            "Requirement already satisfied: pandas_bokeh in /usr/local/lib/python3.6/dist-packages (0.5)\n",
            "Requirement already satisfied: bokeh>=2.0 in /usr/local/lib/python3.6/dist-packages (from pandas_bokeh) (2.1.1)\n",
            "Requirement already satisfied: pandas>=0.22.0 in /usr/local/lib/python3.6/dist-packages (from pandas_bokeh) (1.1.2)\n",
            "Requirement already satisfied: typing-extensions>=3.7.4 in /usr/local/lib/python3.6/dist-packages (from bokeh>=2.0->pandas_bokeh) (3.7.4.3)\n",
            "Requirement already satisfied: pillow>=4.0 in /usr/local/lib/python3.6/dist-packages (from bokeh>=2.0->pandas_bokeh) (7.0.0)\n",
            "Requirement already satisfied: numpy>=1.11.3 in /usr/local/lib/python3.6/dist-packages (from bokeh>=2.0->pandas_bokeh) (1.18.5)\n",
            "Requirement already satisfied: tornado>=5.1 in /usr/local/lib/python3.6/dist-packages (from bokeh>=2.0->pandas_bokeh) (5.1.1)\n",
            "Requirement already satisfied: packaging>=16.8 in /usr/local/lib/python3.6/dist-packages (from bokeh>=2.0->pandas_bokeh) (20.4)\n",
            "Requirement already satisfied: python-dateutil>=2.1 in /usr/local/lib/python3.6/dist-packages (from bokeh>=2.0->pandas_bokeh) (2.8.1)\n",
            "Requirement already satisfied: Jinja2>=2.7 in /usr/local/lib/python3.6/dist-packages (from bokeh>=2.0->pandas_bokeh) (2.11.2)\n",
            "Requirement already satisfied: PyYAML>=3.10 in /usr/local/lib/python3.6/dist-packages (from bokeh>=2.0->pandas_bokeh) (3.13)\n",
            "Requirement already satisfied: pytz>=2017.2 in /usr/local/lib/python3.6/dist-packages (from pandas>=0.22.0->pandas_bokeh) (2018.9)\n",
            "Requirement already satisfied: six in /usr/local/lib/python3.6/dist-packages (from packaging>=16.8->bokeh>=2.0->pandas_bokeh) (1.15.0)\n",
            "Requirement already satisfied: pyparsing>=2.0.2 in /usr/local/lib/python3.6/dist-packages (from packaging>=16.8->bokeh>=2.0->pandas_bokeh) (2.4.7)\n",
            "Requirement already satisfied: MarkupSafe>=0.23 in /usr/local/lib/python3.6/dist-packages (from Jinja2>=2.7->bokeh>=2.0->pandas_bokeh) (1.1.1)\n"
          ],
          "name": "stdout"
        }
      ]
    },
    {
      "cell_type": "code",
      "metadata": {
        "id": "WzrtdN1e8y3i",
        "colab": {
          "base_uri": "https://localhost:8080/",
          "height": 374
        },
        "outputId": "2b55a135-4b09-4b50-a773-ed80bacd2130"
      },
      "source": [
        "merg.head()"
      ],
      "execution_count": null,
      "outputs": [
        {
          "output_type": "execute_result",
          "data": {
            "text/html": [
              "<div>\n",
              "<style scoped>\n",
              "    .dataframe tbody tr th:only-of-type {\n",
              "        vertical-align: middle;\n",
              "    }\n",
              "\n",
              "    .dataframe tbody tr th {\n",
              "        vertical-align: top;\n",
              "    }\n",
              "\n",
              "    .dataframe thead th {\n",
              "        text-align: right;\n",
              "    }\n",
              "</style>\n",
              "<table border=\"1\" class=\"dataframe\">\n",
              "  <thead>\n",
              "    <tr style=\"text-align: right;\">\n",
              "      <th></th>\n",
              "      <th>State_UT</th>\n",
              "      <th>mean_dropout</th>\n",
              "      <th>enrollment_ratio</th>\n",
              "      <th>comp</th>\n",
              "      <th>electricity</th>\n",
              "      <th>water</th>\n",
              "      <th>boys_toilet</th>\n",
              "      <th>female_toilet</th>\n",
              "      <th>pred_k2</th>\n",
              "      <th>agg_clust2</th>\n",
              "      <th>pred_k2_label</th>\n",
              "      <th>st_nm</th>\n",
              "      <th>geometry</th>\n",
              "    </tr>\n",
              "  </thead>\n",
              "  <tbody>\n",
              "    <tr>\n",
              "      <th>0</th>\n",
              "      <td>Andaman &amp; Nicobar Island</td>\n",
              "      <td>0.230010</td>\n",
              "      <td>0.404943</td>\n",
              "      <td>0.387047</td>\n",
              "      <td>0.295219</td>\n",
              "      <td>0.257102</td>\n",
              "      <td>0.216763</td>\n",
              "      <td>0.206779</td>\n",
              "      <td>1</td>\n",
              "      <td>1</td>\n",
              "      <td>Less-Infrastructure, Better Enrollment-Ratio</td>\n",
              "      <td>Andaman &amp; Nicobar Island</td>\n",
              "      <td>MULTIPOLYGON (((93.71976 7.20707, 93.71909 7.2...</td>\n",
              "    </tr>\n",
              "    <tr>\n",
              "      <th>1</th>\n",
              "      <td>Andhra Pradesh</td>\n",
              "      <td>0.401083</td>\n",
              "      <td>0.226258</td>\n",
              "      <td>0.500472</td>\n",
              "      <td>0.923247</td>\n",
              "      <td>0.952994</td>\n",
              "      <td>0.996763</td>\n",
              "      <td>0.998670</td>\n",
              "      <td>0</td>\n",
              "      <td>0</td>\n",
              "      <td>Higher Infrastructure, Lesser Enrollment-Ratio</td>\n",
              "      <td>Andhra Pradesh</td>\n",
              "      <td>MULTIPOLYGON (((81.10380 17.82269, 81.10610 17...</td>\n",
              "    </tr>\n",
              "    <tr>\n",
              "      <th>2</th>\n",
              "      <td>Arunanchal Pradesh</td>\n",
              "      <td>0.619885</td>\n",
              "      <td>0.804452</td>\n",
              "      <td>0.390787</td>\n",
              "      <td>0.442575</td>\n",
              "      <td>0.678186</td>\n",
              "      <td>0.756671</td>\n",
              "      <td>0.777405</td>\n",
              "      <td>0</td>\n",
              "      <td>0</td>\n",
              "      <td>Higher Infrastructure, Lesser Enrollment-Ratio</td>\n",
              "      <td>Arunanchal Pradesh</td>\n",
              "      <td>POLYGON ((96.16261 29.38078, 96.16860 29.37432...</td>\n",
              "    </tr>\n",
              "    <tr>\n",
              "      <th>3</th>\n",
              "      <td>Assam</td>\n",
              "      <td>0.733952</td>\n",
              "      <td>0.301526</td>\n",
              "      <td>0.264339</td>\n",
              "      <td>0.343321</td>\n",
              "      <td>0.837857</td>\n",
              "      <td>0.613463</td>\n",
              "      <td>0.691578</td>\n",
              "      <td>0</td>\n",
              "      <td>0</td>\n",
              "      <td>Higher Infrastructure, Lesser Enrollment-Ratio</td>\n",
              "      <td>Assam</td>\n",
              "      <td>MULTIPOLYGON (((89.74323 26.30362, 89.74290 26...</td>\n",
              "    </tr>\n",
              "    <tr>\n",
              "      <th>4</th>\n",
              "      <td>Bihar</td>\n",
              "      <td>0.403778</td>\n",
              "      <td>0.383082</td>\n",
              "      <td>0.075522</td>\n",
              "      <td>0.149815</td>\n",
              "      <td>0.944448</td>\n",
              "      <td>0.832581</td>\n",
              "      <td>0.854044</td>\n",
              "      <td>0</td>\n",
              "      <td>0</td>\n",
              "      <td>Higher Infrastructure, Lesser Enrollment-Ratio</td>\n",
              "      <td>Bihar</td>\n",
              "      <td>MULTIPOLYGON (((84.50720 24.26323, 84.50355 24...</td>\n",
              "    </tr>\n",
              "  </tbody>\n",
              "</table>\n",
              "</div>"
            ],
            "text/plain": [
              "                   State_UT  ...                                           geometry\n",
              "0  Andaman & Nicobar Island  ...  MULTIPOLYGON (((93.71976 7.20707, 93.71909 7.2...\n",
              "1            Andhra Pradesh  ...  MULTIPOLYGON (((81.10380 17.82269, 81.10610 17...\n",
              "2        Arunanchal Pradesh  ...  POLYGON ((96.16261 29.38078, 96.16860 29.37432...\n",
              "3                     Assam  ...  MULTIPOLYGON (((89.74323 26.30362, 89.74290 26...\n",
              "4                     Bihar  ...  MULTIPOLYGON (((84.50720 24.26323, 84.50355 24...\n",
              "\n",
              "[5 rows x 13 columns]"
            ]
          },
          "metadata": {
            "tags": []
          },
          "execution_count": 123
        }
      ]
    },
    {
      "cell_type": "code",
      "metadata": {
        "id": "G_mWvheWgI_X",
        "colab": {
          "base_uri": "https://localhost:8080/",
          "height": 634
        },
        "outputId": "aa120746-ed90-41fd-8ef1-5e6b30a05a19"
      },
      "source": [
        "# plotting the clusters in map and coloring states based on the cluster they fall\n",
        "import pandas_bokeh\n",
        "pandas_bokeh.output_notebook()\n",
        "merg.plot_bokeh(\n",
        "    figsize=(900, 600),\n",
        "    simplify_shapes=5000,\n",
        "    category=\"pred_k2\",\n",
        "    show_colorbar=False,\n",
        "    colormap=[\"yellow\", \"green\"],\n",
        "    hovertool_columns=[\"State_UT\", \"pred_k2_label\"])"
      ],
      "execution_count": null,
      "outputs": [
        {
          "output_type": "display_data",
          "data": {
            "application/javascript": [
              "\n",
              "(function(root) {\n",
              "  function now() {\n",
              "    return new Date();\n",
              "  }\n",
              "\n",
              "  var force = true;\n",
              "\n",
              "  if (typeof root._bokeh_onload_callbacks === \"undefined\" || force === true) {\n",
              "    root._bokeh_onload_callbacks = [];\n",
              "    root._bokeh_is_loading = undefined;\n",
              "  }\n",
              "\n",
              "  var JS_MIME_TYPE = 'application/javascript';\n",
              "  var HTML_MIME_TYPE = 'text/html';\n",
              "  var EXEC_MIME_TYPE = 'application/vnd.bokehjs_exec.v0+json';\n",
              "  var CLASS_NAME = 'output_bokeh rendered_html';\n",
              "\n",
              "  /**\n",
              "   * Render data to the DOM node\n",
              "   */\n",
              "  function render(props, node) {\n",
              "    var script = document.createElement(\"script\");\n",
              "    node.appendChild(script);\n",
              "  }\n",
              "\n",
              "  /**\n",
              "   * Handle when an output is cleared or removed\n",
              "   */\n",
              "  function handleClearOutput(event, handle) {\n",
              "    var cell = handle.cell;\n",
              "\n",
              "    var id = cell.output_area._bokeh_element_id;\n",
              "    var server_id = cell.output_area._bokeh_server_id;\n",
              "    // Clean up Bokeh references\n",
              "    if (id != null && id in Bokeh.index) {\n",
              "      Bokeh.index[id].model.document.clear();\n",
              "      delete Bokeh.index[id];\n",
              "    }\n",
              "\n",
              "    if (server_id !== undefined) {\n",
              "      // Clean up Bokeh references\n",
              "      var cmd = \"from bokeh.io.state import curstate; print(curstate().uuid_to_server['\" + server_id + \"'].get_sessions()[0].document.roots[0]._id)\";\n",
              "      cell.notebook.kernel.execute(cmd, {\n",
              "        iopub: {\n",
              "          output: function(msg) {\n",
              "            var id = msg.content.text.trim();\n",
              "            if (id in Bokeh.index) {\n",
              "              Bokeh.index[id].model.document.clear();\n",
              "              delete Bokeh.index[id];\n",
              "            }\n",
              "          }\n",
              "        }\n",
              "      });\n",
              "      // Destroy server and session\n",
              "      var cmd = \"import bokeh.io.notebook as ion; ion.destroy_server('\" + server_id + \"')\";\n",
              "      cell.notebook.kernel.execute(cmd);\n",
              "    }\n",
              "  }\n",
              "\n",
              "  /**\n",
              "   * Handle when a new output is added\n",
              "   */\n",
              "  function handleAddOutput(event, handle) {\n",
              "    var output_area = handle.output_area;\n",
              "    var output = handle.output;\n",
              "\n",
              "    // limit handleAddOutput to display_data with EXEC_MIME_TYPE content only\n",
              "    if ((output.output_type != \"display_data\") || (!output.data.hasOwnProperty(EXEC_MIME_TYPE))) {\n",
              "      return\n",
              "    }\n",
              "\n",
              "    var toinsert = output_area.element.find(\".\" + CLASS_NAME.split(' ')[0]);\n",
              "\n",
              "    if (output.metadata[EXEC_MIME_TYPE][\"id\"] !== undefined) {\n",
              "      toinsert[toinsert.length - 1].firstChild.textContent = output.data[JS_MIME_TYPE];\n",
              "      // store reference to embed id on output_area\n",
              "      output_area._bokeh_element_id = output.metadata[EXEC_MIME_TYPE][\"id\"];\n",
              "    }\n",
              "    if (output.metadata[EXEC_MIME_TYPE][\"server_id\"] !== undefined) {\n",
              "      var bk_div = document.createElement(\"div\");\n",
              "      bk_div.innerHTML = output.data[HTML_MIME_TYPE];\n",
              "      var script_attrs = bk_div.children[0].attributes;\n",
              "      for (var i = 0; i < script_attrs.length; i++) {\n",
              "        toinsert[toinsert.length - 1].firstChild.setAttribute(script_attrs[i].name, script_attrs[i].value);\n",
              "        toinsert[toinsert.length - 1].firstChild.textContent = bk_div.children[0].textContent\n",
              "      }\n",
              "      // store reference to server id on output_area\n",
              "      output_area._bokeh_server_id = output.metadata[EXEC_MIME_TYPE][\"server_id\"];\n",
              "    }\n",
              "  }\n",
              "\n",
              "  function register_renderer(events, OutputArea) {\n",
              "\n",
              "    function append_mime(data, metadata, element) {\n",
              "      // create a DOM node to render to\n",
              "      var toinsert = this.create_output_subarea(\n",
              "        metadata,\n",
              "        CLASS_NAME,\n",
              "        EXEC_MIME_TYPE\n",
              "      );\n",
              "      this.keyboard_manager.register_events(toinsert);\n",
              "      // Render to node\n",
              "      var props = {data: data, metadata: metadata[EXEC_MIME_TYPE]};\n",
              "      render(props, toinsert[toinsert.length - 1]);\n",
              "      element.append(toinsert);\n",
              "      return toinsert\n",
              "    }\n",
              "\n",
              "    /* Handle when an output is cleared or removed */\n",
              "    events.on('clear_output.CodeCell', handleClearOutput);\n",
              "    events.on('delete.Cell', handleClearOutput);\n",
              "\n",
              "    /* Handle when a new output is added */\n",
              "    events.on('output_added.OutputArea', handleAddOutput);\n",
              "\n",
              "    /**\n",
              "     * Register the mime type and append_mime function with output_area\n",
              "     */\n",
              "    OutputArea.prototype.register_mime_type(EXEC_MIME_TYPE, append_mime, {\n",
              "      /* Is output safe? */\n",
              "      safe: true,\n",
              "      /* Index of renderer in `output_area.display_order` */\n",
              "      index: 0\n",
              "    });\n",
              "  }\n",
              "\n",
              "  // register the mime type if in Jupyter Notebook environment and previously unregistered\n",
              "  if (root.Jupyter !== undefined) {\n",
              "    var events = require('base/js/events');\n",
              "    var OutputArea = require('notebook/js/outputarea').OutputArea;\n",
              "\n",
              "    if (OutputArea.prototype.mime_types().indexOf(EXEC_MIME_TYPE) == -1) {\n",
              "      register_renderer(events, OutputArea);\n",
              "    }\n",
              "  }\n",
              "\n",
              "  \n",
              "  if (typeof (root._bokeh_timeout) === \"undefined\" || force === true) {\n",
              "    root._bokeh_timeout = Date.now() + 5000;\n",
              "    root._bokeh_failed_load = false;\n",
              "  }\n",
              "\n",
              "  var NB_LOAD_WARNING = {'data': {'text/html':\n",
              "     \"<div style='background-color: #fdd'>\\n\"+\n",
              "     \"<p>\\n\"+\n",
              "     \"BokehJS does not appear to have successfully loaded. If loading BokehJS from CDN, this \\n\"+\n",
              "     \"may be due to a slow or bad network connection. Possible fixes:\\n\"+\n",
              "     \"</p>\\n\"+\n",
              "     \"<ul>\\n\"+\n",
              "     \"<li>re-rerun `output_notebook()` to attempt to load from CDN again, or</li>\\n\"+\n",
              "     \"<li>use INLINE resources instead, as so:</li>\\n\"+\n",
              "     \"</ul>\\n\"+\n",
              "     \"<code>\\n\"+\n",
              "     \"from bokeh.resources import INLINE\\n\"+\n",
              "     \"output_notebook(resources=INLINE)\\n\"+\n",
              "     \"</code>\\n\"+\n",
              "     \"</div>\"}};\n",
              "\n",
              "  function display_loaded() {\n",
              "    var el = document.getElementById(null);\n",
              "    if (el != null) {\n",
              "      el.textContent = \"BokehJS is loading...\";\n",
              "    }\n",
              "    if (root.Bokeh !== undefined) {\n",
              "      if (el != null) {\n",
              "        el.textContent = \"BokehJS \" + root.Bokeh.version + \" successfully loaded.\";\n",
              "      }\n",
              "    } else if (Date.now() < root._bokeh_timeout) {\n",
              "      setTimeout(display_loaded, 100)\n",
              "    }\n",
              "  }\n",
              "\n",
              "\n",
              "  function run_callbacks() {\n",
              "    try {\n",
              "      root._bokeh_onload_callbacks.forEach(function(callback) {\n",
              "        if (callback != null)\n",
              "          callback();\n",
              "      });\n",
              "    } finally {\n",
              "      delete root._bokeh_onload_callbacks\n",
              "    }\n",
              "    console.debug(\"Bokeh: all callbacks have finished\");\n",
              "  }\n",
              "\n",
              "  function load_libs(css_urls, js_urls, callback) {\n",
              "    if (css_urls == null) css_urls = [];\n",
              "    if (js_urls == null) js_urls = [];\n",
              "\n",
              "    root._bokeh_onload_callbacks.push(callback);\n",
              "    if (root._bokeh_is_loading > 0) {\n",
              "      console.debug(\"Bokeh: BokehJS is being loaded, scheduling callback at\", now());\n",
              "      return null;\n",
              "    }\n",
              "    if (js_urls == null || js_urls.length === 0) {\n",
              "      run_callbacks();\n",
              "      return null;\n",
              "    }\n",
              "    console.debug(\"Bokeh: BokehJS not loaded, scheduling load and callback at\", now());\n",
              "    root._bokeh_is_loading = css_urls.length + js_urls.length;\n",
              "\n",
              "    function on_load() {\n",
              "      root._bokeh_is_loading--;\n",
              "      if (root._bokeh_is_loading === 0) {\n",
              "        console.debug(\"Bokeh: all BokehJS libraries/stylesheets loaded\");\n",
              "        run_callbacks()\n",
              "      }\n",
              "    }\n",
              "\n",
              "    function on_error() {\n",
              "      console.error(\"failed to load \" + url);\n",
              "    }\n",
              "\n",
              "    for (var i = 0; i < css_urls.length; i++) {\n",
              "      var url = css_urls[i];\n",
              "      const element = document.createElement(\"link\");\n",
              "      element.onload = on_load;\n",
              "      element.onerror = on_error;\n",
              "      element.rel = \"stylesheet\";\n",
              "      element.type = \"text/css\";\n",
              "      element.href = url;\n",
              "      console.debug(\"Bokeh: injecting link tag for BokehJS stylesheet: \", url);\n",
              "      document.body.appendChild(element);\n",
              "    }\n",
              "\n",
              "    const hashes = {\"https://cdn.bokeh.org/bokeh/release/bokeh-2.1.1.min.js\": \"kLr4fYcqcSpbuI95brIH3vnnYCquzzSxHPU6XGQCIkQRGJwhg0StNbj1eegrHs12\", \"https://cdn.bokeh.org/bokeh/release/bokeh-widgets-2.1.1.min.js\": \"xIGPmVtaOm+z0BqfSOMn4lOR6ciex448GIKG4eE61LsAvmGj48XcMQZtKcE/UXZe\", \"https://cdn.bokeh.org/bokeh/release/bokeh-tables-2.1.1.min.js\": \"Dc9u1wF/0zApGIWoBbH77iWEHtdmkuYWG839Uzmv8y8yBLXebjO9ZnERsde5Ln/P\", \"https://cdn.bokeh.org/bokeh/release/bokeh-gl-2.1.1.min.js\": \"cT9JaBz7GiRXdENrJLZNSC6eMNF3nh3fa5fTF51Svp+ukxPdwcU5kGXGPBgDCa2j\"};\n",
              "\n",
              "    for (var i = 0; i < js_urls.length; i++) {\n",
              "      var url = js_urls[i];\n",
              "      var element = document.createElement('script');\n",
              "      element.onload = on_load;\n",
              "      element.onerror = on_error;\n",
              "      element.async = false;\n",
              "      element.src = url;\n",
              "      if (url in hashes) {\n",
              "        element.crossOrigin = \"anonymous\";\n",
              "        element.integrity = \"sha384-\" + hashes[url];\n",
              "      }\n",
              "      console.debug(\"Bokeh: injecting script tag for BokehJS library: \", url);\n",
              "      document.head.appendChild(element);\n",
              "    }\n",
              "  };\n",
              "\n",
              "  function inject_raw_css(css) {\n",
              "    const element = document.createElement(\"style\");\n",
              "    element.appendChild(document.createTextNode(css));\n",
              "    document.body.appendChild(element);\n",
              "  }\n",
              "\n",
              "  \n",
              "  var js_urls = [\"https://cdn.bokeh.org/bokeh/release/bokeh-2.1.1.min.js\", \"https://cdn.bokeh.org/bokeh/release/bokeh-widgets-2.1.1.min.js\", \"https://cdn.bokeh.org/bokeh/release/bokeh-tables-2.1.1.min.js\", \"https://cdn.bokeh.org/bokeh/release/bokeh-gl-2.1.1.min.js\"];\n",
              "  var css_urls = [];\n",
              "  \n",
              "\n",
              "  var inline_js = [\n",
              "    function(Bokeh) {\n",
              "      Bokeh.set_log_level(\"info\");\n",
              "    },\n",
              "    function(Bokeh) {\n",
              "    \n",
              "    \n",
              "    }\n",
              "  ];\n",
              "\n",
              "  function run_inline_js() {\n",
              "    \n",
              "    if (root.Bokeh !== undefined || force === true) {\n",
              "      \n",
              "    for (var i = 0; i < inline_js.length; i++) {\n",
              "      inline_js[i].call(root, root.Bokeh);\n",
              "    }\n",
              "    } else if (Date.now() < root._bokeh_timeout) {\n",
              "      setTimeout(run_inline_js, 100);\n",
              "    } else if (!root._bokeh_failed_load) {\n",
              "      console.log(\"Bokeh: BokehJS failed to load within specified timeout.\");\n",
              "      root._bokeh_failed_load = true;\n",
              "    } else if (force !== true) {\n",
              "      var cell = $(document.getElementById(null)).parents('.cell').data().cell;\n",
              "      cell.output_area.append_execute_result(NB_LOAD_WARNING)\n",
              "    }\n",
              "\n",
              "  }\n",
              "\n",
              "  if (root._bokeh_is_loading === 0) {\n",
              "    console.debug(\"Bokeh: BokehJS loaded, going straight to plotting\");\n",
              "    run_inline_js();\n",
              "  } else {\n",
              "    load_libs(css_urls, js_urls, function() {\n",
              "      console.debug(\"Bokeh: BokehJS plotting callback run at\", now());\n",
              "      run_inline_js();\n",
              "    });\n",
              "  }\n",
              "}(window));"
            ],
            "application/vnd.bokehjs_load.v0+json": "\n(function(root) {\n  function now() {\n    return new Date();\n  }\n\n  var force = true;\n\n  if (typeof root._bokeh_onload_callbacks === \"undefined\" || force === true) {\n    root._bokeh_onload_callbacks = [];\n    root._bokeh_is_loading = undefined;\n  }\n\n  \n\n  \n  if (typeof (root._bokeh_timeout) === \"undefined\" || force === true) {\n    root._bokeh_timeout = Date.now() + 5000;\n    root._bokeh_failed_load = false;\n  }\n\n  var NB_LOAD_WARNING = {'data': {'text/html':\n     \"<div style='background-color: #fdd'>\\n\"+\n     \"<p>\\n\"+\n     \"BokehJS does not appear to have successfully loaded. If loading BokehJS from CDN, this \\n\"+\n     \"may be due to a slow or bad network connection. Possible fixes:\\n\"+\n     \"</p>\\n\"+\n     \"<ul>\\n\"+\n     \"<li>re-rerun `output_notebook()` to attempt to load from CDN again, or</li>\\n\"+\n     \"<li>use INLINE resources instead, as so:</li>\\n\"+\n     \"</ul>\\n\"+\n     \"<code>\\n\"+\n     \"from bokeh.resources import INLINE\\n\"+\n     \"output_notebook(resources=INLINE)\\n\"+\n     \"</code>\\n\"+\n     \"</div>\"}};\n\n  function display_loaded() {\n    var el = document.getElementById(null);\n    if (el != null) {\n      el.textContent = \"BokehJS is loading...\";\n    }\n    if (root.Bokeh !== undefined) {\n      if (el != null) {\n        el.textContent = \"BokehJS \" + root.Bokeh.version + \" successfully loaded.\";\n      }\n    } else if (Date.now() < root._bokeh_timeout) {\n      setTimeout(display_loaded, 100)\n    }\n  }\n\n\n  function run_callbacks() {\n    try {\n      root._bokeh_onload_callbacks.forEach(function(callback) {\n        if (callback != null)\n          callback();\n      });\n    } finally {\n      delete root._bokeh_onload_callbacks\n    }\n    console.debug(\"Bokeh: all callbacks have finished\");\n  }\n\n  function load_libs(css_urls, js_urls, callback) {\n    if (css_urls == null) css_urls = [];\n    if (js_urls == null) js_urls = [];\n\n    root._bokeh_onload_callbacks.push(callback);\n    if (root._bokeh_is_loading > 0) {\n      console.debug(\"Bokeh: BokehJS is being loaded, scheduling callback at\", now());\n      return null;\n    }\n    if (js_urls == null || js_urls.length === 0) {\n      run_callbacks();\n      return null;\n    }\n    console.debug(\"Bokeh: BokehJS not loaded, scheduling load and callback at\", now());\n    root._bokeh_is_loading = css_urls.length + js_urls.length;\n\n    function on_load() {\n      root._bokeh_is_loading--;\n      if (root._bokeh_is_loading === 0) {\n        console.debug(\"Bokeh: all BokehJS libraries/stylesheets loaded\");\n        run_callbacks()\n      }\n    }\n\n    function on_error() {\n      console.error(\"failed to load \" + url);\n    }\n\n    for (var i = 0; i < css_urls.length; i++) {\n      var url = css_urls[i];\n      const element = document.createElement(\"link\");\n      element.onload = on_load;\n      element.onerror = on_error;\n      element.rel = \"stylesheet\";\n      element.type = \"text/css\";\n      element.href = url;\n      console.debug(\"Bokeh: injecting link tag for BokehJS stylesheet: \", url);\n      document.body.appendChild(element);\n    }\n\n    const hashes = {\"https://cdn.bokeh.org/bokeh/release/bokeh-2.1.1.min.js\": \"kLr4fYcqcSpbuI95brIH3vnnYCquzzSxHPU6XGQCIkQRGJwhg0StNbj1eegrHs12\", \"https://cdn.bokeh.org/bokeh/release/bokeh-widgets-2.1.1.min.js\": \"xIGPmVtaOm+z0BqfSOMn4lOR6ciex448GIKG4eE61LsAvmGj48XcMQZtKcE/UXZe\", \"https://cdn.bokeh.org/bokeh/release/bokeh-tables-2.1.1.min.js\": \"Dc9u1wF/0zApGIWoBbH77iWEHtdmkuYWG839Uzmv8y8yBLXebjO9ZnERsde5Ln/P\", \"https://cdn.bokeh.org/bokeh/release/bokeh-gl-2.1.1.min.js\": \"cT9JaBz7GiRXdENrJLZNSC6eMNF3nh3fa5fTF51Svp+ukxPdwcU5kGXGPBgDCa2j\"};\n\n    for (var i = 0; i < js_urls.length; i++) {\n      var url = js_urls[i];\n      var element = document.createElement('script');\n      element.onload = on_load;\n      element.onerror = on_error;\n      element.async = false;\n      element.src = url;\n      if (url in hashes) {\n        element.crossOrigin = \"anonymous\";\n        element.integrity = \"sha384-\" + hashes[url];\n      }\n      console.debug(\"Bokeh: injecting script tag for BokehJS library: \", url);\n      document.head.appendChild(element);\n    }\n  };\n\n  function inject_raw_css(css) {\n    const element = document.createElement(\"style\");\n    element.appendChild(document.createTextNode(css));\n    document.body.appendChild(element);\n  }\n\n  \n  var js_urls = [\"https://cdn.bokeh.org/bokeh/release/bokeh-2.1.1.min.js\", \"https://cdn.bokeh.org/bokeh/release/bokeh-widgets-2.1.1.min.js\", \"https://cdn.bokeh.org/bokeh/release/bokeh-tables-2.1.1.min.js\", \"https://cdn.bokeh.org/bokeh/release/bokeh-gl-2.1.1.min.js\"];\n  var css_urls = [];\n  \n\n  var inline_js = [\n    function(Bokeh) {\n      Bokeh.set_log_level(\"info\");\n    },\n    function(Bokeh) {\n    \n    \n    }\n  ];\n\n  function run_inline_js() {\n    \n    if (root.Bokeh !== undefined || force === true) {\n      \n    for (var i = 0; i < inline_js.length; i++) {\n      inline_js[i].call(root, root.Bokeh);\n    }\n    } else if (Date.now() < root._bokeh_timeout) {\n      setTimeout(run_inline_js, 100);\n    } else if (!root._bokeh_failed_load) {\n      console.log(\"Bokeh: BokehJS failed to load within specified timeout.\");\n      root._bokeh_failed_load = true;\n    } else if (force !== true) {\n      var cell = $(document.getElementById(null)).parents('.cell').data().cell;\n      cell.output_area.append_execute_result(NB_LOAD_WARNING)\n    }\n\n  }\n\n  if (root._bokeh_is_loading === 0) {\n    console.debug(\"Bokeh: BokehJS loaded, going straight to plotting\");\n    run_inline_js();\n  } else {\n    load_libs(css_urls, js_urls, function() {\n      console.debug(\"Bokeh: BokehJS plotting callback run at\", now());\n      run_inline_js();\n    });\n  }\n}(window));"
          },
          "metadata": {
            "tags": []
          }
        },
        {
          "output_type": "display_data",
          "data": {
            "text/html": [
              "\n",
              "\n",
              "\n",
              "\n",
              "\n",
              "\n",
              "  <div class=\"bk-root\" id=\"0625fa4f-5e90-40f8-b97a-5f2c75ac1c34\" data-root-id=\"1384\"></div>\n"
            ]
          },
          "metadata": {
            "tags": []
          }
        },
        {
          "output_type": "display_data",
          "data": {
            "application/javascript": [
              "(function(root) {\n",
              "  function embed_document(root) {\n",
              "    \n",
              "  var docs_json = {\"4c657348-1ede-47be-9146-8b540bd5d51d\":{\"roots\":{\"references\":[{\"attributes\":{\"below\":[{\"id\":\"1395\"}],\"center\":[{\"id\":\"1402\"},{\"id\":\"1410\"},{\"id\":\"1446\"}],\"left\":[{\"id\":\"1403\"}],\"output_backend\":\"webgl\",\"plot_width\":900,\"renderers\":[{\"id\":\"1427\"},{\"id\":\"1436\"}],\"title\":{\"id\":\"1385\"},\"toolbar\":{\"id\":\"1418\"},\"x_range\":{\"id\":\"1387\"},\"x_scale\":{\"id\":\"1391\"},\"y_range\":{\"id\":\"1389\"},\"y_scale\":{\"id\":\"1393\"}},\"id\":\"1384\",\"subtype\":\"Figure\",\"type\":\"Plot\"},{\"attributes\":{\"zoom_on_axis\":false},\"id\":\"1412\",\"type\":\"WheelZoomTool\"},{\"attributes\":{\"fill_alpha\":{\"value\":0.1},\"fill_color\":{\"field\":\"Colormap\",\"transform\":{\"id\":\"1430\"}},\"line_alpha\":{\"value\":0.1},\"xs\":{\"field\":\"__x__\"},\"ys\":{\"field\":\"__y__\"}},\"id\":\"1435\",\"type\":\"MultiPolygons\"},{\"attributes\":{\"tile_source\":{\"id\":\"1426\"}},\"id\":\"1427\",\"type\":\"TileRenderer\"},{\"attributes\":{},\"id\":\"1391\",\"type\":\"LinearScale\"},{\"attributes\":{},\"id\":\"1444\",\"type\":\"Selection\"},{\"attributes\":{},\"id\":\"1411\",\"type\":\"PanTool\"},{\"attributes\":{\"active_drag\":\"auto\",\"active_inspect\":\"auto\",\"active_multi\":null,\"active_scroll\":{\"id\":\"1412\"},\"active_tap\":\"auto\",\"tools\":[{\"id\":\"1411\"},{\"id\":\"1412\"},{\"id\":\"1413\"},{\"id\":\"1414\"},{\"id\":\"1415\"},{\"id\":\"1416\"},{\"id\":\"1448\"}]},\"id\":\"1418\",\"type\":\"Toolbar\"},{\"attributes\":{},\"id\":\"1443\",\"type\":\"UnionRenderers\"},{\"attributes\":{\"axis_label\":\"Latitude\",\"formatter\":{\"id\":\"1406\"},\"ticker\":{\"id\":\"1404\"}},\"id\":\"1403\",\"type\":\"MercatorAxis\"},{\"attributes\":{\"source\":{\"id\":\"1432\"}},\"id\":\"1437\",\"type\":\"CDSView\"},{\"attributes\":{},\"id\":\"1416\",\"type\":\"HelpTool\"},{\"attributes\":{\"label\":{\"value\":\"GeoLayer\"},\"renderers\":[{\"id\":\"1436\"}]},\"id\":\"1447\",\"type\":\"LegendItem\"},{\"attributes\":{},\"id\":\"1387\",\"type\":\"DataRange1d\"},{\"attributes\":{\"dimension\":\"lon\"},\"id\":\"1398\",\"type\":\"MercatorTickFormatter\"},{\"attributes\":{},\"id\":\"1415\",\"type\":\"ResetTool\"},{\"attributes\":{},\"id\":\"1414\",\"type\":\"SaveTool\"},{\"attributes\":{\"dimension\":\"lat\"},\"id\":\"1404\",\"type\":\"MercatorTicker\"},{\"attributes\":{\"overlay\":{\"id\":\"1417\"}},\"id\":\"1413\",\"type\":\"BoxZoomTool\"},{\"attributes\":{\"data_source\":{\"id\":\"1432\"},\"glyph\":{\"id\":\"1434\"},\"hover_glyph\":null,\"muted_glyph\":null,\"nonselection_glyph\":{\"id\":\"1435\"},\"selection_glyph\":null,\"view\":{\"id\":\"1437\"}},\"id\":\"1436\",\"type\":\"GlyphRenderer\"},{\"attributes\":{\"callback\":null,\"renderers\":[{\"id\":\"1436\"}],\"tooltips\":[[\"State_UT\",\"@{State_UT}\"],[\"pred_k2_label\",\"@{pred_k2_label}\"]]},\"id\":\"1448\",\"type\":\"HoverTool\"},{\"attributes\":{\"bottom_units\":\"screen\",\"fill_alpha\":0.5,\"fill_color\":\"lightgrey\",\"left_units\":\"screen\",\"level\":\"overlay\",\"line_alpha\":1.0,\"line_color\":\"black\",\"line_dash\":[4,4],\"line_width\":2,\"right_units\":\"screen\",\"top_units\":\"screen\"},\"id\":\"1417\",\"type\":\"BoxAnnotation\"},{\"attributes\":{\"dimension\":\"lat\"},\"id\":\"1406\",\"type\":\"MercatorTickFormatter\"},{\"attributes\":{\"axis\":{\"id\":\"1395\"},\"ticker\":null},\"id\":\"1402\",\"type\":\"Grid\"},{\"attributes\":{\"high\":1,\"low\":0,\"palette\":[\"yellow\",\"green\"]},\"id\":\"1430\",\"type\":\"LinearColorMapper\"},{\"attributes\":{},\"id\":\"1389\",\"type\":\"DataRange1d\"},{\"attributes\":{\"axis\":{\"id\":\"1403\"},\"dimension\":1,\"ticker\":null},\"id\":\"1410\",\"type\":\"Grid\"},{\"attributes\":{\"dimension\":\"lon\"},\"id\":\"1396\",\"type\":\"MercatorTicker\"},{\"attributes\":{\"click_policy\":\"hide\",\"items\":[{\"id\":\"1447\"}]},\"id\":\"1446\",\"type\":\"Legend\"},{\"attributes\":{\"axis_label\":\"Longitude\",\"formatter\":{\"id\":\"1398\"},\"ticker\":{\"id\":\"1396\"}},\"id\":\"1395\",\"type\":\"MercatorAxis\"},{\"attributes\":{\"data\":{\"Colormap\":[1,1,1,1,1,1,1,1,1,1,1,1,1,1,1,1,1,1,1,1,1,1,1,1,1,1,1,1,1,1,1,1,1,1,1,1,1,1,1,1,1,1,1,1,1,1,1,1,1,1,1,1,1,1,1,1,1,1,1,1,1,1,1,1,1,1,1,1,1,1,1,1,1,1,1,1,1,1,1,1,1,1,1,1,1,1,1,1,1,1,1,1,1,1,1,1,1,1,1,1,1,1,1,1,1,1,1,1,1,1,1,1,1,1,1,1,1,1,1,1,1,1,1,1,1,1,1,1,1,1,1,1,1,1,1,1,1,1,1,1,1,1,1,1,1,1,1,1,1,1,1,1,1,1,1,1,1,1,1,1,1,1,1,1,1,1,1,1,1,1,1,1,1,1,1,1,1,1,1,1,1,1,1,1,1,1,0,0,0,0,0,0,0,1,0,0,0,0,0,0,0,0,0,0,0,0,0,0,0,0,0,0,0,0,0,0,0,0,0,0,0,0,0,0,0,0,0,0,0,0,0,0,0,0,0,0,0,0,0,0,0,0,0,0,0,0,0,0,0,0,0,0,0,0,0,0,0,0,0,0,0,0,0,0,0,0,0,0,0,0,0,0,0,0,0,0,0,0,0,0,0,0,0,0,0,0,0,0,0,0,0,0,0,0,0,0,0,0,0,0,0,0,0,0,0,0,0,0,0,0,0,0,0,0,0,0,0,0,0,0,0,0,0,0,0,0,0,0,0,0,0,0,0,0,0,0,0,0,0,0,0,0,0,0,0,0,0,0,0,0,0,0,0,0,0,0,0,0,0,0,0,0,0,0,0,0,0,0,0,0,0,0,0,0,0,0,0,0,0,0,0,0,0,0,0,0,0,0,0,0,0,0,0,0,0,0,0,0,0,0,0,0,0,0,0,0,0,0,0,0,0,0,0,0,0,0,0,0,0,0,0,0,0,0,0,0,0,0,0,0,0,0,0,0,0,0,0,0,0,0,0,0,0,0,0,0,0,0,0,0,0,0,0,1,1,1,1,1,1,1,1,1,1,1,1,1,1,1,1,1,1,1,1,1,0,0,0,0,0,0,0,0,0,1,0,0,0,0,0,0,0,0,0,0,0,0,0,0,0,0,0,0,0,0,0,0,0,0,0,0,0,0,0,0,0,1,0,0,0,0,0,0,0,0,0,0,0,0,0,0,0,0,0,0,0,0,0,0,0,0,0,0,0,0,0,0,0,0,0,0,1,0,0,0,0,0,0,0,0,0,0,0,0,0,0,0,0,0,0,0,0,0,0,0,0,0,0,0,0,0,0,0,0,0,0,0,0,0,0,0,0,0,0,0,0,0,0,0,0,0,0,0,0,0,0,0,0,0,0,0,0,0,0,0,0,0,0,0,0,0,0,0,0,0,0,0,0,0,0,0,0,0,0,0,0,0,0,0,0,0,0,0,0,0,0,0,0,0,0,0,0,0,0,0,0,0,0,0,0,0,0,0,0,0,0,0,0,0,0,0,0,0,0,0,0,0,0,0,0],\"State_UT\":[\"Andaman & Nicobar Island\",\"Andaman & Nicobar Island\",\"Andaman & Nicobar Island\",\"Andaman & Nicobar Island\",\"Andaman & Nicobar Island\",\"Andaman & Nicobar Island\",\"Andaman & Nicobar Island\",\"Andaman & Nicobar Island\",\"Andaman & Nicobar Island\",\"Andaman & Nicobar Island\",\"Andaman & Nicobar Island\",\"Andaman & Nicobar Island\",\"Andaman & Nicobar Island\",\"Andaman & Nicobar Island\",\"Andaman & Nicobar Island\",\"Andaman & Nicobar Island\",\"Andaman & Nicobar Island\",\"Andaman & Nicobar Island\",\"Andaman & Nicobar Island\",\"Andaman & Nicobar Island\",\"Andaman & Nicobar Island\",\"Andaman & Nicobar Island\",\"Andaman & Nicobar Island\",\"Andaman & Nicobar Island\",\"Andaman & Nicobar Island\",\"Andaman & Nicobar Island\",\"Andaman & Nicobar Island\",\"Andaman & Nicobar Island\",\"Andaman & Nicobar Island\",\"Andaman & Nicobar Island\",\"Andaman & Nicobar Island\",\"Andaman & Nicobar Island\",\"Andaman & Nicobar Island\",\"Andaman & Nicobar Island\",\"Andaman & Nicobar Island\",\"Andaman & Nicobar Island\",\"Andaman & Nicobar Island\",\"Andaman & Nicobar Island\",\"Andaman & Nicobar Island\",\"Andaman & Nicobar Island\",\"Andaman & Nicobar Island\",\"Andaman & Nicobar Island\",\"Andaman & Nicobar Island\",\"Andaman & Nicobar Island\",\"Andaman & Nicobar Island\",\"Andaman & Nicobar Island\",\"Andaman & Nicobar Island\",\"Andaman & Nicobar Island\",\"Andaman & Nicobar Island\",\"Andaman & Nicobar Island\",\"Andaman & Nicobar Island\",\"Andaman & Nicobar Island\",\"Andaman & Nicobar Island\",\"Andaman & Nicobar Island\",\"Andaman & Nicobar Island\",\"Andaman & Nicobar Island\",\"Andaman & Nicobar Island\",\"Andaman & Nicobar Island\",\"Andaman & Nicobar Island\",\"Andaman & Nicobar Island\",\"Andaman & Nicobar Island\",\"Andaman & Nicobar Island\",\"Andaman & Nicobar Island\",\"Andaman & Nicobar Island\",\"Andaman & Nicobar Island\",\"Andaman & Nicobar Island\",\"Andaman & Nicobar Island\",\"Andaman & Nicobar Island\",\"Andaman & Nicobar Island\",\"Andaman & Nicobar Island\",\"Andaman & Nicobar Island\",\"Andaman & Nicobar Island\",\"Andaman & Nicobar Island\",\"Andaman & Nicobar Island\",\"Andaman & Nicobar Island\",\"Andaman & Nicobar Island\",\"Andaman & Nicobar Island\",\"Andaman & Nicobar Island\",\"Andaman & Nicobar Island\",\"Andaman & Nicobar Island\",\"Andaman & Nicobar Island\",\"Andaman & Nicobar Island\",\"Andaman & Nicobar Island\",\"Andaman & Nicobar Island\",\"Andaman & Nicobar Island\",\"Andaman & Nicobar Island\",\"Andaman & Nicobar Island\",\"Andaman & Nicobar Island\",\"Andaman & Nicobar Island\",\"Andaman & Nicobar Island\",\"Andaman & Nicobar Island\",\"Andaman & Nicobar Island\",\"Andaman & Nicobar Island\",\"Andaman & Nicobar Island\",\"Andaman & Nicobar Island\",\"Andaman & Nicobar Island\",\"Andaman & Nicobar Island\",\"Andaman & Nicobar Island\",\"Andaman & Nicobar Island\",\"Andaman & Nicobar Island\",\"Andaman & Nicobar Island\",\"Andaman & Nicobar Island\",\"Andaman & Nicobar Island\",\"Andaman & Nicobar Island\",\"Andaman & Nicobar Island\",\"Andaman & Nicobar Island\",\"Andaman & Nicobar Island\",\"Andaman & Nicobar Island\",\"Andaman & Nicobar Island\",\"Andaman & Nicobar Island\",\"Andaman & Nicobar Island\",\"Andaman & Nicobar Island\",\"Andaman & Nicobar Island\",\"Andaman & Nicobar Island\",\"Andaman & Nicobar Island\",\"Andaman & Nicobar Island\",\"Andaman & Nicobar Island\",\"Andaman & Nicobar Island\",\"Andaman & Nicobar Island\",\"Andaman & Nicobar Island\",\"Andaman & Nicobar Island\",\"Andaman & Nicobar Island\",\"Andaman & Nicobar Island\",\"Andaman & Nicobar Island\",\"Andaman & Nicobar Island\",\"Andaman & Nicobar Island\",\"Andaman & Nicobar Island\",\"Andaman & Nicobar Island\",\"Andaman & Nicobar Island\",\"Andaman & Nicobar Island\",\"Andaman & Nicobar Island\",\"Andaman & Nicobar Island\",\"Andaman & Nicobar Island\",\"Andaman & Nicobar Island\",\"Andaman & Nicobar Island\",\"Andaman & Nicobar Island\",\"Andaman & Nicobar Island\",\"Andaman & Nicobar Island\",\"Andaman & Nicobar Island\",\"Andaman & Nicobar Island\",\"Andaman & Nicobar Island\",\"Andaman & Nicobar Island\",\"Andaman & Nicobar Island\",\"Andaman & Nicobar Island\",\"Andaman & Nicobar Island\",\"Andaman & Nicobar Island\",\"Andaman & Nicobar Island\",\"Andaman & Nicobar Island\",\"Andaman & Nicobar Island\",\"Andaman & Nicobar Island\",\"Andaman & Nicobar Island\",\"Andaman & Nicobar Island\",\"Andaman & Nicobar Island\",\"Andaman & Nicobar Island\",\"Andaman & Nicobar Island\",\"Andaman & Nicobar Island\",\"Andaman & Nicobar Island\",\"Andaman & Nicobar Island\",\"Andaman & Nicobar Island\",\"Andaman & Nicobar Island\",\"Andaman & Nicobar Island\",\"Andaman & Nicobar Island\",\"Andaman & Nicobar Island\",\"Andaman & Nicobar Island\",\"Andaman & Nicobar Island\",\"Andaman & Nicobar Island\",\"Andaman & Nicobar Island\",\"Andaman & Nicobar Island\",\"Andaman & Nicobar Island\",\"Andaman & Nicobar Island\",\"Andaman & Nicobar Island\",\"Andaman & Nicobar Island\",\"Andaman & Nicobar Island\",\"Andaman & Nicobar Island\",\"Andaman & Nicobar Island\",\"Andaman & Nicobar Island\",\"Andaman & Nicobar Island\",\"Andaman & Nicobar Island\",\"Andaman & Nicobar Island\",\"Andaman & Nicobar Island\",\"Andaman & Nicobar Island\",\"Andaman & Nicobar Island\",\"Andaman & Nicobar Island\",\"Andaman & Nicobar Island\",\"Andaman & Nicobar Island\",\"Andaman & Nicobar Island\",\"Andhra Pradesh\",\"Andhra Pradesh\",\"Arunanchal Pradesh\",\"Assam\",\"Assam\",\"Bihar\",\"Bihar\",\"Chandigarh\",\"Chhattisgarh\",\"Dadara & Nagar Havelli\",\"Daman & Diu\",\"Daman & Diu\",\"Daman & Diu\",\"Daman & Diu\",\"Daman & Diu\",\"NCT of Delhi\",\"Goa\",\"Goa\",\"Gujarat\",\"Gujarat\",\"Gujarat\",\"Gujarat\",\"Gujarat\",\"Gujarat\",\"Gujarat\",\"Gujarat\",\"Gujarat\",\"Gujarat\",\"Gujarat\",\"Gujarat\",\"Gujarat\",\"Gujarat\",\"Gujarat\",\"Gujarat\",\"Gujarat\",\"Gujarat\",\"Gujarat\",\"Gujarat\",\"Gujarat\",\"Gujarat\",\"Gujarat\",\"Gujarat\",\"Gujarat\",\"Gujarat\",\"Gujarat\",\"Gujarat\",\"Gujarat\",\"Gujarat\",\"Gujarat\",\"Gujarat\",\"Gujarat\",\"Gujarat\",\"Gujarat\",\"Gujarat\",\"Gujarat\",\"Gujarat\",\"Gujarat\",\"Gujarat\",\"Gujarat\",\"Gujarat\",\"Gujarat\",\"Gujarat\",\"Gujarat\",\"Gujarat\",\"Gujarat\",\"Gujarat\",\"Gujarat\",\"Gujarat\",\"Gujarat\",\"Gujarat\",\"Gujarat\",\"Gujarat\",\"Gujarat\",\"Gujarat\",\"Gujarat\",\"Gujarat\",\"Gujarat\",\"Gujarat\",\"Gujarat\",\"Gujarat\",\"Gujarat\",\"Gujarat\",\"Gujarat\",\"Gujarat\",\"Gujarat\",\"Gujarat\",\"Gujarat\",\"Gujarat\",\"Gujarat\",\"Gujarat\",\"Gujarat\",\"Gujarat\",\"Gujarat\",\"Gujarat\",\"Gujarat\",\"Gujarat\",\"Gujarat\",\"Gujarat\",\"Gujarat\",\"Gujarat\",\"Gujarat\",\"Gujarat\",\"Gujarat\",\"Gujarat\",\"Gujarat\",\"Gujarat\",\"Gujarat\",\"Gujarat\",\"Gujarat\",\"Gujarat\",\"Gujarat\",\"Gujarat\",\"Gujarat\",\"Gujarat\",\"Gujarat\",\"Gujarat\",\"Gujarat\",\"Gujarat\",\"Gujarat\",\"Gujarat\",\"Gujarat\",\"Gujarat\",\"Gujarat\",\"Gujarat\",\"Gujarat\",\"Gujarat\",\"Gujarat\",\"Gujarat\",\"Gujarat\",\"Gujarat\",\"Gujarat\",\"Gujarat\",\"Gujarat\",\"Gujarat\",\"Gujarat\",\"Gujarat\",\"Gujarat\",\"Gujarat\",\"Gujarat\",\"Gujarat\",\"Gujarat\",\"Gujarat\",\"Gujarat\",\"Gujarat\",\"Gujarat\",\"Gujarat\",\"Gujarat\",\"Gujarat\",\"Gujarat\",\"Gujarat\",\"Gujarat\",\"Gujarat\",\"Gujarat\",\"Gujarat\",\"Gujarat\",\"Gujarat\",\"Gujarat\",\"Gujarat\",\"Gujarat\",\"Gujarat\",\"Gujarat\",\"Gujarat\",\"Gujarat\",\"Gujarat\",\"Gujarat\",\"Gujarat\",\"Gujarat\",\"Gujarat\",\"Gujarat\",\"Gujarat\",\"Gujarat\",\"Gujarat\",\"Gujarat\",\"Gujarat\",\"Gujarat\",\"Gujarat\",\"Gujarat\",\"Gujarat\",\"Gujarat\",\"Gujarat\",\"Gujarat\",\"Gujarat\",\"Gujarat\",\"Gujarat\",\"Gujarat\",\"Gujarat\",\"Gujarat\",\"Gujarat\",\"Gujarat\",\"Gujarat\",\"Gujarat\",\"Gujarat\",\"Gujarat\",\"Gujarat\",\"Gujarat\",\"Gujarat\",\"Gujarat\",\"Gujarat\",\"Gujarat\",\"Gujarat\",\"Gujarat\",\"Gujarat\",\"Gujarat\",\"Gujarat\",\"Gujarat\",\"Gujarat\",\"Gujarat\",\"Gujarat\",\"Gujarat\",\"Gujarat\",\"Gujarat\",\"Gujarat\",\"Gujarat\",\"Gujarat\",\"Gujarat\",\"Gujarat\",\"Gujarat\",\"Gujarat\",\"Gujarat\",\"Gujarat\",\"Gujarat\",\"Gujarat\",\"Gujarat\",\"Gujarat\",\"Gujarat\",\"Gujarat\",\"Gujarat\",\"Gujarat\",\"Gujarat\",\"Gujarat\",\"Gujarat\",\"Gujarat\",\"Gujarat\",\"Gujarat\",\"Gujarat\",\"Gujarat\",\"Gujarat\",\"Gujarat\",\"Gujarat\",\"Gujarat\",\"Haryana\",\"Himachal Pradesh\",\"Jammu & Kashmir\",\"Jharkhand\",\"Karnataka\",\"Karnataka\",\"Karnataka\",\"Karnataka\",\"Karnataka\",\"Karnataka\",\"Karnataka\",\"Karnataka\",\"Karnataka\",\"Karnataka\",\"Karnataka\",\"Karnataka\",\"Karnataka\",\"Karnataka\",\"Karnataka\",\"Karnataka\",\"Karnataka\",\"Karnataka\",\"Karnataka\",\"Karnataka\",\"Karnataka\",\"Karnataka\",\"Kerala\",\"Lakshadweep\",\"Lakshadweep\",\"Lakshadweep\",\"Lakshadweep\",\"Lakshadweep\",\"Lakshadweep\",\"Lakshadweep\",\"Lakshadweep\",\"Lakshadweep\",\"Lakshadweep\",\"Lakshadweep\",\"Lakshadweep\",\"Lakshadweep\",\"Lakshadweep\",\"Lakshadweep\",\"Lakshadweep\",\"Lakshadweep\",\"Lakshadweep\",\"Lakshadweep\",\"Lakshadweep\",\"Lakshadweep\",\"Madhya Pradesh\",\"Madhya Pradesh\",\"Madhya Pradesh\",\"Maharashtra\",\"Maharashtra\",\"Maharashtra\",\"Maharashtra\",\"Manipur\",\"Meghalaya\",\"Mizoram\",\"Nagaland\",\"Odisha\",\"Odisha\",\"Odisha\",\"Odisha\",\"Odisha\",\"Odisha\",\"Odisha\",\"Odisha\",\"Odisha\",\"Odisha\",\"Odisha\",\"Odisha\",\"Odisha\",\"Odisha\",\"Puducherry\",\"Puducherry\",\"Puducherry\",\"Puducherry\",\"Puducherry\",\"Puducherry\",\"Puducherry\",\"Puducherry\",\"Puducherry\",\"Puducherry\",\"Puducherry\",\"Puducherry\",\"Puducherry\",\"Puducherry\",\"Punjab\",\"Rajasthan\",\"Sikkim\",\"Tamil Nadu\",\"Tamil Nadu\",\"Tamil Nadu\",\"Tamil Nadu\",\"Tamil Nadu\",\"Tamil Nadu\",\"Tamil Nadu\",\"Tamil Nadu\",\"Tamil Nadu\",\"Tamil Nadu\",\"Tamil Nadu\",\"Tamil Nadu\",\"Tamil Nadu\",\"Tamil Nadu\",\"Tamil Nadu\",\"Tamil Nadu\",\"Tamil Nadu\",\"Tamil Nadu\",\"Tamil Nadu\",\"Tamil Nadu\",\"Tamil Nadu\",\"Tamil Nadu\",\"Tamil Nadu\",\"Tamil Nadu\",\"Tamil Nadu\",\"Tamil Nadu\",\"Tamil Nadu\",\"Tamil Nadu\",\"Tamil Nadu\",\"Tamil Nadu\",\"Tamil Nadu\",\"Tamil Nadu\",\"Tamil Nadu\",\"Telangana\",\"Tripura\",\"Uttar Pradesh\",\"Uttar Pradesh\",\"Uttar Pradesh\",\"Uttar Pradesh\",\"Uttarakhand\",\"West Bengal\",\"West Bengal\",\"West Bengal\",\"West Bengal\",\"West Bengal\",\"West Bengal\",\"West Bengal\",\"West Bengal\",\"West Bengal\",\"West Bengal\",\"West Bengal\",\"West Bengal\",\"West Bengal\",\"West Bengal\",\"West Bengal\",\"West Bengal\",\"West Bengal\",\"West Bengal\",\"West Bengal\",\"West Bengal\",\"West Bengal\",\"West Bengal\",\"West Bengal\",\"West Bengal\",\"West Bengal\",\"West Bengal\",\"West Bengal\",\"West Bengal\",\"West Bengal\",\"West Bengal\",\"West Bengal\",\"West Bengal\",\"West Bengal\",\"West Bengal\",\"West Bengal\",\"West Bengal\",\"West Bengal\",\"West Bengal\",\"West Bengal\",\"West Bengal\",\"West Bengal\",\"West Bengal\",\"West Bengal\",\"West Bengal\",\"West Bengal\",\"West Bengal\",\"West Bengal\",\"West Bengal\",\"West Bengal\",\"West Bengal\",\"West Bengal\",\"West Bengal\",\"West Bengal\",\"West Bengal\",\"West Bengal\",\"West Bengal\",\"West Bengal\",\"West Bengal\",\"West Bengal\",\"West Bengal\",\"West Bengal\",\"West Bengal\",\"West Bengal\",\"West Bengal\",\"West Bengal\",\"West Bengal\",\"West Bengal\",\"West Bengal\",\"West Bengal\",\"West Bengal\",\"West Bengal\",\"West Bengal\",\"West Bengal\",\"West Bengal\",\"West Bengal\",\"West Bengal\",\"West Bengal\",\"West Bengal\",\"West Bengal\",\"West Bengal\",\"West Bengal\",\"West Bengal\",\"West Bengal\",\"West Bengal\",\"West Bengal\",\"West Bengal\",\"West Bengal\",\"West Bengal\",\"West Bengal\",\"West Bengal\",\"West Bengal\",\"West Bengal\",\"West Bengal\",\"West Bengal\",\"West Bengal\",\"West Bengal\",\"West Bengal\",\"West Bengal\",\"West Bengal\",\"West Bengal\",\"West Bengal\",\"West Bengal\",\"West Bengal\",\"West Bengal\",\"West Bengal\",\"West Bengal\",\"West Bengal\",\"West Bengal\",\"West Bengal\",\"West Bengal\",\"West Bengal\",\"West Bengal\",\"West Bengal\",\"West Bengal\",\"West Bengal\",\"West Bengal\",\"West Bengal\",\"West Bengal\",\"West Bengal\",\"West Bengal\",\"West Bengal\",\"West Bengal\",\"West Bengal\"],\"__x__\":[[[[10432835,10432061,10431662,10432995,10432835]]],[[[10447179,10458238,10444929,10425752,10447179]]],[[[10446563,10446563,10446255,10446208,10446563]]],[[[10438455,10437671,10438055,10438652,10438455]]],[[[10429506,10428863,10429373,10430220,10429506]]],[[[10432071,10436986,10424755,10423164,10432071]]],[[[10425387,10424453,10424389,10425020,10425387]]],[[[10423320,10423081,10422913,10423488,10423320]]],[[[10413440,10412979,10413099,10413897,10413440]]],[[[10395302,10404238,10404094,10388283,10395302]]],[[[10413688,10417547,10416983,10409276,10413688]]],[[[10417321,10419581,10418826,10415299,10417321]]],[[[10411265,10413915,10408535,10411806,10406762,10403229,10411265]]],[[[10378872,10380677,10379374,10377228,10378872]]],[[[10366887,10366760,10374941,10362418,10366887]]],[[[10424305,10424142,10424086,10424178,10424305]]],[[[10424569,10425367,10425775,10424832,10424569]]],[[[10423348,10423454,10423457,10423259,10423348]]],[[[10357638,10358975,10359110,10356781,10357638]]],[[[10421094,10424223,10422057,10422741,10421094]]],[[[10420494,10420501,10420434,10420277,10420494]]],[[[10329852,10333753,10322672,10321916,10329852]]],[[[10299101,10306748,10304650,10298525,10284388,10283362,10299101]]],[[[10309325,10310181,10310460,10309269,10309325]]],[[[10266680,10266231,10265336,10265924,10266680]]],[[[10315321,10314782,10315536,10315915,10315321]]],[[[10322035,10321882,10321989,10322190,10322035]]],[[[10323042,10322830,10322477,10322539,10323042]]],[[[10316832,10316783,10316555,10316742,10316832]]],[[[10320034,10319968,10318007,10318565,10320034]]],[[[10322009,10320463,10319144,10320588,10322009]]],[[[10302558,10302653,10302194,10302278,10302558]]],[[[10303999,10304000,10303285,10303463,10303999]]],[[[10309917,10309400,10309267,10309332,10309917]]],[[[10312849,10318298,10307987,10306756,10312849]]],[[[10308678,10308908,10308878,10308260,10308678]]],[[[10303767,10304725,10304444,10302920,10303767]]],[[[10311292,10311172,10311378,10311461,10311292]]],[[[10309304,10310456,10309350,10308380,10309304]]],[[[10305312,10305151,10305590,10305594,10305312]]],[[[10304542,10304516,10304344,10304339,10304542]]],[[[10307859,10306364,10307359,10307896,10307859]]],[[[10305831,10305916,10305698,10305629,10305831]]],[[[10309489,10310324,10309846,10308222,10309489]]],[[[10307493,10307587,10307591,10307433,10307493]]],[[[10266955,10271496,10270483,10265269,10266955]]],[[[10301612,10304792,10300431,10300666,10301612]]],[[[10319169,10319453,10318527,10318810,10319169]]],[[[10326626,10326438,10326155,10326021,10326626]]],[[[10362213,10361975,10361435,10361670,10362213]]],[[[10356223,10359420,10360679,10358302,10356223]]],[[[10308414,10308038,10307698,10307656,10308414]]],[[[10304308,10304598,10304736,10304135,10304308]]],[[[10322938,10322873,10322210,10321867,10322938]]],[[[10324154,10323965,10324211,10324286,10324154]]],[[[10325514,10326684,10323447,10323690,10325514]]],[[[10307603,10309216,10308044,10306941,10307603]]],[[[10306445,10306503,10306245,10306178,10306445]]],[[[10327784,10327690,10327378,10327264,10327784]]],[[[10349881,10353803,10357724,10344405,10349881]]],[[[10349376,10349345,10349524,10349533,10349376]]],[[[10351765,10353354,10352099,10348320,10351765]]],[[[10323687,10323712,10324120,10324041,10323687]]],[[[10347867,10347297,10346930,10347995,10347867]]],[[[10353045,10352955,10352497,10352951,10353045]]],[[[10363669,10363776,10363514,10363424,10363669]]],[[[10366115,10366480,10365543,10364963,10366115]]],[[[10348675,10351839,10352471,10348602,10348675]]],[[[10335549,10335331,10335595,10335643,10335549]]],[[[10355924,10356512,10358732,10357755,10353578,10353674,10352738,10353294,10353518,10355924]]],[[[10325861,10326415,10325904,10325925,10325597,10325861]]],[[[10322723,10322192,10322114,10322701,10322723]]],[[[10361002,10363293,10360958,10356806,10361002]]],[[[10317461,10317062,10317341,10317450,10317461]]],[[[10345503,10346155,10345232,10344395,10345503]]],[[[10319030,10319749,10325763,10323225,10328607,10323588,10317156,10324470,10329139,10325486,10319521,10315449,10325645,10320621,10298566,10304011,10308421,10308228,10308467,10308657,10308884,10319030]]],[[[10322819,10326284,10326389,10324954,10324530,10322763,10321633,10322819]]],[[[10339483,10339312,10339378,10339559,10339483]]],[[[10319198,10319301,10319237,10318821,10319198]]],[[[10337885,10337297,10337690,10338232,10337885]]],[[[10341671,10343161,10342954,10339167,10341671]]],[[[10361535,10364480,10363916,10359751,10361535]]],[[[10341797,10341565,10341597,10341760,10341797]]],[[[10323593,10323588,10323258,10323180,10323593]]],[[[10356035,10355668,10355171,10355831,10356035]]],[[[10324806,10324095,10323156,10323719,10323726,10324806]]],[[[10323543,10323445,10323281,10323240,10323543]]],[[[10326820,10325237,10326263,10326889,10326820]]],[[[10325181,10325210,10325440,10325422,10325181]]],[[[10449222,10450257,10447873,10447232,10449222]]],[[[10326996,10326708,10327212,10327321,10326996]]],[[[10339427,10339372,10338999,10339100,10339427]]],[[[10326673,10326551,10326350,10326572,10326673]]],[[[10320749,10321972,10320514,10319308,10320749]]],[[[10345406,10346289,10344161,10341773,10345406]]],[[[10333307,10340140,10337035,10339587,10326539,10327193,10324145,10333307]]],[[[10360726,10360820,10359682,10360203,10360726]]],[[[10342992,10342814,10342864,10343028,10342992]]],[[[10342202,10342114,10342081,10342307,10342202]]],[[[10343290,10343600,10342768,10342684,10343290]]],[[[10341229,10341057,10341128,10341289,10341229]]],[[[10337085,10340384,10339752,10335396,10337085]]],[[[10341395,10341513,10341429,10341249,10341395]]],[[[10340385,10340294,10340327,10340449,10340385]]],[[[10337824,10338196,10337089,10337040,10337824]]],[[[10342062,10341488,10341554,10341955,10342062]]],[[[10335227,10334485,10333704,10334484,10335227]]],[[[10347790,10348329,10345023,10344481,10347790]]],[[[10316490,10317601,10316943,10315830,10316490]]],[[[10319629,10319421,10319558,10319694,10319629]]],[[[10322000,10322600,10322430,10321868,10322000]]],[[[10322292,10322168,10322207,10322296,10322292]]],[[[10321242,10321172,10321250,10321305,10321242]]],[[[10321141,10321274,10321241,10321076,10321141]]],[[[10321146,10321074,10321086,10321182,10321146]]],[[[10321662,10322055,10322088,10321185,10321662]]],[[[10321055,10321018,10321074,10321150,10321055]]],[[[10321216,10321045,10321120,10321196,10321216]]],[[[10321234,10321130,10321148,10321272,10321234]]],[[[10320473,10320670,10322148,10321360,10318715,10320473]]],[[[10322206,10322078,10322365,10322412,10322206]]],[[[10326500,10326575,10326529,10326417,10326500]]],[[[10322725,10322567,10322843,10322844,10322725]]],[[[10322570,10321371,10320384,10321532,10322570]]],[[[10328059,10327832,10327787,10328016,10328059]]],[[[10326715,10326573,10326677,10326110,10326715]]],[[[10325819,10326046,10325661,10325668,10325819]]],[[[10329161,10329381,10328701,10328433,10329161]]],[[[10340814,10340653,10340739,10340892,10340814]]],[[[10325693,10325517,10324893,10325346,10325693]]],[[[10325741,10325663,10325793,10325823,10325741]]],[[[10337695,10337485,10337533,10337656,10337695]]],[[[10329750,10330519,10329629,10327563,10329750]]],[[[10326905,10326831,10326741,10326885,10326905]]],[[[10345493,10345104,10345113,10345664,10345493]]],[[[10326816,10326735,10326413,10326269,10326816]]],[[[10341467,10350497,10349176,10343227,10342354,10342685,10340724,10336703,10341502,10331294,10341043,10327271,10321563,10317597,10329233,10322968,10324440,10321933,10323586,10330777,10335102,10336989,10338729,10338589,10340046,10341140,10341346,10341467]]],[[[10340127,10340266,10340255,10340079,10340127]]],[[[10327594,10327784,10327411,10327067,10327594]]],[[[10340687,10340732,10340587,10340594,10340687]]],[[[10338978,10340041,10337715,10337100,10338978]]],[[[10326531,10326750,10326362,10326094,10326531]]],[[[10340632,10340816,10340413,10340492,10340632]]],[[[10341680,10341860,10341927,10341542,10341680]]],[[[10318899,10321500,10315778,10313535,10318899]]],[[[10353417,10350618,10347378,10348198,10353417]]],[[[10351547,10351422,10351210,10351257,10351547]]],[[[10342960,10342727,10342793,10342990,10342960]]],[[[10342723,10342615,10342632,10342712,10342723]]],[[[10347068,10346962,10346599,10346833,10347068]]],[[[10344541,10346029,10346246,10343903,10344541]]],[[[10343704,10343184,10343438,10343628,10343704]]],[[[10345246,10345105,10345274,10345386,10345246]]],[[[10343486,10343447,10343106,10343211,10343486]]],[[[10322540,10322491,10322737,10322801,10322540]]],[[[10321186,10321553,10319521,10318882,10321186]]],[[[10329944,10330144,10329927,10329697,10329944]]],[[[10359522,10359266,10359131,10359290,10359522]]],[[[10354559,10354447,10354320,10354437,10354559]]],[[[10360848,10360962,10361476,10361314,10360848]]],[[[10355529,10355159,10355111,10354518,10355529]]],[[[10353558,10353508,10353750,10353750,10353558]]],[[[10349167,10348863,10349368,10349151,10349167]]],[[[10354378,10354387,10354221,10354257,10354378]]],[[[10356855,10356764,10356993,10357026,10356855]]],[[[10354964,10354526,10354811,10355011,10354964]]],[[[10361314,10361314,10360923,10361139,10361314]]],[[[10361933,10361859,10361684,10361832,10361933]]],[[[10359852,10359643,10359536,10359461,10359852]]],[[[10337915,10337680,10337644,10337808,10337915]]],[[[10332185,10332528,10332062,10331810,10332185]]],[[[10363177,10363338,10362645,10362428,10363177]]],[[[10360661,10360191,10360782,10360565,10360661]]],[[[10363850,10364145,10364240,10363423,10363850]]],[[[10335271,10335158,10332912,10332868,10335271]]],[[[10494212,10491460,10492944,10494730,10494212]]],[[[10338661,10337888,10338261,10338500,10338661]]],[[[10343823,10344041,10343198,10343308,10343823]]],[[[10342521,10342924,10342252,10342196,10342521]]],[[[10339010,10338724,10338819,10339105,10339010]]],[[[10353522,10353260,10353339,10353468,10353522]]],[[[10359049,10358991,10358676,10358496,10359049]]],[[[10356073,10355551,10358891,10362736,10359973,10357354,10347160,10354027,10360021,10356253,10356567,10349551,10345606,10342052,10340213,10345867,10339494,10336515,10336946,10338883,10338192,10338626,10335128,10335347,10335147,10329827,10333280,10329092,10335145,10343244,10356073]]],[[[10341849,10341952,10339911,10340297,10341849]]],[[[10359772,10360106,10357909,10357510,10359772]]],[[[10354575,10356256,10355572,10350143,10354575]]],[[[9028433,9085866,9137183,9158215,9169695,9163212,9172880,9166358,9169341,9181880,9198917,9218079,9229614,9246378,9245948,9286116,9274374,9291090,9291521,9299535,9309752,9323400,9327982,9337243,9360789,9388650,9399453,9397863,9424492,9417517,9429778,9436395,9381357,9388954,9366042,9350021,9364013,9301416,9277397,9261576,9263883,9197555,9162246,9155971,9168605,9165692,9169994,9165191,9160456,9157527,9163067,9144822,9148257,9143861,9095776,9078052,9051694,9044271,9033894,9028992,9026202,9032530,9017989,9017673,9012068,9010198,9015693,9009849,9001619,9007612,8998927,8989702,8961022,8936445,8930307,8925094,8920660,8928952,8914883,8908927,8913858,8926028,8915963,8927227,8919328,8933329,8932477,8906291,8910969,8898679,8875931,8883031,8878520,8870050,8860218,8855249,8840268,8842789,8829891,8819892,8812604,8793287,8787172,8781739,8762387,8752500,8756199,8745200,8738126,8734855,8706431,8710969,8722072,8734743,8728799,8748409,8724923,8727526,8704383,8701298,8692930,8695715,8688469,8677708,8681480,8674015,8663595,8651406,8644740,8622507,8619665,8592231,8592022,8586103,8590883,8571459,8576258,8560098,8574432,8574883,8588696,8607241,8616011,8620325,8608659,8616376,8611047,8629190,8627603,8616278,8615891,8603583,8587328,8582844,8565896,8559137,8569204,8557682,8545461,8557093,8545732,8546886,8580903,8590305,8590400,8568742,8575016,8575301,8585981,8575713,8599783,8661200,8687649,8695834,8710143,8712219,8728832,8752401,8770033,8777021,8785123,8786788,8819472,8824723,8881416,8901847,8914256,8907547,8926763,8948047,8951025,8969202,8971567,8946395,8949934,8956193,8968875,8977729,8999218,9007319,9035987,9038068,9053095,9000383,9007669,9006664,9021739,9028433],[9151166,9157477,9162969,9161954,9151166],[8888310,8887900,8888424,8888310]]],[[[9060710,9047531,9047084,9047719,9060710]]],[[[10704772,10714265,10730871,10725678,10699865,10705600,10745540,10740198,10755550,10716275,10731341,10737906,10760864,10797737,10808435,10842643,10832288,10844220,10841280,10826541,10786562,10788111,10816440,10814118,10782979,10785501,10775912,10755687,10744755,10697668,10680611,10665252,10656649,10634616,10622418,10601767,10597155,10626341,10632861,10674872,10689013,10684231,10669947,10673533,10659883,10684318,10643090,10618331,10610799,10560653,10515444,10492387,10493196,10442949,10445120,10407412,10355143,10315082,10306873,10253780,10244430,10246254,10255269,10243979,10203330,10193205,10201916,10192205,10222410,10232906,10265369,10277092,10304317,10324236,10315739,10318431,10377644,10373629,10390834,10447250,10456371,10488576,10512695,10526790,10534640,10553472,10578465,10575665,10621515,10636742,10635756,10662484,10696213,10704772]]],[[[9990170,9989480,9989139,9989673,9990170]]],[[[10682954,10659883,10673533,10669947,10684231,10688730,10674872,10632274,10626341,10577764,10563658,10548601,10515795,10499298,10494894,10464588,10461719,10441286,10438780,10389652,10404103,10405436,10380359,10374609,10364872,10356972,10333601,10326524,10293310,10288378,10265083,10271796,10268515,10296804,10288132,10295365,10330973,10328756,10304649,10314237,10305229,10284422,10259457,10258632,10266694,10259009,10260245,10270076,10274708,10232973,10221562,10204851,10194476,10183212,10189329,10188844,10167508,10155295,10152266,10130500,10133673,10124068,10105747,10095520,10088703,10084002,10076219,10072316,10032426,10007573,10021236,10005145,10002733,9998588,10006179,9985327,9987899,10003418,10004045,10033568,10043257,10064940,10097187,10141309,10167959,10175979,10206986,10225969,10247911,10306873,10315082,10355143,10425846,10493196,10492387,10515444,10560653,10610799,10618331,10643090,10682954],[10217249,10217040,10217452,10217249],[9998130,9999164,9996836,9995785,9998130]]],[[[9407298,9406375,9406386,9407720,9407298]]],[[[9364606,9383588,9420542,9427808,9422768,9457887,9465949,9483933,9485910,9499648,9533084,9543016,9544228,9557052,9576836,9598152,9611949,9655306,9692852,9695087,9722773,9736323,9752630,9784025,9798342,9807835,9822594,9816784,9827943,9792832,9793725,9779254,9774954,9786884,9785491,9802183,9804584,9788532,9772428,9778556,9750034,9739065,9738016,9721481,9717871,9701810,9691065,9677679,9675568,9660662,9648566,9641285,9624504,9605260,9610130,9589045,9579857,9568699,9544949,9535237,9536917,9494395,9472904,9471434,9451608,9440193,9424933,9409718,9406600,9384318,9384299,9363909,9350837,9337013,9295852,9300670,9283472,9275852,9279365,9333776,9362289,9383559,9388654,9406128,9421956,9410625,9370310,9357280,9352449,9369338,9370919,9340982,9340982,9357181,9360977,9397992,9385056,9377926,9378734,9357693,9354236,9345189,9350284,9340596,9343455,9332924,9334237,9354170,9364606]]],[[[8553953,8550167,8538633,8546293,8553953]]],[[[9276845,9296775,9302833,9317761,9326600,9344447,9352433,9347839,9359458,9355381,9366027,9368098,9372764,9392859,9393566,9376168,9352182,9352086,9309248,9302346,9307137,9299585,9305372,9292318,9287041,9294251,9282696,9277568,9285141,9270380,9261487,9199807,9180122,9167605,9165096,9176804,9172550,9207798,9208195,9194178,9194810,9177970,9166836,9154716,9131757,9122506,9114983,9112302,9135710,9131553,9149443,9146866,9155758,9137850,9116343,9123200,9100724,9076572,9060588,9035576,9022004,9014851,9002415,8998796,8988215,8994194,8987307,8960763,8944100,8933035,8945089,8936161,8949030,8969573,8974292,8989787,9000451,8994089,9005687,8998504,8979479,8980480,8966730,8950273,8961725,8951559,8964269,8967136,8961772,8950167,8948953,8975106,8975607,8959932,8970906,8966639,8957421,8953485,8956993,8981238,8986316,8996637,8997447,9007209,9018142,9014523,9030347,9029922,9053635,9061829,9086244,9090782,9102608,9103353,9122376,9122140,9145850,9149729,9126382,9119733,9099661,9085297,9081146,9094241,9085702,9104863,9119760,9186521,9217968,9234755,9254555,9276845],[9178981,9178918,9180182,9178981]]],[[[8149317,8145905,8131030,8116723,8137170,8145226,8133240,8145289,8149317]]],[[[8114450,8114472,8104279,8109024,8114450]]],[[[7905154,7905152,7905152,7905154]]],[[[7895314,7899246,7903421,7889599,7895314]]],[[[7904905,7902307,7901875,7904271,7904905]]],[[[7920428,7921139,7919888,7919625,7920428]]],[[[8582021,8595551,8594662,8608748,8610301,8595597,8580749,8559232,8554587,8565330,8566298,8582021]]],[[[8250909,8250276,8249789,8250060,8250909]]],[[[8223317,8237031,8265320,8275001,8265593,8272802,8270620,8256427,8242356,8242728,8228020,8233001,8233197,8224744,8213608,8231047,8213780,8219136,8211727,8211649,8201545,8223317]]],[[[7982025,7982025,7981097,7981406,7982025]]],[[[7982767,7983169,7982272,7982334,7982767]]],[[[8087097,8087871,8088179,8087129,8087097]]],[[[8090623,8090776,8090776,8090561,8090623]]],[[[8089818,8089912,8090282,8089509,8089818]]],[[[8093158,8093281,8092880,8092664,8093158]]],[[[8090314,8094086,8092571,8091705,8090314]]],[[[8026459,8026491,8026027,8026367,8026459]]],[[[8080448,8080387,8080234,8080357,8080448]]],[[[8079923,8079893,8079429,8079521,8079923]]],[[[8081841,8081779,8080418,8081099,8081841]]],[[[8084934,8084222,8083202,8083697,8084934]]],[[[8085799,8085768,8085304,8085705,8085799]]],[[[8090252,8089881,8088891,8089076,8090252]]],[[[8092185,8092138,8092138,8092185]]],[[[8088242,8088242,8088273,8088242]]],[[[8089732,8089695,8089742,8089735,8089732]]],[[[8090070,8090067,8090067,8090070]]],[[[8090106,8090096,8090096,8090106]]],[[[8092438,8092299,8092234,8092446,8092438]]],[[[8093653,8093610,8093653,8093653]]],[[[8091302,8091272,8091272,8091280,8091302]]],[[[8054320,8055650,8054939,8053454,8054320]]],[[[8080079,8080047,8079738,8079738,8080079]]],[[[8082830,8082676,8082552,8082335,8082830]]],[[[8083109,8082984,8082893,8082923,8083109]]],[[[8083696,8083573,8083418,8083386,8083696]]],[[[8081316,8081345,8083078,8081963,8081686,8080448,8081316]]],[[[8083974,8083851,8083696,8083696,8083974]]],[[[8081408,8082088,8082088,8081655,8081408]]],[[[8098377,8098353,8098353,8098377]]],[[[8098493,8098600,8098385,8098446,8098493]]],[[[8093560,8093560,8093557,8093560]]],[[[8106301,8106269,8106269,8106301]]],[[[8106424,8106393,8106393,8106424]]],[[[8106467,8106424,8106424,8106467]]],[[[8106509,8106485,8106485,8106509]]],[[[8095447,8098044,8098600,8094796,8095447]]],[[[8044302,8044301,8044301,8044302]]],[[[8044161,8044147,8044147,8044161]]],[[[8044145,8044116,8044116,8044122,8044145]]],[[[8043992,8044114,8043992,8043992]]],[[[8045539,8046466,8047022,8044796,8045539]]],[[[8043499,8043749,8043761,8043528,8043499]]],[[[8075606,8075597,8075564,8075440,8075606]]],[[[8043436,8043491,8043436,8043436]]],[[[8043412,8043405,8043405,8043412]]],[[[8043381,8043374,8043374,8043381]]],[[[8043364,8043312,8043312,8043364]]],[[[8075967,8075966,8075978,8075967]]],[[[8042805,8042786,8042786,8042805]]],[[[8042776,8042755,8042756,8042775,8042776]]],[[[8042732,8042725,8042725,8042732]]],[[[8076740,8076739,8076739,8076740]]],[[[8076910,8076893,8076893,8076910]]],[[[8077062,8077048,8077048,8077062]]],[[[8077082,8077079,8077079,8077082]]],[[[8077242,8077234,8077234,8077242]]],[[[8077272,8077264,8077264,8077272]]],[[[8077834,8077525,8077358,8077872,8077834]]],[[[8077885,8077883,8077883,8077885]]],[[[8054537,8054784,8055125,8053702,8054537]]],[[[8038828,8039075,8038766,8038426,8038828]]],[[[8077528,8077512,8077512,8077528]]],[[[8077768,8077759,8077759,8077768]]],[[[8077832,8077821,8077821,8077832]]],[[[8078042,8078037,8078037,8078042]]],[[[8078146,8078131,8078131,8078146]]],[[[8078165,8078161,8078161,8078165]]],[[[8078203,8078193,8078193,8078203]]],[[[8078261,8078254,8078254,8078261]]],[[[8078325,8078316,8078316,8078325]]],[[[8078384,8078378,8078378,8078384]]],[[[8078796,8078779,8078779,8078796]]],[[[8078848,8078841,8078841,8078848]]],[[[8067617,8067586,8067091,8067091,8067617]]],[[[8057784,8058433,8058649,8058155,8057784]]],[[[8056269,8055989,8056918,8055464,8056269]]],[[[7715600,7715785,7715755,7715474,7715600]]],[[[7731494,7732050,7729731,7729978,7731494]]],[[[7701530,7701715,7701685,7701376,7701530]]],[[[7702798,7702705,7702179,7702489,7702798]]],[[[7704776,7704994,7704900,7704685,7704776]]],[[[7703415,7703385,7703261,7703262,7703571,7703415]]],[[[7718383,7718939,7718011,7716990,7718383]]],[[[7734833,7735483,7734988,7734493,7734833]]],[[[7712229,7712323,7712013,7711982,7712229]]],[[[7712137,7711982,7711673,7711735,7712137]]],[[[7696861,7696830,7696923,7696706,7696861]]],[[[7750913,7754190,7751902,7746522,7750913]]],[[[7714672,7717177,7716836,7713652,7714672]]],[[[7696273,7697387,7690491,7691451,7696273]]],[[[7690955,7690708,7690399,7690522,7690955]]],[[[7717208,7720145,7721536,7718352,7717208]]],[[[7786226,7786473,7786535,7786071,7786226]]],[[[7726144,7726298,7725928,7725773,7726144]]],[[[7787617,7787555,7787062,7787370,7787617]]],[[[7787958,7788297,7787247,7787710,7787958]]],[[[7787029,7787153,7785546,7785885,7787029]]],[[[7783319,7785855,7780846,7777042,7783319]]],[[[7795070,7794575,7793647,7794142,7795070]]],[[[7793617,7792905,7791915,7792440,7793617]]],[[[7794977,7795100,7793771,7794237,7794977]]],[[[7796770,7796925,7796862,7796647,7796770]]],[[[7797327,7797481,7797048,7797048,7797327]]],[[[7812603,7812757,7812757,7812417,7812603]]],[[[7793369,7795379,7787679,7788483,7793369]]],[[[7813560,7813715,7813438,7813376,7813560]]],[[[7786628,7787710,7788329,7787153,7786628]]],[[[7816406,7816962,7816900,7816498,7816406]]],[[[7818601,7818910,7818880,7818539,7818601]]],[[[7819374,7819498,7819467,7818973,7819374]]],[[[7819838,7819900,7819374,7819282,7819838]]],[[[7819529,7819807,7819683,7819467,7819529]]],[[[7752583,7755242,7755242,7751284,7752583]]],[[[7751903,7751994,7752027,7751748,7751903]]],[[[7772003,7771971,7771863,7772003]]],[[[7772466,7772466,7772421,7772466]]],[[[7772650,7772624,7772650,7772650]]],[[[7843030,7842565,7840525,7840865,7843030]]],[[[7841515,7840278,7838515,7840122,7841515]]],[[[7842287,7840710,7838422,7838515,7842287]]],[[[7842845,7842597,7842473,7842628,7842845]]],[[[7843463,7843277,7842412,7842412,7843463]]],[[[7842689,7842349,7842009,7842134,7842689]]],[[[7844638,7844483,7843617,7843710,7844638]]],[[[7846060,7842659,7842040,7843370,7846060]]],[[[7637520,7637831,7637955,7636903,7637520]]],[[[7635883,7636006,7636254,7635913,7635883]]],[[[7643025,7643243,7643211,7642871,7643025]]],[[[7639716,7639779,7639748,7639624,7639716]]],[[[7631863,7637861,7633625,7629636,7631863]]],[[[7641263,7641665,7640211,7640336,7641263]]],[[[7640150,7640304,7639995,7639902,7640150]]],[[[7640954,7641356,7641325,7640923,7640954]]],[[[7635233,7637553,7638604,7636346,7635233]]],[[[7640058,7640057,7640119,7639995,7640058]]],[[[7639532,7639841,7639623,7639376,7639532]]],[[[7639501,7639686,7639748,7639315,7639501]]],[[[7630069,7630348,7630007,7629883,7630069]]],[[[7630966,7631028,7630409,7630441,7630966]]],[[[7631368,7631709,7631554,7631306,7631368]]],[[[7626050,7628462,7629574,7625647,7626050]]],[[[7628183,7628925,7628956,7627750,7628183]]],[[[7632543,7632636,7632171,7632357,7632543]]],[[[7640026,7640490,7640336,7639686,7640026]]],[[[7622401,7622771,7622741,7622153,7622401]]],[[[7633563,7633686,7633811,7633130,7633563]]],[[[7636284,7636439,7636068,7636099,7636284]]],[[[7635295,7638511,7638449,7634027,7635295]]],[[[7629916,7629822,7629636,7629729,7629916]]],[[[7625709,7625709,7625957,7625957,7625679,7625709]]],[[[7625957,7625957,7625864,7625802,7625957]]],[[[7634213,7634986,7635079,7634058,7634213]]],[[[7629420,7629389,7630069,7629328,7629420]]],[[[7629296,7628956,7629482,7629203,7628771,7629296]]],[[[7631398,7631677,7631709,7631275,7631398]]],[[[7629544,7631028,7632883,7631584,7629544]]],[[[7621041,7621255,7621936,7621163,7621041]]],[[[7627998,7628430,7628430,7627657,7627998]]],[[[7622153,7622184,7622710,7622029,7622153]]],[[[7617577,7617855,7617855,7617546,7617577]]],[[[7621288,7621288,7621441,7621102,7621288]]],[[[7615258,7615350,7615350,7615258,7615258]]],[[[7631831,7631554,7631089,7631460,7631831]]],[[[7615876,7616742,7616865,7615721,7615876]]],[[[7621009,7621256,7620700,7620700,7621009]]],[[[7630903,7630719,7630007,7630935,7630903]]],[[[7614330,7614547,7614453,7614084,7614330]]],[[[7614485,7614547,7614453,7614392,7614485]]],[[[7614237,7614392,7614051,7614083,7614237]]],[[[7625586,7625524,7625431,7625431,7625586]]],[[[7627256,7627194,7626915,7626946,7627256]]],[[[7625461,7625492,7625029,7625245,7625461]]],[[[7625524,7625616,7625461,7625307,7625524]]],[[[7625524,7625647,7625029,7624936,7625524]]],[[[7626143,7627503,7628276,7628338,7625708,7626143]]],[[[7615134,7614979,7614577,7614392,7615134]]],[[[7625277,7625647,7625400,7624844,7625277]]],[[[7622364,7624812,7623576,7622556,7616648,7615661,7622364]]],[[[7625214,7624998,7623946,7623916,7625214]]],[[[7626204,7626204,7626389,7626142,7626204]]],[[[7626668,7626575,7626421,7626606,7626668]]],[[[7623916,7624225,7624009,7623823,7623916]]],[[[7621659,7622184,7620886,7620792,7621659]]],[[[7618412,7618660,7618628,7618381,7618412]]],[[[7623236,7623916,7623111,7622370,7623236]]],[[[7621813,7622091,7621411,7621288,7621813]]],[[[7622617,7622556,7622215,7621906,7622617]]],[[[7622432,7622771,7622586,7622276,7622432]]],[[[7623421,7623514,7623390,7623328,7623421]]],[[[7623111,7622680,7620174,7620638,7623111]]],[[[7594602,7595034,7595128,7594664,7594602]]],[[[7598127,7597941,7596982,7597106,7598127]]],[[[7593797,7593952,7593892,7593674,7593797]]],[[[7623390,7623297,7619370,7617639,7618195,7620173,7623390]]],[[[7620762,7621782,7619958,7619185,7620762]]],[[[7623267,7623885,7623174,7623020,7623267]]],[[[7620515,7621659,7620021,7618751,7620515]]],[[[7623668,7624380,7623451,7623020,7621844,7623668]]],[[[7622926,7623390,7622339,7622432,7622926]]],[[[7619772,7619834,7619525,7619556,7619772]]],[[[7621751,7623730,7624009,7620853,7621751]]],[[[7623916,7623791,7623421,7623358,7623916]]],[[[7593829,7594664,7593952,7593643,7593829]]],[[[7608610,7608331,7607620,7607774,7608610]]],[[[7609629,7614021,7617174,7613186,7604775,7603879,7591756,7592499,7593117,7598683,7598466,7600879,7603074,7604436,7600941,7598591,7595467,7606909,7609629]]],[[[7637089,7637274,7636192,7635790,7637089]]],[[[7636130,7636006,7635883,7635790,7636130]]],[[[7604001,7605826,7600230,7599518,7602920,7602023,7604001]]],[[[7625153,7627256,7618412,7619586,7625153]]],[[[7648436,7648839,7648808,7647942,7648436]]],[[[7647571,7647695,7647077,7647107,7647571]]],[[[7629081,7629265,7628059,7628771,7629081]]],[[[7613773,7617206,7614856,7613124,7612506,7611980,7614423,7609259,7606476,7613773]]],[[[7597353,7595776,7593767,7593767,7597353]]],[[[7619741,7618938,7616742,7616153,7613526,7611732,7608702,7609011,7619741]]],[[[7629327,7635265,7630595,7629018,7627286,7629327]]],[[[7628245,7627936,7627008,7627008,7628245]]],[[[7625122,7627441,7617855,7620173,7621256,7618350,7625122]]],[[[7609629,7618009,7608300,7607281,7603538,7601868,7602641,7599301,7596272,7593426,7595838,7597043,7598713,7601714,7605085,7598807,7609629]]],[[[8088242,8089046,8089788,8090932,8090106,8096591,8097456,8097643,8086426,8084934,8093034,8095509,8102652,8107970,8073337,8085886,8072513,8075935,8081934,8098941,8105032,8112731,8116351,8117277,8108928,8098725,8075410,8069101,8069875,8067401,8063443,8058278,8060907,8056885,8056545,8061371,8054660,8053240,8050207,8050363,8047765,8049806,8049559,8051043,8046003,8041890,8048167,8048415,8044549,8045971,8040962,8040900,8034190,8039601,8031315,8043189,8044456,8042508,8037622,8036942,8036077,8035643,8035365,8049063,8025346,8027665,7960998,7952462,7910965,7887310,7885672,7821105,7770642,7706694,7673917,7688543,7688760,7702644,7698623,7706941,7735421,7736503,7745130,7762108,7769837,7789720,7810500,7819406,7820550,7818910,7820766,7820518,7847297,7841113,7837031,7831063,7814557,7810375,7808088,7807067,7770273,7764797,7764178,7761210,7760777,7759355,7751593,7703014,7643088,7634801,7636409,7636656,7639933,7639811,7645901,7647066,7625647,7627503,7625803,7624473,7625277,7623606,7625091,7623978,7624812,7624132,7654467,7636934,7628183,7629544,7627070,7643551,7630395,7653499,7654672,7661846,7666341,7674719,7681622,7746486,7762318,7794198,7804527,7856214,7856490,7885195,7898011,7917245,7903380,7902371,7914573,7935844,7957147,7991842,7998458,8000495,8008045,8020158,8032744,8053780,8042294,8063656,8066112,8075055,8092090,8096008,8117367,8127321,8136936,8135360,8151709,8135062,8150799,8153240,8167513,8173191,8166240,8182510,8183046,8199487,8196331,8218590,8225508,8233129,8249202,8251466,8264752,8277662,8288911,8279749,8266832,8254305,8242173,8250907,8258487,8270014,8258491,8245203,8245606,8257306,8248028,8253737,8215931,8225690,8213343,8221502,8244787,8271676,8274281,8265376,8244548,8231771,8231272,8218273,8217189,8191018,8216638,8226538,8231324,8217144,8218883,8200152,8175921,8170216,8181157,8168914,8173204,8159926,8149895,8145289,8133240,8145226,8137170,8116723,8121709,8111122,8106729,8096185,8099589,8115558,8102151,8109154,8099171,8095231,8091241,8089664,8088521,8087655,8084531,8087716,8080448,8092571,8088242],[8169393,8169155,8169794,8169393],[8257253,8257030,8256466,8255338,8257253],[8216627,8215907,8217064,8216627]]],[[[8554975,8562221,8574547,8590179,8585473,8595606,8617649,8623223,8621474,8629825,8638960,8619130,8603076,8585937,8586375,8597384,8566298,8565330,8554069,8559232,8580749,8591123,8609935,8625527,8624420,8632657,8627117,8633046,8624842,8632312,8598687,8576822,8581371,8571826,8569244,8559268,8568350,8557429,8521122,8521171,8511725,8513666,8493376,8500804,8494313,8498690,8480927,8478419,8486007,8457013,8452627,8465136,8454046,8471533,8452569,8435631,8411754,8401935,8406857,8398352,8390174,8394051,8358647,8332276,8304917,8297512,8307034,8301707,8306080,8291213,8290472,8300329,8297125,8310745,8327950,8348955,8359540,8360117,8367228,8370393,8375795,8367626,8374916,8399574,8413436,8436054,8448031,8466105,8488473,8480044,8489966,8484280,8497530,8507276,8511920,8521004,8533066,8522601,8541278,8542409,8554363,8560449,8565251,8563417,8552889,8556033,8546667,8551982,8554975],[8584396,8586208,8584711,8584396],[8515241,8515141,8516037,8515241]]],[[[8548929,8564389,8588758,8589835,8610052,8616705,8624245,8652926,8675451,8682921,8726263,8728179,8715868,8733675,8742606,8733709,8750820,8751293,8770612,8761692,8777218,8763340,8795548,8781604,8773118,8736929,8724272,8672030,8662333,8664154,8654956,8661043,8656051,8649765,8663346,8637057,8586679,8590179,8574547,8562221,8556677,8529704,8532430,8525355,8509832,8502289,8494795,8481060,8450198,8415045,8424319,8419959,8454766,8445466,8453794,8440768,8456111,8472614,8488618,8505852,8543520,8548929]]],[[[8319407,8331157,8340297,8387233,8401750,8417587,8434607,8468885,8488641,8499511,8522951,8532021,8549543,8540739,8550649,8611501,8625768,8607312,8620540,8652080,8653263,8680976,8677630,8698206,8705146,8711314,8713348,8730033,8740947,8756942,8789843,8808993,8818225,8836326,8841224,8876341,8891209,8905467,8917593,8938009,8942073,8913244,8880613,8882631,8850846,8859444,8841726,8813301,8783740,8806159,8784719,8793035,8844879,8838073,8831194,8864059,8844125,8829945,8809537,8807051,8792227,8775006,8767821,8719413,8717900,8728179,8726263,8682921,8675451,8652926,8624245,8616705,8610052,8589835,8588758,8564389,8548929,8543520,8505852,8488618,8472614,8456111,8440768,8453589,8406201,8403239,8382959,8352668,8343445,8313914,8308306,8315717,8307891,8278918,8233003,8213870,8208172,8196219,8199536,8188498,8196801,8188814,8191990,8179598,8169883,8176166,8198776,8209821,8241021,8252584,8216668,8206069,8204296,8213698,8171610,8156683,8141490,8137502,8118464,8107423,8091940,8081972,8074006,8081352,8074121,8076400,8081471,8092255,8111448,8112905,8125438,8138843,8135831,8175475,8224736,8226517,8206910,8203168,8243852,8285499,8302061,8302934,8316533,8319407]]],[[[9752235,9772628,9771858,9793730,9776448,9785651,9786657,9771022,9775525,9756128,9762113,9748746,9749494,9740314,9736344,9711880,9718161,9712396,9699964,9699206,9673725,9672304,9662359,9662260,9623089,9607520,9579371,9579408,9558529,9555405,9564683,9578246,9597769,9634228,9622273,9620415,9642848,9646605,9658645,9657700,9667980,9672620,9657285,9629724,9622315,9578402,9568947,9578931,9570753,9577085,9563590,9547498,9552096,9538683,9506753,9488564,9473491,9460627,9475610,9469831,9383798,9351897,9360565,9376168,9394917,9372764,9368098,9366027,9355381,9359458,9347839,9352433,9344447,9326600,9317761,9302833,9296775,9276394,9282235,9290635,9284420,9337013,9350837,9363909,9384796,9384318,9406600,9409718,9424933,9440193,9451608,9471434,9472904,9494395,9536917,9535237,9544949,9568699,9579857,9589045,9610130,9605260,9624504,9641285,9648566,9660662,9675568,9677679,9691065,9705136,9717871,9721481,9737513,9740019,9752235],[9406597,9407720,9406628,9406132,9406597]]],[[[8315225,8314871,8314707,8315194,8315225]]],[[[8314585,8314230,8314067,8314553,8314585]]],[[[8313914,8313558,8313395,8313881,8313914]]],[[[8312787,8312047,8312043,8312641,8312787]]],[[[8320342,8319009,8318768,8320291,8320342]]],[[[8314232,8313232,8313078,8314498,8314232]]],[[[8291612,8290712,8290639,8291437,8291612]]],[[[8274625,8273831,8273946,8274552,8274625]]],[[[8292148,8291618,8291531,8291936,8292148]]],[[[8290439,8289848,8289853,8290506,8290439]]],[[[8289997,8290954,8291300,8288683,8289997]]],[[[8282350,8281505,8281648,8282219,8282350]]],[[[8282064,8281319,8281257,8282384,8282064]]],[[[8247380,8246523,8246855,8247262,8247380]]],[[[8244132,8243966,8243315,8243809,8244132]]],[[[8248111,8247945,8247294,8247789,8248111]]],[[[8248817,8247838,8247841,8248563,8248817]]],[[[8248433,8248267,8247615,8248111,8248433]]],[[[8259373,8258729,8258411,8259698,8259373]]],[[[8272051,8267295,8266624,8269896,8272051]]],[[[8609485,8617610,8612303,8639135,8632756,8644769,8620973,8648656,8628818,8630815,8622289,8614349,8612080,8627646,8618431,8623750,8612835,8598205,8638069,8626389,8628864,8592162,8574499,8585981,8575301,8575016,8568742,8590400,8590305,8580903,8546886,8545732,8557093,8545461,8557682,8569204,8559137,8565896,8583944,8589180,8603583,8615061,8615249,8627951,8628088,8611047,8616376,8608659,8620325,8616593,8607241,8588696,8574883,8574432,8560098,8576258,8571607,8590883,8586103,8592022,8592231,8619665,8625492,8644740,8651406,8663595,8674015,8681480,8677708,8688469,8696553,8692930,8701298,8704383,8727526,8724923,8748409,8728799,8734947,8734743,8722592,8708706,8664606,8654134,8638389,8641762,8624569,8653676,8658386,8646846,8626720,8619489,8599662,8584161,8584894,8573162,8561468,8554550,8523574,8517314,8506819,8506516,8498398,8481501,8473013,8472968,8445924,8438496,8423147,8395903,8389894,8395344,8387119,8379447,8385640,8373907,8365802,8354303,8348072,8333715,8314968,8314256,8315529,8320355,8321210,8314382,8311530,8322272,8312025,8311748,8307368,8295061,8285809,8296320,8285014,8277350,8280742,8286199,8278559,8272001,8270437,8280404,8285461,8269333,8265079,8248212,8265488,8251114,8247440,8267022,8272802,8265593,8275001,8265320,8247562,8262191,8277570,8275297,8282795,8289350,8277930,8292270,8293016,8273729,8278026,8265058,8267652,8280351,8290127,8300938,8313945,8314814,8340032,8341657,8358648,8372668,8380777,8403576,8412880,8423921,8422266,8413175,8419545,8438173,8447654,8452561,8473785,8479879,8487536,8502875,8497276,8514870,8518709,8524240,8528839,8537336,8548229,8542922,8562541,8566735,8584008,8598654,8609485]]],[[[8605102,8604323,8601471,8602202,8605102]]],[[[8348488,8354303,8365802,8373907,8385640,8379278,8386659,8395344,8389894,8395903,8413566,8438009,8447139,8472968,8473960,8506516,8509508,8486229,8487859,8521192,8511685,8542160,8538335,8549675,8540079,8533697,8561480,8558738,8551183,8552917,8569819,8597851,8604397,8594087,8602344,8590223,8611331,8617540,8588216,8600474,8590896,8603216,8594460,8591529,8582738,8569681,8521453,8440583,8409325,8388789,8384432,8371657,8333715,8348488],[8409044,8411024,8409478,8408336,8409044]]],[[[8248920,8237718,8234603,8247658,8248920]]],[[[7997732,7988400,7989773,7992166,7997732]]],[[[8044491,8042117,8051692,8052216,8044491]]],[[[8034905,8030297,8034413,8036747,8034905]]],[[[8025648,8021078,8015108,8026150,8025648]]],[[[8003972,8001594,8003501,8006835,8003972]]],[[[8133301,8134022,8127490,8127472,8133301]]],[[[8198228,8195341,8199821,8200453,8198228]]],[[[8087035,8087516,8083738,8085419,8087035]]],[[[8200901,8204219,8204677,8200129,8200901]]],[[[8033930,8033108,8037996,8037767,8033930]]],[[[8103078,8101620,8099870,8101782,8103078]]],[[[8127374,8126356,8126399,8127537,8127374]]],[[[8095032,8093941,8092985,8093810,8095032]]],[[[8095366,8095033,8096840,8096615,8095366]]],[[[8047451,8047703,8046822,8047018,8047451]]],[[[8051430,8050695,8050128,8050275,8051430]]],[[[8074497,8074115,8074816,8074854,8074497]]],[[[8052201,8051967,8051552,8052140,8052201]]],[[[8052292,8052208,8052271,8052423,8052292]]],[[[8052264,8052264,8052014,8052164,8052264]]],[[[8257603,8255338,8256466,8257030,8257603]]],[[[8959834,8958737,8959592,8960157,8959834]]],[[[8724461,8746861,8763522,8788297,8794454,8792930,8800585,8809306,8803729,8810073,8801516,8793412,8795233,8788765,8795496,8779732,8774092,8766904,8773395,8731515,8716585,8732984,8720150,8720117,8701856,8713504,8708058,8726161,8739878,8758112,8768271,8771764,8791296,8781831,8767092,8770570,8752927,8746996,8731266,8756389,8768820,8766461,8774235,8767793,8765200,8776613,8782340,8788595,8784299,8792678,8781121,8770923,8777430,8781313,8790144,8781366,8794589,8795618,8797476,8804447,8808901,8822439,8825857,8825539,8833708,8832948,8823638,8828960,8834383,8835996,8849692,8839513,8847228,8849616,8858051,8889643,8889424,8934961,8953629,8937792,8941413,8955517,8961412,8953832,8957461,8956802,8966818,8959279,8974011,8971899,8972660,8981446,8992846,8984356,8998615,9004228,8995762,9026298,9032531,9035763,9041459,9047771,9071656,9070453,9080870,9085086,9117824,9124569,9150931,9148356,9156236,9161821,9174650,9175878,9188021,9202345,9217750,9218236,9208414,9214142,9209262,9202255,9214368,9218982,9199136,9184345,9119760,9108099,9091390,9084186,9094241,9081146,9085297,9099661,9119733,9126382,9149729,9145850,9122140,9122376,9103353,9102608,9090782,9086244,9061829,9053635,9029922,9030347,9014523,9018142,9007209,8997447,8996637,8986316,8987620,8980123,8951214,8947564,8935270,8896900,8876492,8854654,8849301,8820343,8819363,8785188,8787257,8731337,8725700,8676559,8637051,8630664,8626189,8618382,8639587,8632353,8624915,8603816,8549058,8547805,8529990,8529854,8515104,8502290,8479560,8471321,8373246,8337771,8299481,8286923,8269458,8253415,8248028,8257306,8245606,8245203,8258491,8270014,8258487,8250907,8242173,8254305,8266832,8279749,8290700,8277662,8273300,8320524,8295162,8305789,8342231,8338465,8348228,8337253,8321470,8333250,8316948,8328704,8326741,8337150,8351507,8332269,8330492,8353976,8362399,8366914,8387709,8378302,8395657,8383230,8372363,8373312,8442661,8450458,8443570,8437317,8430144,8441275,8431961,8442020,8427135,8423663,8414135,8406394,8399923,8413965,8425332,8427341,8435671,8457848,8456115,8475584,8481276,8484618,8512984,8519832,8537857,8538756,8560916,8565884,8554276,8551443,8562401,8568238,8579329,8575105,8555112,8550025,8566458,8555929,8591081,8616600,8612487,8603757,8595068,8546575,8523648,8514557,8526878,8550695,8560634,8662959,8672064,8693364,8695584,8724461],[9038903,9039473,9039035,9038903],[8956467,8954795,8954316,8955432,8956467],[8838718,8841669,8834712,8833355,8838718],[8835592,8834616,8833933,8835332,8835592]]],[[[8177830,8177139,8177109,8177619,8177830]]],[[[8169404,8168892,8169076,8169564,8169404]]],[[[8096219,8096745,8096862,8096338,8096219]]],[[[8287531,8296004,8294184,8303016,8337771,8382403,8471321,8479574,8475435,8491734,8510809,8515104,8529854,8529990,8547805,8549058,8603816,8624915,8632353,8639587,8618382,8626189,8630664,8637051,8676559,8725700,8731337,8787257,8785188,8819363,8820343,8849301,8854654,8876492,8896900,8935270,8947564,8951214,8981333,8954549,8957027,8966639,8970906,8959932,8975607,8975106,8948953,8950167,8961772,8967136,8964269,8951559,8961725,8950273,8966730,8980480,8979479,9004234,9004969,8994089,9000451,8987718,8974292,8969573,8959302,8936161,8944916,8933829,8918696,8894529,8899031,8890684,8890510,8899997,8903311,8882399,8847301,8822047,8814687,8789802,8791404,8779125,8777654,8738447,8717961,8724378,8713452,8717825,8703693,8702346,8689085,8677684,8667864,8672867,8666450,8656329,8676988,8665266,8653604,8654015,8638484,8630530,8635475,8623782,8612303,8617610,8607264,8584008,8566735,8562541,8542922,8548229,8537336,8528839,8524240,8518709,8514870,8497276,8502875,8487536,8479879,8473785,8452561,8447654,8438173,8419545,8413175,8422266,8423921,8412880,8403576,8380777,8372668,8358648,8341657,8340032,8314814,8313945,8300938,8290127,8280351,8267115,8278026,8274086,8294156,8291452,8277930,8289350,8282795,8275297,8277570,8262191,8239890,8222603,8201545,8177373,8167729,8178590,8167484,8161294,8162417,8171198,8162409,8160204,8158026,8159125,8162914,8163470,8156684,8161098,8147457,8153712,8145090,8140820,8118766,8118897,8102684,8104068,8087410,8093813,8098908,8101006,8093398,8111122,8121840,8130188,8145409,8159926,8172857,8168914,8181157,8170088,8176479,8200152,8218883,8217144,8231324,8226538,8216638,8211344,8209368,8199015,8191018,8217189,8218273,8231272,8231771,8244548,8271213,8274526,8244787,8221502,8213343,8225500,8215931,8287531],[8604077,8602202,8601471,8604323,8604077],[8267280,8269598,8272051,8269896,8267280]]],[[[10528154,10525929,10539823,10528994,10546805,10546408,10531761,10525104,10500082,10481695,10458614,10443293,10436735,10409128,10391659,10380960,10380159,10363800,10349960,10364872,10374609,10397596,10405436,10420320,10445776,10465600,10498302,10527692,10528154]]],[[[10225398,10232973,10275182,10259009,10266694,10258632,10259457,10284422,10305229,10314237,10304649,10328756,10330876,10310634,10299857,10288742,10248653,10201879,10159865,10068563,10000685,10004356,10021236,10007573,10032426,10072316,10076219,10084002,10088703,10095520,10105747,10124068,10133673,10130500,10152266,10155295,10167508,10179832,10188844,10183212,10194476,10204851,10211762,10225398]]],[[[10330473,10355322,10349960,10363800,10369028,10380159,10380960,10390091,10401986,10393183,10396261,10385585,10367268,10364864,10375617,10369591,10357613,10353442,10347500,10342502,10337713,10321060,10309312,10299349,10283186,10281179,10286530,10270214,10278202,10274395,10288378,10293310,10326524,10330473]]],[[[10599238,10601767,10582674,10590380,10588645,10595882,10577637,10581023,10564586,10534323,10525929,10527692,10498809,10465600,10445776,10420828,10408888,10404103,10389652,10438780,10441286,10461719,10464588,10494894,10499298,10515795,10548269,10567407,10577764,10597155,10599238]]],[[[9616820,9616261,9620935,9620971,9616820]]],[[[9621593,9620677,9621724,9621871,9621593]]],[[[9661494,9661296,9662099,9662222,9661494]]],[[[9663356,9662620,9663437,9663818,9663356]]],[[[9661986,9661211,9662549,9663823,9661986]]],[[[9691268,9690651,9690702,9691569,9691268]]],[[[9693237,9693796,9693181,9692813,9693237]]],[[[9695375,9694513,9694574,9695286,9695375]]],[[[9683989,9683740,9683227,9683860,9683989]]],[[[9672515,9678069,9679783,9671514,9672515]]],[[[9693255,9692507,9693288,9693614,9693255]]],[[[9684715,9683738,9684314,9684971,9684715]]],[[[9684281,9683405,9684140,9684519,9684281]]],[[[9582836,9622315,9629724,9654300,9653685,9681667,9688688,9695848,9703947,9711443,9715523,9737152,9739364,9692605,9669838,9668569,9682578,9681513,9671432,9661912,9683142,9685527,9674021,9680990,9691148,9654255,9660734,9633394,9616008,9615241,9511675,9452698,9436395,9425655,9417517,9425612,9417329,9414659,9404152,9397863,9399453,9386454,9360789,9339101,9327982,9323400,9309752,9299535,9291521,9291090,9274374,9286116,9245948,9246378,9229614,9218079,9198917,9181880,9169341,9166358,9172880,9163212,9169695,9158903,9131889,9085866,9060683,9076572,9100724,9123200,9116343,9137850,9155758,9146866,9149443,9131553,9135710,9112302,9114180,9122506,9131757,9154716,9166836,9178293,9195114,9194178,9207271,9207798,9172550,9176804,9165096,9167605,9180122,9199807,9235440,9253668,9270121,9270380,9285141,9277568,9282696,9294251,9287041,9292318,9305372,9299585,9307137,9302346,9310030,9352086,9350985,9383798,9469831,9475610,9461475,9473491,9488564,9503279,9538683,9552096,9547498,9563590,9578931,9569463,9578402,9582836]]],[[[8879429,8889036,8888803,8874539,8879429]]],[[[8409178,8408681,8407865,8409095,8409178]]],[[[8409633,8407775,8408600,8409755,8409633]]],[[[8871110,8869462,8869491,8870862,8871110]]],[[[8872355,8872606,8871421,8871488,8872355]]],[[[8876473,8884137,8882749,8873555,8876473]]],[[[8868826,8866185,8866220,8867859,8868826]]],[[[8864297,8865768,8868184,8861301,8864297]]],[[[8870931,8869460,8867187,8867994,8870931]]],[[[8883753,8882528,8882350,8884082,8883753]]],[[[8864111,8867075,8865835,8868966,8865679,8864111]]],[[[8872756,8879352,8877948,8887804,8884199,8879398,8869284,8876615,8873717,8867395,8872756],[8880020,8881018,8881569,8883031,8880020]]],[[[8889866,8887848,8888866,8891647,8889866]]],[[[9152746,9161954,9162969,9157477,9152746]]],[[[8447445,8454491,8419959,8424319,8415045,8450198,8481060,8494795,8502289,8509832,8531520,8529704,8556033,8538633,8557728,8564920,8542409,8541278,8522601,8533066,8521004,8511920,8507276,8497530,8484280,8489966,8480044,8488473,8466105,8448031,8436054,8413436,8399574,8374916,8367626,8375795,8370393,8367228,8360117,8359540,8348955,8327950,8309928,8226533,8234978,8224884,8234534,8229917,8230429,8246268,8284969,8316303,8308181,8300422,8295158,8296681,8310551,8291747,8300560,8305862,8329279,8341015,8350455,8378514,8391062,8386869,8403239,8406201,8447884,8447445]]],[[[8226342,8296502,8300329,8290472,8291213,8306080,8301707,8307034,8297512,8304917,8332276,8358647,8394051,8390174,8398352,8406857,8401935,8411754,8435631,8452569,8471533,8454046,8465136,8452627,8457013,8486007,8478419,8480927,8498690,8494313,8500804,8493376,8513666,8511725,8521171,8521122,8534714,8533740,8550984,8561461,8568350,8561681,8581371,8576822,8605469,8609854,8620614,8640909,8647449,8627981,8642343,8656562,8619487,8622351,8627898,8639766,8656368,8684584,8686290,8696650,8713060,8703853,8694949,8693364,8672064,8662959,8586144,8559795,8543907,8526878,8514557,8523648,8546575,8595068,8603757,8612487,8616600,8591081,8555929,8566458,8550025,8555112,8575105,8579329,8568238,8562401,8551443,8554276,8565884,8560916,8538756,8537857,8519832,8512984,8484618,8481276,8475584,8456115,8457848,8435671,8427341,8425332,8413965,8399923,8406394,8414135,8423663,8427135,8442020,8431961,8441275,8430144,8437317,8443570,8450458,8442661,8373312,8372363,8383230,8395657,8378302,8387709,8366914,8362399,8353976,8332015,8332269,8351375,8337150,8326741,8328704,8316948,8333250,8321470,8337253,8348228,8338465,8342231,8305789,8295162,8320524,8273300,8264752,8251466,8252234,8234085,8225508,8218590,8196331,8199487,8183046,8182510,8166240,8173191,8167513,8153240,8150799,8135062,8151709,8135360,8136430,8125929,8117367,8096008,8092090,8075055,8066112,8063656,8042294,8053780,8032744,8020158,8008045,8000495,7998458,7991842,7957147,7935844,7915926,7890939,7866429,7865610,7823095,7803415,7811655,7770186,7734964,7746688,7795108,7807357,7833751,7858315,7875251,7890608,7934033,7977026,8003721,8007771,8037846,8058291,8120468,8157344,8170818,8214970,8234960,8226342],[8272636,8273949,8273793,8272636],[8267361,8266442,8268270,8267361]]],[[[9868897,9889327,9895125,9882352,9897900,9878443,9862760,9844998,9812155,9797991,9801387,9818248,9810879,9840459,9865183,9868897]]],[[[8704280,8703695,8704403,8704560,8704280]]],[[[8707060,8706234,8706331,8707199,8707060]]],[[[8708889,8708352,8708316,8708978,8708889]]],[[[8711300,8710864,8711494,8711863,8711300]]],[[[8738212,8737319,8737253,8738014,8738212]]],[[[8742963,8742331,8742670,8743068,8742963]]],[[[8747102,8746078,8747708,8747923,8747102]]],[[[8848449,8847972,8848839,8848900,8848449]]],[[[8847347,8846833,8847624,8847800,8847347]]],[[[8846238,8845097,8845140,8846222,8846238]]],[[[8760717,8760259,8760259,8760708,8760717]]],[[[8842875,8842164,8842038,8843115,8842875]]],[[[8764510,8763852,8763895,8764678,8764510]]],[[[8767770,8767009,8767048,8767708,8767770]]],[[[8761444,8760763,8760924,8761541,8761444]]],[[[8775218,8774682,8774018,8774207,8775218]]],[[[8761910,8761287,8761499,8762176,8761910]]],[[[8787482,8785174,8783608,8784540,8787482]]],[[[8790719,8790020,8790772,8791273,8790719]]],[[[8803956,8803275,8801174,8802152,8803956]]],[[[8809096,8807845,8807838,8809238,8809096]]],[[[8816398,8816037,8816500,8816713,8816398]]],[[[8815107,8814719,8815032,8815447,8815107]]],[[[8814355,8813938,8814516,8814755,8814355]]],[[[8817840,8817278,8818584,8818308,8817840]]],[[[8830658,8831664,8840612,8841472,8817122,8830658]]],[[[8881501,8883046,8881569,8880020,8881501]]],[[[8888310,8888424,8887900,8888310]]],[[[8941316,8941068,8940969,8941439,8941316]]],[[[8939536,8939806,8939990,8939177,8939536]]],[[[8941101,8940478,8940881,8941257,8941101]]],[[[8941201,8940793,8941135,8941227,8941201]]],[[[8871658,8884332,8873555,8882749,8878763,8889618,8874382,8888803,8892057,8854954,8862678,8853547,8827524,8819713,8823569,8792855,8782501,8800006,8815198,8778265,8713510,8706677,8712735,8702080,8705843,8698620,8690415,8633153,8606945,8582738,8591529,8594460,8603228,8590896,8600474,8588216,8617540,8611331,8590223,8602344,8594125,8604397,8597851,8569819,8552917,8551183,8558738,8561480,8533697,8540079,8545716,8549675,8538335,8542160,8511685,8521192,8487859,8486229,8517314,8523574,8554550,8561468,8573162,8584894,8584161,8599662,8619489,8626720,8646846,8658224,8624319,8640239,8638389,8654134,8664606,8675615,8674085,8682005,8689285,8708706,8705285,8734855,8738126,8745200,8756199,8752500,8762387,8781739,8782410,8787172,8793287,8812604,8819892,8829891,8842789,8837284,8843330,8860218,8870050,8878520,8883031,8875931,8898679,8910969,8905795,8932477,8935581,8944109,8923640,8887804,8877948,8879352,8867946,8876615,8871658],[8865768,8861251,8861301,8867242,8865768],[8865704,8868966,8865835,8867075,8864111,8865704],[8869941,8867994,8867187,8870478,8869941],[8882528,8883676,8884082,8882350,8882528],[8866185,8868912,8866461,8865588,8866185],[8871488,8871421,8872606,8872355,8871488],[8870129,8869462,8871110,8870862,8870129],[8823103,8822959,8823103,8823103],[8842646,8842879,8842646,8842646],[8849654,8849476,8849654,8849654]]],[[[9023127,9021739,9006664,9007669,9000383,9053095,9038068,9035987,9007319,8999218,8977729,8968875,8956193,8948158,8946395,8971567,8973801,8948047,8926763,8907547,8914256,8901847,8881416,8824723,8819472,8786788,8785123,8777021,8770033,8752401,8728832,8712219,8710143,8695834,8687649,8644355,8628864,8626764,8626389,8637992,8610237,8598205,8612835,8623750,8618431,8627646,8612080,8614349,8622289,8630815,8628818,8648542,8620973,8644769,8632756,8639135,8629815,8630812,8637142,8638484,8654015,8653076,8665266,8676988,8656329,8666450,8672867,8667864,8677684,8689085,8702346,8703693,8717825,8713452,8724378,8717961,8738447,8777654,8779125,8791404,8789802,8814687,8822047,8847301,8877373,8885260,8903311,8899997,8890510,8890684,8899031,8896214,8918696,8936155,8944441,8960217,8976843,8994175,8988215,8998796,9002415,9014851,9011548,9023127]]],[[[10266004,10271796,10265083,10274395,10278858,10271280,10266377,10258600,10249987,10236543,10239022,10216653,10223061,10198743,10176400,10177005,10169752,10147310,10155405,10161745,10172976,10172607,10197046,10204810,10214776,10213537,10231080,10233370,10255215,10259071,10266004]]],[[[8955432,8954371,8956467,8955977,8955432]]],[[[8835123,8841455,8840230,8834257,8835123]]],[[[8835332,8833933,8834616,8835785,8835332]]],[[[8638153,8676752,8660567,8651120,8661169,8678935,8682921,8721251,8730250,8751673,8787037,8763726,8779172,8784477,8810133,8813175,8835596,8841318,8881775,8882753,8890632,8903282,8919322,8963752,8962183,8968563,9006383,9040887,9052455,9064653,9070522,9116017,9136410,9179246,9207654,9210765,9260019,9274231,9284697,9283381,9307404,9342688,9340596,9350284,9345189,9354236,9357693,9378734,9377926,9385056,9397992,9360977,9357181,9340982,9340982,9370919,9369568,9353116,9352165,9370310,9410625,9421956,9406128,9388654,9383559,9362289,9333776,9277831,9279827,9300704,9295852,9284147,9290635,9261475,9233564,9202935,9214142,9207805,9208414,9218236,9214013,9177232,9174650,9161821,9156236,9148356,9150931,9124569,9117824,9085086,9080870,9070453,9071656,9047771,9041459,9035763,9032531,9026298,8995762,9004228,8998615,8984356,8992846,8981446,8972660,8974011,8959279,8966818,8956802,8957461,8953832,8961412,8955517,8948995,8937449,8953629,8934961,8889424,8890387,8858051,8849616,8847228,8839513,8849692,8834383,8827902,8823966,8832948,8833708,8825539,8828829,8809437,8804447,8797476,8795618,8794589,8780775,8789819,8781313,8777430,8770918,8781121,8792678,8784299,8787376,8775961,8779169,8776613,8765200,8774235,8766461,8768820,8756389,8731266,8746996,8752927,8770570,8767092,8781831,8791296,8771764,8768271,8758112,8739878,8728901,8721714,8723784,8707704,8713504,8701856,8720117,8720150,8732984,8716585,8731515,8773395,8766904,8774092,8779732,8795496,8788765,8795233,8793412,8801516,8809272,8803729,8809306,8800585,8792930,8794454,8788297,8763522,8746861,8722982,8707206,8713060,8707902,8696251,8686290,8684584,8656368,8620157,8619487,8654477,8656562,8629750,8647449,8640909,8620614,8607201,8603283,8632312,8624842,8632926,8624694,8625527,8605568,8608748,8594386,8596623,8586375,8589970,8582407,8593998,8603076,8619130,8638153],[8646616,8646808,8646760,8646616],[8959003,8959317,8959834,8960117,8959003]]],[[[8817669,8841916,8851737,8861554,8878104,8890788,8918714,8924744,8932149,8931212,8965789,8972221,9020659,9021661,9006061,8988415,8972389,8960826,8947193,8951620,8932980,8939205,8933849,8936018,8922136,8905558,8890632,8882753,8881775,8841318,8835596,8813175,8810133,8784477,8779172,8763726,8787037,8751673,8737040,8721251,8682921,8678935,8661169,8651120,8660567,8676752,8635725,8663346,8649765,8656051,8661043,8654956,8664154,8662333,8672030,8724272,8736929,8773118,8789480,8795561,8787406,8801035,8817669]]],[[[9798186,9798402,9797970,9797877,9798186]]],[[[9851520,9855547,9855206,9849738,9851520]]],[[[9815905,9817142,9816895,9814792,9815905]]],[[[9889036,9893643,9896704,9889933,9889036]]],[[[9877250,9880404,9878027,9874841,9877250]]],[[[9855917,9861515,9857341,9852888,9855917]]],[[[9895451,9895622,9895079,9895189,9895451]]],[[[9882295,9884954,9879821,9880522,9877330,9882295]]],[[[9903623,9906414,9900986,9902448,9903161,9903206,9903623]]],[[[9866741,9866277,9867403,9867297,9866741]]],[[[9860333,9861329,9863542,9862071,9860333]]],[[[9862009,9863612,9861631,9860723,9862009,9861578,9862009]]],[[[9905708,9906088,9910636,9903429,9905708]]],[[[9885911,9884830,9877439,9880532,9885911]]],[[[9830744,9835975,9831211,9831269,9829552,9830744]]],[[[9846657,9848511,9845344,9842708,9846657]]],[[[9873718,9874790,9879507,9873764,9873718]]],[[[9818880,9817884,9821904,9819678,9819708,9816307,9818880]]],[[[9914009,9918014,9913177,9910606,9910187,9909883,9908525,9914009]]],[[[9904985,9907404,9909719,9908301,9908298,9904985]]],[[[9856858,9861871,9860707,9859560,9857698,9856586,9857184,9853691,9855026,9855778,9856858]]],[[[9817889,9817919,9818532,9818378,9817889]]],[[[9894416,9900786,9898621,9893303,9894416]]],[[[9842016,9841885,9844198,9840488,9842016]]],[[[9820706,9830810,9826912,9820203,9822245,9822089,9818131,9820648,9820706]]],[[[9899319,9906040,9904033,9904157,9905578,9898838,9899319]]],[[[9836789,9837395,9836216,9836153,9836778,9840426,9836252,9833686,9834953,9834274,9836789]]],[[[9908004,9910263,9914033,9909372,9909257,9907609,9908004]]],[[[9888696,9892437,9890272,9886840,9880997,9888696]]],[[[9838962,9839161,9836456,9836359,9838962]]],[[[9818439,9818625,9817977,9817698,9818439]]],[[[9827595,9827347,9827192,9827501,9827595]]],[[[9790014,9788814,9791614,9791640,9790014]]],[[[9783207,9783085,9785449,9784911,9783207]]],[[[9860927,9861343,9865220,9862104,9859456,9860927]]],[[[9829788,9827065,9828276,9829832,9829788]]],[[[9852362,9851887,9852485,9852547,9852362]]],[[[9907398,9908723,9907178,9907063,9907590,9909148,9907911,9906085,9901992,9907398]]],[[[9863989,9866339,9863896,9865473,9864744,9861376,9863989]]],[[[9826612,9828107,9827655,9825462,9826612]]],[[[9816523,9816060,9816245,9816740,9816523]]],[[[9847167,9848125,9844331,9843243,9847167]]],[[[9875842,9877162,9880635,9879852,9879913,9882572,9878031,9881024,9880471,9878627,9877299,9877464,9880161,9879387,9875275,9873482,9875842]]],[[[9815163,9815501,9814946,9814512,9815163]]],[[[9856736,9859845,9856418,9855599,9854728,9853939,9856736]]],[[[9843070,9843941,9845394,9842965,9843176,9838712,9843070]]],[[[9907387,9909269,9910076,9908993,9907302,9908858,9907387]]],[[[9879675,9879171,9877192,9879675,9879675]]],[[[9888296,9888541,9884150,9887583,9888296]]],[[[9883778,9879577,9881427,9883178,9883778]]],[[[9898065,9900447,9900012,9899395,9899271,9898281,9898900,9897570,9897725,9896055,9898065]]],[[[9816369,9816762,9816771,9815905,9816369]]],[[[9858453,9858181,9858080,9858361,9858453]]],[[[9850091,9851646,9846993,9846246,9850091]]],[[[9900910,9902303,9904837,9900786,9900802,9902857,9898683,9897880,9900631,9899024,9900910]]],[[[9862040,9864916,9864483,9860239,9862040]]],[[[9853996,9854835,9854465,9853537,9853996]]],[[[9856005,9855837,9856407,9856316,9856005]]],[[[9832976,9835380,9835118,9836281,9838412,9834290,9833994,9834520,9831414,9830719,9825032,9830292,9832976]]],[[[9891417,9891324,9891571,9893766,9893519,9894324,9896086,9895343,9897786,9889066,9891417]]],[[[9860986,9860807,9861202,9861326,9860986]]],[[[9811360,9815113,9808267,9800196,9811360]]],[[[9883965,9884336,9883624,9883594,9883810,9888479,9884613,9883933,9884676,9884552,9884026,9883407,9881367,9883190,9882604,9883965]]],[[[9905103,9910773,9906784,9904199,9901065,9904834,9905103]]],[[[9865318,9866617,9868864,9867236,9865318]]],[[[9811400,9811256,9811543,9811456,9811400]]],[[[9887057,9889716,9888447,9887550,9885201,9886191,9886438,9887057]]],[[[9858714,9859872,9857455,9855176,9858714]]],[[[9843364,9843440,9842947,9843085,9843364]]],[[[9845817,9850678,9845993,9846174,9847806,9847484,9839809,9845817]]],[[[9876048,9883007,9881676,9880469,9879789,9874873,9877162,9873667,9876048]]],[[[9808143,9808282,9807742,9808669,9808143]]],[[[9852331,9850692,9849207,9850506,9852331]]],[[[9846482,9845727,9845347,9846929,9846482]]],[[[9867359,9870421,9866742,9866952,9865509,9867359]]],[[[9811119,9812214,9810525,9809040,9811119]]],[[[9889240,9895197,9897992,9904837,9901559,9900662,9898281,9897972,9897075,9894972,9893859,9887354,9889240]]],[[[9876667,9878059,9885109,9886006,9884026,9884458,9884150,9883655,9882511,9876667]]],[[[9814297,9815195,9814512,9813895,9814297]]],[[[9879091,9879683,9885103,9877749,9879091]]],[[[9880624,9879913,9878807,9880527,9880624]]],[[[9869583,9875795,9871606,9866095,9869583]]],[[[9811854,9805855,9801372,9804277,9811854]]],[[[9886591,9896704,9896750,9879789,9886591]]],[[[9877538,9877755,9877822,9877482,9877538]]],[[[9881142,9882416,9882855,9884200,9882727,9881142]]],[[[9896612,9895379,9890957,9895213,9895417,9894788,9896612]]],[[[9799609,9799362,9799176,9799392,9799609]]],[[[9909237,9916117,9911074,9911052,9903882,9909237]]],[[[9866894,9866153,9866339,9866555,9866894]]],[[[9886490,9888669,9888717,9882962,9886490]]],[[[9893025,9892777,9892981,9895256,9890975,9889456,9893025]]],[[[9872931,9872810,9872813,9872965,9872931]]],[[[9896757,9895290,9893106,9892986,9896757]]],[[[9876521,9874482,9873276,9873151,9876521]]],[[[9885556,9886842,9888263,9889201,9879429,9885556]]],[[[9887163,9890261,9892655,9887308,9885827,9887163]]],[[[9877298,9877361,9878076,9877992,9877298]]],[[[9892422,9896296,9898055,9888587,9891877,9890608,9892422]]],[[[9901864,9905755,9899045,9898967,9903344,9904885,9903228,9904373,9906570,9908940,9906425,9908834,9897718,9896462,9900793,9895627,9898497,9901864]]],[[[9907649,9913053,9911689,9910515,9910770,9910640,9910516,9910036,9910334,9909073,9905797,9904975,9907649]]],[[[9873503,9883965,9878274,9872152,9876381,9866712,9873503]]],[[[9890152,9890764,9891097,9891806,9889990,9891392,9885684,9882681,9878398,9874750,9889431,9888294,9890152]]],[[[9794971,9795434,9795744,9795218,9794971]]],[[[9899906,9903158,9900911,9899806,9899906]]],[[[9905737,9918150,9914357,9909630,9901559,9905737]]],[[[9789280,9789157,9788693,9789003,9789280]]],[[[9892066,9894140,9896148,9891942,9892066]]],[[[9892715,9892931,9893457,9893179,9892715]]],[[[9898406,9898219,9897575,9898216,9898406]]],[[[9787842,9787122,9787137,9787585,9787842]]],[[[9786312,9786406,9787022,9785880,9786312]]],[[[9891757,9891695,9891417,9891509,9891757]]],[[[9883098,9886265,9889048,9885612,9885260,9883098]]],[[[9896046,9895448,9896611,9898715,9896086,9894319,9891418,9890025,9896046]]],[[[9900109,9900340,9900043,9899643,9900109]]],[[[9898547,9907280,9903445,9902734,9900693,9900972,9898547]]],[[[9974453,9975634,9972579,9971561,9974453]]],[[[9885052,9883932,9881954,9881636,9885052]]],[[[9872901,9876478,9876081,9870836,9872901]]],[[[9869754,9868017,9867504,9868068,9869754]]],[[[9999497,9999006,9995802,9998395,9999497]]],[[[9806227,9844998,9862760,9893602,9894255,9899158,9903971,9910930,9922715,9950093,9979839,9978435,10003428,10004786,9987659,9989653,9979397,9973934,9980165,9969109,9925410,9917594,9903841,9898010,9913024,9897081,9890510,9885273,9871331,9879309,9844777,9843044,9838866,9835839,9850345,9854884,9847714,9835532,9816463,9808771,9826718,9856539,9874111,9885378,9890525,9908827,9898488,9845565,9840409,9833179,9821800,9811968,9815824,9797643,9834318,9878438,9873887,9882361,9860668,9859064,9885388,9876683,9907186,9890735,9904150,9902699,9900489,9895900,9892839,9889936,9891040,9881429,9881650,9874255,9872999,9873073,9872073,9872064,9871098,9871909,9871627,9870947,9873090,9882671,9882915,9885076,9885451,9887228,9890552,9890303,9891973,9893491,9893663,9893118,9890651,9887397,9902322,9898414,9896500,9894800,9895799,9894923,9893716,9893254,9892417,9892200,9890733,9890087,9892390,9894881,9894706,9896340,9897848,9896802,9898374,9894466,9889736,9893613,9889560,9889840,9890677,9894329,9894375,9891234,9890778,9890548,9890098,9888996,9885918,9885781,9885230,9886375,9887235,9888334,9888462,9888209,9887427,9886891,9886488,9885000,9885787,9888231,9889070,9886241,9884519,9881644,9879336,9884052,9877780,9874256,9870212,9867303,9872360,9872987,9870267,9866348,9867286,9870973,9865053,9863422,9859872,9863282,9862636,9865129,9865945,9866195,9866987,9862526,9863648,9856923,9859627,9858720,9856789,9856289,9854897,9851136,9854198,9854617,9854192,9851073,9853903,9855896,9856597,9857338,9858079,9857855,9850836,9854074,9852022,9849908,9849244,9848831,9848458,9847732,9845755,9847421,9841415,9838944,9841471,9840538,9837736,9840009,9837950,9837612,9837797,9840426,9841351,9838728,9839604,9835620,9837364,9837132,9836110,9835075,9835475,9826142,9824490,9831050,9830134,9826960,9825436,9824943,9824875,9825462,9827500,9824130,9827589,9825691,9826604,9814297,9821038,9818719,9803876,9807804,9801587,9794430,9790147,9783136,9789436,9811205,9817142,9803042,9795218,9792035,9802021,9791765,9763469,9739364,9734662,9715523,9711443,9703947,9695848,9688688,9687289,9653685,9654504,9672682,9658898,9658645,9646605,9642848,9620415,9622273,9631790,9634228,9597094,9578246,9564683,9554829,9562544,9559250,9579408,9578315,9590261,9590341,9607520,9623089,9662260,9662359,9672304,9673725,9699206,9699964,9712396,9718161,9711880,9736344,9740314,9749494,9748746,9762436,9756128,9775525,9771022,9786657,9785651,9776448,9793730,9771431,9780773,9770025,9788318,9799816,9804856,9802183,9785491,9786884,9774954,9779254,9829321,9816784,9822594,9813045,9807985,9815761,9795153,9797991,9806227],[9816503,9817509,9816755,9816503],[9989283,9989208,9990134,9989673,9989283]]]],\"__y__\":[[[[804411,804552,807024,805115,804411]]],[[[808163,781441,753818,795314,808163]]],[[[813704,813601,813263,813526,813704]]],[[[825441,825761,826400,825957,825441]]],[[[825642,826414,827114,826042,825642]]],[[[830966,821340,808540,822811,830966]]],[[[834099,834004,834357,834646,834099]]],[[[834632,834648,834977,834961,834632]]],[[[838588,838871,840037,839378,838588]]],[[[896035,886094,879193,885857,896035]]],[[[896402,892583,885528,891767,896402]]],[[[907387,899081,897804,906714,907387]]],[[[919519,897525,893232,902363,899314,912417,919519]]],[[[923206,919391,918412,921088,923206]]],[[[933454,924498,915467,923941,933454]]],[[[937738,937721,937781,937807,937738]]],[[[937810,937815,937364,937401,937810]]],[[[938118,938089,937960,938229,938118]]],[[[946465,945300,943012,944045,946465]]],[[[958183,946134,941065,948439,958183]]],[[[958905,958729,958632,958880,958905]]],[[[1032976,1021572,1020060,1030525,1032976]]],[[[1220484,1208031,1184082,1176793,1179040,1207504,1220484]]],[[[1225120,1224636,1224158,1224282,1225120]]],[[[1230058,1229163,1229598,1230145,1230058]]],[[[1230160,1230837,1231284,1230671,1230160]]],[[[1248150,1248319,1248465,1248409,1248150]]],[[[1248890,1248317,1248391,1248852,1248890]]],[[[1252881,1252288,1253638,1253504,1252881]]],[[[1264854,1262037,1259610,1263979,1264854]]],[[[1269782,1266360,1267176,1267197,1269782]]],[[[1277225,1276919,1276925,1277132,1277225]]],[[[1277238,1276837,1276504,1277078,1277238]]],[[[1290023,1289397,1289340,1289729,1290023]]],[[[1290017,1274185,1271568,1277602,1290017]]],[[[1292839,1292648,1291331,1292259,1292839]]],[[[1293182,1292004,1290870,1292402,1293182]]],[[[1293653,1293939,1294472,1293890,1293653]]],[[[1295505,1295132,1292423,1295029,1295505]]],[[[1295950,1296272,1296912,1296616,1295950]]],[[[1296912,1296688,1296546,1296832,1296912]]],[[[1293655,1292853,1297703,1295886,1293655]]],[[[1298497,1298319,1298211,1298483,1298497]]],[[[1298883,1297621,1295930,1296873,1298883]]],[[[1299117,1299052,1299005,1299007,1299117]]],[[[1298814,1298475,1290905,1292260,1298814]]],[[[1300609,1298901,1295069,1299723,1300609]]],[[[1307503,1307075,1307168,1307445,1307503]]],[[[1309048,1308572,1308201,1309057,1309048]]],[[[1321786,1320743,1320661,1321580,1321786]]],[[[1327146,1328069,1326938,1324458,1327146]]],[[[1336341,1335043,1334966,1336103,1336341]]],[[[1340046,1340056,1339439,1339763,1340046]]],[[[1340567,1339408,1339075,1340330,1340567]]],[[[1341741,1341874,1342017,1341951,1341741]]],[[[1341986,1340393,1340187,1341355,1341986]]],[[[1343090,1339125,1337500,1342599,1343090]]],[[[1343673,1343116,1343054,1343455,1343673]]],[[[1347762,1347295,1347276,1347685,1347762]]],[[[1350595,1347621,1332564,1345473,1350595]]],[[[1352974,1353110,1353114,1353005,1352974]]],[[[1358116,1357134,1350755,1354682,1358116]]],[[[1357921,1358325,1358816,1358437,1357921]]],[[[1356597,1355335,1358948,1357340,1356597]]],[[[1358690,1358359,1358636,1359130,1358690]]],[[[1361266,1361232,1360898,1361260,1361266]]],[[[1362588,1361680,1360526,1361974,1362588]]],[[[1362870,1362110,1358735,1359695,1362870]]],[[[1362557,1362747,1362938,1362890,1362557]]],[[[1364592,1357128,1354357,1350913,1354316,1357557,1357996,1358810,1362449,1364592]]],[[[1366375,1366071,1364666,1365944,1366259,1366375]]],[[[1366792,1366727,1366891,1367324,1366792]]],[[[1369663,1361922,1355246,1360884,1369663]]],[[[1370347,1370640,1371257,1371163,1370347]]],[[[1371284,1370447,1368032,1370329,1371284]]],[[[1373023,1364412,1365894,1354152,1351000,1350443,1322881,1337998,1336495,1311832,1312480,1306308,1307596,1286316,1328493,1339662,1333968,1330497,1329899,1329653,1329544,1373023]]],[[[1373298,1371862,1366393,1366590,1366260,1367624,1367405,1373298]]],[[[1373746,1373956,1374232,1374051,1373746]]],[[[1374093,1373844,1373473,1373840,1374093]]],[[[1372570,1373403,1374286,1374059,1372570]]],[[[1374760,1372149,1371004,1369607,1374760]]],[[[1375265,1375341,1368979,1371880,1375265]]],[[[1375284,1375165,1375621,1375600,1375284]]],[[[1377146,1376677,1376332,1376459,1377146]]],[[[1377373,1376889,1376984,1377584,1377373]]],[[[1378574,1374798,1373934,1376574,1377880,1378574]]],[[[1379006,1377905,1377740,1378517,1379006]]],[[[1376891,1377232,1379213,1378224,1376891]]],[[[1379006,1379266,1379246,1379110,1379006]]],[[[1379333,1376811,1375967,1378583,1379333]]],[[[1378544,1378708,1379336,1379122,1378544]]],[[[1379629,1379325,1379191,1379533,1379629]]],[[[1379628,1379480,1379554,1379821,1379628]]],[[[1379472,1378859,1371912,1377099,1379472]]],[[[1380801,1377099,1371972,1378487,1380801]]],[[[1380347,1378360,1373619,1368259,1352960,1372033,1374288,1380347]]],[[[1381972,1381686,1381669,1382001,1381972]]],[[[1383485,1383661,1383912,1383690,1383485]]],[[[1384230,1384247,1384547,1384437,1384230]]],[[[1386193,1385492,1384186,1385625,1386193]]],[[[1390372,1390532,1390738,1390644,1390372]]],[[[1392011,1392108,1388322,1390727,1392011]]],[[[1392627,1392253,1392106,1392419,1392627]]],[[[1392727,1392782,1392908,1392850,1392727]]],[[[1393663,1392906,1392907,1393247,1393663]]],[[[1393692,1393689,1394238,1394144,1393692]]],[[[1393560,1393082,1394170,1394201,1393560]]],[[[1394676,1393454,1386535,1391811,1394676]]],[[[1407461,1407184,1405216,1406364,1407461]]],[[[1418453,1418526,1418779,1418668,1418453]]],[[[1429685,1428951,1428549,1429561,1429685]]],[[[1431395,1431468,1431620,1431597,1431395]]],[[[1433861,1433924,1433991,1433909,1433861]]],[[[1434278,1434209,1434039,1434115,1434278]]],[[[1434920,1434938,1435038,1435008,1434920]]],[[[1434771,1433024,1432530,1435501,1434771]]],[[[1436360,1436274,1436628,1436428,1436360]]],[[[1436800,1436886,1437049,1437020,1436800]]],[[[1437221,1437192,1437421,1437393,1437221]]],[[[1440211,1434295,1431071,1427674,1436440,1440211]]],[[[1440588,1440796,1441292,1440945,1440588]]],[[[1443089,1443016,1442900,1443007,1443089]]],[[[1443150,1443286,1443367,1443256,1443150]]],[[[1444229,1440935,1440740,1444298,1444229]]],[[[1444332,1444320,1444483,1444506,1444332]]],[[[1444888,1444765,1443155,1444641,1444888]]],[[[1445831,1445734,1445588,1445880,1445831]]],[[[1447563,1446548,1446296,1447387,1447563]]],[[[1448057,1448136,1448301,1448174,1448057]]],[[[1448464,1447342,1447252,1449887,1448464]]],[[[1449698,1449761,1449923,1449813,1449698]]],[[[1449764,1449888,1450031,1449974,1449764]]],[[[1449753,1448042,1447401,1449627,1449753]]],[[[1450184,1450181,1450357,1450359,1450184]]],[[[1449899,1450252,1450481,1450262,1449899]]],[[[1450883,1450542,1450374,1450856,1450883]]],[[[1450123,1426635,1402326,1391984,1392028,1393601,1395419,1397737,1393134,1395521,1382171,1382106,1379893,1415082,1422631,1422552,1428076,1439957,1438102,1447994,1445518,1445776,1446208,1447539,1447578,1448152,1451444,1450123]]],[[[1451663,1451651,1451524,1451557,1451663]]],[[[1451886,1451315,1450329,1451612,1451886]]],[[[1452073,1451972,1451938,1452017,1452073]]],[[[1452013,1451046,1450216,1452050,1452013]]],[[[1452153,1451578,1451273,1451879,1452153]]],[[[1452627,1452517,1452316,1452642,1452627]]],[[[1453113,1452963,1452715,1453015,1453113]]],[[[1458762,1445378,1434917,1443935,1458762]]],[[[1459398,1452070,1452984,1458466,1459398]]],[[[1459813,1459549,1459596,1459784,1459813]]],[[[1460017,1460200,1460307,1460144,1460017]]],[[[1460532,1460558,1460641,1460630,1460532]]],[[[1462537,1462116,1462623,1462686,1462537]]],[[[1462436,1462601,1459220,1459792,1462436]]],[[[1464344,1464584,1465178,1464971,1464344]]],[[[1465390,1465616,1465826,1465593,1465390]]],[[[1466797,1466351,1467379,1467314,1466797]]],[[[1470110,1470381,1470636,1470527,1470110]]],[[[1470922,1470652,1467840,1470628,1470922]]],[[[1479297,1478969,1478884,1479137,1479297]]],[[[1484962,1485171,1485625,1485613,1484962]]],[[[1492270,1492158,1492210,1492328,1492270]]],[[[1493850,1494376,1494195,1493955,1493850]]],[[[1497035,1496581,1494170,1496784,1497035]]],[[[1498097,1498191,1498288,1498208,1498097]]],[[[1497811,1498144,1498459,1498116,1497811]]],[[[1498512,1498313,1498309,1498456,1498512]]],[[[1498666,1498892,1499059,1498926,1498666]]],[[[1498403,1498719,1499284,1499179,1498403]]],[[[1501431,1501222,1501484,1501633,1501431]]],[[[1501905,1501702,1501828,1501998,1501905]]],[[[1503830,1503523,1503523,1503817,1503830]]],[[[1506831,1506844,1506960,1507014,1506831]]],[[[1507514,1507324,1505868,1507702,1507514]]],[[[1507548,1507262,1506618,1507253,1507548]]],[[[1506986,1508014,1509038,1508140,1506986]]],[[[1509510,1509431,1508922,1509393,1509510]]],[[[1510088,1508470,1507924,1509587,1510088]]],[[[1510402,1510364,1513111,1513318,1510402]]],[[[1517491,1517743,1518424,1518309,1517491]]],[[[1518713,1518401,1517698,1518543,1518713]]],[[[1521137,1520798,1520419,1521000,1521137]]],[[[1521147,1521108,1521530,1521281,1521147]]],[[[1523263,1523584,1523901,1523687,1523263]]],[[[1524503,1524107,1523828,1524298,1524503]]],[[[1525059,1502377,1503424,1498147,1494516,1501771,1499007,1491378,1490856,1480151,1469167,1461240,1469690,1468863,1464866,1456501,1457696,1452851,1448692,1449297,1447181,1446422,1445628,1446848,1447421,1449912,1461271,1461976,1505416,1520790,1525059]]],[[[1528419,1527918,1525458,1527809,1528419]]],[[[1534558,1534059,1530787,1532668,1534558]]],[[[1536964,1532222,1531478,1534659,1536964]]],[[[2016804,2016882,2046186,2036490,2054322,2061422,2074395,2075637,2086502,2101386,2065340,2090020,2080259,2082550,2110500,2139042,2154637,2149477,2164057,2156515,2173950,2146292,2156892,2134597,2125963,2131549,2145840,2157607,2162149,2170552,2173774,2164359,2097521,2101082,2078632,2079525,2072810,2039818,2004119,1995227,1989734,1955193,1924270,1908126,1899707,1918902,1906799,1871965,1876680,1869452,1869059,1861209,1869791,1860886,1839810,1849964,1846475,1840000,1801800,1805316,1804941,1800342,1787266,1777238,1782374,1782403,1777010,1773441,1784124,1773570,1770774,1790849,1788182,1767934,1752092,1755355,1753650,1746323,1711717,1713312,1667741,1641974,1635597,1638993,1602047,1549949,1513247,1521778,1516630,1499628,1492301,1486748,1483476,1493395,1489198,1496692,1497193,1482546,1472179,1476568,1461912,1469768,1463150,1470845,1467377,1458537,1451714,1425070,1430661,1416661,1423848,1443446,1452312,1444153,1453221,1490859,1497434,1526944,1524411,1534967,1533420,1558405,1562190,1554525,1569156,1563367,1567659,1544486,1549408,1537913,1556150,1558930,1565524,1557722,1546883,1545461,1566436,1593164,1594760,1581065,1574022,1577861,1561270,1571462,1577648,1586890,1589277,1594777,1606215,1612782,1596917,1612985,1613289,1598993,1602043,1619704,1629824,1628676,1643343,1682612,1686310,1698000,1689833,1708425,1719687,1746391,1747447,1762897,1765823,1788223,1800357,1789764,1794055,1785411,1797208,1809034,1814805,1816920,1808240,1823653,1817706,1828947,1833319,1870614,1890201,1880087,1900016,1910879,1926907,1899780,1904272,1894212,1913222,1918304,1930579,1923711,1937798,1928174,1924790,1945216,1948903,1959337,1966234,1991444,1995003,2008058,2007002,2016804],[1891449,1886036,1889886,1892227,1891449],[1497539,1497044,1496653,1497539]]],[[[1843411,1836974,1837084,1841391,1843411]]],[[[3424201,3405236,3407939,3397016,3385127,3363209,3385248,3374375,3346867,3300533,3291759,3301221,3307072,3287996,3294747,3273193,3257601,3250854,3234723,3236433,3200139,3180236,3141551,3134960,3147213,3155227,3166664,3169039,3159171,3151460,3129989,3125116,3108507,3101534,3084772,3083529,3128115,3139650,3156307,3155490,3169041,3177127,3176513,3191959,3214393,3244284,3243028,3228475,3232163,3216439,3192876,3203386,3188615,3142059,3131690,3115442,3112810,3128074,3118499,3110058,3143640,3156707,3159318,3183435,3183870,3196591,3218443,3231115,3225025,3213026,3231123,3220941,3226309,3247522,3256790,3264750,3290998,3304466,3329851,3338339,3333804,3386278,3404483,3404733,3420033,3396482,3392106,3397526,3379718,3391764,3402675,3420854,3434502,3424201]]],[[[3036734,3036732,3037205,3037650,3036734]]],[[[3242285,3214393,3191959,3176513,3177127,3168620,3155490,3156013,3139650,3113455,3114981,3094627,3081397,3055942,3067897,3020012,2988572,2975578,2994363,2942622,2928761,2913299,2877616,2852150,2851984,2803192,2799166,2816676,2769617,2784032,2783612,2800594,2863951,2859530,2873314,2888753,2902375,2916319,2932991,2948364,2944457,2968347,2958287,2975703,2987360,2992043,2994876,3002450,3008669,2998854,3013643,2987231,3003058,2983027,2985303,2983226,2979036,2964779,2981545,2977016,2985152,2992527,2987678,2992948,2986528,2994067,2986208,3000943,2994277,2967435,2950671,2943386,2934400,2976444,2991902,3022518,3036990,3046768,3090636,3092131,3105180,3111192,3094473,3100909,3095883,3102852,3099026,3112608,3104349,3118499,3128074,3112810,3118905,3188615,3203386,3192876,3216439,3232163,3228475,3243028,3242285],[3060353,3060069,3060628,3060353],[3039379,3040906,3042367,3041311,3039379]]],[[[2785516,2786204,2787923,2786159,2785516]]],[[[3187618,3171600,3165577,3151400,3129303,3118825,3105131,3107110,3093320,3091200,3107524,3100587,3079856,3069647,3081855,3072318,3075643,3051744,3071899,3055185,3042284,3053639,3046351,3059418,3042844,3065245,3067588,3059950,3040691,3017911,3009595,3004590,2989273,2980747,2970616,2960840,2934931,2941794,2930508,2900313,2918650,2912098,2899739,2903227,2886782,2878802,2827639,2832045,2819307,2829217,2821982,2827411,2798513,2809906,2824831,2827197,2848733,2842920,2853992,2837380,2824523,2817741,2799709,2807117,2798831,2818043,2801448,2799302,2788413,2808385,2822457,2812103,2831238,2818370,2817622,2829744,2849072,2877643,2899949,2929272,2964250,2957005,2967259,2959038,2965284,2983731,2997765,3011149,3027796,3029059,3045172,3054617,3063048,3066222,3078586,3076668,3092355,3090638,3105957,3109588,3135027,3134707,3145809,3155518,3162656,3163440,3179301,3178075,3187618]]],[[[3601614,3589377,3599415,3606195,3601614]]],[[[2765458,2756781,2736680,2731554,2704708,2700301,2708712,2678267,2672076,2648901,2642034,2627822,2635054,2629197,2617227,2592261,2580278,2555994,2535379,2523808,2519678,2515898,2493085,2485787,2472893,2466987,2465445,2451437,2433882,2437042,2408474,2410065,2371287,2378409,2339203,2324017,2280646,2272484,2255743,2246572,2257813,2262129,2253496,2273350,2274736,2285632,2278989,2262656,2247923,2214729,2204831,2170559,2145183,2121875,2114603,2103921,2078849,2068719,2015459,2021158,2013389,2057991,2053825,2065684,2058369,2067509,2086137,2111616,2107076,2126299,2133796,2153914,2183549,2202627,2191587,2189206,2197955,2205698,2210307,2221734,2227558,2236993,2251979,2249041,2257818,2265340,2265165,2281114,2289772,2290362,2301929,2312856,2344910,2346463,2354379,2384133,2383435,2393125,2412128,2427563,2476976,2481252,2506319,2525234,2519917,2526087,2546863,2564500,2574536,2564558,2576337,2587536,2591353,2616661,2626768,2641348,2649098,2671320,2681921,2696335,2700601,2693246,2703157,2719277,2741827,2730279,2737727,2727003,2748669,2737836,2739926,2765458],[2532684,2532655,2533234,2532684]]],[[[2287507,2279324,2281095,2306131,2315837,2307417,2292445,2297780,2287507]]],[[[2325868,2317169,2317409,2329334,2325868]]],[[[2360853,2360853,2360855,2360853]]],[[[2360670,2360456,2357812,2357316,2360670]]],[[[2360886,2358770,2359200,2361693,2360886]]],[[[2364689,2363433,2362936,2363780,2364689]]],[[[3359033,3357533,3348938,3338839,3312597,3300506,3314056,3312654,3318735,3328953,3352193,3359033]]],[[[1660801,1660638,1661479,1661530,1660801]]],[[[1779407,1759744,1764967,1723266,1719191,1710712,1694093,1679006,1679420,1687711,1698956,1705843,1709551,1730086,1736265,1736400,1742459,1747481,1746266,1762230,1773241,1779407]]],[[[2391828,2391298,2391498,2391796,2391828]]],[[[2391828,2391609,2391564,2391730,2391828]]],[[[2400972,2400674,2399647,2399979,2400972]]],[[[2403657,2403392,2403260,2403425,2403657]]],[[[2405613,2404320,2403458,2404386,2405613]]],[[[2406474,2405546,2405281,2405812,2406474]]],[[[2410453,2408662,2406043,2402596,2410453]]],[[[2424617,2424152,2423554,2424185,2424617]]],[[[2432383,2432018,2432018,2432449,2432383]]],[[[2435504,2435138,2434873,2435372,2435504]]],[[[2438094,2436998,2435736,2437331,2438094]]],[[[2441714,2440020,2439124,2440253,2441714]]],[[[2441748,2441216,2441050,2441748,2441748]]],[[[2445236,2444438,2444372,2444804,2445236]]],[[[2447030,2446949,2447030,2447030]]],[[[2448088,2448126,2448126,2448088]]],[[[2453343,2453377,2453409,2453368,2453343]]],[[[2454075,2454069,2454075,2454075]]],[[[2454143,2454122,2454143,2454143]]],[[[2454861,2454853,2454872,2454872,2454861]]],[[[2455471,2455471,2455497,2455471]]],[[[2456469,2456468,2456492,2456486,2456469]]],[[[2465180,2463285,2461156,2463849,2465180]]],[[[2467043,2466710,2466677,2466843,2467043]]],[[[2467010,2466045,2465845,2466344,2467010]]],[[[2467409,2467143,2467110,2467309,2467409]]],[[[2468174,2467908,2467808,2467941,2468174]]],[[[2468241,2467176,2467841,2466777,2465646,2467176,2468241]]],[[[2468307,2468172,2468241,2468307,2468307]]],[[[2468507,2468507,2468340,2468008,2468507]]],[[[2468840,2468819,2468840,2468840]]],[[[2469305,2469110,2468846,2469273,2469305]]],[[[2469738,2469736,2469738,2469738]]],[[[2470603,2470589,2470603,2470603]]],[[[2470670,2470645,2470670,2470670]]],[[[2470703,2470670,2470703,2470703]]],[[[2470736,2470717,2470736,2470736]]],[[[2471467,2470603,2469904,2468907,2471467]]],[[[2480420,2480420,2480421,2480420]]],[[[2480720,2480720,2480751,2480720]]],[[[2480753,2480753,2480816,2480802,2480753]]],[[[2481081,2480821,2480953,2481081]]],[[[2481486,2479688,2476426,2479921,2481486]]],[[[2482336,2481814,2481685,2482052,2482336]]],[[[2482299,2481777,2481415,2482085,2482299]]],[[[2482467,2482352,2482385,2482467]]],[[[2482517,2482517,2482531,2482517]]],[[[2482584,2482584,2482599,2482584]]],[[[2482619,2482652,2482733,2482619]]],[[[2483887,2483916,2483916,2483887]]],[[[2484349,2484349,2484393,2484349]]],[[[2484416,2484416,2484462,2484420,2484416]]],[[[2484515,2484515,2484531,2484515]]],[[[2487246,2487243,2487246,2487246]]],[[[2487612,2487569,2487612,2487612]]],[[[2487912,2487883,2487912,2487912]]],[[[2487946,2487942,2487946,2487946]]],[[[2488145,2488135,2488145,2488145]]],[[[2488179,2488171,2488179,2488179]]],[[[2489081,2488463,2488264,2489178,2489081]]],[[[2489211,2489206,2489211,2489211]]],[[[2504673,2503040,2502473,2503006,2504673]]],[[[2512176,2511842,2511675,2511975,2512176]]],[[[2532766,2532747,2532766,2532766]]],[[[2533166,2533155,2533166,2533166]]],[[[2533260,2533244,2533267,2533260]]],[[[2533600,2533598,2533600,2533600]]],[[[2533768,2533742,2533768,2533768]]],[[[2533801,2533795,2533801,2533801]]],[[[2533868,2533850,2533868,2533868]]],[[[2533968,2533956,2533968,2533968]]],[[[2534068,2534058,2534068,2534068]]],[[[2534135,2534128,2534135,2534135]]],[[[2534602,2534580,2534602,2534602]]],[[[2534669,2534660,2534669,2534669]]],[[[2536539,2535938,2535838,2536206,2536539]]],[[[2537441,2537175,2536806,2536773,2537441]]],[[[2539779,2538443,2536005,2537241,2539779]]],[[[2548334,2548066,2547966,2548133,2548334]]],[[[2554551,2553849,2554117,2554418,2554551]]],[[[2555722,2555655,2555289,2555622,2555722]]],[[[2556558,2555722,2555922,2556123,2556558]]],[[[2557795,2557695,2557494,2557695,2557795]]],[[[2557962,2557795,2557695,2558063,2558130,2557962]]],[[[2558297,2557327,2556324,2557494,2558297]]],[[[2559467,2558765,2558130,2558430,2559467]]],[[[2561776,2561541,2561475,2561742,2561776]]],[[[2562043,2561808,2561909,2562009,2562043]]],[[[2566559,2566158,2565991,2566191,2566559]]],[[[2566783,2563013,2560404,2564083,2566783]]],[[[2568534,2567998,2565823,2566693,2568534]]],[[[2568968,2567228,2562142,2567028,2568968]]],[[[2570541,2570073,2569872,2570240,2570541]]],[[[2574960,2574861,2573152,2572549,2574960]]],[[[2575562,2575462,2575328,2575328,2575562]]],[[[2575596,2574926,2574591,2575060,2575596]]],[[[2575997,2575763,2575596,2575997,2575997]]],[[[2576935,2576701,2575997,2576801,2576935]]],[[[2577839,2576098,2576300,2577739,2577839]]],[[[2578073,2573821,2573085,2574926,2578073]]],[[[2578073,2577437,2577638,2577873,2578073]]],[[[2578140,2577571,2577538,2577973,2578140]]],[[[2578709,2578308,2578174,2578643,2578709]]],[[[2579848,2579681,2579413,2579446,2579848]]],[[[2580384,2580082,2579781,2580116,2580384]]],[[[2581757,2581623,2581422,2581489,2581757]]],[[[2582890,2579848,2577638,2581054,2582890]]],[[[2583699,2583498,2583431,2583666,2583699]]],[[[2584470,2584168,2583599,2583163,2584470]]],[[[2589361,2588959,2588557,2588791,2589361]]],[[[2593918,2593751,2593616,2593650,2593918]]],[[[2593918,2593885,2593650,2593616,2593918]]],[[[2594789,2594354,2594187,2594522,2594789]]],[[[2598209,2597538,2597203,2597270,2598209]]],[[[2603607,2602198,2601896,2603171,2603607]]],[[[2605418,2605283,2604914,2605183,2605418]]],[[[2614198,2614140,2614140,2614198]]],[[[2614397,2614375,2614375,2614397]]],[[[2614475,2614475,2614488,2614475]]],[[[2631498,2630321,2629449,2630053,2631498]]],[[[2638016,2636302,2634756,2637646,2638016]]],[[[2638318,2633681,2630791,2634354,2638318]]],[[[2638419,2638116,2638083,2638351,2638419]]],[[[2638990,2638083,2637242,2638385,2638990]]],[[[2639360,2639024,2639057,2639193,2639360]]],[[[2639427,2639125,2638757,2639024,2639427]]],[[[2639931,2635227,2635058,2638049,2639931]]],[[[2660008,2659571,2658797,2659335,2660008]]],[[[2663744,2663574,2663508,2663440,2663744]]],[[[2664854,2664551,2664450,2664551,2664854]]],[[[2667144,2667009,2666571,2666706,2667144]]],[[[2670005,2667918,2661691,2664854,2670005]]],[[[2670039,2669231,2669298,2670005,2670039]]],[[[2670477,2670039,2669803,2669938,2670477]]],[[[2670578,2670546,2670208,2670308,2670578]]],[[[2670645,2670376,2668255,2668591,2670645]]],[[[2670914,2670780,2670611,2670712,2670914]]],[[[2670982,2670241,2669736,2669803,2670982]]],[[[2671487,2671352,2670948,2671285,2671487]]],[[[2673373,2673002,2672834,2673104,2673373]]],[[[2673373,2673103,2673036,2673238,2673373]]],[[[2673407,2673407,2673069,2673171,2673407]]],[[[2673474,2672834,2670577,2671217,2673474]]],[[[2673676,2673474,2673103,2673507,2673676]]],[[[2673743,2673508,2673441,2673743,2673743]]],[[[2674619,2673845,2673474,2674248,2674619]]],[[[2675226,2675057,2674821,2675124,2675226]]],[[[2675663,2675495,2674686,2675461,2675663]]],[[[2675730,2675528,2675562,2675697,2675730]]],[[[2677348,2674889,2671689,2674686,2677348]]],[[[2677752,2677482,2677415,2677684,2677752]]],[[[2678459,2678156,2678021,2677718,2677852,2678459]]],[[[2678493,2678191,2678155,2678560,2678493]]],[[[2678695,2678055,2677549,2678526,2678695]]],[[[2678695,2678392,2677953,2678123,2678695]]],[[[2678964,2678594,2677718,2676977,2678425,2678964]]],[[[2680953,2680918,2680784,2680716,2680953]]],[[[2681019,2680750,2677549,2675663,2681019]]],[[[2681087,2680918,2680884,2680750,2681087]]],[[[2681019,2680346,2678796,2679739,2681019]]],[[[2681155,2680986,2680817,2681019,2681155]]],[[[2681323,2681155,2681053,2681188,2681323]]],[[[2681559,2681290,2681087,2681222,2681559]]],[[[2681593,2681424,2681155,2681222,2681593]]],[[[2681593,2681087,2680986,2681188,2681593]]],[[[2681660,2681087,2680547,2680918,2681660]]],[[[2681997,2681795,2681828,2681929,2681997]]],[[[2682131,2681727,2681122,2682266,2682131]]],[[[2683008,2682704,2682401,2682772,2683008]]],[[[2683277,2682974,2682940,2683244,2683277]]],[[[2683917,2683275,2683109,2683749,2683917]]],[[[2684355,2684120,2684120,2684255,2684355]]],[[[2684457,2684086,2684153,2684423,2684457]]],[[[2684861,2684760,2684659,2684861,2684861]]],[[[2685771,2685704,2685198,2685603,2685771]]],[[[2686952,2686479,2685805,2686344,2686952]]],[[[2687323,2686412,2685569,2685097,2684019,2687323]]],[[[2687491,2686850,2686782,2687153,2687491]]],[[[2689682,2687524,2687153,2689446,2689682]]],[[[2690221,2687254,2680817,2687726,2682907,2684355,2690221]]],[[[2691266,2689917,2689378,2690828,2691266]]],[[[2691670,2691636,2691435,2691435,2691670]]],[[[2691670,2691468,2691706,2691706,2691670]]],[[[2692042,2691839,2690962,2691266,2692042]]],[[[2692345,2690221,2690120,2691064,2692345]]],[[[2692649,2692514,2692411,2692513,2692649]]],[[[2692750,2690895,2689918,2691873,2692750]]],[[[2695515,2694874,2694469,2694874,2695515]]],[[[2696089,2695278,2695109,2695582,2696089]]],[[[2697100,2696594,2696291,2696357,2697100]]],[[[2698719,2698516,2698314,2698516,2698719]]],[[[2699259,2697302,2696088,2697775,2699259]]],[[[2703071,2702970,2702835,2702801,2703071]]],[[[2703543,2702564,2703172,2703408,2703543]]],[[[2703673,2703172,2703071,2703172,2703673]]],[[[2704353,2700034,2697471,2693526,2699528,2700034,2704353]]],[[[2704792,2703746,2701485,2702092,2704792]]],[[[2705535,2705129,2704521,2705062,2705535]]],[[[2707761,2704860,2705096,2703105,2707761]]],[[[2708133,2705264,2705635,2705535,2703847,2708133]]],[[[2719612,2719308,2718666,2719444,2719612]]],[[[2720826,2720592,2720761,2720862,2720826]]],[[[2721740,2720828,2720423,2719917,2721740]]],[[[2722484,2721674,2721267,2721640,2722484]]],[[[2726539,2724680,2723666,2723970,2726539]]],[[[2729073,2726639,2726268,2727754,2729073]]],[[[2729681,2727214,2728430,2711340,2702700,2708471,2704320,2710530,2709652,2709584,2710192,2710698,2710495,2710833,2711070,2710325,2709955,2718228,2729681]]],[[[2730222,2729478,2728532,2729478,2730222]]],[[[2730594,2730289,2730289,2730526,2730594]]],[[[2731945,2721065,2717046,2725693,2729512,2731100,2731945]]],[[[2732790,2723531,2721674,2729850,2732790]]],[[[2735292,2735123,2734988,2735191,2735292]]],[[[2735530,2735326,2735056,2735326,2735530]]],[[[2738031,2736949,2736171,2737693,2738031]]],[[[2738572,2730324,2728227,2732959,2733602,2733703,2727890,2730391,2727518,2738572]]],[[[2738843,2734278,2734852,2737186,2738843]]],[[[2745912,2737626,2740601,2737862,2738843,2738369,2734650,2741311,2745912]]],[[[2746826,2743274,2737930,2738336,2735935,2746826]]],[[[2747259,2746758,2747232,2747265,2747259]]],[[[2749444,2744187,2735394,2738775,2745100,2748213,2749444]]],[[[2750362,2749025,2741718,2731371,2732047,2731168,2729580,2728194,2714580,2733264,2733433,2735598,2732080,2733839,2738843,2739587,2750362]]],[[[2448088,2449056,2453145,2453509,2454143,2455969,2456602,2457599,2454741,2465580,2469772,2468207,2468972,2471701,2473165,2506024,2497062,2529527,2537175,2532332,2541083,2538410,2540748,2544290,2545460,2539278,2545293,2535237,2541350,2540214,2547732,2548835,2554618,2557828,2549103,2538844,2544123,2526522,2529127,2533233,2535838,2533233,2528892,2527156,2503372,2517479,2519147,2524587,2524187,2521183,2517980,2513643,2516512,2506273,2509541,2499206,2480387,2486447,2490510,2490810,2490910,2490810,2490377,2466976,2426176,2415327,2385702,2376235,2360159,2362573,2354969,2388616,2447295,2504839,2549036,2569270,2559100,2562478,2549136,2542519,2552145,2563916,2549872,2568500,2559601,2576868,2577873,2591271,2594924,2595997,2596567,2599818,2641108,2639596,2635732,2623606,2631169,2625083,2633539,2622900,2613964,2610215,2607095,2603305,2600757,2599147,2607296,2612496,2650152,2660210,2661119,2658460,2657821,2667750,2668389,2669534,2688401,2691266,2693323,2692716,2694436,2698448,2698348,2702059,2705669,2708673,2738168,2735157,2724071,2730898,2732081,2743341,2749421,2749432,2789319,2792062,2779253,2790266,2780628,2788947,2774361,2774126,2789344,2804877,2784173,2781318,2796422,2803137,2808142,2820277,2837296,2828260,2836292,2835755,2827601,2836292,2830338,2839980,2828750,2829125,2824514,2815155,2803265,2815440,2809318,2797575,2793247,2812305,2813393,2801531,2797848,2775942,2765320,2754647,2768932,2744898,2727429,2717167,2706651,2707359,2686663,2685939,2672634,2677988,2667384,2653419,2654539,2623659,2621274,2588117,2588878,2573538,2576530,2561908,2568771,2558715,2550000,2554627,2537985,2521717,2513187,2506610,2490183,2471473,2466434,2450961,2458551,2459458,2453772,2446991,2449274,2439777,2427253,2423676,2412273,2411826,2401873,2389751,2361068,2355315,2346031,2339702,2357345,2349280,2337098,2319293,2297462,2297594,2287363,2297780,2292445,2307417,2315837,2306131,2298086,2299870,2290253,2289244,2312727,2321704,2379933,2385622,2383609,2408961,2410685,2410652,2408895,2401204,2402829,2418943,2426641,2447362,2448088],[2370989,2370969,2371023,2370989],[2559161,2561443,2561866,2561188,2559161],[2577332,2577533,2577210,2577332]]],[[[3616541,3618914,3598787,3591834,3576121,3564863,3556880,3562879,3554930,3560753,3550674,3516693,3509143,3473513,3388457,3362773,3352193,3328953,3321970,3312654,3314056,3299885,3312867,3300497,3283284,3280368,3275012,3271177,3259106,3241864,3221298,3225622,3215347,3215769,3205139,3210456,3266472,3276667,3244634,3253281,3254624,3267884,3271437,3264580,3261129,3252116,3255873,3248273,3228346,3231381,3240000,3257751,3260234,3267999,3295044,3299970,3326243,3365862,3376620,3377364,3393451,3408668,3404979,3426971,3417355,3432877,3442780,3447454,3471726,3470631,3476220,3486222,3497277,3491210,3502468,3484914,3492429,3478491,3475184,3482584,3471449,3460005,3445053,3478556,3470154,3480734,3470658,3470845,3486245,3493922,3516538,3523544,3516994,3529098,3516004,3513682,3527378,3537149,3545894,3557191,3558913,3549155,3553566,3580344,3588242,3605336,3618442,3623234,3616541],[3502366,3501311,3502182,3502366],[3441485,3441314,3442848,3441485]]],[[[3929186,3899593,3892474,3883647,3871121,3879822,3876654,3891228,3863898,3840116,3863284,3844928,3829693,3829336,3817859,3795178,3791502,3778781,3762699,3735612,3712279,3699624,3647053,3646014,3658739,3658592,3669952,3652256,3640216,3626110,3626900,3613775,3616719,3602130,3571625,3552441,3573653,3591834,3598787,3618914,3615476,3632866,3660335,3668794,3669173,3689872,3673943,3672343,3756582,3774005,3784905,3794138,3819131,3830134,3849483,3886057,3880089,3895950,3899604,3920077,3919031,3929186]]],[[[4441990,4442215,4426024,4446423,4412760,4405928,4379800,4366078,4348583,4350253,4324461,4325973,4307208,4294215,4279287,4261849,4236416,4236495,4226781,4228692,4235395,4226005,4246675,4237354,4255193,4251970,4262429,4271121,4268164,4281015,4285852,4278108,4297702,4299972,4286393,4273412,4270807,4278319,4256805,4246736,4227889,4125187,4113386,4094120,4092665,4061672,4031143,4038590,4025607,3977474,3978943,3939658,3929672,3900107,3896905,3860757,3833416,3841369,3826081,3813852,3807739,3821036,3855261,3825461,3838888,3844928,3863284,3840116,3863898,3891228,3876654,3879822,3871121,3883647,3892474,3899593,3929186,3919031,3920077,3899604,3895950,3880089,3886057,3848084,3799533,3808078,3807728,3828158,3821276,3826746,3842676,3873433,3861753,3863359,3893572,3890757,3904155,3907244,3922955,3944311,3966335,3978087,4013283,4067893,4079557,4106170,4105364,4134993,4147264,4179193,4196880,4194635,4212690,4235548,4240794,4249795,4262049,4283879,4279388,4285133,4277649,4282896,4290518,4304384,4310898,4325577,4337042,4335089,4352132,4361795,4363840,4384897,4397334,4403639,4397270,4404275,4416053,4426865,4412157,4437717,4431943,4445423,4449930,4441990]]],[[[2914499,2906081,2887043,2863142,2847148,2841713,2826083,2824600,2803197,2783169,2771871,2772577,2764001,2767649,2751356,2758631,2741275,2732470,2737426,2728684,2738998,2731039,2733089,2715596,2708570,2683155,2702999,2692058,2686873,2655901,2647976,2649686,2631359,2630816,2623105,2605386,2592967,2581215,2580814,2566165,2559601,2542306,2537002,2552965,2548227,2579720,2566767,2548768,2541223,2534242,2508019,2510778,2525302,2517854,2531008,2512007,2523889,2522108,2546821,2569406,2552375,2574417,2588350,2592261,2624814,2635054,2627822,2642034,2648901,2672076,2678267,2708712,2700301,2704708,2731554,2736680,2756781,2765662,2791659,2797793,2814765,2818370,2831238,2812103,2822110,2808385,2788413,2799302,2801448,2818043,2798831,2807117,2799709,2817741,2824523,2837380,2853992,2842920,2848733,2827197,2824831,2809906,2798513,2827411,2821982,2829217,2819307,2832045,2827639,2883678,2886782,2903227,2899551,2913332,2914499],[2785745,2786159,2787986,2787183,2785745]]],[[[1497210,1497097,1497662,1497600,1497210]]],[[[1498203,1498091,1498655,1498593,1498203]]],[[[1499197,1499085,1499650,1499587,1499197]]],[[[1502762,1502980,1503834,1503438,1502762]]],[[[1532910,1532952,1533257,1533324,1532910]]],[[[1534417,1534534,1536012,1535324,1534417]]],[[[1575466,1575527,1575917,1575989,1575466]]],[[[1575956,1576148,1576781,1576242,1575956]]],[[[1576945,1576919,1577550,1577640,1576945]]],[[[1583958,1583995,1584563,1584431,1583958]]],[[[1605895,1605897,1604672,1605449,1605895]]],[[[1609948,1610140,1610695,1610735,1609948]]],[[[1627191,1627380,1628997,1628384,1627191]]],[[[1664971,1665059,1665718,1665591,1664971]]],[[[1667970,1667557,1667893,1668468,1667970]]],[[[1669801,1669390,1669725,1670301,1669801]]],[[[1670586,1670853,1671269,1671366,1670586]]],[[[1674471,1674059,1674394,1674969,1674471]]],[[[1674348,1674244,1674517,1674994,1674348]]],[[[1781406,1780784,1784684,1785136,1781406]]],[[[2088749,2083260,2073856,2070338,2044094,2034240,1988930,1979293,1970963,1964541,1964341,1946782,1940013,1922086,1882059,1872946,1861323,1859444,1838877,1834194,1796135,1799458,1785760,1765823,1762897,1747447,1746391,1719687,1708425,1689833,1698000,1686310,1682612,1643343,1628676,1629824,1619704,1602043,1599430,1613721,1612985,1597023,1612288,1604927,1592360,1589277,1586890,1577648,1571462,1561345,1577861,1574022,1581065,1594760,1593164,1566436,1545342,1546883,1557722,1565524,1558930,1556150,1538126,1549408,1544486,1567659,1563367,1569156,1554525,1562190,1556957,1533420,1534967,1524411,1526944,1497434,1490859,1453221,1448670,1444153,1452672,1432626,1444666,1422406,1421638,1393265,1369748,1365836,1358823,1339929,1339053,1318378,1324220,1319714,1313997,1324225,1321956,1298216,1302199,1312176,1308351,1318438,1315841,1330944,1329496,1343084,1340189,1354460,1356710,1378893,1392627,1402854,1398208,1407752,1412926,1410340,1423294,1421425,1436291,1432129,1500616,1511637,1507245,1503983,1512164,1512677,1531910,1532778,1541403,1532824,1558035,1573006,1604775,1601738,1606471,1632857,1626004,1628379,1638446,1633971,1642215,1642260,1645972,1644124,1659198,1665895,1674372,1670585,1677215,1685658,1710712,1719191,1723266,1764967,1766885,1780159,1778775,1787837,1787903,1809650,1811084,1816716,1831711,1836562,1850634,1862294,1868055,1866129,1881554,1868926,1875021,1887879,1894247,1914125,1915023,1902440,1915746,1914377,1921931,1916411,1951454,1965602,1976630,1964122,1969632,1958774,1963710,1955661,1964692,1957380,1990370,1998061,2009529,2002913,2010638,2000331,2017447,2025799,2027813,2059367,2055615,2085599,2088749]]],[[[2093425,2091256,2090636,2093205,2093425]]],[[[1436009,1421425,1423294,1410340,1412926,1409308,1398404,1402854,1392627,1378893,1363474,1354807,1339631,1343084,1328573,1318438,1304828,1296934,1285034,1272834,1253365,1256686,1249373,1237814,1236542,1224374,1207057,1191036,1190669,1153190,1143435,1158400,1143363,1130359,1115818,1075368,1074186,1063079,1008301,991751,977381,955441,949873,929490,926227,936239,994543,1251168,1312395,1329149,1342675,1346170,1432129,1436009],[1315572,1313657,1318327,1317918,1315572]]],[[[1255284,1260496,1271101,1265894,1255284]]],[[[1326989,1331181,1346107,1344175,1326989]]],[[[1120167,1125017,1134612,1127794,1120167]]],[[[1287874,1293757,1300985,1298893,1287874]]],[[[1253933,1245874,1254107,1257299,1253933]]],[[[1378196,1390061,1391624,1388287,1378196]]],[[[930457,925191,923833,927484,930457]]],[[[1124923,1130406,1136420,1134493,1124923]]],[[[1184262,1182428,1179867,1184319,1184262]]],[[[1211346,1211300,1210735,1209611,1211346]]],[[[1210423,1210765,1218254,1216928,1210423]]],[[[1261498,1256396,1252608,1259376,1261498]]],[[[1285108,1286348,1288566,1287475,1285108]]],[[[1311042,1309224,1309731,1311621,1311042]]],[[[1244757,1246408,1247450,1246244,1244757]]],[[[1225879,1224778,1224675,1225916,1225879]]],[[[1226332,1225736,1225508,1226222,1226332]]],[[[1207133,1207148,1207519,1207334,1207133]]],[[[1226522,1226324,1226474,1226624,1226522]]],[[[1226955,1226999,1227334,1227149,1226955]]],[[[1226848,1226619,1226737,1226892,1226848]]],[[[2558484,2561188,2561866,2561443,2558484]]],[[[2882654,2883932,2884818,2883742,2882654]]],[[[3106365,3092506,3097806,3080674,3083401,3069647,3054973,3053577,3043375,3041175,3027266,3028520,3017604,3015640,3008536,2973570,2977390,2967377,2952005,2944509,2921211,2890951,2886035,2875081,2857602,2834329,2816672,2786282,2800938,2782766,2784414,2774872,2796039,2830996,2826741,2852455,2870835,2906916,2910611,2929740,2919201,2925886,2928073,2928492,2936722,2928323,2944139,2942990,2930109,2921376,2922807,2912405,2903303,2917488,2917898,2895069,2899224,2909188,2892741,2898807,2888897,2895058,2889935,2905652,2901488,2908685,2909507,2916938,2907778,2911339,2908396,2889106,2891688,2885339,2896990,2887108,2904709,2927934,2896628,2882602,2875665,2885318,2880353,2879006,2875756,2873609,2876070,2887748,2884117,2888649,2894319,2881911,2882843,2892103,2888817,2899302,2868460,2869440,2862065,2870214,2867277,2895912,2884533,2892169,2899381,2882801,2876554,2854610,2853887,2843481,2847918,2828095,2826161,2839304,2832795,2838735,2826437,2820681,2821106,2788897,2770187,2769670,2762746,2748776,2733671,2727101,2737727,2729998,2744099,2739643,2719277,2703157,2693246,2700601,2696335,2681921,2671320,2649098,2641348,2626768,2616661,2591353,2587536,2576337,2564558,2574536,2564500,2546863,2526087,2519917,2525234,2506319,2481252,2476976,2448312,2432220,2436862,2454111,2465954,2454479,2463789,2456797,2472324,2478259,2469509,2462490,2449946,2451617,2465588,2437861,2435160,2441910,2436738,2455291,2456462,2475388,2483815,2482766,2462978,2447310,2431612,2414613,2415227,2400855,2401721,2436244,2440680,2466932,2473167,2514471,2503604,2505812,2513187,2521717,2537985,2554627,2550000,2558715,2568771,2561908,2576530,2573538,2588878,2588117,2614650,2623659,2639332,2657358,2671515,2687584,2708058,2737673,2756633,2784938,2787520,2810069,2815426,2835084,2850279,2833074,2847452,2849905,2871353,2858040,2861686,2880887,2880534,2861744,2858564,2852376,2864246,2841242,2842088,2808582,2804044,2810923,2802382,2782973,2769949,2762120,2749172,2757030,2751967,2758894,2743311,2728653,2723807,2741258,2735146,2744755,2756012,2764520,2793336,2779334,2781100,2772811,2787637,2773778,2768854,2778021,2794186,2818096,2819218,2809103,2822436,2839696,2844539,2853050,2859547,2876415,2889106,2889045,2925916,2927229,2913419,2913532,2929582,2963607,2982886,2992623,3010580,3067254,3080620,3083212,3097878,3106365],[2667060,2665735,2666753,2667060],[2876246,2876260,2875762,2875291,2876246],[2879515,2882193,2893185,2883249,2879515],[2898017,2898683,2897167,2896693,2898017]]],[[[1809019,1809099,1810228,1810102,1809019]]],[[[1876163,1876332,1876781,1876643,1876163]]],[[[2209675,2209408,2208302,2208596,2209675]]],[[[2512364,2500336,2478413,2471019,2466932,2438093,2436244,2414086,2406682,2400615,2405334,2415227,2414613,2431612,2447310,2462978,2482766,2483815,2475388,2456462,2455291,2436738,2441910,2435160,2437861,2465588,2451617,2449946,2462490,2469509,2478259,2472324,2456797,2463789,2454479,2465954,2454111,2436862,2428851,2403554,2383907,2384133,2354379,2346463,2344910,2312856,2301929,2290362,2289772,2281114,2265165,2265340,2257818,2249041,2251979,2236993,2227558,2216593,2209224,2205698,2197955,2188884,2191587,2202627,2194853,2153914,2133224,2120327,2117358,2135476,2157904,2159414,2167583,2175418,2202552,2225231,2213847,2227393,2209474,2220193,2231687,2232509,2244556,2248625,2262740,2247184,2233245,2208862,2203585,2182917,2183541,2195253,2190632,2186524,2165668,2158421,2134202,2132447,2117003,2102787,2101919,2087822,2073868,2068209,2073856,2083260,2090897,2055615,2059367,2027813,2025799,2017447,2000331,2010638,2002913,2009529,1998061,1990370,1957380,1964692,1955661,1963710,1958774,1969632,1964122,1976630,1965602,1951454,1916411,1921931,1914377,1915746,1902440,1915023,1914125,1894247,1887879,1875021,1868926,1881554,1866129,1867375,1850634,1835997,1828258,1815066,1811084,1809650,1787903,1787837,1778775,1780159,1759231,1781269,1773241,1811330,1848616,1852840,1850372,1866495,1874707,1872728,1878463,1890909,1914808,1917906,1915039,1917087,1919074,1929764,1955708,1957774,1967873,2017816,2062624,2100195,2147811,2193865,2266210,2269283,2259107,2260864,2282633,2299870,2298255,2281583,2279174,2297594,2296909,2319293,2337098,2350067,2357802,2339702,2346031,2355315,2361068,2389751,2401873,2399912,2405383,2404715,2411826,2412273,2423676,2427253,2439777,2449274,2448942,2456214,2458551,2450961,2466434,2475426,2490183,2512364],[2093359,2093205,2090636,2091256,2093359],[1781536,1780224,1781406,1785136,1781536]]],[[[2954834,2938095,2931510,2901466,2891669,2877976,2840801,2840138,2793992,2734746,2746681,2744244,2753967,2746661,2766636,2755858,2763363,2758494,2767031,2851984,2852150,2907626,2913299,2900063,2944507,2948544,2935828,2960932,2954834]]],[[[3011909,2998854,3008338,2992043,2987360,2975703,2958287,2968347,2944457,2948364,2932991,2916319,2902119,2889911,2892676,2879370,2898762,2890951,2901093,2893348,2912083,2942192,2950671,2967435,2994277,3000943,2986208,2994067,2986528,2992948,2987678,2992527,2985152,2977016,2981545,2964779,2979036,2979293,2983226,2983027,3003058,2987231,3006274,3011909]]],[[[2804218,2800670,2767031,2758494,2763725,2763363,2755858,2759444,2714258,2674473,2648318,2632283,2637376,2575141,2542532,2532589,2534959,2509315,2514851,2504825,2519132,2529656,2509002,2595925,2624006,2660362,2661370,2730684,2742448,2783891,2784032,2769617,2816676,2804218]]],[[[3114847,3083529,3054973,3046370,3011814,3008145,2987076,2968823,2944695,2932257,2938095,2960932,2935907,2948544,2944507,2900571,2905268,2928761,2942622,2994363,2975578,2988572,3020012,3067897,3055942,3081397,3094393,3116820,3113455,3128115,3114847]]],[[[2268708,2270501,2274265,2273272,2268708]]],[[[2275783,2275618,2277578,2276743,2275783]]],[[[2315567,2316542,2317340,2316387,2315567]]],[[[2316850,2319331,2320234,2318171,2316850]]],[[[2320032,2322273,2331298,2325870,2320032]]],[[[2360112,2360118,2360868,2360745,2360112]]],[[[2361739,2360877,2359774,2360258,2361739]]],[[[2362980,2362944,2363613,2363874,2362980]]],[[[2365515,2365250,2366028,2366077,2365515]]],[[[2366465,2366170,2365332,2365702,2366465]]],[[[2365053,2366209,2367366,2366354,2365053]]],[[[2367462,2367628,2368908,2368638,2367462]]],[[[2373710,2374939,2375766,2374682,2373710]]],[[[2575728,2548227,2552965,2538065,2529261,2521380,2495922,2495328,2508874,2506594,2488512,2479152,2463884,2447060,2418344,2403308,2370718,2366961,2369019,2361526,2364737,2357699,2357287,2354768,2357963,2329913,2311683,2294361,2273171,2267305,2229534,2186242,2164359,2174427,2170552,2163793,2157568,2163637,2153778,2157607,2145840,2130041,2125963,2133070,2156892,2146292,2173950,2156515,2164057,2149477,2154637,2139042,2110500,2082550,2080259,2090020,2065340,2101386,2086502,2075637,2074395,2061422,2054322,2036963,2045271,2016882,2015822,2068719,2078849,2103921,2114603,2121875,2145183,2170559,2204831,2214729,2247923,2262656,2277790,2285632,2274736,2273350,2253496,2262136,2257615,2246572,2253672,2272484,2280646,2324017,2339203,2378409,2371287,2410065,2413207,2404359,2424342,2437042,2433882,2451437,2465445,2466987,2472893,2485787,2493085,2515898,2519678,2523808,2536521,2555994,2575373,2552375,2569406,2546821,2521157,2523889,2512007,2530522,2517854,2525302,2510778,2508019,2548768,2569198,2579720,2575728]]],[[[1231745,1231236,1212494,1224633,1231745]]],[[[1311147,1310794,1312189,1312646,1311147]]],[[[1315446,1313885,1318215,1318140,1315446]]],[[[1323267,1323131,1324515,1324296,1323267]]],[[[1325257,1324326,1324405,1325350,1325257]]],[[[1327820,1326606,1321233,1321738,1327820]]],[[[1324650,1324798,1327781,1327356,1324650]]],[[[1332298,1332744,1329812,1329383,1332298]]],[[[1342509,1339782,1340427,1342086,1342509]]],[[[1348025,1347673,1348778,1348460,1348025]]],[[[1349172,1348415,1339607,1338067,1334463,1349172]]],[[[1347450,1345762,1336783,1340540,1326832,1331486,1332047,1335001,1344149,1344560,1347450],[1333651,1330049,1330001,1334044,1333651]]],[[[1346574,1347216,1351422,1350637,1346574]]],[[[1890461,1892227,1889886,1886036,1890461]]],[[[3827593,3818082,3794138,3784905,3774005,3756582,3672343,3673943,3689872,3669173,3661867,3632866,3605336,3599415,3590656,3553055,3557191,3545894,3537149,3527378,3513682,3516004,3529098,3516994,3523544,3516538,3493922,3486245,3470845,3470658,3480734,3470154,3478556,3445053,3460005,3471449,3482584,3475184,3478491,3492429,3484914,3502468,3491120,3499874,3519303,3550249,3559400,3560104,3566610,3571418,3625339,3645217,3650658,3643988,3650890,3673891,3692986,3726930,3731197,3748485,3757609,3772047,3767905,3776469,3794216,3808492,3808078,3799533,3839163,3827593]]],[[[3500845,3496223,3486222,3476220,3470631,3471726,3447454,3442780,3432877,3417355,3426971,3404979,3408668,3393451,3377364,3376620,3365862,3326243,3299970,3295044,3267999,3260234,3257751,3240000,3231381,3228346,3248273,3255873,3252116,3261129,3264580,3271437,3267884,3254624,3253281,3244634,3250735,3260541,3275567,3274153,3266472,3205318,3215347,3225622,3223059,3189143,3172721,3165721,3147806,3134660,3124695,3125596,3106168,3091168,3103784,3101890,3114977,3111590,3105378,3117105,3113189,3096981,3097412,3083212,3080620,3067254,3027915,3009998,2987212,2982886,2963607,2929582,2913532,2913419,2927229,2925916,2889045,2889106,2876415,2859547,2853050,2844539,2839696,2822436,2809103,2819218,2818096,2794186,2778021,2768854,2773778,2787637,2772811,2781100,2779334,2793336,2764520,2756012,2744755,2735146,2741258,2723807,2728653,2743311,2758894,2751967,2757030,2749172,2762120,2769949,2782973,2802382,2810923,2804044,2808582,2842088,2841242,2864246,2852376,2858564,2861744,2880534,2880887,2861686,2858040,2872191,2849905,2844989,2833074,2850279,2835084,2815426,2810069,2787520,2784938,2756633,2737673,2708058,2687584,2671515,2657358,2639332,2654539,2653419,2664391,2677470,2672634,2685939,2686663,2707359,2706651,2717167,2727429,2744898,2768932,2754647,2765320,2775942,2797848,2801531,2813791,2810868,2793247,2797575,2809318,2815440,2803265,2815155,2824514,2829125,2828750,2839980,2830338,2836292,2827601,2835755,2836292,2828260,2835820,2894324,2924657,2962689,2963115,2991089,3067498,3073460,3099504,3146346,3193777,3224665,3250339,3250189,3216616,3212237,3230097,3233294,3244336,3265713,3298278,3346252,3379515,3447077,3495928,3512312,3528824,3500845],[2746707,2745653,2745779,2746707],[2745208,2744856,2745556,2745208]]],[[[3261439,3250857,3235403,3194203,3158915,3140615,3147755,3133636,3138034,3150539,3185238,3222284,3242721,3246159,3265286,3261439]]],[[[975296,975879,976292,975600,975296]]],[[[986945,987056,987798,987477,986945]]],[[[990332,990191,991162,990999,990332]]],[[[999768,1000057,1000766,1000277,999768]]],[[[1015569,1015775,1016517,1016533,1015569]]],[[[1017454,1017389,1018483,1018015,1017454]]],[[[1017203,1017565,1018645,1017878,1017203]]],[[[1018457,1018927,1019301,1018738,1018457]]],[[[1018906,1019595,1019957,1019437,1018906]]],[[[1020124,1020260,1020796,1021044,1020124]]],[[[1022510,1022475,1023141,1022970,1022510]]],[[[1022550,1022707,1023296,1023422,1022550]]],[[[1022891,1022982,1023391,1023409,1022891]]],[[[1023646,1023553,1024219,1024209,1023646]]],[[[1023584,1023958,1024350,1024362,1023584]]],[[[1025298,1024266,1024331,1025075,1025298]]],[[[1025612,1025911,1026536,1026316,1025612]]],[[[1027146,1025820,1026100,1026916,1027146]]],[[[1026427,1026962,1027540,1026679,1026427]]],[[[1027760,1027646,1028834,1029263,1027760]]],[[[1029724,1030083,1030491,1030314,1029724]]],[[[1031887,1032447,1032780,1032298,1031887]]],[[[1032066,1032423,1032957,1032680,1032066]]],[[[1033147,1033504,1033960,1033681,1033147]]],[[[1033443,1033724,1033935,1033651,1033443]]],[[[1039453,1034096,1026735,1024823,1037367,1039453]]],[[[1334148,1333587,1330001,1333651,1334148]]],[[[1497539,1496653,1497044,1497539]]],[[[1504550,1504434,1505788,1505184,1504550]]],[[[1507930,1507780,1506602,1507053,1507930]]],[[[1507062,1507184,1508396,1508104,1507062]]],[[[1509842,1510063,1510411,1510052,1509842]]],[[[1332614,1328054,1321738,1321233,1296086,1233546,1227664,1212494,1151381,1153645,1156723,1159127,1148796,1135288,1122938,1085815,1060000,1039844,1037696,1034418,1007233,1011426,1006115,992541,979759,971428,935218,902215,907108,926227,929490,949873,954865,977381,991751,1008301,1063079,1074186,1075368,1115818,1130715,1143363,1158400,1143435,1153190,1190669,1191036,1207057,1224374,1236542,1235789,1237814,1249373,1256686,1253365,1272834,1285034,1296934,1312176,1302199,1298216,1321956,1324225,1313997,1319714,1324220,1318378,1339053,1339929,1359226,1374503,1387770,1421638,1422406,1444666,1446840,1440205,1437477,1442824,1432626,1424492,1416661,1430661,1425070,1451714,1458537,1467377,1470845,1463269,1463150,1469768,1461912,1476568,1472179,1482546,1495734,1498092,1489198,1493395,1483476,1486748,1492301,1499628,1516630,1521453,1513247,1524145,1493276,1399322,1340540,1336783,1345762,1346997,1335001,1332614],[1332744,1332348,1329383,1328829,1332744],[1334862,1338067,1339607,1348415,1349172,1334862],[1342557,1342086,1340427,1340367,1342557],[1347673,1347631,1348460,1348778,1347673],[1324798,1325549,1327915,1325533,1324798],[1325350,1324405,1324326,1325257,1325350],[1324378,1323131,1323267,1324296,1324378],[1276182,1276106,1276182,1276182],[1270715,1270685,1270715,1270715],[1261270,1260243,1261270,1261270]]],[[[2013095,2007002,2008058,1995003,1991444,1966234,1959337,1948903,1945216,1924790,1928174,1937798,1923711,1929054,1918304,1913222,1897114,1899780,1926907,1910879,1900016,1880087,1890201,1870614,1833319,1828947,1817706,1823653,1808240,1816920,1814805,1809034,1797208,1785411,1794055,1791311,1796135,1808826,1834194,1844368,1849219,1859444,1861323,1872946,1882059,1922086,1940013,1946782,1964341,1964541,1970963,1978482,1988930,2034240,2044094,2070338,2078672,2089360,2089950,2101919,2102787,2115619,2132447,2134202,2158421,2165668,2186524,2190632,2195253,2183541,2182917,2203585,2208862,2233245,2247184,2262740,2248625,2244556,2232509,2231687,2220193,2209474,2227393,2213847,2226351,2222904,2202552,2175418,2167583,2159414,2157904,2132642,2117358,2122284,2106869,2111778,2098992,2068009,2058369,2065684,2053825,2057991,2047800,2013095]]],[[[2814614,2800594,2783612,2783891,2771079,2719860,2711166,2721032,2710268,2720303,2690436,2665474,2643605,2625298,2666184,2640666,2643574,2720462,2722405,2750982,2750476,2766201,2762960,2781839,2770317,2783270,2770102,2794780,2800047,2817471,2814614]]],[[[2875291,2875947,2876246,2875998,2875291]]],[[[2891356,2882726,2879877,2880637,2891356]]],[[[2896693,2897167,2898683,2897837,2896693]]],[[[3555571,3534657,3515732,3486399,3462031,3465025,3444589,3476648,3473594,3446594,3433070,3415337,3408178,3394059,3391346,3377782,3371112,3356537,3361111,3350131,3355070,3338730,3353393,3319451,3333177,3336183,3306967,3294119,3266053,3270553,3259211,3231029,3239389,3208208,3214764,3186174,3180165,3164656,3173354,3182996,3182307,3163770,3155518,3145809,3134707,3135027,3109588,3105957,3090638,3092355,3076668,3078586,3066222,3063048,3054617,3045172,3029278,3028616,3020874,2997765,2983731,2965284,2959038,2967259,2957005,2964250,2929272,2898059,2859653,2829546,2817622,2814449,2797793,2743712,2738185,2768345,2788897,2800209,2821106,2820681,2832049,2839432,2826161,2828095,2847918,2843481,2853887,2854610,2876554,2882801,2899381,2892169,2884533,2895912,2867277,2870214,2862065,2869440,2868460,2899302,2888817,2892103,2882843,2881911,2894319,2884117,2887748,2876070,2873609,2875756,2879006,2880353,2885318,2876434,2877889,2896628,2927934,2904709,2887295,2896990,2885339,2891688,2889106,2908396,2907778,2916983,2908519,2908685,2901488,2905652,2891542,2888763,2898807,2892741,2909188,2899224,2895539,2918158,2917488,2903303,2911719,2922807,2921376,2930109,2944011,2937875,2932597,2928323,2936722,2928073,2925886,2919201,2929740,2910611,2906916,2870835,2852455,2826741,2830996,2796039,2774872,2784414,2782766,2800938,2786659,2790119,2799936,2817755,2834329,2857602,2875081,2886035,2890951,2921211,2944509,2952005,2967377,2977390,2973570,3008536,3015640,3017604,3028520,3027266,3037584,3043789,3053577,3054973,3069647,3083401,3080674,3097806,3092506,3107056,3102283,3113189,3116989,3116902,3105378,3111590,3114977,3094081,3106168,3121283,3125596,3131563,3147806,3165721,3172721,3199400,3223905,3241864,3259106,3279525,3282309,3300497,3319221,3338839,3349828,3375732,3388457,3417765,3451710,3492912,3509143,3516693,3555571],[3262656,3262009,3262170,3262656],[2884359,2882571,2882654,2884020,2884359]]],[[[3678086,3636922,3637127,3624620,3632829,3629469,3603443,3607733,3601426,3577466,3561352,3565605,3535385,3529095,3531349,3503816,3497581,3477372,3471319,3451951,3431862,3400925,3403568,3394034,3388337,3338910,3355070,3350131,3361111,3356537,3371112,3377782,3391346,3394059,3408178,3415337,3433070,3446594,3470519,3476648,3444589,3465025,3462031,3486399,3515732,3534657,3556646,3571625,3602130,3616719,3613775,3626900,3626110,3640216,3652256,3669952,3658592,3658739,3645713,3647346,3674415,3693038,3678086]]],[[[2460308,2459577,2460240,2461373,2460308]]],[[[2463538,2460941,2456649,2458147,2463538]]],[[[2463700,2461405,2458779,2462569,2463700]]],[[[2464432,2462636,2458280,2458047,2464432]]],[[[2468007,2463445,2460176,2462875,2468007]]],[[[2468192,2463800,2459211,2463833,2468192]]],[[[2469805,2469455,2470102,2470090,2469805]]],[[[2469355,2462569,2460774,2463572,2468351,2469355]]],[[[2468541,2465363,2468375,2472800,2471255,2469396,2468541]]],[[[2470353,2469455,2472977,2471717,2470353]]],[[[2474554,2470519,2466489,2465729,2474554]]],[[[2474845,2473145,2470433,2473507,2474413,2475734,2474845]]],[[[2476226,2469911,2464145,2469044,2476226]]],[[[2476343,2470187,2473714,2473448,2476343]]],[[[2476305,2469255,2464532,2472860,2476027,2476305]]],[[[2476663,2472308,2465363,2473456,2476663]]],[[[2477087,2473388,2469196,2471939,2477087]]],[[[2478082,2473381,2468789,2466061,2463767,2473880,2478082]]],[[[2478180,2468831,2465666,2467796,2474928,2475590,2476128,2478180]]],[[[2478764,2477375,2477168,2476398,2469821,2478764]]],[[[2479873,2474421,2473709,2476817,2478400,2478440,2467926,2476910,2477914,2479515,2479873]]],[[[2478477,2479147,2479938,2479006,2478477]]],[[[2480970,2474978,2467425,2474878,2480970]]],[[[2479290,2470592,2466843,2463035,2479290]]],[[[2482992,2472182,2458646,2465529,2467803,2471717,2474246,2475548,2482992]]],[[[2482968,2480903,2478273,2477641,2476243,2477905,2482968]]],[[[2483233,2482832,2481218,2479724,2478206,2477142,2473913,2476834,2478606,2482062,2483233]]],[[[2483331,2482371,2478650,2477674,2479431,2481538,2483331]]],[[[2483466,2482568,2465962,2476742,2475708,2483466]]],[[[2483266,2480418,2479417,2481255,2483266]]],[[[2483766,2482901,2482434,2483133,2483766]]],[[[2483335,2483599,2483899,2483766,2483335]]],[[[2480944,2480771,2484013,2482222,2480944]]],[[[2480877,2482342,2484116,2482819,2480877]]],[[[2484866,2481944,2479839,2477786,2483834,2484866]]],[[[2478487,2478920,2484950,2482202,2478487]]],[[[2485490,2485351,2486130,2486031,2485490]]],[[[2485787,2485159,2484099,2483433,2481050,2478617,2477470,2481134,2482468,2485787]]],[[[2486364,2480637,2476509,2479937,2480866,2482326,2486364]]],[[[2486425,2485662,2483866,2486613,2486425]]],[[[2486031,2486330,2487030,2486397,2486031]]],[[[2486168,2480004,2476081,2483660,2486168]]],[[[2488414,2484865,2482641,2481369,2479328,2478073,2477855,2474697,2473587,2474437,2473957,2473391,2471428,2470552,2474368,2480803,2488414]]],[[[2488562,2487496,2486397,2487563,2488562]]],[[[2488767,2479804,2480059,2479526,2477843,2477840,2488767]]],[[[2488859,2487480,2487487,2483601,2477919,2485024,2488859]]],[[[2488929,2488964,2482620,2483450,2483566,2485108,2488929]]],[[[2486978,2484199,2485098,2489234,2486978]]],[[[2488012,2483533,2481537,2490275,2488012]]],[[[2480936,2483891,2485945,2490550,2480936]]],[[[2490627,2489528,2489261,2488295,2487329,2486530,2486097,2482935,2482168,2481769,2490627]]],[[[2490626,2490005,2489827,2490493,2490626]]],[[[2490760,2490405,2490410,2491093,2490760]]],[[[2491689,2488767,2487764,2489343,2491689]]],[[[2493192,2490562,2489994,2486697,2485415,2484033,2483467,2482202,2489528,2491826,2493192]]],[[[2493525,2491036,2487297,2489572,2493525]]],[[[2494081,2492725,2491726,2492259,2494081]]],[[[2493955,2493971,2494410,2494132,2493955]]],[[[2494807,2494034,2490695,2487149,2486003,2482685,2480394,2478140,2476612,2487006,2488034,2491089,2494807]]],[[[2495358,2494492,2494191,2493725,2492992,2487196,2484965,2481968,2478873,2485331,2495358]]],[[[2495390,2496227,2496714,2496403,2495390]]],[[[2496524,2480625,2466660,2472549,2496524]]],[[[2496957,2496390,2495724,2495358,2495157,2494991,2486497,2487029,2487730,2489028,2490094,2490660,2490993,2494691,2495558,2496957]]],[[[2498742,2491670,2489228,2484540,2485911,2488139,2498742]]],[[[2499256,2495891,2495649,2485697,2499256]]],[[[2498940,2498859,2499295,2499061,2498940]]],[[[2499656,2497956,2495290,2496224,2495990,2497523,2499090,2499656]]],[[[2499218,2494528,2489603,2493425,2499218]]],[[[2500223,2499955,2499988,2500223,2500223]]],[[[2500113,2494290,2489362,2488062,2486935,2486308,2491438,2500113]]],[[[2500389,2494657,2493825,2485265,2489362,2488895,2492026,2492092,2500389]]],[[[2498723,2497589,2499256,2500789,2498723]]],[[[2501024,2498256,2499323,2500756,2501024]]],[[[2500283,2500258,2500575,2501180,2500283]]],[[[2502124,2500923,2495991,2496899,2499692,2502124]]],[[[2502732,2501354,2499389,2501721,2502732]]],[[[2501670,2501281,2502904,2495624,2492393,2493958,2494791,2497223,2496990,2488994,2493991,2502906,2501670]]],[[[2503356,2501689,2501889,2497556,2495290,2496423,2497024,2496957,2495890,2503356]]],[[[2503989,2503389,2501456,2502956,2503989]]],[[[2509092,2506105,2502634,2502489,2509092]]],[[[2511358,2510124,2509532,2512380,2511358]]],[[[2513832,2511602,2504667,2506487,2513832]]],[[[2514694,2503456,2500923,2510958,2514694]]],[[[2513859,2512793,2502700,2506356,2513859]]],[[[2516958,2516760,2516599,2516760,2516958]]],[[[2517730,2517534,2515949,2515366,2513893,2517730]]],[[[2516968,2513293,2516476,2517030,2517449,2518462,2516968]]],[[[2518797,2518597,2518964,2519030,2518797]]],[[[2517640,2509956,2502662,2511775,2513249,2517640]]],[[[2517627,2517896,2519099,2518797,2517627]]],[[[2518821,2517558,2514764,2516068,2518821]]],[[[2521005,2519889,2519096,2517328,2516784,2514394,2521005]]],[[[2521131,2521266,2521361,2521261,2521131]]],[[[2521638,2518773,2519193,2521961,2521638]]],[[[2523431,2522130,2520861,2521795,2523431]]],[[[2521766,2521203,2521857,2519492,2518420,2521766]]],[[[2526302,2525869,2521399,2524066,2521703,2526302]]],[[[2525172,2526353,2526993,2526373,2525172]]],[[[2531586,2529314,2522370,2526789,2528636,2531814,2531586]]],[[[2534255,2526794,2519282,2514431,2518419,2516135,2513593,2510059,2507924,2509016,2505755,2499762,2510848,2519364,2526897,2531911,2530879,2534255]]],[[[2535455,2527216,2517936,2517952,2518625,2520788,2521031,2520987,2517881,2519264,2518367,2516319,2535455]]],[[[2536590,2531881,2527686,2521232,2512161,2524281,2536590]]],[[[2534255,2534616,2536075,2536047,2531609,2528877,2527205,2524883,2518369,2519130,2531591,2536521,2534255]]],[[[2537658,2537425,2537091,2537091,2537658]]],[[[2538560,2535219,2534615,2532790,2538560]]],[[[2557503,2530146,2526951,2536222,2542236,2557503]]],[[[2559283,2559250,2560788,2560387,2559283]]],[[[2559484,2560005,2551995,2556106,2559484]]],[[[2560922,2560822,2560287,2560253,2560922]]],[[[2562813,2562461,2562471,2563113,2562813]]],[[[2562608,2563123,2563172,2562979,2562608]]],[[[2563498,2563364,2563230,2563330,2563498]]],[[[2567981,2567112,2566710,2568350,2567981]]],[[[2571730,2569397,2563688,2564971,2566978,2571730]]],[[[2577551,2567488,2561391,2559785,2555605,2560056,2562361,2572482,2577551]]],[[[2579380,2579054,2578626,2579271,2579380]]],[[[2579533,2563266,2560722,2555371,2561907,2548771,2579533]]],[[[2994210,2992071,2990908,2993051,2994210]]],[[[3024700,3015273,3015352,3028112,3024700]]],[[[3029707,3027925,3020882,3030148,3029707]]],[[[3032273,3030498,3034369,3034417,3032273]]],[[[3039398,3038774,3041651,3041978,3039398]]],[[[3144055,3133636,3147755,3137121,3117400,3122978,3113979,3115995,3099501,3106764,3096118,3088428,3086497,3054716,3036528,3020570,3027419,3019011,3007540,2994947,3016379,3048661,3056026,3049275,3028975,3034810,3027972,3037387,3031973,3042816,3067020,3077001,3072892,3054812,3056149,3043405,3045387,3026558,3017355,2973889,2975070,2938549,2933988,2940055,2920475,2908600,2896114,2901476,2868869,2859880,2870320,2867186,2858530,2834585,2799515,2786905,2767425,2751759,2736554,2710109,2692245,2662905,2658017,2632947,2613332,2584946,2580091,2579295,2577186,2572611,2563578,2578994,2573282,2575345,2574604,2575767,2576175,2576939,2577691,2580989,2582946,2577621,2574360,2572492,2570776,2567011,2564847,2563299,2563298,2558213,2555407,2554576,2554238,2554669,2555349,2554769,2538589,2539526,2538449,2540083,2541854,2543483,2544513,2544520,2544070,2544742,2546295,2546412,2543991,2543360,2539909,2538302,2537491,2535223,2531389,2537030,2537269,2541904,2537421,2536966,2536731,2536949,2535677,2536301,2535851,2534538,2534390,2536645,2536630,2538123,2538711,2538836,2539274,2540593,2542014,2543425,2543438,2545533,2545743,2538677,2536558,2534951,2531615,2533551,2532016,2534786,2535296,2542694,2535020,2536689,2537652,2537129,2546893,2550790,2552280,2538205,2536530,2535698,2524597,2530718,2534244,2530636,2527215,2524082,2518107,2517602,2516963,2519603,2501089,2508342,2499956,2499388,2500248,2499987,2493891,2497014,2501172,2503055,2504644,2507569,2510113,2508980,2509363,2511069,2514308,2515813,2507550,2501370,2501289,2500718,2500048,2498964,2506591,2507146,2507438,2512915,2497690,2499421,2501680,2505822,2507356,2508003,2507890,2507522,2507061,2505789,2501897,2499604,2487407,2490263,2499259,2500207,2502118,2502809,2494383,2497746,2496084,2493118,2491165,2490157,2489183,2488443,2487622,2486091,2482866,2487762,2482444,2479142,2482090,2497057,2520565,2531580,2536990,2548147,2537959,2541050,2560354,2564551,2542803,2533717,2523435,2513093,2523836,2523953,2512759,2490655,2468905,2463884,2483425,2488512,2506594,2508874,2495328,2495922,2517007,2529261,2537875,2547351,2563105,2580814,2581215,2592967,2605386,2623105,2625635,2630816,2631626,2649686,2647976,2664127,2677140,2689210,2692058,2702949,2701053,2689571,2683155,2708570,2715596,2733089,2731039,2738998,2728684,2737426,2732470,2741275,2758631,2751356,2767649,2764001,2772577,2772435,2783169,2803197,2824600,2826083,2841713,2847148,2863142,2888004,2909968,2926250,2941726,2935625,2937815,2960840,2970616,2980747,2989273,3004590,3042973,3059950,3067588,3062485,3067452,3106117,3137425,3150539,3144055],[2911355,2909543,2910900,2911355],[3037406,3036958,3036560,3037650,3037406]]]],\"index\":[0,0,0,0,0,0,0,0,0,0,0,0,0,0,0,0,0,0,0,0,0,0,0,0,0,0,0,0,0,0,0,0,0,0,0,0,0,0,0,0,0,0,0,0,0,0,0,0,0,0,0,0,0,0,0,0,0,0,0,0,0,0,0,0,0,0,0,0,0,0,0,0,0,0,0,0,0,0,0,0,0,0,0,0,0,0,0,0,0,0,0,0,0,0,0,0,0,0,0,0,0,0,0,0,0,0,0,0,0,0,0,0,0,0,0,0,0,0,0,0,0,0,0,0,0,0,0,0,0,0,0,0,0,0,0,0,0,0,0,0,0,0,0,0,0,0,0,0,0,0,0,0,0,0,0,0,0,0,0,0,0,0,0,0,0,0,0,0,0,0,0,0,0,0,0,0,0,0,0,0,0,0,0,0,0,0,1,1,2,3,3,4,4,5,6,7,8,8,8,8,8,9,10,10,11,11,11,11,11,11,11,11,11,11,11,11,11,11,11,11,11,11,11,11,11,11,11,11,11,11,11,11,11,11,11,11,11,11,11,11,11,11,11,11,11,11,11,11,11,11,11,11,11,11,11,11,11,11,11,11,11,11,11,11,11,11,11,11,11,11,11,11,11,11,11,11,11,11,11,11,11,11,11,11,11,11,11,11,11,11,11,11,11,11,11,11,11,11,11,11,11,11,11,11,11,11,11,11,11,11,11,11,11,11,11,11,11,11,11,11,11,11,11,11,11,11,11,11,11,11,11,11,11,11,11,11,11,11,11,11,11,11,11,11,11,11,11,11,11,11,11,11,11,11,11,11,11,11,11,11,11,11,11,11,11,11,11,11,11,11,11,11,11,11,11,11,11,11,11,11,11,11,11,11,11,11,11,11,11,11,11,11,11,11,11,11,11,11,11,11,11,11,11,11,11,11,11,11,11,11,11,11,11,11,11,11,11,11,11,11,11,11,11,11,11,11,12,13,14,15,16,16,16,16,16,16,16,16,16,16,16,16,16,16,16,16,16,16,16,16,16,16,17,18,18,18,18,18,18,18,18,18,18,18,18,18,18,18,18,18,18,18,18,18,19,19,19,20,20,20,20,21,22,23,24,25,25,25,25,25,25,25,25,25,25,25,25,25,25,26,26,26,26,26,26,26,26,26,26,26,26,26,26,27,28,29,30,30,30,30,30,30,30,30,30,30,30,30,30,30,30,30,30,30,30,30,30,30,30,30,30,30,30,30,30,30,30,30,30,31,32,33,33,33,33,34,35,35,35,35,35,35,35,35,35,35,35,35,35,35,35,35,35,35,35,35,35,35,35,35,35,35,35,35,35,35,35,35,35,35,35,35,35,35,35,35,35,35,35,35,35,35,35,35,35,35,35,35,35,35,35,35,35,35,35,35,35,35,35,35,35,35,35,35,35,35,35,35,35,35,35,35,35,35,35,35,35,35,35,35,35,35,35,35,35,35,35,35,35,35,35,35,35,35,35,35,35,35,35,35,35,35,35,35,35,35,35,35,35,35,35,35,35,35,35,35,35,35,35],\"pred_k2\":[1,1,1,1,1,1,1,1,1,1,1,1,1,1,1,1,1,1,1,1,1,1,1,1,1,1,1,1,1,1,1,1,1,1,1,1,1,1,1,1,1,1,1,1,1,1,1,1,1,1,1,1,1,1,1,1,1,1,1,1,1,1,1,1,1,1,1,1,1,1,1,1,1,1,1,1,1,1,1,1,1,1,1,1,1,1,1,1,1,1,1,1,1,1,1,1,1,1,1,1,1,1,1,1,1,1,1,1,1,1,1,1,1,1,1,1,1,1,1,1,1,1,1,1,1,1,1,1,1,1,1,1,1,1,1,1,1,1,1,1,1,1,1,1,1,1,1,1,1,1,1,1,1,1,1,1,1,1,1,1,1,1,1,1,1,1,1,1,1,1,1,1,1,1,1,1,1,1,1,1,1,1,1,1,1,1,0,0,0,0,0,0,0,1,0,0,0,0,0,0,0,0,0,0,0,0,0,0,0,0,0,0,0,0,0,0,0,0,0,0,0,0,0,0,0,0,0,0,0,0,0,0,0,0,0,0,0,0,0,0,0,0,0,0,0,0,0,0,0,0,0,0,0,0,0,0,0,0,0,0,0,0,0,0,0,0,0,0,0,0,0,0,0,0,0,0,0,0,0,0,0,0,0,0,0,0,0,0,0,0,0,0,0,0,0,0,0,0,0,0,0,0,0,0,0,0,0,0,0,0,0,0,0,0,0,0,0,0,0,0,0,0,0,0,0,0,0,0,0,0,0,0,0,0,0,0,0,0,0,0,0,0,0,0,0,0,0,0,0,0,0,0,0,0,0,0,0,0,0,0,0,0,0,0,0,0,0,0,0,0,0,0,0,0,0,0,0,0,0,0,0,0,0,0,0,0,0,0,0,0,0,0,0,0,0,0,0,0,0,0,0,0,0,0,0,0,0,0,0,0,0,0,0,0,0,0,0,0,0,0,0,0,0,0,0,0,0,0,0,0,0,0,0,0,0,0,0,0,0,0,0,0,0,0,0,0,0,0,0,0,0,0,0,1,1,1,1,1,1,1,1,1,1,1,1,1,1,1,1,1,1,1,1,1,0,0,0,0,0,0,0,0,0,1,0,0,0,0,0,0,0,0,0,0,0,0,0,0,0,0,0,0,0,0,0,0,0,0,0,0,0,0,0,0,0,1,0,0,0,0,0,0,0,0,0,0,0,0,0,0,0,0,0,0,0,0,0,0,0,0,0,0,0,0,0,0,0,0,0,0,1,0,0,0,0,0,0,0,0,0,0,0,0,0,0,0,0,0,0,0,0,0,0,0,0,0,0,0,0,0,0,0,0,0,0,0,0,0,0,0,0,0,0,0,0,0,0,0,0,0,0,0,0,0,0,0,0,0,0,0,0,0,0,0,0,0,0,0,0,0,0,0,0,0,0,0,0,0,0,0,0,0,0,0,0,0,0,0,0,0,0,0,0,0,0,0,0,0,0,0,0,0,0,0,0,0,0,0,0,0,0,0,0,0,0,0,0,0,0,0,0,0,0,0,0,0,0,0,0],\"pred_k2_label\":[\"Less-Infrastructure, Better Enrollment-Ratio\",\"Less-Infrastructure, Better Enrollment-Ratio\",\"Less-Infrastructure, Better Enrollment-Ratio\",\"Less-Infrastructure, Better Enrollment-Ratio\",\"Less-Infrastructure, Better Enrollment-Ratio\",\"Less-Infrastructure, Better Enrollment-Ratio\",\"Less-Infrastructure, Better Enrollment-Ratio\",\"Less-Infrastructure, Better Enrollment-Ratio\",\"Less-Infrastructure, Better Enrollment-Ratio\",\"Less-Infrastructure, Better Enrollment-Ratio\",\"Less-Infrastructure, Better Enrollment-Ratio\",\"Less-Infrastructure, Better Enrollment-Ratio\",\"Less-Infrastructure, Better Enrollment-Ratio\",\"Less-Infrastructure, Better Enrollment-Ratio\",\"Less-Infrastructure, Better Enrollment-Ratio\",\"Less-Infrastructure, Better Enrollment-Ratio\",\"Less-Infrastructure, Better Enrollment-Ratio\",\"Less-Infrastructure, Better Enrollment-Ratio\",\"Less-Infrastructure, Better Enrollment-Ratio\",\"Less-Infrastructure, Better Enrollment-Ratio\",\"Less-Infrastructure, Better Enrollment-Ratio\",\"Less-Infrastructure, Better Enrollment-Ratio\",\"Less-Infrastructure, Better Enrollment-Ratio\",\"Less-Infrastructure, Better Enrollment-Ratio\",\"Less-Infrastructure, Better Enrollment-Ratio\",\"Less-Infrastructure, Better Enrollment-Ratio\",\"Less-Infrastructure, Better Enrollment-Ratio\",\"Less-Infrastructure, Better Enrollment-Ratio\",\"Less-Infrastructure, Better Enrollment-Ratio\",\"Less-Infrastructure, Better Enrollment-Ratio\",\"Less-Infrastructure, Better Enrollment-Ratio\",\"Less-Infrastructure, Better Enrollment-Ratio\",\"Less-Infrastructure, Better Enrollment-Ratio\",\"Less-Infrastructure, Better Enrollment-Ratio\",\"Less-Infrastructure, Better Enrollment-Ratio\",\"Less-Infrastructure, Better Enrollment-Ratio\",\"Less-Infrastructure, Better Enrollment-Ratio\",\"Less-Infrastructure, Better Enrollment-Ratio\",\"Less-Infrastructure, Better Enrollment-Ratio\",\"Less-Infrastructure, Better Enrollment-Ratio\",\"Less-Infrastructure, Better Enrollment-Ratio\",\"Less-Infrastructure, Better Enrollment-Ratio\",\"Less-Infrastructure, Better Enrollment-Ratio\",\"Less-Infrastructure, Better Enrollment-Ratio\",\"Less-Infrastructure, Better Enrollment-Ratio\",\"Less-Infrastructure, Better Enrollment-Ratio\",\"Less-Infrastructure, Better Enrollment-Ratio\",\"Less-Infrastructure, Better Enrollment-Ratio\",\"Less-Infrastructure, Better Enrollment-Ratio\",\"Less-Infrastructure, Better Enrollment-Ratio\",\"Less-Infrastructure, Better Enrollment-Ratio\",\"Less-Infrastructure, Better Enrollment-Ratio\",\"Less-Infrastructure, Better Enrollment-Ratio\",\"Less-Infrastructure, Better Enrollment-Ratio\",\"Less-Infrastructure, Better Enrollment-Ratio\",\"Less-Infrastructure, Better Enrollment-Ratio\",\"Less-Infrastructure, Better Enrollment-Ratio\",\"Less-Infrastructure, Better Enrollment-Ratio\",\"Less-Infrastructure, Better Enrollment-Ratio\",\"Less-Infrastructure, Better Enrollment-Ratio\",\"Less-Infrastructure, Better Enrollment-Ratio\",\"Less-Infrastructure, Better Enrollment-Ratio\",\"Less-Infrastructure, Better Enrollment-Ratio\",\"Less-Infrastructure, Better Enrollment-Ratio\",\"Less-Infrastructure, Better Enrollment-Ratio\",\"Less-Infrastructure, Better Enrollment-Ratio\",\"Less-Infrastructure, Better Enrollment-Ratio\",\"Less-Infrastructure, Better Enrollment-Ratio\",\"Less-Infrastructure, Better Enrollment-Ratio\",\"Less-Infrastructure, Better Enrollment-Ratio\",\"Less-Infrastructure, Better Enrollment-Ratio\",\"Less-Infrastructure, Better Enrollment-Ratio\",\"Less-Infrastructure, Better Enrollment-Ratio\",\"Less-Infrastructure, Better Enrollment-Ratio\",\"Less-Infrastructure, Better Enrollment-Ratio\",\"Less-Infrastructure, Better Enrollment-Ratio\",\"Less-Infrastructure, Better Enrollment-Ratio\",\"Less-Infrastructure, Better Enrollment-Ratio\",\"Less-Infrastructure, Better Enrollment-Ratio\",\"Less-Infrastructure, Better Enrollment-Ratio\",\"Less-Infrastructure, Better Enrollment-Ratio\",\"Less-Infrastructure, Better Enrollment-Ratio\",\"Less-Infrastructure, Better Enrollment-Ratio\",\"Less-Infrastructure, Better Enrollment-Ratio\",\"Less-Infrastructure, Better Enrollment-Ratio\",\"Less-Infrastructure, Better Enrollment-Ratio\",\"Less-Infrastructure, Better Enrollment-Ratio\",\"Less-Infrastructure, Better Enrollment-Ratio\",\"Less-Infrastructure, Better Enrollment-Ratio\",\"Less-Infrastructure, Better Enrollment-Ratio\",\"Less-Infrastructure, Better Enrollment-Ratio\",\"Less-Infrastructure, Better Enrollment-Ratio\",\"Less-Infrastructure, Better Enrollment-Ratio\",\"Less-Infrastructure, Better Enrollment-Ratio\",\"Less-Infrastructure, Better Enrollment-Ratio\",\"Less-Infrastructure, Better Enrollment-Ratio\",\"Less-Infrastructure, Better Enrollment-Ratio\",\"Less-Infrastructure, Better Enrollment-Ratio\",\"Less-Infrastructure, Better Enrollment-Ratio\",\"Less-Infrastructure, Better Enrollment-Ratio\",\"Less-Infrastructure, Better Enrollment-Ratio\",\"Less-Infrastructure, Better Enrollment-Ratio\",\"Less-Infrastructure, Better Enrollment-Ratio\",\"Less-Infrastructure, Better Enrollment-Ratio\",\"Less-Infrastructure, Better Enrollment-Ratio\",\"Less-Infrastructure, Better Enrollment-Ratio\",\"Less-Infrastructure, Better Enrollment-Ratio\",\"Less-Infrastructure, Better Enrollment-Ratio\",\"Less-Infrastructure, Better Enrollment-Ratio\",\"Less-Infrastructure, Better Enrollment-Ratio\",\"Less-Infrastructure, Better Enrollment-Ratio\",\"Less-Infrastructure, Better Enrollment-Ratio\",\"Less-Infrastructure, Better Enrollment-Ratio\",\"Less-Infrastructure, Better Enrollment-Ratio\",\"Less-Infrastructure, Better Enrollment-Ratio\",\"Less-Infrastructure, Better Enrollment-Ratio\",\"Less-Infrastructure, Better Enrollment-Ratio\",\"Less-Infrastructure, Better Enrollment-Ratio\",\"Less-Infrastructure, Better Enrollment-Ratio\",\"Less-Infrastructure, Better Enrollment-Ratio\",\"Less-Infrastructure, Better Enrollment-Ratio\",\"Less-Infrastructure, Better Enrollment-Ratio\",\"Less-Infrastructure, Better Enrollment-Ratio\",\"Less-Infrastructure, Better Enrollment-Ratio\",\"Less-Infrastructure, Better Enrollment-Ratio\",\"Less-Infrastructure, Better Enrollment-Ratio\",\"Less-Infrastructure, Better Enrollment-Ratio\",\"Less-Infrastructure, Better Enrollment-Ratio\",\"Less-Infrastructure, Better Enrollment-Ratio\",\"Less-Infrastructure, Better Enrollment-Ratio\",\"Less-Infrastructure, Better Enrollment-Ratio\",\"Less-Infrastructure, Better Enrollment-Ratio\",\"Less-Infrastructure, Better Enrollment-Ratio\",\"Less-Infrastructure, Better Enrollment-Ratio\",\"Less-Infrastructure, Better Enrollment-Ratio\",\"Less-Infrastructure, Better Enrollment-Ratio\",\"Less-Infrastructure, Better Enrollment-Ratio\",\"Less-Infrastructure, Better Enrollment-Ratio\",\"Less-Infrastructure, Better Enrollment-Ratio\",\"Less-Infrastructure, Better Enrollment-Ratio\",\"Less-Infrastructure, Better Enrollment-Ratio\",\"Less-Infrastructure, Better Enrollment-Ratio\",\"Less-Infrastructure, Better Enrollment-Ratio\",\"Less-Infrastructure, Better Enrollment-Ratio\",\"Less-Infrastructure, Better Enrollment-Ratio\",\"Less-Infrastructure, Better Enrollment-Ratio\",\"Less-Infrastructure, Better Enrollment-Ratio\",\"Less-Infrastructure, Better Enrollment-Ratio\",\"Less-Infrastructure, Better Enrollment-Ratio\",\"Less-Infrastructure, Better Enrollment-Ratio\",\"Less-Infrastructure, Better Enrollment-Ratio\",\"Less-Infrastructure, Better Enrollment-Ratio\",\"Less-Infrastructure, Better Enrollment-Ratio\",\"Less-Infrastructure, Better Enrollment-Ratio\",\"Less-Infrastructure, Better Enrollment-Ratio\",\"Less-Infrastructure, Better Enrollment-Ratio\",\"Less-Infrastructure, Better Enrollment-Ratio\",\"Less-Infrastructure, Better Enrollment-Ratio\",\"Less-Infrastructure, Better Enrollment-Ratio\",\"Less-Infrastructure, Better Enrollment-Ratio\",\"Less-Infrastructure, Better Enrollment-Ratio\",\"Less-Infrastructure, Better Enrollment-Ratio\",\"Less-Infrastructure, Better Enrollment-Ratio\",\"Less-Infrastructure, Better Enrollment-Ratio\",\"Less-Infrastructure, Better Enrollment-Ratio\",\"Less-Infrastructure, Better Enrollment-Ratio\",\"Less-Infrastructure, Better Enrollment-Ratio\",\"Less-Infrastructure, Better Enrollment-Ratio\",\"Less-Infrastructure, Better Enrollment-Ratio\",\"Less-Infrastructure, Better Enrollment-Ratio\",\"Less-Infrastructure, Better Enrollment-Ratio\",\"Less-Infrastructure, Better Enrollment-Ratio\",\"Less-Infrastructure, Better Enrollment-Ratio\",\"Less-Infrastructure, Better Enrollment-Ratio\",\"Less-Infrastructure, Better Enrollment-Ratio\",\"Less-Infrastructure, Better Enrollment-Ratio\",\"Less-Infrastructure, Better Enrollment-Ratio\",\"Less-Infrastructure, Better Enrollment-Ratio\",\"Less-Infrastructure, Better Enrollment-Ratio\",\"Less-Infrastructure, Better Enrollment-Ratio\",\"Less-Infrastructure, Better Enrollment-Ratio\",\"Less-Infrastructure, Better Enrollment-Ratio\",\"Less-Infrastructure, Better Enrollment-Ratio\",\"Less-Infrastructure, Better Enrollment-Ratio\",\"Less-Infrastructure, Better Enrollment-Ratio\",\"Less-Infrastructure, Better Enrollment-Ratio\",\"Higher Infrastructure, Lesser Enrollment-Ratio\",\"Higher Infrastructure, Lesser Enrollment-Ratio\",\"Higher Infrastructure, Lesser Enrollment-Ratio\",\"Higher Infrastructure, Lesser Enrollment-Ratio\",\"Higher Infrastructure, Lesser Enrollment-Ratio\",\"Higher Infrastructure, Lesser Enrollment-Ratio\",\"Higher Infrastructure, Lesser Enrollment-Ratio\",\"Less-Infrastructure, Better Enrollment-Ratio\",\"Higher Infrastructure, Lesser Enrollment-Ratio\",\"Higher Infrastructure, Lesser Enrollment-Ratio\",\"Higher Infrastructure, Lesser Enrollment-Ratio\",\"Higher Infrastructure, Lesser Enrollment-Ratio\",\"Higher Infrastructure, Lesser Enrollment-Ratio\",\"Higher Infrastructure, Lesser Enrollment-Ratio\",\"Higher Infrastructure, Lesser Enrollment-Ratio\",\"Higher Infrastructure, Lesser Enrollment-Ratio\",\"Higher Infrastructure, Lesser Enrollment-Ratio\",\"Higher Infrastructure, Lesser Enrollment-Ratio\",\"Higher Infrastructure, Lesser Enrollment-Ratio\",\"Higher Infrastructure, Lesser Enrollment-Ratio\",\"Higher Infrastructure, Lesser Enrollment-Ratio\",\"Higher Infrastructure, Lesser Enrollment-Ratio\",\"Higher Infrastructure, Lesser Enrollment-Ratio\",\"Higher Infrastructure, Lesser Enrollment-Ratio\",\"Higher Infrastructure, Lesser Enrollment-Ratio\",\"Higher Infrastructure, Lesser Enrollment-Ratio\",\"Higher Infrastructure, Lesser Enrollment-Ratio\",\"Higher Infrastructure, Lesser Enrollment-Ratio\",\"Higher Infrastructure, Lesser Enrollment-Ratio\",\"Higher Infrastructure, Lesser Enrollment-Ratio\",\"Higher Infrastructure, Lesser Enrollment-Ratio\",\"Higher Infrastructure, Lesser Enrollment-Ratio\",\"Higher Infrastructure, Lesser Enrollment-Ratio\",\"Higher Infrastructure, Lesser Enrollment-Ratio\",\"Higher Infrastructure, Lesser Enrollment-Ratio\",\"Higher Infrastructure, Lesser Enrollment-Ratio\",\"Higher Infrastructure, Lesser Enrollment-Ratio\",\"Higher Infrastructure, Lesser Enrollment-Ratio\",\"Higher Infrastructure, Lesser Enrollment-Ratio\",\"Higher Infrastructure, Lesser Enrollment-Ratio\",\"Higher Infrastructure, Lesser Enrollment-Ratio\",\"Higher Infrastructure, Lesser Enrollment-Ratio\",\"Higher Infrastructure, Lesser Enrollment-Ratio\",\"Higher Infrastructure, Lesser Enrollment-Ratio\",\"Higher Infrastructure, Lesser Enrollment-Ratio\",\"Higher Infrastructure, Lesser Enrollment-Ratio\",\"Higher Infrastructure, Lesser Enrollment-Ratio\",\"Higher Infrastructure, Lesser Enrollment-Ratio\",\"Higher Infrastructure, Lesser Enrollment-Ratio\",\"Higher Infrastructure, Lesser Enrollment-Ratio\",\"Higher Infrastructure, Lesser Enrollment-Ratio\",\"Higher Infrastructure, Lesser Enrollment-Ratio\",\"Higher Infrastructure, Lesser Enrollment-Ratio\",\"Higher Infrastructure, Lesser Enrollment-Ratio\",\"Higher Infrastructure, Lesser Enrollment-Ratio\",\"Higher Infrastructure, Lesser Enrollment-Ratio\",\"Higher Infrastructure, Lesser Enrollment-Ratio\",\"Higher Infrastructure, Lesser Enrollment-Ratio\",\"Higher Infrastructure, Lesser Enrollment-Ratio\",\"Higher Infrastructure, Lesser Enrollment-Ratio\",\"Higher Infrastructure, Lesser Enrollment-Ratio\",\"Higher Infrastructure, Lesser Enrollment-Ratio\",\"Higher Infrastructure, Lesser Enrollment-Ratio\",\"Higher Infrastructure, Lesser Enrollment-Ratio\",\"Higher Infrastructure, Lesser Enrollment-Ratio\",\"Higher Infrastructure, Lesser Enrollment-Ratio\",\"Higher Infrastructure, Lesser Enrollment-Ratio\",\"Higher Infrastructure, Lesser Enrollment-Ratio\",\"Higher Infrastructure, Lesser Enrollment-Ratio\",\"Higher Infrastructure, Lesser Enrollment-Ratio\",\"Higher Infrastructure, Lesser Enrollment-Ratio\",\"Higher Infrastructure, Lesser Enrollment-Ratio\",\"Higher Infrastructure, Lesser Enrollment-Ratio\",\"Higher Infrastructure, Lesser Enrollment-Ratio\",\"Higher Infrastructure, Lesser Enrollment-Ratio\",\"Higher Infrastructure, Lesser Enrollment-Ratio\",\"Higher Infrastructure, Lesser Enrollment-Ratio\",\"Higher Infrastructure, Lesser Enrollment-Ratio\",\"Higher Infrastructure, Lesser Enrollment-Ratio\",\"Higher Infrastructure, Lesser Enrollment-Ratio\",\"Higher Infrastructure, Lesser Enrollment-Ratio\",\"Higher Infrastructure, Lesser Enrollment-Ratio\",\"Higher Infrastructure, Lesser Enrollment-Ratio\",\"Higher Infrastructure, Lesser Enrollment-Ratio\",\"Higher Infrastructure, Lesser Enrollment-Ratio\",\"Higher Infrastructure, Lesser Enrollment-Ratio\",\"Higher Infrastructure, Lesser Enrollment-Ratio\",\"Higher Infrastructure, Lesser Enrollment-Ratio\",\"Higher Infrastructure, Lesser Enrollment-Ratio\",\"Higher Infrastructure, Lesser Enrollment-Ratio\",\"Higher Infrastructure, Lesser Enrollment-Ratio\",\"Higher Infrastructure, Lesser Enrollment-Ratio\",\"Higher Infrastructure, Lesser Enrollment-Ratio\",\"Higher Infrastructure, Lesser Enrollment-Ratio\",\"Higher Infrastructure, Lesser Enrollment-Ratio\",\"Higher Infrastructure, Lesser Enrollment-Ratio\",\"Higher Infrastructure, Lesser Enrollment-Ratio\",\"Higher Infrastructure, Lesser Enrollment-Ratio\",\"Higher Infrastructure, Lesser Enrollment-Ratio\",\"Higher Infrastructure, Lesser Enrollment-Ratio\",\"Higher Infrastructure, Lesser Enrollment-Ratio\",\"Higher Infrastructure, Lesser Enrollment-Ratio\",\"Higher Infrastructure, Lesser Enrollment-Ratio\",\"Higher Infrastructure, Lesser Enrollment-Ratio\",\"Higher Infrastructure, Lesser Enrollment-Ratio\",\"Higher Infrastructure, Lesser Enrollment-Ratio\",\"Higher Infrastructure, Lesser Enrollment-Ratio\",\"Higher Infrastructure, Lesser Enrollment-Ratio\",\"Higher Infrastructure, Lesser Enrollment-Ratio\",\"Higher Infrastructure, Lesser Enrollment-Ratio\",\"Higher Infrastructure, Lesser Enrollment-Ratio\",\"Higher Infrastructure, Lesser Enrollment-Ratio\",\"Higher Infrastructure, Lesser Enrollment-Ratio\",\"Higher Infrastructure, Lesser Enrollment-Ratio\",\"Higher Infrastructure, Lesser Enrollment-Ratio\",\"Higher Infrastructure, Lesser Enrollment-Ratio\",\"Higher Infrastructure, Lesser Enrollment-Ratio\",\"Higher Infrastructure, Lesser Enrollment-Ratio\",\"Higher Infrastructure, Lesser Enrollment-Ratio\",\"Higher Infrastructure, Lesser Enrollment-Ratio\",\"Higher Infrastructure, Lesser Enrollment-Ratio\",\"Higher Infrastructure, Lesser Enrollment-Ratio\",\"Higher Infrastructure, Lesser Enrollment-Ratio\",\"Higher Infrastructure, Lesser Enrollment-Ratio\",\"Higher Infrastructure, Lesser Enrollment-Ratio\",\"Higher Infrastructure, Lesser Enrollment-Ratio\",\"Higher Infrastructure, Lesser Enrollment-Ratio\",\"Higher Infrastructure, Lesser Enrollment-Ratio\",\"Higher Infrastructure, Lesser Enrollment-Ratio\",\"Higher Infrastructure, Lesser Enrollment-Ratio\",\"Higher Infrastructure, Lesser Enrollment-Ratio\",\"Higher Infrastructure, Lesser Enrollment-Ratio\",\"Higher Infrastructure, Lesser Enrollment-Ratio\",\"Higher Infrastructure, Lesser Enrollment-Ratio\",\"Higher Infrastructure, Lesser Enrollment-Ratio\",\"Higher Infrastructure, Lesser Enrollment-Ratio\",\"Higher Infrastructure, Lesser Enrollment-Ratio\",\"Higher Infrastructure, Lesser Enrollment-Ratio\",\"Higher Infrastructure, Lesser Enrollment-Ratio\",\"Higher Infrastructure, Lesser Enrollment-Ratio\",\"Higher Infrastructure, Lesser Enrollment-Ratio\",\"Higher Infrastructure, Lesser Enrollment-Ratio\",\"Higher Infrastructure, Lesser Enrollment-Ratio\",\"Higher Infrastructure, Lesser Enrollment-Ratio\",\"Higher Infrastructure, Lesser Enrollment-Ratio\",\"Higher Infrastructure, Lesser Enrollment-Ratio\",\"Higher Infrastructure, Lesser Enrollment-Ratio\",\"Higher Infrastructure, Lesser Enrollment-Ratio\",\"Higher Infrastructure, Lesser Enrollment-Ratio\",\"Higher Infrastructure, Lesser Enrollment-Ratio\",\"Higher Infrastructure, Lesser Enrollment-Ratio\",\"Higher Infrastructure, Lesser Enrollment-Ratio\",\"Higher Infrastructure, Lesser Enrollment-Ratio\",\"Higher Infrastructure, Lesser Enrollment-Ratio\",\"Higher Infrastructure, Lesser Enrollment-Ratio\",\"Higher Infrastructure, Lesser Enrollment-Ratio\",\"Higher Infrastructure, Lesser Enrollment-Ratio\",\"Higher Infrastructure, Lesser Enrollment-Ratio\",\"Higher Infrastructure, Lesser Enrollment-Ratio\",\"Higher Infrastructure, Lesser Enrollment-Ratio\",\"Higher Infrastructure, Lesser Enrollment-Ratio\",\"Higher Infrastructure, Lesser Enrollment-Ratio\",\"Higher Infrastructure, Lesser Enrollment-Ratio\",\"Higher Infrastructure, Lesser Enrollment-Ratio\",\"Higher Infrastructure, Lesser Enrollment-Ratio\",\"Higher Infrastructure, Lesser Enrollment-Ratio\",\"Higher Infrastructure, Lesser Enrollment-Ratio\",\"Higher Infrastructure, Lesser Enrollment-Ratio\",\"Higher Infrastructure, Lesser Enrollment-Ratio\",\"Higher Infrastructure, Lesser Enrollment-Ratio\",\"Higher Infrastructure, Lesser Enrollment-Ratio\",\"Higher Infrastructure, Lesser Enrollment-Ratio\",\"Higher Infrastructure, Lesser Enrollment-Ratio\",\"Higher Infrastructure, Lesser Enrollment-Ratio\",\"Higher Infrastructure, Lesser Enrollment-Ratio\",\"Higher Infrastructure, Lesser Enrollment-Ratio\",\"Higher Infrastructure, Lesser Enrollment-Ratio\",\"Higher Infrastructure, Lesser Enrollment-Ratio\",\"Higher Infrastructure, Lesser Enrollment-Ratio\",\"Higher Infrastructure, Lesser Enrollment-Ratio\",\"Higher Infrastructure, Lesser Enrollment-Ratio\",\"Higher Infrastructure, Lesser Enrollment-Ratio\",\"Higher Infrastructure, Lesser Enrollment-Ratio\",\"Higher Infrastructure, Lesser Enrollment-Ratio\",\"Higher Infrastructure, Lesser Enrollment-Ratio\",\"Higher Infrastructure, Lesser Enrollment-Ratio\",\"Higher Infrastructure, Lesser Enrollment-Ratio\",\"Higher Infrastructure, Lesser Enrollment-Ratio\",\"Higher Infrastructure, Lesser Enrollment-Ratio\",\"Higher Infrastructure, Lesser Enrollment-Ratio\",\"Higher Infrastructure, Lesser Enrollment-Ratio\",\"Higher Infrastructure, Lesser Enrollment-Ratio\",\"Higher Infrastructure, Lesser Enrollment-Ratio\",\"Higher Infrastructure, Lesser Enrollment-Ratio\",\"Higher Infrastructure, Lesser Enrollment-Ratio\",\"Higher Infrastructure, Lesser Enrollment-Ratio\",\"Higher Infrastructure, Lesser Enrollment-Ratio\",\"Higher Infrastructure, Lesser Enrollment-Ratio\",\"Higher Infrastructure, Lesser Enrollment-Ratio\",\"Higher Infrastructure, Lesser Enrollment-Ratio\",\"Higher Infrastructure, Lesser Enrollment-Ratio\",\"Higher Infrastructure, Lesser Enrollment-Ratio\",\"Higher Infrastructure, Lesser Enrollment-Ratio\",\"Higher Infrastructure, Lesser Enrollment-Ratio\",\"Higher Infrastructure, Lesser Enrollment-Ratio\",\"Higher Infrastructure, Lesser Enrollment-Ratio\",\"Higher Infrastructure, Lesser Enrollment-Ratio\",\"Higher Infrastructure, Lesser Enrollment-Ratio\",\"Higher Infrastructure, Lesser Enrollment-Ratio\",\"Higher Infrastructure, Lesser Enrollment-Ratio\",\"Higher Infrastructure, Lesser Enrollment-Ratio\",\"Higher Infrastructure, Lesser Enrollment-Ratio\",\"Higher Infrastructure, Lesser Enrollment-Ratio\",\"Higher Infrastructure, Lesser Enrollment-Ratio\",\"Higher Infrastructure, Lesser Enrollment-Ratio\",\"Higher Infrastructure, Lesser Enrollment-Ratio\",\"Higher Infrastructure, Lesser Enrollment-Ratio\",\"Higher Infrastructure, Lesser Enrollment-Ratio\",\"Higher Infrastructure, Lesser Enrollment-Ratio\",\"Higher Infrastructure, Lesser Enrollment-Ratio\",\"Higher Infrastructure, Lesser Enrollment-Ratio\",\"Higher Infrastructure, Lesser Enrollment-Ratio\",\"Higher Infrastructure, Lesser Enrollment-Ratio\",\"Higher Infrastructure, Lesser Enrollment-Ratio\",\"Higher Infrastructure, Lesser Enrollment-Ratio\",\"Higher Infrastructure, Lesser Enrollment-Ratio\",\"Higher Infrastructure, Lesser Enrollment-Ratio\",\"Higher Infrastructure, Lesser Enrollment-Ratio\",\"Higher Infrastructure, Lesser Enrollment-Ratio\",\"Higher Infrastructure, Lesser Enrollment-Ratio\",\"Higher Infrastructure, Lesser Enrollment-Ratio\",\"Higher Infrastructure, Lesser Enrollment-Ratio\",\"Higher Infrastructure, Lesser Enrollment-Ratio\",\"Higher Infrastructure, Lesser Enrollment-Ratio\",\"Higher Infrastructure, Lesser Enrollment-Ratio\",\"Higher Infrastructure, Lesser Enrollment-Ratio\",\"Higher Infrastructure, Lesser Enrollment-Ratio\",\"Higher Infrastructure, Lesser Enrollment-Ratio\",\"Higher Infrastructure, Lesser Enrollment-Ratio\",\"Higher Infrastructure, Lesser Enrollment-Ratio\",\"Higher Infrastructure, Lesser Enrollment-Ratio\",\"Higher Infrastructure, Lesser Enrollment-Ratio\",\"Higher Infrastructure, Lesser Enrollment-Ratio\",\"Higher Infrastructure, Lesser Enrollment-Ratio\",\"Higher Infrastructure, Lesser Enrollment-Ratio\",\"Higher Infrastructure, Lesser Enrollment-Ratio\",\"Higher Infrastructure, Lesser Enrollment-Ratio\",\"Higher Infrastructure, Lesser Enrollment-Ratio\",\"Higher Infrastructure, Lesser Enrollment-Ratio\",\"Higher Infrastructure, Lesser Enrollment-Ratio\",\"Higher Infrastructure, Lesser Enrollment-Ratio\",\"Higher Infrastructure, Lesser Enrollment-Ratio\",\"Higher Infrastructure, Lesser Enrollment-Ratio\",\"Higher Infrastructure, Lesser Enrollment-Ratio\",\"Higher Infrastructure, Lesser Enrollment-Ratio\",\"Higher Infrastructure, Lesser Enrollment-Ratio\",\"Higher Infrastructure, Lesser Enrollment-Ratio\",\"Higher Infrastructure, Lesser Enrollment-Ratio\",\"Higher Infrastructure, Lesser Enrollment-Ratio\",\"Higher Infrastructure, Lesser Enrollment-Ratio\",\"Higher Infrastructure, Lesser Enrollment-Ratio\",\"Higher Infrastructure, Lesser Enrollment-Ratio\",\"Higher Infrastructure, Lesser Enrollment-Ratio\",\"Higher Infrastructure, Lesser Enrollment-Ratio\",\"Higher Infrastructure, Lesser Enrollment-Ratio\",\"Higher Infrastructure, Lesser Enrollment-Ratio\",\"Higher Infrastructure, Lesser Enrollment-Ratio\",\"Less-Infrastructure, Better Enrollment-Ratio\",\"Less-Infrastructure, Better Enrollment-Ratio\",\"Less-Infrastructure, Better Enrollment-Ratio\",\"Less-Infrastructure, Better Enrollment-Ratio\",\"Less-Infrastructure, Better Enrollment-Ratio\",\"Less-Infrastructure, Better Enrollment-Ratio\",\"Less-Infrastructure, Better Enrollment-Ratio\",\"Less-Infrastructure, Better Enrollment-Ratio\",\"Less-Infrastructure, Better Enrollment-Ratio\",\"Less-Infrastructure, Better Enrollment-Ratio\",\"Less-Infrastructure, Better Enrollment-Ratio\",\"Less-Infrastructure, Better Enrollment-Ratio\",\"Less-Infrastructure, Better Enrollment-Ratio\",\"Less-Infrastructure, Better Enrollment-Ratio\",\"Less-Infrastructure, Better Enrollment-Ratio\",\"Less-Infrastructure, Better Enrollment-Ratio\",\"Less-Infrastructure, Better Enrollment-Ratio\",\"Less-Infrastructure, Better Enrollment-Ratio\",\"Less-Infrastructure, Better Enrollment-Ratio\",\"Less-Infrastructure, Better Enrollment-Ratio\",\"Less-Infrastructure, Better Enrollment-Ratio\",\"Higher Infrastructure, Lesser Enrollment-Ratio\",\"Higher Infrastructure, Lesser Enrollment-Ratio\",\"Higher Infrastructure, Lesser Enrollment-Ratio\",\"Higher Infrastructure, Lesser Enrollment-Ratio\",\"Higher Infrastructure, Lesser Enrollment-Ratio\",\"Higher Infrastructure, Lesser Enrollment-Ratio\",\"Higher Infrastructure, Lesser Enrollment-Ratio\",\"Higher Infrastructure, Lesser Enrollment-Ratio\",\"Higher Infrastructure, Lesser Enrollment-Ratio\",\"Less-Infrastructure, Better Enrollment-Ratio\",\"Higher Infrastructure, Lesser Enrollment-Ratio\",\"Higher Infrastructure, Lesser Enrollment-Ratio\",\"Higher Infrastructure, Lesser Enrollment-Ratio\",\"Higher Infrastructure, Lesser Enrollment-Ratio\",\"Higher Infrastructure, Lesser Enrollment-Ratio\",\"Higher Infrastructure, Lesser Enrollment-Ratio\",\"Higher Infrastructure, Lesser Enrollment-Ratio\",\"Higher Infrastructure, Lesser Enrollment-Ratio\",\"Higher Infrastructure, Lesser Enrollment-Ratio\",\"Higher Infrastructure, Lesser Enrollment-Ratio\",\"Higher Infrastructure, Lesser Enrollment-Ratio\",\"Higher Infrastructure, Lesser Enrollment-Ratio\",\"Higher Infrastructure, Lesser Enrollment-Ratio\",\"Higher Infrastructure, Lesser Enrollment-Ratio\",\"Higher Infrastructure, Lesser Enrollment-Ratio\",\"Higher Infrastructure, Lesser Enrollment-Ratio\",\"Higher Infrastructure, Lesser Enrollment-Ratio\",\"Higher Infrastructure, Lesser Enrollment-Ratio\",\"Higher Infrastructure, Lesser Enrollment-Ratio\",\"Higher Infrastructure, Lesser Enrollment-Ratio\",\"Higher Infrastructure, Lesser Enrollment-Ratio\",\"Higher Infrastructure, Lesser Enrollment-Ratio\",\"Higher Infrastructure, Lesser Enrollment-Ratio\",\"Higher Infrastructure, Lesser Enrollment-Ratio\",\"Higher Infrastructure, Lesser Enrollment-Ratio\",\"Higher Infrastructure, Lesser Enrollment-Ratio\",\"Higher Infrastructure, Lesser Enrollment-Ratio\",\"Higher Infrastructure, Lesser Enrollment-Ratio\",\"Higher Infrastructure, Lesser Enrollment-Ratio\",\"Higher Infrastructure, Lesser Enrollment-Ratio\",\"Higher Infrastructure, Lesser Enrollment-Ratio\",\"Less-Infrastructure, Better Enrollment-Ratio\",\"Higher Infrastructure, Lesser Enrollment-Ratio\",\"Higher Infrastructure, Lesser Enrollment-Ratio\",\"Higher Infrastructure, Lesser Enrollment-Ratio\",\"Higher Infrastructure, Lesser Enrollment-Ratio\",\"Higher Infrastructure, Lesser Enrollment-Ratio\",\"Higher Infrastructure, Lesser Enrollment-Ratio\",\"Higher Infrastructure, Lesser Enrollment-Ratio\",\"Higher Infrastructure, Lesser Enrollment-Ratio\",\"Higher Infrastructure, Lesser Enrollment-Ratio\",\"Higher Infrastructure, Lesser Enrollment-Ratio\",\"Higher Infrastructure, Lesser Enrollment-Ratio\",\"Higher Infrastructure, Lesser Enrollment-Ratio\",\"Higher Infrastructure, Lesser Enrollment-Ratio\",\"Higher Infrastructure, Lesser Enrollment-Ratio\",\"Higher Infrastructure, Lesser Enrollment-Ratio\",\"Higher Infrastructure, Lesser Enrollment-Ratio\",\"Higher Infrastructure, Lesser Enrollment-Ratio\",\"Higher Infrastructure, Lesser Enrollment-Ratio\",\"Higher Infrastructure, Lesser Enrollment-Ratio\",\"Higher Infrastructure, Lesser Enrollment-Ratio\",\"Higher Infrastructure, Lesser Enrollment-Ratio\",\"Higher Infrastructure, Lesser Enrollment-Ratio\",\"Higher Infrastructure, Lesser Enrollment-Ratio\",\"Higher Infrastructure, Lesser Enrollment-Ratio\",\"Higher Infrastructure, Lesser Enrollment-Ratio\",\"Higher Infrastructure, Lesser Enrollment-Ratio\",\"Higher Infrastructure, Lesser Enrollment-Ratio\",\"Higher Infrastructure, Lesser Enrollment-Ratio\",\"Higher Infrastructure, Lesser Enrollment-Ratio\",\"Higher Infrastructure, Lesser Enrollment-Ratio\",\"Higher Infrastructure, Lesser Enrollment-Ratio\",\"Higher Infrastructure, Lesser Enrollment-Ratio\",\"Higher Infrastructure, Lesser Enrollment-Ratio\",\"Higher Infrastructure, Lesser Enrollment-Ratio\",\"Less-Infrastructure, Better Enrollment-Ratio\",\"Higher Infrastructure, Lesser Enrollment-Ratio\",\"Higher Infrastructure, Lesser Enrollment-Ratio\",\"Higher Infrastructure, Lesser Enrollment-Ratio\",\"Higher Infrastructure, Lesser Enrollment-Ratio\",\"Higher Infrastructure, Lesser Enrollment-Ratio\",\"Higher Infrastructure, Lesser Enrollment-Ratio\",\"Higher Infrastructure, Lesser Enrollment-Ratio\",\"Higher Infrastructure, Lesser Enrollment-Ratio\",\"Higher Infrastructure, Lesser Enrollment-Ratio\",\"Higher Infrastructure, Lesser Enrollment-Ratio\",\"Higher Infrastructure, Lesser Enrollment-Ratio\",\"Higher Infrastructure, Lesser Enrollment-Ratio\",\"Higher Infrastructure, Lesser Enrollment-Ratio\",\"Higher Infrastructure, Lesser Enrollment-Ratio\",\"Higher Infrastructure, Lesser Enrollment-Ratio\",\"Higher Infrastructure, Lesser Enrollment-Ratio\",\"Higher Infrastructure, Lesser Enrollment-Ratio\",\"Higher Infrastructure, Lesser Enrollment-Ratio\",\"Higher Infrastructure, Lesser Enrollment-Ratio\",\"Higher Infrastructure, Lesser Enrollment-Ratio\",\"Higher Infrastructure, Lesser Enrollment-Ratio\",\"Higher Infrastructure, Lesser Enrollment-Ratio\",\"Higher Infrastructure, Lesser Enrollment-Ratio\",\"Higher Infrastructure, Lesser Enrollment-Ratio\",\"Higher Infrastructure, Lesser Enrollment-Ratio\",\"Higher Infrastructure, Lesser Enrollment-Ratio\",\"Higher Infrastructure, Lesser Enrollment-Ratio\",\"Higher Infrastructure, Lesser Enrollment-Ratio\",\"Higher Infrastructure, Lesser Enrollment-Ratio\",\"Higher Infrastructure, Lesser Enrollment-Ratio\",\"Higher Infrastructure, Lesser Enrollment-Ratio\",\"Higher Infrastructure, Lesser Enrollment-Ratio\",\"Higher Infrastructure, Lesser Enrollment-Ratio\",\"Higher Infrastructure, Lesser Enrollment-Ratio\",\"Higher Infrastructure, Lesser Enrollment-Ratio\",\"Higher Infrastructure, Lesser Enrollment-Ratio\",\"Higher Infrastructure, Lesser Enrollment-Ratio\",\"Higher Infrastructure, Lesser Enrollment-Ratio\",\"Higher Infrastructure, Lesser Enrollment-Ratio\",\"Higher Infrastructure, Lesser Enrollment-Ratio\",\"Higher Infrastructure, Lesser Enrollment-Ratio\",\"Higher Infrastructure, Lesser Enrollment-Ratio\",\"Higher Infrastructure, Lesser Enrollment-Ratio\",\"Higher Infrastructure, Lesser Enrollment-Ratio\",\"Higher Infrastructure, Lesser Enrollment-Ratio\",\"Higher Infrastructure, Lesser Enrollment-Ratio\",\"Higher Infrastructure, Lesser Enrollment-Ratio\",\"Higher Infrastructure, Lesser Enrollment-Ratio\",\"Higher Infrastructure, Lesser Enrollment-Ratio\",\"Higher Infrastructure, Lesser Enrollment-Ratio\",\"Higher Infrastructure, Lesser Enrollment-Ratio\",\"Higher Infrastructure, Lesser Enrollment-Ratio\",\"Higher Infrastructure, Lesser Enrollment-Ratio\",\"Higher Infrastructure, Lesser Enrollment-Ratio\",\"Higher Infrastructure, Lesser Enrollment-Ratio\",\"Higher Infrastructure, Lesser Enrollment-Ratio\",\"Higher Infrastructure, Lesser Enrollment-Ratio\",\"Higher Infrastructure, Lesser Enrollment-Ratio\",\"Higher Infrastructure, Lesser Enrollment-Ratio\",\"Higher Infrastructure, Lesser Enrollment-Ratio\",\"Higher Infrastructure, Lesser Enrollment-Ratio\",\"Higher Infrastructure, Lesser Enrollment-Ratio\",\"Higher Infrastructure, Lesser Enrollment-Ratio\",\"Higher Infrastructure, Lesser Enrollment-Ratio\",\"Higher Infrastructure, Lesser Enrollment-Ratio\",\"Higher Infrastructure, Lesser Enrollment-Ratio\",\"Higher Infrastructure, Lesser Enrollment-Ratio\",\"Higher Infrastructure, Lesser Enrollment-Ratio\",\"Higher Infrastructure, Lesser Enrollment-Ratio\",\"Higher Infrastructure, Lesser Enrollment-Ratio\",\"Higher Infrastructure, Lesser Enrollment-Ratio\",\"Higher Infrastructure, Lesser Enrollment-Ratio\",\"Higher Infrastructure, Lesser Enrollment-Ratio\",\"Higher Infrastructure, Lesser Enrollment-Ratio\",\"Higher Infrastructure, Lesser Enrollment-Ratio\",\"Higher Infrastructure, Lesser Enrollment-Ratio\",\"Higher Infrastructure, Lesser Enrollment-Ratio\",\"Higher Infrastructure, Lesser Enrollment-Ratio\",\"Higher Infrastructure, Lesser Enrollment-Ratio\",\"Higher Infrastructure, Lesser Enrollment-Ratio\",\"Higher Infrastructure, Lesser Enrollment-Ratio\",\"Higher Infrastructure, Lesser Enrollment-Ratio\",\"Higher Infrastructure, Lesser Enrollment-Ratio\",\"Higher Infrastructure, Lesser Enrollment-Ratio\",\"Higher Infrastructure, Lesser Enrollment-Ratio\",\"Higher Infrastructure, Lesser Enrollment-Ratio\",\"Higher Infrastructure, Lesser Enrollment-Ratio\",\"Higher Infrastructure, Lesser Enrollment-Ratio\",\"Higher Infrastructure, Lesser Enrollment-Ratio\",\"Higher Infrastructure, Lesser Enrollment-Ratio\",\"Higher Infrastructure, Lesser Enrollment-Ratio\",\"Higher Infrastructure, Lesser Enrollment-Ratio\",\"Higher Infrastructure, Lesser Enrollment-Ratio\",\"Higher Infrastructure, Lesser Enrollment-Ratio\",\"Higher Infrastructure, Lesser Enrollment-Ratio\",\"Higher Infrastructure, Lesser Enrollment-Ratio\",\"Higher Infrastructure, Lesser Enrollment-Ratio\",\"Higher Infrastructure, Lesser Enrollment-Ratio\",\"Higher Infrastructure, Lesser Enrollment-Ratio\",\"Higher Infrastructure, Lesser Enrollment-Ratio\",\"Higher Infrastructure, Lesser Enrollment-Ratio\",\"Higher Infrastructure, Lesser Enrollment-Ratio\",\"Higher Infrastructure, Lesser Enrollment-Ratio\",\"Higher Infrastructure, Lesser Enrollment-Ratio\",\"Higher Infrastructure, Lesser Enrollment-Ratio\",\"Higher Infrastructure, Lesser Enrollment-Ratio\",\"Higher Infrastructure, Lesser Enrollment-Ratio\",\"Higher Infrastructure, Lesser Enrollment-Ratio\",\"Higher Infrastructure, Lesser Enrollment-Ratio\",\"Higher Infrastructure, Lesser Enrollment-Ratio\",\"Higher Infrastructure, Lesser Enrollment-Ratio\",\"Higher Infrastructure, Lesser Enrollment-Ratio\",\"Higher Infrastructure, Lesser Enrollment-Ratio\",\"Higher Infrastructure, Lesser Enrollment-Ratio\",\"Higher Infrastructure, Lesser Enrollment-Ratio\",\"Higher Infrastructure, Lesser Enrollment-Ratio\",\"Higher Infrastructure, Lesser Enrollment-Ratio\",\"Higher Infrastructure, Lesser Enrollment-Ratio\",\"Higher Infrastructure, Lesser Enrollment-Ratio\",\"Higher Infrastructure, Lesser Enrollment-Ratio\",\"Higher Infrastructure, Lesser Enrollment-Ratio\",\"Higher Infrastructure, Lesser Enrollment-Ratio\",\"Higher Infrastructure, Lesser Enrollment-Ratio\",\"Higher Infrastructure, Lesser Enrollment-Ratio\",\"Higher Infrastructure, Lesser Enrollment-Ratio\",\"Higher Infrastructure, Lesser Enrollment-Ratio\",\"Higher Infrastructure, Lesser Enrollment-Ratio\",\"Higher Infrastructure, Lesser Enrollment-Ratio\"]},\"selected\":{\"id\":\"1444\"},\"selection_policy\":{\"id\":\"1443\"}},\"id\":\"1432\",\"type\":\"ColumnDataSource\"},{\"attributes\":{\"fill_color\":{\"field\":\"Colormap\",\"transform\":{\"id\":\"1430\"}},\"xs\":{\"field\":\"__x__\"},\"ys\":{\"field\":\"__y__\"}},\"id\":\"1434\",\"type\":\"MultiPolygons\"},{\"attributes\":{\"attribution\":\"&copy; <a href=\\\"https://www.openstreetmap.org/copyright\\\">OpenStreetMap</a> contributors,&copy; <a href=\\\"https://cartodb.com/attributions\\\">CartoDB</a>\",\"url\":\"https://tiles.basemaps.cartocdn.com/light_all/{z}/{x}/{y}@2x.png\"},\"id\":\"1426\",\"type\":\"WMTSTileSource\"},{\"attributes\":{\"text\":\"\"},\"id\":\"1385\",\"type\":\"Title\"},{\"attributes\":{},\"id\":\"1393\",\"type\":\"LinearScale\"}],\"root_ids\":[\"1384\"]},\"title\":\"Bokeh Application\",\"version\":\"2.1.1\"}};\n",
              "  var render_items = [{\"docid\":\"4c657348-1ede-47be-9146-8b540bd5d51d\",\"root_ids\":[\"1384\"],\"roots\":{\"1384\":\"0625fa4f-5e90-40f8-b97a-5f2c75ac1c34\"}}];\n",
              "  root.Bokeh.embed.embed_items_notebook(docs_json, render_items);\n",
              "\n",
              "  }\n",
              "  if (root.Bokeh !== undefined) {\n",
              "    embed_document(root);\n",
              "  } else {\n",
              "    var attempts = 0;\n",
              "    var timer = setInterval(function(root) {\n",
              "      if (root.Bokeh !== undefined) {\n",
              "        clearInterval(timer);\n",
              "        embed_document(root);\n",
              "      } else {\n",
              "        attempts++;\n",
              "        if (attempts > 100) {\n",
              "          clearInterval(timer);\n",
              "          console.log(\"Bokeh: ERROR: Unable to run BokehJS code because BokehJS library is missing\");\n",
              "        }\n",
              "      }\n",
              "    }, 10, root)\n",
              "  }\n",
              "})(window);"
            ],
            "application/vnd.bokehjs_exec.v0+json": ""
          },
          "metadata": {
            "tags": [],
            "application/vnd.bokehjs_exec.v0+json": {
              "id": "1384"
            }
          }
        },
        {
          "output_type": "execute_result",
          "data": {
            "text/html": [
              "<div style=\"display: table;\"><div style=\"display: table-row;\"><div style=\"display: table-cell;\"><b title=\"bokeh.plotting.figure.Figure\">Figure</b>(</div><div style=\"display: table-cell;\">id&nbsp;=&nbsp;'1384', <span id=\"1507\" style=\"cursor: pointer;\">&hellip;)</span></div></div><div class=\"1506\" style=\"display: none;\"><div style=\"display: table-cell;\"></div><div style=\"display: table-cell;\">above&nbsp;=&nbsp;[],</div></div><div class=\"1506\" style=\"display: none;\"><div style=\"display: table-cell;\"></div><div style=\"display: table-cell;\">align&nbsp;=&nbsp;'start',</div></div><div class=\"1506\" style=\"display: none;\"><div style=\"display: table-cell;\"></div><div style=\"display: table-cell;\">aspect_ratio&nbsp;=&nbsp;None,</div></div><div class=\"1506\" style=\"display: none;\"><div style=\"display: table-cell;\"></div><div style=\"display: table-cell;\">aspect_scale&nbsp;=&nbsp;1,</div></div><div class=\"1506\" style=\"display: none;\"><div style=\"display: table-cell;\"></div><div style=\"display: table-cell;\">background&nbsp;=&nbsp;None,</div></div><div class=\"1506\" style=\"display: none;\"><div style=\"display: table-cell;\"></div><div style=\"display: table-cell;\">background_fill_alpha&nbsp;=&nbsp;1.0,</div></div><div class=\"1506\" style=\"display: none;\"><div style=\"display: table-cell;\"></div><div style=\"display: table-cell;\">background_fill_color&nbsp;=&nbsp;'#ffffff',</div></div><div class=\"1506\" style=\"display: none;\"><div style=\"display: table-cell;\"></div><div style=\"display: table-cell;\">below&nbsp;=&nbsp;[MercatorAxis(id='1395', ...)],</div></div><div class=\"1506\" style=\"display: none;\"><div style=\"display: table-cell;\"></div><div style=\"display: table-cell;\">border_fill_alpha&nbsp;=&nbsp;1.0,</div></div><div class=\"1506\" style=\"display: none;\"><div style=\"display: table-cell;\"></div><div style=\"display: table-cell;\">border_fill_color&nbsp;=&nbsp;'#ffffff',</div></div><div class=\"1506\" style=\"display: none;\"><div style=\"display: table-cell;\"></div><div style=\"display: table-cell;\">center&nbsp;=&nbsp;[Grid(id='1402', ...), Grid(id='1410', ...), Legend(id='1446', ...)],</div></div><div class=\"1506\" style=\"display: none;\"><div style=\"display: table-cell;\"></div><div style=\"display: table-cell;\">css_classes&nbsp;=&nbsp;[],</div></div><div class=\"1506\" style=\"display: none;\"><div style=\"display: table-cell;\"></div><div style=\"display: table-cell;\">disabled&nbsp;=&nbsp;False,</div></div><div class=\"1506\" style=\"display: none;\"><div style=\"display: table-cell;\"></div><div style=\"display: table-cell;\">extra_x_ranges&nbsp;=&nbsp;{},</div></div><div class=\"1506\" style=\"display: none;\"><div style=\"display: table-cell;\"></div><div style=\"display: table-cell;\">extra_y_ranges&nbsp;=&nbsp;{},</div></div><div class=\"1506\" style=\"display: none;\"><div style=\"display: table-cell;\"></div><div style=\"display: table-cell;\">frame_height&nbsp;=&nbsp;None,</div></div><div class=\"1506\" style=\"display: none;\"><div style=\"display: table-cell;\"></div><div style=\"display: table-cell;\">frame_width&nbsp;=&nbsp;None,</div></div><div class=\"1506\" style=\"display: none;\"><div style=\"display: table-cell;\"></div><div style=\"display: table-cell;\">height&nbsp;=&nbsp;None,</div></div><div class=\"1506\" style=\"display: none;\"><div style=\"display: table-cell;\"></div><div style=\"display: table-cell;\">height_policy&nbsp;=&nbsp;'auto',</div></div><div class=\"1506\" style=\"display: none;\"><div style=\"display: table-cell;\"></div><div style=\"display: table-cell;\">hidpi&nbsp;=&nbsp;True,</div></div><div class=\"1506\" style=\"display: none;\"><div style=\"display: table-cell;\"></div><div style=\"display: table-cell;\">js_event_callbacks&nbsp;=&nbsp;{},</div></div><div class=\"1506\" style=\"display: none;\"><div style=\"display: table-cell;\"></div><div style=\"display: table-cell;\">js_property_callbacks&nbsp;=&nbsp;{},</div></div><div class=\"1506\" style=\"display: none;\"><div style=\"display: table-cell;\"></div><div style=\"display: table-cell;\">left&nbsp;=&nbsp;[MercatorAxis(id='1403', ...)],</div></div><div class=\"1506\" style=\"display: none;\"><div style=\"display: table-cell;\"></div><div style=\"display: table-cell;\">lod_factor&nbsp;=&nbsp;10,</div></div><div class=\"1506\" style=\"display: none;\"><div style=\"display: table-cell;\"></div><div style=\"display: table-cell;\">lod_interval&nbsp;=&nbsp;300,</div></div><div class=\"1506\" style=\"display: none;\"><div style=\"display: table-cell;\"></div><div style=\"display: table-cell;\">lod_threshold&nbsp;=&nbsp;2000,</div></div><div class=\"1506\" style=\"display: none;\"><div style=\"display: table-cell;\"></div><div style=\"display: table-cell;\">lod_timeout&nbsp;=&nbsp;500,</div></div><div class=\"1506\" style=\"display: none;\"><div style=\"display: table-cell;\"></div><div style=\"display: table-cell;\">margin&nbsp;=&nbsp;(0, 0, 0, 0),</div></div><div class=\"1506\" style=\"display: none;\"><div style=\"display: table-cell;\"></div><div style=\"display: table-cell;\">match_aspect&nbsp;=&nbsp;False,</div></div><div class=\"1506\" style=\"display: none;\"><div style=\"display: table-cell;\"></div><div style=\"display: table-cell;\">max_height&nbsp;=&nbsp;None,</div></div><div class=\"1506\" style=\"display: none;\"><div style=\"display: table-cell;\"></div><div style=\"display: table-cell;\">max_width&nbsp;=&nbsp;None,</div></div><div class=\"1506\" style=\"display: none;\"><div style=\"display: table-cell;\"></div><div style=\"display: table-cell;\">min_border&nbsp;=&nbsp;5,</div></div><div class=\"1506\" style=\"display: none;\"><div style=\"display: table-cell;\"></div><div style=\"display: table-cell;\">min_border_bottom&nbsp;=&nbsp;None,</div></div><div class=\"1506\" style=\"display: none;\"><div style=\"display: table-cell;\"></div><div style=\"display: table-cell;\">min_border_left&nbsp;=&nbsp;None,</div></div><div class=\"1506\" style=\"display: none;\"><div style=\"display: table-cell;\"></div><div style=\"display: table-cell;\">min_border_right&nbsp;=&nbsp;None,</div></div><div class=\"1506\" style=\"display: none;\"><div style=\"display: table-cell;\"></div><div style=\"display: table-cell;\">min_border_top&nbsp;=&nbsp;None,</div></div><div class=\"1506\" style=\"display: none;\"><div style=\"display: table-cell;\"></div><div style=\"display: table-cell;\">min_height&nbsp;=&nbsp;None,</div></div><div class=\"1506\" style=\"display: none;\"><div style=\"display: table-cell;\"></div><div style=\"display: table-cell;\">min_width&nbsp;=&nbsp;None,</div></div><div class=\"1506\" style=\"display: none;\"><div style=\"display: table-cell;\"></div><div style=\"display: table-cell;\">name&nbsp;=&nbsp;None,</div></div><div class=\"1506\" style=\"display: none;\"><div style=\"display: table-cell;\"></div><div style=\"display: table-cell;\">outline_line_alpha&nbsp;=&nbsp;1.0,</div></div><div class=\"1506\" style=\"display: none;\"><div style=\"display: table-cell;\"></div><div style=\"display: table-cell;\">outline_line_cap&nbsp;=&nbsp;'butt',</div></div><div class=\"1506\" style=\"display: none;\"><div style=\"display: table-cell;\"></div><div style=\"display: table-cell;\">outline_line_color&nbsp;=&nbsp;'#e5e5e5',</div></div><div class=\"1506\" style=\"display: none;\"><div style=\"display: table-cell;\"></div><div style=\"display: table-cell;\">outline_line_dash&nbsp;=&nbsp;[],</div></div><div class=\"1506\" style=\"display: none;\"><div style=\"display: table-cell;\"></div><div style=\"display: table-cell;\">outline_line_dash_offset&nbsp;=&nbsp;0,</div></div><div class=\"1506\" style=\"display: none;\"><div style=\"display: table-cell;\"></div><div style=\"display: table-cell;\">outline_line_join&nbsp;=&nbsp;'bevel',</div></div><div class=\"1506\" style=\"display: none;\"><div style=\"display: table-cell;\"></div><div style=\"display: table-cell;\">outline_line_width&nbsp;=&nbsp;1,</div></div><div class=\"1506\" style=\"display: none;\"><div style=\"display: table-cell;\"></div><div style=\"display: table-cell;\">output_backend&nbsp;=&nbsp;'webgl',</div></div><div class=\"1506\" style=\"display: none;\"><div style=\"display: table-cell;\"></div><div style=\"display: table-cell;\">plot_height&nbsp;=&nbsp;600,</div></div><div class=\"1506\" style=\"display: none;\"><div style=\"display: table-cell;\"></div><div style=\"display: table-cell;\">plot_width&nbsp;=&nbsp;900,</div></div><div class=\"1506\" style=\"display: none;\"><div style=\"display: table-cell;\"></div><div style=\"display: table-cell;\">renderers&nbsp;=&nbsp;[TileRenderer(id='1427', ...), GlyphRenderer(id='1436', ...)],</div></div><div class=\"1506\" style=\"display: none;\"><div style=\"display: table-cell;\"></div><div style=\"display: table-cell;\">reset_policy&nbsp;=&nbsp;'standard',</div></div><div class=\"1506\" style=\"display: none;\"><div style=\"display: table-cell;\"></div><div style=\"display: table-cell;\">right&nbsp;=&nbsp;[],</div></div><div class=\"1506\" style=\"display: none;\"><div style=\"display: table-cell;\"></div><div style=\"display: table-cell;\">sizing_mode&nbsp;=&nbsp;None,</div></div><div class=\"1506\" style=\"display: none;\"><div style=\"display: table-cell;\"></div><div style=\"display: table-cell;\">subscribed_events&nbsp;=&nbsp;[],</div></div><div class=\"1506\" style=\"display: none;\"><div style=\"display: table-cell;\"></div><div style=\"display: table-cell;\">tags&nbsp;=&nbsp;[],</div></div><div class=\"1506\" style=\"display: none;\"><div style=\"display: table-cell;\"></div><div style=\"display: table-cell;\">title&nbsp;=&nbsp;Title(id='1385', ...),</div></div><div class=\"1506\" style=\"display: none;\"><div style=\"display: table-cell;\"></div><div style=\"display: table-cell;\">title_location&nbsp;=&nbsp;'above',</div></div><div class=\"1506\" style=\"display: none;\"><div style=\"display: table-cell;\"></div><div style=\"display: table-cell;\">toolbar&nbsp;=&nbsp;Toolbar(id='1418', ...),</div></div><div class=\"1506\" style=\"display: none;\"><div style=\"display: table-cell;\"></div><div style=\"display: table-cell;\">toolbar_location&nbsp;=&nbsp;'right',</div></div><div class=\"1506\" style=\"display: none;\"><div style=\"display: table-cell;\"></div><div style=\"display: table-cell;\">toolbar_sticky&nbsp;=&nbsp;True,</div></div><div class=\"1506\" style=\"display: none;\"><div style=\"display: table-cell;\"></div><div style=\"display: table-cell;\">visible&nbsp;=&nbsp;True,</div></div><div class=\"1506\" style=\"display: none;\"><div style=\"display: table-cell;\"></div><div style=\"display: table-cell;\">width&nbsp;=&nbsp;None,</div></div><div class=\"1506\" style=\"display: none;\"><div style=\"display: table-cell;\"></div><div style=\"display: table-cell;\">width_policy&nbsp;=&nbsp;'auto',</div></div><div class=\"1506\" style=\"display: none;\"><div style=\"display: table-cell;\"></div><div style=\"display: table-cell;\">x_range&nbsp;=&nbsp;DataRange1d(id='1387', ...),</div></div><div class=\"1506\" style=\"display: none;\"><div style=\"display: table-cell;\"></div><div style=\"display: table-cell;\">x_scale&nbsp;=&nbsp;LinearScale(id='1391', ...),</div></div><div class=\"1506\" style=\"display: none;\"><div style=\"display: table-cell;\"></div><div style=\"display: table-cell;\">y_range&nbsp;=&nbsp;DataRange1d(id='1389', ...),</div></div><div class=\"1506\" style=\"display: none;\"><div style=\"display: table-cell;\"></div><div style=\"display: table-cell;\">y_scale&nbsp;=&nbsp;LinearScale(id='1393', ...))</div></div></div>\n",
              "<script>\n",
              "(function() {\n",
              "  var expanded = false;\n",
              "  var ellipsis = document.getElementById(\"1507\");\n",
              "  ellipsis.addEventListener(\"click\", function() {\n",
              "    var rows = document.getElementsByClassName(\"1506\");\n",
              "    for (var i = 0; i < rows.length; i++) {\n",
              "      var el = rows[i];\n",
              "      el.style.display = expanded ? \"none\" : \"table-row\";\n",
              "    }\n",
              "    ellipsis.innerHTML = expanded ? \"&hellip;)\" : \"&lsaquo;&lsaquo;&lsaquo;\";\n",
              "    expanded = !expanded;\n",
              "  });\n",
              "})();\n",
              "</script>\n"
            ],
            "text/plain": [
              "Figure(id='1384', ...)"
            ]
          },
          "metadata": {
            "tags": []
          },
          "execution_count": 124
        }
      ]
    },
    {
      "cell_type": "markdown",
      "metadata": {
        "id": "ry3aio51_Wq8"
      },
      "source": [
        "Only 6 districts got classified in one cluster and rest 30 in others. We need more finer categorization or grouping for more ease of analysis of schools across groups. So we will increase the number of cluster to 3. Though according to clustering algorithm, 2 is the most valid choice of the number of clusters, we can really modify the results for the sake of our end goal if needed."
      ]
    },
    {
      "cell_type": "code",
      "metadata": {
        "id": "6tM02_J4EP_m"
      },
      "source": [
        "agg_mod_=AgglomerativeClustering(n_clusters=3,affinity='euclidean',linkage='ward')\n",
        "agg_mod_.fit(dfc.drop('State_UT',axis=1))\n",
        "dfc['agg_clust']=agg_mod_.labels_"
      ],
      "execution_count": null,
      "outputs": []
    },
    {
      "cell_type": "code",
      "metadata": {
        "id": "v58GA7ziR_HV",
        "colab": {
          "base_uri": "https://localhost:8080/",
          "height": 173
        },
        "outputId": "1e64e988-f7f7-4ba6-d333-d45ee66f1ae4"
      },
      "source": [
        "dfc.head(4)"
      ],
      "execution_count": null,
      "outputs": [
        {
          "output_type": "execute_result",
          "data": {
            "text/html": [
              "<div>\n",
              "<style scoped>\n",
              "    .dataframe tbody tr th:only-of-type {\n",
              "        vertical-align: middle;\n",
              "    }\n",
              "\n",
              "    .dataframe tbody tr th {\n",
              "        vertical-align: top;\n",
              "    }\n",
              "\n",
              "    .dataframe thead th {\n",
              "        text-align: right;\n",
              "    }\n",
              "</style>\n",
              "<table border=\"1\" class=\"dataframe\">\n",
              "  <thead>\n",
              "    <tr style=\"text-align: right;\">\n",
              "      <th></th>\n",
              "      <th>State_UT</th>\n",
              "      <th>mean_dropout</th>\n",
              "      <th>enrollment_ratio</th>\n",
              "      <th>comp</th>\n",
              "      <th>electricity</th>\n",
              "      <th>water</th>\n",
              "      <th>boys_toilet</th>\n",
              "      <th>female_toilet</th>\n",
              "      <th>agg_clust</th>\n",
              "    </tr>\n",
              "  </thead>\n",
              "  <tbody>\n",
              "    <tr>\n",
              "      <th>0</th>\n",
              "      <td>A &amp; N Islands</td>\n",
              "      <td>7.191667</td>\n",
              "      <td>83.746667</td>\n",
              "      <td>50.113636</td>\n",
              "      <td>60.893636</td>\n",
              "      <td>63.636364</td>\n",
              "      <td>63.636364</td>\n",
              "      <td>63.636364</td>\n",
              "      <td>2</td>\n",
              "    </tr>\n",
              "    <tr>\n",
              "      <th>1</th>\n",
              "      <td>Andhra Pradesh</td>\n",
              "      <td>9.850000</td>\n",
              "      <td>75.552500</td>\n",
              "      <td>58.854545</td>\n",
              "      <td>95.706364</td>\n",
              "      <td>97.686364</td>\n",
              "      <td>99.777273</td>\n",
              "      <td>99.913636</td>\n",
              "      <td>1</td>\n",
              "    </tr>\n",
              "    <tr>\n",
              "      <th>2</th>\n",
              "      <td>Arunachal Pradesh</td>\n",
              "      <td>13.250000</td>\n",
              "      <td>102.067500</td>\n",
              "      <td>50.401818</td>\n",
              "      <td>69.061818</td>\n",
              "      <td>84.240000</td>\n",
              "      <td>88.652727</td>\n",
              "      <td>89.777273</td>\n",
              "      <td>0</td>\n",
              "    </tr>\n",
              "    <tr>\n",
              "      <th>3</th>\n",
              "      <td>Assam</td>\n",
              "      <td>15.022500</td>\n",
              "      <td>79.004167</td>\n",
              "      <td>40.657273</td>\n",
              "      <td>63.560000</td>\n",
              "      <td>92.052727</td>\n",
              "      <td>82.017273</td>\n",
              "      <td>85.845455</td>\n",
              "      <td>0</td>\n",
              "    </tr>\n",
              "  </tbody>\n",
              "</table>\n",
              "</div>"
            ],
            "text/plain": [
              "            State_UT  mean_dropout  ...  female_toilet  agg_clust\n",
              "0      A & N Islands      7.191667  ...      63.636364          2\n",
              "1     Andhra Pradesh      9.850000  ...      99.913636          1\n",
              "2  Arunachal Pradesh     13.250000  ...      89.777273          0\n",
              "3              Assam     15.022500  ...      85.845455          0\n",
              "\n",
              "[4 rows x 9 columns]"
            ]
          },
          "metadata": {
            "tags": []
          },
          "execution_count": 126
        }
      ]
    },
    {
      "cell_type": "code",
      "metadata": {
        "id": "NUR0U3ngX1LS",
        "colab": {
          "base_uri": "https://localhost:8080/",
          "height": 303
        },
        "outputId": "26d7aef5-e1b5-4977-d653-c3b5bd5ff719"
      },
      "source": [
        "df3=pd.melt(frame=dfc.drop(['State_UT'],axis=1),id_vars='agg_clust',var_name='parameters',value_name='values')\n",
        "sns.factorplot(data=df3,y='values',x='agg_clust',col='parameters',kind='box',sharey=False)"
      ],
      "execution_count": null,
      "outputs": [
        {
          "output_type": "stream",
          "text": [
            "/usr/local/lib/python3.6/dist-packages/seaborn/categorical.py:3704: UserWarning: The `factorplot` function has been renamed to `catplot`. The original name will be removed in a future release. Please update your code. Note that the default `kind` in `factorplot` (`'point'`) has changed `'strip'` in `catplot`.\n",
            "  warnings.warn(msg)\n"
          ],
          "name": "stderr"
        },
        {
          "output_type": "execute_result",
          "data": {
            "text/plain": [
              "<seaborn.axisgrid.FacetGrid at 0x7f33ed196a90>"
            ]
          },
          "metadata": {
            "tags": []
          },
          "execution_count": 127
        },
        {
          "output_type": "display_data",
          "data": {
            "image/png": "[encoded data removed]",
            "text/plain": [
              "<Figure size 2520x360 with 7 Axes>"
            ]
          },
          "metadata": {
            "tags": [],
            "needs_background": "light"
          }
        }
      ]
    },
    {
      "cell_type": "markdown",
      "metadata": {
        "id": "IC934KmkrIhB"
      },
      "source": [
        "If we see the boxplots carefully we will find that in terms of infrastructure comp(computer), electricity, water and toilets have highest range for cluster 1(though the difference is not much great for water and the toilets),so it's the best cluster in terms of infrastructure. Then comes cluster 0 and lastly cluster 2 has the poorest range of values for infrastructure. Enrollment ratio is highest in case of cluster 2 , cluster 0 and 1 have almost similar enrollment ratio with cluster 1 has higher variability in it's high range of values. In terms of dropout ratio cluster 0 has higher range of values than others.\n",
        "\n",
        "Thus we name the clusters as:\n",
        "\n",
        "0: Good Infrastucture,less enrollment ratio, high dropout\n",
        "\n",
        "1: Best infrastructure, Good enrollment ratio, low dropout\n",
        "\n",
        "2: Inadequate Infrastructure, Best Infrastructure Ratio, medium dropout\n",
        "\n",
        "Note: **Best > Good**                           \n",
        "\n",
        " **High > Medium > Low**"
      ]
    },
    {
      "cell_type": "code",
      "metadata": {
        "id": "6xE9ho1GaeqN"
      },
      "source": [
        "kmeansy=KMeans(n_clusters=3,random_state=31)\n",
        "kmeansy.fit(dfc.drop(['State_UT','agg_clust'],axis=1))\n",
        "pred_k=kmeansy.predict(dfc.drop(['State_UT','agg_clust'],axis=1))\n",
        "dfc['pred_k3']=pred_k"
      ],
      "execution_count": null,
      "outputs": []
    },
    {
      "cell_type": "code",
      "metadata": {
        "id": "BDV_mzNtFSy_",
        "colab": {
          "base_uri": "https://localhost:8080/",
          "height": 303
        },
        "outputId": "85956ad8-af26-451b-811b-ada211e20d5a"
      },
      "source": [
        "df4=pd.melt(frame=dfc.drop(['State_UT','agg_clust'],axis=1),id_vars='pred_k3',var_name='parameters',value_name='values')\n",
        "sns.factorplot(data=df4,y='values',x='pred_k3',col='parameters',kind='box',sharey=False)"
      ],
      "execution_count": null,
      "outputs": [
        {
          "output_type": "stream",
          "text": [
            "/usr/local/lib/python3.6/dist-packages/seaborn/categorical.py:3704: UserWarning: The `factorplot` function has been renamed to `catplot`. The original name will be removed in a future release. Please update your code. Note that the default `kind` in `factorplot` (`'point'`) has changed `'strip'` in `catplot`.\n",
            "  warnings.warn(msg)\n"
          ],
          "name": "stderr"
        },
        {
          "output_type": "execute_result",
          "data": {
            "text/plain": [
              "<seaborn.axisgrid.FacetGrid at 0x7f340cbb6710>"
            ]
          },
          "metadata": {
            "tags": []
          },
          "execution_count": 129
        },
        {
          "output_type": "display_data",
          "data": {
            "image/png": "[encoded data removed]",
            "text/plain": [
              "<Figure size 2520x360 with 7 Axes>"
            ]
          },
          "metadata": {
            "tags": [],
            "needs_background": "light"
          }
        }
      ]
    },
    {
      "cell_type": "markdown",
      "metadata": {
        "id": "u7ni-nSI0NAD"
      },
      "source": [
        "If checked carefully, we will find that the results are very similar to Agglomerative Clustering only Cluster 0 in former is represented as cluster 1 in latter."
      ]
    },
    {
      "cell_type": "code",
      "metadata": {
        "id": "zEe6kzDFHvm6"
      },
      "source": [
        "dfc = dfc.replace({\"State_UT\": replace}) "
      ],
      "execution_count": null,
      "outputs": []
    },
    {
      "cell_type": "code",
      "metadata": {
        "id": "gs46vuawDzkD"
      },
      "source": [
        "dfc['Clust_Label']=dfc.agg_clust.map({0:'Good Infrastucture,less enrollment ratio, high dropout',1:'Best infrastructure, Good enrollment ratio, low dropout',2:'Inadequate Infrastructure, Best Infrastructure Ratio, medium dropout'})"
      ],
      "execution_count": null,
      "outputs": []
    },
    {
      "cell_type": "code",
      "metadata": {
        "id": "3mdexTDFHyVi"
      },
      "source": [
        "merg['agg_clust']=dfc['agg_clust']\n",
        "merg['Clust_Label']=dfc['Clust_Label']"
      ],
      "execution_count": null,
      "outputs": []
    },
    {
      "cell_type": "code",
      "metadata": {
        "id": "DaMABmWVID7S",
        "colab": {
          "base_uri": "https://localhost:8080/",
          "height": 85
        },
        "outputId": "b3a5ca3c-3e90-46ed-db9b-d63f212f0636"
      },
      "source": [
        "merg.agg_clust.value_counts()"
      ],
      "execution_count": null,
      "outputs": [
        {
          "output_type": "execute_result",
          "data": {
            "text/plain": [
              "1    16\n",
              "0    14\n",
              "2     6\n",
              "Name: agg_clust, dtype: int64"
            ]
          },
          "metadata": {
            "tags": []
          },
          "execution_count": 133
        }
      ]
    },
    {
      "cell_type": "markdown",
      "metadata": {
        "id": "av9PuOJQ1Rd9"
      },
      "source": [
        "We can see that in cluster 0 there are 16 states, 14 states in cluster 1 and 6 states in cluster 2. \n",
        "\n",
        "Basically cluster 0 in 2-clustered which had 30 states is divided into cluster-0 & 1 in the ratio 16:14 ."
      ]
    },
    {
      "cell_type": "code",
      "metadata": {
        "id": "kPCDifayFK3N",
        "colab": {
          "base_uri": "https://localhost:8080/",
          "height": 634
        },
        "outputId": "1f304677-6d32-4430-df84-2a8fad3bf4ed"
      },
      "source": [
        "merg.plot_bokeh(\n",
        "    figsize=(900, 600),\n",
        "    simplify_shapes=5000,\n",
        "    category=\"agg_clust\",\n",
        "    show_colorbar=False,\n",
        "    colormap=[\"yellow\", \"green\",'red'],\n",
        "    hovertool_columns=[\"State_UT\",\"Clust_Label\"])"
      ],
      "execution_count": null,
      "outputs": [
        {
          "output_type": "display_data",
          "data": {
            "application/javascript": [
              "\n",
              "(function(root) {\n",
              "  function now() {\n",
              "    return new Date();\n",
              "  }\n",
              "\n",
              "  var force = true;\n",
              "\n",
              "  if (typeof root._bokeh_onload_callbacks === \"undefined\" || force === true) {\n",
              "    root._bokeh_onload_callbacks = [];\n",
              "    root._bokeh_is_loading = undefined;\n",
              "  }\n",
              "\n",
              "  var JS_MIME_TYPE = 'application/javascript';\n",
              "  var HTML_MIME_TYPE = 'text/html';\n",
              "  var EXEC_MIME_TYPE = 'application/vnd.bokehjs_exec.v0+json';\n",
              "  var CLASS_NAME = 'output_bokeh rendered_html';\n",
              "\n",
              "  /**\n",
              "   * Render data to the DOM node\n",
              "   */\n",
              "  function render(props, node) {\n",
              "    var script = document.createElement(\"script\");\n",
              "    node.appendChild(script);\n",
              "  }\n",
              "\n",
              "  /**\n",
              "   * Handle when an output is cleared or removed\n",
              "   */\n",
              "  function handleClearOutput(event, handle) {\n",
              "    var cell = handle.cell;\n",
              "\n",
              "    var id = cell.output_area._bokeh_element_id;\n",
              "    var server_id = cell.output_area._bokeh_server_id;\n",
              "    // Clean up Bokeh references\n",
              "    if (id != null && id in Bokeh.index) {\n",
              "      Bokeh.index[id].model.document.clear();\n",
              "      delete Bokeh.index[id];\n",
              "    }\n",
              "\n",
              "    if (server_id !== undefined) {\n",
              "      // Clean up Bokeh references\n",
              "      var cmd = \"from bokeh.io.state import curstate; print(curstate().uuid_to_server['\" + server_id + \"'].get_sessions()[0].document.roots[0]._id)\";\n",
              "      cell.notebook.kernel.execute(cmd, {\n",
              "        iopub: {\n",
              "          output: function(msg) {\n",
              "            var id = msg.content.text.trim();\n",
              "            if (id in Bokeh.index) {\n",
              "              Bokeh.index[id].model.document.clear();\n",
              "              delete Bokeh.index[id];\n",
              "            }\n",
              "          }\n",
              "        }\n",
              "      });\n",
              "      // Destroy server and session\n",
              "      var cmd = \"import bokeh.io.notebook as ion; ion.destroy_server('\" + server_id + \"')\";\n",
              "      cell.notebook.kernel.execute(cmd);\n",
              "    }\n",
              "  }\n",
              "\n",
              "  /**\n",
              "   * Handle when a new output is added\n",
              "   */\n",
              "  function handleAddOutput(event, handle) {\n",
              "    var output_area = handle.output_area;\n",
              "    var output = handle.output;\n",
              "\n",
              "    // limit handleAddOutput to display_data with EXEC_MIME_TYPE content only\n",
              "    if ((output.output_type != \"display_data\") || (!output.data.hasOwnProperty(EXEC_MIME_TYPE))) {\n",
              "      return\n",
              "    }\n",
              "\n",
              "    var toinsert = output_area.element.find(\".\" + CLASS_NAME.split(' ')[0]);\n",
              "\n",
              "    if (output.metadata[EXEC_MIME_TYPE][\"id\"] !== undefined) {\n",
              "      toinsert[toinsert.length - 1].firstChild.textContent = output.data[JS_MIME_TYPE];\n",
              "      // store reference to embed id on output_area\n",
              "      output_area._bokeh_element_id = output.metadata[EXEC_MIME_TYPE][\"id\"];\n",
              "    }\n",
              "    if (output.metadata[EXEC_MIME_TYPE][\"server_id\"] !== undefined) {\n",
              "      var bk_div = document.createElement(\"div\");\n",
              "      bk_div.innerHTML = output.data[HTML_MIME_TYPE];\n",
              "      var script_attrs = bk_div.children[0].attributes;\n",
              "      for (var i = 0; i < script_attrs.length; i++) {\n",
              "        toinsert[toinsert.length - 1].firstChild.setAttribute(script_attrs[i].name, script_attrs[i].value);\n",
              "        toinsert[toinsert.length - 1].firstChild.textContent = bk_div.children[0].textContent\n",
              "      }\n",
              "      // store reference to server id on output_area\n",
              "      output_area._bokeh_server_id = output.metadata[EXEC_MIME_TYPE][\"server_id\"];\n",
              "    }\n",
              "  }\n",
              "\n",
              "  function register_renderer(events, OutputArea) {\n",
              "\n",
              "    function append_mime(data, metadata, element) {\n",
              "      // create a DOM node to render to\n",
              "      var toinsert = this.create_output_subarea(\n",
              "        metadata,\n",
              "        CLASS_NAME,\n",
              "        EXEC_MIME_TYPE\n",
              "      );\n",
              "      this.keyboard_manager.register_events(toinsert);\n",
              "      // Render to node\n",
              "      var props = {data: data, metadata: metadata[EXEC_MIME_TYPE]};\n",
              "      render(props, toinsert[toinsert.length - 1]);\n",
              "      element.append(toinsert);\n",
              "      return toinsert\n",
              "    }\n",
              "\n",
              "    /* Handle when an output is cleared or removed */\n",
              "    events.on('clear_output.CodeCell', handleClearOutput);\n",
              "    events.on('delete.Cell', handleClearOutput);\n",
              "\n",
              "    /* Handle when a new output is added */\n",
              "    events.on('output_added.OutputArea', handleAddOutput);\n",
              "\n",
              "    /**\n",
              "     * Register the mime type and append_mime function with output_area\n",
              "     */\n",
              "    OutputArea.prototype.register_mime_type(EXEC_MIME_TYPE, append_mime, {\n",
              "      /* Is output safe? */\n",
              "      safe: true,\n",
              "      /* Index of renderer in `output_area.display_order` */\n",
              "      index: 0\n",
              "    });\n",
              "  }\n",
              "\n",
              "  // register the mime type if in Jupyter Notebook environment and previously unregistered\n",
              "  if (root.Jupyter !== undefined) {\n",
              "    var events = require('base/js/events');\n",
              "    var OutputArea = require('notebook/js/outputarea').OutputArea;\n",
              "\n",
              "    if (OutputArea.prototype.mime_types().indexOf(EXEC_MIME_TYPE) == -1) {\n",
              "      register_renderer(events, OutputArea);\n",
              "    }\n",
              "  }\n",
              "\n",
              "  \n",
              "  if (typeof (root._bokeh_timeout) === \"undefined\" || force === true) {\n",
              "    root._bokeh_timeout = Date.now() + 5000;\n",
              "    root._bokeh_failed_load = false;\n",
              "  }\n",
              "\n",
              "  var NB_LOAD_WARNING = {'data': {'text/html':\n",
              "     \"<div style='background-color: #fdd'>\\n\"+\n",
              "     \"<p>\\n\"+\n",
              "     \"BokehJS does not appear to have successfully loaded. If loading BokehJS from CDN, this \\n\"+\n",
              "     \"may be due to a slow or bad network connection. Possible fixes:\\n\"+\n",
              "     \"</p>\\n\"+\n",
              "     \"<ul>\\n\"+\n",
              "     \"<li>re-rerun `output_notebook()` to attempt to load from CDN again, or</li>\\n\"+\n",
              "     \"<li>use INLINE resources instead, as so:</li>\\n\"+\n",
              "     \"</ul>\\n\"+\n",
              "     \"<code>\\n\"+\n",
              "     \"from bokeh.resources import INLINE\\n\"+\n",
              "     \"output_notebook(resources=INLINE)\\n\"+\n",
              "     \"</code>\\n\"+\n",
              "     \"</div>\"}};\n",
              "\n",
              "  function display_loaded() {\n",
              "    var el = document.getElementById(null);\n",
              "    if (el != null) {\n",
              "      el.textContent = \"BokehJS is loading...\";\n",
              "    }\n",
              "    if (root.Bokeh !== undefined) {\n",
              "      if (el != null) {\n",
              "        el.textContent = \"BokehJS \" + root.Bokeh.version + \" successfully loaded.\";\n",
              "      }\n",
              "    } else if (Date.now() < root._bokeh_timeout) {\n",
              "      setTimeout(display_loaded, 100)\n",
              "    }\n",
              "  }\n",
              "\n",
              "\n",
              "  function run_callbacks() {\n",
              "    try {\n",
              "      root._bokeh_onload_callbacks.forEach(function(callback) {\n",
              "        if (callback != null)\n",
              "          callback();\n",
              "      });\n",
              "    } finally {\n",
              "      delete root._bokeh_onload_callbacks\n",
              "    }\n",
              "    console.debug(\"Bokeh: all callbacks have finished\");\n",
              "  }\n",
              "\n",
              "  function load_libs(css_urls, js_urls, callback) {\n",
              "    if (css_urls == null) css_urls = [];\n",
              "    if (js_urls == null) js_urls = [];\n",
              "\n",
              "    root._bokeh_onload_callbacks.push(callback);\n",
              "    if (root._bokeh_is_loading > 0) {\n",
              "      console.debug(\"Bokeh: BokehJS is being loaded, scheduling callback at\", now());\n",
              "      return null;\n",
              "    }\n",
              "    if (js_urls == null || js_urls.length === 0) {\n",
              "      run_callbacks();\n",
              "      return null;\n",
              "    }\n",
              "    console.debug(\"Bokeh: BokehJS not loaded, scheduling load and callback at\", now());\n",
              "    root._bokeh_is_loading = css_urls.length + js_urls.length;\n",
              "\n",
              "    function on_load() {\n",
              "      root._bokeh_is_loading--;\n",
              "      if (root._bokeh_is_loading === 0) {\n",
              "        console.debug(\"Bokeh: all BokehJS libraries/stylesheets loaded\");\n",
              "        run_callbacks()\n",
              "      }\n",
              "    }\n",
              "\n",
              "    function on_error() {\n",
              "      console.error(\"failed to load \" + url);\n",
              "    }\n",
              "\n",
              "    for (var i = 0; i < css_urls.length; i++) {\n",
              "      var url = css_urls[i];\n",
              "      const element = document.createElement(\"link\");\n",
              "      element.onload = on_load;\n",
              "      element.onerror = on_error;\n",
              "      element.rel = \"stylesheet\";\n",
              "      element.type = \"text/css\";\n",
              "      element.href = url;\n",
              "      console.debug(\"Bokeh: injecting link tag for BokehJS stylesheet: \", url);\n",
              "      document.body.appendChild(element);\n",
              "    }\n",
              "\n",
              "    const hashes = {\"https://cdn.bokeh.org/bokeh/release/bokeh-2.1.1.min.js\": \"kLr4fYcqcSpbuI95brIH3vnnYCquzzSxHPU6XGQCIkQRGJwhg0StNbj1eegrHs12\", \"https://cdn.bokeh.org/bokeh/release/bokeh-widgets-2.1.1.min.js\": \"xIGPmVtaOm+z0BqfSOMn4lOR6ciex448GIKG4eE61LsAvmGj48XcMQZtKcE/UXZe\", \"https://cdn.bokeh.org/bokeh/release/bokeh-tables-2.1.1.min.js\": \"Dc9u1wF/0zApGIWoBbH77iWEHtdmkuYWG839Uzmv8y8yBLXebjO9ZnERsde5Ln/P\", \"https://cdn.bokeh.org/bokeh/release/bokeh-gl-2.1.1.min.js\": \"cT9JaBz7GiRXdENrJLZNSC6eMNF3nh3fa5fTF51Svp+ukxPdwcU5kGXGPBgDCa2j\"};\n",
              "\n",
              "    for (var i = 0; i < js_urls.length; i++) {\n",
              "      var url = js_urls[i];\n",
              "      var element = document.createElement('script');\n",
              "      element.onload = on_load;\n",
              "      element.onerror = on_error;\n",
              "      element.async = false;\n",
              "      element.src = url;\n",
              "      if (url in hashes) {\n",
              "        element.crossOrigin = \"anonymous\";\n",
              "        element.integrity = \"sha384-\" + hashes[url];\n",
              "      }\n",
              "      console.debug(\"Bokeh: injecting script tag for BokehJS library: \", url);\n",
              "      document.head.appendChild(element);\n",
              "    }\n",
              "  };\n",
              "\n",
              "  function inject_raw_css(css) {\n",
              "    const element = document.createElement(\"style\");\n",
              "    element.appendChild(document.createTextNode(css));\n",
              "    document.body.appendChild(element);\n",
              "  }\n",
              "\n",
              "  \n",
              "  var js_urls = [\"https://cdn.bokeh.org/bokeh/release/bokeh-2.1.1.min.js\", \"https://cdn.bokeh.org/bokeh/release/bokeh-widgets-2.1.1.min.js\", \"https://cdn.bokeh.org/bokeh/release/bokeh-tables-2.1.1.min.js\", \"https://cdn.bokeh.org/bokeh/release/bokeh-gl-2.1.1.min.js\"];\n",
              "  var css_urls = [];\n",
              "  \n",
              "\n",
              "  var inline_js = [\n",
              "    function(Bokeh) {\n",
              "      Bokeh.set_log_level(\"info\");\n",
              "    },\n",
              "    function(Bokeh) {\n",
              "    \n",
              "    \n",
              "    }\n",
              "  ];\n",
              "\n",
              "  function run_inline_js() {\n",
              "    \n",
              "    if (root.Bokeh !== undefined || force === true) {\n",
              "      \n",
              "    for (var i = 0; i < inline_js.length; i++) {\n",
              "      inline_js[i].call(root, root.Bokeh);\n",
              "    }\n",
              "    } else if (Date.now() < root._bokeh_timeout) {\n",
              "      setTimeout(run_inline_js, 100);\n",
              "    } else if (!root._bokeh_failed_load) {\n",
              "      console.log(\"Bokeh: BokehJS failed to load within specified timeout.\");\n",
              "      root._bokeh_failed_load = true;\n",
              "    } else if (force !== true) {\n",
              "      var cell = $(document.getElementById(null)).parents('.cell').data().cell;\n",
              "      cell.output_area.append_execute_result(NB_LOAD_WARNING)\n",
              "    }\n",
              "\n",
              "  }\n",
              "\n",
              "  if (root._bokeh_is_loading === 0) {\n",
              "    console.debug(\"Bokeh: BokehJS loaded, going straight to plotting\");\n",
              "    run_inline_js();\n",
              "  } else {\n",
              "    load_libs(css_urls, js_urls, function() {\n",
              "      console.debug(\"Bokeh: BokehJS plotting callback run at\", now());\n",
              "      run_inline_js();\n",
              "    });\n",
              "  }\n",
              "}(window));"
            ],
            "application/vnd.bokehjs_load.v0+json": "\n(function(root) {\n  function now() {\n    return new Date();\n  }\n\n  var force = true;\n\n  if (typeof root._bokeh_onload_callbacks === \"undefined\" || force === true) {\n    root._bokeh_onload_callbacks = [];\n    root._bokeh_is_loading = undefined;\n  }\n\n  \n\n  \n  if (typeof (root._bokeh_timeout) === \"undefined\" || force === true) {\n    root._bokeh_timeout = Date.now() + 5000;\n    root._bokeh_failed_load = false;\n  }\n\n  var NB_LOAD_WARNING = {'data': {'text/html':\n     \"<div style='background-color: #fdd'>\\n\"+\n     \"<p>\\n\"+\n     \"BokehJS does not appear to have successfully loaded. If loading BokehJS from CDN, this \\n\"+\n     \"may be due to a slow or bad network connection. Possible fixes:\\n\"+\n     \"</p>\\n\"+\n     \"<ul>\\n\"+\n     \"<li>re-rerun `output_notebook()` to attempt to load from CDN again, or</li>\\n\"+\n     \"<li>use INLINE resources instead, as so:</li>\\n\"+\n     \"</ul>\\n\"+\n     \"<code>\\n\"+\n     \"from bokeh.resources import INLINE\\n\"+\n     \"output_notebook(resources=INLINE)\\n\"+\n     \"</code>\\n\"+\n     \"</div>\"}};\n\n  function display_loaded() {\n    var el = document.getElementById(null);\n    if (el != null) {\n      el.textContent = \"BokehJS is loading...\";\n    }\n    if (root.Bokeh !== undefined) {\n      if (el != null) {\n        el.textContent = \"BokehJS \" + root.Bokeh.version + \" successfully loaded.\";\n      }\n    } else if (Date.now() < root._bokeh_timeout) {\n      setTimeout(display_loaded, 100)\n    }\n  }\n\n\n  function run_callbacks() {\n    try {\n      root._bokeh_onload_callbacks.forEach(function(callback) {\n        if (callback != null)\n          callback();\n      });\n    } finally {\n      delete root._bokeh_onload_callbacks\n    }\n    console.debug(\"Bokeh: all callbacks have finished\");\n  }\n\n  function load_libs(css_urls, js_urls, callback) {\n    if (css_urls == null) css_urls = [];\n    if (js_urls == null) js_urls = [];\n\n    root._bokeh_onload_callbacks.push(callback);\n    if (root._bokeh_is_loading > 0) {\n      console.debug(\"Bokeh: BokehJS is being loaded, scheduling callback at\", now());\n      return null;\n    }\n    if (js_urls == null || js_urls.length === 0) {\n      run_callbacks();\n      return null;\n    }\n    console.debug(\"Bokeh: BokehJS not loaded, scheduling load and callback at\", now());\n    root._bokeh_is_loading = css_urls.length + js_urls.length;\n\n    function on_load() {\n      root._bokeh_is_loading--;\n      if (root._bokeh_is_loading === 0) {\n        console.debug(\"Bokeh: all BokehJS libraries/stylesheets loaded\");\n        run_callbacks()\n      }\n    }\n\n    function on_error() {\n      console.error(\"failed to load \" + url);\n    }\n\n    for (var i = 0; i < css_urls.length; i++) {\n      var url = css_urls[i];\n      const element = document.createElement(\"link\");\n      element.onload = on_load;\n      element.onerror = on_error;\n      element.rel = \"stylesheet\";\n      element.type = \"text/css\";\n      element.href = url;\n      console.debug(\"Bokeh: injecting link tag for BokehJS stylesheet: \", url);\n      document.body.appendChild(element);\n    }\n\n    const hashes = {\"https://cdn.bokeh.org/bokeh/release/bokeh-2.1.1.min.js\": \"kLr4fYcqcSpbuI95brIH3vnnYCquzzSxHPU6XGQCIkQRGJwhg0StNbj1eegrHs12\", \"https://cdn.bokeh.org/bokeh/release/bokeh-widgets-2.1.1.min.js\": \"xIGPmVtaOm+z0BqfSOMn4lOR6ciex448GIKG4eE61LsAvmGj48XcMQZtKcE/UXZe\", \"https://cdn.bokeh.org/bokeh/release/bokeh-tables-2.1.1.min.js\": \"Dc9u1wF/0zApGIWoBbH77iWEHtdmkuYWG839Uzmv8y8yBLXebjO9ZnERsde5Ln/P\", \"https://cdn.bokeh.org/bokeh/release/bokeh-gl-2.1.1.min.js\": \"cT9JaBz7GiRXdENrJLZNSC6eMNF3nh3fa5fTF51Svp+ukxPdwcU5kGXGPBgDCa2j\"};\n\n    for (var i = 0; i < js_urls.length; i++) {\n      var url = js_urls[i];\n      var element = document.createElement('script');\n      element.onload = on_load;\n      element.onerror = on_error;\n      element.async = false;\n      element.src = url;\n      if (url in hashes) {\n        element.crossOrigin = \"anonymous\";\n        element.integrity = \"sha384-\" + hashes[url];\n      }\n      console.debug(\"Bokeh: injecting script tag for BokehJS library: \", url);\n      document.head.appendChild(element);\n    }\n  };\n\n  function inject_raw_css(css) {\n    const element = document.createElement(\"style\");\n    element.appendChild(document.createTextNode(css));\n    document.body.appendChild(element);\n  }\n\n  \n  var js_urls = [\"https://cdn.bokeh.org/bokeh/release/bokeh-2.1.1.min.js\", \"https://cdn.bokeh.org/bokeh/release/bokeh-widgets-2.1.1.min.js\", \"https://cdn.bokeh.org/bokeh/release/bokeh-tables-2.1.1.min.js\", \"https://cdn.bokeh.org/bokeh/release/bokeh-gl-2.1.1.min.js\"];\n  var css_urls = [];\n  \n\n  var inline_js = [\n    function(Bokeh) {\n      Bokeh.set_log_level(\"info\");\n    },\n    function(Bokeh) {\n    \n    \n    }\n  ];\n\n  function run_inline_js() {\n    \n    if (root.Bokeh !== undefined || force === true) {\n      \n    for (var i = 0; i < inline_js.length; i++) {\n      inline_js[i].call(root, root.Bokeh);\n    }\n    } else if (Date.now() < root._bokeh_timeout) {\n      setTimeout(run_inline_js, 100);\n    } else if (!root._bokeh_failed_load) {\n      console.log(\"Bokeh: BokehJS failed to load within specified timeout.\");\n      root._bokeh_failed_load = true;\n    } else if (force !== true) {\n      var cell = $(document.getElementById(null)).parents('.cell').data().cell;\n      cell.output_area.append_execute_result(NB_LOAD_WARNING)\n    }\n\n  }\n\n  if (root._bokeh_is_loading === 0) {\n    console.debug(\"Bokeh: BokehJS loaded, going straight to plotting\");\n    run_inline_js();\n  } else {\n    load_libs(css_urls, js_urls, function() {\n      console.debug(\"Bokeh: BokehJS plotting callback run at\", now());\n      run_inline_js();\n    });\n  }\n}(window));"
          },
          "metadata": {
            "tags": []
          }
        },
        {
          "output_type": "display_data",
          "data": {
            "text/html": [
              "\n",
              "\n",
              "\n",
              "\n",
              "\n",
              "\n",
              "  <div class=\"bk-root\" id=\"d1bb034d-89c3-4539-b264-50895128b227\" data-root-id=\"1509\"></div>\n"
            ]
          },
          "metadata": {
            "tags": []
          }
        },
        {
          "output_type": "display_data",
          "data": {
            "application/javascript": [
              "(function(root) {\n",
              "  function embed_document(root) {\n",
              "    \n",
              "  var docs_json = {\"04c6c756-7dd2-4df8-ba35-9a30ad3b00fc\":{\"roots\":{\"references\":[{\"attributes\":{\"below\":[{\"id\":\"1520\"}],\"center\":[{\"id\":\"1527\"},{\"id\":\"1535\"},{\"id\":\"1571\"}],\"left\":[{\"id\":\"1528\"}],\"output_backend\":\"webgl\",\"plot_width\":900,\"renderers\":[{\"id\":\"1552\"},{\"id\":\"1561\"}],\"title\":{\"id\":\"1510\"},\"toolbar\":{\"id\":\"1543\"},\"x_range\":{\"id\":\"1512\"},\"x_scale\":{\"id\":\"1516\"},\"y_range\":{\"id\":\"1514\"},\"y_scale\":{\"id\":\"1518\"}},\"id\":\"1509\",\"subtype\":\"Figure\",\"type\":\"Plot\"},{\"attributes\":{\"bottom_units\":\"screen\",\"fill_alpha\":0.5,\"fill_color\":\"lightgrey\",\"left_units\":\"screen\",\"level\":\"overlay\",\"line_alpha\":1.0,\"line_color\":\"black\",\"line_dash\":[4,4],\"line_width\":2,\"right_units\":\"screen\",\"top_units\":\"screen\"},\"id\":\"1542\",\"type\":\"BoxAnnotation\"},{\"attributes\":{\"axis_label\":\"Longitude\",\"formatter\":{\"id\":\"1523\"},\"ticker\":{\"id\":\"1521\"}},\"id\":\"1520\",\"type\":\"MercatorAxis\"},{\"attributes\":{},\"id\":\"1540\",\"type\":\"ResetTool\"},{\"attributes\":{},\"id\":\"1539\",\"type\":\"SaveTool\"},{\"attributes\":{\"fill_color\":{\"field\":\"Colormap\",\"transform\":{\"id\":\"1555\"}},\"xs\":{\"field\":\"__x__\"},\"ys\":{\"field\":\"__y__\"}},\"id\":\"1559\",\"type\":\"MultiPolygons\"},{\"attributes\":{\"dimension\":\"lon\"},\"id\":\"1523\",\"type\":\"MercatorTickFormatter\"},{\"attributes\":{},\"id\":\"1512\",\"type\":\"DataRange1d\"},{\"attributes\":{\"axis\":{\"id\":\"1520\"},\"ticker\":null},\"id\":\"1527\",\"type\":\"Grid\"},{\"attributes\":{\"dimension\":\"lat\"},\"id\":\"1531\",\"type\":\"MercatorTickFormatter\"},{\"attributes\":{\"label\":{\"value\":\"GeoLayer\"},\"renderers\":[{\"id\":\"1561\"}]},\"id\":\"1572\",\"type\":\"LegendItem\"},{\"attributes\":{},\"id\":\"1518\",\"type\":\"LinearScale\"},{\"attributes\":{},\"id\":\"1514\",\"type\":\"DataRange1d\"},{\"attributes\":{\"axis\":{\"id\":\"1528\"},\"dimension\":1,\"ticker\":null},\"id\":\"1535\",\"type\":\"Grid\"},{\"attributes\":{\"source\":{\"id\":\"1557\"}},\"id\":\"1562\",\"type\":\"CDSView\"},{\"attributes\":{\"dimension\":\"lon\"},\"id\":\"1521\",\"type\":\"MercatorTicker\"},{\"attributes\":{},\"id\":\"1569\",\"type\":\"Selection\"},{\"attributes\":{\"active_drag\":\"auto\",\"active_inspect\":\"auto\",\"active_multi\":null,\"active_scroll\":{\"id\":\"1537\"},\"active_tap\":\"auto\",\"tools\":[{\"id\":\"1536\"},{\"id\":\"1537\"},{\"id\":\"1538\"},{\"id\":\"1539\"},{\"id\":\"1540\"},{\"id\":\"1541\"},{\"id\":\"1573\"}]},\"id\":\"1543\",\"type\":\"Toolbar\"},{\"attributes\":{\"axis_label\":\"Latitude\",\"formatter\":{\"id\":\"1531\"},\"ticker\":{\"id\":\"1529\"}},\"id\":\"1528\",\"type\":\"MercatorAxis\"},{\"attributes\":{\"dimension\":\"lat\"},\"id\":\"1529\",\"type\":\"MercatorTicker\"},{\"attributes\":{\"zoom_on_axis\":false},\"id\":\"1537\",\"type\":\"WheelZoomTool\"},{\"attributes\":{\"high\":2,\"low\":0,\"palette\":[\"yellow\",\"green\",\"red\"]},\"id\":\"1555\",\"type\":\"LinearColorMapper\"},{\"attributes\":{\"data_source\":{\"id\":\"1557\"},\"glyph\":{\"id\":\"1559\"},\"hover_glyph\":null,\"muted_glyph\":null,\"nonselection_glyph\":{\"id\":\"1560\"},\"selection_glyph\":null,\"view\":{\"id\":\"1562\"}},\"id\":\"1561\",\"type\":\"GlyphRenderer\"},{\"attributes\":{},\"id\":\"1516\",\"type\":\"LinearScale\"},{\"attributes\":{},\"id\":\"1568\",\"type\":\"UnionRenderers\"},{\"attributes\":{\"overlay\":{\"id\":\"1542\"}},\"id\":\"1538\",\"type\":\"BoxZoomTool\"},{\"attributes\":{\"click_policy\":\"hide\",\"items\":[{\"id\":\"1572\"}]},\"id\":\"1571\",\"type\":\"Legend\"},{\"attributes\":{\"tile_source\":{\"id\":\"1551\"}},\"id\":\"1552\",\"type\":\"TileRenderer\"},{\"attributes\":{\"fill_alpha\":{\"value\":0.1},\"fill_color\":{\"field\":\"Colormap\",\"transform\":{\"id\":\"1555\"}},\"line_alpha\":{\"value\":0.1},\"xs\":{\"field\":\"__x__\"},\"ys\":{\"field\":\"__y__\"}},\"id\":\"1560\",\"type\":\"MultiPolygons\"},{\"attributes\":{},\"id\":\"1536\",\"type\":\"PanTool\"},{\"attributes\":{\"callback\":null,\"renderers\":[{\"id\":\"1561\"}],\"tooltips\":[[\"State_UT\",\"@{State_UT}\"],[\"Clust_Label\",\"@{Clust_Label}\"]]},\"id\":\"1573\",\"type\":\"HoverTool\"},{\"attributes\":{\"data\":{\"Clust_Label\":[\"Inadequate Infrastructure, Best Infrastructure Ratio, medium dropout\",\"Inadequate Infrastructure, Best Infrastructure Ratio, medium dropout\",\"Inadequate Infrastructure, Best Infrastructure Ratio, medium dropout\",\"Inadequate Infrastructure, Best Infrastructure Ratio, medium dropout\",\"Inadequate Infrastructure, Best Infrastructure Ratio, medium dropout\",\"Inadequate Infrastructure, Best Infrastructure Ratio, medium dropout\",\"Inadequate Infrastructure, Best Infrastructure Ratio, medium dropout\",\"Inadequate Infrastructure, Best Infrastructure Ratio, medium dropout\",\"Inadequate Infrastructure, Best Infrastructure Ratio, medium dropout\",\"Inadequate Infrastructure, Best Infrastructure Ratio, medium dropout\",\"Inadequate Infrastructure, Best Infrastructure Ratio, medium dropout\",\"Inadequate Infrastructure, Best Infrastructure Ratio, medium dropout\",\"Inadequate Infrastructure, Best Infrastructure Ratio, medium dropout\",\"Inadequate Infrastructure, Best Infrastructure Ratio, medium dropout\",\"Inadequate Infrastructure, Best Infrastructure Ratio, medium dropout\",\"Inadequate Infrastructure, Best Infrastructure Ratio, medium dropout\",\"Inadequate Infrastructure, Best Infrastructure Ratio, medium dropout\",\"Inadequate Infrastructure, Best Infrastructure Ratio, medium dropout\",\"Inadequate Infrastructure, Best Infrastructure Ratio, medium dropout\",\"Inadequate Infrastructure, Best Infrastructure Ratio, medium dropout\",\"Inadequate Infrastructure, Best Infrastructure Ratio, medium dropout\",\"Inadequate Infrastructure, Best Infrastructure Ratio, medium dropout\",\"Inadequate Infrastructure, Best Infrastructure Ratio, medium dropout\",\"Inadequate Infrastructure, Best Infrastructure Ratio, medium dropout\",\"Inadequate Infrastructure, Best Infrastructure Ratio, medium dropout\",\"Inadequate Infrastructure, Best Infrastructure Ratio, medium dropout\",\"Inadequate Infrastructure, Best Infrastructure Ratio, medium dropout\",\"Inadequate Infrastructure, Best Infrastructure Ratio, medium dropout\",\"Inadequate Infrastructure, Best Infrastructure Ratio, medium dropout\",\"Inadequate Infrastructure, Best Infrastructure Ratio, medium dropout\",\"Inadequate Infrastructure, Best Infrastructure Ratio, medium dropout\",\"Inadequate Infrastructure, Best Infrastructure Ratio, medium dropout\",\"Inadequate Infrastructure, Best Infrastructure Ratio, medium dropout\",\"Inadequate Infrastructure, Best Infrastructure Ratio, medium dropout\",\"Inadequate Infrastructure, Best Infrastructure Ratio, medium dropout\",\"Inadequate Infrastructure, Best Infrastructure Ratio, medium dropout\",\"Inadequate Infrastructure, Best Infrastructure Ratio, medium dropout\",\"Inadequate Infrastructure, Best Infrastructure Ratio, medium dropout\",\"Inadequate Infrastructure, Best Infrastructure Ratio, medium dropout\",\"Inadequate Infrastructure, Best Infrastructure Ratio, medium dropout\",\"Inadequate Infrastructure, Best Infrastructure Ratio, medium dropout\",\"Inadequate Infrastructure, Best Infrastructure Ratio, medium dropout\",\"Inadequate Infrastructure, Best Infrastructure Ratio, medium dropout\",\"Inadequate Infrastructure, Best Infrastructure Ratio, medium dropout\",\"Inadequate Infrastructure, Best Infrastructure Ratio, medium dropout\",\"Inadequate Infrastructure, Best Infrastructure Ratio, medium dropout\",\"Inadequate Infrastructure, Best Infrastructure Ratio, medium dropout\",\"Inadequate Infrastructure, Best Infrastructure Ratio, medium dropout\",\"Inadequate Infrastructure, Best Infrastructure Ratio, medium dropout\",\"Inadequate Infrastructure, Best Infrastructure Ratio, medium dropout\",\"Inadequate Infrastructure, Best Infrastructure Ratio, medium dropout\",\"Inadequate Infrastructure, Best Infrastructure Ratio, medium dropout\",\"Inadequate Infrastructure, Best Infrastructure Ratio, medium dropout\",\"Inadequate Infrastructure, Best Infrastructure Ratio, medium dropout\",\"Inadequate Infrastructure, Best Infrastructure Ratio, medium dropout\",\"Inadequate Infrastructure, Best Infrastructure Ratio, medium dropout\",\"Inadequate Infrastructure, Best Infrastructure Ratio, medium dropout\",\"Inadequate Infrastructure, Best Infrastructure Ratio, medium dropout\",\"Inadequate Infrastructure, Best Infrastructure Ratio, medium dropout\",\"Inadequate Infrastructure, Best Infrastructure Ratio, medium dropout\",\"Inadequate Infrastructure, Best Infrastructure Ratio, medium dropout\",\"Inadequate Infrastructure, Best Infrastructure Ratio, medium dropout\",\"Inadequate Infrastructure, Best Infrastructure Ratio, medium dropout\",\"Inadequate Infrastructure, Best Infrastructure Ratio, medium dropout\",\"Inadequate Infrastructure, Best Infrastructure Ratio, medium dropout\",\"Inadequate Infrastructure, Best Infrastructure Ratio, medium dropout\",\"Inadequate Infrastructure, Best Infrastructure Ratio, medium dropout\",\"Inadequate Infrastructure, Best Infrastructure Ratio, medium dropout\",\"Inadequate Infrastructure, Best Infrastructure Ratio, medium dropout\",\"Inadequate Infrastructure, Best Infrastructure Ratio, medium dropout\",\"Inadequate Infrastructure, Best Infrastructure Ratio, medium dropout\",\"Inadequate Infrastructure, Best Infrastructure Ratio, medium dropout\",\"Inadequate Infrastructure, Best Infrastructure Ratio, medium dropout\",\"Inadequate Infrastructure, Best Infrastructure Ratio, medium dropout\",\"Inadequate Infrastructure, Best Infrastructure Ratio, medium dropout\",\"Inadequate Infrastructure, Best Infrastructure Ratio, medium dropout\",\"Inadequate Infrastructure, Best Infrastructure Ratio, medium dropout\",\"Inadequate Infrastructure, Best Infrastructure Ratio, medium dropout\",\"Inadequate Infrastructure, Best Infrastructure Ratio, medium dropout\",\"Inadequate Infrastructure, Best Infrastructure Ratio, medium dropout\",\"Inadequate Infrastructure, Best Infrastructure Ratio, medium dropout\",\"Inadequate Infrastructure, Best Infrastructure Ratio, medium dropout\",\"Inadequate Infrastructure, Best Infrastructure Ratio, medium dropout\",\"Inadequate Infrastructure, Best Infrastructure Ratio, medium dropout\",\"Inadequate Infrastructure, Best Infrastructure Ratio, medium dropout\",\"Inadequate Infrastructure, Best Infrastructure Ratio, medium dropout\",\"Inadequate Infrastructure, Best Infrastructure Ratio, medium dropout\",\"Inadequate Infrastructure, Best Infrastructure Ratio, medium dropout\",\"Inadequate Infrastructure, Best Infrastructure Ratio, medium dropout\",\"Inadequate Infrastructure, Best Infrastructure Ratio, medium dropout\",\"Inadequate Infrastructure, Best Infrastructure Ratio, medium dropout\",\"Inadequate Infrastructure, Best Infrastructure Ratio, medium dropout\",\"Inadequate Infrastructure, Best Infrastructure Ratio, medium dropout\",\"Inadequate Infrastructure, Best Infrastructure Ratio, medium dropout\",\"Inadequate Infrastructure, Best Infrastructure Ratio, medium dropout\",\"Inadequate Infrastructure, Best Infrastructure Ratio, medium dropout\",\"Inadequate Infrastructure, Best Infrastructure Ratio, medium dropout\",\"Inadequate Infrastructure, Best Infrastructure Ratio, medium dropout\",\"Inadequate Infrastructure, Best Infrastructure Ratio, medium dropout\",\"Inadequate Infrastructure, Best Infrastructure Ratio, medium dropout\",\"Inadequate Infrastructure, Best Infrastructure Ratio, medium dropout\",\"Inadequate Infrastructure, Best Infrastructure Ratio, medium dropout\",\"Inadequate Infrastructure, Best Infrastructure Ratio, medium dropout\",\"Inadequate Infrastructure, Best Infrastructure Ratio, medium dropout\",\"Inadequate Infrastructure, Best Infrastructure Ratio, medium dropout\",\"Inadequate Infrastructure, Best Infrastructure Ratio, medium dropout\",\"Inadequate Infrastructure, Best Infrastructure Ratio, medium dropout\",\"Inadequate Infrastructure, Best Infrastructure Ratio, medium dropout\",\"Inadequate Infrastructure, Best Infrastructure Ratio, medium dropout\",\"Inadequate Infrastructure, Best Infrastructure Ratio, medium dropout\",\"Inadequate Infrastructure, Best Infrastructure Ratio, medium dropout\",\"Inadequate Infrastructure, Best Infrastructure Ratio, medium dropout\",\"Inadequate Infrastructure, Best Infrastructure Ratio, medium dropout\",\"Inadequate Infrastructure, Best Infrastructure Ratio, medium dropout\",\"Inadequate Infrastructure, Best Infrastructure Ratio, medium dropout\",\"Inadequate Infrastructure, Best Infrastructure Ratio, medium dropout\",\"Inadequate Infrastructure, Best Infrastructure Ratio, medium dropout\",\"Inadequate Infrastructure, Best Infrastructure Ratio, medium dropout\",\"Inadequate Infrastructure, Best Infrastructure Ratio, medium dropout\",\"Inadequate Infrastructure, Best Infrastructure Ratio, medium dropout\",\"Inadequate Infrastructure, Best Infrastructure Ratio, medium dropout\",\"Inadequate Infrastructure, Best Infrastructure Ratio, medium dropout\",\"Inadequate Infrastructure, Best Infrastructure Ratio, medium dropout\",\"Inadequate Infrastructure, Best Infrastructure Ratio, medium dropout\",\"Inadequate Infrastructure, Best Infrastructure Ratio, medium dropout\",\"Inadequate Infrastructure, Best Infrastructure Ratio, medium dropout\",\"Inadequate Infrastructure, Best Infrastructure Ratio, medium dropout\",\"Inadequate Infrastructure, Best Infrastructure Ratio, medium dropout\",\"Inadequate Infrastructure, Best Infrastructure Ratio, medium dropout\",\"Inadequate Infrastructure, Best Infrastructure Ratio, medium dropout\",\"Inadequate Infrastructure, Best Infrastructure Ratio, medium dropout\",\"Inadequate Infrastructure, Best Infrastructure Ratio, medium dropout\",\"Inadequate Infrastructure, Best Infrastructure Ratio, medium dropout\",\"Inadequate Infrastructure, Best Infrastructure Ratio, medium dropout\",\"Inadequate Infrastructure, Best Infrastructure Ratio, medium dropout\",\"Inadequate Infrastructure, Best Infrastructure Ratio, medium dropout\",\"Inadequate Infrastructure, Best Infrastructure Ratio, medium dropout\",\"Inadequate Infrastructure, Best Infrastructure Ratio, medium dropout\",\"Inadequate Infrastructure, Best Infrastructure Ratio, medium dropout\",\"Inadequate Infrastructure, Best Infrastructure Ratio, medium dropout\",\"Inadequate Infrastructure, Best Infrastructure Ratio, medium dropout\",\"Inadequate Infrastructure, Best Infrastructure Ratio, medium dropout\",\"Inadequate Infrastructure, Best Infrastructure Ratio, medium dropout\",\"Inadequate Infrastructure, Best Infrastructure Ratio, medium dropout\",\"Inadequate Infrastructure, Best Infrastructure Ratio, medium dropout\",\"Inadequate Infrastructure, Best Infrastructure Ratio, medium dropout\",\"Inadequate Infrastructure, Best Infrastructure Ratio, medium dropout\",\"Inadequate Infrastructure, Best Infrastructure Ratio, medium dropout\",\"Inadequate Infrastructure, Best Infrastructure Ratio, medium dropout\",\"Inadequate Infrastructure, Best Infrastructure Ratio, medium dropout\",\"Inadequate Infrastructure, Best Infrastructure Ratio, medium dropout\",\"Inadequate Infrastructure, Best Infrastructure Ratio, medium dropout\",\"Inadequate Infrastructure, Best Infrastructure Ratio, medium dropout\",\"Inadequate Infrastructure, Best Infrastructure Ratio, medium dropout\",\"Inadequate Infrastructure, Best Infrastructure Ratio, medium dropout\",\"Inadequate Infrastructure, Best Infrastructure Ratio, medium dropout\",\"Inadequate Infrastructure, Best Infrastructure Ratio, medium dropout\",\"Inadequate Infrastructure, Best Infrastructure Ratio, medium dropout\",\"Inadequate Infrastructure, Best Infrastructure Ratio, medium dropout\",\"Inadequate Infrastructure, Best Infrastructure Ratio, medium dropout\",\"Inadequate Infrastructure, Best Infrastructure Ratio, medium dropout\",\"Inadequate Infrastructure, Best Infrastructure Ratio, medium dropout\",\"Inadequate Infrastructure, Best Infrastructure Ratio, medium dropout\",\"Inadequate Infrastructure, Best Infrastructure Ratio, medium dropout\",\"Inadequate Infrastructure, Best Infrastructure Ratio, medium dropout\",\"Inadequate Infrastructure, Best Infrastructure Ratio, medium dropout\",\"Inadequate Infrastructure, Best Infrastructure Ratio, medium dropout\",\"Inadequate Infrastructure, Best Infrastructure Ratio, medium dropout\",\"Inadequate Infrastructure, Best Infrastructure Ratio, medium dropout\",\"Inadequate Infrastructure, Best Infrastructure Ratio, medium dropout\",\"Inadequate Infrastructure, Best Infrastructure Ratio, medium dropout\",\"Inadequate Infrastructure, Best Infrastructure Ratio, medium dropout\",\"Inadequate Infrastructure, Best Infrastructure Ratio, medium dropout\",\"Inadequate Infrastructure, Best Infrastructure Ratio, medium dropout\",\"Inadequate Infrastructure, Best Infrastructure Ratio, medium dropout\",\"Inadequate Infrastructure, Best Infrastructure Ratio, medium dropout\",\"Inadequate Infrastructure, Best Infrastructure Ratio, medium dropout\",\"Inadequate Infrastructure, Best Infrastructure Ratio, medium dropout\",\"Inadequate Infrastructure, Best Infrastructure Ratio, medium dropout\",\"Inadequate Infrastructure, Best Infrastructure Ratio, medium dropout\",\"Inadequate Infrastructure, Best Infrastructure Ratio, medium dropout\",\"Inadequate Infrastructure, Best Infrastructure Ratio, medium dropout\",\"Inadequate Infrastructure, Best Infrastructure Ratio, medium dropout\",\"Inadequate Infrastructure, Best Infrastructure Ratio, medium dropout\",\"Inadequate Infrastructure, Best Infrastructure Ratio, medium dropout\",\"Inadequate Infrastructure, Best Infrastructure Ratio, medium dropout\",\"Best infrastructure, Good enrollment ratio, low dropout\",\"Best infrastructure, Good enrollment ratio, low dropout\",\"Good Infrastucture,less enrollment ratio, high dropout\",\"Good Infrastucture,less enrollment ratio, high dropout\",\"Good Infrastucture,less enrollment ratio, high dropout\",\"Good Infrastucture,less enrollment ratio, high dropout\",\"Good Infrastucture,less enrollment ratio, high dropout\",\"Inadequate Infrastructure, Best Infrastructure Ratio, medium dropout\",\"Good Infrastucture,less enrollment ratio, high dropout\",\"Best infrastructure, Good enrollment ratio, low dropout\",\"Best infrastructure, Good enrollment ratio, low dropout\",\"Best infrastructure, Good enrollment ratio, low dropout\",\"Best infrastructure, Good enrollment ratio, low dropout\",\"Best infrastructure, Good enrollment ratio, low dropout\",\"Best infrastructure, Good enrollment ratio, low dropout\",\"Best infrastructure, Good enrollment ratio, low dropout\",\"Best infrastructure, Good enrollment ratio, low dropout\",\"Best infrastructure, Good enrollment ratio, low dropout\",\"Best infrastructure, Good enrollment ratio, low dropout\",\"Best infrastructure, Good enrollment ratio, low dropout\",\"Best infrastructure, Good enrollment ratio, low dropout\",\"Best infrastructure, Good enrollment ratio, low dropout\",\"Best infrastructure, Good enrollment ratio, low dropout\",\"Best infrastructure, Good enrollment ratio, low dropout\",\"Best infrastructure, Good enrollment ratio, low dropout\",\"Best infrastructure, Good enrollment ratio, low dropout\",\"Best infrastructure, Good enrollment ratio, low dropout\",\"Best infrastructure, Good enrollment ratio, low dropout\",\"Best infrastructure, Good enrollment ratio, low dropout\",\"Best infrastructure, Good enrollment ratio, low dropout\",\"Best infrastructure, Good enrollment ratio, low dropout\",\"Best infrastructure, Good enrollment ratio, low dropout\",\"Best infrastructure, Good enrollment ratio, low dropout\",\"Best infrastructure, Good enrollment ratio, low dropout\",\"Best infrastructure, Good enrollment ratio, low dropout\",\"Best infrastructure, Good enrollment ratio, low dropout\",\"Best infrastructure, Good enrollment ratio, low dropout\",\"Best infrastructure, Good enrollment ratio, low dropout\",\"Best infrastructure, Good enrollment ratio, low dropout\",\"Best infrastructure, Good enrollment ratio, low dropout\",\"Best infrastructure, Good enrollment ratio, low dropout\",\"Best infrastructure, Good enrollment ratio, low dropout\",\"Best infrastructure, Good enrollment ratio, low dropout\",\"Best infrastructure, Good enrollment ratio, low dropout\",\"Best infrastructure, Good enrollment ratio, low dropout\",\"Best infrastructure, Good enrollment ratio, low dropout\",\"Best infrastructure, Good enrollment ratio, low dropout\",\"Best infrastructure, Good enrollment ratio, low dropout\",\"Best infrastructure, Good enrollment ratio, low dropout\",\"Best infrastructure, Good enrollment ratio, low dropout\",\"Best infrastructure, Good enrollment ratio, low dropout\",\"Best infrastructure, Good enrollment ratio, low dropout\",\"Best infrastructure, Good enrollment ratio, low dropout\",\"Best infrastructure, Good enrollment ratio, low dropout\",\"Best infrastructure, Good enrollment ratio, low dropout\",\"Best infrastructure, Good enrollment ratio, low dropout\",\"Best infrastructure, Good enrollment ratio, low dropout\",\"Best infrastructure, Good enrollment ratio, low dropout\",\"Best infrastructure, Good enrollment ratio, low dropout\",\"Best infrastructure, Good enrollment ratio, low dropout\",\"Best infrastructure, Good enrollment ratio, low dropout\",\"Best infrastructure, Good enrollment ratio, low dropout\",\"Best infrastructure, Good enrollment ratio, low dropout\",\"Best infrastructure, Good enrollment ratio, low dropout\",\"Best infrastructure, Good enrollment ratio, low dropout\",\"Best infrastructure, Good enrollment ratio, low dropout\",\"Best infrastructure, Good enrollment ratio, low dropout\",\"Best infrastructure, Good enrollment ratio, low dropout\",\"Best infrastructure, Good enrollment ratio, low dropout\",\"Best infrastructure, Good enrollment ratio, low dropout\",\"Best infrastructure, Good enrollment ratio, low dropout\",\"Best infrastructure, Good enrollment ratio, low dropout\",\"Best infrastructure, Good enrollment ratio, low dropout\",\"Best infrastructure, Good enrollment ratio, low dropout\",\"Best infrastructure, Good enrollment ratio, low dropout\",\"Best infrastructure, Good enrollment ratio, low dropout\",\"Best infrastructure, Good enrollment ratio, low dropout\",\"Best infrastructure, Good enrollment ratio, low dropout\",\"Best infrastructure, Good enrollment ratio, low dropout\",\"Best infrastructure, Good enrollment ratio, low dropout\",\"Best infrastructure, Good enrollment ratio, low dropout\",\"Best infrastructure, Good enrollment ratio, low dropout\",\"Best infrastructure, Good enrollment ratio, low dropout\",\"Best infrastructure, Good enrollment ratio, low dropout\",\"Best infrastructure, Good enrollment ratio, low dropout\",\"Best infrastructure, Good enrollment ratio, low dropout\",\"Best infrastructure, Good enrollment ratio, low dropout\",\"Best infrastructure, Good enrollment ratio, low dropout\",\"Best infrastructure, Good enrollment ratio, low dropout\",\"Best infrastructure, Good enrollment ratio, low dropout\",\"Best infrastructure, Good enrollment ratio, low dropout\",\"Best infrastructure, Good enrollment ratio, low dropout\",\"Best infrastructure, Good enrollment ratio, low dropout\",\"Best infrastructure, Good enrollment ratio, low dropout\",\"Best infrastructure, Good enrollment ratio, low dropout\",\"Best infrastructure, Good enrollment ratio, low dropout\",\"Best infrastructure, Good enrollment ratio, low dropout\",\"Best infrastructure, Good enrollment ratio, low dropout\",\"Best infrastructure, Good enrollment ratio, low dropout\",\"Best infrastructure, Good enrollment ratio, low dropout\",\"Best infrastructure, Good enrollment ratio, low dropout\",\"Best infrastructure, Good enrollment ratio, low dropout\",\"Best infrastructure, Good enrollment ratio, low dropout\",\"Best infrastructure, Good enrollment ratio, low dropout\",\"Best infrastructure, Good enrollment ratio, low dropout\",\"Best infrastructure, Good enrollment ratio, low dropout\",\"Best infrastructure, Good enrollment ratio, low dropout\",\"Best infrastructure, Good enrollment ratio, low dropout\",\"Best infrastructure, Good enrollment ratio, low dropout\",\"Best infrastructure, Good enrollment ratio, low dropout\",\"Best infrastructure, Good enrollment ratio, low dropout\",\"Best infrastructure, Good enrollment ratio, low dropout\",\"Best infrastructure, Good enrollment ratio, low dropout\",\"Best infrastructure, Good enrollment ratio, low dropout\",\"Best infrastructure, Good enrollment ratio, low dropout\",\"Best infrastructure, Good enrollment ratio, low dropout\",\"Best infrastructure, Good enrollment ratio, low dropout\",\"Best infrastructure, Good enrollment ratio, low dropout\",\"Best infrastructure, Good enrollment ratio, low dropout\",\"Best infrastructure, Good enrollment ratio, low dropout\",\"Best infrastructure, Good enrollment ratio, low dropout\",\"Best infrastructure, Good enrollment ratio, low dropout\",\"Best infrastructure, Good enrollment ratio, low dropout\",\"Best infrastructure, Good enrollment ratio, low dropout\",\"Best infrastructure, Good enrollment ratio, low dropout\",\"Best infrastructure, Good enrollment ratio, low dropout\",\"Best infrastructure, Good enrollment ratio, low dropout\",\"Best infrastructure, Good enrollment ratio, low dropout\",\"Best infrastructure, Good enrollment ratio, low dropout\",\"Best infrastructure, Good enrollment ratio, low dropout\",\"Best infrastructure, Good enrollment ratio, low dropout\",\"Best infrastructure, Good enrollment ratio, low dropout\",\"Best infrastructure, Good enrollment ratio, low dropout\",\"Best infrastructure, Good enrollment ratio, low dropout\",\"Best infrastructure, Good enrollment ratio, low dropout\",\"Best infrastructure, Good enrollment ratio, low dropout\",\"Best infrastructure, Good enrollment ratio, low dropout\",\"Best infrastructure, Good enrollment ratio, low dropout\",\"Best infrastructure, Good enrollment ratio, low dropout\",\"Best infrastructure, Good enrollment ratio, low dropout\",\"Best infrastructure, Good enrollment ratio, low dropout\",\"Best infrastructure, Good enrollment ratio, low dropout\",\"Best infrastructure, Good enrollment ratio, low dropout\",\"Best infrastructure, Good enrollment ratio, low dropout\",\"Best infrastructure, Good enrollment ratio, low dropout\",\"Best infrastructure, Good enrollment ratio, low dropout\",\"Best infrastructure, Good enrollment ratio, low dropout\",\"Best infrastructure, Good enrollment ratio, low dropout\",\"Best infrastructure, Good enrollment ratio, low dropout\",\"Best infrastructure, Good enrollment ratio, low dropout\",\"Best infrastructure, Good enrollment ratio, low dropout\",\"Best infrastructure, Good enrollment ratio, low dropout\",\"Best infrastructure, Good enrollment ratio, low dropout\",\"Best infrastructure, Good enrollment ratio, low dropout\",\"Best infrastructure, Good enrollment ratio, low dropout\",\"Best infrastructure, Good enrollment ratio, low dropout\",\"Best infrastructure, Good enrollment ratio, low dropout\",\"Best infrastructure, Good enrollment ratio, low dropout\",\"Best infrastructure, Good enrollment ratio, low dropout\",\"Best infrastructure, Good enrollment ratio, low dropout\",\"Best infrastructure, Good enrollment ratio, low dropout\",\"Best infrastructure, Good enrollment ratio, low dropout\",\"Best infrastructure, Good enrollment ratio, low dropout\",\"Best infrastructure, Good enrollment ratio, low dropout\",\"Best infrastructure, Good enrollment ratio, low dropout\",\"Best infrastructure, Good enrollment ratio, low dropout\",\"Best infrastructure, Good enrollment ratio, low dropout\",\"Best infrastructure, Good enrollment ratio, low dropout\",\"Best infrastructure, Good enrollment ratio, low dropout\",\"Best infrastructure, Good enrollment ratio, low dropout\",\"Best infrastructure, Good enrollment ratio, low dropout\",\"Best infrastructure, Good enrollment ratio, low dropout\",\"Best infrastructure, Good enrollment ratio, low dropout\",\"Best infrastructure, Good enrollment ratio, low dropout\",\"Best infrastructure, Good enrollment ratio, low dropout\",\"Best infrastructure, Good enrollment ratio, low dropout\",\"Best infrastructure, Good enrollment ratio, low dropout\",\"Best infrastructure, Good enrollment ratio, low dropout\",\"Best infrastructure, Good enrollment ratio, low dropout\",\"Best infrastructure, Good enrollment ratio, low dropout\",\"Best infrastructure, Good enrollment ratio, low dropout\",\"Best infrastructure, Good enrollment ratio, low dropout\",\"Best infrastructure, Good enrollment ratio, low dropout\",\"Best infrastructure, Good enrollment ratio, low dropout\",\"Best infrastructure, Good enrollment ratio, low dropout\",\"Best infrastructure, Good enrollment ratio, low dropout\",\"Best infrastructure, Good enrollment ratio, low dropout\",\"Best infrastructure, Good enrollment ratio, low dropout\",\"Best infrastructure, Good enrollment ratio, low dropout\",\"Best infrastructure, Good enrollment ratio, low dropout\",\"Best infrastructure, Good enrollment ratio, low dropout\",\"Best infrastructure, Good enrollment ratio, low dropout\",\"Best infrastructure, Good enrollment ratio, low dropout\",\"Best infrastructure, Good enrollment ratio, low dropout\",\"Best infrastructure, Good enrollment ratio, low dropout\",\"Best infrastructure, Good enrollment ratio, low dropout\",\"Best infrastructure, Good enrollment ratio, low dropout\",\"Best infrastructure, Good enrollment ratio, low dropout\",\"Best infrastructure, Good enrollment ratio, low dropout\",\"Best infrastructure, Good enrollment ratio, low dropout\",\"Best infrastructure, Good enrollment ratio, low dropout\",\"Best infrastructure, Good enrollment ratio, low dropout\",\"Best infrastructure, Good enrollment ratio, low dropout\",\"Best infrastructure, Good enrollment ratio, low dropout\",\"Best infrastructure, Good enrollment ratio, low dropout\",\"Best infrastructure, Good enrollment ratio, low dropout\",\"Best infrastructure, Good enrollment ratio, low dropout\",\"Best infrastructure, Good enrollment ratio, low dropout\",\"Best infrastructure, Good enrollment ratio, low dropout\",\"Best infrastructure, Good enrollment ratio, low dropout\",\"Best infrastructure, Good enrollment ratio, low dropout\",\"Best infrastructure, Good enrollment ratio, low dropout\",\"Best infrastructure, Good enrollment ratio, low dropout\",\"Best infrastructure, Good enrollment ratio, low dropout\",\"Best infrastructure, Good enrollment ratio, low dropout\",\"Best infrastructure, Good enrollment ratio, low dropout\",\"Best infrastructure, Good enrollment ratio, low dropout\",\"Best infrastructure, Good enrollment ratio, low dropout\",\"Best infrastructure, Good enrollment ratio, low dropout\",\"Best infrastructure, Good enrollment ratio, low dropout\",\"Best infrastructure, Good enrollment ratio, low dropout\",\"Best infrastructure, Good enrollment ratio, low dropout\",\"Best infrastructure, Good enrollment ratio, low dropout\",\"Best infrastructure, Good enrollment ratio, low dropout\",\"Best infrastructure, Good enrollment ratio, low dropout\",\"Best infrastructure, Good enrollment ratio, low dropout\",\"Best infrastructure, Good enrollment ratio, low dropout\",\"Best infrastructure, Good enrollment ratio, low dropout\",\"Best infrastructure, Good enrollment ratio, low dropout\",\"Best infrastructure, Good enrollment ratio, low dropout\",\"Best infrastructure, Good enrollment ratio, low dropout\",\"Best infrastructure, Good enrollment ratio, low dropout\",\"Best infrastructure, Good enrollment ratio, low dropout\",\"Best infrastructure, Good enrollment ratio, low dropout\",\"Best infrastructure, Good enrollment ratio, low dropout\",\"Best infrastructure, Good enrollment ratio, low dropout\",\"Best infrastructure, Good enrollment ratio, low dropout\",\"Best infrastructure, Good enrollment ratio, low dropout\",\"Best infrastructure, Good enrollment ratio, low dropout\",\"Best infrastructure, Good enrollment ratio, low dropout\",\"Best infrastructure, Good enrollment ratio, low dropout\",\"Best infrastructure, Good enrollment ratio, low dropout\",\"Good Infrastucture,less enrollment ratio, high dropout\",\"Good Infrastucture,less enrollment ratio, high dropout\",\"Best infrastructure, Good enrollment ratio, low dropout\",\"Best infrastructure, Good enrollment ratio, low dropout\",\"Best infrastructure, Good enrollment ratio, low dropout\",\"Best infrastructure, Good enrollment ratio, low dropout\",\"Best infrastructure, Good enrollment ratio, low dropout\",\"Best infrastructure, Good enrollment ratio, low dropout\",\"Best infrastructure, Good enrollment ratio, low dropout\",\"Best infrastructure, Good enrollment ratio, low dropout\",\"Best infrastructure, Good enrollment ratio, low dropout\",\"Best infrastructure, Good enrollment ratio, low dropout\",\"Best infrastructure, Good enrollment ratio, low dropout\",\"Best infrastructure, Good enrollment ratio, low dropout\",\"Best infrastructure, Good enrollment ratio, low dropout\",\"Best infrastructure, Good enrollment ratio, low dropout\",\"Best infrastructure, Good enrollment ratio, low dropout\",\"Best infrastructure, Good enrollment ratio, low dropout\",\"Best infrastructure, Good enrollment ratio, low dropout\",\"Best infrastructure, Good enrollment ratio, low dropout\",\"Best infrastructure, Good enrollment ratio, low dropout\",\"Best infrastructure, Good enrollment ratio, low dropout\",\"Best infrastructure, Good enrollment ratio, low dropout\",\"Best infrastructure, Good enrollment ratio, low dropout\",\"Best infrastructure, Good enrollment ratio, low dropout\",\"Inadequate Infrastructure, Best Infrastructure Ratio, medium dropout\",\"Inadequate Infrastructure, Best Infrastructure Ratio, medium dropout\",\"Inadequate Infrastructure, Best Infrastructure Ratio, medium dropout\",\"Inadequate Infrastructure, Best Infrastructure Ratio, medium dropout\",\"Inadequate Infrastructure, Best Infrastructure Ratio, medium dropout\",\"Inadequate Infrastructure, Best Infrastructure Ratio, medium dropout\",\"Inadequate Infrastructure, Best Infrastructure Ratio, medium dropout\",\"Inadequate Infrastructure, Best Infrastructure Ratio, medium dropout\",\"Inadequate Infrastructure, Best Infrastructure Ratio, medium dropout\",\"Inadequate Infrastructure, Best Infrastructure Ratio, medium dropout\",\"Inadequate Infrastructure, Best Infrastructure Ratio, medium dropout\",\"Inadequate Infrastructure, Best Infrastructure Ratio, medium dropout\",\"Inadequate Infrastructure, Best Infrastructure Ratio, medium dropout\",\"Inadequate Infrastructure, Best Infrastructure Ratio, medium dropout\",\"Inadequate Infrastructure, Best Infrastructure Ratio, medium dropout\",\"Inadequate Infrastructure, Best Infrastructure Ratio, medium dropout\",\"Inadequate Infrastructure, Best Infrastructure Ratio, medium dropout\",\"Inadequate Infrastructure, Best Infrastructure Ratio, medium dropout\",\"Inadequate Infrastructure, Best Infrastructure Ratio, medium dropout\",\"Inadequate Infrastructure, Best Infrastructure Ratio, medium dropout\",\"Inadequate Infrastructure, Best Infrastructure Ratio, medium dropout\",\"Good Infrastucture,less enrollment ratio, high dropout\",\"Good Infrastucture,less enrollment ratio, high dropout\",\"Good Infrastucture,less enrollment ratio, high dropout\",\"Best infrastructure, Good enrollment ratio, low dropout\",\"Best infrastructure, Good enrollment ratio, low dropout\",\"Best infrastructure, Good enrollment ratio, low dropout\",\"Best infrastructure, Good enrollment ratio, low dropout\",\"Good Infrastucture,less enrollment ratio, high dropout\",\"Good Infrastucture,less enrollment ratio, high dropout\",\"Inadequate Infrastructure, Best Infrastructure Ratio, medium dropout\",\"Best infrastructure, Good enrollment ratio, low dropout\",\"Good Infrastucture,less enrollment ratio, high dropout\",\"Good Infrastucture,less enrollment ratio, high dropout\",\"Good Infrastucture,less enrollment ratio, high dropout\",\"Good Infrastucture,less enrollment ratio, high dropout\",\"Good Infrastucture,less enrollment ratio, high dropout\",\"Good Infrastucture,less enrollment ratio, high dropout\",\"Good Infrastucture,less enrollment ratio, high dropout\",\"Good Infrastucture,less enrollment ratio, high dropout\",\"Good Infrastucture,less enrollment ratio, high dropout\",\"Good Infrastucture,less enrollment ratio, high dropout\",\"Good Infrastucture,less enrollment ratio, high dropout\",\"Good Infrastucture,less enrollment ratio, high dropout\",\"Good Infrastucture,less enrollment ratio, high dropout\",\"Good Infrastucture,less enrollment ratio, high dropout\",\"Best infrastructure, Good enrollment ratio, low dropout\",\"Best infrastructure, Good enrollment ratio, low dropout\",\"Best infrastructure, Good enrollment ratio, low dropout\",\"Best infrastructure, Good enrollment ratio, low dropout\",\"Best infrastructure, Good enrollment ratio, low dropout\",\"Best infrastructure, Good enrollment ratio, low dropout\",\"Best infrastructure, Good enrollment ratio, low dropout\",\"Best infrastructure, Good enrollment ratio, low dropout\",\"Best infrastructure, Good enrollment ratio, low dropout\",\"Best infrastructure, Good enrollment ratio, low dropout\",\"Best infrastructure, Good enrollment ratio, low dropout\",\"Best infrastructure, Good enrollment ratio, low dropout\",\"Best infrastructure, Good enrollment ratio, low dropout\",\"Best infrastructure, Good enrollment ratio, low dropout\",\"Best infrastructure, Good enrollment ratio, low dropout\",\"Good Infrastucture,less enrollment ratio, high dropout\",\"Inadequate Infrastructure, Best Infrastructure Ratio, medium dropout\",\"Best infrastructure, Good enrollment ratio, low dropout\",\"Best infrastructure, Good enrollment ratio, low dropout\",\"Best infrastructure, Good enrollment ratio, low dropout\",\"Best infrastructure, Good enrollment ratio, low dropout\",\"Best infrastructure, Good enrollment ratio, low dropout\",\"Best infrastructure, Good enrollment ratio, low dropout\",\"Best infrastructure, Good enrollment ratio, low dropout\",\"Best infrastructure, Good enrollment ratio, low dropout\",\"Best infrastructure, Good enrollment ratio, low dropout\",\"Best infrastructure, Good enrollment ratio, low dropout\",\"Best infrastructure, Good enrollment ratio, low dropout\",\"Best infrastructure, Good enrollment ratio, low dropout\",\"Best infrastructure, Good enrollment ratio, low dropout\",\"Best infrastructure, Good enrollment ratio, low dropout\",\"Best infrastructure, Good enrollment ratio, low dropout\",\"Best infrastructure, Good enrollment ratio, low dropout\",\"Best infrastructure, Good enrollment ratio, low dropout\",\"Best infrastructure, Good enrollment ratio, low dropout\",\"Best infrastructure, Good enrollment ratio, low dropout\",\"Best infrastructure, Good enrollment ratio, low dropout\",\"Best infrastructure, Good enrollment ratio, low dropout\",\"Best infrastructure, Good enrollment ratio, low dropout\",\"Best infrastructure, Good enrollment ratio, low dropout\",\"Best infrastructure, Good enrollment ratio, low dropout\",\"Best infrastructure, Good enrollment ratio, low dropout\",\"Best infrastructure, Good enrollment ratio, low dropout\",\"Best infrastructure, Good enrollment ratio, low dropout\",\"Best infrastructure, Good enrollment ratio, low dropout\",\"Best infrastructure, Good enrollment ratio, low dropout\",\"Best infrastructure, Good enrollment ratio, low dropout\",\"Best infrastructure, Good enrollment ratio, low dropout\",\"Best infrastructure, Good enrollment ratio, low dropout\",\"Best infrastructure, Good enrollment ratio, low dropout\",\"Good Infrastucture,less enrollment ratio, high dropout\",\"Inadequate Infrastructure, Best Infrastructure Ratio, medium dropout\",\"Good Infrastucture,less enrollment ratio, high dropout\",\"Good Infrastucture,less enrollment ratio, high dropout\",\"Good Infrastucture,less enrollment ratio, high dropout\",\"Good Infrastucture,less enrollment ratio, high dropout\",\"Best infrastructure, Good enrollment ratio, low dropout\",\"Good Infrastucture,less enrollment ratio, high dropout\",\"Good Infrastucture,less enrollment ratio, high dropout\",\"Good Infrastucture,less enrollment ratio, high dropout\",\"Good Infrastucture,less enrollment ratio, high dropout\",\"Good Infrastucture,less enrollment ratio, high dropout\",\"Good Infrastucture,less enrollment ratio, high dropout\",\"Good Infrastucture,less enrollment ratio, high dropout\",\"Good Infrastucture,less enrollment ratio, high dropout\",\"Good Infrastucture,less enrollment ratio, high dropout\",\"Good Infrastucture,less enrollment ratio, high dropout\",\"Good Infrastucture,less enrollment ratio, high dropout\",\"Good Infrastucture,less enrollment ratio, high dropout\",\"Good Infrastucture,less enrollment ratio, high dropout\",\"Good Infrastucture,less enrollment ratio, high dropout\",\"Good Infrastucture,less enrollment ratio, high dropout\",\"Good Infrastucture,less enrollment ratio, high dropout\",\"Good Infrastucture,less enrollment ratio, high dropout\",\"Good Infrastucture,less enrollment ratio, high dropout\",\"Good Infrastucture,less enrollment ratio, high dropout\",\"Good Infrastucture,less enrollment ratio, high dropout\",\"Good Infrastucture,less enrollment ratio, high dropout\",\"Good Infrastucture,less enrollment ratio, high dropout\",\"Good Infrastucture,less enrollment ratio, high dropout\",\"Good Infrastucture,less enrollment ratio, high dropout\",\"Good Infrastucture,less enrollment ratio, high dropout\",\"Good Infrastucture,less enrollment ratio, high dropout\",\"Good Infrastucture,less enrollment ratio, high dropout\",\"Good Infrastucture,less enrollment ratio, high dropout\",\"Good Infrastucture,less enrollment ratio, high dropout\",\"Good Infrastucture,less enrollment ratio, high dropout\",\"Good Infrastucture,less enrollment ratio, high dropout\",\"Good Infrastucture,less enrollment ratio, high dropout\",\"Good Infrastucture,less enrollment ratio, high dropout\",\"Good Infrastucture,less enrollment ratio, high dropout\",\"Good Infrastucture,less enrollment ratio, high dropout\",\"Good Infrastucture,less enrollment ratio, high dropout\",\"Good Infrastucture,less enrollment ratio, high dropout\",\"Good Infrastucture,less enrollment ratio, high dropout\",\"Good Infrastucture,less enrollment ratio, high dropout\",\"Good Infrastucture,less enrollment ratio, high dropout\",\"Good Infrastucture,less enrollment ratio, high dropout\",\"Good Infrastucture,less enrollment ratio, high dropout\",\"Good Infrastucture,less enrollment ratio, high dropout\",\"Good Infrastucture,less enrollment ratio, high dropout\",\"Good Infrastucture,less enrollment ratio, high dropout\",\"Good Infrastucture,less enrollment ratio, high dropout\",\"Good Infrastucture,less enrollment ratio, high dropout\",\"Good Infrastucture,less enrollment ratio, high dropout\",\"Good Infrastucture,less enrollment ratio, high dropout\",\"Good Infrastucture,less enrollment ratio, high dropout\",\"Good Infrastucture,less enrollment ratio, high dropout\",\"Good Infrastucture,less enrollment ratio, high dropout\",\"Good Infrastucture,less enrollment ratio, high dropout\",\"Good Infrastucture,less enrollment ratio, high dropout\",\"Good Infrastucture,less enrollment ratio, high dropout\",\"Good Infrastucture,less enrollment ratio, high dropout\",\"Good Infrastucture,less enrollment ratio, high dropout\",\"Good Infrastucture,less enrollment ratio, high dropout\",\"Good Infrastucture,less enrollment ratio, high dropout\",\"Good Infrastucture,less enrollment ratio, high dropout\",\"Good Infrastucture,less enrollment ratio, high dropout\",\"Good Infrastucture,less enrollment ratio, high dropout\",\"Good Infrastucture,less enrollment ratio, high dropout\",\"Good Infrastucture,less enrollment ratio, high dropout\",\"Good Infrastucture,less enrollment ratio, high dropout\",\"Good Infrastucture,less enrollment ratio, high dropout\",\"Good Infrastucture,less enrollment ratio, high dropout\",\"Good Infrastucture,less enrollment ratio, high dropout\",\"Good Infrastucture,less enrollment ratio, high dropout\",\"Good Infrastucture,less enrollment ratio, high dropout\",\"Good Infrastucture,less enrollment ratio, high dropout\",\"Good Infrastucture,less enrollment ratio, high dropout\",\"Good Infrastucture,less enrollment ratio, high dropout\",\"Good Infrastucture,less enrollment ratio, high dropout\",\"Good Infrastucture,less enrollment ratio, high dropout\",\"Good Infrastucture,less enrollment ratio, high dropout\",\"Good Infrastucture,less enrollment ratio, high dropout\",\"Good Infrastucture,less enrollment ratio, high dropout\",\"Good Infrastucture,less enrollment ratio, high dropout\",\"Good Infrastucture,less enrollment ratio, high dropout\",\"Good Infrastucture,less enrollment ratio, high dropout\",\"Good Infrastucture,less enrollment ratio, high dropout\",\"Good Infrastucture,less enrollment ratio, high dropout\",\"Good Infrastucture,less enrollment ratio, high dropout\",\"Good Infrastucture,less enrollment ratio, high dropout\",\"Good Infrastucture,less enrollment ratio, high dropout\",\"Good Infrastucture,less enrollment ratio, high dropout\",\"Good Infrastucture,less enrollment ratio, high dropout\",\"Good Infrastucture,less enrollment ratio, high dropout\",\"Good Infrastucture,less enrollment ratio, high dropout\",\"Good Infrastucture,less enrollment ratio, high dropout\",\"Good Infrastucture,less enrollment ratio, high dropout\",\"Good Infrastucture,less enrollment ratio, high dropout\",\"Good Infrastucture,less enrollment ratio, high dropout\",\"Good Infrastucture,less enrollment ratio, high dropout\",\"Good Infrastucture,less enrollment ratio, high dropout\",\"Good Infrastucture,less enrollment ratio, high dropout\",\"Good Infrastucture,less enrollment ratio, high dropout\",\"Good Infrastucture,less enrollment ratio, high dropout\",\"Good Infrastucture,less enrollment ratio, high dropout\",\"Good Infrastucture,less enrollment ratio, high dropout\",\"Good Infrastucture,less enrollment ratio, high dropout\",\"Good Infrastucture,less enrollment ratio, high dropout\",\"Good Infrastucture,less enrollment ratio, high dropout\",\"Good Infrastucture,less enrollment ratio, high dropout\",\"Good Infrastucture,less enrollment ratio, high dropout\",\"Good Infrastucture,less enrollment ratio, high dropout\",\"Good Infrastucture,less enrollment ratio, high dropout\",\"Good Infrastucture,less enrollment ratio, high dropout\",\"Good Infrastucture,less enrollment ratio, high dropout\",\"Good Infrastucture,less enrollment ratio, high dropout\",\"Good Infrastucture,less enrollment ratio, high dropout\",\"Good Infrastucture,less enrollment ratio, high dropout\",\"Good Infrastucture,less enrollment ratio, high dropout\",\"Good Infrastucture,less enrollment ratio, high dropout\",\"Good Infrastucture,less enrollment ratio, high dropout\",\"Good Infrastucture,less enrollment ratio, high dropout\",\"Good Infrastucture,less enrollment ratio, high dropout\",\"Good Infrastucture,less enrollment ratio, high dropout\",\"Good Infrastucture,less enrollment ratio, high dropout\",\"Good Infrastucture,less enrollment ratio, high dropout\",\"Good Infrastucture,less enrollment ratio, high dropout\",\"Good Infrastucture,less enrollment ratio, high dropout\"],\"Colormap\":[2,2,2,2,2,2,2,2,2,2,2,2,2,2,2,2,2,2,2,2,2,2,2,2,2,2,2,2,2,2,2,2,2,2,2,2,2,2,2,2,2,2,2,2,2,2,2,2,2,2,2,2,2,2,2,2,2,2,2,2,2,2,2,2,2,2,2,2,2,2,2,2,2,2,2,2,2,2,2,2,2,2,2,2,2,2,2,2,2,2,2,2,2,2,2,2,2,2,2,2,2,2,2,2,2,2,2,2,2,2,2,2,2,2,2,2,2,2,2,2,2,2,2,2,2,2,2,2,2,2,2,2,2,2,2,2,2,2,2,2,2,2,2,2,2,2,2,2,2,2,2,2,2,2,2,2,2,2,2,2,2,2,2,2,2,2,2,2,2,2,2,2,2,2,2,2,2,2,2,2,2,2,2,2,2,2,1,1,0,0,0,0,0,2,0,1,1,1,1,1,1,1,1,1,1,1,1,1,1,1,1,1,1,1,1,1,1,1,1,1,1,1,1,1,1,1,1,1,1,1,1,1,1,1,1,1,1,1,1,1,1,1,1,1,1,1,1,1,1,1,1,1,1,1,1,1,1,1,1,1,1,1,1,1,1,1,1,1,1,1,1,1,1,1,1,1,1,1,1,1,1,1,1,1,1,1,1,1,1,1,1,1,1,1,1,1,1,1,1,1,1,1,1,1,1,1,1,1,1,1,1,1,1,1,1,1,1,1,1,1,1,1,1,1,1,1,1,1,1,1,1,1,1,1,1,1,1,1,1,1,1,1,1,1,1,1,1,1,1,1,1,1,1,1,1,1,1,1,1,1,1,1,1,1,1,1,1,1,1,1,1,1,1,1,1,1,1,1,1,1,1,1,1,1,1,1,1,1,1,1,1,1,1,1,1,1,1,1,1,1,1,1,1,1,1,1,1,1,1,1,1,1,1,1,1,1,1,1,1,1,1,1,1,1,1,1,1,1,0,0,1,1,1,1,1,1,1,1,1,1,1,1,1,1,1,1,1,1,1,1,1,1,1,2,2,2,2,2,2,2,2,2,2,2,2,2,2,2,2,2,2,2,2,2,0,0,0,1,1,1,1,0,0,2,1,0,0,0,0,0,0,0,0,0,0,0,0,0,0,1,1,1,1,1,1,1,1,1,1,1,1,1,1,1,0,2,1,1,1,1,1,1,1,1,1,1,1,1,1,1,1,1,1,1,1,1,1,1,1,1,1,1,1,1,1,1,1,1,1,0,2,0,0,0,0,1,0,0,0,0,0,0,0,0,0,0,0,0,0,0,0,0,0,0,0,0,0,0,0,0,0,0,0,0,0,0,0,0,0,0,0,0,0,0,0,0,0,0,0,0,0,0,0,0,0,0,0,0,0,0,0,0,0,0,0,0,0,0,0,0,0,0,0,0,0,0,0,0,0,0,0,0,0,0,0,0,0,0,0,0,0,0,0,0,0,0,0,0,0,0,0,0,0,0,0,0,0,0,0,0,0,0,0,0,0,0,0,0,0,0,0,0,0,0,0,0,0,0,0],\"State_UT\":[\"Andaman & Nicobar Island\",\"Andaman & Nicobar Island\",\"Andaman & Nicobar Island\",\"Andaman & Nicobar Island\",\"Andaman & Nicobar Island\",\"Andaman & Nicobar Island\",\"Andaman & Nicobar Island\",\"Andaman & Nicobar Island\",\"Andaman & Nicobar Island\",\"Andaman & Nicobar Island\",\"Andaman & Nicobar Island\",\"Andaman & Nicobar Island\",\"Andaman & Nicobar Island\",\"Andaman & Nicobar Island\",\"Andaman & Nicobar Island\",\"Andaman & Nicobar Island\",\"Andaman & Nicobar Island\",\"Andaman & Nicobar Island\",\"Andaman & Nicobar Island\",\"Andaman & Nicobar Island\",\"Andaman & Nicobar Island\",\"Andaman & Nicobar Island\",\"Andaman & Nicobar Island\",\"Andaman & Nicobar Island\",\"Andaman & Nicobar Island\",\"Andaman & Nicobar Island\",\"Andaman & Nicobar Island\",\"Andaman & Nicobar Island\",\"Andaman & Nicobar Island\",\"Andaman & Nicobar Island\",\"Andaman & Nicobar Island\",\"Andaman & Nicobar Island\",\"Andaman & Nicobar Island\",\"Andaman & Nicobar Island\",\"Andaman & Nicobar Island\",\"Andaman & Nicobar Island\",\"Andaman & Nicobar Island\",\"Andaman & Nicobar Island\",\"Andaman & Nicobar Island\",\"Andaman & Nicobar Island\",\"Andaman & Nicobar Island\",\"Andaman & Nicobar Island\",\"Andaman & Nicobar Island\",\"Andaman & Nicobar Island\",\"Andaman & Nicobar Island\",\"Andaman & Nicobar Island\",\"Andaman & Nicobar Island\",\"Andaman & Nicobar Island\",\"Andaman & Nicobar Island\",\"Andaman & Nicobar Island\",\"Andaman & Nicobar Island\",\"Andaman & Nicobar Island\",\"Andaman & Nicobar Island\",\"Andaman & Nicobar Island\",\"Andaman & Nicobar Island\",\"Andaman & Nicobar Island\",\"Andaman & Nicobar Island\",\"Andaman & Nicobar Island\",\"Andaman & Nicobar Island\",\"Andaman & Nicobar Island\",\"Andaman & Nicobar Island\",\"Andaman & Nicobar Island\",\"Andaman & Nicobar Island\",\"Andaman & Nicobar Island\",\"Andaman & Nicobar Island\",\"Andaman & Nicobar Island\",\"Andaman & Nicobar Island\",\"Andaman & Nicobar Island\",\"Andaman & Nicobar Island\",\"Andaman & Nicobar Island\",\"Andaman & Nicobar Island\",\"Andaman & Nicobar Island\",\"Andaman & Nicobar Island\",\"Andaman & Nicobar Island\",\"Andaman & Nicobar Island\",\"Andaman & Nicobar Island\",\"Andaman & Nicobar Island\",\"Andaman & Nicobar Island\",\"Andaman & Nicobar Island\",\"Andaman & Nicobar Island\",\"Andaman & Nicobar Island\",\"Andaman & Nicobar Island\",\"Andaman & Nicobar Island\",\"Andaman & Nicobar Island\",\"Andaman & Nicobar Island\",\"Andaman & Nicobar Island\",\"Andaman & Nicobar Island\",\"Andaman & Nicobar Island\",\"Andaman & Nicobar Island\",\"Andaman & Nicobar Island\",\"Andaman & Nicobar Island\",\"Andaman & Nicobar Island\",\"Andaman & Nicobar Island\",\"Andaman & Nicobar Island\",\"Andaman & Nicobar Island\",\"Andaman & Nicobar Island\",\"Andaman & Nicobar Island\",\"Andaman & Nicobar Island\",\"Andaman & Nicobar Island\",\"Andaman & Nicobar Island\",\"Andaman & Nicobar Island\",\"Andaman & Nicobar Island\",\"Andaman & Nicobar Island\",\"Andaman & Nicobar Island\",\"Andaman & Nicobar Island\",\"Andaman & Nicobar Island\",\"Andaman & Nicobar Island\",\"Andaman & Nicobar Island\",\"Andaman & Nicobar Island\",\"Andaman & Nicobar Island\",\"Andaman & Nicobar Island\",\"Andaman & Nicobar Island\",\"Andaman & Nicobar Island\",\"Andaman & Nicobar Island\",\"Andaman & Nicobar Island\",\"Andaman & Nicobar Island\",\"Andaman & Nicobar Island\",\"Andaman & Nicobar Island\",\"Andaman & Nicobar Island\",\"Andaman & Nicobar Island\",\"Andaman & Nicobar Island\",\"Andaman & Nicobar Island\",\"Andaman & Nicobar Island\",\"Andaman & Nicobar Island\",\"Andaman & Nicobar Island\",\"Andaman & Nicobar Island\",\"Andaman & Nicobar Island\",\"Andaman & Nicobar Island\",\"Andaman & Nicobar Island\",\"Andaman & Nicobar Island\",\"Andaman & Nicobar Island\",\"Andaman & Nicobar Island\",\"Andaman & Nicobar Island\",\"Andaman & Nicobar Island\",\"Andaman & Nicobar Island\",\"Andaman & Nicobar Island\",\"Andaman & Nicobar Island\",\"Andaman & Nicobar Island\",\"Andaman & Nicobar Island\",\"Andaman & Nicobar Island\",\"Andaman & Nicobar Island\",\"Andaman & Nicobar Island\",\"Andaman & Nicobar Island\",\"Andaman & Nicobar Island\",\"Andaman & Nicobar Island\",\"Andaman & Nicobar Island\",\"Andaman & Nicobar Island\",\"Andaman & Nicobar Island\",\"Andaman & Nicobar Island\",\"Andaman & Nicobar Island\",\"Andaman & Nicobar Island\",\"Andaman & Nicobar Island\",\"Andaman & Nicobar Island\",\"Andaman & Nicobar Island\",\"Andaman & Nicobar Island\",\"Andaman & Nicobar Island\",\"Andaman & Nicobar Island\",\"Andaman & Nicobar Island\",\"Andaman & Nicobar Island\",\"Andaman & Nicobar Island\",\"Andaman & Nicobar Island\",\"Andaman & Nicobar Island\",\"Andaman & Nicobar Island\",\"Andaman & Nicobar Island\",\"Andaman & Nicobar Island\",\"Andaman & Nicobar Island\",\"Andaman & Nicobar Island\",\"Andaman & Nicobar Island\",\"Andaman & Nicobar Island\",\"Andaman & Nicobar Island\",\"Andaman & Nicobar Island\",\"Andaman & Nicobar Island\",\"Andaman & Nicobar Island\",\"Andaman & Nicobar Island\",\"Andaman & Nicobar Island\",\"Andaman & Nicobar Island\",\"Andaman & Nicobar Island\",\"Andaman & Nicobar Island\",\"Andaman & Nicobar Island\",\"Andaman & Nicobar Island\",\"Andaman & Nicobar Island\",\"Andaman & Nicobar Island\",\"Andaman & Nicobar Island\",\"Andaman & Nicobar Island\",\"Andaman & Nicobar Island\",\"Andaman & Nicobar Island\",\"Andhra Pradesh\",\"Andhra Pradesh\",\"Arunanchal Pradesh\",\"Assam\",\"Assam\",\"Bihar\",\"Bihar\",\"Chandigarh\",\"Chhattisgarh\",\"Dadara & Nagar Havelli\",\"Daman & Diu\",\"Daman & Diu\",\"Daman & Diu\",\"Daman & Diu\",\"Daman & Diu\",\"NCT of Delhi\",\"Goa\",\"Goa\",\"Gujarat\",\"Gujarat\",\"Gujarat\",\"Gujarat\",\"Gujarat\",\"Gujarat\",\"Gujarat\",\"Gujarat\",\"Gujarat\",\"Gujarat\",\"Gujarat\",\"Gujarat\",\"Gujarat\",\"Gujarat\",\"Gujarat\",\"Gujarat\",\"Gujarat\",\"Gujarat\",\"Gujarat\",\"Gujarat\",\"Gujarat\",\"Gujarat\",\"Gujarat\",\"Gujarat\",\"Gujarat\",\"Gujarat\",\"Gujarat\",\"Gujarat\",\"Gujarat\",\"Gujarat\",\"Gujarat\",\"Gujarat\",\"Gujarat\",\"Gujarat\",\"Gujarat\",\"Gujarat\",\"Gujarat\",\"Gujarat\",\"Gujarat\",\"Gujarat\",\"Gujarat\",\"Gujarat\",\"Gujarat\",\"Gujarat\",\"Gujarat\",\"Gujarat\",\"Gujarat\",\"Gujarat\",\"Gujarat\",\"Gujarat\",\"Gujarat\",\"Gujarat\",\"Gujarat\",\"Gujarat\",\"Gujarat\",\"Gujarat\",\"Gujarat\",\"Gujarat\",\"Gujarat\",\"Gujarat\",\"Gujarat\",\"Gujarat\",\"Gujarat\",\"Gujarat\",\"Gujarat\",\"Gujarat\",\"Gujarat\",\"Gujarat\",\"Gujarat\",\"Gujarat\",\"Gujarat\",\"Gujarat\",\"Gujarat\",\"Gujarat\",\"Gujarat\",\"Gujarat\",\"Gujarat\",\"Gujarat\",\"Gujarat\",\"Gujarat\",\"Gujarat\",\"Gujarat\",\"Gujarat\",\"Gujarat\",\"Gujarat\",\"Gujarat\",\"Gujarat\",\"Gujarat\",\"Gujarat\",\"Gujarat\",\"Gujarat\",\"Gujarat\",\"Gujarat\",\"Gujarat\",\"Gujarat\",\"Gujarat\",\"Gujarat\",\"Gujarat\",\"Gujarat\",\"Gujarat\",\"Gujarat\",\"Gujarat\",\"Gujarat\",\"Gujarat\",\"Gujarat\",\"Gujarat\",\"Gujarat\",\"Gujarat\",\"Gujarat\",\"Gujarat\",\"Gujarat\",\"Gujarat\",\"Gujarat\",\"Gujarat\",\"Gujarat\",\"Gujarat\",\"Gujarat\",\"Gujarat\",\"Gujarat\",\"Gujarat\",\"Gujarat\",\"Gujarat\",\"Gujarat\",\"Gujarat\",\"Gujarat\",\"Gujarat\",\"Gujarat\",\"Gujarat\",\"Gujarat\",\"Gujarat\",\"Gujarat\",\"Gujarat\",\"Gujarat\",\"Gujarat\",\"Gujarat\",\"Gujarat\",\"Gujarat\",\"Gujarat\",\"Gujarat\",\"Gujarat\",\"Gujarat\",\"Gujarat\",\"Gujarat\",\"Gujarat\",\"Gujarat\",\"Gujarat\",\"Gujarat\",\"Gujarat\",\"Gujarat\",\"Gujarat\",\"Gujarat\",\"Gujarat\",\"Gujarat\",\"Gujarat\",\"Gujarat\",\"Gujarat\",\"Gujarat\",\"Gujarat\",\"Gujarat\",\"Gujarat\",\"Gujarat\",\"Gujarat\",\"Gujarat\",\"Gujarat\",\"Gujarat\",\"Gujarat\",\"Gujarat\",\"Gujarat\",\"Gujarat\",\"Gujarat\",\"Gujarat\",\"Gujarat\",\"Gujarat\",\"Gujarat\",\"Gujarat\",\"Gujarat\",\"Gujarat\",\"Gujarat\",\"Gujarat\",\"Gujarat\",\"Gujarat\",\"Gujarat\",\"Gujarat\",\"Gujarat\",\"Gujarat\",\"Gujarat\",\"Gujarat\",\"Gujarat\",\"Gujarat\",\"Gujarat\",\"Gujarat\",\"Gujarat\",\"Gujarat\",\"Gujarat\",\"Gujarat\",\"Gujarat\",\"Gujarat\",\"Gujarat\",\"Gujarat\",\"Gujarat\",\"Gujarat\",\"Gujarat\",\"Gujarat\",\"Gujarat\",\"Gujarat\",\"Gujarat\",\"Gujarat\",\"Gujarat\",\"Gujarat\",\"Gujarat\",\"Gujarat\",\"Gujarat\",\"Gujarat\",\"Gujarat\",\"Gujarat\",\"Gujarat\",\"Gujarat\",\"Gujarat\",\"Gujarat\",\"Gujarat\",\"Gujarat\",\"Gujarat\",\"Haryana\",\"Himachal Pradesh\",\"Jammu & Kashmir\",\"Jharkhand\",\"Karnataka\",\"Karnataka\",\"Karnataka\",\"Karnataka\",\"Karnataka\",\"Karnataka\",\"Karnataka\",\"Karnataka\",\"Karnataka\",\"Karnataka\",\"Karnataka\",\"Karnataka\",\"Karnataka\",\"Karnataka\",\"Karnataka\",\"Karnataka\",\"Karnataka\",\"Karnataka\",\"Karnataka\",\"Karnataka\",\"Karnataka\",\"Karnataka\",\"Kerala\",\"Lakshadweep\",\"Lakshadweep\",\"Lakshadweep\",\"Lakshadweep\",\"Lakshadweep\",\"Lakshadweep\",\"Lakshadweep\",\"Lakshadweep\",\"Lakshadweep\",\"Lakshadweep\",\"Lakshadweep\",\"Lakshadweep\",\"Lakshadweep\",\"Lakshadweep\",\"Lakshadweep\",\"Lakshadweep\",\"Lakshadweep\",\"Lakshadweep\",\"Lakshadweep\",\"Lakshadweep\",\"Lakshadweep\",\"Madhya Pradesh\",\"Madhya Pradesh\",\"Madhya Pradesh\",\"Maharashtra\",\"Maharashtra\",\"Maharashtra\",\"Maharashtra\",\"Manipur\",\"Meghalaya\",\"Mizoram\",\"Nagaland\",\"Odisha\",\"Odisha\",\"Odisha\",\"Odisha\",\"Odisha\",\"Odisha\",\"Odisha\",\"Odisha\",\"Odisha\",\"Odisha\",\"Odisha\",\"Odisha\",\"Odisha\",\"Odisha\",\"Puducherry\",\"Puducherry\",\"Puducherry\",\"Puducherry\",\"Puducherry\",\"Puducherry\",\"Puducherry\",\"Puducherry\",\"Puducherry\",\"Puducherry\",\"Puducherry\",\"Puducherry\",\"Puducherry\",\"Puducherry\",\"Punjab\",\"Rajasthan\",\"Sikkim\",\"Tamil Nadu\",\"Tamil Nadu\",\"Tamil Nadu\",\"Tamil Nadu\",\"Tamil Nadu\",\"Tamil Nadu\",\"Tamil Nadu\",\"Tamil Nadu\",\"Tamil Nadu\",\"Tamil Nadu\",\"Tamil Nadu\",\"Tamil Nadu\",\"Tamil Nadu\",\"Tamil Nadu\",\"Tamil Nadu\",\"Tamil Nadu\",\"Tamil Nadu\",\"Tamil Nadu\",\"Tamil Nadu\",\"Tamil Nadu\",\"Tamil Nadu\",\"Tamil Nadu\",\"Tamil Nadu\",\"Tamil Nadu\",\"Tamil Nadu\",\"Tamil Nadu\",\"Tamil Nadu\",\"Tamil Nadu\",\"Tamil Nadu\",\"Tamil Nadu\",\"Tamil Nadu\",\"Tamil Nadu\",\"Tamil Nadu\",\"Telangana\",\"Tripura\",\"Uttar Pradesh\",\"Uttar Pradesh\",\"Uttar Pradesh\",\"Uttar Pradesh\",\"Uttarakhand\",\"West Bengal\",\"West Bengal\",\"West Bengal\",\"West Bengal\",\"West Bengal\",\"West Bengal\",\"West Bengal\",\"West Bengal\",\"West Bengal\",\"West Bengal\",\"West Bengal\",\"West Bengal\",\"West Bengal\",\"West Bengal\",\"West Bengal\",\"West Bengal\",\"West Bengal\",\"West Bengal\",\"West Bengal\",\"West Bengal\",\"West Bengal\",\"West Bengal\",\"West Bengal\",\"West Bengal\",\"West Bengal\",\"West Bengal\",\"West Bengal\",\"West Bengal\",\"West Bengal\",\"West Bengal\",\"West Bengal\",\"West Bengal\",\"West Bengal\",\"West Bengal\",\"West Bengal\",\"West Bengal\",\"West Bengal\",\"West Bengal\",\"West Bengal\",\"West Bengal\",\"West Bengal\",\"West Bengal\",\"West Bengal\",\"West Bengal\",\"West Bengal\",\"West Bengal\",\"West Bengal\",\"West Bengal\",\"West Bengal\",\"West Bengal\",\"West Bengal\",\"West Bengal\",\"West Bengal\",\"West Bengal\",\"West Bengal\",\"West Bengal\",\"West Bengal\",\"West Bengal\",\"West Bengal\",\"West Bengal\",\"West Bengal\",\"West Bengal\",\"West Bengal\",\"West Bengal\",\"West Bengal\",\"West Bengal\",\"West Bengal\",\"West Bengal\",\"West Bengal\",\"West Bengal\",\"West Bengal\",\"West Bengal\",\"West Bengal\",\"West Bengal\",\"West Bengal\",\"West Bengal\",\"West Bengal\",\"West Bengal\",\"West Bengal\",\"West Bengal\",\"West Bengal\",\"West Bengal\",\"West Bengal\",\"West Bengal\",\"West Bengal\",\"West Bengal\",\"West Bengal\",\"West Bengal\",\"West Bengal\",\"West Bengal\",\"West Bengal\",\"West Bengal\",\"West Bengal\",\"West Bengal\",\"West Bengal\",\"West Bengal\",\"West Bengal\",\"West Bengal\",\"West Bengal\",\"West Bengal\",\"West Bengal\",\"West Bengal\",\"West Bengal\",\"West Bengal\",\"West Bengal\",\"West Bengal\",\"West Bengal\",\"West Bengal\",\"West Bengal\",\"West Bengal\",\"West Bengal\",\"West Bengal\",\"West Bengal\",\"West Bengal\",\"West Bengal\",\"West Bengal\",\"West Bengal\",\"West Bengal\",\"West Bengal\",\"West Bengal\",\"West Bengal\",\"West Bengal\",\"West Bengal\"],\"__x__\":[[[[10432835,10432061,10431662,10432995,10432835]]],[[[10447179,10458238,10444929,10425752,10447179]]],[[[10446563,10446563,10446255,10446208,10446563]]],[[[10438455,10437671,10438055,10438652,10438455]]],[[[10429506,10428863,10429373,10430220,10429506]]],[[[10432071,10436986,10424755,10423164,10432071]]],[[[10425387,10424453,10424389,10425020,10425387]]],[[[10423320,10423081,10422913,10423488,10423320]]],[[[10413440,10412979,10413099,10413897,10413440]]],[[[10395302,10404238,10404094,10388283,10395302]]],[[[10413688,10417547,10416983,10409276,10413688]]],[[[10417321,10419581,10418826,10415299,10417321]]],[[[10411265,10413915,10408535,10411806,10406762,10403229,10411265]]],[[[10378872,10380677,10379374,10377228,10378872]]],[[[10366887,10366760,10374941,10362418,10366887]]],[[[10424305,10424142,10424086,10424178,10424305]]],[[[10424569,10425367,10425775,10424832,10424569]]],[[[10423348,10423454,10423457,10423259,10423348]]],[[[10357638,10358975,10359110,10356781,10357638]]],[[[10421094,10424223,10422057,10422741,10421094]]],[[[10420494,10420501,10420434,10420277,10420494]]],[[[10329852,10333753,10322672,10321916,10329852]]],[[[10299101,10306748,10304650,10298525,10284388,10283362,10299101]]],[[[10309325,10310181,10310460,10309269,10309325]]],[[[10266680,10266231,10265336,10265924,10266680]]],[[[10315321,10314782,10315536,10315915,10315321]]],[[[10322035,10321882,10321989,10322190,10322035]]],[[[10323042,10322830,10322477,10322539,10323042]]],[[[10316832,10316783,10316555,10316742,10316832]]],[[[10320034,10319968,10318007,10318565,10320034]]],[[[10322009,10320463,10319144,10320588,10322009]]],[[[10302558,10302653,10302194,10302278,10302558]]],[[[10303999,10304000,10303285,10303463,10303999]]],[[[10309917,10309400,10309267,10309332,10309917]]],[[[10312849,10318298,10307987,10306756,10312849]]],[[[10308678,10308908,10308878,10308260,10308678]]],[[[10303767,10304725,10304444,10302920,10303767]]],[[[10311292,10311172,10311378,10311461,10311292]]],[[[10309304,10310456,10309350,10308380,10309304]]],[[[10305312,10305151,10305590,10305594,10305312]]],[[[10304542,10304516,10304344,10304339,10304542]]],[[[10307859,10306364,10307359,10307896,10307859]]],[[[10305831,10305916,10305698,10305629,10305831]]],[[[10309489,10310324,10309846,10308222,10309489]]],[[[10307493,10307587,10307591,10307433,10307493]]],[[[10266955,10271496,10270483,10265269,10266955]]],[[[10301612,10304792,10300431,10300666,10301612]]],[[[10319169,10319453,10318527,10318810,10319169]]],[[[10326626,10326438,10326155,10326021,10326626]]],[[[10362213,10361975,10361435,10361670,10362213]]],[[[10356223,10359420,10360679,10358302,10356223]]],[[[10308414,10308038,10307698,10307656,10308414]]],[[[10304308,10304598,10304736,10304135,10304308]]],[[[10322938,10322873,10322210,10321867,10322938]]],[[[10324154,10323965,10324211,10324286,10324154]]],[[[10325514,10326684,10323447,10323690,10325514]]],[[[10307603,10309216,10308044,10306941,10307603]]],[[[10306445,10306503,10306245,10306178,10306445]]],[[[10327784,10327690,10327378,10327264,10327784]]],[[[10349881,10353803,10357724,10344405,10349881]]],[[[10349376,10349345,10349524,10349533,10349376]]],[[[10351765,10353354,10352099,10348320,10351765]]],[[[10323687,10323712,10324120,10324041,10323687]]],[[[10347867,10347297,10346930,10347995,10347867]]],[[[10353045,10352955,10352497,10352951,10353045]]],[[[10363669,10363776,10363514,10363424,10363669]]],[[[10366115,10366480,10365543,10364963,10366115]]],[[[10348675,10351839,10352471,10348602,10348675]]],[[[10335549,10335331,10335595,10335643,10335549]]],[[[10355924,10356512,10358732,10357755,10353578,10353674,10352738,10353294,10353518,10355924]]],[[[10325861,10326415,10325904,10325925,10325597,10325861]]],[[[10322723,10322192,10322114,10322701,10322723]]],[[[10361002,10363293,10360958,10356806,10361002]]],[[[10317461,10317062,10317341,10317450,10317461]]],[[[10345503,10346155,10345232,10344395,10345503]]],[[[10319030,10319749,10325763,10323288,10323225,10328607,10323588,10317156,10324470,10329139,10325486,10319521,10315449,10325645,10320621,10298566,10304011,10308421,10308228,10308467,10308657,10308884,10319030]]],[[[10322819,10322975,10326284,10326389,10324954,10324530,10322763,10321633,10322819]]],[[[10339483,10339312,10339378,10339559,10339483]]],[[[10319198,10319301,10319237,10318821,10319198]]],[[[10337885,10337297,10337690,10338232,10337885]]],[[[10341671,10343161,10342954,10339167,10341671]]],[[[10361535,10364480,10363916,10359751,10361535]]],[[[10341797,10341565,10341597,10341760,10341797]]],[[[10323593,10323588,10323258,10323180,10323593]]],[[[10356035,10355668,10355171,10355831,10356035]]],[[[10324806,10324095,10323156,10323719,10323726,10324806]]],[[[10323543,10323445,10323281,10323240,10323543]]],[[[10326820,10325237,10326263,10326889,10326820]]],[[[10325181,10325210,10325440,10325422,10325181]]],[[[10449222,10450257,10447873,10447232,10449222]]],[[[10326996,10326708,10327212,10327321,10326996]]],[[[10339427,10339372,10338999,10339100,10339427]]],[[[10326673,10326551,10326350,10326572,10326673]]],[[[10320749,10321972,10320514,10319308,10320749]]],[[[10345406,10346289,10344161,10341773,10345406]]],[[[10333307,10340140,10337035,10339587,10326539,10327193,10324145,10333307]]],[[[10360726,10360820,10359682,10360203,10360726]]],[[[10342992,10342814,10342864,10343028,10342992]]],[[[10342202,10342114,10342081,10342307,10342202]]],[[[10343290,10343600,10342768,10342684,10343290]]],[[[10341229,10341057,10341128,10341289,10341229]]],[[[10337085,10340384,10339752,10335396,10337085]]],[[[10341395,10341513,10341429,10341249,10341395]]],[[[10340385,10340294,10340327,10340449,10340385]]],[[[10337824,10338196,10337089,10337040,10337824]]],[[[10342062,10341488,10341554,10341955,10342062]]],[[[10335227,10334485,10333704,10334484,10335227]]],[[[10347790,10348329,10345023,10344481,10347790]]],[[[10316490,10317601,10316943,10315830,10316490]]],[[[10319629,10319421,10319558,10319694,10319629]]],[[[10322000,10322600,10322430,10321868,10322000]]],[[[10322292,10322168,10322207,10322296,10322292]]],[[[10321242,10321172,10321250,10321305,10321242]]],[[[10321141,10321274,10321241,10321076,10321141]]],[[[10321146,10321074,10321086,10321182,10321146]]],[[[10321662,10322055,10322088,10321185,10321662]]],[[[10321055,10321018,10321074,10321150,10321055]]],[[[10321216,10321045,10321120,10321196,10321216]]],[[[10321234,10321130,10321148,10321272,10321234]]],[[[10320473,10320670,10322148,10321360,10318715,10320473]]],[[[10322206,10322078,10322365,10322412,10322206]]],[[[10326500,10326575,10326529,10326417,10326500]]],[[[10322725,10322567,10322843,10322844,10322725]]],[[[10322570,10321371,10320384,10321532,10322570]]],[[[10328059,10327832,10327787,10328016,10328059]]],[[[10326715,10326573,10326677,10326110,10326715]]],[[[10325819,10326046,10325661,10325668,10325819]]],[[[10329161,10329381,10328701,10328433,10329161]]],[[[10340814,10340653,10340739,10340892,10340814]]],[[[10325693,10325517,10324893,10325346,10325693]]],[[[10325741,10325663,10325793,10325823,10325741]]],[[[10337695,10337485,10337533,10337656,10337695]]],[[[10329750,10330519,10329629,10327563,10329750]]],[[[10326905,10326831,10326741,10326885,10326905]]],[[[10345493,10345104,10345113,10345664,10345493]]],[[[10326816,10326735,10326413,10326269,10326816]]],[[[10341467,10350497,10349176,10343227,10342354,10342685,10340724,10336703,10341502,10331294,10341043,10327271,10321563,10317597,10329233,10322968,10324440,10321933,10323586,10330777,10335102,10336989,10338729,10338589,10340046,10341140,10341346,10341467]]],[[[10340127,10340266,10340255,10340079,10340127]]],[[[10327594,10327784,10327411,10327067,10327594]]],[[[10340687,10340732,10340587,10340594,10340687]]],[[[10338978,10340041,10337715,10337100,10338978]]],[[[10326531,10326750,10326362,10326094,10326531]]],[[[10340632,10340816,10340413,10340492,10340632]]],[[[10341680,10341860,10341927,10341542,10341680]]],[[[10318899,10321500,10315778,10313535,10318899]]],[[[10353417,10350618,10347378,10348198,10353417]]],[[[10351547,10351422,10351210,10351257,10351547]]],[[[10342960,10342727,10342793,10342990,10342960]]],[[[10342723,10342615,10342632,10342712,10342723]]],[[[10347068,10346962,10346599,10346833,10347068]]],[[[10344541,10346029,10346246,10343903,10344541]]],[[[10343704,10343184,10343438,10343628,10343704]]],[[[10345246,10345105,10345274,10345386,10345246]]],[[[10343486,10343447,10343106,10343211,10343486]]],[[[10322540,10322491,10322737,10322801,10322540]]],[[[10321186,10321553,10319521,10318882,10321186]]],[[[10329944,10330144,10329927,10329697,10329944]]],[[[10359522,10359266,10359131,10359290,10359522]]],[[[10354559,10354447,10354320,10354437,10354559]]],[[[10360848,10360962,10361476,10361314,10360848]]],[[[10355529,10355159,10355111,10354518,10355529]]],[[[10353558,10353508,10353750,10353750,10353558]]],[[[10349167,10348863,10349368,10349151,10349167]]],[[[10354378,10354387,10354221,10354257,10354378]]],[[[10356855,10356764,10356993,10357026,10356855]]],[[[10354964,10354526,10354811,10355011,10354964]]],[[[10361314,10361314,10360923,10361139,10361314]]],[[[10361933,10361859,10361684,10361832,10361933]]],[[[10359852,10359643,10359536,10359461,10359852]]],[[[10337915,10337680,10337644,10337808,10337915]]],[[[10332185,10332528,10332062,10331810,10332185]]],[[[10363177,10363338,10362645,10362428,10363177]]],[[[10360661,10360191,10360782,10360565,10360661]]],[[[10363850,10364145,10364240,10363423,10363850]]],[[[10335271,10335158,10332912,10332868,10335271]]],[[[10494212,10491460,10492944,10494730,10494212]]],[[[10338661,10337888,10338261,10338500,10338661]]],[[[10343823,10344041,10343198,10343308,10343823]]],[[[10342521,10342924,10342252,10342196,10342521]]],[[[10339010,10338724,10338819,10339105,10339010]]],[[[10353522,10353260,10353339,10353468,10353522]]],[[[10359049,10358991,10358676,10358496,10359049]]],[[[10356073,10355551,10358891,10362736,10359973,10357354,10347160,10360021,10356253,10356567,10349551,10345606,10342052,10340213,10345867,10339494,10336515,10336946,10338883,10338192,10338626,10335128,10329092,10335145,10343244,10356073]]],[[[10341849,10341952,10339911,10340297,10341849]]],[[[10359772,10360106,10357909,10357510,10359772]]],[[[10354575,10356256,10355572,10350143,10354575]]],[[[9028433,9085866,9137183,9158215,9169695,9163212,9172880,9166358,9169341,9181880,9198917,9218079,9229614,9246378,9245948,9286116,9274374,9291090,9291521,9299535,9309752,9323400,9327982,9337243,9360789,9388650,9399453,9397863,9424492,9417517,9429778,9436395,9381357,9388954,9366042,9350021,9364013,9301416,9277397,9261576,9263883,9197555,9162246,9155971,9168605,9165692,9169994,9165191,9160456,9157527,9163067,9144822,9148257,9143861,9095776,9078052,9051694,9044271,9033894,9028992,9026202,9032530,9017989,9017673,9012068,9010198,9015693,9009849,9001619,9007612,8998927,8989702,8961022,8936445,8930307,8925094,8920660,8928952,8914883,8908927,8913858,8926028,8915963,8927227,8919328,8933329,8932477,8906291,8910969,8898679,8875931,8883031,8878520,8870050,8860218,8855249,8840268,8842789,8829891,8819892,8812604,8793287,8787172,8781739,8762387,8752500,8756199,8745200,8738126,8734855,8706431,8710969,8722072,8734743,8728799,8748409,8724923,8727526,8704383,8701298,8692930,8695715,8688469,8677708,8681480,8674015,8663595,8651406,8644740,8622507,8619665,8592231,8592022,8586103,8590883,8571459,8576258,8560098,8574432,8574883,8588696,8607241,8616011,8620325,8608659,8616376,8611047,8629190,8627603,8616278,8615891,8603583,8587328,8582844,8565896,8559137,8569204,8557682,8545461,8557093,8545732,8546886,8580903,8590305,8590400,8568742,8575016,8575301,8585981,8575713,8599783,8661200,8687649,8695834,8710143,8712219,8728832,8752401,8770033,8777021,8785123,8786788,8819472,8824723,8881416,8901847,8914256,8907547,8926763,8948047,8951025,8969202,8971567,8946395,8949934,8956193,8968875,8977729,8999218,9007319,9035987,9038068,9053095,9000383,9007669,9006664,9021739,9028433],[9151166,9157477,9162969,9161954,9151166],[8888310,8887900,8888424,8888310]]],[[[9060710,9047531,9047084,9047719,9060710]]],[[[10704772,10714265,10730871,10725678,10699865,10705600,10745540,10740198,10755550,10716275,10731341,10737906,10760864,10797737,10808435,10842643,10832288,10844220,10841280,10826541,10786562,10788111,10816440,10814118,10782979,10785501,10775912,10755687,10744755,10697668,10680611,10665252,10656649,10634616,10622418,10601767,10597155,10626341,10632861,10674872,10689013,10684231,10669947,10673533,10659883,10684318,10643090,10618331,10610799,10560653,10515444,10492387,10493196,10442949,10445120,10407412,10355143,10315082,10306873,10253780,10244430,10246254,10255269,10243979,10203330,10193205,10201916,10192205,10222410,10232906,10265369,10277092,10304317,10324236,10315739,10318431,10377644,10373629,10390834,10447250,10456371,10488576,10512695,10526790,10534640,10553472,10578465,10575665,10621515,10636742,10635756,10662484,10696213,10704772]]],[[[9990170,9989480,9989139,9989673,9990170]]],[[[10682954,10659883,10673533,10669947,10684231,10688730,10674872,10632274,10626341,10577764,10563658,10548601,10515795,10499298,10494894,10464588,10461719,10441286,10438780,10389652,10404103,10405436,10380359,10374609,10364872,10356972,10333601,10326524,10293310,10288378,10265083,10271796,10268515,10296804,10288132,10295365,10330973,10328756,10304649,10314237,10305229,10284422,10259457,10258632,10266694,10259009,10260245,10270076,10274708,10232973,10221562,10204851,10194476,10183212,10189329,10188844,10167508,10155295,10152266,10130500,10133673,10124068,10105747,10095520,10088703,10084002,10076219,10072316,10032426,10007573,10021236,10005145,10002733,9998588,10006179,9985327,9987899,10003418,10004045,10033568,10043257,10064940,10097187,10141309,10167959,10175979,10206986,10225969,10247911,10306873,10315082,10355143,10425846,10493196,10492387,10515444,10560653,10610799,10618331,10643090,10682954],[10217249,10217040,10217452,10217249],[9998130,9999164,9996836,9995785,9998130]]],[[[9407298,9406375,9406386,9407720,9407298]]],[[[9364606,9383588,9420542,9427808,9422768,9457887,9465949,9483933,9485910,9499648,9533084,9543016,9544228,9557052,9576836,9598152,9611949,9655306,9692852,9695087,9722773,9736323,9752630,9784025,9798342,9807835,9822594,9816784,9827943,9792832,9793725,9779254,9774954,9786884,9785491,9802183,9804584,9788532,9772428,9778556,9750034,9739065,9738016,9721481,9717871,9701810,9691065,9677679,9675568,9660662,9648566,9641285,9624504,9605260,9610130,9589045,9579857,9568699,9544949,9535237,9536917,9494395,9472904,9471434,9451608,9440193,9424933,9409718,9406600,9384318,9384299,9363909,9350837,9337013,9295852,9300670,9283472,9275852,9279365,9333776,9362289,9383559,9388654,9406128,9421956,9410625,9370310,9357280,9352449,9369338,9370919,9340982,9340982,9357181,9360977,9397992,9385056,9377926,9378734,9357693,9354236,9345189,9350284,9340596,9343455,9332924,9334237,9354170,9364606]]],[[[8553953,8550167,8538633,8546293,8553953]]],[[[9276845,9296775,9302833,9317761,9326600,9344447,9352433,9347839,9359458,9355381,9366027,9368098,9372764,9392859,9393566,9376168,9352182,9352086,9309248,9302346,9307137,9299585,9305372,9292318,9287041,9294251,9282696,9277568,9285141,9270380,9261487,9199807,9180122,9167605,9165096,9176804,9172550,9207798,9208195,9194178,9194810,9177970,9166836,9154716,9131757,9122506,9114983,9112302,9135710,9131553,9149443,9146866,9155758,9137850,9116343,9123200,9100724,9076572,9060588,9035576,9022004,9014851,9002415,8998796,8988215,8994194,8987307,8960763,8944100,8933035,8945089,8936161,8949030,8969573,8974292,8989787,9000451,8994089,9005687,8998504,8979479,8980480,8966730,8950273,8961725,8951559,8964269,8967136,8961772,8950167,8948953,8975106,8975607,8959932,8970906,8966639,8957421,8953485,8956993,8981238,8986316,8996637,8997447,9007209,9018142,9014523,9030347,9029922,9053635,9061829,9086244,9090782,9102608,9103353,9122376,9122140,9145850,9149729,9126382,9119733,9099661,9085297,9081146,9094241,9085702,9104863,9119760,9186521,9217968,9234755,9254555,9276845],[9178981,9178918,9180182,9178981]]],[[[8149317,8145905,8131030,8116723,8137170,8145226,8133240,8145289,8149317]]],[[[8114450,8114472,8104279,8109024,8114450]]],[[[7905154,7905152,7905152,7905154]]],[[[7895314,7899246,7903421,7889599,7895314]]],[[[7904905,7902307,7901875,7904271,7904905]]],[[[7920428,7921139,7919888,7919625,7920428]]],[[[8582021,8595551,8594662,8608748,8610301,8595597,8580749,8559232,8554587,8565330,8566298,8582021]]],[[[8250909,8250276,8249789,8250060,8250909]]],[[[8223317,8237031,8265320,8275001,8265593,8272802,8270620,8256427,8242356,8242728,8228020,8233001,8233197,8224744,8213608,8231047,8213780,8219136,8211727,8211649,8201545,8223317]]],[[[7982025,7982025,7981097,7981406,7982025]]],[[[7982767,7983169,7982272,7982334,7982767]]],[[[8087097,8087871,8088179,8087129,8087097]]],[[[8090623,8090776,8090776,8090561,8090623]]],[[[8089818,8089912,8090282,8089509,8089818]]],[[[8093158,8093281,8092880,8092664,8093158]]],[[[8090314,8094086,8092571,8091705,8090314]]],[[[8026459,8026491,8026027,8026367,8026459]]],[[[8080448,8080387,8080234,8080357,8080448]]],[[[8079923,8079893,8079429,8079521,8079923]]],[[[8081841,8081779,8080418,8081099,8081841]]],[[[8084934,8084222,8083202,8083697,8084934]]],[[[8085799,8085768,8085304,8085705,8085799]]],[[[8090252,8089881,8088891,8089076,8090252]]],[[[8092185,8092138,8092138,8092185]]],[[[8088242,8088242,8088273,8088242]]],[[[8089732,8089695,8089742,8089735,8089732]]],[[[8090070,8090067,8090067,8090070]]],[[[8090106,8090096,8090096,8090106]]],[[[8092438,8092299,8092234,8092446,8092438]]],[[[8093653,8093610,8093653,8093653]]],[[[8091302,8091272,8091272,8091280,8091302]]],[[[8054320,8055650,8054939,8053454,8054320]]],[[[8080079,8080047,8079738,8079738,8080079]]],[[[8082830,8082676,8082552,8082335,8082830]]],[[[8083109,8082984,8082893,8082923,8083109]]],[[[8083696,8083573,8083418,8083386,8083696]]],[[[8081316,8081345,8083078,8081686,8080448,8081316]]],[[[8083974,8083851,8083696,8083696,8083974]]],[[[8081408,8082088,8082088,8081655,8081408]]],[[[8098377,8098353,8098353,8098377]]],[[[8098493,8098600,8098385,8098446,8098493]]],[[[8093560,8093560,8093557,8093560]]],[[[8106301,8106269,8106269,8106301]]],[[[8106424,8106393,8106393,8106424]]],[[[8106467,8106424,8106424,8106467]]],[[[8106509,8106485,8106485,8106509]]],[[[8095447,8098044,8098600,8094796,8095447]]],[[[8044302,8044301,8044301,8044302]]],[[[8044161,8044147,8044147,8044161]]],[[[8044145,8044116,8044116,8044122,8044145]]],[[[8043992,8044114,8043992,8043992]]],[[[8045539,8046466,8047022,8044796,8045539]]],[[[8043499,8043749,8043761,8043528,8043499]]],[[[8075606,8075597,8075564,8075440,8075606]]],[[[8043436,8043491,8043436,8043436]]],[[[8043412,8043405,8043405,8043412]]],[[[8043381,8043374,8043374,8043381]]],[[[8043364,8043312,8043312,8043364]]],[[[8075967,8075966,8075978,8075967]]],[[[8042805,8042786,8042786,8042805]]],[[[8042776,8042755,8042756,8042775,8042776]]],[[[8042732,8042725,8042725,8042732]]],[[[8076740,8076739,8076739,8076740]]],[[[8076910,8076893,8076893,8076910]]],[[[8077062,8077048,8077048,8077062]]],[[[8077082,8077079,8077079,8077082]]],[[[8077242,8077234,8077234,8077242]]],[[[8077272,8077264,8077264,8077272]]],[[[8077834,8077525,8077358,8077872,8077834]]],[[[8077885,8077883,8077883,8077885]]],[[[8054537,8054784,8055125,8053702,8054537]]],[[[8038828,8039075,8038766,8038426,8038828]]],[[[8077528,8077512,8077512,8077528]]],[[[8077768,8077759,8077759,8077768]]],[[[8077832,8077821,8077821,8077832]]],[[[8078042,8078037,8078037,8078042]]],[[[8078146,8078131,8078131,8078146]]],[[[8078165,8078161,8078161,8078165]]],[[[8078203,8078193,8078193,8078203]]],[[[8078261,8078254,8078254,8078261]]],[[[8078325,8078316,8078316,8078325]]],[[[8078384,8078378,8078378,8078384]]],[[[8078796,8078779,8078779,8078796]]],[[[8078848,8078841,8078841,8078848]]],[[[8067617,8067586,8067091,8067091,8067617]]],[[[8057784,8058433,8058649,8058155,8057784]]],[[[8056269,8055989,8056918,8055464,8056269]]],[[[7715600,7715785,7715755,7715474,7715600]]],[[[7731494,7732050,7729731,7729978,7731494]]],[[[7701530,7701715,7701685,7701376,7701530]]],[[[7702798,7702705,7702179,7702489,7702798]]],[[[7704776,7704994,7704900,7704685,7704776]]],[[[7703415,7703385,7703261,7703262,7703571,7703415]]],[[[7718383,7718939,7718011,7716990,7718383]]],[[[7734833,7735483,7734988,7734493,7734833]]],[[[7712229,7712323,7712013,7711982,7712229]]],[[[7712137,7711982,7711673,7711735,7712137]]],[[[7696861,7696830,7696923,7696706,7696861]]],[[[7750913,7754190,7751902,7746522,7750913]]],[[[7714672,7717177,7716836,7713652,7714672]]],[[[7696273,7697387,7690491,7691451,7696273]]],[[[7690955,7690708,7690399,7690522,7690955]]],[[[7717208,7720145,7721536,7718352,7717208]]],[[[7786226,7786473,7786535,7786071,7786226]]],[[[7726144,7726298,7725928,7725773,7726144]]],[[[7787617,7787555,7787062,7787370,7787617]]],[[[7787958,7788297,7787247,7787710,7787958]]],[[[7787029,7787153,7785546,7785885,7787029]]],[[[7783319,7785855,7780846,7777042,7783319]]],[[[7795070,7794575,7793647,7794142,7795070]]],[[[7793617,7792905,7791915,7792440,7793617]]],[[[7794977,7795100,7793771,7794237,7794977]]],[[[7796770,7796925,7796862,7796647,7796770]]],[[[7797327,7797481,7797048,7797048,7797327]]],[[[7812603,7812757,7812757,7812417,7812603]]],[[[7793369,7795379,7787679,7788483,7793369]]],[[[7813560,7813715,7813438,7813376,7813560]]],[[[7786628,7787710,7788329,7787153,7786628]]],[[[7816406,7816962,7816900,7816498,7816406]]],[[[7818601,7818910,7818880,7818539,7818601]]],[[[7819374,7819498,7819467,7818973,7819374]]],[[[7819838,7819900,7819374,7819282,7819838]]],[[[7819529,7819807,7819683,7819467,7819529]]],[[[7752583,7755242,7755242,7751284,7752583]]],[[[7751903,7751994,7752027,7751748,7751903]]],[[[7772003,7771971,7771863,7772003]]],[[[7772466,7772466,7772421,7772466]]],[[[7772650,7772624,7772650,7772650]]],[[[7843030,7842565,7840525,7840865,7843030]]],[[[7841515,7840278,7838515,7840122,7841515]]],[[[7842287,7840710,7838422,7838515,7842287]]],[[[7842845,7842597,7842473,7842628,7842845]]],[[[7843463,7843277,7842412,7842412,7843463]]],[[[7842689,7842349,7842009,7842134,7842689]]],[[[7844638,7844483,7843617,7843710,7844638]]],[[[7846060,7842659,7842040,7843370,7846060]]],[[[7637520,7637831,7637955,7636903,7637520]]],[[[7635883,7636006,7636254,7635913,7635883]]],[[[7643025,7643243,7643211,7642871,7643025]]],[[[7639716,7639779,7639748,7639624,7639716]]],[[[7631863,7637861,7633625,7629636,7631863]]],[[[7641263,7641665,7640211,7640336,7641263]]],[[[7640150,7640304,7639995,7639902,7640150]]],[[[7640954,7641356,7641325,7640923,7640954]]],[[[7635233,7637553,7638604,7636346,7635233]]],[[[7640058,7640057,7640119,7639995,7640058]]],[[[7639532,7639841,7639623,7639376,7639532]]],[[[7639501,7639686,7639748,7639315,7639501]]],[[[7630069,7630348,7630007,7629883,7630069]]],[[[7630966,7631028,7630409,7630441,7630966]]],[[[7631368,7631709,7631554,7631306,7631368]]],[[[7626050,7628462,7629574,7625647,7626050]]],[[[7628183,7628925,7628956,7627750,7628183]]],[[[7632543,7632636,7632171,7632357,7632543]]],[[[7640026,7640490,7640336,7639686,7640026]]],[[[7622401,7622771,7622741,7622153,7622401]]],[[[7633563,7633686,7633811,7633130,7633563]]],[[[7636284,7636439,7636068,7636099,7636284]]],[[[7635295,7638511,7638449,7634027,7635295]]],[[[7629916,7629822,7629636,7629729,7629916]]],[[[7625709,7625709,7625957,7625957,7625679,7625709]]],[[[7625957,7625957,7625864,7625802,7625957]]],[[[7634213,7634986,7635079,7634058,7634213]]],[[[7629420,7629389,7630069,7629328,7629420]]],[[[7629296,7628956,7629482,7629203,7628771,7629296]]],[[[7631398,7631677,7631709,7631275,7631398]]],[[[7629544,7631028,7632883,7631584,7629544]]],[[[7621041,7621255,7621936,7621163,7621041]]],[[[7627998,7628430,7628430,7627657,7627998]]],[[[7622153,7622184,7622710,7622029,7622153]]],[[[7617577,7617855,7617855,7617546,7617577]]],[[[7621288,7621288,7621441,7621102,7621288]]],[[[7615258,7615350,7615350,7615258,7615258]]],[[[7631831,7631554,7631089,7631460,7631831]]],[[[7615876,7616742,7616865,7615721,7615876]]],[[[7621009,7621256,7620700,7620700,7621009]]],[[[7630903,7630719,7630007,7630935,7630903]]],[[[7614330,7614547,7614453,7614084,7614330]]],[[[7614485,7614547,7614453,7614392,7614485]]],[[[7614237,7614392,7614051,7614083,7614237]]],[[[7625586,7625524,7625431,7625431,7625586]]],[[[7627256,7627194,7626915,7626946,7627256]]],[[[7625461,7625492,7625029,7625245,7625461]]],[[[7625524,7625616,7625461,7625307,7625524]]],[[[7625524,7625647,7625029,7624936,7625524]]],[[[7626143,7627503,7628276,7628338,7625708,7626143]]],[[[7615134,7614979,7614577,7614392,7615134]]],[[[7625277,7625647,7625400,7624844,7625277]]],[[[7622364,7624812,7623576,7622556,7616648,7615661,7622364]]],[[[7625214,7624998,7623946,7623916,7625214]]],[[[7626204,7626204,7626389,7626142,7626204]]],[[[7626668,7626575,7626421,7626606,7626668]]],[[[7623916,7624225,7624009,7623823,7623916]]],[[[7621659,7622184,7620886,7620792,7621659]]],[[[7618412,7618660,7618628,7618381,7618412]]],[[[7623236,7623916,7623111,7622370,7623236]]],[[[7621813,7622091,7621411,7621288,7621813]]],[[[7622617,7622556,7622215,7621906,7622617]]],[[[7622432,7622771,7622586,7622276,7622432]]],[[[7623421,7623514,7623390,7623328,7623421]]],[[[7623111,7622680,7620174,7620638,7623111]]],[[[7594602,7595034,7595128,7594664,7594602]]],[[[7598127,7597941,7596982,7597106,7598127]]],[[[7593797,7593952,7593892,7593674,7593797]]],[[[7623390,7623297,7619370,7617639,7618195,7620173,7622370,7621813,7623111,7623390]]],[[[7620762,7621782,7619958,7619185,7620762]]],[[[7623267,7623885,7623174,7623020,7623267]]],[[[7620515,7621659,7620021,7618751,7620515]]],[[[7623668,7624380,7623451,7623020,7621844,7623668]]],[[[7622926,7623390,7622339,7622432,7622926]]],[[[7619772,7619834,7619525,7619556,7619772]]],[[[7621751,7623730,7624009,7620853,7621751]]],[[[7623916,7623791,7623421,7623358,7623916]]],[[[7593829,7594664,7593952,7593643,7593829]]],[[[7608610,7608331,7607620,7607774,7608610]]],[[[7609629,7614021,7617174,7613186,7604775,7603879,7591756,7592499,7593117,7598683,7598466,7600879,7603074,7604436,7600941,7598591,7595467,7606909,7609629]]],[[[7637089,7637274,7636192,7635790,7637089]]],[[[7636130,7636006,7635883,7635790,7636130]]],[[[7604001,7605826,7600230,7599518,7602920,7602023,7604001]]],[[[7625153,7627256,7618412,7619586,7625153]]],[[[7648436,7648839,7648808,7647942,7648436]]],[[[7647571,7647695,7647077,7647107,7647571]]],[[[7629081,7629265,7628059,7628771,7629081]]],[[[7613773,7617206,7614856,7613124,7612506,7611980,7614423,7609259,7606476,7613773]]],[[[7597353,7595776,7593767,7593767,7597353]]],[[[7619741,7618938,7616742,7616153,7613526,7611732,7608702,7609011,7619741]]],[[[7629327,7635265,7630595,7629018,7627286,7629327]]],[[[7628245,7627936,7627008,7627008,7628245]]],[[[7625122,7627441,7617855,7620173,7621256,7618350,7625122]]],[[[7609629,7618009,7608300,7607281,7603538,7601868,7602641,7599301,7596272,7593426,7595838,7597043,7598713,7601714,7605085,7598807,7609629]]],[[[8088242,8089046,8089788,8090932,8090106,8096591,8097456,8097643,8086426,8084934,8093034,8095509,8102652,8107970,8073337,8085886,8072513,8075935,8081934,8098941,8105032,8112731,8116351,8117277,8108928,8098725,8075410,8069101,8069875,8067401,8063443,8058278,8060907,8056885,8056545,8061371,8054660,8053240,8050207,8050363,8047765,8049806,8049559,8051043,8046003,8041890,8048167,8048415,8044549,8045971,8040962,8040900,8034190,8039601,8031315,8043189,8044456,8042508,8037622,8036942,8036077,8035643,8035365,8049063,8025346,8027665,7960998,7952462,7910965,7887310,7885672,7821105,7770642,7706694,7673917,7688543,7688760,7702644,7698623,7706941,7735421,7736503,7745130,7762108,7769837,7789720,7810500,7819406,7820550,7818910,7820766,7820518,7847297,7841113,7837031,7831063,7814557,7810375,7808088,7807067,7770273,7764797,7764178,7761210,7760777,7759355,7751593,7703014,7643088,7634801,7636409,7636656,7639933,7639811,7645901,7647066,7625647,7627503,7625803,7624473,7625277,7623606,7625091,7623978,7624812,7624132,7654467,7636934,7628183,7629544,7627070,7643551,7630395,7653499,7654672,7661846,7666341,7674719,7681622,7746486,7762318,7794198,7804527,7856214,7856490,7885195,7898011,7917245,7903380,7902371,7914573,7935844,7957147,7991842,7998458,8000495,8008045,8020158,8032744,8053780,8042294,8063656,8066112,8075055,8092090,8096008,8117367,8127321,8136936,8135360,8151709,8135062,8150799,8153240,8167513,8173191,8166240,8182510,8183046,8199487,8196331,8218590,8225508,8233129,8249202,8251466,8264752,8277662,8288911,8279749,8266832,8254305,8242173,8250907,8258487,8270014,8258491,8245203,8245606,8257306,8248028,8253737,8215931,8225690,8213343,8221502,8244787,8271676,8274281,8265376,8244548,8231771,8231272,8218273,8217189,8191018,8216638,8226538,8231324,8217144,8218883,8200152,8175921,8170216,8181157,8168914,8173204,8159926,8149895,8145289,8133240,8145226,8137170,8116723,8121709,8111122,8106729,8096185,8099589,8115558,8102151,8109154,8099171,8095231,8091241,8089664,8088521,8087655,8084531,8087716,8080448,8092571,8088242],[8169393,8169155,8169794,8169393],[8257253,8257030,8256466,8255338,8257253],[8216627,8215907,8217064,8216627]]],[[[8554975,8562221,8574547,8590179,8585473,8595606,8617649,8623223,8621474,8629825,8638960,8619130,8603076,8585937,8586375,8597384,8566298,8565330,8554069,8559232,8580749,8591123,8609935,8625527,8624420,8632657,8627117,8633046,8624842,8632312,8598687,8576822,8581371,8571826,8569244,8559268,8568350,8557429,8521122,8521171,8511725,8513666,8493376,8500804,8494313,8498690,8480927,8478419,8486007,8457013,8452627,8465136,8454046,8471533,8452569,8435631,8411754,8401935,8406857,8398352,8390174,8394051,8358647,8332276,8304917,8297512,8307034,8301707,8306080,8291213,8290472,8300329,8297125,8310745,8327950,8348955,8359540,8360117,8367228,8370393,8375795,8367626,8374916,8399574,8413436,8436054,8448031,8466105,8488473,8480044,8489966,8484280,8497530,8507276,8511920,8521004,8533066,8522601,8541278,8542409,8554363,8560449,8565251,8563417,8552889,8556033,8546667,8551982,8554975],[8584396,8586208,8584711,8584396],[8515241,8515141,8516037,8515241]]],[[[8548929,8564389,8588758,8589835,8610052,8616705,8624245,8652926,8675451,8682921,8726263,8728179,8715868,8733675,8742606,8733709,8750820,8751293,8770612,8761692,8777218,8763340,8795548,8781604,8773118,8736929,8724272,8672030,8662333,8664154,8654956,8661043,8656051,8649765,8663346,8637057,8586679,8590179,8574547,8562221,8556677,8529704,8532430,8525355,8509832,8502289,8494795,8481060,8450198,8415045,8424319,8419959,8454766,8445466,8453794,8440768,8456111,8472614,8488618,8505852,8543520,8548929]]],[[[8319407,8331157,8340297,8387233,8401750,8417587,8434607,8468885,8488641,8499511,8522951,8532021,8549543,8540739,8550649,8611501,8625768,8607312,8620540,8652080,8653263,8680976,8677630,8698206,8705146,8711314,8713348,8730033,8740947,8756942,8789843,8808993,8818225,8836326,8841224,8876341,8891209,8905467,8917593,8938009,8942073,8913244,8880613,8882631,8850846,8859444,8841726,8813301,8783740,8806159,8784719,8793035,8844879,8838073,8831194,8864059,8844125,8829945,8809537,8807051,8792227,8775006,8767821,8719413,8717900,8728179,8726263,8682921,8675451,8652926,8624245,8616705,8610052,8589835,8588758,8564389,8548929,8543520,8505852,8488618,8472614,8456111,8440768,8453589,8406201,8403239,8382959,8352668,8343445,8313914,8308306,8315717,8307891,8278918,8233003,8213870,8208172,8196219,8199536,8188498,8196801,8188814,8191990,8179598,8169883,8176166,8198776,8209821,8241021,8252584,8216668,8206069,8204296,8213698,8171610,8156683,8141490,8137502,8118464,8107423,8091940,8081972,8074006,8081352,8074121,8076400,8081471,8092255,8111448,8112905,8125438,8138843,8135831,8175475,8224736,8226517,8206910,8203168,8243852,8285499,8302061,8302934,8316533,8319407]]],[[[9752235,9772628,9771858,9793730,9776448,9785651,9786657,9771022,9775525,9756128,9762113,9748746,9749494,9740314,9736344,9711880,9718161,9712396,9699964,9699206,9673725,9672304,9662359,9662260,9623089,9607520,9579371,9579408,9558529,9555405,9564683,9578246,9597769,9634228,9622273,9620415,9642848,9646605,9658645,9657700,9667980,9672620,9657285,9629724,9622315,9578402,9568947,9578931,9570753,9577085,9563590,9547498,9552096,9538683,9506753,9488564,9473491,9460627,9475610,9469831,9383798,9351897,9360565,9376168,9394917,9372764,9368098,9366027,9355381,9359458,9347839,9352433,9344447,9326600,9317761,9302833,9296775,9276394,9282235,9290635,9284420,9337013,9350837,9363909,9384796,9384318,9406600,9409718,9424933,9440193,9451608,9471434,9472904,9494395,9536917,9535237,9544949,9568699,9579857,9589045,9610130,9605260,9624504,9641285,9648566,9660662,9675568,9677679,9691065,9705136,9717871,9721481,9737513,9740019,9752235],[9406597,9407720,9406628,9406132,9406597]]],[[[8315225,8314871,8314707,8315194,8315225]]],[[[8314585,8314230,8314067,8314553,8314585]]],[[[8313914,8313558,8313395,8313881,8313914]]],[[[8312787,8312047,8312043,8312641,8312787]]],[[[8320342,8319009,8318768,8320291,8320342]]],[[[8314232,8313232,8313078,8314498,8314232]]],[[[8291612,8290712,8290639,8291437,8291612]]],[[[8274625,8273831,8273946,8274552,8274625]]],[[[8292148,8291618,8291531,8291936,8292148]]],[[[8290439,8289848,8289853,8290506,8290439]]],[[[8289997,8290954,8291300,8288683,8289997]]],[[[8282350,8281505,8281648,8282219,8282350]]],[[[8282064,8281319,8281257,8282384,8282064]]],[[[8247380,8246523,8246855,8247262,8247380]]],[[[8244132,8243966,8243315,8243809,8244132]]],[[[8248111,8247945,8247294,8247789,8248111]]],[[[8248817,8247838,8247841,8248563,8248817]]],[[[8248433,8248267,8247615,8248111,8248433]]],[[[8259373,8258729,8258411,8259698,8259373]]],[[[8272051,8267295,8266624,8269896,8272051]]],[[[8609485,8617610,8612303,8639135,8632756,8644769,8620973,8648656,8628818,8630815,8622289,8614349,8612080,8627646,8618431,8623750,8612835,8598205,8638069,8626389,8628864,8592162,8574499,8585981,8575301,8575016,8568742,8590400,8590305,8580903,8546886,8545732,8557093,8545461,8557682,8569204,8559137,8565896,8583944,8589180,8603583,8615061,8615249,8627951,8628088,8611047,8616376,8608659,8620325,8616593,8607241,8588696,8574883,8574432,8560098,8576258,8571607,8590883,8586103,8592022,8592231,8619665,8625492,8644740,8651406,8663595,8674015,8681480,8677708,8688469,8696553,8692930,8701298,8704383,8727526,8724923,8748409,8728799,8734947,8734743,8722592,8708706,8664606,8654134,8638389,8641762,8624569,8653676,8658386,8646846,8626720,8619489,8599662,8584161,8584894,8573162,8561468,8554550,8523574,8517314,8506819,8506516,8498398,8481501,8473013,8472968,8445924,8438496,8423147,8395903,8389894,8395344,8387119,8379447,8385640,8373907,8365802,8354303,8348072,8333715,8314968,8314256,8315529,8320355,8321210,8314382,8311530,8322272,8312025,8311748,8307368,8295061,8285809,8296320,8285014,8277350,8280742,8286199,8278559,8272001,8270437,8280404,8285461,8269333,8265079,8248212,8265488,8251114,8247440,8267022,8272802,8265593,8275001,8265320,8247562,8262191,8277570,8275297,8282795,8289350,8277930,8292270,8293016,8273729,8278026,8265058,8267652,8280351,8290127,8300938,8313945,8314814,8340032,8341657,8358648,8372668,8380777,8403576,8412880,8423921,8422266,8413175,8419545,8438173,8447654,8452561,8473785,8479879,8487536,8502875,8497276,8514870,8518709,8524240,8528839,8537336,8548229,8542922,8562541,8566735,8584008,8598654,8609485]]],[[[8605102,8604323,8601471,8602202,8605102]]],[[[8348488,8354303,8365802,8373907,8385640,8379278,8386659,8395344,8389894,8395903,8413566,8438009,8447139,8472968,8473960,8506516,8509508,8486229,8487859,8521192,8511685,8542160,8538335,8549675,8540079,8533697,8561480,8558738,8551183,8552917,8569819,8597851,8604397,8594087,8602344,8590223,8611331,8617540,8588216,8600474,8590896,8603216,8594460,8591529,8582738,8569681,8521453,8440583,8409325,8388789,8384432,8371657,8333715,8348488],[8409044,8411024,8409478,8408336,8409044]]],[[[8248920,8237718,8234603,8247658,8248920]]],[[[7997732,7988400,7989773,7992166,7997732]]],[[[8044491,8042117,8051692,8052216,8044491]]],[[[8034905,8030297,8034413,8036747,8034905]]],[[[8025648,8021078,8015108,8026150,8025648]]],[[[8003972,8001594,8003501,8006835,8003972]]],[[[8133301,8134022,8127490,8127472,8133301]]],[[[8198228,8195341,8199821,8200453,8198228]]],[[[8087035,8087516,8083738,8085419,8087035]]],[[[8200901,8204219,8204677,8200129,8200901]]],[[[8033930,8033108,8037996,8037767,8033930]]],[[[8103078,8101620,8099870,8101782,8103078]]],[[[8127374,8126356,8126399,8127537,8127374]]],[[[8095032,8093941,8092985,8093810,8095032]]],[[[8095366,8095033,8096840,8096615,8095366]]],[[[8047451,8047703,8046822,8047018,8047451]]],[[[8051430,8050695,8050128,8050275,8051430]]],[[[8074497,8074115,8074816,8074854,8074497]]],[[[8052201,8051967,8051552,8052140,8052201]]],[[[8052292,8052208,8052271,8052423,8052292]]],[[[8052264,8052264,8052014,8052164,8052264]]],[[[8257603,8255338,8256466,8257030,8257603]]],[[[8959834,8958737,8959592,8960157,8959834]]],[[[8724461,8746861,8763522,8788297,8794454,8792930,8800585,8809306,8803729,8810073,8801516,8793412,8795233,8788765,8795496,8779732,8774092,8766904,8773395,8731515,8716585,8732984,8720150,8720117,8701856,8713504,8708058,8726161,8739878,8758112,8768271,8771764,8791296,8781831,8767092,8770570,8752927,8746996,8731266,8756389,8768820,8766461,8774235,8767793,8765200,8776613,8782340,8788595,8784299,8792678,8781121,8770923,8777430,8781313,8790144,8781366,8794589,8795618,8797476,8804447,8808901,8822439,8825857,8825539,8833708,8832948,8823638,8828960,8834383,8835996,8849692,8839513,8847228,8849616,8858051,8889643,8889424,8934961,8953629,8937792,8941413,8955517,8961412,8953832,8957461,8956802,8966818,8959279,8974011,8971899,8972660,8981446,8992846,8984356,8998615,9004228,8995762,9026298,9032531,9035763,9041459,9047771,9071656,9070453,9080870,9085086,9117824,9124569,9150931,9148356,9156236,9161821,9174650,9175878,9188021,9202345,9217750,9218236,9208414,9214142,9209262,9202255,9214368,9218982,9199136,9184345,9119760,9108099,9091390,9084186,9094241,9081146,9085297,9099661,9119733,9126382,9149729,9145850,9122140,9122376,9103353,9102608,9090782,9086244,9061829,9053635,9029922,9030347,9014523,9018142,9007209,8997447,8996637,8986316,8987620,8980123,8951214,8947564,8935270,8896900,8876492,8854654,8849301,8820343,8819363,8785188,8787257,8731337,8725700,8676559,8637051,8630664,8626189,8618382,8639587,8632353,8624915,8603816,8549058,8547805,8529990,8529854,8515104,8502290,8479560,8471321,8373246,8337771,8299481,8286923,8269458,8253415,8248028,8257306,8245606,8245203,8258491,8270014,8258487,8250907,8242173,8254305,8266832,8279749,8290700,8277662,8273300,8320524,8295162,8305789,8342231,8338465,8348228,8337253,8321470,8333250,8316948,8328704,8326741,8337150,8351507,8332269,8330492,8353976,8362399,8366914,8387709,8378302,8395657,8383230,8372363,8373312,8442661,8450458,8443570,8437317,8430144,8441275,8431961,8442020,8427135,8423663,8414135,8406394,8399923,8413965,8425332,8427341,8435671,8457848,8456115,8475584,8481276,8484618,8512984,8519832,8537857,8538756,8560916,8565884,8554276,8551443,8562401,8568238,8579329,8575105,8555112,8550025,8566458,8555929,8591081,8616600,8612487,8603757,8595068,8546575,8523648,8514557,8526878,8550695,8560634,8662959,8672064,8693364,8695584,8724461],[9038903,9039473,9039035,9038903],[8956467,8954795,8954316,8955432,8956467],[8838718,8841669,8834712,8833355,8838718],[8835592,8834616,8833933,8835332,8835592]]],[[[8177830,8177139,8177109,8177619,8177830]]],[[[8169404,8168892,8169076,8169564,8169404]]],[[[8096219,8096745,8096862,8096338,8096219]]],[[[8287531,8296004,8294184,8303016,8337771,8382403,8471321,8479574,8475435,8491734,8510809,8515104,8529854,8529990,8547805,8549058,8603816,8624915,8632353,8639587,8618382,8626189,8630664,8637051,8676559,8725700,8731337,8787257,8785188,8819363,8820343,8849301,8854654,8876492,8896900,8935270,8947564,8951214,8981333,8954549,8957027,8966639,8970906,8959932,8975607,8975106,8948953,8950167,8961772,8967136,8964269,8951559,8961725,8950273,8966730,8980480,8979479,9004234,9004969,8994089,9000451,8987718,8974292,8969573,8959302,8936161,8944916,8933829,8918696,8894529,8899031,8890684,8890510,8899997,8903311,8882399,8847301,8822047,8814687,8789802,8791404,8779125,8777654,8738447,8717961,8724378,8713452,8717825,8703693,8702346,8689085,8677684,8667864,8672867,8666450,8656329,8676988,8665266,8653604,8654015,8638484,8630530,8635475,8623782,8612303,8617610,8607264,8584008,8566735,8562541,8542922,8548229,8537336,8528839,8524240,8518709,8514870,8497276,8502875,8487536,8479879,8473785,8452561,8447654,8438173,8419545,8413175,8422266,8423921,8412880,8403576,8380777,8372668,8358648,8341657,8340032,8314814,8313945,8300938,8290127,8280351,8267115,8278026,8274086,8294156,8291452,8277930,8289350,8282795,8275297,8277570,8262191,8239890,8222603,8201545,8177373,8167729,8178590,8167484,8161294,8162417,8171198,8162409,8160204,8158026,8159125,8162914,8163470,8156684,8161098,8147457,8153712,8145090,8140820,8118766,8118897,8102684,8104068,8087410,8093813,8098908,8101006,8093398,8111122,8121840,8130188,8145409,8159926,8172857,8168914,8181157,8170088,8176479,8200152,8218883,8217144,8231324,8226538,8216638,8211344,8209368,8199015,8191018,8217189,8218273,8231272,8231771,8244548,8271213,8274526,8244787,8221502,8213343,8225500,8215931,8287531],[8604077,8602202,8601471,8604323,8604077],[8267280,8269598,8272051,8269896,8267280]]],[[[10528154,10525929,10539823,10528994,10546805,10546408,10531761,10525104,10500082,10481695,10458614,10443293,10436735,10409128,10391659,10380960,10380159,10363800,10349960,10364872,10374609,10397596,10405436,10420320,10445776,10465600,10498302,10527692,10528154]]],[[[10225398,10232973,10275182,10259009,10266694,10258632,10259457,10284422,10305229,10314237,10304649,10328756,10330876,10310634,10299857,10288742,10248653,10201879,10159865,10068563,10000685,10004356,10021236,10007573,10032426,10072316,10076219,10084002,10088703,10095520,10105747,10124068,10133673,10130500,10152266,10155295,10167508,10179832,10188844,10183212,10194476,10204851,10211762,10225398]]],[[[10330473,10355322,10349960,10363800,10369028,10380159,10380960,10390091,10401986,10393183,10396261,10385585,10367268,10364864,10375617,10369591,10357613,10353442,10347500,10342502,10337713,10321060,10309312,10299349,10283186,10281179,10286530,10270214,10278202,10274395,10288378,10293310,10326524,10330473]]],[[[10599238,10601767,10582674,10590380,10588645,10595882,10577637,10581023,10564586,10534323,10525929,10527692,10498809,10465600,10445776,10420828,10408888,10404103,10389652,10438780,10441286,10461719,10464588,10494894,10499298,10515795,10548269,10567407,10577764,10597155,10599238]]],[[[9616820,9616261,9620935,9620971,9616820]]],[[[9621593,9620677,9621724,9621871,9621593]]],[[[9661494,9661296,9662099,9662222,9661494]]],[[[9663356,9662620,9663437,9663818,9663356]]],[[[9661986,9661211,9662549,9663823,9661986]]],[[[9691268,9690651,9690702,9691569,9691268]]],[[[9693237,9693796,9693181,9692813,9693237]]],[[[9695375,9694513,9694574,9695286,9695375]]],[[[9683989,9683740,9683227,9683860,9683989]]],[[[9672515,9678069,9679783,9671514,9672515]]],[[[9693255,9692507,9693288,9693614,9693255]]],[[[9684715,9683738,9684314,9684971,9684715]]],[[[9684281,9683405,9684140,9684519,9684281]]],[[[9582836,9622315,9629724,9654300,9653685,9681667,9688688,9695848,9703947,9711443,9715523,9737152,9739364,9692605,9669838,9668569,9682578,9681513,9671432,9661912,9683142,9685527,9674021,9680990,9691148,9654255,9660734,9633394,9616008,9615241,9511675,9452698,9436395,9425655,9417517,9425612,9417329,9414659,9404152,9397863,9399453,9386454,9360789,9339101,9327982,9323400,9309752,9299535,9291521,9291090,9274374,9286116,9245948,9246378,9229614,9218079,9198917,9181880,9169341,9166358,9172880,9163212,9169695,9158903,9131889,9085866,9060683,9076572,9100724,9123200,9116343,9137850,9155758,9146866,9149443,9131553,9135710,9112302,9114180,9122506,9131757,9154716,9166836,9178293,9195114,9194178,9207271,9207798,9172550,9176804,9165096,9167605,9180122,9199807,9235440,9253668,9270121,9270380,9285141,9277568,9282696,9294251,9287041,9292318,9305372,9299585,9307137,9302346,9310030,9352086,9350985,9383798,9469831,9475610,9461475,9473491,9488564,9503279,9538683,9552096,9547498,9563590,9578931,9569463,9578402,9582836]]],[[[8879429,8889036,8888803,8874539,8879429]]],[[[8409178,8408681,8407865,8409095,8409178]]],[[[8409633,8407775,8408600,8409755,8409633]]],[[[8871110,8869462,8869491,8870862,8871110]]],[[[8872355,8872606,8871421,8871488,8872355]]],[[[8876473,8884137,8882749,8873555,8876473]]],[[[8868826,8866185,8866220,8867859,8868826]]],[[[8864297,8865768,8868184,8861301,8864297]]],[[[8870931,8869460,8867187,8867994,8870931]]],[[[8883753,8882528,8882350,8884082,8883753]]],[[[8864111,8867075,8865835,8868966,8865679,8864111]]],[[[8872756,8879352,8877948,8887804,8884199,8879398,8869284,8876615,8873717,8867395,8872756],[8880020,8881018,8881569,8883031,8880020]]],[[[8889866,8887848,8888866,8891647,8889866]]],[[[9152746,9161954,9162969,9157477,9152746]]],[[[8447445,8454491,8419959,8424319,8415045,8450198,8481060,8494795,8502289,8509832,8531520,8529704,8556033,8538633,8557728,8564920,8542409,8541278,8522601,8533066,8521004,8511920,8507276,8497530,8484280,8489966,8480044,8488473,8466105,8448031,8436054,8413436,8399574,8374916,8367626,8375795,8370393,8367228,8360117,8359540,8348955,8327950,8309928,8226533,8234978,8224884,8234534,8229917,8230429,8246268,8284969,8316303,8308181,8300422,8295158,8296681,8310551,8291747,8300560,8305862,8329279,8341015,8350455,8378514,8391062,8386869,8403239,8406201,8447884,8447445]]],[[[8226342,8296502,8300329,8290472,8291213,8306080,8301707,8307034,8297512,8304917,8332276,8358647,8394051,8390174,8398352,8406857,8401935,8411754,8435631,8452569,8471533,8454046,8465136,8452627,8457013,8486007,8478419,8480927,8498690,8494313,8500804,8493376,8513666,8511725,8521171,8521122,8534714,8533740,8550984,8561461,8568350,8561681,8581371,8576822,8605469,8609854,8620614,8640909,8647449,8627981,8642343,8656562,8619487,8622351,8627898,8639766,8656368,8684584,8686290,8696650,8713060,8703853,8694949,8693364,8672064,8662959,8586144,8559795,8543907,8526878,8514557,8523648,8546575,8595068,8603757,8612487,8616600,8591081,8555929,8566458,8550025,8555112,8575105,8579329,8568238,8562401,8551443,8554276,8565884,8560916,8538756,8537857,8519832,8512984,8484618,8481276,8475584,8456115,8457848,8435671,8427341,8425332,8413965,8399923,8406394,8414135,8423663,8427135,8442020,8431961,8441275,8430144,8437317,8443570,8450458,8442661,8373312,8372363,8383230,8395657,8378302,8387709,8366914,8362399,8353976,8332015,8332269,8351375,8337150,8326741,8328704,8316948,8333250,8321470,8337253,8348228,8338465,8342231,8305789,8295162,8320524,8273300,8264752,8251466,8252234,8234085,8225508,8218590,8196331,8199487,8183046,8182510,8166240,8173191,8167513,8153240,8150799,8135062,8151709,8135360,8136430,8125929,8117367,8096008,8092090,8075055,8066112,8063656,8042294,8053780,8032744,8020158,8008045,8000495,7998458,7991842,7957147,7935844,7915926,7890939,7866429,7865610,7823095,7803415,7811655,7770186,7734964,7746688,7795108,7807357,7833751,7858315,7875251,7890608,7934033,7977026,8003721,8007771,8037846,8058291,8120468,8157344,8170818,8214970,8234960,8226342],[8272636,8273949,8273793,8272636],[8267361,8266442,8268270,8267361]]],[[[9868897,9889327,9895125,9882352,9897900,9878443,9862760,9844998,9812155,9797991,9801387,9818248,9810879,9840459,9865183,9868897]]],[[[8704280,8703695,8704403,8704560,8704280]]],[[[8707060,8706234,8706331,8707199,8707060]]],[[[8708889,8708352,8708316,8708978,8708889]]],[[[8711300,8710864,8711494,8711863,8711300]]],[[[8738212,8737319,8737253,8738014,8738212]]],[[[8742963,8742331,8742670,8743068,8742963]]],[[[8747102,8746078,8747708,8747923,8747102]]],[[[8848449,8847972,8848839,8848900,8848449]]],[[[8847347,8846833,8847624,8847800,8847347]]],[[[8846238,8845097,8845140,8846222,8846238]]],[[[8760717,8760259,8760259,8760708,8760717]]],[[[8842875,8842164,8842038,8843115,8842875]]],[[[8764510,8763852,8763895,8764678,8764510]]],[[[8767770,8767009,8767048,8767708,8767770]]],[[[8761444,8760763,8760924,8761541,8761444]]],[[[8775218,8774682,8774018,8774207,8775218]]],[[[8761910,8761287,8761499,8762176,8761910]]],[[[8787482,8785174,8783608,8784540,8787482]]],[[[8790719,8790020,8790772,8791273,8790719]]],[[[8803956,8803275,8801174,8802152,8803956]]],[[[8809096,8807845,8807838,8809238,8809096]]],[[[8816398,8816037,8816500,8816713,8816398]]],[[[8815107,8814719,8815032,8815447,8815107]]],[[[8814355,8813938,8814516,8814755,8814355]]],[[[8817840,8817278,8818584,8818308,8817840]]],[[[8830658,8831664,8840612,8841472,8817122,8830658]]],[[[8881501,8883046,8881569,8880020,8881501]]],[[[8888310,8888424,8887900,8888310]]],[[[8941316,8941068,8940969,8941439,8941316]]],[[[8939536,8939806,8939990,8939177,8939536]]],[[[8941101,8940478,8940881,8941257,8941101]]],[[[8941201,8940793,8941135,8941227,8941201]]],[[[8871658,8884332,8873555,8882749,8878763,8889618,8874382,8888803,8892057,8854954,8862678,8853547,8827524,8819713,8823569,8792855,8782501,8800006,8815198,8778265,8713510,8706677,8712735,8702080,8705843,8698620,8690415,8633153,8606945,8582738,8591529,8594460,8603228,8590896,8600474,8588216,8617540,8611331,8590223,8602344,8594125,8604397,8597851,8569819,8552917,8551183,8558738,8561480,8533697,8540079,8545716,8549675,8538335,8542160,8511685,8521192,8487859,8486229,8517314,8523574,8554550,8561468,8573162,8584894,8584161,8599662,8619489,8626720,8646846,8658224,8624319,8640239,8638389,8654134,8664606,8675615,8674085,8682005,8689285,8708706,8705285,8734855,8738126,8745200,8756199,8752500,8762387,8781739,8782410,8787172,8793287,8812604,8819892,8829891,8842789,8837284,8843330,8860218,8870050,8878520,8883031,8875931,8898679,8910969,8905795,8932477,8935581,8944109,8923640,8887804,8877948,8879352,8867946,8876615,8871658],[8865768,8861251,8861301,8867242,8865768],[8865704,8868966,8865835,8867075,8864111,8865704],[8869941,8867994,8867187,8870478,8869941],[8882528,8883676,8884082,8882350,8882528],[8866185,8868912,8866461,8865588,8866185],[8871488,8871421,8872606,8872355,8871488],[8870129,8869462,8871110,8870862,8870129],[8823103,8822959,8823103,8823103],[8842646,8842879,8842646,8842646],[8849654,8849476,8849654,8849654]]],[[[9023127,9021739,9006664,9007669,9000383,9053095,9038068,9035987,9007319,8999218,8977729,8968875,8956193,8948158,8946395,8971567,8973801,8948047,8926763,8907547,8914256,8901847,8881416,8824723,8819472,8786788,8785123,8777021,8770033,8752401,8728832,8712219,8710143,8695834,8687649,8644355,8628864,8626764,8626389,8637992,8610237,8598205,8612835,8623750,8618431,8627646,8612080,8614349,8622289,8630815,8628818,8648542,8620973,8644769,8632756,8639135,8629815,8630812,8637142,8638484,8654015,8653076,8665266,8676988,8656329,8666450,8672867,8667864,8677684,8689085,8702346,8703693,8717825,8713452,8724378,8717961,8738447,8777654,8779125,8791404,8789802,8814687,8822047,8847301,8877373,8885260,8903311,8899997,8890510,8890684,8899031,8896214,8918696,8936155,8944441,8960217,8976843,8994175,8988215,8998796,9002415,9014851,9011548,9023127]]],[[[10266004,10271796,10265083,10274395,10278858,10271280,10266377,10258600,10249987,10236543,10239022,10216653,10223061,10198743,10176400,10177005,10169752,10147310,10155405,10161745,10172976,10172607,10197046,10204810,10214776,10213537,10231080,10233370,10255215,10259071,10266004]]],[[[8955432,8954371,8956467,8955977,8955432]]],[[[8835123,8841455,8840230,8834257,8835123]]],[[[8835332,8833933,8834616,8835785,8835332]]],[[[8638153,8676752,8660567,8651120,8661169,8678935,8682921,8721251,8730250,8751673,8787037,8763726,8779172,8784477,8810133,8813175,8835596,8841318,8881775,8882753,8890632,8903282,8919322,8963752,8962183,8968563,9006383,9040887,9052455,9064653,9070522,9116017,9136410,9179246,9207654,9210765,9260019,9274231,9284697,9283381,9307404,9342688,9340596,9350284,9345189,9354236,9357693,9378734,9377926,9385056,9397992,9360977,9357181,9340982,9340982,9370919,9369568,9353116,9352165,9370310,9410625,9421956,9406128,9388654,9383559,9362289,9333776,9277831,9279827,9300704,9295852,9284147,9290635,9261475,9233564,9202935,9214142,9207805,9208414,9218236,9214013,9177232,9174650,9161821,9156236,9148356,9150931,9124569,9117824,9085086,9080870,9070453,9071656,9047771,9041459,9035763,9032531,9026298,8995762,9004228,8998615,8984356,8992846,8981446,8972660,8974011,8959279,8966818,8956802,8957461,8953832,8961412,8955517,8948995,8937449,8953629,8934961,8889424,8890387,8858051,8849616,8847228,8839513,8849692,8834383,8827902,8823966,8832948,8833708,8825539,8828829,8809437,8804447,8797476,8795618,8794589,8780775,8789819,8781313,8777430,8770918,8781121,8792678,8784299,8787376,8775961,8779169,8776613,8765200,8774235,8766461,8768820,8756389,8731266,8746996,8752927,8770570,8767092,8781831,8791296,8771764,8768271,8758112,8739878,8728901,8721714,8723784,8707704,8713504,8701856,8720117,8720150,8732984,8716585,8731515,8773395,8766904,8774092,8779732,8795496,8788765,8795233,8793412,8801516,8809272,8803729,8809306,8800585,8792930,8794454,8788297,8763522,8746861,8722982,8707206,8713060,8707902,8696251,8686290,8684584,8656368,8620157,8619487,8654477,8656562,8629750,8647449,8640909,8620614,8607201,8603283,8632312,8624842,8632926,8624694,8625527,8605568,8608748,8594386,8596623,8586375,8589970,8582407,8593998,8603076,8619130,8638153],[8646616,8646808,8646760,8646616],[8959003,8959317,8959834,8960117,8959003]]],[[[8817669,8841916,8851737,8861554,8878104,8890788,8918714,8924744,8932149,8931212,8965789,8972221,9020659,9021661,9006061,8988415,8972389,8960826,8947193,8951620,8932980,8939205,8933849,8936018,8922136,8905558,8890632,8882753,8881775,8841318,8835596,8813175,8810133,8784477,8779172,8763726,8787037,8751673,8737040,8721251,8682921,8678935,8661169,8651120,8660567,8676752,8635725,8663346,8649765,8656051,8661043,8654956,8664154,8662333,8672030,8724272,8736929,8773118,8789480,8795561,8787406,8801035,8817669]]],[[[9798186,9798402,9797970,9797877,9798186]]],[[[9851520,9855547,9855206,9849738,9851520]]],[[[9815905,9817142,9816895,9814792,9815905]]],[[[9889036,9893643,9896704,9889933,9889036]]],[[[9877250,9880404,9878027,9874841,9877250]]],[[[9855917,9861515,9857341,9852888,9855917]]],[[[9895451,9895622,9895079,9895189,9895451]]],[[[9882295,9884954,9879821,9880522,9877330,9882295]]],[[[9903623,9906414,9900986,9902448,9903161,9903206,9903623]]],[[[9866741,9866277,9867403,9867297,9866741]]],[[[9860333,9861329,9863542,9862071,9860333]]],[[[9862009,9863612,9861631,9860723,9862009,9861578,9862009]]],[[[9905708,9906088,9910636,9903429,9905708]]],[[[9885911,9884830,9877439,9880532,9885911]]],[[[9830744,9835975,9831211,9831269,9829552,9830744]]],[[[9846657,9848511,9845344,9842708,9846657]]],[[[9873718,9874790,9879507,9873764,9873718]]],[[[9818880,9817884,9821904,9819678,9819708,9816307,9818880]]],[[[9914009,9918014,9913177,9910606,9910187,9909883,9908525,9914009]]],[[[9904985,9907404,9909719,9908301,9908298,9904985]]],[[[9856858,9861871,9860707,9859560,9857698,9856586,9857184,9853691,9855026,9855778,9856858]]],[[[9817889,9817919,9818532,9818378,9817889]]],[[[9894416,9900786,9898621,9893303,9894416]]],[[[9842016,9841885,9844198,9840488,9842016]]],[[[9820706,9830810,9826912,9820203,9822245,9822089,9818131,9820648,9820706]]],[[[9899319,9906040,9904033,9904157,9905578,9898838,9899319]]],[[[9836789,9837395,9836216,9836153,9836778,9840426,9836252,9833686,9834953,9834274,9836789]]],[[[9908004,9910263,9914033,9909372,9909257,9907609,9908004]]],[[[9888696,9892437,9890272,9886840,9880997,9888696]]],[[[9838962,9839161,9836456,9836359,9838962]]],[[[9818439,9818625,9817977,9817698,9818439]]],[[[9827595,9827347,9827192,9827501,9827595]]],[[[9790014,9788814,9791614,9791640,9790014]]],[[[9783207,9783085,9785449,9784911,9783207]]],[[[9860927,9861343,9865220,9862104,9859456,9860927]]],[[[9829788,9827065,9828276,9829832,9829788]]],[[[9852362,9851887,9852485,9852547,9852362]]],[[[9907398,9908723,9907178,9907063,9907590,9909148,9907911,9906085,9901992,9907398]]],[[[9863989,9866339,9863896,9865473,9864744,9861376,9863989]]],[[[9826612,9828107,9827655,9825462,9826612]]],[[[9816523,9816060,9816245,9816740,9816523]]],[[[9847167,9848125,9844331,9843243,9847167]]],[[[9875842,9877162,9880635,9879913,9882572,9878031,9881024,9880471,9878627,9877299,9877464,9880161,9879387,9875275,9873482,9875842]]],[[[9815163,9815501,9814946,9814512,9815163]]],[[[9856736,9859845,9856418,9855599,9854728,9853939,9856736]]],[[[9843070,9843941,9845394,9842965,9843176,9838712,9843070]]],[[[9907387,9909269,9910076,9908993,9907302,9908858,9907387]]],[[[9879675,9879171,9877192,9879675,9879675]]],[[[9888296,9888541,9884150,9887583,9888296]]],[[[9883778,9879577,9881427,9883178,9884453,9883752,9884706,9883191,9883778]]],[[[9898065,9900447,9900012,9899395,9899271,9898281,9898900,9897570,9897725,9896055,9898065]]],[[[9816369,9816762,9816771,9815905,9816369]]],[[[9858453,9858181,9858080,9858361,9858453]]],[[[9850091,9851646,9846993,9846246,9850091]]],[[[9900910,9902303,9904837,9900786,9900802,9902857,9898683,9897880,9900631,9899024,9899951,9900910]]],[[[9862040,9864916,9863711,9864483,9862040]]],[[[9853996,9854835,9854465,9853537,9853996]]],[[[9856005,9855837,9856407,9856316,9856005]]],[[[9832976,9835380,9835118,9836281,9838412,9834290,9833994,9834520,9831414,9830719,9825032,9830292,9832976]]],[[[9891417,9891324,9891571,9893766,9893519,9894324,9896086,9895343,9897786,9889066,9891417]]],[[[9860986,9860807,9861202,9861326,9860986]]],[[[9811360,9815113,9808267,9800196,9811360]]],[[[9883965,9884336,9883624,9883594,9883810,9888479,9884613,9883933,9884676,9884552,9884026,9883407,9881367,9883190,9882604,9883965]]],[[[9905103,9910773,9906784,9904199,9901065,9904834,9905103]]],[[[9865318,9866617,9868864,9867236,9865318]]],[[[9811400,9811256,9811543,9811456,9811400]]],[[[9887057,9889716,9888447,9885201,9886191,9886438,9887057]]],[[[9858714,9859872,9857455,9855176,9858714]]],[[[9843364,9843440,9842947,9843085,9843364]]],[[[9845817,9850678,9845993,9847484,9839809,9845817]]],[[[9876048,9883007,9881676,9880469,9879789,9874873,9877162,9873667,9876048]]],[[[9808143,9808282,9807742,9808669,9808143]]],[[[9852331,9850692,9849207,9850506,9852331]]],[[[9846482,9845727,9845347,9846929,9846482]]],[[[9867359,9870421,9866742,9865509,9867359]]],[[[9811119,9812214,9810525,9809040,9811119]]],[[[9889240,9895197,9897992,9904837,9901559,9900662,9898281,9897972,9897075,9894972,9893859,9887354,9889240]]],[[[9876667,9878059,9885109,9886006,9884026,9884458,9884150,9883655,9882511,9876667]]],[[[9814297,9815195,9814512,9813895,9814297]]],[[[9879091,9879683,9885103,9877749,9879091]]],[[[9880624,9879913,9878807,9880527,9880624]]],[[[9869583,9875795,9871606,9866095,9869583]]],[[[9811854,9805855,9801372,9804277,9811854]]],[[[9886591,9896704,9896750,9879789,9886591]]],[[[9877538,9877755,9877822,9877482,9877538]]],[[[9881142,9882416,9882855,9884200,9882727,9881142]]],[[[9896612,9895379,9890957,9895213,9895417,9894788,9896612]]],[[[9799609,9799362,9799176,9799392,9799609]]],[[[9909237,9916117,9911074,9911052,9903882,9909237]]],[[[9866894,9866153,9866339,9866555,9866894]]],[[[9886490,9888669,9888717,9882962,9886490]]],[[[9893025,9892777,9892981,9895256,9890975,9889456,9893025]]],[[[9872931,9872810,9872813,9872965,9872931]]],[[[9896757,9895290,9893106,9892986,9896757]]],[[[9876521,9874482,9873276,9873151,9876521]]],[[[9885556,9886842,9888263,9889201,9879429,9885556]]],[[[9887163,9890261,9892655,9887308,9885827,9887163]]],[[[9877298,9877361,9878076,9877992,9877298]]],[[[9892422,9896296,9898055,9888587,9891877,9890608,9892422]]],[[[9901864,9905755,9899045,9898967,9903344,9904885,9903228,9904373,9906570,9908940,9906425,9908834,9897718,9896462,9900793,9895627,9898497,9901864]]],[[[9907649,9913053,9911689,9910515,9910770,9910640,9910516,9910036,9910334,9909073,9905797,9904975,9907649]]],[[[9873503,9883965,9878274,9872152,9876381,9866712,9873503]]],[[[9890152,9890764,9891097,9891806,9889990,9891392,9885684,9882681,9878398,9874750,9889431,9888294,9890152]]],[[[9794971,9795434,9795744,9795218,9794971]]],[[[9899906,9903158,9900911,9899806,9899906]]],[[[9905737,9918150,9914357,9909630,9901559,9905737]]],[[[9789280,9789157,9788693,9789003,9789280]]],[[[9892066,9894140,9896148,9891942,9892066]]],[[[9892715,9892931,9893457,9893179,9892715]]],[[[9898406,9898219,9897575,9898216,9898406]]],[[[9787842,9787122,9787137,9787585,9787842]]],[[[9786312,9786406,9787022,9785880,9786312]]],[[[9891757,9891695,9891417,9891509,9891757]]],[[[9883098,9886265,9889048,9885612,9885260,9883098]]],[[[9896046,9895448,9896611,9898715,9896086,9894319,9891418,9890025,9896046]]],[[[9900109,9900340,9900043,9899643,9900109]]],[[[9898547,9907280,9903445,9902734,9900693,9900972,9898547]]],[[[9974453,9975634,9972579,9971561,9974453]]],[[[9885052,9883932,9881954,9881636,9885052]]],[[[9872901,9876478,9876081,9870836,9872901]]],[[[9869754,9868017,9867504,9868068,9869754]]],[[[9999497,9999006,9995802,9998395,9999497]]],[[[9806227,9844998,9862760,9893602,9894255,9899158,9903971,9910930,9922715,9950093,9979839,9978435,10003428,10004786,9987659,9989653,9979397,9973934,9980165,9969109,9925410,9917594,9903841,9898010,9913024,9897081,9890510,9885273,9871331,9879309,9844777,9843044,9838866,9835839,9850345,9854884,9847714,9835532,9816463,9808771,9826718,9856539,9874111,9885378,9890525,9908827,9898488,9845565,9840409,9833179,9821800,9811968,9815824,9797643,9834318,9878438,9873887,9882361,9860668,9859064,9885388,9876683,9907186,9890735,9904150,9902699,9900489,9895900,9892839,9889936,9891040,9881429,9881650,9874255,9872999,9873073,9872073,9872064,9871098,9871909,9871627,9870947,9873090,9882671,9882915,9885076,9885451,9887228,9890552,9890303,9891973,9893491,9893663,9893118,9890651,9887397,9902322,9898414,9896500,9894800,9895799,9894923,9893716,9893254,9892417,9892200,9890733,9890087,9892390,9894881,9894706,9896340,9897848,9896802,9898374,9894466,9889736,9893613,9889560,9889840,9890677,9894329,9894375,9891234,9890778,9890548,9890098,9888996,9885918,9885781,9885230,9886375,9887235,9888334,9888462,9888209,9887427,9886891,9886488,9885000,9885787,9888231,9889070,9886241,9884519,9881644,9879336,9884052,9877780,9874256,9870212,9867303,9872360,9872987,9870267,9866348,9867286,9870973,9865053,9863422,9859872,9863282,9862636,9865129,9865945,9866195,9866987,9862526,9863648,9856923,9859627,9858720,9856789,9856289,9854897,9851136,9854198,9854617,9854192,9851073,9853903,9855896,9856597,9857338,9858079,9857855,9850836,9854074,9852022,9849908,9849244,9848831,9848458,9847732,9845755,9847421,9841415,9838944,9841471,9840538,9837736,9840009,9837950,9837612,9837797,9840426,9841351,9838728,9839604,9835620,9837364,9837132,9836110,9835075,9835475,9826142,9824490,9831050,9830134,9826960,9825436,9824943,9824875,9825462,9827500,9824130,9827589,9825691,9826604,9814297,9821038,9818719,9803876,9807804,9801587,9794430,9790147,9783136,9789436,9811205,9817142,9803042,9795218,9792035,9802021,9791765,9763469,9739364,9734662,9715523,9711443,9703947,9695848,9688688,9687289,9653685,9654504,9672682,9658898,9658645,9646605,9642848,9620415,9622273,9631790,9634228,9597094,9578246,9564683,9554829,9562544,9559250,9579408,9578315,9590261,9590341,9607520,9623089,9662260,9662359,9672304,9673725,9699206,9699964,9712396,9718161,9711880,9736344,9740314,9749494,9748746,9762436,9756128,9775525,9771022,9786657,9785651,9776448,9793730,9771431,9780773,9770025,9788318,9799816,9804856,9802183,9785491,9786884,9774954,9779254,9829321,9816784,9822594,9813045,9807985,9815761,9795153,9797991,9806227],[9816503,9817509,9816755,9816503],[9989283,9989208,9990134,9989673,9989283]]]],\"__y__\":[[[[804411,804552,807024,805115,804411]]],[[[808163,781441,753818,795314,808163]]],[[[813704,813601,813263,813526,813704]]],[[[825441,825761,826400,825957,825441]]],[[[825642,826414,827114,826042,825642]]],[[[830966,821340,808540,822811,830966]]],[[[834099,834004,834357,834646,834099]]],[[[834632,834648,834977,834961,834632]]],[[[838588,838871,840037,839378,838588]]],[[[896035,886094,879193,885857,896035]]],[[[896402,892583,885528,891767,896402]]],[[[907387,899081,897804,906714,907387]]],[[[919519,897525,893232,902363,899314,912417,919519]]],[[[923206,919391,918412,921088,923206]]],[[[933454,924498,915467,923941,933454]]],[[[937738,937721,937781,937807,937738]]],[[[937810,937815,937364,937401,937810]]],[[[938118,938089,937960,938229,938118]]],[[[946465,945300,943012,944045,946465]]],[[[958183,946134,941065,948439,958183]]],[[[958905,958729,958632,958880,958905]]],[[[1032976,1021572,1020060,1030525,1032976]]],[[[1220484,1208031,1184082,1176793,1179040,1207504,1220484]]],[[[1225120,1224636,1224158,1224282,1225120]]],[[[1230058,1229163,1229598,1230145,1230058]]],[[[1230160,1230837,1231284,1230671,1230160]]],[[[1248150,1248319,1248465,1248409,1248150]]],[[[1248890,1248317,1248391,1248852,1248890]]],[[[1252881,1252288,1253638,1253504,1252881]]],[[[1264854,1262037,1259610,1263979,1264854]]],[[[1269782,1266360,1267176,1267197,1269782]]],[[[1277225,1276919,1276925,1277132,1277225]]],[[[1277238,1276837,1276504,1277078,1277238]]],[[[1290023,1289397,1289340,1289729,1290023]]],[[[1290017,1274185,1271568,1277602,1290017]]],[[[1292839,1292648,1291331,1292259,1292839]]],[[[1293182,1292004,1290870,1292402,1293182]]],[[[1293653,1293939,1294472,1293890,1293653]]],[[[1295505,1295132,1292423,1295029,1295505]]],[[[1295950,1296272,1296912,1296616,1295950]]],[[[1296912,1296688,1296546,1296832,1296912]]],[[[1293655,1292853,1297703,1295886,1293655]]],[[[1298497,1298319,1298211,1298483,1298497]]],[[[1298883,1297621,1295930,1296873,1298883]]],[[[1299117,1299052,1299005,1299007,1299117]]],[[[1298814,1298475,1290905,1292260,1298814]]],[[[1300609,1298901,1295069,1299723,1300609]]],[[[1307503,1307075,1307168,1307445,1307503]]],[[[1309048,1308572,1308201,1309057,1309048]]],[[[1321786,1320743,1320661,1321580,1321786]]],[[[1327146,1328069,1326938,1324458,1327146]]],[[[1336341,1335043,1334966,1336103,1336341]]],[[[1340046,1340056,1339439,1339763,1340046]]],[[[1340567,1339408,1339075,1340330,1340567]]],[[[1341741,1341874,1342017,1341951,1341741]]],[[[1341986,1340393,1340187,1341355,1341986]]],[[[1343090,1339125,1337500,1342599,1343090]]],[[[1343673,1343116,1343054,1343455,1343673]]],[[[1347762,1347295,1347276,1347685,1347762]]],[[[1350595,1347621,1332564,1345473,1350595]]],[[[1352974,1353110,1353114,1353005,1352974]]],[[[1358116,1357134,1350755,1354682,1358116]]],[[[1357921,1358325,1358816,1358437,1357921]]],[[[1356597,1355335,1358948,1357340,1356597]]],[[[1358690,1358359,1358636,1359130,1358690]]],[[[1361266,1361232,1360898,1361260,1361266]]],[[[1362588,1361680,1360526,1361974,1362588]]],[[[1362870,1362110,1358735,1359695,1362870]]],[[[1362557,1362747,1362938,1362890,1362557]]],[[[1364592,1357128,1354357,1350913,1354316,1357557,1357996,1358810,1362449,1364592]]],[[[1366375,1366071,1364666,1365944,1366259,1366375]]],[[[1366792,1366727,1366891,1367324,1366792]]],[[[1369663,1361922,1355246,1360884,1369663]]],[[[1370347,1370640,1371257,1371163,1370347]]],[[[1371284,1370447,1368032,1370329,1371284]]],[[[1373023,1364412,1365894,1357588,1354152,1351000,1350443,1322881,1337998,1336495,1311832,1312480,1306308,1307596,1286316,1328493,1339662,1333968,1330497,1329899,1329653,1329544,1373023]]],[[[1373298,1369679,1371862,1366393,1366590,1366260,1367624,1367405,1373298]]],[[[1373746,1373956,1374232,1374051,1373746]]],[[[1374093,1373844,1373473,1373840,1374093]]],[[[1372570,1373403,1374286,1374059,1372570]]],[[[1374760,1372149,1371004,1369607,1374760]]],[[[1375265,1375341,1368979,1371880,1375265]]],[[[1375284,1375165,1375621,1375600,1375284]]],[[[1377146,1376677,1376332,1376459,1377146]]],[[[1377373,1376889,1376984,1377584,1377373]]],[[[1378574,1374798,1373934,1376574,1377880,1378574]]],[[[1379006,1377905,1377740,1378517,1379006]]],[[[1376891,1377232,1379213,1378224,1376891]]],[[[1379006,1379266,1379246,1379110,1379006]]],[[[1379333,1376811,1375967,1378583,1379333]]],[[[1378544,1378708,1379336,1379122,1378544]]],[[[1379629,1379325,1379191,1379533,1379629]]],[[[1379628,1379480,1379554,1379821,1379628]]],[[[1379472,1378859,1371912,1377099,1379472]]],[[[1380801,1377099,1371972,1378487,1380801]]],[[[1380347,1378360,1373619,1368259,1352960,1372033,1374288,1380347]]],[[[1381972,1381686,1381669,1382001,1381972]]],[[[1383485,1383661,1383912,1383690,1383485]]],[[[1384230,1384247,1384547,1384437,1384230]]],[[[1386193,1385492,1384186,1385625,1386193]]],[[[1390372,1390532,1390738,1390644,1390372]]],[[[1392011,1392108,1388322,1390727,1392011]]],[[[1392627,1392253,1392106,1392419,1392627]]],[[[1392727,1392782,1392908,1392850,1392727]]],[[[1393663,1392906,1392907,1393247,1393663]]],[[[1393692,1393689,1394238,1394144,1393692]]],[[[1393560,1393082,1394170,1394201,1393560]]],[[[1394676,1393454,1386535,1391811,1394676]]],[[[1407461,1407184,1405216,1406364,1407461]]],[[[1418453,1418526,1418779,1418668,1418453]]],[[[1429685,1428951,1428549,1429561,1429685]]],[[[1431395,1431468,1431620,1431597,1431395]]],[[[1433861,1433924,1433991,1433909,1433861]]],[[[1434278,1434209,1434039,1434115,1434278]]],[[[1434920,1434938,1435038,1435008,1434920]]],[[[1434771,1433024,1432530,1435501,1434771]]],[[[1436360,1436274,1436628,1436428,1436360]]],[[[1436800,1436886,1437049,1437020,1436800]]],[[[1437221,1437192,1437421,1437393,1437221]]],[[[1440211,1434295,1431071,1427674,1436440,1440211]]],[[[1440588,1440796,1441292,1440945,1440588]]],[[[1443089,1443016,1442900,1443007,1443089]]],[[[1443150,1443286,1443367,1443256,1443150]]],[[[1444229,1440935,1440740,1444298,1444229]]],[[[1444332,1444320,1444483,1444506,1444332]]],[[[1444888,1444765,1443155,1444641,1444888]]],[[[1445831,1445734,1445588,1445880,1445831]]],[[[1447563,1446548,1446296,1447387,1447563]]],[[[1448057,1448136,1448301,1448174,1448057]]],[[[1448464,1447342,1447252,1449887,1448464]]],[[[1449698,1449761,1449923,1449813,1449698]]],[[[1449764,1449888,1450031,1449974,1449764]]],[[[1449753,1448042,1447401,1449627,1449753]]],[[[1450184,1450181,1450357,1450359,1450184]]],[[[1449899,1450252,1450481,1450262,1449899]]],[[[1450883,1450542,1450374,1450856,1450883]]],[[[1450123,1426635,1402326,1391984,1392028,1393601,1395419,1397737,1393134,1395521,1382171,1382106,1379893,1415082,1422631,1422552,1428076,1439957,1438102,1447994,1445518,1445776,1446208,1447539,1447578,1448152,1451444,1450123]]],[[[1451663,1451651,1451524,1451557,1451663]]],[[[1451886,1451315,1450329,1451612,1451886]]],[[[1452073,1451972,1451938,1452017,1452073]]],[[[1452013,1451046,1450216,1452050,1452013]]],[[[1452153,1451578,1451273,1451879,1452153]]],[[[1452627,1452517,1452316,1452642,1452627]]],[[[1453113,1452963,1452715,1453015,1453113]]],[[[1458762,1445378,1434917,1443935,1458762]]],[[[1459398,1452070,1452984,1458466,1459398]]],[[[1459813,1459549,1459596,1459784,1459813]]],[[[1460017,1460200,1460307,1460144,1460017]]],[[[1460532,1460558,1460641,1460630,1460532]]],[[[1462537,1462116,1462623,1462686,1462537]]],[[[1462436,1462601,1459220,1459792,1462436]]],[[[1464344,1464584,1465178,1464971,1464344]]],[[[1465390,1465616,1465826,1465593,1465390]]],[[[1466797,1466351,1467379,1467314,1466797]]],[[[1470110,1470381,1470636,1470527,1470110]]],[[[1470922,1470652,1467840,1470628,1470922]]],[[[1479297,1478969,1478884,1479137,1479297]]],[[[1484962,1485171,1485625,1485613,1484962]]],[[[1492270,1492158,1492210,1492328,1492270]]],[[[1493850,1494376,1494195,1493955,1493850]]],[[[1497035,1496581,1494170,1496784,1497035]]],[[[1498097,1498191,1498288,1498208,1498097]]],[[[1497811,1498144,1498459,1498116,1497811]]],[[[1498512,1498313,1498309,1498456,1498512]]],[[[1498666,1498892,1499059,1498926,1498666]]],[[[1498403,1498719,1499284,1499179,1498403]]],[[[1501431,1501222,1501484,1501633,1501431]]],[[[1501905,1501702,1501828,1501998,1501905]]],[[[1503830,1503523,1503523,1503817,1503830]]],[[[1506831,1506844,1506960,1507014,1506831]]],[[[1507514,1507324,1505868,1507702,1507514]]],[[[1507548,1507262,1506618,1507253,1507548]]],[[[1506986,1508014,1509038,1508140,1506986]]],[[[1509510,1509431,1508922,1509393,1509510]]],[[[1510088,1508470,1507924,1509587,1510088]]],[[[1510402,1510364,1513111,1513318,1510402]]],[[[1517491,1517743,1518424,1518309,1517491]]],[[[1518713,1518401,1517698,1518543,1518713]]],[[[1521137,1520798,1520419,1521000,1521137]]],[[[1521147,1521108,1521530,1521281,1521147]]],[[[1523263,1523584,1523901,1523687,1523263]]],[[[1524503,1524107,1523828,1524298,1524503]]],[[[1525059,1502377,1503424,1498147,1494516,1501771,1499007,1490856,1480151,1469167,1461240,1469690,1468863,1464866,1456501,1457696,1452851,1448692,1449297,1447181,1446422,1445628,1461976,1505416,1520790,1525059]]],[[[1528419,1527918,1525458,1527809,1528419]]],[[[1534558,1534059,1530787,1532668,1534558]]],[[[1536964,1532222,1531478,1534659,1536964]]],[[[2016804,2016882,2046186,2036490,2054322,2061422,2074395,2075637,2086502,2101386,2065340,2090020,2080259,2082550,2110500,2139042,2154637,2149477,2164057,2156515,2173950,2146292,2156892,2134597,2125963,2131549,2145840,2157607,2162149,2170552,2173774,2164359,2097521,2101082,2078632,2079525,2072810,2039818,2004119,1995227,1989734,1955193,1924270,1908126,1899707,1918902,1906799,1871965,1876680,1869452,1869059,1861209,1869791,1860886,1839810,1849964,1846475,1840000,1801800,1805316,1804941,1800342,1787266,1777238,1782374,1782403,1777010,1773441,1784124,1773570,1770774,1790849,1788182,1767934,1752092,1755355,1753650,1746323,1711717,1713312,1667741,1641974,1635597,1638993,1602047,1549949,1513247,1521778,1516630,1499628,1492301,1486748,1483476,1493395,1489198,1496692,1497193,1482546,1472179,1476568,1461912,1469768,1463150,1470845,1467377,1458537,1451714,1425070,1430661,1416661,1423848,1443446,1452312,1444153,1453221,1490859,1497434,1526944,1524411,1534967,1533420,1558405,1562190,1554525,1569156,1563367,1567659,1544486,1549408,1537913,1556150,1558930,1565524,1557722,1546883,1545461,1566436,1593164,1594760,1581065,1574022,1577861,1561270,1571462,1577648,1586890,1589277,1594777,1606215,1612782,1596917,1612985,1613289,1598993,1602043,1619704,1629824,1628676,1643343,1682612,1686310,1698000,1689833,1708425,1719687,1746391,1747447,1762897,1765823,1788223,1800357,1789764,1794055,1785411,1797208,1809034,1814805,1816920,1808240,1823653,1817706,1828947,1833319,1870614,1890201,1880087,1900016,1910879,1926907,1899780,1904272,1894212,1913222,1918304,1930579,1923711,1937798,1928174,1924790,1945216,1948903,1959337,1966234,1991444,1995003,2008058,2007002,2016804],[1891449,1886036,1889886,1892227,1891449],[1497539,1497044,1496653,1497539]]],[[[1843411,1836974,1837084,1841391,1843411]]],[[[3424201,3405236,3407939,3397016,3385127,3363209,3385248,3374375,3346867,3300533,3291759,3301221,3307072,3287996,3294747,3273193,3257601,3250854,3234723,3236433,3200139,3180236,3141551,3134960,3147213,3155227,3166664,3169039,3159171,3151460,3129989,3125116,3108507,3101534,3084772,3083529,3128115,3139650,3156307,3155490,3169041,3177127,3176513,3191959,3214393,3244284,3243028,3228475,3232163,3216439,3192876,3203386,3188615,3142059,3131690,3115442,3112810,3128074,3118499,3110058,3143640,3156707,3159318,3183435,3183870,3196591,3218443,3231115,3225025,3213026,3231123,3220941,3226309,3247522,3256790,3264750,3290998,3304466,3329851,3338339,3333804,3386278,3404483,3404733,3420033,3396482,3392106,3397526,3379718,3391764,3402675,3420854,3434502,3424201]]],[[[3036734,3036732,3037205,3037650,3036734]]],[[[3242285,3214393,3191959,3176513,3177127,3168620,3155490,3156013,3139650,3113455,3114981,3094627,3081397,3055942,3067897,3020012,2988572,2975578,2994363,2942622,2928761,2913299,2877616,2852150,2851984,2803192,2799166,2816676,2769617,2784032,2783612,2800594,2863951,2859530,2873314,2888753,2902375,2916319,2932991,2948364,2944457,2968347,2958287,2975703,2987360,2992043,2994876,3002450,3008669,2998854,3013643,2987231,3003058,2983027,2985303,2983226,2979036,2964779,2981545,2977016,2985152,2992527,2987678,2992948,2986528,2994067,2986208,3000943,2994277,2967435,2950671,2943386,2934400,2976444,2991902,3022518,3036990,3046768,3090636,3092131,3105180,3111192,3094473,3100909,3095883,3102852,3099026,3112608,3104349,3118499,3128074,3112810,3118905,3188615,3203386,3192876,3216439,3232163,3228475,3243028,3242285],[3060353,3060069,3060628,3060353],[3039379,3040906,3042367,3041311,3039379]]],[[[2785516,2786204,2787923,2786159,2785516]]],[[[3187618,3171600,3165577,3151400,3129303,3118825,3105131,3107110,3093320,3091200,3107524,3100587,3079856,3069647,3081855,3072318,3075643,3051744,3071899,3055185,3042284,3053639,3046351,3059418,3042844,3065245,3067588,3059950,3040691,3017911,3009595,3004590,2989273,2980747,2970616,2960840,2934931,2941794,2930508,2900313,2918650,2912098,2899739,2903227,2886782,2878802,2827639,2832045,2819307,2829217,2821982,2827411,2798513,2809906,2824831,2827197,2848733,2842920,2853992,2837380,2824523,2817741,2799709,2807117,2798831,2818043,2801448,2799302,2788413,2808385,2822457,2812103,2831238,2818370,2817622,2829744,2849072,2877643,2899949,2929272,2964250,2957005,2967259,2959038,2965284,2983731,2997765,3011149,3027796,3029059,3045172,3054617,3063048,3066222,3078586,3076668,3092355,3090638,3105957,3109588,3135027,3134707,3145809,3155518,3162656,3163440,3179301,3178075,3187618]]],[[[3601614,3589377,3599415,3606195,3601614]]],[[[2765458,2756781,2736680,2731554,2704708,2700301,2708712,2678267,2672076,2648901,2642034,2627822,2635054,2629197,2617227,2592261,2580278,2555994,2535379,2523808,2519678,2515898,2493085,2485787,2472893,2466987,2465445,2451437,2433882,2437042,2408474,2410065,2371287,2378409,2339203,2324017,2280646,2272484,2255743,2246572,2257813,2262129,2253496,2273350,2274736,2285632,2278989,2262656,2247923,2214729,2204831,2170559,2145183,2121875,2114603,2103921,2078849,2068719,2015459,2021158,2013389,2057991,2053825,2065684,2058369,2067509,2086137,2111616,2107076,2126299,2133796,2153914,2183549,2202627,2191587,2189206,2197955,2205698,2210307,2221734,2227558,2236993,2251979,2249041,2257818,2265340,2265165,2281114,2289772,2290362,2301929,2312856,2344910,2346463,2354379,2384133,2383435,2393125,2412128,2427563,2476976,2481252,2506319,2525234,2519917,2526087,2546863,2564500,2574536,2564558,2576337,2587536,2591353,2616661,2626768,2641348,2649098,2671320,2681921,2696335,2700601,2693246,2703157,2719277,2741827,2730279,2737727,2727003,2748669,2737836,2739926,2765458],[2532684,2532655,2533234,2532684]]],[[[2287507,2279324,2281095,2306131,2315837,2307417,2292445,2297780,2287507]]],[[[2325868,2317169,2317409,2329334,2325868]]],[[[2360853,2360853,2360855,2360853]]],[[[2360670,2360456,2357812,2357316,2360670]]],[[[2360886,2358770,2359200,2361693,2360886]]],[[[2364689,2363433,2362936,2363780,2364689]]],[[[3359033,3357533,3348938,3338839,3312597,3300506,3314056,3312654,3318735,3328953,3352193,3359033]]],[[[1660801,1660638,1661479,1661530,1660801]]],[[[1779407,1759744,1764967,1723266,1719191,1710712,1694093,1679006,1679420,1687711,1698956,1705843,1709551,1730086,1736265,1736400,1742459,1747481,1746266,1762230,1773241,1779407]]],[[[2391828,2391298,2391498,2391796,2391828]]],[[[2391828,2391609,2391564,2391730,2391828]]],[[[2400972,2400674,2399647,2399979,2400972]]],[[[2403657,2403392,2403260,2403425,2403657]]],[[[2405613,2404320,2403458,2404386,2405613]]],[[[2406474,2405546,2405281,2405812,2406474]]],[[[2410453,2408662,2406043,2402596,2410453]]],[[[2424617,2424152,2423554,2424185,2424617]]],[[[2432383,2432018,2432018,2432449,2432383]]],[[[2435504,2435138,2434873,2435372,2435504]]],[[[2438094,2436998,2435736,2437331,2438094]]],[[[2441714,2440020,2439124,2440253,2441714]]],[[[2441748,2441216,2441050,2441748,2441748]]],[[[2445236,2444438,2444372,2444804,2445236]]],[[[2447030,2446949,2447030,2447030]]],[[[2448088,2448126,2448126,2448088]]],[[[2453343,2453377,2453409,2453368,2453343]]],[[[2454075,2454069,2454075,2454075]]],[[[2454143,2454122,2454143,2454143]]],[[[2454861,2454853,2454872,2454872,2454861]]],[[[2455471,2455471,2455497,2455471]]],[[[2456469,2456468,2456492,2456486,2456469]]],[[[2465180,2463285,2461156,2463849,2465180]]],[[[2467043,2466710,2466677,2466843,2467043]]],[[[2467010,2466045,2465845,2466344,2467010]]],[[[2467409,2467143,2467110,2467309,2467409]]],[[[2468174,2467908,2467808,2467941,2468174]]],[[[2468241,2467176,2467841,2465646,2467176,2468241]]],[[[2468307,2468172,2468241,2468307,2468307]]],[[[2468507,2468507,2468340,2468008,2468507]]],[[[2468840,2468819,2468840,2468840]]],[[[2469305,2469110,2468846,2469273,2469305]]],[[[2469738,2469736,2469738,2469738]]],[[[2470603,2470589,2470603,2470603]]],[[[2470670,2470645,2470670,2470670]]],[[[2470703,2470670,2470703,2470703]]],[[[2470736,2470717,2470736,2470736]]],[[[2471467,2470603,2469904,2468907,2471467]]],[[[2480420,2480420,2480421,2480420]]],[[[2480720,2480720,2480751,2480720]]],[[[2480753,2480753,2480816,2480802,2480753]]],[[[2481081,2480821,2480953,2481081]]],[[[2481486,2479688,2476426,2479921,2481486]]],[[[2482336,2481814,2481685,2482052,2482336]]],[[[2482299,2481777,2481415,2482085,2482299]]],[[[2482467,2482352,2482385,2482467]]],[[[2482517,2482517,2482531,2482517]]],[[[2482584,2482584,2482599,2482584]]],[[[2482619,2482652,2482733,2482619]]],[[[2483887,2483916,2483916,2483887]]],[[[2484349,2484349,2484393,2484349]]],[[[2484416,2484416,2484462,2484420,2484416]]],[[[2484515,2484515,2484531,2484515]]],[[[2487246,2487243,2487246,2487246]]],[[[2487612,2487569,2487612,2487612]]],[[[2487912,2487883,2487912,2487912]]],[[[2487946,2487942,2487946,2487946]]],[[[2488145,2488135,2488145,2488145]]],[[[2488179,2488171,2488179,2488179]]],[[[2489081,2488463,2488264,2489178,2489081]]],[[[2489211,2489206,2489211,2489211]]],[[[2504673,2503040,2502473,2503006,2504673]]],[[[2512176,2511842,2511675,2511975,2512176]]],[[[2532766,2532747,2532766,2532766]]],[[[2533166,2533155,2533166,2533166]]],[[[2533260,2533244,2533267,2533260]]],[[[2533600,2533598,2533600,2533600]]],[[[2533768,2533742,2533768,2533768]]],[[[2533801,2533795,2533801,2533801]]],[[[2533868,2533850,2533868,2533868]]],[[[2533968,2533956,2533968,2533968]]],[[[2534068,2534058,2534068,2534068]]],[[[2534135,2534128,2534135,2534135]]],[[[2534602,2534580,2534602,2534602]]],[[[2534669,2534660,2534669,2534669]]],[[[2536539,2535938,2535838,2536206,2536539]]],[[[2537441,2537175,2536806,2536773,2537441]]],[[[2539779,2538443,2536005,2537241,2539779]]],[[[2548334,2548066,2547966,2548133,2548334]]],[[[2554551,2553849,2554117,2554418,2554551]]],[[[2555722,2555655,2555289,2555622,2555722]]],[[[2556558,2555722,2555922,2556123,2556558]]],[[[2557795,2557695,2557494,2557695,2557795]]],[[[2557962,2557795,2557695,2558063,2558130,2557962]]],[[[2558297,2557327,2556324,2557494,2558297]]],[[[2559467,2558765,2558130,2558430,2559467]]],[[[2561776,2561541,2561475,2561742,2561776]]],[[[2562043,2561808,2561909,2562009,2562043]]],[[[2566559,2566158,2565991,2566191,2566559]]],[[[2566783,2563013,2560404,2564083,2566783]]],[[[2568534,2567998,2565823,2566693,2568534]]],[[[2568968,2567228,2562142,2567028,2568968]]],[[[2570541,2570073,2569872,2570240,2570541]]],[[[2574960,2574861,2573152,2572549,2574960]]],[[[2575562,2575462,2575328,2575328,2575562]]],[[[2575596,2574926,2574591,2575060,2575596]]],[[[2575997,2575763,2575596,2575997,2575997]]],[[[2576935,2576701,2575997,2576801,2576935]]],[[[2577839,2576098,2576300,2577739,2577839]]],[[[2578073,2573821,2573085,2574926,2578073]]],[[[2578073,2577437,2577638,2577873,2578073]]],[[[2578140,2577571,2577538,2577973,2578140]]],[[[2578709,2578308,2578174,2578643,2578709]]],[[[2579848,2579681,2579413,2579446,2579848]]],[[[2580384,2580082,2579781,2580116,2580384]]],[[[2581757,2581623,2581422,2581489,2581757]]],[[[2582890,2579848,2577638,2581054,2582890]]],[[[2583699,2583498,2583431,2583666,2583699]]],[[[2584470,2584168,2583599,2583163,2584470]]],[[[2589361,2588959,2588557,2588791,2589361]]],[[[2593918,2593751,2593616,2593650,2593918]]],[[[2593918,2593885,2593650,2593616,2593918]]],[[[2594789,2594354,2594187,2594522,2594789]]],[[[2598209,2597538,2597203,2597270,2598209]]],[[[2603607,2602198,2601896,2603171,2603607]]],[[[2605418,2605283,2604914,2605183,2605418]]],[[[2614198,2614140,2614140,2614198]]],[[[2614397,2614375,2614375,2614397]]],[[[2614475,2614475,2614488,2614475]]],[[[2631498,2630321,2629449,2630053,2631498]]],[[[2638016,2636302,2634756,2637646,2638016]]],[[[2638318,2633681,2630791,2634354,2638318]]],[[[2638419,2638116,2638083,2638351,2638419]]],[[[2638990,2638083,2637242,2638385,2638990]]],[[[2639360,2639024,2639057,2639193,2639360]]],[[[2639427,2639125,2638757,2639024,2639427]]],[[[2639931,2635227,2635058,2638049,2639931]]],[[[2660008,2659571,2658797,2659335,2660008]]],[[[2663744,2663574,2663508,2663440,2663744]]],[[[2664854,2664551,2664450,2664551,2664854]]],[[[2667144,2667009,2666571,2666706,2667144]]],[[[2670005,2667918,2661691,2664854,2670005]]],[[[2670039,2669231,2669298,2670005,2670039]]],[[[2670477,2670039,2669803,2669938,2670477]]],[[[2670578,2670546,2670208,2670308,2670578]]],[[[2670645,2670376,2668255,2668591,2670645]]],[[[2670914,2670780,2670611,2670712,2670914]]],[[[2670982,2670241,2669736,2669803,2670982]]],[[[2671487,2671352,2670948,2671285,2671487]]],[[[2673373,2673002,2672834,2673104,2673373]]],[[[2673373,2673103,2673036,2673238,2673373]]],[[[2673407,2673407,2673069,2673171,2673407]]],[[[2673474,2672834,2670577,2671217,2673474]]],[[[2673676,2673474,2673103,2673507,2673676]]],[[[2673743,2673508,2673441,2673743,2673743]]],[[[2674619,2673845,2673474,2674248,2674619]]],[[[2675226,2675057,2674821,2675124,2675226]]],[[[2675663,2675495,2674686,2675461,2675663]]],[[[2675730,2675528,2675562,2675697,2675730]]],[[[2677348,2674889,2671689,2674686,2677348]]],[[[2677752,2677482,2677415,2677684,2677752]]],[[[2678459,2678156,2678021,2677718,2677852,2678459]]],[[[2678493,2678191,2678155,2678560,2678493]]],[[[2678695,2678055,2677549,2678526,2678695]]],[[[2678695,2678392,2677953,2678123,2678695]]],[[[2678964,2678594,2677718,2676977,2678425,2678964]]],[[[2680953,2680918,2680784,2680716,2680953]]],[[[2681019,2680750,2677549,2675663,2681019]]],[[[2681087,2680918,2680884,2680750,2681087]]],[[[2681019,2680346,2678796,2679739,2681019]]],[[[2681155,2680986,2680817,2681019,2681155]]],[[[2681323,2681155,2681053,2681188,2681323]]],[[[2681559,2681290,2681087,2681222,2681559]]],[[[2681593,2681424,2681155,2681222,2681593]]],[[[2681593,2681087,2680986,2681188,2681593]]],[[[2681660,2681087,2680547,2680918,2681660]]],[[[2681997,2681795,2681828,2681929,2681997]]],[[[2682131,2681727,2681122,2682266,2682131]]],[[[2683008,2682704,2682401,2682772,2683008]]],[[[2683277,2682974,2682940,2683244,2683277]]],[[[2683917,2683275,2683109,2683749,2683917]]],[[[2684355,2684120,2684120,2684255,2684355]]],[[[2684457,2684086,2684153,2684423,2684457]]],[[[2684861,2684760,2684659,2684861,2684861]]],[[[2685771,2685704,2685198,2685603,2685771]]],[[[2686952,2686479,2685805,2686344,2686952]]],[[[2687323,2686412,2685569,2685097,2684019,2687323]]],[[[2687491,2686850,2686782,2687153,2687491]]],[[[2689682,2687524,2687153,2689446,2689682]]],[[[2690221,2687254,2680817,2687726,2682907,2684355,2690221]]],[[[2691266,2689917,2689378,2690828,2691266]]],[[[2691670,2691636,2691435,2691435,2691670]]],[[[2691670,2691468,2691706,2691706,2691670]]],[[[2692042,2691839,2690962,2691266,2692042]]],[[[2692345,2690221,2690120,2691064,2692345]]],[[[2692649,2692514,2692411,2692513,2692649]]],[[[2692750,2690895,2689918,2691873,2692750]]],[[[2695515,2694874,2694469,2694874,2695515]]],[[[2696089,2695278,2695109,2695582,2696089]]],[[[2697100,2696594,2696291,2696357,2697100]]],[[[2698719,2698516,2698314,2698516,2698719]]],[[[2699259,2697302,2696088,2697775,2699259]]],[[[2703071,2702970,2702835,2702801,2703071]]],[[[2703543,2702564,2703172,2703408,2703543]]],[[[2703673,2703172,2703071,2703172,2703673]]],[[[2704353,2700034,2697471,2693526,2699528,2700034,2702092,2703712,2703509,2704353]]],[[[2704792,2703746,2701485,2702092,2704792]]],[[[2705535,2705129,2704521,2705062,2705535]]],[[[2707761,2704860,2705096,2703105,2707761]]],[[[2708133,2705264,2705635,2705535,2703847,2708133]]],[[[2719612,2719308,2718666,2719444,2719612]]],[[[2720826,2720592,2720761,2720862,2720826]]],[[[2721740,2720828,2720423,2719917,2721740]]],[[[2722484,2721674,2721267,2721640,2722484]]],[[[2726539,2724680,2723666,2723970,2726539]]],[[[2729073,2726639,2726268,2727754,2729073]]],[[[2729681,2727214,2728430,2711340,2702700,2708471,2704320,2710530,2709652,2709584,2710192,2710698,2710495,2710833,2711070,2710325,2709955,2718228,2729681]]],[[[2730222,2729478,2728532,2729478,2730222]]],[[[2730594,2730289,2730289,2730526,2730594]]],[[[2731945,2721065,2717046,2725693,2729512,2731100,2731945]]],[[[2732790,2723531,2721674,2729850,2732790]]],[[[2735292,2735123,2734988,2735191,2735292]]],[[[2735530,2735326,2735056,2735326,2735530]]],[[[2738031,2736949,2736171,2737693,2738031]]],[[[2738572,2730324,2728227,2732959,2733602,2733703,2727890,2730391,2727518,2738572]]],[[[2738843,2734278,2734852,2737186,2738843]]],[[[2745912,2737626,2740601,2737862,2738843,2738369,2734650,2741311,2745912]]],[[[2746826,2743274,2737930,2738336,2735935,2746826]]],[[[2747259,2746758,2747232,2747265,2747259]]],[[[2749444,2744187,2735394,2738775,2745100,2748213,2749444]]],[[[2750362,2749025,2741718,2731371,2732047,2731168,2729580,2728194,2714580,2733264,2733433,2735598,2732080,2733839,2738843,2739587,2750362]]],[[[2448088,2449056,2453145,2453509,2454143,2455969,2456602,2457599,2454741,2465580,2469772,2468207,2468972,2471701,2473165,2506024,2497062,2529527,2537175,2532332,2541083,2538410,2540748,2544290,2545460,2539278,2545293,2535237,2541350,2540214,2547732,2548835,2554618,2557828,2549103,2538844,2544123,2526522,2529127,2533233,2535838,2533233,2528892,2527156,2503372,2517479,2519147,2524587,2524187,2521183,2517980,2513643,2516512,2506273,2509541,2499206,2480387,2486447,2490510,2490810,2490910,2490810,2490377,2466976,2426176,2415327,2385702,2376235,2360159,2362573,2354969,2388616,2447295,2504839,2549036,2569270,2559100,2562478,2549136,2542519,2552145,2563916,2549872,2568500,2559601,2576868,2577873,2591271,2594924,2595997,2596567,2599818,2641108,2639596,2635732,2623606,2631169,2625083,2633539,2622900,2613964,2610215,2607095,2603305,2600757,2599147,2607296,2612496,2650152,2660210,2661119,2658460,2657821,2667750,2668389,2669534,2688401,2691266,2693323,2692716,2694436,2698448,2698348,2702059,2705669,2708673,2738168,2735157,2724071,2730898,2732081,2743341,2749421,2749432,2789319,2792062,2779253,2790266,2780628,2788947,2774361,2774126,2789344,2804877,2784173,2781318,2796422,2803137,2808142,2820277,2837296,2828260,2836292,2835755,2827601,2836292,2830338,2839980,2828750,2829125,2824514,2815155,2803265,2815440,2809318,2797575,2793247,2812305,2813393,2801531,2797848,2775942,2765320,2754647,2768932,2744898,2727429,2717167,2706651,2707359,2686663,2685939,2672634,2677988,2667384,2653419,2654539,2623659,2621274,2588117,2588878,2573538,2576530,2561908,2568771,2558715,2550000,2554627,2537985,2521717,2513187,2506610,2490183,2471473,2466434,2450961,2458551,2459458,2453772,2446991,2449274,2439777,2427253,2423676,2412273,2411826,2401873,2389751,2361068,2355315,2346031,2339702,2357345,2349280,2337098,2319293,2297462,2297594,2287363,2297780,2292445,2307417,2315837,2306131,2298086,2299870,2290253,2289244,2312727,2321704,2379933,2385622,2383609,2408961,2410685,2410652,2408895,2401204,2402829,2418943,2426641,2447362,2448088],[2370989,2370969,2371023,2370989],[2559161,2561443,2561866,2561188,2559161],[2577332,2577533,2577210,2577332]]],[[[3616541,3618914,3598787,3591834,3576121,3564863,3556880,3562879,3554930,3560753,3550674,3516693,3509143,3473513,3388457,3362773,3352193,3328953,3321970,3312654,3314056,3299885,3312867,3300497,3283284,3280368,3275012,3271177,3259106,3241864,3221298,3225622,3215347,3215769,3205139,3210456,3266472,3276667,3244634,3253281,3254624,3267884,3271437,3264580,3261129,3252116,3255873,3248273,3228346,3231381,3240000,3257751,3260234,3267999,3295044,3299970,3326243,3365862,3376620,3377364,3393451,3408668,3404979,3426971,3417355,3432877,3442780,3447454,3471726,3470631,3476220,3486222,3497277,3491210,3502468,3484914,3492429,3478491,3475184,3482584,3471449,3460005,3445053,3478556,3470154,3480734,3470658,3470845,3486245,3493922,3516538,3523544,3516994,3529098,3516004,3513682,3527378,3537149,3545894,3557191,3558913,3549155,3553566,3580344,3588242,3605336,3618442,3623234,3616541],[3502366,3501311,3502182,3502366],[3441485,3441314,3442848,3441485]]],[[[3929186,3899593,3892474,3883647,3871121,3879822,3876654,3891228,3863898,3840116,3863284,3844928,3829693,3829336,3817859,3795178,3791502,3778781,3762699,3735612,3712279,3699624,3647053,3646014,3658739,3658592,3669952,3652256,3640216,3626110,3626900,3613775,3616719,3602130,3571625,3552441,3573653,3591834,3598787,3618914,3615476,3632866,3660335,3668794,3669173,3689872,3673943,3672343,3756582,3774005,3784905,3794138,3819131,3830134,3849483,3886057,3880089,3895950,3899604,3920077,3919031,3929186]]],[[[4441990,4442215,4426024,4446423,4412760,4405928,4379800,4366078,4348583,4350253,4324461,4325973,4307208,4294215,4279287,4261849,4236416,4236495,4226781,4228692,4235395,4226005,4246675,4237354,4255193,4251970,4262429,4271121,4268164,4281015,4285852,4278108,4297702,4299972,4286393,4273412,4270807,4278319,4256805,4246736,4227889,4125187,4113386,4094120,4092665,4061672,4031143,4038590,4025607,3977474,3978943,3939658,3929672,3900107,3896905,3860757,3833416,3841369,3826081,3813852,3807739,3821036,3855261,3825461,3838888,3844928,3863284,3840116,3863898,3891228,3876654,3879822,3871121,3883647,3892474,3899593,3929186,3919031,3920077,3899604,3895950,3880089,3886057,3848084,3799533,3808078,3807728,3828158,3821276,3826746,3842676,3873433,3861753,3863359,3893572,3890757,3904155,3907244,3922955,3944311,3966335,3978087,4013283,4067893,4079557,4106170,4105364,4134993,4147264,4179193,4196880,4194635,4212690,4235548,4240794,4249795,4262049,4283879,4279388,4285133,4277649,4282896,4290518,4304384,4310898,4325577,4337042,4335089,4352132,4361795,4363840,4384897,4397334,4403639,4397270,4404275,4416053,4426865,4412157,4437717,4431943,4445423,4449930,4441990]]],[[[2914499,2906081,2887043,2863142,2847148,2841713,2826083,2824600,2803197,2783169,2771871,2772577,2764001,2767649,2751356,2758631,2741275,2732470,2737426,2728684,2738998,2731039,2733089,2715596,2708570,2683155,2702999,2692058,2686873,2655901,2647976,2649686,2631359,2630816,2623105,2605386,2592967,2581215,2580814,2566165,2559601,2542306,2537002,2552965,2548227,2579720,2566767,2548768,2541223,2534242,2508019,2510778,2525302,2517854,2531008,2512007,2523889,2522108,2546821,2569406,2552375,2574417,2588350,2592261,2624814,2635054,2627822,2642034,2648901,2672076,2678267,2708712,2700301,2704708,2731554,2736680,2756781,2765662,2791659,2797793,2814765,2818370,2831238,2812103,2822110,2808385,2788413,2799302,2801448,2818043,2798831,2807117,2799709,2817741,2824523,2837380,2853992,2842920,2848733,2827197,2824831,2809906,2798513,2827411,2821982,2829217,2819307,2832045,2827639,2883678,2886782,2903227,2899551,2913332,2914499],[2785745,2786159,2787986,2787183,2785745]]],[[[1497210,1497097,1497662,1497600,1497210]]],[[[1498203,1498091,1498655,1498593,1498203]]],[[[1499197,1499085,1499650,1499587,1499197]]],[[[1502762,1502980,1503834,1503438,1502762]]],[[[1532910,1532952,1533257,1533324,1532910]]],[[[1534417,1534534,1536012,1535324,1534417]]],[[[1575466,1575527,1575917,1575989,1575466]]],[[[1575956,1576148,1576781,1576242,1575956]]],[[[1576945,1576919,1577550,1577640,1576945]]],[[[1583958,1583995,1584563,1584431,1583958]]],[[[1605895,1605897,1604672,1605449,1605895]]],[[[1609948,1610140,1610695,1610735,1609948]]],[[[1627191,1627380,1628997,1628384,1627191]]],[[[1664971,1665059,1665718,1665591,1664971]]],[[[1667970,1667557,1667893,1668468,1667970]]],[[[1669801,1669390,1669725,1670301,1669801]]],[[[1670586,1670853,1671269,1671366,1670586]]],[[[1674471,1674059,1674394,1674969,1674471]]],[[[1674348,1674244,1674517,1674994,1674348]]],[[[1781406,1780784,1784684,1785136,1781406]]],[[[2088749,2083260,2073856,2070338,2044094,2034240,1988930,1979293,1970963,1964541,1964341,1946782,1940013,1922086,1882059,1872946,1861323,1859444,1838877,1834194,1796135,1799458,1785760,1765823,1762897,1747447,1746391,1719687,1708425,1689833,1698000,1686310,1682612,1643343,1628676,1629824,1619704,1602043,1599430,1613721,1612985,1597023,1612288,1604927,1592360,1589277,1586890,1577648,1571462,1561345,1577861,1574022,1581065,1594760,1593164,1566436,1545342,1546883,1557722,1565524,1558930,1556150,1538126,1549408,1544486,1567659,1563367,1569156,1554525,1562190,1556957,1533420,1534967,1524411,1526944,1497434,1490859,1453221,1448670,1444153,1452672,1432626,1444666,1422406,1421638,1393265,1369748,1365836,1358823,1339929,1339053,1318378,1324220,1319714,1313997,1324225,1321956,1298216,1302199,1312176,1308351,1318438,1315841,1330944,1329496,1343084,1340189,1354460,1356710,1378893,1392627,1402854,1398208,1407752,1412926,1410340,1423294,1421425,1436291,1432129,1500616,1511637,1507245,1503983,1512164,1512677,1531910,1532778,1541403,1532824,1558035,1573006,1604775,1601738,1606471,1632857,1626004,1628379,1638446,1633971,1642215,1642260,1645972,1644124,1659198,1665895,1674372,1670585,1677215,1685658,1710712,1719191,1723266,1764967,1766885,1780159,1778775,1787837,1787903,1809650,1811084,1816716,1831711,1836562,1850634,1862294,1868055,1866129,1881554,1868926,1875021,1887879,1894247,1914125,1915023,1902440,1915746,1914377,1921931,1916411,1951454,1965602,1976630,1964122,1969632,1958774,1963710,1955661,1964692,1957380,1990370,1998061,2009529,2002913,2010638,2000331,2017447,2025799,2027813,2059367,2055615,2085599,2088749]]],[[[2093425,2091256,2090636,2093205,2093425]]],[[[1436009,1421425,1423294,1410340,1412926,1409308,1398404,1402854,1392627,1378893,1363474,1354807,1339631,1343084,1328573,1318438,1304828,1296934,1285034,1272834,1253365,1256686,1249373,1237814,1236542,1224374,1207057,1191036,1190669,1153190,1143435,1158400,1143363,1130359,1115818,1075368,1074186,1063079,1008301,991751,977381,955441,949873,929490,926227,936239,994543,1251168,1312395,1329149,1342675,1346170,1432129,1436009],[1315572,1313657,1318327,1317918,1315572]]],[[[1255284,1260496,1271101,1265894,1255284]]],[[[1326989,1331181,1346107,1344175,1326989]]],[[[1120167,1125017,1134612,1127794,1120167]]],[[[1287874,1293757,1300985,1298893,1287874]]],[[[1253933,1245874,1254107,1257299,1253933]]],[[[1378196,1390061,1391624,1388287,1378196]]],[[[930457,925191,923833,927484,930457]]],[[[1124923,1130406,1136420,1134493,1124923]]],[[[1184262,1182428,1179867,1184319,1184262]]],[[[1211346,1211300,1210735,1209611,1211346]]],[[[1210423,1210765,1218254,1216928,1210423]]],[[[1261498,1256396,1252608,1259376,1261498]]],[[[1285108,1286348,1288566,1287475,1285108]]],[[[1311042,1309224,1309731,1311621,1311042]]],[[[1244757,1246408,1247450,1246244,1244757]]],[[[1225879,1224778,1224675,1225916,1225879]]],[[[1226332,1225736,1225508,1226222,1226332]]],[[[1207133,1207148,1207519,1207334,1207133]]],[[[1226522,1226324,1226474,1226624,1226522]]],[[[1226955,1226999,1227334,1227149,1226955]]],[[[1226848,1226619,1226737,1226892,1226848]]],[[[2558484,2561188,2561866,2561443,2558484]]],[[[2882654,2883932,2884818,2883742,2882654]]],[[[3106365,3092506,3097806,3080674,3083401,3069647,3054973,3053577,3043375,3041175,3027266,3028520,3017604,3015640,3008536,2973570,2977390,2967377,2952005,2944509,2921211,2890951,2886035,2875081,2857602,2834329,2816672,2786282,2800938,2782766,2784414,2774872,2796039,2830996,2826741,2852455,2870835,2906916,2910611,2929740,2919201,2925886,2928073,2928492,2936722,2928323,2944139,2942990,2930109,2921376,2922807,2912405,2903303,2917488,2917898,2895069,2899224,2909188,2892741,2898807,2888897,2895058,2889935,2905652,2901488,2908685,2909507,2916938,2907778,2911339,2908396,2889106,2891688,2885339,2896990,2887108,2904709,2927934,2896628,2882602,2875665,2885318,2880353,2879006,2875756,2873609,2876070,2887748,2884117,2888649,2894319,2881911,2882843,2892103,2888817,2899302,2868460,2869440,2862065,2870214,2867277,2895912,2884533,2892169,2899381,2882801,2876554,2854610,2853887,2843481,2847918,2828095,2826161,2839304,2832795,2838735,2826437,2820681,2821106,2788897,2770187,2769670,2762746,2748776,2733671,2727101,2737727,2729998,2744099,2739643,2719277,2703157,2693246,2700601,2696335,2681921,2671320,2649098,2641348,2626768,2616661,2591353,2587536,2576337,2564558,2574536,2564500,2546863,2526087,2519917,2525234,2506319,2481252,2476976,2448312,2432220,2436862,2454111,2465954,2454479,2463789,2456797,2472324,2478259,2469509,2462490,2449946,2451617,2465588,2437861,2435160,2441910,2436738,2455291,2456462,2475388,2483815,2482766,2462978,2447310,2431612,2414613,2415227,2400855,2401721,2436244,2440680,2466932,2473167,2514471,2503604,2505812,2513187,2521717,2537985,2554627,2550000,2558715,2568771,2561908,2576530,2573538,2588878,2588117,2614650,2623659,2639332,2657358,2671515,2687584,2708058,2737673,2756633,2784938,2787520,2810069,2815426,2835084,2850279,2833074,2847452,2849905,2871353,2858040,2861686,2880887,2880534,2861744,2858564,2852376,2864246,2841242,2842088,2808582,2804044,2810923,2802382,2782973,2769949,2762120,2749172,2757030,2751967,2758894,2743311,2728653,2723807,2741258,2735146,2744755,2756012,2764520,2793336,2779334,2781100,2772811,2787637,2773778,2768854,2778021,2794186,2818096,2819218,2809103,2822436,2839696,2844539,2853050,2859547,2876415,2889106,2889045,2925916,2927229,2913419,2913532,2929582,2963607,2982886,2992623,3010580,3067254,3080620,3083212,3097878,3106365],[2667060,2665735,2666753,2667060],[2876246,2876260,2875762,2875291,2876246],[2879515,2882193,2893185,2883249,2879515],[2898017,2898683,2897167,2896693,2898017]]],[[[1809019,1809099,1810228,1810102,1809019]]],[[[1876163,1876332,1876781,1876643,1876163]]],[[[2209675,2209408,2208302,2208596,2209675]]],[[[2512364,2500336,2478413,2471019,2466932,2438093,2436244,2414086,2406682,2400615,2405334,2415227,2414613,2431612,2447310,2462978,2482766,2483815,2475388,2456462,2455291,2436738,2441910,2435160,2437861,2465588,2451617,2449946,2462490,2469509,2478259,2472324,2456797,2463789,2454479,2465954,2454111,2436862,2428851,2403554,2383907,2384133,2354379,2346463,2344910,2312856,2301929,2290362,2289772,2281114,2265165,2265340,2257818,2249041,2251979,2236993,2227558,2216593,2209224,2205698,2197955,2188884,2191587,2202627,2194853,2153914,2133224,2120327,2117358,2135476,2157904,2159414,2167583,2175418,2202552,2225231,2213847,2227393,2209474,2220193,2231687,2232509,2244556,2248625,2262740,2247184,2233245,2208862,2203585,2182917,2183541,2195253,2190632,2186524,2165668,2158421,2134202,2132447,2117003,2102787,2101919,2087822,2073868,2068209,2073856,2083260,2090897,2055615,2059367,2027813,2025799,2017447,2000331,2010638,2002913,2009529,1998061,1990370,1957380,1964692,1955661,1963710,1958774,1969632,1964122,1976630,1965602,1951454,1916411,1921931,1914377,1915746,1902440,1915023,1914125,1894247,1887879,1875021,1868926,1881554,1866129,1867375,1850634,1835997,1828258,1815066,1811084,1809650,1787903,1787837,1778775,1780159,1759231,1781269,1773241,1811330,1848616,1852840,1850372,1866495,1874707,1872728,1878463,1890909,1914808,1917906,1915039,1917087,1919074,1929764,1955708,1957774,1967873,2017816,2062624,2100195,2147811,2193865,2266210,2269283,2259107,2260864,2282633,2299870,2298255,2281583,2279174,2297594,2296909,2319293,2337098,2350067,2357802,2339702,2346031,2355315,2361068,2389751,2401873,2399912,2405383,2404715,2411826,2412273,2423676,2427253,2439777,2449274,2448942,2456214,2458551,2450961,2466434,2475426,2490183,2512364],[2093359,2093205,2090636,2091256,2093359],[1781536,1780224,1781406,1785136,1781536]]],[[[2954834,2938095,2931510,2901466,2891669,2877976,2840801,2840138,2793992,2734746,2746681,2744244,2753967,2746661,2766636,2755858,2763363,2758494,2767031,2851984,2852150,2907626,2913299,2900063,2944507,2948544,2935828,2960932,2954834]]],[[[3011909,2998854,3008338,2992043,2987360,2975703,2958287,2968347,2944457,2948364,2932991,2916319,2902119,2889911,2892676,2879370,2898762,2890951,2901093,2893348,2912083,2942192,2950671,2967435,2994277,3000943,2986208,2994067,2986528,2992948,2987678,2992527,2985152,2977016,2981545,2964779,2979036,2979293,2983226,2983027,3003058,2987231,3006274,3011909]]],[[[2804218,2800670,2767031,2758494,2763725,2763363,2755858,2759444,2714258,2674473,2648318,2632283,2637376,2575141,2542532,2532589,2534959,2509315,2514851,2504825,2519132,2529656,2509002,2595925,2624006,2660362,2661370,2730684,2742448,2783891,2784032,2769617,2816676,2804218]]],[[[3114847,3083529,3054973,3046370,3011814,3008145,2987076,2968823,2944695,2932257,2938095,2960932,2935907,2948544,2944507,2900571,2905268,2928761,2942622,2994363,2975578,2988572,3020012,3067897,3055942,3081397,3094393,3116820,3113455,3128115,3114847]]],[[[2268708,2270501,2274265,2273272,2268708]]],[[[2275783,2275618,2277578,2276743,2275783]]],[[[2315567,2316542,2317340,2316387,2315567]]],[[[2316850,2319331,2320234,2318171,2316850]]],[[[2320032,2322273,2331298,2325870,2320032]]],[[[2360112,2360118,2360868,2360745,2360112]]],[[[2361739,2360877,2359774,2360258,2361739]]],[[[2362980,2362944,2363613,2363874,2362980]]],[[[2365515,2365250,2366028,2366077,2365515]]],[[[2366465,2366170,2365332,2365702,2366465]]],[[[2365053,2366209,2367366,2366354,2365053]]],[[[2367462,2367628,2368908,2368638,2367462]]],[[[2373710,2374939,2375766,2374682,2373710]]],[[[2575728,2548227,2552965,2538065,2529261,2521380,2495922,2495328,2508874,2506594,2488512,2479152,2463884,2447060,2418344,2403308,2370718,2366961,2369019,2361526,2364737,2357699,2357287,2354768,2357963,2329913,2311683,2294361,2273171,2267305,2229534,2186242,2164359,2174427,2170552,2163793,2157568,2163637,2153778,2157607,2145840,2130041,2125963,2133070,2156892,2146292,2173950,2156515,2164057,2149477,2154637,2139042,2110500,2082550,2080259,2090020,2065340,2101386,2086502,2075637,2074395,2061422,2054322,2036963,2045271,2016882,2015822,2068719,2078849,2103921,2114603,2121875,2145183,2170559,2204831,2214729,2247923,2262656,2277790,2285632,2274736,2273350,2253496,2262136,2257615,2246572,2253672,2272484,2280646,2324017,2339203,2378409,2371287,2410065,2413207,2404359,2424342,2437042,2433882,2451437,2465445,2466987,2472893,2485787,2493085,2515898,2519678,2523808,2536521,2555994,2575373,2552375,2569406,2546821,2521157,2523889,2512007,2530522,2517854,2525302,2510778,2508019,2548768,2569198,2579720,2575728]]],[[[1231745,1231236,1212494,1224633,1231745]]],[[[1311147,1310794,1312189,1312646,1311147]]],[[[1315446,1313885,1318215,1318140,1315446]]],[[[1323267,1323131,1324515,1324296,1323267]]],[[[1325257,1324326,1324405,1325350,1325257]]],[[[1327820,1326606,1321233,1321738,1327820]]],[[[1324650,1324798,1327781,1327356,1324650]]],[[[1332298,1332744,1329812,1329383,1332298]]],[[[1342509,1339782,1340427,1342086,1342509]]],[[[1348025,1347673,1348778,1348460,1348025]]],[[[1349172,1348415,1339607,1338067,1334463,1349172]]],[[[1347450,1345762,1336783,1340540,1326832,1331486,1332047,1335001,1344149,1344560,1347450],[1333651,1330049,1330001,1334044,1333651]]],[[[1346574,1347216,1351422,1350637,1346574]]],[[[1890461,1892227,1889886,1886036,1890461]]],[[[3827593,3818082,3794138,3784905,3774005,3756582,3672343,3673943,3689872,3669173,3661867,3632866,3605336,3599415,3590656,3553055,3557191,3545894,3537149,3527378,3513682,3516004,3529098,3516994,3523544,3516538,3493922,3486245,3470845,3470658,3480734,3470154,3478556,3445053,3460005,3471449,3482584,3475184,3478491,3492429,3484914,3502468,3491120,3499874,3519303,3550249,3559400,3560104,3566610,3571418,3625339,3645217,3650658,3643988,3650890,3673891,3692986,3726930,3731197,3748485,3757609,3772047,3767905,3776469,3794216,3808492,3808078,3799533,3839163,3827593]]],[[[3500845,3496223,3486222,3476220,3470631,3471726,3447454,3442780,3432877,3417355,3426971,3404979,3408668,3393451,3377364,3376620,3365862,3326243,3299970,3295044,3267999,3260234,3257751,3240000,3231381,3228346,3248273,3255873,3252116,3261129,3264580,3271437,3267884,3254624,3253281,3244634,3250735,3260541,3275567,3274153,3266472,3205318,3215347,3225622,3223059,3189143,3172721,3165721,3147806,3134660,3124695,3125596,3106168,3091168,3103784,3101890,3114977,3111590,3105378,3117105,3113189,3096981,3097412,3083212,3080620,3067254,3027915,3009998,2987212,2982886,2963607,2929582,2913532,2913419,2927229,2925916,2889045,2889106,2876415,2859547,2853050,2844539,2839696,2822436,2809103,2819218,2818096,2794186,2778021,2768854,2773778,2787637,2772811,2781100,2779334,2793336,2764520,2756012,2744755,2735146,2741258,2723807,2728653,2743311,2758894,2751967,2757030,2749172,2762120,2769949,2782973,2802382,2810923,2804044,2808582,2842088,2841242,2864246,2852376,2858564,2861744,2880534,2880887,2861686,2858040,2872191,2849905,2844989,2833074,2850279,2835084,2815426,2810069,2787520,2784938,2756633,2737673,2708058,2687584,2671515,2657358,2639332,2654539,2653419,2664391,2677470,2672634,2685939,2686663,2707359,2706651,2717167,2727429,2744898,2768932,2754647,2765320,2775942,2797848,2801531,2813791,2810868,2793247,2797575,2809318,2815440,2803265,2815155,2824514,2829125,2828750,2839980,2830338,2836292,2827601,2835755,2836292,2828260,2835820,2894324,2924657,2962689,2963115,2991089,3067498,3073460,3099504,3146346,3193777,3224665,3250339,3250189,3216616,3212237,3230097,3233294,3244336,3265713,3298278,3346252,3379515,3447077,3495928,3512312,3528824,3500845],[2746707,2745653,2745779,2746707],[2745208,2744856,2745556,2745208]]],[[[3261439,3250857,3235403,3194203,3158915,3140615,3147755,3133636,3138034,3150539,3185238,3222284,3242721,3246159,3265286,3261439]]],[[[975296,975879,976292,975600,975296]]],[[[986945,987056,987798,987477,986945]]],[[[990332,990191,991162,990999,990332]]],[[[999768,1000057,1000766,1000277,999768]]],[[[1015569,1015775,1016517,1016533,1015569]]],[[[1017454,1017389,1018483,1018015,1017454]]],[[[1017203,1017565,1018645,1017878,1017203]]],[[[1018457,1018927,1019301,1018738,1018457]]],[[[1018906,1019595,1019957,1019437,1018906]]],[[[1020124,1020260,1020796,1021044,1020124]]],[[[1022510,1022475,1023141,1022970,1022510]]],[[[1022550,1022707,1023296,1023422,1022550]]],[[[1022891,1022982,1023391,1023409,1022891]]],[[[1023646,1023553,1024219,1024209,1023646]]],[[[1023584,1023958,1024350,1024362,1023584]]],[[[1025298,1024266,1024331,1025075,1025298]]],[[[1025612,1025911,1026536,1026316,1025612]]],[[[1027146,1025820,1026100,1026916,1027146]]],[[[1026427,1026962,1027540,1026679,1026427]]],[[[1027760,1027646,1028834,1029263,1027760]]],[[[1029724,1030083,1030491,1030314,1029724]]],[[[1031887,1032447,1032780,1032298,1031887]]],[[[1032066,1032423,1032957,1032680,1032066]]],[[[1033147,1033504,1033960,1033681,1033147]]],[[[1033443,1033724,1033935,1033651,1033443]]],[[[1039453,1034096,1026735,1024823,1037367,1039453]]],[[[1334148,1333587,1330001,1333651,1334148]]],[[[1497539,1496653,1497044,1497539]]],[[[1504550,1504434,1505788,1505184,1504550]]],[[[1507930,1507780,1506602,1507053,1507930]]],[[[1507062,1507184,1508396,1508104,1507062]]],[[[1509842,1510063,1510411,1510052,1509842]]],[[[1332614,1328054,1321738,1321233,1296086,1233546,1227664,1212494,1151381,1153645,1156723,1159127,1148796,1135288,1122938,1085815,1060000,1039844,1037696,1034418,1007233,1011426,1006115,992541,979759,971428,935218,902215,907108,926227,929490,949873,954865,977381,991751,1008301,1063079,1074186,1075368,1115818,1130715,1143363,1158400,1143435,1153190,1190669,1191036,1207057,1224374,1236542,1235789,1237814,1249373,1256686,1253365,1272834,1285034,1296934,1312176,1302199,1298216,1321956,1324225,1313997,1319714,1324220,1318378,1339053,1339929,1359226,1374503,1387770,1421638,1422406,1444666,1446840,1440205,1437477,1442824,1432626,1424492,1416661,1430661,1425070,1451714,1458537,1467377,1470845,1463269,1463150,1469768,1461912,1476568,1472179,1482546,1495734,1498092,1489198,1493395,1483476,1486748,1492301,1499628,1516630,1521453,1513247,1524145,1493276,1399322,1340540,1336783,1345762,1346997,1335001,1332614],[1332744,1332348,1329383,1328829,1332744],[1334862,1338067,1339607,1348415,1349172,1334862],[1342557,1342086,1340427,1340367,1342557],[1347673,1347631,1348460,1348778,1347673],[1324798,1325549,1327915,1325533,1324798],[1325350,1324405,1324326,1325257,1325350],[1324378,1323131,1323267,1324296,1324378],[1276182,1276106,1276182,1276182],[1270715,1270685,1270715,1270715],[1261270,1260243,1261270,1261270]]],[[[2013095,2007002,2008058,1995003,1991444,1966234,1959337,1948903,1945216,1924790,1928174,1937798,1923711,1929054,1918304,1913222,1897114,1899780,1926907,1910879,1900016,1880087,1890201,1870614,1833319,1828947,1817706,1823653,1808240,1816920,1814805,1809034,1797208,1785411,1794055,1791311,1796135,1808826,1834194,1844368,1849219,1859444,1861323,1872946,1882059,1922086,1940013,1946782,1964341,1964541,1970963,1978482,1988930,2034240,2044094,2070338,2078672,2089360,2089950,2101919,2102787,2115619,2132447,2134202,2158421,2165668,2186524,2190632,2195253,2183541,2182917,2203585,2208862,2233245,2247184,2262740,2248625,2244556,2232509,2231687,2220193,2209474,2227393,2213847,2226351,2222904,2202552,2175418,2167583,2159414,2157904,2132642,2117358,2122284,2106869,2111778,2098992,2068009,2058369,2065684,2053825,2057991,2047800,2013095]]],[[[2814614,2800594,2783612,2783891,2771079,2719860,2711166,2721032,2710268,2720303,2690436,2665474,2643605,2625298,2666184,2640666,2643574,2720462,2722405,2750982,2750476,2766201,2762960,2781839,2770317,2783270,2770102,2794780,2800047,2817471,2814614]]],[[[2875291,2875947,2876246,2875998,2875291]]],[[[2891356,2882726,2879877,2880637,2891356]]],[[[2896693,2897167,2898683,2897837,2896693]]],[[[3555571,3534657,3515732,3486399,3462031,3465025,3444589,3476648,3473594,3446594,3433070,3415337,3408178,3394059,3391346,3377782,3371112,3356537,3361111,3350131,3355070,3338730,3353393,3319451,3333177,3336183,3306967,3294119,3266053,3270553,3259211,3231029,3239389,3208208,3214764,3186174,3180165,3164656,3173354,3182996,3182307,3163770,3155518,3145809,3134707,3135027,3109588,3105957,3090638,3092355,3076668,3078586,3066222,3063048,3054617,3045172,3029278,3028616,3020874,2997765,2983731,2965284,2959038,2967259,2957005,2964250,2929272,2898059,2859653,2829546,2817622,2814449,2797793,2743712,2738185,2768345,2788897,2800209,2821106,2820681,2832049,2839432,2826161,2828095,2847918,2843481,2853887,2854610,2876554,2882801,2899381,2892169,2884533,2895912,2867277,2870214,2862065,2869440,2868460,2899302,2888817,2892103,2882843,2881911,2894319,2884117,2887748,2876070,2873609,2875756,2879006,2880353,2885318,2876434,2877889,2896628,2927934,2904709,2887295,2896990,2885339,2891688,2889106,2908396,2907778,2916983,2908519,2908685,2901488,2905652,2891542,2888763,2898807,2892741,2909188,2899224,2895539,2918158,2917488,2903303,2911719,2922807,2921376,2930109,2944011,2937875,2932597,2928323,2936722,2928073,2925886,2919201,2929740,2910611,2906916,2870835,2852455,2826741,2830996,2796039,2774872,2784414,2782766,2800938,2786659,2790119,2799936,2817755,2834329,2857602,2875081,2886035,2890951,2921211,2944509,2952005,2967377,2977390,2973570,3008536,3015640,3017604,3028520,3027266,3037584,3043789,3053577,3054973,3069647,3083401,3080674,3097806,3092506,3107056,3102283,3113189,3116989,3116902,3105378,3111590,3114977,3094081,3106168,3121283,3125596,3131563,3147806,3165721,3172721,3199400,3223905,3241864,3259106,3279525,3282309,3300497,3319221,3338839,3349828,3375732,3388457,3417765,3451710,3492912,3509143,3516693,3555571],[3262656,3262009,3262170,3262656],[2884359,2882571,2882654,2884020,2884359]]],[[[3678086,3636922,3637127,3624620,3632829,3629469,3603443,3607733,3601426,3577466,3561352,3565605,3535385,3529095,3531349,3503816,3497581,3477372,3471319,3451951,3431862,3400925,3403568,3394034,3388337,3338910,3355070,3350131,3361111,3356537,3371112,3377782,3391346,3394059,3408178,3415337,3433070,3446594,3470519,3476648,3444589,3465025,3462031,3486399,3515732,3534657,3556646,3571625,3602130,3616719,3613775,3626900,3626110,3640216,3652256,3669952,3658592,3658739,3645713,3647346,3674415,3693038,3678086]]],[[[2460308,2459577,2460240,2461373,2460308]]],[[[2463538,2460941,2456649,2458147,2463538]]],[[[2463700,2461405,2458779,2462569,2463700]]],[[[2464432,2462636,2458280,2458047,2464432]]],[[[2468007,2463445,2460176,2462875,2468007]]],[[[2468192,2463800,2459211,2463833,2468192]]],[[[2469805,2469455,2470102,2470090,2469805]]],[[[2469355,2462569,2460774,2463572,2468351,2469355]]],[[[2468541,2465363,2468375,2472800,2471255,2469396,2468541]]],[[[2470353,2469455,2472977,2471717,2470353]]],[[[2474554,2470519,2466489,2465729,2474554]]],[[[2474845,2473145,2470433,2473507,2474413,2475734,2474845]]],[[[2476226,2469911,2464145,2469044,2476226]]],[[[2476343,2470187,2473714,2473448,2476343]]],[[[2476305,2469255,2464532,2472860,2476027,2476305]]],[[[2476663,2472308,2465363,2473456,2476663]]],[[[2477087,2473388,2469196,2471939,2477087]]],[[[2478082,2473381,2468789,2466061,2463767,2473880,2478082]]],[[[2478180,2468831,2465666,2467796,2474928,2475590,2476128,2478180]]],[[[2478764,2477375,2477168,2476398,2469821,2478764]]],[[[2479873,2474421,2473709,2476817,2478400,2478440,2467926,2476910,2477914,2479515,2479873]]],[[[2478477,2479147,2479938,2479006,2478477]]],[[[2480970,2474978,2467425,2474878,2480970]]],[[[2479290,2470592,2466843,2463035,2479290]]],[[[2482992,2472182,2458646,2465529,2467803,2471717,2474246,2475548,2482992]]],[[[2482968,2480903,2478273,2477641,2476243,2477905,2482968]]],[[[2483233,2482832,2481218,2479724,2478206,2477142,2473913,2476834,2478606,2482062,2483233]]],[[[2483331,2482371,2478650,2477674,2479431,2481538,2483331]]],[[[2483466,2482568,2465962,2476742,2475708,2483466]]],[[[2483266,2480418,2479417,2481255,2483266]]],[[[2483766,2482901,2482434,2483133,2483766]]],[[[2483335,2483599,2483899,2483766,2483335]]],[[[2480944,2480771,2484013,2482222,2480944]]],[[[2480877,2482342,2484116,2482819,2480877]]],[[[2484866,2481944,2479839,2477786,2483834,2484866]]],[[[2478487,2478920,2484950,2482202,2478487]]],[[[2485490,2485351,2486130,2486031,2485490]]],[[[2485787,2485159,2484099,2483433,2481050,2478617,2477470,2481134,2482468,2485787]]],[[[2486364,2480637,2476509,2479937,2480866,2482326,2486364]]],[[[2486425,2485662,2483866,2486613,2486425]]],[[[2486031,2486330,2487030,2486397,2486031]]],[[[2486168,2480004,2476081,2483660,2486168]]],[[[2488414,2484865,2482641,2479328,2478073,2477855,2474697,2473587,2474437,2473957,2473391,2471428,2470552,2474368,2480803,2488414]]],[[[2488562,2487496,2486397,2487563,2488562]]],[[[2488767,2479804,2480059,2479526,2477843,2477840,2488767]]],[[[2488859,2487480,2487487,2483601,2477919,2485024,2488859]]],[[[2488929,2488964,2482620,2483450,2483566,2485108,2488929]]],[[[2486978,2484199,2485098,2489234,2486978]]],[[[2488012,2483533,2481537,2490275,2488012]]],[[[2480936,2483891,2485945,2490550,2488697,2487025,2485997,2483567,2480936]]],[[[2490627,2489528,2489261,2488295,2487329,2486530,2486097,2482935,2482168,2481769,2490627]]],[[[2490626,2490005,2489827,2490493,2490626]]],[[[2490760,2490405,2490410,2491093,2490760]]],[[[2491689,2488767,2487764,2489343,2491689]]],[[[2493192,2490562,2489994,2486697,2485415,2484033,2483467,2482202,2489528,2491826,2491959,2493192]]],[[[2493525,2491036,2489428,2487297,2493525]]],[[[2494081,2492725,2491726,2492259,2494081]]],[[[2493955,2493971,2494410,2494132,2493955]]],[[[2494807,2494034,2490695,2487149,2486003,2482685,2480394,2478140,2476612,2487006,2488034,2491089,2494807]]],[[[2495358,2494492,2494191,2493725,2492992,2487196,2484965,2481968,2478873,2485331,2495358]]],[[[2495390,2496227,2496714,2496403,2495390]]],[[[2496524,2480625,2466660,2472549,2496524]]],[[[2496957,2496390,2495724,2495358,2495157,2494991,2486497,2487029,2487730,2489028,2490094,2490660,2490993,2494691,2495558,2496957]]],[[[2498742,2491670,2489228,2484540,2485911,2488139,2498742]]],[[[2499256,2495891,2495649,2485697,2499256]]],[[[2498940,2498859,2499295,2499061,2498940]]],[[[2499656,2497956,2495290,2495990,2497523,2499090,2499656]]],[[[2499218,2494528,2489603,2493425,2499218]]],[[[2500223,2499955,2499988,2500223,2500223]]],[[[2500113,2494290,2489362,2486308,2491438,2500113]]],[[[2500389,2494657,2493825,2485265,2489362,2488895,2492026,2492092,2500389]]],[[[2498723,2497589,2499256,2500789,2498723]]],[[[2501024,2498256,2499323,2500756,2501024]]],[[[2500283,2500258,2500575,2501180,2500283]]],[[[2502124,2500923,2495991,2499692,2502124]]],[[[2502732,2501354,2499389,2501721,2502732]]],[[[2501670,2501281,2502904,2495624,2492393,2493958,2494791,2497223,2496990,2488994,2493991,2502906,2501670]]],[[[2503356,2501689,2501889,2497556,2495290,2496423,2497024,2496957,2495890,2503356]]],[[[2503989,2503389,2501456,2502956,2503989]]],[[[2509092,2506105,2502634,2502489,2509092]]],[[[2511358,2510124,2509532,2512380,2511358]]],[[[2513832,2511602,2504667,2506487,2513832]]],[[[2514694,2503456,2500923,2510958,2514694]]],[[[2513859,2512793,2502700,2506356,2513859]]],[[[2516958,2516760,2516599,2516760,2516958]]],[[[2517730,2517534,2515949,2515366,2513893,2517730]]],[[[2516968,2513293,2516476,2517030,2517449,2518462,2516968]]],[[[2518797,2518597,2518964,2519030,2518797]]],[[[2517640,2509956,2502662,2511775,2513249,2517640]]],[[[2517627,2517896,2519099,2518797,2517627]]],[[[2518821,2517558,2514764,2516068,2518821]]],[[[2521005,2519889,2519096,2517328,2516784,2514394,2521005]]],[[[2521131,2521266,2521361,2521261,2521131]]],[[[2521638,2518773,2519193,2521961,2521638]]],[[[2523431,2522130,2520861,2521795,2523431]]],[[[2521766,2521203,2521857,2519492,2518420,2521766]]],[[[2526302,2525869,2521399,2524066,2521703,2526302]]],[[[2525172,2526353,2526993,2526373,2525172]]],[[[2531586,2529314,2522370,2526789,2528636,2531814,2531586]]],[[[2534255,2526794,2519282,2514431,2518419,2516135,2513593,2510059,2507924,2509016,2505755,2499762,2510848,2519364,2526897,2531911,2530879,2534255]]],[[[2535455,2527216,2517936,2517952,2518625,2520788,2521031,2520987,2517881,2519264,2518367,2516319,2535455]]],[[[2536590,2531881,2527686,2521232,2512161,2524281,2536590]]],[[[2534255,2534616,2536075,2536047,2531609,2528877,2527205,2524883,2518369,2519130,2531591,2536521,2534255]]],[[[2537658,2537425,2537091,2537091,2537658]]],[[[2538560,2535219,2534615,2532790,2538560]]],[[[2557503,2530146,2526951,2536222,2542236,2557503]]],[[[2559283,2559250,2560788,2560387,2559283]]],[[[2559484,2560005,2551995,2556106,2559484]]],[[[2560922,2560822,2560287,2560253,2560922]]],[[[2562813,2562461,2562471,2563113,2562813]]],[[[2562608,2563123,2563172,2562979,2562608]]],[[[2563498,2563364,2563230,2563330,2563498]]],[[[2567981,2567112,2566710,2568350,2567981]]],[[[2571730,2569397,2563688,2564971,2566978,2571730]]],[[[2577551,2567488,2561391,2559785,2555605,2560056,2562361,2572482,2577551]]],[[[2579380,2579054,2578626,2579271,2579380]]],[[[2579533,2563266,2560722,2555371,2561907,2548771,2579533]]],[[[2994210,2992071,2990908,2993051,2994210]]],[[[3024700,3015273,3015352,3028112,3024700]]],[[[3029707,3027925,3020882,3030148,3029707]]],[[[3032273,3030498,3034369,3034417,3032273]]],[[[3039398,3038774,3041651,3041978,3039398]]],[[[3144055,3133636,3147755,3137121,3117400,3122978,3113979,3115995,3099501,3106764,3096118,3088428,3086497,3054716,3036528,3020570,3027419,3019011,3007540,2994947,3016379,3048661,3056026,3049275,3028975,3034810,3027972,3037387,3031973,3042816,3067020,3077001,3072892,3054812,3056149,3043405,3045387,3026558,3017355,2973889,2975070,2938549,2933988,2940055,2920475,2908600,2896114,2901476,2868869,2859880,2870320,2867186,2858530,2834585,2799515,2786905,2767425,2751759,2736554,2710109,2692245,2662905,2658017,2632947,2613332,2584946,2580091,2579295,2577186,2572611,2563578,2578994,2573282,2575345,2574604,2575767,2576175,2576939,2577691,2580989,2582946,2577621,2574360,2572492,2570776,2567011,2564847,2563299,2563298,2558213,2555407,2554576,2554238,2554669,2555349,2554769,2538589,2539526,2538449,2540083,2541854,2543483,2544513,2544520,2544070,2544742,2546295,2546412,2543991,2543360,2539909,2538302,2537491,2535223,2531389,2537030,2537269,2541904,2537421,2536966,2536731,2536949,2535677,2536301,2535851,2534538,2534390,2536645,2536630,2538123,2538711,2538836,2539274,2540593,2542014,2543425,2543438,2545533,2545743,2538677,2536558,2534951,2531615,2533551,2532016,2534786,2535296,2542694,2535020,2536689,2537652,2537129,2546893,2550790,2552280,2538205,2536530,2535698,2524597,2530718,2534244,2530636,2527215,2524082,2518107,2517602,2516963,2519603,2501089,2508342,2499956,2499388,2500248,2499987,2493891,2497014,2501172,2503055,2504644,2507569,2510113,2508980,2509363,2511069,2514308,2515813,2507550,2501370,2501289,2500718,2500048,2498964,2506591,2507146,2507438,2512915,2497690,2499421,2501680,2505822,2507356,2508003,2507890,2507522,2507061,2505789,2501897,2499604,2487407,2490263,2499259,2500207,2502118,2502809,2494383,2497746,2496084,2493118,2491165,2490157,2489183,2488443,2487622,2486091,2482866,2487762,2482444,2479142,2482090,2497057,2520565,2531580,2536990,2548147,2537959,2541050,2560354,2564551,2542803,2533717,2523435,2513093,2523836,2523953,2512759,2490655,2468905,2463884,2483425,2488512,2506594,2508874,2495328,2495922,2517007,2529261,2537875,2547351,2563105,2580814,2581215,2592967,2605386,2623105,2625635,2630816,2631626,2649686,2647976,2664127,2677140,2689210,2692058,2702949,2701053,2689571,2683155,2708570,2715596,2733089,2731039,2738998,2728684,2737426,2732470,2741275,2758631,2751356,2767649,2764001,2772577,2772435,2783169,2803197,2824600,2826083,2841713,2847148,2863142,2888004,2909968,2926250,2941726,2935625,2937815,2960840,2970616,2980747,2989273,3004590,3042973,3059950,3067588,3062485,3067452,3106117,3137425,3150539,3144055],[2911355,2909543,2910900,2911355],[3037406,3036958,3036560,3037650,3037406]]]],\"agg_clust\":[2,2,2,2,2,2,2,2,2,2,2,2,2,2,2,2,2,2,2,2,2,2,2,2,2,2,2,2,2,2,2,2,2,2,2,2,2,2,2,2,2,2,2,2,2,2,2,2,2,2,2,2,2,2,2,2,2,2,2,2,2,2,2,2,2,2,2,2,2,2,2,2,2,2,2,2,2,2,2,2,2,2,2,2,2,2,2,2,2,2,2,2,2,2,2,2,2,2,2,2,2,2,2,2,2,2,2,2,2,2,2,2,2,2,2,2,2,2,2,2,2,2,2,2,2,2,2,2,2,2,2,2,2,2,2,2,2,2,2,2,2,2,2,2,2,2,2,2,2,2,2,2,2,2,2,2,2,2,2,2,2,2,2,2,2,2,2,2,2,2,2,2,2,2,2,2,2,2,2,2,2,2,2,2,2,2,1,1,0,0,0,0,0,2,0,1,1,1,1,1,1,1,1,1,1,1,1,1,1,1,1,1,1,1,1,1,1,1,1,1,1,1,1,1,1,1,1,1,1,1,1,1,1,1,1,1,1,1,1,1,1,1,1,1,1,1,1,1,1,1,1,1,1,1,1,1,1,1,1,1,1,1,1,1,1,1,1,1,1,1,1,1,1,1,1,1,1,1,1,1,1,1,1,1,1,1,1,1,1,1,1,1,1,1,1,1,1,1,1,1,1,1,1,1,1,1,1,1,1,1,1,1,1,1,1,1,1,1,1,1,1,1,1,1,1,1,1,1,1,1,1,1,1,1,1,1,1,1,1,1,1,1,1,1,1,1,1,1,1,1,1,1,1,1,1,1,1,1,1,1,1,1,1,1,1,1,1,1,1,1,1,1,1,1,1,1,1,1,1,1,1,1,1,1,1,1,1,1,1,1,1,1,1,1,1,1,1,1,1,1,1,1,1,1,1,1,1,1,1,1,1,1,1,1,1,1,1,1,1,1,1,1,1,1,1,1,1,1,0,0,1,1,1,1,1,1,1,1,1,1,1,1,1,1,1,1,1,1,1,1,1,1,1,2,2,2,2,2,2,2,2,2,2,2,2,2,2,2,2,2,2,2,2,2,0,0,0,1,1,1,1,0,0,2,1,0,0,0,0,0,0,0,0,0,0,0,0,0,0,1,1,1,1,1,1,1,1,1,1,1,1,1,1,1,0,2,1,1,1,1,1,1,1,1,1,1,1,1,1,1,1,1,1,1,1,1,1,1,1,1,1,1,1,1,1,1,1,1,1,0,2,0,0,0,0,1,0,0,0,0,0,0,0,0,0,0,0,0,0,0,0,0,0,0,0,0,0,0,0,0,0,0,0,0,0,0,0,0,0,0,0,0,0,0,0,0,0,0,0,0,0,0,0,0,0,0,0,0,0,0,0,0,0,0,0,0,0,0,0,0,0,0,0,0,0,0,0,0,0,0,0,0,0,0,0,0,0,0,0,0,0,0,0,0,0,0,0,0,0,0,0,0,0,0,0,0,0,0,0,0,0,0,0,0,0,0,0,0,0,0,0,0,0,0,0,0,0,0,0],\"index\":[0,0,0,0,0,0,0,0,0,0,0,0,0,0,0,0,0,0,0,0,0,0,0,0,0,0,0,0,0,0,0,0,0,0,0,0,0,0,0,0,0,0,0,0,0,0,0,0,0,0,0,0,0,0,0,0,0,0,0,0,0,0,0,0,0,0,0,0,0,0,0,0,0,0,0,0,0,0,0,0,0,0,0,0,0,0,0,0,0,0,0,0,0,0,0,0,0,0,0,0,0,0,0,0,0,0,0,0,0,0,0,0,0,0,0,0,0,0,0,0,0,0,0,0,0,0,0,0,0,0,0,0,0,0,0,0,0,0,0,0,0,0,0,0,0,0,0,0,0,0,0,0,0,0,0,0,0,0,0,0,0,0,0,0,0,0,0,0,0,0,0,0,0,0,0,0,0,0,0,0,0,0,0,0,0,0,1,1,2,3,3,4,4,5,6,7,8,8,8,8,8,9,10,10,11,11,11,11,11,11,11,11,11,11,11,11,11,11,11,11,11,11,11,11,11,11,11,11,11,11,11,11,11,11,11,11,11,11,11,11,11,11,11,11,11,11,11,11,11,11,11,11,11,11,11,11,11,11,11,11,11,11,11,11,11,11,11,11,11,11,11,11,11,11,11,11,11,11,11,11,11,11,11,11,11,11,11,11,11,11,11,11,11,11,11,11,11,11,11,11,11,11,11,11,11,11,11,11,11,11,11,11,11,11,11,11,11,11,11,11,11,11,11,11,11,11,11,11,11,11,11,11,11,11,11,11,11,11,11,11,11,11,11,11,11,11,11,11,11,11,11,11,11,11,11,11,11,11,11,11,11,11,11,11,11,11,11,11,11,11,11,11,11,11,11,11,11,11,11,11,11,11,11,11,11,11,11,11,11,11,11,11,11,11,11,11,11,11,11,11,11,11,11,11,11,11,11,11,11,11,11,11,11,11,11,11,11,11,11,11,11,11,11,11,11,11,12,13,14,15,16,16,16,16,16,16,16,16,16,16,16,16,16,16,16,16,16,16,16,16,16,16,17,18,18,18,18,18,18,18,18,18,18,18,18,18,18,18,18,18,18,18,18,18,19,19,19,20,20,20,20,21,22,23,24,25,25,25,25,25,25,25,25,25,25,25,25,25,25,26,26,26,26,26,26,26,26,26,26,26,26,26,26,27,28,29,30,30,30,30,30,30,30,30,30,30,30,30,30,30,30,30,30,30,30,30,30,30,30,30,30,30,30,30,30,30,30,30,30,31,32,33,33,33,33,34,35,35,35,35,35,35,35,35,35,35,35,35,35,35,35,35,35,35,35,35,35,35,35,35,35,35,35,35,35,35,35,35,35,35,35,35,35,35,35,35,35,35,35,35,35,35,35,35,35,35,35,35,35,35,35,35,35,35,35,35,35,35,35,35,35,35,35,35,35,35,35,35,35,35,35,35,35,35,35,35,35,35,35,35,35,35,35,35,35,35,35,35,35,35,35,35,35,35,35,35,35,35,35,35,35,35,35,35,35,35,35,35,35,35,35,35,35,35,35,35,35,35,35]},\"selected\":{\"id\":\"1569\"},\"selection_policy\":{\"id\":\"1568\"}},\"id\":\"1557\",\"type\":\"ColumnDataSource\"},{\"attributes\":{},\"id\":\"1541\",\"type\":\"HelpTool\"},{\"attributes\":{\"text\":\"\"},\"id\":\"1510\",\"type\":\"Title\"},{\"attributes\":{\"attribution\":\"&copy; <a href=\\\"https://www.openstreetmap.org/copyright\\\">OpenStreetMap</a> contributors,&copy; <a href=\\\"https://cartodb.com/attributions\\\">CartoDB</a>\",\"url\":\"https://tiles.basemaps.cartocdn.com/light_all/{z}/{x}/{y}@2x.png\"},\"id\":\"1551\",\"type\":\"WMTSTileSource\"}],\"root_ids\":[\"1509\"]},\"title\":\"Bokeh Application\",\"version\":\"2.1.1\"}};\n",
              "  var render_items = [{\"docid\":\"04c6c756-7dd2-4df8-ba35-9a30ad3b00fc\",\"root_ids\":[\"1509\"],\"roots\":{\"1509\":\"d1bb034d-89c3-4539-b264-50895128b227\"}}];\n",
              "  root.Bokeh.embed.embed_items_notebook(docs_json, render_items);\n",
              "\n",
              "  }\n",
              "  if (root.Bokeh !== undefined) {\n",
              "    embed_document(root);\n",
              "  } else {\n",
              "    var attempts = 0;\n",
              "    var timer = setInterval(function(root) {\n",
              "      if (root.Bokeh !== undefined) {\n",
              "        clearInterval(timer);\n",
              "        embed_document(root);\n",
              "      } else {\n",
              "        attempts++;\n",
              "        if (attempts > 100) {\n",
              "          clearInterval(timer);\n",
              "          console.log(\"Bokeh: ERROR: Unable to run BokehJS code because BokehJS library is missing\");\n",
              "        }\n",
              "      }\n",
              "    }, 10, root)\n",
              "  }\n",
              "})(window);"
            ],
            "application/vnd.bokehjs_exec.v0+json": ""
          },
          "metadata": {
            "tags": [],
            "application/vnd.bokehjs_exec.v0+json": {
              "id": "1509"
            }
          }
        },
        {
          "output_type": "execute_result",
          "data": {
            "text/html": [
              "<div style=\"display: table;\"><div style=\"display: table-row;\"><div style=\"display: table-cell;\"><b title=\"bokeh.plotting.figure.Figure\">Figure</b>(</div><div style=\"display: table-cell;\">id&nbsp;=&nbsp;'1509', <span id=\"1640\" style=\"cursor: pointer;\">&hellip;)</span></div></div><div class=\"1639\" style=\"display: none;\"><div style=\"display: table-cell;\"></div><div style=\"display: table-cell;\">above&nbsp;=&nbsp;[],</div></div><div class=\"1639\" style=\"display: none;\"><div style=\"display: table-cell;\"></div><div style=\"display: table-cell;\">align&nbsp;=&nbsp;'start',</div></div><div class=\"1639\" style=\"display: none;\"><div style=\"display: table-cell;\"></div><div style=\"display: table-cell;\">aspect_ratio&nbsp;=&nbsp;None,</div></div><div class=\"1639\" style=\"display: none;\"><div style=\"display: table-cell;\"></div><div style=\"display: table-cell;\">aspect_scale&nbsp;=&nbsp;1,</div></div><div class=\"1639\" style=\"display: none;\"><div style=\"display: table-cell;\"></div><div style=\"display: table-cell;\">background&nbsp;=&nbsp;None,</div></div><div class=\"1639\" style=\"display: none;\"><div style=\"display: table-cell;\"></div><div style=\"display: table-cell;\">background_fill_alpha&nbsp;=&nbsp;1.0,</div></div><div class=\"1639\" style=\"display: none;\"><div style=\"display: table-cell;\"></div><div style=\"display: table-cell;\">background_fill_color&nbsp;=&nbsp;'#ffffff',</div></div><div class=\"1639\" style=\"display: none;\"><div style=\"display: table-cell;\"></div><div style=\"display: table-cell;\">below&nbsp;=&nbsp;[MercatorAxis(id='1520', ...)],</div></div><div class=\"1639\" style=\"display: none;\"><div style=\"display: table-cell;\"></div><div style=\"display: table-cell;\">border_fill_alpha&nbsp;=&nbsp;1.0,</div></div><div class=\"1639\" style=\"display: none;\"><div style=\"display: table-cell;\"></div><div style=\"display: table-cell;\">border_fill_color&nbsp;=&nbsp;'#ffffff',</div></div><div class=\"1639\" style=\"display: none;\"><div style=\"display: table-cell;\"></div><div style=\"display: table-cell;\">center&nbsp;=&nbsp;[Grid(id='1527', ...), Grid(id='1535', ...), Legend(id='1571', ...)],</div></div><div class=\"1639\" style=\"display: none;\"><div style=\"display: table-cell;\"></div><div style=\"display: table-cell;\">css_classes&nbsp;=&nbsp;[],</div></div><div class=\"1639\" style=\"display: none;\"><div style=\"display: table-cell;\"></div><div style=\"display: table-cell;\">disabled&nbsp;=&nbsp;False,</div></div><div class=\"1639\" style=\"display: none;\"><div style=\"display: table-cell;\"></div><div style=\"display: table-cell;\">extra_x_ranges&nbsp;=&nbsp;{},</div></div><div class=\"1639\" style=\"display: none;\"><div style=\"display: table-cell;\"></div><div style=\"display: table-cell;\">extra_y_ranges&nbsp;=&nbsp;{},</div></div><div class=\"1639\" style=\"display: none;\"><div style=\"display: table-cell;\"></div><div style=\"display: table-cell;\">frame_height&nbsp;=&nbsp;None,</div></div><div class=\"1639\" style=\"display: none;\"><div style=\"display: table-cell;\"></div><div style=\"display: table-cell;\">frame_width&nbsp;=&nbsp;None,</div></div><div class=\"1639\" style=\"display: none;\"><div style=\"display: table-cell;\"></div><div style=\"display: table-cell;\">height&nbsp;=&nbsp;None,</div></div><div class=\"1639\" style=\"display: none;\"><div style=\"display: table-cell;\"></div><div style=\"display: table-cell;\">height_policy&nbsp;=&nbsp;'auto',</div></div><div class=\"1639\" style=\"display: none;\"><div style=\"display: table-cell;\"></div><div style=\"display: table-cell;\">hidpi&nbsp;=&nbsp;True,</div></div><div class=\"1639\" style=\"display: none;\"><div style=\"display: table-cell;\"></div><div style=\"display: table-cell;\">js_event_callbacks&nbsp;=&nbsp;{},</div></div><div class=\"1639\" style=\"display: none;\"><div style=\"display: table-cell;\"></div><div style=\"display: table-cell;\">js_property_callbacks&nbsp;=&nbsp;{},</div></div><div class=\"1639\" style=\"display: none;\"><div style=\"display: table-cell;\"></div><div style=\"display: table-cell;\">left&nbsp;=&nbsp;[MercatorAxis(id='1528', ...)],</div></div><div class=\"1639\" style=\"display: none;\"><div style=\"display: table-cell;\"></div><div style=\"display: table-cell;\">lod_factor&nbsp;=&nbsp;10,</div></div><div class=\"1639\" style=\"display: none;\"><div style=\"display: table-cell;\"></div><div style=\"display: table-cell;\">lod_interval&nbsp;=&nbsp;300,</div></div><div class=\"1639\" style=\"display: none;\"><div style=\"display: table-cell;\"></div><div style=\"display: table-cell;\">lod_threshold&nbsp;=&nbsp;2000,</div></div><div class=\"1639\" style=\"display: none;\"><div style=\"display: table-cell;\"></div><div style=\"display: table-cell;\">lod_timeout&nbsp;=&nbsp;500,</div></div><div class=\"1639\" style=\"display: none;\"><div style=\"display: table-cell;\"></div><div style=\"display: table-cell;\">margin&nbsp;=&nbsp;(0, 0, 0, 0),</div></div><div class=\"1639\" style=\"display: none;\"><div style=\"display: table-cell;\"></div><div style=\"display: table-cell;\">match_aspect&nbsp;=&nbsp;False,</div></div><div class=\"1639\" style=\"display: none;\"><div style=\"display: table-cell;\"></div><div style=\"display: table-cell;\">max_height&nbsp;=&nbsp;None,</div></div><div class=\"1639\" style=\"display: none;\"><div style=\"display: table-cell;\"></div><div style=\"display: table-cell;\">max_width&nbsp;=&nbsp;None,</div></div><div class=\"1639\" style=\"display: none;\"><div style=\"display: table-cell;\"></div><div style=\"display: table-cell;\">min_border&nbsp;=&nbsp;5,</div></div><div class=\"1639\" style=\"display: none;\"><div style=\"display: table-cell;\"></div><div style=\"display: table-cell;\">min_border_bottom&nbsp;=&nbsp;None,</div></div><div class=\"1639\" style=\"display: none;\"><div style=\"display: table-cell;\"></div><div style=\"display: table-cell;\">min_border_left&nbsp;=&nbsp;None,</div></div><div class=\"1639\" style=\"display: none;\"><div style=\"display: table-cell;\"></div><div style=\"display: table-cell;\">min_border_right&nbsp;=&nbsp;None,</div></div><div class=\"1639\" style=\"display: none;\"><div style=\"display: table-cell;\"></div><div style=\"display: table-cell;\">min_border_top&nbsp;=&nbsp;None,</div></div><div class=\"1639\" style=\"display: none;\"><div style=\"display: table-cell;\"></div><div style=\"display: table-cell;\">min_height&nbsp;=&nbsp;None,</div></div><div class=\"1639\" style=\"display: none;\"><div style=\"display: table-cell;\"></div><div style=\"display: table-cell;\">min_width&nbsp;=&nbsp;None,</div></div><div class=\"1639\" style=\"display: none;\"><div style=\"display: table-cell;\"></div><div style=\"display: table-cell;\">name&nbsp;=&nbsp;None,</div></div><div class=\"1639\" style=\"display: none;\"><div style=\"display: table-cell;\"></div><div style=\"display: table-cell;\">outline_line_alpha&nbsp;=&nbsp;1.0,</div></div><div class=\"1639\" style=\"display: none;\"><div style=\"display: table-cell;\"></div><div style=\"display: table-cell;\">outline_line_cap&nbsp;=&nbsp;'butt',</div></div><div class=\"1639\" style=\"display: none;\"><div style=\"display: table-cell;\"></div><div style=\"display: table-cell;\">outline_line_color&nbsp;=&nbsp;'#e5e5e5',</div></div><div class=\"1639\" style=\"display: none;\"><div style=\"display: table-cell;\"></div><div style=\"display: table-cell;\">outline_line_dash&nbsp;=&nbsp;[],</div></div><div class=\"1639\" style=\"display: none;\"><div style=\"display: table-cell;\"></div><div style=\"display: table-cell;\">outline_line_dash_offset&nbsp;=&nbsp;0,</div></div><div class=\"1639\" style=\"display: none;\"><div style=\"display: table-cell;\"></div><div style=\"display: table-cell;\">outline_line_join&nbsp;=&nbsp;'bevel',</div></div><div class=\"1639\" style=\"display: none;\"><div style=\"display: table-cell;\"></div><div style=\"display: table-cell;\">outline_line_width&nbsp;=&nbsp;1,</div></div><div class=\"1639\" style=\"display: none;\"><div style=\"display: table-cell;\"></div><div style=\"display: table-cell;\">output_backend&nbsp;=&nbsp;'webgl',</div></div><div class=\"1639\" style=\"display: none;\"><div style=\"display: table-cell;\"></div><div style=\"display: table-cell;\">plot_height&nbsp;=&nbsp;600,</div></div><div class=\"1639\" style=\"display: none;\"><div style=\"display: table-cell;\"></div><div style=\"display: table-cell;\">plot_width&nbsp;=&nbsp;900,</div></div><div class=\"1639\" style=\"display: none;\"><div style=\"display: table-cell;\"></div><div style=\"display: table-cell;\">renderers&nbsp;=&nbsp;[TileRenderer(id='1552', ...), GlyphRenderer(id='1561', ...)],</div></div><div class=\"1639\" style=\"display: none;\"><div style=\"display: table-cell;\"></div><div style=\"display: table-cell;\">reset_policy&nbsp;=&nbsp;'standard',</div></div><div class=\"1639\" style=\"display: none;\"><div style=\"display: table-cell;\"></div><div style=\"display: table-cell;\">right&nbsp;=&nbsp;[],</div></div><div class=\"1639\" style=\"display: none;\"><div style=\"display: table-cell;\"></div><div style=\"display: table-cell;\">sizing_mode&nbsp;=&nbsp;None,</div></div><div class=\"1639\" style=\"display: none;\"><div style=\"display: table-cell;\"></div><div style=\"display: table-cell;\">subscribed_events&nbsp;=&nbsp;[],</div></div><div class=\"1639\" style=\"display: none;\"><div style=\"display: table-cell;\"></div><div style=\"display: table-cell;\">tags&nbsp;=&nbsp;[],</div></div><div class=\"1639\" style=\"display: none;\"><div style=\"display: table-cell;\"></div><div style=\"display: table-cell;\">title&nbsp;=&nbsp;Title(id='1510', ...),</div></div><div class=\"1639\" style=\"display: none;\"><div style=\"display: table-cell;\"></div><div style=\"display: table-cell;\">title_location&nbsp;=&nbsp;'above',</div></div><div class=\"1639\" style=\"display: none;\"><div style=\"display: table-cell;\"></div><div style=\"display: table-cell;\">toolbar&nbsp;=&nbsp;Toolbar(id='1543', ...),</div></div><div class=\"1639\" style=\"display: none;\"><div style=\"display: table-cell;\"></div><div style=\"display: table-cell;\">toolbar_location&nbsp;=&nbsp;'right',</div></div><div class=\"1639\" style=\"display: none;\"><div style=\"display: table-cell;\"></div><div style=\"display: table-cell;\">toolbar_sticky&nbsp;=&nbsp;True,</div></div><div class=\"1639\" style=\"display: none;\"><div style=\"display: table-cell;\"></div><div style=\"display: table-cell;\">visible&nbsp;=&nbsp;True,</div></div><div class=\"1639\" style=\"display: none;\"><div style=\"display: table-cell;\"></div><div style=\"display: table-cell;\">width&nbsp;=&nbsp;None,</div></div><div class=\"1639\" style=\"display: none;\"><div style=\"display: table-cell;\"></div><div style=\"display: table-cell;\">width_policy&nbsp;=&nbsp;'auto',</div></div><div class=\"1639\" style=\"display: none;\"><div style=\"display: table-cell;\"></div><div style=\"display: table-cell;\">x_range&nbsp;=&nbsp;DataRange1d(id='1512', ...),</div></div><div class=\"1639\" style=\"display: none;\"><div style=\"display: table-cell;\"></div><div style=\"display: table-cell;\">x_scale&nbsp;=&nbsp;LinearScale(id='1516', ...),</div></div><div class=\"1639\" style=\"display: none;\"><div style=\"display: table-cell;\"></div><div style=\"display: table-cell;\">y_range&nbsp;=&nbsp;DataRange1d(id='1514', ...),</div></div><div class=\"1639\" style=\"display: none;\"><div style=\"display: table-cell;\"></div><div style=\"display: table-cell;\">y_scale&nbsp;=&nbsp;LinearScale(id='1518', ...))</div></div></div>\n",
              "<script>\n",
              "(function() {\n",
              "  var expanded = false;\n",
              "  var ellipsis = document.getElementById(\"1640\");\n",
              "  ellipsis.addEventListener(\"click\", function() {\n",
              "    var rows = document.getElementsByClassName(\"1639\");\n",
              "    for (var i = 0; i < rows.length; i++) {\n",
              "      var el = rows[i];\n",
              "      el.style.display = expanded ? \"none\" : \"table-row\";\n",
              "    }\n",
              "    ellipsis.innerHTML = expanded ? \"&hellip;)\" : \"&lsaquo;&lsaquo;&lsaquo;\";\n",
              "    expanded = !expanded;\n",
              "  });\n",
              "})();\n",
              "</script>\n"
            ],
            "text/plain": [
              "Figure(id='1509', ...)"
            ]
          },
          "metadata": {
            "tags": []
          },
          "execution_count": 134
        }
      ]
    },
    {
      "cell_type": "markdown",
      "metadata": {
        "id": "YNS1s_EW3Jv1"
      },
      "source": [
        "So as we can see the states are coloured according the the clusters they fall into."
      ]
    },
    {
      "cell_type": "markdown",
      "metadata": {
        "id": "klxxCuVjA794"
      },
      "source": [
        "Thus we successfully grouped Indian states into various clusters. This will help the Education Department to plan improvement schemes for each cluster specifically which will result in greater progress in the field of education in India."
      ]
    }
  ]
}