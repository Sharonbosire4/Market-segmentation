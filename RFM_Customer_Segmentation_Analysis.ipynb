{
  "nbformat": 4,
  "nbformat_minor": 0,
  "metadata": {
    "colab": {
      "name": "RFM_Customer_Segmentation_Analysis",
      "provenance": []
    },
    "kernelspec": {
      "name": "python3",
      "display_name": "Python 3"
    },
    "language_info": {
      "name": "python"
    }
  },
  "cells": [
    {
      "cell_type": "code",
      "metadata": {
        "id": "fSVApS2ZMFaK"
      },
      "source": [
        "import pandas as pd\n",
        "import numpy as np\n",
        "import matplotlib as pyplot\n",
        "import seaborn as sns\n",
        "from pymongo import MongoClient\n",
        "%matplotlib inline\n",
        "import matplotlib.pyplot as plt\n",
        "import seaborn as sns\n",
        "import datetime\n",
        "import plotly.express as px\n",
        "import datetime as dt\n",
        "from operator import attrgetter\n",
        "from sklearn.cluster import KMeans\n",
        "import warnings\n",
        "import os\n",
        "sns.set()\n",
        "# importing DateTime module to convert extracted dates\n",
        "import datetime as dt"
      ],
      "execution_count": null,
      "outputs": []
    },
    {
      "cell_type": "code",
      "metadata": {
        "id": "L5wJ4srtPaKB"
      },
      "source": [
        "db_name = \"Processed_Thrifty_Database\"\n",
        "host = \"capstone-cosmos-db.mongo.cosmos.azure.com\"\n",
        "port = 10255\n",
        "username = \"capstone-cosmos-db\"\n",
        "password = \"BuYmUjcc9LwFDN2PdVNuUudZTG5ABlxPoZgdIoRlrugcfiF5Rm15REQOJL1dspgH28NeeJI5dOeMCwzqRRrCvg==\"\n",
        "args = \"ssl=true&retrywrites=false&ssl_cert_reqs=CERT_NONE\""
      ],
      "execution_count": null,
      "outputs": []
    },
    {
      "cell_type": "code",
      "metadata": {
        "id": "f-IVFwoAPhTZ"
      },
      "source": [
        "connection_uri = f\"mongodb://{username}:{password}@{host}:{port}/{db_name}?{args}\"\n",
        "client = MongoClient(connection_uri)\n",
        " \n",
        "db = client[db_name]\n",
        "collection = db['Customer_Segmentation']"
      ],
      "execution_count": null,
      "outputs": []
    },
    {
      "cell_type": "code",
      "metadata": {
        "colab": {
          "base_uri": "https://localhost:8080/",
          "height": 233
        },
        "id": "_IblMZfqPl2J",
        "outputId": "2b779e60-ccdf-4240-8a8b-8609ee81c919"
      },
      "source": [
        "data= pd.DataFrame(list(collection.find()))\n",
        "data.head(2)"
      ],
      "execution_count": null,
      "outputs": [
        {
          "output_type": "execute_result",
          "data": {
            "text/html": [
              "<div>\n",
              "<style scoped>\n",
              "    .dataframe tbody tr th:only-of-type {\n",
              "        vertical-align: middle;\n",
              "    }\n",
              "\n",
              "    .dataframe tbody tr th {\n",
              "        vertical-align: top;\n",
              "    }\n",
              "\n",
              "    .dataframe thead th {\n",
              "        text-align: right;\n",
              "    }\n",
              "</style>\n",
              "<table border=\"1\" class=\"dataframe\">\n",
              "  <thead>\n",
              "    <tr style=\"text-align: right;\">\n",
              "      <th></th>\n",
              "      <th>_id</th>\n",
              "      <th>Customer_Id</th>\n",
              "      <th>Transaction_Date</th>\n",
              "      <th>Item_Id</th>\n",
              "      <th>Quantity_Purchased</th>\n",
              "      <th>Sales_Person_Id</th>\n",
              "      <th>User_Product_Review</th>\n",
              "      <th>Purchased_From</th>\n",
              "      <th>Product_Discovery_Info</th>\n",
              "      <th>Showroom_Id</th>\n",
              "      <th>Customer_Ratings</th>\n",
              "      <th>Transaction_Year</th>\n",
              "      <th>Transaction_Month</th>\n",
              "      <th>Transaction_Time</th>\n",
              "      <th>Transaction_Hour</th>\n",
              "      <th>Transaction_Quarter</th>\n",
              "      <th>Transaction_Day</th>\n",
              "      <th>Transaction_Day_Type</th>\n",
              "      <th>Holiday</th>\n",
              "      <th>Holiday_Name</th>\n",
              "      <th>Item_Name</th>\n",
              "      <th>Item_Price</th>\n",
              "      <th>Amount_Spent</th>\n",
              "      <th>Name</th>\n",
              "      <th>Gender</th>\n",
              "      <th>Birthdate</th>\n",
              "      <th>Address</th>\n",
              "      <th>Dt_Customer</th>\n",
              "      <th>Recency</th>\n",
              "      <th>AcceptedCmp3</th>\n",
              "      <th>AcceptedCmp4</th>\n",
              "      <th>AcceptedCmp5</th>\n",
              "      <th>Current_Age</th>\n",
              "      <th>Town</th>\n",
              "      <th>Latitude</th>\n",
              "      <th>Longitude</th>\n",
              "      <th>State</th>\n",
              "      <th>Transaction_Age</th>\n",
              "    </tr>\n",
              "  </thead>\n",
              "  <tbody>\n",
              "    <tr>\n",
              "      <th>0</th>\n",
              "      <td>6094edbae1a88135b12d145c</td>\n",
              "      <td>1680</td>\n",
              "      <td>2020-09-28 03:03:24</td>\n",
              "      <td>3001</td>\n",
              "      <td>7</td>\n",
              "      <td>81</td>\n",
              "      <td>good</td>\n",
              "      <td>online</td>\n",
              "      <td>customer</td>\n",
              "      <td>-1</td>\n",
              "      <td>4</td>\n",
              "      <td>2020</td>\n",
              "      <td>September</td>\n",
              "      <td>05:03:24</td>\n",
              "      <td>5</td>\n",
              "      <td>3</td>\n",
              "      <td>Monday</td>\n",
              "      <td>Weekday</td>\n",
              "      <td>No</td>\n",
              "      <td>None</td>\n",
              "      <td>dresses</td>\n",
              "      <td>100</td>\n",
              "      <td>700</td>\n",
              "      <td>Herr Jan Geisel B.A.</td>\n",
              "      <td>F</td>\n",
              "      <td>1917-04-25</td>\n",
              "      <td>Lindaugasse 17\\n49311 Schwerin</td>\n",
              "      <td>2013-04-28</td>\n",
              "      <td>74</td>\n",
              "      <td>0</td>\n",
              "      <td>0</td>\n",
              "      <td>0</td>\n",
              "      <td>50.0</td>\n",
              "      <td>Schwerin</td>\n",
              "      <td>53.62883</td>\n",
              "      <td>11.414804</td>\n",
              "      <td>Mecklenburg-Vorpommern</td>\n",
              "      <td>50.0</td>\n",
              "    </tr>\n",
              "    <tr>\n",
              "      <th>1</th>\n",
              "      <td>6094edbbe1a88135b12dcdaf</td>\n",
              "      <td>1680</td>\n",
              "      <td>2020-06-12 13:51:47</td>\n",
              "      <td>3001</td>\n",
              "      <td>5</td>\n",
              "      <td>78</td>\n",
              "      <td>not that good</td>\n",
              "      <td>online</td>\n",
              "      <td>twitter</td>\n",
              "      <td>-1</td>\n",
              "      <td>2</td>\n",
              "      <td>2020</td>\n",
              "      <td>June</td>\n",
              "      <td>15:51:47</td>\n",
              "      <td>15</td>\n",
              "      <td>2</td>\n",
              "      <td>Friday</td>\n",
              "      <td>Weekday</td>\n",
              "      <td>No</td>\n",
              "      <td>None</td>\n",
              "      <td>dresses</td>\n",
              "      <td>100</td>\n",
              "      <td>500</td>\n",
              "      <td>Herr Jan Geisel B.A.</td>\n",
              "      <td>F</td>\n",
              "      <td>1917-04-25</td>\n",
              "      <td>Lindaugasse 17\\n49311 Schwerin</td>\n",
              "      <td>2013-04-28</td>\n",
              "      <td>74</td>\n",
              "      <td>0</td>\n",
              "      <td>0</td>\n",
              "      <td>0</td>\n",
              "      <td>50.0</td>\n",
              "      <td>Schwerin</td>\n",
              "      <td>53.62883</td>\n",
              "      <td>11.414804</td>\n",
              "      <td>Mecklenburg-Vorpommern</td>\n",
              "      <td>50.0</td>\n",
              "    </tr>\n",
              "  </tbody>\n",
              "</table>\n",
              "</div>"
            ],
            "text/plain": [
              "                        _id  ...  Transaction_Age\n",
              "0  6094edbae1a88135b12d145c  ...             50.0\n",
              "1  6094edbbe1a88135b12dcdaf  ...             50.0\n",
              "\n",
              "[2 rows x 38 columns]"
            ]
          },
          "metadata": {
            "tags": []
          },
          "execution_count": 4
        }
      ]
    },
    {
      "cell_type": "code",
      "metadata": {
        "colab": {
          "base_uri": "https://localhost:8080/",
          "height": 233
        },
        "id": "c_bK7etXPpBH",
        "outputId": "11f01871-42c4-4ceb-d4d6-ce113094df3a"
      },
      "source": [
        "df=data.drop(['AcceptedCmp3', 'AcceptedCmp4','AcceptedCmp5','Latitude','Longitude','_id','Birthdate','Dt_Customer'], axis=1)\n",
        "df.head(2)"
      ],
      "execution_count": null,
      "outputs": [
        {
          "output_type": "execute_result",
          "data": {
            "text/html": [
              "<div>\n",
              "<style scoped>\n",
              "    .dataframe tbody tr th:only-of-type {\n",
              "        vertical-align: middle;\n",
              "    }\n",
              "\n",
              "    .dataframe tbody tr th {\n",
              "        vertical-align: top;\n",
              "    }\n",
              "\n",
              "    .dataframe thead th {\n",
              "        text-align: right;\n",
              "    }\n",
              "</style>\n",
              "<table border=\"1\" class=\"dataframe\">\n",
              "  <thead>\n",
              "    <tr style=\"text-align: right;\">\n",
              "      <th></th>\n",
              "      <th>Customer_Id</th>\n",
              "      <th>Transaction_Date</th>\n",
              "      <th>Item_Id</th>\n",
              "      <th>Quantity_Purchased</th>\n",
              "      <th>Sales_Person_Id</th>\n",
              "      <th>User_Product_Review</th>\n",
              "      <th>Purchased_From</th>\n",
              "      <th>Product_Discovery_Info</th>\n",
              "      <th>Showroom_Id</th>\n",
              "      <th>Customer_Ratings</th>\n",
              "      <th>Transaction_Year</th>\n",
              "      <th>Transaction_Month</th>\n",
              "      <th>Transaction_Time</th>\n",
              "      <th>Transaction_Hour</th>\n",
              "      <th>Transaction_Quarter</th>\n",
              "      <th>Transaction_Day</th>\n",
              "      <th>Transaction_Day_Type</th>\n",
              "      <th>Holiday</th>\n",
              "      <th>Holiday_Name</th>\n",
              "      <th>Item_Name</th>\n",
              "      <th>Item_Price</th>\n",
              "      <th>Amount_Spent</th>\n",
              "      <th>Name</th>\n",
              "      <th>Gender</th>\n",
              "      <th>Address</th>\n",
              "      <th>Recency</th>\n",
              "      <th>Current_Age</th>\n",
              "      <th>Town</th>\n",
              "      <th>State</th>\n",
              "      <th>Transaction_Age</th>\n",
              "    </tr>\n",
              "  </thead>\n",
              "  <tbody>\n",
              "    <tr>\n",
              "      <th>0</th>\n",
              "      <td>1680</td>\n",
              "      <td>2020-09-28 03:03:24</td>\n",
              "      <td>3001</td>\n",
              "      <td>7</td>\n",
              "      <td>81</td>\n",
              "      <td>good</td>\n",
              "      <td>online</td>\n",
              "      <td>customer</td>\n",
              "      <td>-1</td>\n",
              "      <td>4</td>\n",
              "      <td>2020</td>\n",
              "      <td>September</td>\n",
              "      <td>05:03:24</td>\n",
              "      <td>5</td>\n",
              "      <td>3</td>\n",
              "      <td>Monday</td>\n",
              "      <td>Weekday</td>\n",
              "      <td>No</td>\n",
              "      <td>None</td>\n",
              "      <td>dresses</td>\n",
              "      <td>100</td>\n",
              "      <td>700</td>\n",
              "      <td>Herr Jan Geisel B.A.</td>\n",
              "      <td>F</td>\n",
              "      <td>Lindaugasse 17\\n49311 Schwerin</td>\n",
              "      <td>74</td>\n",
              "      <td>50.0</td>\n",
              "      <td>Schwerin</td>\n",
              "      <td>Mecklenburg-Vorpommern</td>\n",
              "      <td>50.0</td>\n",
              "    </tr>\n",
              "    <tr>\n",
              "      <th>1</th>\n",
              "      <td>1680</td>\n",
              "      <td>2020-06-12 13:51:47</td>\n",
              "      <td>3001</td>\n",
              "      <td>5</td>\n",
              "      <td>78</td>\n",
              "      <td>not that good</td>\n",
              "      <td>online</td>\n",
              "      <td>twitter</td>\n",
              "      <td>-1</td>\n",
              "      <td>2</td>\n",
              "      <td>2020</td>\n",
              "      <td>June</td>\n",
              "      <td>15:51:47</td>\n",
              "      <td>15</td>\n",
              "      <td>2</td>\n",
              "      <td>Friday</td>\n",
              "      <td>Weekday</td>\n",
              "      <td>No</td>\n",
              "      <td>None</td>\n",
              "      <td>dresses</td>\n",
              "      <td>100</td>\n",
              "      <td>500</td>\n",
              "      <td>Herr Jan Geisel B.A.</td>\n",
              "      <td>F</td>\n",
              "      <td>Lindaugasse 17\\n49311 Schwerin</td>\n",
              "      <td>74</td>\n",
              "      <td>50.0</td>\n",
              "      <td>Schwerin</td>\n",
              "      <td>Mecklenburg-Vorpommern</td>\n",
              "      <td>50.0</td>\n",
              "    </tr>\n",
              "  </tbody>\n",
              "</table>\n",
              "</div>"
            ],
            "text/plain": [
              "   Customer_Id    Transaction_Date  ...                   State  Transaction_Age\n",
              "0         1680 2020-09-28 03:03:24  ...  Mecklenburg-Vorpommern             50.0\n",
              "1         1680 2020-06-12 13:51:47  ...  Mecklenburg-Vorpommern             50.0\n",
              "\n",
              "[2 rows x 30 columns]"
            ]
          },
          "metadata": {
            "tags": []
          },
          "execution_count": 5
        }
      ]
    },
    {
      "cell_type": "code",
      "metadata": {
        "colab": {
          "base_uri": "https://localhost:8080/",
          "height": 545
        },
        "id": "8TVutRshOKJh",
        "outputId": "36ebcc66-64e6-4fc2-8dd5-ccf731a6fcd0"
      },
      "source": [
        "df.groupby('State')['Customer_Id'].nunique().reset_index()"
      ],
      "execution_count": null,
      "outputs": [
        {
          "output_type": "execute_result",
          "data": {
            "text/html": [
              "<div>\n",
              "<style scoped>\n",
              "    .dataframe tbody tr th:only-of-type {\n",
              "        vertical-align: middle;\n",
              "    }\n",
              "\n",
              "    .dataframe tbody tr th {\n",
              "        vertical-align: top;\n",
              "    }\n",
              "\n",
              "    .dataframe thead th {\n",
              "        text-align: right;\n",
              "    }\n",
              "</style>\n",
              "<table border=\"1\" class=\"dataframe\">\n",
              "  <thead>\n",
              "    <tr style=\"text-align: right;\">\n",
              "      <th></th>\n",
              "      <th>State</th>\n",
              "      <th>Customer_Id</th>\n",
              "    </tr>\n",
              "  </thead>\n",
              "  <tbody>\n",
              "    <tr>\n",
              "      <th>0</th>\n",
              "      <td>Baden-Württemberg</td>\n",
              "      <td>169</td>\n",
              "    </tr>\n",
              "    <tr>\n",
              "      <th>1</th>\n",
              "      <td>Bayern</td>\n",
              "      <td>500</td>\n",
              "    </tr>\n",
              "    <tr>\n",
              "      <th>2</th>\n",
              "      <td>Berlin</td>\n",
              "      <td>6</td>\n",
              "    </tr>\n",
              "    <tr>\n",
              "      <th>3</th>\n",
              "      <td>Brandenburg</td>\n",
              "      <td>186</td>\n",
              "    </tr>\n",
              "    <tr>\n",
              "      <th>4</th>\n",
              "      <td>Bremen</td>\n",
              "      <td>3</td>\n",
              "    </tr>\n",
              "    <tr>\n",
              "      <th>5</th>\n",
              "      <td>Hamburg</td>\n",
              "      <td>4</td>\n",
              "    </tr>\n",
              "    <tr>\n",
              "      <th>6</th>\n",
              "      <td>Hessen</td>\n",
              "      <td>87</td>\n",
              "    </tr>\n",
              "    <tr>\n",
              "      <th>7</th>\n",
              "      <td>Mecklenburg-Vorpommern</td>\n",
              "      <td>169</td>\n",
              "    </tr>\n",
              "    <tr>\n",
              "      <th>8</th>\n",
              "      <td>Niedersachsen</td>\n",
              "      <td>196</td>\n",
              "    </tr>\n",
              "    <tr>\n",
              "      <th>9</th>\n",
              "      <td>Nordrhein-Westfalen</td>\n",
              "      <td>198</td>\n",
              "    </tr>\n",
              "    <tr>\n",
              "      <th>10</th>\n",
              "      <td>Rheinland-Pfalz</td>\n",
              "      <td>86</td>\n",
              "    </tr>\n",
              "    <tr>\n",
              "      <th>11</th>\n",
              "      <td>Saarland</td>\n",
              "      <td>8</td>\n",
              "    </tr>\n",
              "    <tr>\n",
              "      <th>12</th>\n",
              "      <td>Sachsen</td>\n",
              "      <td>194</td>\n",
              "    </tr>\n",
              "    <tr>\n",
              "      <th>13</th>\n",
              "      <td>Sachsen-Anhalt</td>\n",
              "      <td>205</td>\n",
              "    </tr>\n",
              "    <tr>\n",
              "      <th>14</th>\n",
              "      <td>Schleswig-Holstein</td>\n",
              "      <td>30</td>\n",
              "    </tr>\n",
              "    <tr>\n",
              "      <th>15</th>\n",
              "      <td>Thüringen</td>\n",
              "      <td>199</td>\n",
              "    </tr>\n",
              "  </tbody>\n",
              "</table>\n",
              "</div>"
            ],
            "text/plain": [
              "                     State  Customer_Id\n",
              "0        Baden-Württemberg          169\n",
              "1                   Bayern          500\n",
              "2                   Berlin            6\n",
              "3              Brandenburg          186\n",
              "4                   Bremen            3\n",
              "5                  Hamburg            4\n",
              "6                   Hessen           87\n",
              "7   Mecklenburg-Vorpommern          169\n",
              "8            Niedersachsen          196\n",
              "9      Nordrhein-Westfalen          198\n",
              "10         Rheinland-Pfalz           86\n",
              "11                Saarland            8\n",
              "12                 Sachsen          194\n",
              "13          Sachsen-Anhalt          205\n",
              "14      Schleswig-Holstein           30\n",
              "15               Thüringen          199"
            ]
          },
          "metadata": {
            "tags": []
          },
          "execution_count": 6
        }
      ]
    },
    {
      "cell_type": "code",
      "metadata": {
        "colab": {
          "base_uri": "https://localhost:8080/",
          "height": 317
        },
        "id": "nLAJ_sI-O-fw",
        "outputId": "63ca57ad-d420-4b6b-db4e-274adaa2a8c7"
      },
      "source": [
        "df.describe()"
      ],
      "execution_count": null,
      "outputs": [
        {
          "output_type": "execute_result",
          "data": {
            "text/html": [
              "<div>\n",
              "<style scoped>\n",
              "    .dataframe tbody tr th:only-of-type {\n",
              "        vertical-align: middle;\n",
              "    }\n",
              "\n",
              "    .dataframe tbody tr th {\n",
              "        vertical-align: top;\n",
              "    }\n",
              "\n",
              "    .dataframe thead th {\n",
              "        text-align: right;\n",
              "    }\n",
              "</style>\n",
              "<table border=\"1\" class=\"dataframe\">\n",
              "  <thead>\n",
              "    <tr style=\"text-align: right;\">\n",
              "      <th></th>\n",
              "      <th>Customer_Id</th>\n",
              "      <th>Item_Id</th>\n",
              "      <th>Quantity_Purchased</th>\n",
              "      <th>Sales_Person_Id</th>\n",
              "      <th>Showroom_Id</th>\n",
              "      <th>Customer_Ratings</th>\n",
              "      <th>Transaction_Hour</th>\n",
              "      <th>Item_Price</th>\n",
              "      <th>Amount_Spent</th>\n",
              "      <th>Recency</th>\n",
              "      <th>Current_Age</th>\n",
              "      <th>Transaction_Age</th>\n",
              "    </tr>\n",
              "  </thead>\n",
              "  <tbody>\n",
              "    <tr>\n",
              "      <th>count</th>\n",
              "      <td>954012.000000</td>\n",
              "      <td>954012.000000</td>\n",
              "      <td>954012.000000</td>\n",
              "      <td>954012.000000</td>\n",
              "      <td>954012.000000</td>\n",
              "      <td>954012.000000</td>\n",
              "      <td>954012.000000</td>\n",
              "      <td>954012.000000</td>\n",
              "      <td>954012.000000</td>\n",
              "      <td>954012.000000</td>\n",
              "      <td>954012.000000</td>\n",
              "      <td>954012.000000</td>\n",
              "    </tr>\n",
              "    <tr>\n",
              "      <th>mean</th>\n",
              "      <td>1119.715599</td>\n",
              "      <td>3010.994573</td>\n",
              "      <td>5.501564</td>\n",
              "      <td>44.999375</td>\n",
              "      <td>4.511045</td>\n",
              "      <td>3.000055</td>\n",
              "      <td>11.500179</td>\n",
              "      <td>120.508049</td>\n",
              "      <td>662.594129</td>\n",
              "      <td>49.119502</td>\n",
              "      <td>50.707011</td>\n",
              "      <td>50.686351</td>\n",
              "    </tr>\n",
              "    <tr>\n",
              "      <th>std</th>\n",
              "      <td>646.829869</td>\n",
              "      <td>6.054429</td>\n",
              "      <td>2.873100</td>\n",
              "      <td>26.276440</td>\n",
              "      <td>6.971498</td>\n",
              "      <td>1.581199</td>\n",
              "      <td>6.921197</td>\n",
              "      <td>77.148732</td>\n",
              "      <td>590.206053</td>\n",
              "      <td>28.964527</td>\n",
              "      <td>25.577237</td>\n",
              "      <td>25.908230</td>\n",
              "    </tr>\n",
              "    <tr>\n",
              "      <th>min</th>\n",
              "      <td>0.000000</td>\n",
              "      <td>3001.000000</td>\n",
              "      <td>1.000000</td>\n",
              "      <td>0.000000</td>\n",
              "      <td>-1.000000</td>\n",
              "      <td>1.000000</td>\n",
              "      <td>0.000000</td>\n",
              "      <td>15.000000</td>\n",
              "      <td>15.000000</td>\n",
              "      <td>0.000000</td>\n",
              "      <td>2.000000</td>\n",
              "      <td>2.000000</td>\n",
              "    </tr>\n",
              "    <tr>\n",
              "      <th>25%</th>\n",
              "      <td>559.000000</td>\n",
              "      <td>3006.000000</td>\n",
              "      <td>3.000000</td>\n",
              "      <td>22.000000</td>\n",
              "      <td>-1.000000</td>\n",
              "      <td>1.000000</td>\n",
              "      <td>6.000000</td>\n",
              "      <td>70.000000</td>\n",
              "      <td>220.000000</td>\n",
              "      <td>24.000000</td>\n",
              "      <td>31.000000</td>\n",
              "      <td>31.000000</td>\n",
              "    </tr>\n",
              "    <tr>\n",
              "      <th>50%</th>\n",
              "      <td>1120.000000</td>\n",
              "      <td>3011.000000</td>\n",
              "      <td>6.000000</td>\n",
              "      <td>45.000000</td>\n",
              "      <td>0.000000</td>\n",
              "      <td>4.000000</td>\n",
              "      <td>12.000000</td>\n",
              "      <td>100.000000</td>\n",
              "      <td>495.000000</td>\n",
              "      <td>49.000000</td>\n",
              "      <td>50.000000</td>\n",
              "      <td>50.000000</td>\n",
              "    </tr>\n",
              "    <tr>\n",
              "      <th>75%</th>\n",
              "      <td>1680.000000</td>\n",
              "      <td>3016.000000</td>\n",
              "      <td>8.000000</td>\n",
              "      <td>68.000000</td>\n",
              "      <td>10.000000</td>\n",
              "      <td>5.000000</td>\n",
              "      <td>17.000000</td>\n",
              "      <td>150.000000</td>\n",
              "      <td>900.000000</td>\n",
              "      <td>74.000000</td>\n",
              "      <td>70.000000</td>\n",
              "      <td>71.000000</td>\n",
              "    </tr>\n",
              "    <tr>\n",
              "      <th>max</th>\n",
              "      <td>2239.000000</td>\n",
              "      <td>3021.000000</td>\n",
              "      <td>10.000000</td>\n",
              "      <td>90.000000</td>\n",
              "      <td>20.000000</td>\n",
              "      <td>5.000000</td>\n",
              "      <td>23.000000</td>\n",
              "      <td>300.000000</td>\n",
              "      <td>3000.000000</td>\n",
              "      <td>99.000000</td>\n",
              "      <td>99.000000</td>\n",
              "      <td>99.000000</td>\n",
              "    </tr>\n",
              "  </tbody>\n",
              "</table>\n",
              "</div>"
            ],
            "text/plain": [
              "         Customer_Id        Item_Id  ...    Current_Age  Transaction_Age\n",
              "count  954012.000000  954012.000000  ...  954012.000000    954012.000000\n",
              "mean     1119.715599    3010.994573  ...      50.707011        50.686351\n",
              "std       646.829869       6.054429  ...      25.577237        25.908230\n",
              "min         0.000000    3001.000000  ...       2.000000         2.000000\n",
              "25%       559.000000    3006.000000  ...      31.000000        31.000000\n",
              "50%      1120.000000    3011.000000  ...      50.000000        50.000000\n",
              "75%      1680.000000    3016.000000  ...      70.000000        71.000000\n",
              "max      2239.000000    3021.000000  ...      99.000000        99.000000\n",
              "\n",
              "[8 rows x 12 columns]"
            ]
          },
          "metadata": {
            "tags": []
          },
          "execution_count": 7
        }
      ]
    },
    {
      "cell_type": "markdown",
      "metadata": {
        "id": "zKpsnm8YS8yO"
      },
      "source": [
        "Modelling - RFM Modelling\n",
        "In order to do Customer Segmentation, the RFM modelling technique will be used. RFM is the way to understand your customer 's behaviour\n",
        "\n",
        "RFM stands for Recency - Frequency - Monetary Value with the following definitions:\n",
        "\n",
        "RECENCY (R): Time since last purchase\n",
        "FREQUENCY (F): Total number of purchases\n",
        "MONETARY VALUE (M): Total monetary value\n",
        "\n",
        "> \n",
        "Benefits of RFM Analysis\n",
        "Increased customer retention\n",
        "Increased response rate\n",
        "Increased conversion rate\n",
        "Increased revenue\n",
        "\n",
        "RFM Analysis answers the following questions:\n",
        "Who are our best customers?\n",
        "Who has the potential to be converted into more profitable customers?\n",
        "Which customers do we need to retain?\n",
        "Which group of customers is most likely to respond to our marketing campaign?\n",
        "\n",
        "Based on the values above, one could construct various segments that classify the customers to:\n",
        "\n",
        "Low value Segment\n",
        "R- Less active F - Not very frequent M - Low spend\n",
        "\n",
        "Mid value Segment\n",
        "R - Medium or inconsistent activity F - infrequent or frequent at specific times M - varied spending but overall in the mid of the scale\n",
        "\n",
        "High value Segment\n",
        "R - Very active F - Very frequent M - Great spending profile\n"
      ]
    },
    {
      "cell_type": "markdown",
      "metadata": {
        "id": "qt-VuS-aTnE6"
      },
      "source": [
        "CALCULATING OUR RECENCY SCORE"
      ]
    },
    {
      "cell_type": "code",
      "metadata": {
        "id": "tQuUKUDATg9I"
      },
      "source": [
        "# Generate new dataframe based on unique Customerid to keep track of RFM scores\n",
        "customer = pd.DataFrame(df['Customer_Id'].unique())\n",
        "customer.columns = ['Customer_Id']"
      ],
      "execution_count": null,
      "outputs": []
    },
    {
      "cell_type": "code",
      "metadata": {
        "id": "7xEEYldzT1P_"
      },
      "source": [
        "# Generate new data frame based on latest transaction date per Customer (groupby = Customerid)\n",
        "recency = df.groupby('Customer_Id').  Transaction_Date.max().reset_index()\n",
        "recency.columns = ['Customer_Id','LastPurchaseDate']\n",
        "# Set observation point as the last transaction date in the dataset\n",
        "LasttransactionDate = recency['LastPurchaseDate'].max()\n",
        "# Generate Recency in days by subtracting the Last Purchase date for each customer from the Last transaction Date\n",
        "recency['Recency'] = (LasttransactionDate - recency['LastPurchaseDate']).dt.days"
      ],
      "execution_count": null,
      "outputs": []
    },
    {
      "cell_type": "code",
      "metadata": {
        "colab": {
          "base_uri": "https://localhost:8080/",
          "height": 419
        },
        "id": "YU0ZcrbvT_vz",
        "outputId": "567895ff-766c-483c-fb22-0bd466194e81"
      },
      "source": [
        "# Consolidate to customer DataFrame\n",
        "customer = pd.merge(customer, recency[['Customer_Id','Recency']], on='Customer_Id')\n",
        "customer"
      ],
      "execution_count": null,
      "outputs": [
        {
          "output_type": "execute_result",
          "data": {
            "text/html": [
              "<div>\n",
              "<style scoped>\n",
              "    .dataframe tbody tr th:only-of-type {\n",
              "        vertical-align: middle;\n",
              "    }\n",
              "\n",
              "    .dataframe tbody tr th {\n",
              "        vertical-align: top;\n",
              "    }\n",
              "\n",
              "    .dataframe thead th {\n",
              "        text-align: right;\n",
              "    }\n",
              "</style>\n",
              "<table border=\"1\" class=\"dataframe\">\n",
              "  <thead>\n",
              "    <tr style=\"text-align: right;\">\n",
              "      <th></th>\n",
              "      <th>Customer_Id</th>\n",
              "      <th>Recency</th>\n",
              "    </tr>\n",
              "  </thead>\n",
              "  <tbody>\n",
              "    <tr>\n",
              "      <th>0</th>\n",
              "      <td>1680</td>\n",
              "      <td>8</td>\n",
              "    </tr>\n",
              "    <tr>\n",
              "      <th>1</th>\n",
              "      <td>1400</td>\n",
              "      <td>2</td>\n",
              "    </tr>\n",
              "    <tr>\n",
              "      <th>2</th>\n",
              "      <td>1681</td>\n",
              "      <td>3</td>\n",
              "    </tr>\n",
              "    <tr>\n",
              "      <th>3</th>\n",
              "      <td>1401</td>\n",
              "      <td>0</td>\n",
              "    </tr>\n",
              "    <tr>\n",
              "      <th>4</th>\n",
              "      <td>1402</td>\n",
              "      <td>1</td>\n",
              "    </tr>\n",
              "    <tr>\n",
              "      <th>...</th>\n",
              "      <td>...</td>\n",
              "      <td>...</td>\n",
              "    </tr>\n",
              "    <tr>\n",
              "      <th>2235</th>\n",
              "      <td>485</td>\n",
              "      <td>0</td>\n",
              "    </tr>\n",
              "    <tr>\n",
              "      <th>2236</th>\n",
              "      <td>486</td>\n",
              "      <td>0</td>\n",
              "    </tr>\n",
              "    <tr>\n",
              "      <th>2237</th>\n",
              "      <td>487</td>\n",
              "      <td>0</td>\n",
              "    </tr>\n",
              "    <tr>\n",
              "      <th>2238</th>\n",
              "      <td>488</td>\n",
              "      <td>2</td>\n",
              "    </tr>\n",
              "    <tr>\n",
              "      <th>2239</th>\n",
              "      <td>489</td>\n",
              "      <td>3</td>\n",
              "    </tr>\n",
              "  </tbody>\n",
              "</table>\n",
              "<p>2240 rows × 2 columns</p>\n",
              "</div>"
            ],
            "text/plain": [
              "      Customer_Id  Recency\n",
              "0            1680        8\n",
              "1            1400        2\n",
              "2            1681        3\n",
              "3            1401        0\n",
              "4            1402        1\n",
              "...           ...      ...\n",
              "2235          485        0\n",
              "2236          486        0\n",
              "2237          487        0\n",
              "2238          488        2\n",
              "2239          489        3\n",
              "\n",
              "[2240 rows x 2 columns]"
            ]
          },
          "metadata": {
            "tags": []
          },
          "execution_count": 10
        }
      ]
    },
    {
      "cell_type": "code",
      "metadata": {
        "colab": {
          "base_uri": "https://localhost:8080/",
          "height": 297
        },
        "id": "1_8TY3ewU1ak",
        "outputId": "8997aa58-14db-49cc-cfa4-dceece678468"
      },
      "source": [
        "customer.describe()"
      ],
      "execution_count": null,
      "outputs": [
        {
          "output_type": "execute_result",
          "data": {
            "text/html": [
              "<div>\n",
              "<style scoped>\n",
              "    .dataframe tbody tr th:only-of-type {\n",
              "        vertical-align: middle;\n",
              "    }\n",
              "\n",
              "    .dataframe tbody tr th {\n",
              "        vertical-align: top;\n",
              "    }\n",
              "\n",
              "    .dataframe thead th {\n",
              "        text-align: right;\n",
              "    }\n",
              "</style>\n",
              "<table border=\"1\" class=\"dataframe\">\n",
              "  <thead>\n",
              "    <tr style=\"text-align: right;\">\n",
              "      <th></th>\n",
              "      <th>Customer_Id</th>\n",
              "      <th>Recency</th>\n",
              "    </tr>\n",
              "  </thead>\n",
              "  <tbody>\n",
              "    <tr>\n",
              "      <th>count</th>\n",
              "      <td>2240.000000</td>\n",
              "      <td>2240.000000</td>\n",
              "    </tr>\n",
              "    <tr>\n",
              "      <th>mean</th>\n",
              "      <td>1119.500000</td>\n",
              "      <td>2.083929</td>\n",
              "    </tr>\n",
              "    <tr>\n",
              "      <th>std</th>\n",
              "      <td>646.776623</td>\n",
              "      <td>2.517489</td>\n",
              "    </tr>\n",
              "    <tr>\n",
              "      <th>min</th>\n",
              "      <td>0.000000</td>\n",
              "      <td>0.000000</td>\n",
              "    </tr>\n",
              "    <tr>\n",
              "      <th>25%</th>\n",
              "      <td>559.750000</td>\n",
              "      <td>0.000000</td>\n",
              "    </tr>\n",
              "    <tr>\n",
              "      <th>50%</th>\n",
              "      <td>1119.500000</td>\n",
              "      <td>1.000000</td>\n",
              "    </tr>\n",
              "    <tr>\n",
              "      <th>75%</th>\n",
              "      <td>1679.250000</td>\n",
              "      <td>3.000000</td>\n",
              "    </tr>\n",
              "    <tr>\n",
              "      <th>max</th>\n",
              "      <td>2239.000000</td>\n",
              "      <td>19.000000</td>\n",
              "    </tr>\n",
              "  </tbody>\n",
              "</table>\n",
              "</div>"
            ],
            "text/plain": [
              "       Customer_Id      Recency\n",
              "count  2240.000000  2240.000000\n",
              "mean   1119.500000     2.083929\n",
              "std     646.776623     2.517489\n",
              "min       0.000000     0.000000\n",
              "25%     559.750000     0.000000\n",
              "50%    1119.500000     1.000000\n",
              "75%    1679.250000     3.000000\n",
              "max    2239.000000    19.000000"
            ]
          },
          "metadata": {
            "tags": []
          },
          "execution_count": 11
        }
      ]
    },
    {
      "cell_type": "code",
      "metadata": {
        "id": "Yaxm1QTuUDOl"
      },
      "source": [
        "#code testing my recency and frequency\n",
        "#(Timestamp('2018-01-01 00:02:24'), Timestamp('2020-12-30 23:55:48'))\n",
        "#trend=df[df.Customer_Id == 1402]\n",
        "#trend\n",
        "#df['Transaction_Date'].min(),df['Transaction_Date'].max()"
      ],
      "execution_count": null,
      "outputs": []
    },
    {
      "cell_type": "code",
      "metadata": {
        "colab": {
          "base_uri": "https://localhost:8080/",
          "height": 301
        },
        "id": "pC8Oc0reUIuy",
        "outputId": "3935d6f6-b8bc-4b0a-ba5f-294ea30e0563"
      },
      "source": [
        "# Plot Recency\n",
        "customer.Recency.plot.hist();\n",
        "plt.xlabel(\"Recency in days\")\n",
        "plt.ylabel(\"Number of Customers\")\n",
        "plt.title(\"Recency Histogram\");"
      ],
      "execution_count": null,
      "outputs": [
        {
          "output_type": "display_data",
          "data": {
            "image/png": "[encoded data removed]",
            "text/plain": [
              "<Figure size 432x288 with 1 Axes>"
            ]
          },
          "metadata": {
            "tags": [],
            "needs_background": "light"
          }
        }
      ]
    },
    {
      "cell_type": "markdown",
      "metadata": {
        "id": "dXDGWHZGUh_U"
      },
      "source": [
        "FREQUENCY SCORE"
      ]
    },
    {
      "cell_type": "code",
      "metadata": {
        "colab": {
          "base_uri": "https://localhost:8080/",
          "height": 204
        },
        "id": "ZcmBm7stUe_r",
        "outputId": "bc0cb99e-a086-443a-b33b-f0f969fc5edb"
      },
      "source": [
        "# Count number of transaction per Customerid \n",
        "frequency = df.groupby('Customer_Id').Transaction_Date.count().reset_index()\n",
        "frequency.columns = ['Customer_Id','Frequency']\n",
        "\n",
        "# Consolidate Frequency to existing Customer DataFrame\n",
        "customer = pd.merge(customer, frequency, on='Customer_Id')\n",
        "customer.head()"
      ],
      "execution_count": null,
      "outputs": [
        {
          "output_type": "execute_result",
          "data": {
            "text/html": [
              "<div>\n",
              "<style scoped>\n",
              "    .dataframe tbody tr th:only-of-type {\n",
              "        vertical-align: middle;\n",
              "    }\n",
              "\n",
              "    .dataframe tbody tr th {\n",
              "        vertical-align: top;\n",
              "    }\n",
              "\n",
              "    .dataframe thead th {\n",
              "        text-align: right;\n",
              "    }\n",
              "</style>\n",
              "<table border=\"1\" class=\"dataframe\">\n",
              "  <thead>\n",
              "    <tr style=\"text-align: right;\">\n",
              "      <th></th>\n",
              "      <th>Customer_Id</th>\n",
              "      <th>Recency</th>\n",
              "      <th>Frequency</th>\n",
              "    </tr>\n",
              "  </thead>\n",
              "  <tbody>\n",
              "    <tr>\n",
              "      <th>0</th>\n",
              "      <td>1680</td>\n",
              "      <td>8</td>\n",
              "      <td>446</td>\n",
              "    </tr>\n",
              "    <tr>\n",
              "      <th>1</th>\n",
              "      <td>1400</td>\n",
              "      <td>2</td>\n",
              "      <td>438</td>\n",
              "    </tr>\n",
              "    <tr>\n",
              "      <th>2</th>\n",
              "      <td>1681</td>\n",
              "      <td>3</td>\n",
              "      <td>469</td>\n",
              "    </tr>\n",
              "    <tr>\n",
              "      <th>3</th>\n",
              "      <td>1401</td>\n",
              "      <td>0</td>\n",
              "      <td>413</td>\n",
              "    </tr>\n",
              "    <tr>\n",
              "      <th>4</th>\n",
              "      <td>1402</td>\n",
              "      <td>1</td>\n",
              "      <td>410</td>\n",
              "    </tr>\n",
              "  </tbody>\n",
              "</table>\n",
              "</div>"
            ],
            "text/plain": [
              "   Customer_Id  Recency  Frequency\n",
              "0         1680        8        446\n",
              "1         1400        2        438\n",
              "2         1681        3        469\n",
              "3         1401        0        413\n",
              "4         1402        1        410"
            ]
          },
          "metadata": {
            "tags": []
          },
          "execution_count": 14
        }
      ]
    },
    {
      "cell_type": "code",
      "metadata": {
        "colab": {
          "base_uri": "https://localhost:8080/",
          "height": 297
        },
        "id": "K8GsC2-LUMZB",
        "outputId": "8432a887-509b-4bfd-f535-14afc5db3625"
      },
      "source": [
        "#Review statistics \n",
        "customer.describe()"
      ],
      "execution_count": null,
      "outputs": [
        {
          "output_type": "execute_result",
          "data": {
            "text/html": [
              "<div>\n",
              "<style scoped>\n",
              "    .dataframe tbody tr th:only-of-type {\n",
              "        vertical-align: middle;\n",
              "    }\n",
              "\n",
              "    .dataframe tbody tr th {\n",
              "        vertical-align: top;\n",
              "    }\n",
              "\n",
              "    .dataframe thead th {\n",
              "        text-align: right;\n",
              "    }\n",
              "</style>\n",
              "<table border=\"1\" class=\"dataframe\">\n",
              "  <thead>\n",
              "    <tr style=\"text-align: right;\">\n",
              "      <th></th>\n",
              "      <th>Customer_Id</th>\n",
              "      <th>Recency</th>\n",
              "      <th>Frequency</th>\n",
              "    </tr>\n",
              "  </thead>\n",
              "  <tbody>\n",
              "    <tr>\n",
              "      <th>count</th>\n",
              "      <td>2240.000000</td>\n",
              "      <td>2240.000000</td>\n",
              "      <td>2240.000000</td>\n",
              "    </tr>\n",
              "    <tr>\n",
              "      <th>mean</th>\n",
              "      <td>1119.500000</td>\n",
              "      <td>2.083929</td>\n",
              "      <td>425.898214</td>\n",
              "    </tr>\n",
              "    <tr>\n",
              "      <th>std</th>\n",
              "      <td>646.776623</td>\n",
              "      <td>2.517489</td>\n",
              "      <td>19.922660</td>\n",
              "    </tr>\n",
              "    <tr>\n",
              "      <th>min</th>\n",
              "      <td>0.000000</td>\n",
              "      <td>0.000000</td>\n",
              "      <td>366.000000</td>\n",
              "    </tr>\n",
              "    <tr>\n",
              "      <th>25%</th>\n",
              "      <td>559.750000</td>\n",
              "      <td>0.000000</td>\n",
              "      <td>412.750000</td>\n",
              "    </tr>\n",
              "    <tr>\n",
              "      <th>50%</th>\n",
              "      <td>1119.500000</td>\n",
              "      <td>1.000000</td>\n",
              "      <td>426.000000</td>\n",
              "    </tr>\n",
              "    <tr>\n",
              "      <th>75%</th>\n",
              "      <td>1679.250000</td>\n",
              "      <td>3.000000</td>\n",
              "      <td>439.000000</td>\n",
              "    </tr>\n",
              "    <tr>\n",
              "      <th>max</th>\n",
              "      <td>2239.000000</td>\n",
              "      <td>19.000000</td>\n",
              "      <td>491.000000</td>\n",
              "    </tr>\n",
              "  </tbody>\n",
              "</table>\n",
              "</div>"
            ],
            "text/plain": [
              "       Customer_Id      Recency    Frequency\n",
              "count  2240.000000  2240.000000  2240.000000\n",
              "mean   1119.500000     2.083929   425.898214\n",
              "std     646.776623     2.517489    19.922660\n",
              "min       0.000000     0.000000   366.000000\n",
              "25%     559.750000     0.000000   412.750000\n",
              "50%    1119.500000     1.000000   426.000000\n",
              "75%    1679.250000     3.000000   439.000000\n",
              "max    2239.000000    19.000000   491.000000"
            ]
          },
          "metadata": {
            "tags": []
          },
          "execution_count": 15
        }
      ]
    },
    {
      "cell_type": "code",
      "metadata": {
        "colab": {
          "base_uri": "https://localhost:8080/",
          "height": 301
        },
        "id": "BKgjDOIlVC6a",
        "outputId": "7d349be0-74a8-47c9-8ac4-54bbabfcb142"
      },
      "source": [
        "# Plot Frequency\n",
        "# In order to plot effectively and not have a skewed diagram, we've sorted the frequencies\n",
        "customer.Frequency.sort_values().head(2240).plot.hist();\n",
        "plt.xlabel(\"Frequency in days\")\n",
        "plt.ylabel(\"Number of Customers\")\n",
        "plt.title(\"Frequency\");"
      ],
      "execution_count": null,
      "outputs": [
        {
          "output_type": "display_data",
          "data": {
            "image/png": "[encoded data removed]",
            "text/plain": [
              "<Figure size 432x288 with 1 Axes>"
            ]
          },
          "metadata": {
            "tags": [],
            "needs_background": "light"
          }
        }
      ]
    },
    {
      "cell_type": "markdown",
      "metadata": {
        "id": "rkh166YhVZi1"
      },
      "source": [
        "# Monetary Value Score (Revenue)"
      ]
    },
    {
      "cell_type": "code",
      "metadata": {
        "colab": {
          "base_uri": "https://localhost:8080/",
          "height": 204
        },
        "id": "h3T1KBcIVIST",
        "outputId": "1a957f72-3f27-4e95-af92-b769a1427069"
      },
      "source": [
        "# Grouping revenue per Customer ID\n",
        "revenue = df.groupby('Customer_Id').Amount_Spent.sum().reset_index().rename(columns = {'Amount_Spent': 'Monetary'}, inplace = False)\n",
        "\n",
        "# Consolidate Revenue to existing Customer DataFrame\n",
        "customer = pd.merge(customer, revenue, on='Customer_Id')\n",
        "customer.head()"
      ],
      "execution_count": null,
      "outputs": [
        {
          "output_type": "execute_result",
          "data": {
            "text/html": [
              "<div>\n",
              "<style scoped>\n",
              "    .dataframe tbody tr th:only-of-type {\n",
              "        vertical-align: middle;\n",
              "    }\n",
              "\n",
              "    .dataframe tbody tr th {\n",
              "        vertical-align: top;\n",
              "    }\n",
              "\n",
              "    .dataframe thead th {\n",
              "        text-align: right;\n",
              "    }\n",
              "</style>\n",
              "<table border=\"1\" class=\"dataframe\">\n",
              "  <thead>\n",
              "    <tr style=\"text-align: right;\">\n",
              "      <th></th>\n",
              "      <th>Customer_Id</th>\n",
              "      <th>Recency</th>\n",
              "      <th>Frequency</th>\n",
              "      <th>Monetary</th>\n",
              "    </tr>\n",
              "  </thead>\n",
              "  <tbody>\n",
              "    <tr>\n",
              "      <th>0</th>\n",
              "      <td>1680</td>\n",
              "      <td>8</td>\n",
              "      <td>446</td>\n",
              "      <td>286070</td>\n",
              "    </tr>\n",
              "    <tr>\n",
              "      <th>1</th>\n",
              "      <td>1400</td>\n",
              "      <td>2</td>\n",
              "      <td>438</td>\n",
              "      <td>292155</td>\n",
              "    </tr>\n",
              "    <tr>\n",
              "      <th>2</th>\n",
              "      <td>1681</td>\n",
              "      <td>3</td>\n",
              "      <td>469</td>\n",
              "      <td>332985</td>\n",
              "    </tr>\n",
              "    <tr>\n",
              "      <th>3</th>\n",
              "      <td>1401</td>\n",
              "      <td>0</td>\n",
              "      <td>413</td>\n",
              "      <td>297260</td>\n",
              "    </tr>\n",
              "    <tr>\n",
              "      <th>4</th>\n",
              "      <td>1402</td>\n",
              "      <td>1</td>\n",
              "      <td>410</td>\n",
              "      <td>278135</td>\n",
              "    </tr>\n",
              "  </tbody>\n",
              "</table>\n",
              "</div>"
            ],
            "text/plain": [
              "   Customer_Id  Recency  Frequency  Monetary\n",
              "0         1680        8        446    286070\n",
              "1         1400        2        438    292155\n",
              "2         1681        3        469    332985\n",
              "3         1401        0        413    297260\n",
              "4         1402        1        410    278135"
            ]
          },
          "metadata": {
            "tags": []
          },
          "execution_count": 17
        }
      ]
    },
    {
      "cell_type": "code",
      "metadata": {
        "colab": {
          "base_uri": "https://localhost:8080/",
          "height": 297
        },
        "id": "4ioMWB3IVkFj",
        "outputId": "3c3db9cf-45a0-4e5c-a4be-4bcb366bd2e1"
      },
      "source": [
        "customer.describe()"
      ],
      "execution_count": null,
      "outputs": [
        {
          "output_type": "execute_result",
          "data": {
            "text/html": [
              "<div>\n",
              "<style scoped>\n",
              "    .dataframe tbody tr th:only-of-type {\n",
              "        vertical-align: middle;\n",
              "    }\n",
              "\n",
              "    .dataframe tbody tr th {\n",
              "        vertical-align: top;\n",
              "    }\n",
              "\n",
              "    .dataframe thead th {\n",
              "        text-align: right;\n",
              "    }\n",
              "</style>\n",
              "<table border=\"1\" class=\"dataframe\">\n",
              "  <thead>\n",
              "    <tr style=\"text-align: right;\">\n",
              "      <th></th>\n",
              "      <th>Customer_Id</th>\n",
              "      <th>Recency</th>\n",
              "      <th>Frequency</th>\n",
              "      <th>Monetary</th>\n",
              "    </tr>\n",
              "  </thead>\n",
              "  <tbody>\n",
              "    <tr>\n",
              "      <th>count</th>\n",
              "      <td>2240.000000</td>\n",
              "      <td>2240.000000</td>\n",
              "      <td>2240.000000</td>\n",
              "      <td>2240.000000</td>\n",
              "    </tr>\n",
              "    <tr>\n",
              "      <th>mean</th>\n",
              "      <td>1119.500000</td>\n",
              "      <td>2.083929</td>\n",
              "      <td>425.898214</td>\n",
              "      <td>282197.656250</td>\n",
              "    </tr>\n",
              "    <tr>\n",
              "      <th>std</th>\n",
              "      <td>646.776623</td>\n",
              "      <td>2.517489</td>\n",
              "      <td>19.922660</td>\n",
              "      <td>18313.471125</td>\n",
              "    </tr>\n",
              "    <tr>\n",
              "      <th>min</th>\n",
              "      <td>0.000000</td>\n",
              "      <td>0.000000</td>\n",
              "      <td>366.000000</td>\n",
              "      <td>226805.000000</td>\n",
              "    </tr>\n",
              "    <tr>\n",
              "      <th>25%</th>\n",
              "      <td>559.750000</td>\n",
              "      <td>0.000000</td>\n",
              "      <td>412.750000</td>\n",
              "      <td>269646.250000</td>\n",
              "    </tr>\n",
              "    <tr>\n",
              "      <th>50%</th>\n",
              "      <td>1119.500000</td>\n",
              "      <td>1.000000</td>\n",
              "      <td>426.000000</td>\n",
              "      <td>281530.000000</td>\n",
              "    </tr>\n",
              "    <tr>\n",
              "      <th>75%</th>\n",
              "      <td>1679.250000</td>\n",
              "      <td>3.000000</td>\n",
              "      <td>439.000000</td>\n",
              "      <td>294323.750000</td>\n",
              "    </tr>\n",
              "    <tr>\n",
              "      <th>max</th>\n",
              "      <td>2239.000000</td>\n",
              "      <td>19.000000</td>\n",
              "      <td>491.000000</td>\n",
              "      <td>349085.000000</td>\n",
              "    </tr>\n",
              "  </tbody>\n",
              "</table>\n",
              "</div>"
            ],
            "text/plain": [
              "       Customer_Id      Recency    Frequency       Monetary\n",
              "count  2240.000000  2240.000000  2240.000000    2240.000000\n",
              "mean   1119.500000     2.083929   425.898214  282197.656250\n",
              "std     646.776623     2.517489    19.922660   18313.471125\n",
              "min       0.000000     0.000000   366.000000  226805.000000\n",
              "25%     559.750000     0.000000   412.750000  269646.250000\n",
              "50%    1119.500000     1.000000   426.000000  281530.000000\n",
              "75%    1679.250000     3.000000   439.000000  294323.750000\n",
              "max    2239.000000    19.000000   491.000000  349085.000000"
            ]
          },
          "metadata": {
            "tags": []
          },
          "execution_count": 18
        }
      ]
    },
    {
      "cell_type": "code",
      "metadata": {
        "colab": {
          "base_uri": "https://localhost:8080/",
          "height": 301
        },
        "id": "5d97-eNzVpbY",
        "outputId": "b650c399-4f95-4b56-a9ce-3bdc08ef6eb1"
      },
      "source": [
        "# Plot Revenue\n",
        "customer.Monetary.sort_values().head(2240).plot.hist();\n",
        "plt.xlabel(\"Revenue bracket\")\n",
        "plt.ylabel(\"Number of Customers\")\n",
        "plt.title(\"Revenue Generated\");"
      ],
      "execution_count": null,
      "outputs": [
        {
          "output_type": "display_data",
          "data": {
            "image/png": "[encoded data removed]",
            "text/plain": [
              "<Figure size 432x288 with 1 Axes>"
            ]
          },
          "metadata": {
            "tags": [],
            "needs_background": "light"
          }
        }
      ]
    },
    {
      "cell_type": "code",
      "metadata": {
        "colab": {
          "base_uri": "https://localhost:8080/",
          "height": 877
        },
        "id": "iZFhlIXFVv8I",
        "outputId": "02f9e61f-1944-4835-afd9-2fc42de93460"
      },
      "source": [
        "# scatter plots between the different scores\n",
        "fig, (xa1, xb2, xc3) = plt.subplots(3)\n",
        "fig.suptitle('Scatter plots between RFM scores')\n",
        "customer.plot.scatter(x = 'Recency', y = 'Frequency', ax = xa1, figsize = (15,12));\n",
        "customer.plot.scatter(x = 'Recency', y = 'Monetary', ax = xb2);\n",
        "customer.plot.scatter(x = 'Frequency', y = 'Monetary', ax = xc3);"
      ],
      "execution_count": null,
      "outputs": [
        {
          "output_type": "stream",
          "text": [
            "*c* argument looks like a single numeric RGB or RGBA sequence, which should be avoided as value-mapping will have precedence in case its length matches with *x* & *y*.  Please use the *color* keyword-argument or provide a 2-D array with a single row if you intend to specify the same RGB or RGBA value for all points.\n",
            "*c* argument looks like a single numeric RGB or RGBA sequence, which should be avoided as value-mapping will have precedence in case its length matches with *x* & *y*.  Please use the *color* keyword-argument or provide a 2-D array with a single row if you intend to specify the same RGB or RGBA value for all points.\n",
            "*c* argument looks like a single numeric RGB or RGBA sequence, which should be avoided as value-mapping will have precedence in case its length matches with *x* & *y*.  Please use the *color* keyword-argument or provide a 2-D array with a single row if you intend to specify the same RGB or RGBA value for all points.\n"
          ],
          "name": "stderr"
        },
        {
          "output_type": "display_data",
          "data": {
            "image/png": "[encoded data removed]",
            "text/plain": [
              "<Figure size 1080x864 with 3 Axes>"
            ]
          },
          "metadata": {
            "tags": [],
            "needs_background": "light"
          }
        }
      ]
    },
    {
      "cell_type": "markdown",
      "metadata": {
        "id": "kIb77PXPWE7c"
      },
      "source": [
        "Creating the RFM Segmentation Table"
      ]
    },
    {
      "cell_type": "code",
      "metadata": {
        "id": "ZQsBbXb3V2Af"
      },
      "source": [
        "def recency_quarter(x):\n",
        "\n",
        "    recency_quantile = customer[\"Recency\"].quantile([0.25, 0.50, 0.75]).values \n",
        "    if x <= recency_quantile[0]:\n",
        "        return 1\n",
        "    elif x <= recency_quantile[1]:\n",
        "        return 2\n",
        "    elif x <= recency_quantile[2]:\n",
        "        return 3\n",
        "    else:\n",
        "        return 4"
      ],
      "execution_count": null,
      "outputs": []
    },
    {
      "cell_type": "code",
      "metadata": {
        "id": "4GCv45ujW2el"
      },
      "source": [
        "def frequency_quarter(x):\n",
        "    \n",
        "    frequency_quantile = customer[\"Frequency\"].quantile([0.25, 0.50, 0.75]).values \n",
        "    if x <= frequency_quantile[0]:\n",
        "        return 1\n",
        "    elif x <= frequency_quantile[1]:\n",
        "        return 2\n",
        "    elif x <= frequency_quantile[2]:\n",
        "        return 3\n",
        "    else:\n",
        "        return 4"
      ],
      "execution_count": null,
      "outputs": []
    },
    {
      "cell_type": "code",
      "metadata": {
        "id": "aTznxFliW6E5"
      },
      "source": [
        "def monetary_quarter(x):\n",
        "    \n",
        "    monetary_quantile = customer[\"Monetary\"].quantile([0.25, 0.50, 0.75]).values \n",
        "    if x <= monetary_quantile[0]:\n",
        "        return 1\n",
        "    elif x <= monetary_quantile[1]:\n",
        "        return 2\n",
        "    elif x <= monetary_quantile[2]:\n",
        "        return 3\n",
        "    else:\n",
        "        return 4"
      ],
      "execution_count": null,
      "outputs": []
    },
    {
      "cell_type": "code",
      "metadata": {
        "colab": {
          "base_uri": "https://localhost:8080/",
          "height": 204
        },
        "id": "2Ilrg-4CW_ww",
        "outputId": "27700dd1-2490-4cc6-df76-ad30af763497"
      },
      "source": [
        "#Scoring customers from 1 - 4 with functions\n",
        "customer[\"RecencyScore\"] = customer[\"Recency\"].apply(recency_quarter)\n",
        "customer[\"FrequencyScore\"] = customer[\"Frequency\"].apply(frequency_quarter)\n",
        "customer[\"MonetaryScore\"] = customer[\"Monetary\"].apply(monetary_quarter)\n",
        "\n",
        "customer.head()"
      ],
      "execution_count": null,
      "outputs": [
        {
          "output_type": "execute_result",
          "data": {
            "text/html": [
              "<div>\n",
              "<style scoped>\n",
              "    .dataframe tbody tr th:only-of-type {\n",
              "        vertical-align: middle;\n",
              "    }\n",
              "\n",
              "    .dataframe tbody tr th {\n",
              "        vertical-align: top;\n",
              "    }\n",
              "\n",
              "    .dataframe thead th {\n",
              "        text-align: right;\n",
              "    }\n",
              "</style>\n",
              "<table border=\"1\" class=\"dataframe\">\n",
              "  <thead>\n",
              "    <tr style=\"text-align: right;\">\n",
              "      <th></th>\n",
              "      <th>Customer_Id</th>\n",
              "      <th>Recency</th>\n",
              "      <th>Frequency</th>\n",
              "      <th>Monetary</th>\n",
              "      <th>RecencyScore</th>\n",
              "      <th>FrequencyScore</th>\n",
              "      <th>MonetaryScore</th>\n",
              "    </tr>\n",
              "  </thead>\n",
              "  <tbody>\n",
              "    <tr>\n",
              "      <th>0</th>\n",
              "      <td>1680</td>\n",
              "      <td>8</td>\n",
              "      <td>446</td>\n",
              "      <td>286070</td>\n",
              "      <td>4</td>\n",
              "      <td>4</td>\n",
              "      <td>3</td>\n",
              "    </tr>\n",
              "    <tr>\n",
              "      <th>1</th>\n",
              "      <td>1400</td>\n",
              "      <td>2</td>\n",
              "      <td>438</td>\n",
              "      <td>292155</td>\n",
              "      <td>3</td>\n",
              "      <td>3</td>\n",
              "      <td>3</td>\n",
              "    </tr>\n",
              "    <tr>\n",
              "      <th>2</th>\n",
              "      <td>1681</td>\n",
              "      <td>3</td>\n",
              "      <td>469</td>\n",
              "      <td>332985</td>\n",
              "      <td>3</td>\n",
              "      <td>4</td>\n",
              "      <td>4</td>\n",
              "    </tr>\n",
              "    <tr>\n",
              "      <th>3</th>\n",
              "      <td>1401</td>\n",
              "      <td>0</td>\n",
              "      <td>413</td>\n",
              "      <td>297260</td>\n",
              "      <td>1</td>\n",
              "      <td>2</td>\n",
              "      <td>4</td>\n",
              "    </tr>\n",
              "    <tr>\n",
              "      <th>4</th>\n",
              "      <td>1402</td>\n",
              "      <td>1</td>\n",
              "      <td>410</td>\n",
              "      <td>278135</td>\n",
              "      <td>2</td>\n",
              "      <td>1</td>\n",
              "      <td>2</td>\n",
              "    </tr>\n",
              "  </tbody>\n",
              "</table>\n",
              "</div>"
            ],
            "text/plain": [
              "   Customer_Id  Recency  Frequency  ...  RecencyScore  FrequencyScore  MonetaryScore\n",
              "0         1680        8        446  ...             4               4              3\n",
              "1         1400        2        438  ...             3               3              3\n",
              "2         1681        3        469  ...             3               4              4\n",
              "3         1401        0        413  ...             1               2              4\n",
              "4         1402        1        410  ...             2               1              2\n",
              "\n",
              "[5 rows x 7 columns]"
            ]
          },
          "metadata": {
            "tags": []
          },
          "execution_count": 24
        }
      ]
    },
    {
      "cell_type": "code",
      "metadata": {
        "colab": {
          "base_uri": "https://localhost:8080/"
        },
        "id": "EG6Vg8jCXDJg",
        "outputId": "c9bfe846-4a21-4239-86b0-09be2c42ca7b"
      },
      "source": [
        "customer[\"CombinedScore\"] = customer[\"RecencyScore\"].astype(\"str\") + customer[\"FrequencyScore\"].astype(\"str\") + customer[\"MonetaryScore\"].astype(\"str\")\n",
        "customer[\"CombinedScore\"] = customer[\"CombinedScore\"].astype(\"int\")\n",
        "print(\"Combined Score unique values:\", customer[\"CombinedScore\"].nunique())\n",
        "customer[\"CombinedScore\"].head()"
      ],
      "execution_count": null,
      "outputs": [
        {
          "output_type": "stream",
          "text": [
            "Combined Score unique values: 63\n"
          ],
          "name": "stdout"
        },
        {
          "output_type": "execute_result",
          "data": {
            "text/plain": [
              "0    443\n",
              "1    333\n",
              "2    344\n",
              "3    124\n",
              "4    212\n",
              "Name: CombinedScore, dtype: int64"
            ]
          },
          "metadata": {
            "tags": []
          },
          "execution_count": 25
        }
      ]
    },
    {
      "cell_type": "code",
      "metadata": {
        "colab": {
          "base_uri": "https://localhost:8080/"
        },
        "id": "jkNmARilXKJX",
        "outputId": "3371b353-ddcf-4c56-f086-2f1ac062123e"
      },
      "source": [
        "customer[\"CombinedScoreTotal\"] = customer[\"RecencyScore\"] + customer[\"FrequencyScore\"] + customer[\"MonetaryScore\"]\n",
        "customer[\"CombinedScoreTotal\"] = customer[\"CombinedScoreTotal\"].astype(\"int\")\n",
        "print(\"Combined Score Total unique values:\", customer[\"CombinedScoreTotal\"].nunique())\n",
        "customer[\"CombinedScoreTotal\"].head()"
      ],
      "execution_count": null,
      "outputs": [
        {
          "output_type": "stream",
          "text": [
            "Combined Score Total unique values: 10\n"
          ],
          "name": "stdout"
        },
        {
          "output_type": "execute_result",
          "data": {
            "text/plain": [
              "0    11\n",
              "1     9\n",
              "2    11\n",
              "3     7\n",
              "4     5\n",
              "Name: CombinedScoreTotal, dtype: int64"
            ]
          },
          "metadata": {
            "tags": []
          },
          "execution_count": 26
        }
      ]
    },
    {
      "cell_type": "code",
      "metadata": {
        "colab": {
          "base_uri": "https://localhost:8080/"
        },
        "id": "mHNnh2DRXQ9u",
        "outputId": "093fc653-f8d4-4658-a88d-4ce7f9e3e1ab"
      },
      "source": [
        "customer[\"CombinedScoreTotal\"].value_counts()"
      ],
      "execution_count": null,
      "outputs": [
        {
          "output_type": "execute_result",
          "data": {
            "text/plain": [
              "7     353\n",
              "9     326\n",
              "6     318\n",
              "8     309\n",
              "5     244\n",
              "10    225\n",
              "4     169\n",
              "11    132\n",
              "3     106\n",
              "12     58\n",
              "Name: CombinedScoreTotal, dtype: int64"
            ]
          },
          "metadata": {
            "tags": []
          },
          "execution_count": 27
        }
      ]
    },
    {
      "cell_type": "code",
      "metadata": {
        "colab": {
          "base_uri": "https://localhost:8080/",
          "height": 204
        },
        "id": "N40thdQ8XVg_",
        "outputId": "3e7810bc-7642-4890-fb80-a8b5a46873ef"
      },
      "source": [
        "customer.head()"
      ],
      "execution_count": null,
      "outputs": [
        {
          "output_type": "execute_result",
          "data": {
            "text/html": [
              "<div>\n",
              "<style scoped>\n",
              "    .dataframe tbody tr th:only-of-type {\n",
              "        vertical-align: middle;\n",
              "    }\n",
              "\n",
              "    .dataframe tbody tr th {\n",
              "        vertical-align: top;\n",
              "    }\n",
              "\n",
              "    .dataframe thead th {\n",
              "        text-align: right;\n",
              "    }\n",
              "</style>\n",
              "<table border=\"1\" class=\"dataframe\">\n",
              "  <thead>\n",
              "    <tr style=\"text-align: right;\">\n",
              "      <th></th>\n",
              "      <th>Customer_Id</th>\n",
              "      <th>Recency</th>\n",
              "      <th>Frequency</th>\n",
              "      <th>Monetary</th>\n",
              "      <th>RecencyScore</th>\n",
              "      <th>FrequencyScore</th>\n",
              "      <th>MonetaryScore</th>\n",
              "      <th>CombinedScore</th>\n",
              "      <th>CombinedScoreTotal</th>\n",
              "    </tr>\n",
              "  </thead>\n",
              "  <tbody>\n",
              "    <tr>\n",
              "      <th>0</th>\n",
              "      <td>1680</td>\n",
              "      <td>8</td>\n",
              "      <td>446</td>\n",
              "      <td>286070</td>\n",
              "      <td>4</td>\n",
              "      <td>4</td>\n",
              "      <td>3</td>\n",
              "      <td>443</td>\n",
              "      <td>11</td>\n",
              "    </tr>\n",
              "    <tr>\n",
              "      <th>1</th>\n",
              "      <td>1400</td>\n",
              "      <td>2</td>\n",
              "      <td>438</td>\n",
              "      <td>292155</td>\n",
              "      <td>3</td>\n",
              "      <td>3</td>\n",
              "      <td>3</td>\n",
              "      <td>333</td>\n",
              "      <td>9</td>\n",
              "    </tr>\n",
              "    <tr>\n",
              "      <th>2</th>\n",
              "      <td>1681</td>\n",
              "      <td>3</td>\n",
              "      <td>469</td>\n",
              "      <td>332985</td>\n",
              "      <td>3</td>\n",
              "      <td>4</td>\n",
              "      <td>4</td>\n",
              "      <td>344</td>\n",
              "      <td>11</td>\n",
              "    </tr>\n",
              "    <tr>\n",
              "      <th>3</th>\n",
              "      <td>1401</td>\n",
              "      <td>0</td>\n",
              "      <td>413</td>\n",
              "      <td>297260</td>\n",
              "      <td>1</td>\n",
              "      <td>2</td>\n",
              "      <td>4</td>\n",
              "      <td>124</td>\n",
              "      <td>7</td>\n",
              "    </tr>\n",
              "    <tr>\n",
              "      <th>4</th>\n",
              "      <td>1402</td>\n",
              "      <td>1</td>\n",
              "      <td>410</td>\n",
              "      <td>278135</td>\n",
              "      <td>2</td>\n",
              "      <td>1</td>\n",
              "      <td>2</td>\n",
              "      <td>212</td>\n",
              "      <td>5</td>\n",
              "    </tr>\n",
              "  </tbody>\n",
              "</table>\n",
              "</div>"
            ],
            "text/plain": [
              "   Customer_Id  Recency  ...  CombinedScore  CombinedScoreTotal\n",
              "0         1680        8  ...            443                  11\n",
              "1         1400        2  ...            333                   9\n",
              "2         1681        3  ...            344                  11\n",
              "3         1401        0  ...            124                   7\n",
              "4         1402        1  ...            212                   5\n",
              "\n",
              "[5 rows x 9 columns]"
            ]
          },
          "metadata": {
            "tags": []
          },
          "execution_count": 28
        }
      ]
    },
    {
      "cell_type": "code",
      "metadata": {
        "colab": {
          "base_uri": "https://localhost:8080/"
        },
        "id": "SY2dxx2mXgB9",
        "outputId": "7850cd1b-acd6-483a-8b5f-a4178ed46637"
      },
      "source": [
        "# Count num of unique segments\n",
        "rfm_count_unique = customer.groupby('CombinedScore')['CombinedScore'].nunique()\n",
        "print(rfm_count_unique.sum())"
      ],
      "execution_count": null,
      "outputs": [
        {
          "output_type": "stream",
          "text": [
            "63\n"
          ],
          "name": "stdout"
        }
      ]
    },
    {
      "cell_type": "code",
      "metadata": {
        "id": "vjqaVRPBXnDf"
      },
      "source": [
        "def rfm_labels(x):\n",
        "    if x <= 4:\n",
        "        return \"Risk of churn\"\n",
        "    elif x <= 6:\n",
        "        return \"Low Spenders\"\n",
        "    elif x <= 8:\n",
        "        return \"Mid Spenders\"\n",
        "    else:\n",
        "        return \"High spenders\"\n"
      ],
      "execution_count": null,
      "outputs": []
    },
    {
      "cell_type": "code",
      "metadata": {
        "id": "g5-4e6UrXutz"
      },
      "source": [
        "def rfm_labels(x):\n",
        "    if x <= 4:\n",
        "        return \"Risk of churn\"\n",
        "    elif x <= 6:\n",
        "        return \"Low Spenders\"\n",
        "    elif x <= 8:\n",
        "        return \"Mid Spenders\"\n",
        "    else:\n",
        "        return \"High spenders\"\n"
      ],
      "execution_count": null,
      "outputs": []
    },
    {
      "cell_type": "code",
      "metadata": {
        "colab": {
          "base_uri": "https://localhost:8080/",
          "height": 204
        },
        "id": "Ya8G7jjjX0Sz",
        "outputId": "e151883e-cb96-4bb2-b680-d837e0f13409"
      },
      "source": [
        "customer[\"levels\"] = customer[\"CombinedScoreTotal\"].apply(rfm_labels)\n",
        "customer.head()"
      ],
      "execution_count": null,
      "outputs": [
        {
          "output_type": "execute_result",
          "data": {
            "text/html": [
              "<div>\n",
              "<style scoped>\n",
              "    .dataframe tbody tr th:only-of-type {\n",
              "        vertical-align: middle;\n",
              "    }\n",
              "\n",
              "    .dataframe tbody tr th {\n",
              "        vertical-align: top;\n",
              "    }\n",
              "\n",
              "    .dataframe thead th {\n",
              "        text-align: right;\n",
              "    }\n",
              "</style>\n",
              "<table border=\"1\" class=\"dataframe\">\n",
              "  <thead>\n",
              "    <tr style=\"text-align: right;\">\n",
              "      <th></th>\n",
              "      <th>Customer_Id</th>\n",
              "      <th>Recency</th>\n",
              "      <th>Frequency</th>\n",
              "      <th>Monetary</th>\n",
              "      <th>RecencyScore</th>\n",
              "      <th>FrequencyScore</th>\n",
              "      <th>MonetaryScore</th>\n",
              "      <th>CombinedScore</th>\n",
              "      <th>CombinedScoreTotal</th>\n",
              "      <th>levels</th>\n",
              "    </tr>\n",
              "  </thead>\n",
              "  <tbody>\n",
              "    <tr>\n",
              "      <th>0</th>\n",
              "      <td>1680</td>\n",
              "      <td>8</td>\n",
              "      <td>446</td>\n",
              "      <td>286070</td>\n",
              "      <td>4</td>\n",
              "      <td>4</td>\n",
              "      <td>3</td>\n",
              "      <td>443</td>\n",
              "      <td>11</td>\n",
              "      <td>High spenders</td>\n",
              "    </tr>\n",
              "    <tr>\n",
              "      <th>1</th>\n",
              "      <td>1400</td>\n",
              "      <td>2</td>\n",
              "      <td>438</td>\n",
              "      <td>292155</td>\n",
              "      <td>3</td>\n",
              "      <td>3</td>\n",
              "      <td>3</td>\n",
              "      <td>333</td>\n",
              "      <td>9</td>\n",
              "      <td>High spenders</td>\n",
              "    </tr>\n",
              "    <tr>\n",
              "      <th>2</th>\n",
              "      <td>1681</td>\n",
              "      <td>3</td>\n",
              "      <td>469</td>\n",
              "      <td>332985</td>\n",
              "      <td>3</td>\n",
              "      <td>4</td>\n",
              "      <td>4</td>\n",
              "      <td>344</td>\n",
              "      <td>11</td>\n",
              "      <td>High spenders</td>\n",
              "    </tr>\n",
              "    <tr>\n",
              "      <th>3</th>\n",
              "      <td>1401</td>\n",
              "      <td>0</td>\n",
              "      <td>413</td>\n",
              "      <td>297260</td>\n",
              "      <td>1</td>\n",
              "      <td>2</td>\n",
              "      <td>4</td>\n",
              "      <td>124</td>\n",
              "      <td>7</td>\n",
              "      <td>Mid Spenders</td>\n",
              "    </tr>\n",
              "    <tr>\n",
              "      <th>4</th>\n",
              "      <td>1402</td>\n",
              "      <td>1</td>\n",
              "      <td>410</td>\n",
              "      <td>278135</td>\n",
              "      <td>2</td>\n",
              "      <td>1</td>\n",
              "      <td>2</td>\n",
              "      <td>212</td>\n",
              "      <td>5</td>\n",
              "      <td>Low Spenders</td>\n",
              "    </tr>\n",
              "  </tbody>\n",
              "</table>\n",
              "</div>"
            ],
            "text/plain": [
              "   Customer_Id  Recency  ...  CombinedScoreTotal         levels\n",
              "0         1680        8  ...                  11  High spenders\n",
              "1         1400        2  ...                   9  High spenders\n",
              "2         1681        3  ...                  11  High spenders\n",
              "3         1401        0  ...                   7   Mid Spenders\n",
              "4         1402        1  ...                   5   Low Spenders\n",
              "\n",
              "[5 rows x 10 columns]"
            ]
          },
          "metadata": {
            "tags": []
          },
          "execution_count": 32
        }
      ]
    },
    {
      "cell_type": "code",
      "metadata": {
        "colab": {
          "base_uri": "https://localhost:8080/"
        },
        "id": "CZwj-Y2EX4ry",
        "outputId": "955c0b8f-80ab-45b5-8856-20418bb6275a"
      },
      "source": [
        "customer.groupby(\"levels\")[\"CombinedScoreTotal\"].mean() # Average Combined Score of each segment"
      ],
      "execution_count": null,
      "outputs": [
        {
          "output_type": "execute_result",
          "data": {
            "text/plain": [
              "levels\n",
              "High spenders    9.894737\n",
              "Low Spenders     5.565836\n",
              "Mid Spenders     7.466767\n",
              "Risk of churn    3.614545\n",
              "Name: CombinedScoreTotal, dtype: float64"
            ]
          },
          "metadata": {
            "tags": []
          },
          "execution_count": 33
        }
      ]
    },
    {
      "cell_type": "code",
      "metadata": {
        "colab": {
          "base_uri": "https://localhost:8080/"
        },
        "id": "Q6ic11lhYAhi",
        "outputId": "37cdb82c-3cd8-40eb-abf6-972659c19015"
      },
      "source": [
        "# Calculate average values for each RFM_Level, and return a size of each segment \n",
        "rfm_level_agg = customer.groupby('levels').agg({\n",
        "    'Recency': 'mean',\n",
        "    'Frequency': 'mean',\n",
        "    'Monetary': ['mean', 'count']\n",
        "}).round(1)\n",
        "# Print the aggregated dataset\n",
        "print(rfm_level_agg)\n"
      ],
      "execution_count": null,
      "outputs": [
        {
          "output_type": "stream",
          "text": [
            "              Recency Frequency  Monetary      \n",
            "                 mean      mean      mean count\n",
            "levels                                         \n",
            "High spenders     2.9     444.0  299282.4   741\n",
            "Low Spenders      1.8     412.3  269117.7   562\n",
            "Mid Spenders      2.1     426.7  282722.2   662\n",
            "Risk of churn     0.2     402.9  261630.2   275\n"
          ],
          "name": "stdout"
        }
      ]
    },
    {
      "cell_type": "code",
      "metadata": {
        "colab": {
          "base_uri": "https://localhost:8080/",
          "height": 498
        },
        "id": "ODsphPrdYLqB",
        "outputId": "8ca2c511-018e-4f56-8fe4-39ad54e1df50"
      },
      "source": [
        "plt.figure(figsize=(10,6))\n",
        "plt.title(\"Spending habits classification\", c=\"green\", size=13)\n",
        "sns.countplot(customer[\"levels\"], palette=\"magma\");"
      ],
      "execution_count": null,
      "outputs": [
        {
          "output_type": "stream",
          "text": [
            "/usr/local/lib/python3.7/dist-packages/seaborn/_decorators.py:43: FutureWarning:\n",
            "\n",
            "Pass the following variable as a keyword arg: x. From version 0.12, the only valid positional argument will be `data`, and passing other arguments without an explicit keyword will result in an error or misinterpretation.\n",
            "\n"
          ],
          "name": "stderr"
        },
        {
          "output_type": "display_data",
          "data": {
            "image/png": "[encoded data removed]",
            "text/plain": [
              "<Figure size 720x432 with 1 Axes>"
            ]
          },
          "metadata": {
            "tags": [],
            "needs_background": "light"
          }
        }
      ]
    },
    {
      "cell_type": "code",
      "metadata": {
        "colab": {
          "base_uri": "https://localhost:8080/"
        },
        "id": "QWut6T8onoW_",
        "outputId": "9880e6dd-5e70-4c81-d833-c73d905eb46c"
      },
      "source": [
        "n_df = df.drop_duplicates('Customer_Id')\n",
        "n_df.value_counts"
      ],
      "execution_count": null,
      "outputs": [
        {
          "output_type": "execute_result",
          "data": {
            "text/plain": [
              "<bound method DataFrame.value_counts of         Customer_Id  ... Transaction_Age\n",
              "0              1680  ...            50.0\n",
              "446            1400  ...            25.0\n",
              "884            1681  ...            68.0\n",
              "1353           1401  ...             8.0\n",
              "1766           1402  ...            71.0\n",
              "...             ...  ...             ...\n",
              "951936          485  ...             4.0\n",
              "952327          486  ...            35.0\n",
              "952727          487  ...            62.0\n",
              "953130          488  ...            94.0\n",
              "953569          489  ...            32.0\n",
              "\n",
              "[2240 rows x 30 columns]>"
            ]
          },
          "metadata": {
            "tags": []
          },
          "execution_count": 36
        }
      ]
    },
    {
      "cell_type": "code",
      "metadata": {
        "id": "uHptO6R4YSMA"
      },
      "source": [
        "new_customer_DF = customer.merge(n_df[['Customer_Id', 'Transaction_Age', 'Gender', 'State', 'Quantity_Purchased', 'Item_Price','Purchased_From', 'Holiday', 'Holiday_Name','Transaction_Month']], how='right', left_on='Customer_Id', right_on='Customer_Id')"
      ],
      "execution_count": null,
      "outputs": []
    },
    {
      "cell_type": "code",
      "metadata": {
        "colab": {
          "base_uri": "https://localhost:8080/",
          "height": 165
        },
        "id": "WoHwA2LVePqN",
        "outputId": "cfe63cef-2d5e-40e4-f386-f9812d829820"
      },
      "source": [
        "new_customer_DF.head(2)"
      ],
      "execution_count": null,
      "outputs": [
        {
          "output_type": "execute_result",
          "data": {
            "text/html": [
              "<div>\n",
              "<style scoped>\n",
              "    .dataframe tbody tr th:only-of-type {\n",
              "        vertical-align: middle;\n",
              "    }\n",
              "\n",
              "    .dataframe tbody tr th {\n",
              "        vertical-align: top;\n",
              "    }\n",
              "\n",
              "    .dataframe thead th {\n",
              "        text-align: right;\n",
              "    }\n",
              "</style>\n",
              "<table border=\"1\" class=\"dataframe\">\n",
              "  <thead>\n",
              "    <tr style=\"text-align: right;\">\n",
              "      <th></th>\n",
              "      <th>Customer_Id</th>\n",
              "      <th>Recency</th>\n",
              "      <th>Frequency</th>\n",
              "      <th>Monetary</th>\n",
              "      <th>RecencyScore</th>\n",
              "      <th>FrequencyScore</th>\n",
              "      <th>MonetaryScore</th>\n",
              "      <th>CombinedScore</th>\n",
              "      <th>CombinedScoreTotal</th>\n",
              "      <th>levels</th>\n",
              "      <th>Transaction_Age</th>\n",
              "      <th>Gender</th>\n",
              "      <th>State</th>\n",
              "      <th>Quantity_Purchased</th>\n",
              "      <th>Item_Price</th>\n",
              "      <th>Purchased_From</th>\n",
              "      <th>Holiday</th>\n",
              "      <th>Holiday_Name</th>\n",
              "    </tr>\n",
              "  </thead>\n",
              "  <tbody>\n",
              "    <tr>\n",
              "      <th>0</th>\n",
              "      <td>1680</td>\n",
              "      <td>8</td>\n",
              "      <td>446</td>\n",
              "      <td>286070</td>\n",
              "      <td>4</td>\n",
              "      <td>4</td>\n",
              "      <td>3</td>\n",
              "      <td>443</td>\n",
              "      <td>11</td>\n",
              "      <td>High spenders</td>\n",
              "      <td>50.0</td>\n",
              "      <td>F</td>\n",
              "      <td>Mecklenburg-Vorpommern</td>\n",
              "      <td>7</td>\n",
              "      <td>100</td>\n",
              "      <td>online</td>\n",
              "      <td>No</td>\n",
              "      <td>None</td>\n",
              "    </tr>\n",
              "    <tr>\n",
              "      <th>1</th>\n",
              "      <td>1400</td>\n",
              "      <td>2</td>\n",
              "      <td>438</td>\n",
              "      <td>292155</td>\n",
              "      <td>3</td>\n",
              "      <td>3</td>\n",
              "      <td>3</td>\n",
              "      <td>333</td>\n",
              "      <td>9</td>\n",
              "      <td>High spenders</td>\n",
              "      <td>25.0</td>\n",
              "      <td>M</td>\n",
              "      <td>Baden-Württemberg</td>\n",
              "      <td>5</td>\n",
              "      <td>100</td>\n",
              "      <td>showroom</td>\n",
              "      <td>No</td>\n",
              "      <td>None</td>\n",
              "    </tr>\n",
              "  </tbody>\n",
              "</table>\n",
              "</div>"
            ],
            "text/plain": [
              "   Customer_Id  Recency  Frequency  ...  Purchased_From  Holiday  Holiday_Name\n",
              "0         1680        8        446  ...          online       No          None\n",
              "1         1400        2        438  ...        showroom       No          None\n",
              "\n",
              "[2 rows x 18 columns]"
            ]
          },
          "metadata": {
            "tags": []
          },
          "execution_count": 49
        }
      ]
    },
    {
      "cell_type": "code",
      "metadata": {
        "colab": {
          "base_uri": "https://localhost:8080/"
        },
        "id": "KtuREg5B77Ze",
        "outputId": "62e8e91d-c251-45e1-953b-1dd337a6dc9e"
      },
      "source": [
        "# Calculate average age values for each RFM_Level, and return a size of each segment \n",
        "rfm_level_agg = new_customer_DF.groupby('levels').agg({\n",
        "    'Transaction_Age': 'mean',})\n",
        "# Print the aggregated dataset\n",
        "print(rfm_level_agg)\n"
      ],
      "execution_count": null,
      "outputs": [
        {
          "output_type": "stream",
          "text": [
            "               Transaction_Age\n",
            "levels                        \n",
            "High spenders        48.275304\n",
            "Low Spenders         51.274021\n",
            "Mid Spenders         52.089124\n",
            "Risk of churn        51.545455\n"
          ],
          "name": "stdout"
        }
      ]
    },
    {
      "cell_type": "code",
      "metadata": {
        "colab": {
          "base_uri": "https://localhost:8080/"
        },
        "id": "-jCS9k7h77Vr",
        "outputId": "46319729-2b25-452b-9d40-141cf7d7994e"
      },
      "source": [
        "# Calculate average quantity of items purchased for each RFM_Level, and return a size of each segment \n",
        "new_customer_DF.groupby(\"levels\")[\"Quantity_Purchased\"].mean()"
      ],
      "execution_count": null,
      "outputs": [
        {
          "output_type": "execute_result",
          "data": {
            "text/plain": [
              "levels\n",
              "High spenders    5.404858\n",
              "Low Spenders     5.460854\n",
              "Mid Spenders     5.623867\n",
              "Risk of churn    5.385455\n",
              "Name: Quantity_Purchased, dtype: float64"
            ]
          },
          "metadata": {
            "tags": []
          },
          "execution_count": 40
        }
      ]
    },
    {
      "cell_type": "code",
      "metadata": {
        "colab": {
          "base_uri": "https://localhost:8080/"
        },
        "id": "W_Ni9_ZGR9px",
        "outputId": "3f27be49-2a5f-42d2-c021-931fa04be3b3"
      },
      "source": [
        "# Calculate average price of items purchased for each RFM_Level, and return a size of each segment \n",
        "new_customer_DF.groupby(\"levels\")[\"Item_Price\"].mean()"
      ],
      "execution_count": null,
      "outputs": [
        {
          "output_type": "execute_result",
          "data": {
            "text/plain": [
              "levels\n",
              "High spenders    100\n",
              "Low Spenders     100\n",
              "Mid Spenders     100\n",
              "Risk of churn    100\n",
              "Name: Item_Price, dtype: int64"
            ]
          },
          "metadata": {
            "tags": []
          },
          "execution_count": 41
        }
      ]
    },
    {
      "cell_type": "markdown",
      "metadata": {
        "id": "MG98-qmtv__C"
      },
      "source": [
        "**DISTRIBUTION ANALYSIS OF OUR SEGMENTATION USING GENDER, STATE AND QUANTITY PURCHASED COLUMNS**"
      ]
    },
    {
      "cell_type": "code",
      "metadata": {
        "colab": {
          "base_uri": "https://localhost:8080/",
          "height": 419
        },
        "id": "otTRKuxdr1Ft",
        "outputId": "02eeb571-bee2-4f94-908d-e4f0e7fe5529"
      },
      "source": [
        "gender_seg = new_customer_DF[['Customer_Id', 'levels', 'Gender']].groupby(['Customer_Id']).sum().reset_index()\n",
        "gender_seg = gender_seg.sort_values('Customer_Id', ascending = False)\n",
        "gender_seg"
      ],
      "execution_count": null,
      "outputs": [
        {
          "output_type": "execute_result",
          "data": {
            "text/html": [
              "<div>\n",
              "<style scoped>\n",
              "    .dataframe tbody tr th:only-of-type {\n",
              "        vertical-align: middle;\n",
              "    }\n",
              "\n",
              "    .dataframe tbody tr th {\n",
              "        vertical-align: top;\n",
              "    }\n",
              "\n",
              "    .dataframe thead th {\n",
              "        text-align: right;\n",
              "    }\n",
              "</style>\n",
              "<table border=\"1\" class=\"dataframe\">\n",
              "  <thead>\n",
              "    <tr style=\"text-align: right;\">\n",
              "      <th></th>\n",
              "      <th>Customer_Id</th>\n",
              "      <th>levels</th>\n",
              "      <th>Gender</th>\n",
              "    </tr>\n",
              "  </thead>\n",
              "  <tbody>\n",
              "    <tr>\n",
              "      <th>2239</th>\n",
              "      <td>2239</td>\n",
              "      <td>Low Spenders</td>\n",
              "      <td>F</td>\n",
              "    </tr>\n",
              "    <tr>\n",
              "      <th>2238</th>\n",
              "      <td>2238</td>\n",
              "      <td>Low Spenders</td>\n",
              "      <td>M</td>\n",
              "    </tr>\n",
              "    <tr>\n",
              "      <th>2237</th>\n",
              "      <td>2237</td>\n",
              "      <td>Mid Spenders</td>\n",
              "      <td>M</td>\n",
              "    </tr>\n",
              "    <tr>\n",
              "      <th>2236</th>\n",
              "      <td>2236</td>\n",
              "      <td>Risk of churn</td>\n",
              "      <td>F</td>\n",
              "    </tr>\n",
              "    <tr>\n",
              "      <th>2235</th>\n",
              "      <td>2235</td>\n",
              "      <td>High spenders</td>\n",
              "      <td>F</td>\n",
              "    </tr>\n",
              "    <tr>\n",
              "      <th>...</th>\n",
              "      <td>...</td>\n",
              "      <td>...</td>\n",
              "      <td>...</td>\n",
              "    </tr>\n",
              "    <tr>\n",
              "      <th>4</th>\n",
              "      <td>4</td>\n",
              "      <td>High spenders</td>\n",
              "      <td>M</td>\n",
              "    </tr>\n",
              "    <tr>\n",
              "      <th>3</th>\n",
              "      <td>3</td>\n",
              "      <td>Mid Spenders</td>\n",
              "      <td>F</td>\n",
              "    </tr>\n",
              "    <tr>\n",
              "      <th>2</th>\n",
              "      <td>2</td>\n",
              "      <td>High spenders</td>\n",
              "      <td>F</td>\n",
              "    </tr>\n",
              "    <tr>\n",
              "      <th>1</th>\n",
              "      <td>1</td>\n",
              "      <td>Mid Spenders</td>\n",
              "      <td>F</td>\n",
              "    </tr>\n",
              "    <tr>\n",
              "      <th>0</th>\n",
              "      <td>0</td>\n",
              "      <td>Low Spenders</td>\n",
              "      <td>F</td>\n",
              "    </tr>\n",
              "  </tbody>\n",
              "</table>\n",
              "<p>2240 rows × 3 columns</p>\n",
              "</div>"
            ],
            "text/plain": [
              "      Customer_Id         levels Gender\n",
              "2239         2239   Low Spenders      F\n",
              "2238         2238   Low Spenders      M\n",
              "2237         2237   Mid Spenders      M\n",
              "2236         2236  Risk of churn      F\n",
              "2235         2235  High spenders      F\n",
              "...           ...            ...    ...\n",
              "4               4  High spenders      M\n",
              "3               3   Mid Spenders      F\n",
              "2               2  High spenders      F\n",
              "1               1   Mid Spenders      F\n",
              "0               0   Low Spenders      F\n",
              "\n",
              "[2240 rows x 3 columns]"
            ]
          },
          "metadata": {
            "tags": []
          },
          "execution_count": 47
        }
      ]
    },
    {
      "cell_type": "code",
      "metadata": {
        "colab": {
          "base_uri": "https://localhost:8080/",
          "height": 606
        },
        "id": "oeNCAkogfjkB",
        "outputId": "810c6304-22c1-4677-d59c-e2e32bc77965"
      },
      "source": [
        "# INSIGHTS ON CUSTOMER SEGMENTS BASED ON GENDER\n",
        "plt.figure(figsize=(15, 8))\n",
        "gender_seg = new_customer_DF[['Customer_Id', 'levels', 'Gender']].groupby(['Customer_Id']).sum().reset_index()\n",
        "gender_seg = gender_seg.sort_values('Customer_Id', ascending = False)\n",
        "plt.title('customer segments by gender')\n",
        "sns.countplot(new_customer_DF['levels'],\n",
        "hue = new_customer_DF.Gender)\n",
        "plt.show()"
      ],
      "execution_count": null,
      "outputs": [
        {
          "output_type": "stream",
          "text": [
            "/usr/local/lib/python3.7/dist-packages/seaborn/_decorators.py:43: FutureWarning:\n",
            "\n",
            "Pass the following variable as a keyword arg: x. From version 0.12, the only valid positional argument will be `data`, and passing other arguments without an explicit keyword will result in an error or misinterpretation.\n",
            "\n"
          ],
          "name": "stderr"
        },
        {
          "output_type": "display_data",
          "data": {
            "image/png": "[encoded data removed]",
            "text/plain": [
              "<Figure size 1080x576 with 1 Axes>"
            ]
          },
          "metadata": {
            "tags": [],
            "needs_background": "light"
          }
        }
      ]
    },
    {
      "cell_type": "code",
      "metadata": {
        "colab": {
          "base_uri": "https://localhost:8080/",
          "height": 419
        },
        "id": "Fo2fYq26J1KS",
        "outputId": "9d46e457-3320-4e14-c806-a6a926d11406"
      },
      "source": [
        "gender_seg = new_customer_DF[['Customer_Id', 'Gender']].groupby(['Customer_Id']).sum().reset_index()\n",
        "gender_seg = gender_seg.sort_values('Gender', ascending = False)\n",
        "gender_seg"
      ],
      "execution_count": null,
      "outputs": [
        {
          "output_type": "execute_result",
          "data": {
            "text/html": [
              "<div>\n",
              "<style scoped>\n",
              "    .dataframe tbody tr th:only-of-type {\n",
              "        vertical-align: middle;\n",
              "    }\n",
              "\n",
              "    .dataframe tbody tr th {\n",
              "        vertical-align: top;\n",
              "    }\n",
              "\n",
              "    .dataframe thead th {\n",
              "        text-align: right;\n",
              "    }\n",
              "</style>\n",
              "<table border=\"1\" class=\"dataframe\">\n",
              "  <thead>\n",
              "    <tr style=\"text-align: right;\">\n",
              "      <th></th>\n",
              "      <th>Customer_Id</th>\n",
              "      <th>Gender</th>\n",
              "    </tr>\n",
              "  </thead>\n",
              "  <tbody>\n",
              "    <tr>\n",
              "      <th>1120</th>\n",
              "      <td>1120</td>\n",
              "      <td>M</td>\n",
              "    </tr>\n",
              "    <tr>\n",
              "      <th>921</th>\n",
              "      <td>921</td>\n",
              "      <td>M</td>\n",
              "    </tr>\n",
              "    <tr>\n",
              "      <th>1754</th>\n",
              "      <td>1754</td>\n",
              "      <td>M</td>\n",
              "    </tr>\n",
              "    <tr>\n",
              "      <th>941</th>\n",
              "      <td>941</td>\n",
              "      <td>M</td>\n",
              "    </tr>\n",
              "    <tr>\n",
              "      <th>1755</th>\n",
              "      <td>1755</td>\n",
              "      <td>M</td>\n",
              "    </tr>\n",
              "    <tr>\n",
              "      <th>...</th>\n",
              "      <td>...</td>\n",
              "      <td>...</td>\n",
              "    </tr>\n",
              "    <tr>\n",
              "      <th>963</th>\n",
              "      <td>963</td>\n",
              "      <td>F</td>\n",
              "    </tr>\n",
              "    <tr>\n",
              "      <th>960</th>\n",
              "      <td>960</td>\n",
              "      <td>F</td>\n",
              "    </tr>\n",
              "    <tr>\n",
              "      <th>959</th>\n",
              "      <td>959</td>\n",
              "      <td>F</td>\n",
              "    </tr>\n",
              "    <tr>\n",
              "      <th>958</th>\n",
              "      <td>958</td>\n",
              "      <td>F</td>\n",
              "    </tr>\n",
              "    <tr>\n",
              "      <th>2239</th>\n",
              "      <td>2239</td>\n",
              "      <td>F</td>\n",
              "    </tr>\n",
              "  </tbody>\n",
              "</table>\n",
              "<p>2240 rows × 2 columns</p>\n",
              "</div>"
            ],
            "text/plain": [
              "      Customer_Id Gender\n",
              "1120         1120      M\n",
              "921           921      M\n",
              "1754         1754      M\n",
              "941           941      M\n",
              "1755         1755      M\n",
              "...           ...    ...\n",
              "963           963      F\n",
              "960           960      F\n",
              "959           959      F\n",
              "958           958      F\n",
              "2239         2239      F\n",
              "\n",
              "[2240 rows x 2 columns]"
            ]
          },
          "metadata": {
            "tags": []
          },
          "execution_count": 48
        }
      ]
    },
    {
      "cell_type": "markdown",
      "metadata": {
        "id": "u-xcsA0qwSLO"
      },
      "source": [
        "**MORE INSIGHTS ON CUSTOMER SEGMENTS BASED ON STATES**"
      ]
    },
    {
      "cell_type": "code",
      "metadata": {
        "colab": {
          "base_uri": "https://localhost:8080/",
          "height": 419
        },
        "id": "gh_j-28wrOGu",
        "outputId": "99cf2b96-019d-4013-93f1-31bc201bd0a5"
      },
      "source": [
        "# INSIGHTS ON CUSTOMER SEGMENTS BASED ON STATES\n",
        "state_seg = new_customer_DF[['Customer_Id', 'levels', 'State']].groupby(['Customer_Id']).sum().reset_index()\n",
        "state_seg = state_seg.sort_values('Customer_Id', ascending = False)\n",
        "state_seg"
      ],
      "execution_count": null,
      "outputs": [
        {
          "output_type": "execute_result",
          "data": {
            "text/html": [
              "<div>\n",
              "<style scoped>\n",
              "    .dataframe tbody tr th:only-of-type {\n",
              "        vertical-align: middle;\n",
              "    }\n",
              "\n",
              "    .dataframe tbody tr th {\n",
              "        vertical-align: top;\n",
              "    }\n",
              "\n",
              "    .dataframe thead th {\n",
              "        text-align: right;\n",
              "    }\n",
              "</style>\n",
              "<table border=\"1\" class=\"dataframe\">\n",
              "  <thead>\n",
              "    <tr style=\"text-align: right;\">\n",
              "      <th></th>\n",
              "      <th>Customer_Id</th>\n",
              "      <th>levels</th>\n",
              "      <th>State</th>\n",
              "    </tr>\n",
              "  </thead>\n",
              "  <tbody>\n",
              "    <tr>\n",
              "      <th>2239</th>\n",
              "      <td>2239</td>\n",
              "      <td>Low Spenders</td>\n",
              "      <td>Brandenburg</td>\n",
              "    </tr>\n",
              "    <tr>\n",
              "      <th>2238</th>\n",
              "      <td>2238</td>\n",
              "      <td>Low Spenders</td>\n",
              "      <td>Sachsen-Anhalt</td>\n",
              "    </tr>\n",
              "    <tr>\n",
              "      <th>2237</th>\n",
              "      <td>2237</td>\n",
              "      <td>Mid Spenders</td>\n",
              "      <td>Sachsen</td>\n",
              "    </tr>\n",
              "    <tr>\n",
              "      <th>2236</th>\n",
              "      <td>2236</td>\n",
              "      <td>Risk of churn</td>\n",
              "      <td>Hessen</td>\n",
              "    </tr>\n",
              "    <tr>\n",
              "      <th>2235</th>\n",
              "      <td>2235</td>\n",
              "      <td>High spenders</td>\n",
              "      <td>Niedersachsen</td>\n",
              "    </tr>\n",
              "    <tr>\n",
              "      <th>...</th>\n",
              "      <td>...</td>\n",
              "      <td>...</td>\n",
              "      <td>...</td>\n",
              "    </tr>\n",
              "    <tr>\n",
              "      <th>4</th>\n",
              "      <td>4</td>\n",
              "      <td>High spenders</td>\n",
              "      <td>Bayern</td>\n",
              "    </tr>\n",
              "    <tr>\n",
              "      <th>3</th>\n",
              "      <td>3</td>\n",
              "      <td>Mid Spenders</td>\n",
              "      <td>Thüringen</td>\n",
              "    </tr>\n",
              "    <tr>\n",
              "      <th>2</th>\n",
              "      <td>2</td>\n",
              "      <td>High spenders</td>\n",
              "      <td>Sachsen</td>\n",
              "    </tr>\n",
              "    <tr>\n",
              "      <th>1</th>\n",
              "      <td>1</td>\n",
              "      <td>Mid Spenders</td>\n",
              "      <td>Brandenburg</td>\n",
              "    </tr>\n",
              "    <tr>\n",
              "      <th>0</th>\n",
              "      <td>0</td>\n",
              "      <td>Low Spenders</td>\n",
              "      <td>Bayern</td>\n",
              "    </tr>\n",
              "  </tbody>\n",
              "</table>\n",
              "<p>2240 rows × 3 columns</p>\n",
              "</div>"
            ],
            "text/plain": [
              "      Customer_Id         levels           State\n",
              "2239         2239   Low Spenders     Brandenburg\n",
              "2238         2238   Low Spenders  Sachsen-Anhalt\n",
              "2237         2237   Mid Spenders         Sachsen\n",
              "2236         2236  Risk of churn          Hessen\n",
              "2235         2235  High spenders   Niedersachsen\n",
              "...           ...            ...             ...\n",
              "4               4  High spenders          Bayern\n",
              "3               3   Mid Spenders       Thüringen\n",
              "2               2  High spenders         Sachsen\n",
              "1               1   Mid Spenders     Brandenburg\n",
              "0               0   Low Spenders          Bayern\n",
              "\n",
              "[2240 rows x 3 columns]"
            ]
          },
          "metadata": {
            "tags": []
          },
          "execution_count": 49
        }
      ]
    },
    {
      "cell_type": "code",
      "metadata": {
        "colab": {
          "base_uri": "https://localhost:8080/",
          "height": 577
        },
        "id": "KZ45vfK-uOuJ",
        "outputId": "d533dc29-116b-42f3-9867-6d98f2bfb723"
      },
      "source": [
        "\n",
        "plt.figure(figsize=(35, 10))\n",
        "state_seg = new_customer_DF[['Customer_Id', 'levels', 'State']].groupby(['Customer_Id']).sum().reset_index()\n",
        "state_seg = state_seg.sort_values('Customer_Id', ascending = False)\n",
        "plt.title('customer segments by state')\n",
        "sns.countplot(new_customer_DF['State'],\n",
        "hue = new_customer_DF.levels)\n",
        "plt.show()"
      ],
      "execution_count": null,
      "outputs": [
        {
          "output_type": "stream",
          "text": [
            "/usr/local/lib/python3.7/dist-packages/seaborn/_decorators.py:43: FutureWarning:\n",
            "\n",
            "Pass the following variable as a keyword arg: x. From version 0.12, the only valid positional argument will be `data`, and passing other arguments without an explicit keyword will result in an error or misinterpretation.\n",
            "\n"
          ],
          "name": "stderr"
        },
        {
          "output_type": "display_data",
          "data": {
            "image/png": "[encoded data removed]",
            "text/plain": [
              "<Figure size 2520x720 with 1 Axes>"
            ]
          },
          "metadata": {
            "tags": []
          }
        }
      ]
    },
    {
      "cell_type": "markdown",
      "metadata": {
        "id": "cdCbM5VpwZYQ"
      },
      "source": [
        "**MORE INSIGHTS ON CUSTOMER SEGMENTS BASED ON TRANSACTION_AGE**"
      ]
    },
    {
      "cell_type": "code",
      "metadata": {
        "colab": {
          "base_uri": "https://localhost:8080/",
          "height": 173
        },
        "id": "5ATJ_evHVZXK",
        "outputId": "6cae94ac-7590-484d-9e9f-f6b0c7c103b2"
      },
      "source": [
        "quantity_seg = new_customer_DF[['Customer_Id', 'levels', 'Quantity_Purchased']].groupby(['levels']).sum().reset_index()\n",
        "quantity_seg = quantity_seg.sort_values('Quantity_Purchased', ascending = False)\n",
        "quantity_seg"
      ],
      "execution_count": null,
      "outputs": [
        {
          "output_type": "execute_result",
          "data": {
            "text/html": [
              "<div>\n",
              "<style scoped>\n",
              "    .dataframe tbody tr th:only-of-type {\n",
              "        vertical-align: middle;\n",
              "    }\n",
              "\n",
              "    .dataframe tbody tr th {\n",
              "        vertical-align: top;\n",
              "    }\n",
              "\n",
              "    .dataframe thead th {\n",
              "        text-align: right;\n",
              "    }\n",
              "</style>\n",
              "<table border=\"1\" class=\"dataframe\">\n",
              "  <thead>\n",
              "    <tr style=\"text-align: right;\">\n",
              "      <th></th>\n",
              "      <th>levels</th>\n",
              "      <th>Customer_Id</th>\n",
              "      <th>Quantity_Purchased</th>\n",
              "    </tr>\n",
              "  </thead>\n",
              "  <tbody>\n",
              "    <tr>\n",
              "      <th>0</th>\n",
              "      <td>High spenders</td>\n",
              "      <td>820449</td>\n",
              "      <td>4005</td>\n",
              "    </tr>\n",
              "    <tr>\n",
              "      <th>2</th>\n",
              "      <td>Mid Spenders</td>\n",
              "      <td>757850</td>\n",
              "      <td>3723</td>\n",
              "    </tr>\n",
              "    <tr>\n",
              "      <th>1</th>\n",
              "      <td>Low Spenders</td>\n",
              "      <td>626771</td>\n",
              "      <td>3069</td>\n",
              "    </tr>\n",
              "    <tr>\n",
              "      <th>3</th>\n",
              "      <td>Risk of churn</td>\n",
              "      <td>302610</td>\n",
              "      <td>1481</td>\n",
              "    </tr>\n",
              "  </tbody>\n",
              "</table>\n",
              "</div>"
            ],
            "text/plain": [
              "          levels  Customer_Id  Quantity_Purchased\n",
              "0  High spenders       820449                4005\n",
              "2   Mid Spenders       757850                3723\n",
              "1   Low Spenders       626771                3069\n",
              "3  Risk of churn       302610                1481"
            ]
          },
          "metadata": {
            "tags": []
          },
          "execution_count": 72
        }
      ]
    },
    {
      "cell_type": "code",
      "metadata": {
        "id": "vBaW8pCjINTg"
      },
      "source": [
        ""
      ],
      "execution_count": null,
      "outputs": []
    }
  ]
}